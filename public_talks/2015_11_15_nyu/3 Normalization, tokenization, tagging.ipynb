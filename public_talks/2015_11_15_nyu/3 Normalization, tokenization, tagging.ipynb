{
 "cells": [
  {
   "cell_type": "markdown",
   "metadata": {},
   "source": [
    "# Normalize text"
   ]
  },
  {
   "cell_type": "code",
   "execution_count": 1,
   "metadata": {
    "collapsed": false
   },
   "outputs": [],
   "source": [
    "herod_fp = '/Users/kyle/cltk_data/greek/text/tlg/plaintext/TLG0016.txt'\n",
    "\n",
    "with open(herod_fp) as fo:\n",
    "    herod_raw = fo.read()"
   ]
  },
  {
   "cell_type": "code",
   "execution_count": 2,
   "metadata": {
    "collapsed": false
   },
   "outputs": [
    {
     "name": "stdout",
     "output_type": "stream",
     "text": [
      "ρίνασθαι ὡς οὐδὲ ἐκεῖνοι Ἰοῦς τῆς Ἀργείης ἔδοσάν σφι \n",
      "δίκας τῆς ἁρπαγῆς: οὐδὲ ὦν αὐτοὶ δώσειν ἐκείνοισι. Δευ- \n",
      "τέρῃ δὲ λέγουσι γενεῇ μετὰ ταῦτα Ἀλέξανδρον τὸν Πριά-\n",
      "μου ἀκηκοότα ταῦτα ἐθελῆσαί οἱ ἐκ τῆς Ἑλλάδος δι' \n",
      "ἁρπαγῆς γενέσθαι γυναῖκα, ἐπιστάμενον πάντως ὅτι οὐ \n",
      "δώσει δίκας: οὐδὲ γὰρ ἐκείνους διδόναι. Οὕτω δὴ ἁρπά-\n",
      "σαντος αὐτοῦ Ἑλένην, τοῖσι Ἕλλησι δόξαι πρῶτον πέμ-\n",
      "ψαντας ἀγγέλους ἀπαιτέειν τε Ἑλένην καὶ δίκας τῆς \n",
      "ἁρπαγῆς αἰτέειν. Τοὺς δὲ προϊσχομένων ταῦτα προφέρειν \n",
      "σφι Μηδείης τὴν ἁρπ\n"
     ]
    }
   ],
   "source": [
    "print(herod_raw[2000:2500])  # What do we notice needs help?"
   ]
  },
  {
   "cell_type": "code",
   "execution_count": 3,
   "metadata": {
    "collapsed": true
   },
   "outputs": [],
   "source": [
    "from cltk.corpus.utils.formatter import tlg_plaintext_cleanup"
   ]
  },
  {
   "cell_type": "code",
   "execution_count": 4,
   "metadata": {
    "collapsed": true
   },
   "outputs": [],
   "source": [
    "herod_clean = tlg_plaintext_cleanup(herod_raw, rm_punctuation=True, rm_periods=False)"
   ]
  },
  {
   "cell_type": "code",
   "execution_count": 5,
   "metadata": {
    "collapsed": false
   },
   "outputs": [
    {
     "name": "stdout",
     "output_type": "stream",
     "text": [
      "έρῃ δὲ λέγουσι γενεῇ μετὰ ταῦτα Ἀλέξανδρον τὸν Πριάμου ἀκηκοότα ταῦτα ἐθελῆσαί οἱ ἐκ τῆς Ἑλλάδος δι ἁρπαγῆς γενέσθαι γυναῖκα ἐπιστάμενον πάντως ὅτι οὐ δώσει δίκας οὐδὲ γὰρ ἐκείνους διδόναι. Οὕτω δὴ ἁρπάσαντος αὐτοῦ Ἑλένην τοῖσι Ἕλλησι δόξαι πρῶτον πέμψαντας ἀγγέλους ἀπαιτέειν τε Ἑλένην καὶ δίκας τῆς ἁρπαγῆς αἰτέειν. Τοὺς δὲ προϊσχομένων ταῦτα προφέρειν σφι Μηδείης τὴν ἁρπαγήν ὡς οὐ δόντες αὐτοὶ δίκας οὐδὲ ἐκδόντες ἀπαιτεόντων βουλοίατό σφι παρ ἄλλων δίκας γίνεσθαι. Μέχρι μὲν ὦν τούτου ἁρπαγὰς μο\n"
     ]
    }
   ],
   "source": [
    "print(herod_clean[2000:2500])"
   ]
  },
  {
   "cell_type": "markdown",
   "metadata": {},
   "source": [
    "# Tokenize sentences"
   ]
  },
  {
   "cell_type": "code",
   "execution_count": 6,
   "metadata": {
    "collapsed": true
   },
   "outputs": [],
   "source": [
    "from cltk.tokenize.sentence import TokenizeSentence"
   ]
  },
  {
   "cell_type": "code",
   "execution_count": 7,
   "metadata": {
    "collapsed": true
   },
   "outputs": [],
   "source": [
    "tokenizer = TokenizeSentence('greek')"
   ]
  },
  {
   "cell_type": "code",
   "execution_count": 8,
   "metadata": {
    "collapsed": false
   },
   "outputs": [],
   "source": [
    "herod_sents = tokenizer.tokenize_sentences(herod_clean)"
   ]
  },
  {
   "cell_type": "code",
   "execution_count": 9,
   "metadata": {
    "collapsed": false
   },
   "outputs": [
    {
     "name": "stdout",
     "output_type": "stream",
     "text": [
      "[' Ἡροδότου Θουρίου ἱστορίης ἀπόδεξις ἥδε ὡς μήτε τὰ γενόμενα ἐξ ἀνθρώπων τῷ χρόνῳ ἐξίτηλα γένηται μήτε ἔργα μεγάλα τε καὶ θωμαστά τὰ μὲν Ἕλλησι τὰ δὲ βαρβάροισι ἀποδεχθέντα ἀκλέα γένηται τά τε ἄλλα καὶ δι ἣν αἰτίην ἐπολέμησαν ἀλλήλοισι.', 'Περσέων μέν νυν οἱ λόγιοι Φοίνικας αἰτίους φασὶ γενέσθαι τῆς διαφορῆς τούτους γάρ ἀπὸ τῆς Ἐρυθρῆς καλεομένης θαλάσσης ἀπικομένους ἐπὶ τήνδε τὴν θάλασσαν καὶ οἰκήσαντας τοῦτον τὸν χῶρον τὸν καὶ νῦν οἰκέουσι αὐτίκα ναυτιλίῃσι μακρῇσι ἐπιθέσθαι ἀπαγινέοντας δὲ φορτία Αἰγύπτιά τε καὶ Ἀσσύρια τῇ τε ἄλλῃ χώρῃ ἐσαπικνέεσθαι καὶ δὴ καὶ ἐς Ἄργος τὸ δὲ Ἄργος τοῦτον τὸν χρόνον προεῖχε ἅπασι τῶν ἐν τῇ νῦν Ἑλλάδι καλεομένῃ χώρῃ.', 'Ἀπικομένους δὲ τοὺς Φοίνικας ἐς δὴ τὸ Ἄργος τοῦτο διατίθεσθαι τὸν φόρτον.', 'Πέμπτῃ δὲ ἢ ἕκτῃ ἡμέρῃ ἀπ ἧς ἀπίκοντο ἐξεμπολημένων σφι σχεδὸν πάντων ἐλθεῖν ἐπὶ τὴν θάλασσαν γυναῖκας ἄλλας τε πολλὰς καὶ δὴ καὶ τοῦ βασιλέος θυγατέρα τὸ δέ οἱ οὔνομα εἶναι κατὰ τὠυτὸ τὸ καὶ Ἕλληνες λέγουσι Ἰοῦν τὴν Ἰνάχου.', 'Ταύτας στάσας κατὰ πρύμνην τῆς νεὸς ὠνέεσθαι τῶν φορτίων τῶν σφι ἦν θυμὸς μάλιστα καὶ τοὺς Φοίνικας διακελευσαμένους ὁρμῆσαι ἐπ αὐτάς.']\n"
     ]
    }
   ],
   "source": [
    "print(herod_sents[:5])"
   ]
  },
  {
   "cell_type": "code",
   "execution_count": 10,
   "metadata": {
    "collapsed": true
   },
   "outputs": [
    {
     "name": "stdout",
     "output_type": "stream",
     "text": [
      " Ἡροδότου Θουρίου ἱστορίης ἀπόδεξις ἥδε ὡς μήτε τὰ γενόμενα ἐξ ἀνθρώπων τῷ χρόνῳ ἐξίτηλα γένηται μήτε ἔργα μεγάλα τε καὶ θωμαστά τὰ μὲν Ἕλλησι τὰ δὲ βαρβάροισι ἀποδεχθέντα ἀκλέα γένηται τά τε ἄλλα καὶ δι ἣν αἰτίην ἐπολέμησαν ἀλλήλοισι.\n",
      "\n",
      "\n",
      "Περσέων μέν νυν οἱ λόγιοι Φοίνικας αἰτίους φασὶ γενέσθαι τῆς διαφορῆς τούτους γάρ ἀπὸ τῆς Ἐρυθρῆς καλεομένης θαλάσσης ἀπικομένους ἐπὶ τήνδε τὴν θάλασσαν καὶ οἰκήσαντας τοῦτον τὸν χῶρον τὸν καὶ νῦν οἰκέουσι αὐτίκα ναυτιλίῃσι μακρῇσι ἐπιθέσθαι ἀπαγινέοντας δὲ φορτία Αἰγύπτιά τε καὶ Ἀσσύρια τῇ τε ἄλλῃ χώρῃ ἐσαπικνέεσθαι καὶ δὴ καὶ ἐς Ἄργος τὸ δὲ Ἄργος τοῦτον τὸν χρόνον προεῖχε ἅπασι τῶν ἐν τῇ νῦν Ἑλλάδι καλεομένῃ χώρῃ.\n",
      "\n"
     ]
    },
    {
     "ename": "KeyboardInterrupt",
     "evalue": "",
     "output_type": "error",
     "traceback": [
      "\u001b[0;31m---------------------------------------------------------------------------\u001b[0m",
      "\u001b[0;31mKeyboardInterrupt\u001b[0m                         Traceback (most recent call last)",
      "\u001b[0;32m/Users/kyle/cltk/venv/lib/python3.5/site-packages/ipykernel/kernelbase.py\u001b[0m in \u001b[0;36m_input_request\u001b[0;34m(self, prompt, ident, parent, password)\u001b[0m\n\u001b[1;32m    701\u001b[0m             \u001b[0;32mtry\u001b[0m\u001b[0;34m:\u001b[0m\u001b[0;34m\u001b[0m\u001b[0m\n\u001b[0;32m--> 702\u001b[0;31m                 \u001b[0mident\u001b[0m\u001b[0;34m,\u001b[0m \u001b[0mreply\u001b[0m \u001b[0;34m=\u001b[0m \u001b[0mself\u001b[0m\u001b[0;34m.\u001b[0m\u001b[0msession\u001b[0m\u001b[0;34m.\u001b[0m\u001b[0mrecv\u001b[0m\u001b[0;34m(\u001b[0m\u001b[0mself\u001b[0m\u001b[0;34m.\u001b[0m\u001b[0mstdin_socket\u001b[0m\u001b[0;34m,\u001b[0m \u001b[0;36m0\u001b[0m\u001b[0;34m)\u001b[0m\u001b[0;34m\u001b[0m\u001b[0m\n\u001b[0m\u001b[1;32m    703\u001b[0m             \u001b[0;32mexcept\u001b[0m \u001b[0mException\u001b[0m\u001b[0;34m:\u001b[0m\u001b[0;34m\u001b[0m\u001b[0m\n",
      "\u001b[0;32m/Users/kyle/cltk/venv/lib/python3.5/site-packages/jupyter_client/session.py\u001b[0m in \u001b[0;36mrecv\u001b[0;34m(self, socket, mode, content, copy)\u001b[0m\n\u001b[1;32m    730\u001b[0m         \u001b[0;32mtry\u001b[0m\u001b[0;34m:\u001b[0m\u001b[0;34m\u001b[0m\u001b[0m\n\u001b[0;32m--> 731\u001b[0;31m             \u001b[0mmsg_list\u001b[0m \u001b[0;34m=\u001b[0m \u001b[0msocket\u001b[0m\u001b[0;34m.\u001b[0m\u001b[0mrecv_multipart\u001b[0m\u001b[0;34m(\u001b[0m\u001b[0mmode\u001b[0m\u001b[0;34m,\u001b[0m \u001b[0mcopy\u001b[0m\u001b[0;34m=\u001b[0m\u001b[0mcopy\u001b[0m\u001b[0;34m)\u001b[0m\u001b[0;34m\u001b[0m\u001b[0m\n\u001b[0m\u001b[1;32m    732\u001b[0m         \u001b[0;32mexcept\u001b[0m \u001b[0mzmq\u001b[0m\u001b[0;34m.\u001b[0m\u001b[0mZMQError\u001b[0m \u001b[0;32mas\u001b[0m \u001b[0me\u001b[0m\u001b[0;34m:\u001b[0m\u001b[0;34m\u001b[0m\u001b[0m\n",
      "\u001b[0;32m/Users/kyle/cltk/venv/lib/python3.5/site-packages/zmq/sugar/socket.py\u001b[0m in \u001b[0;36mrecv_multipart\u001b[0;34m(self, flags, copy, track)\u001b[0m\n\u001b[1;32m    357\u001b[0m         \"\"\"\n\u001b[0;32m--> 358\u001b[0;31m         \u001b[0mparts\u001b[0m \u001b[0;34m=\u001b[0m \u001b[0;34m[\u001b[0m\u001b[0mself\u001b[0m\u001b[0;34m.\u001b[0m\u001b[0mrecv\u001b[0m\u001b[0;34m(\u001b[0m\u001b[0mflags\u001b[0m\u001b[0;34m,\u001b[0m \u001b[0mcopy\u001b[0m\u001b[0;34m=\u001b[0m\u001b[0mcopy\u001b[0m\u001b[0;34m,\u001b[0m \u001b[0mtrack\u001b[0m\u001b[0;34m=\u001b[0m\u001b[0mtrack\u001b[0m\u001b[0;34m)\u001b[0m\u001b[0;34m]\u001b[0m\u001b[0;34m\u001b[0m\u001b[0m\n\u001b[0m\u001b[1;32m    359\u001b[0m         \u001b[0;31m# have first part already, only loop while more to receive\u001b[0m\u001b[0;34m\u001b[0m\u001b[0;34m\u001b[0m\u001b[0m\n",
      "\u001b[0;32mzmq/backend/cython/socket.pyx\u001b[0m in \u001b[0;36mzmq.backend.cython.socket.Socket.recv (zmq/backend/cython/socket.c:6507)\u001b[0;34m()\u001b[0m\n",
      "\u001b[0;32mzmq/backend/cython/socket.pyx\u001b[0m in \u001b[0;36mzmq.backend.cython.socket.Socket.recv (zmq/backend/cython/socket.c:6307)\u001b[0;34m()\u001b[0m\n",
      "\u001b[0;32mzmq/backend/cython/socket.pyx\u001b[0m in \u001b[0;36mzmq.backend.cython.socket._recv_copy (zmq/backend/cython/socket.c:1877)\u001b[0;34m()\u001b[0m\n",
      "\u001b[0;32m/Users/kyle/cltk/venv/lib/python3.5/site-packages/zmq/backend/cython/checkrc.pxd\u001b[0m in \u001b[0;36mzmq.backend.cython.checkrc._check_rc (zmq/backend/cython/socket.c:6758)\u001b[0;34m()\u001b[0m\n",
      "\u001b[0;31mKeyboardInterrupt\u001b[0m: ",
      "\nDuring handling of the above exception, another exception occurred:\n",
      "\u001b[0;31mKeyboardInterrupt\u001b[0m                         Traceback (most recent call last)",
      "\u001b[0;32m<ipython-input-10-3e8a01c25751>\u001b[0m in \u001b[0;36m<module>\u001b[0;34m()\u001b[0m\n\u001b[1;32m      2\u001b[0m     \u001b[0mprint\u001b[0m\u001b[0;34m(\u001b[0m\u001b[0msent\u001b[0m\u001b[0;34m)\u001b[0m\u001b[0;34m\u001b[0m\u001b[0m\n\u001b[1;32m      3\u001b[0m     \u001b[0mprint\u001b[0m\u001b[0;34m(\u001b[0m\u001b[0;34m)\u001b[0m\u001b[0;34m\u001b[0m\u001b[0m\n\u001b[0;32m----> 4\u001b[0;31m     \u001b[0minput\u001b[0m\u001b[0;34m(\u001b[0m\u001b[0;34m)\u001b[0m\u001b[0;34m\u001b[0m\u001b[0m\n\u001b[0m",
      "\u001b[0;32m/Users/kyle/cltk/venv/lib/python3.5/site-packages/ipykernel/kernelbase.py\u001b[0m in \u001b[0;36mraw_input\u001b[0;34m(self, prompt)\u001b[0m\n\u001b[1;32m    675\u001b[0m             \u001b[0mself\u001b[0m\u001b[0;34m.\u001b[0m\u001b[0m_parent_ident\u001b[0m\u001b[0;34m,\u001b[0m\u001b[0;34m\u001b[0m\u001b[0m\n\u001b[1;32m    676\u001b[0m             \u001b[0mself\u001b[0m\u001b[0;34m.\u001b[0m\u001b[0m_parent_header\u001b[0m\u001b[0;34m,\u001b[0m\u001b[0;34m\u001b[0m\u001b[0m\n\u001b[0;32m--> 677\u001b[0;31m             \u001b[0mpassword\u001b[0m\u001b[0;34m=\u001b[0m\u001b[0;32mFalse\u001b[0m\u001b[0;34m,\u001b[0m\u001b[0;34m\u001b[0m\u001b[0m\n\u001b[0m\u001b[1;32m    678\u001b[0m         )\n\u001b[1;32m    679\u001b[0m \u001b[0;34m\u001b[0m\u001b[0m\n",
      "\u001b[0;32m/Users/kyle/cltk/venv/lib/python3.5/site-packages/ipykernel/kernelbase.py\u001b[0m in \u001b[0;36m_input_request\u001b[0;34m(self, prompt, ident, parent, password)\u001b[0m\n\u001b[1;32m    705\u001b[0m             \u001b[0;32mexcept\u001b[0m \u001b[0mKeyboardInterrupt\u001b[0m\u001b[0;34m:\u001b[0m\u001b[0;34m\u001b[0m\u001b[0m\n\u001b[1;32m    706\u001b[0m                 \u001b[0;31m# re-raise KeyboardInterrupt, to truncate traceback\u001b[0m\u001b[0;34m\u001b[0m\u001b[0;34m\u001b[0m\u001b[0m\n\u001b[0;32m--> 707\u001b[0;31m                 \u001b[0;32mraise\u001b[0m \u001b[0mKeyboardInterrupt\u001b[0m\u001b[0;34m\u001b[0m\u001b[0m\n\u001b[0m\u001b[1;32m    708\u001b[0m             \u001b[0;32melse\u001b[0m\u001b[0;34m:\u001b[0m\u001b[0;34m\u001b[0m\u001b[0m\n\u001b[1;32m    709\u001b[0m                 \u001b[0;32mbreak\u001b[0m\u001b[0;34m\u001b[0m\u001b[0m\n",
      "\u001b[0;31mKeyboardInterrupt\u001b[0m: "
     ]
    }
   ],
   "source": [
    "for sent in herod_sents:\n",
    "    print(sent)\n",
    "    print()\n",
    "    input()"
   ]
  },
  {
   "cell_type": "markdown",
   "metadata": {},
   "source": [
    "# Make word tokens"
   ]
  },
  {
   "cell_type": "code",
   "execution_count": 11,
   "metadata": {
    "collapsed": true
   },
   "outputs": [],
   "source": [
    "from cltk.tokenize.word import nltk_tokenize_words"
   ]
  },
  {
   "cell_type": "code",
   "execution_count": 12,
   "metadata": {
    "collapsed": true
   },
   "outputs": [
    {
     "name": "stdout",
     "output_type": "stream",
     "text": [
      "['Ἡροδότου', 'Θουρίου', 'ἱστορίης', 'ἀπόδεξις', 'ἥδε', 'ὡς', 'μήτε', 'τὰ', 'γενόμενα', 'ἐξ', 'ἀνθρώπων', 'τῷ', 'χρόνῳ', 'ἐξίτηλα', 'γένηται', 'μήτε', 'ἔργα', 'μεγάλα', 'τε', 'καὶ', 'θωμαστά', 'τὰ', 'μὲν', 'Ἕλλησι', 'τὰ', 'δὲ', 'βαρβάροισι', 'ἀποδεχθέντα', 'ἀκλέα', 'γένηται', 'τά', 'τε', 'ἄλλα', 'καὶ', 'δι', 'ἣν', 'αἰτίην', 'ἐπολέμησαν', 'ἀλλήλοισι', '.']\n",
      "\n",
      "['Περσέων', 'μέν', 'νυν', 'οἱ', 'λόγιοι', 'Φοίνικας', 'αἰτίους', 'φασὶ', 'γενέσθαι', 'τῆς', 'διαφορῆς', 'τούτους', 'γάρ', 'ἀπὸ', 'τῆς', 'Ἐρυθρῆς', 'καλεομένης', 'θαλάσσης', 'ἀπικομένους', 'ἐπὶ', 'τήνδε', 'τὴν', 'θάλασσαν', 'καὶ', 'οἰκήσαντας', 'τοῦτον', 'τὸν', 'χῶρον', 'τὸν', 'καὶ', 'νῦν', 'οἰκέουσι', 'αὐτίκα', 'ναυτιλίῃσι', 'μακρῇσι', 'ἐπιθέσθαι', 'ἀπαγινέοντας', 'δὲ', 'φορτία', 'Αἰγύπτιά', 'τε', 'καὶ', 'Ἀσσύρια', 'τῇ', 'τε', 'ἄλλῃ', 'χώρῃ', 'ἐσαπικνέεσθαι', 'καὶ', 'δὴ', 'καὶ', 'ἐς', 'Ἄργος', 'τὸ', 'δὲ', 'Ἄργος', 'τοῦτον', 'τὸν', 'χρόνον', 'προεῖχε', 'ἅπασι', 'τῶν', 'ἐν', 'τῇ', 'νῦν', 'Ἑλλάδι', 'καλεομένῃ', 'χώρῃ', '.']\n",
      "\n",
      "['Ἀπικομένους', 'δὲ', 'τοὺς', 'Φοίνικας', 'ἐς', 'δὴ', 'τὸ', 'Ἄργος', 'τοῦτο', 'διατίθεσθαι', 'τὸν', 'φόρτον', '.']\n"
     ]
    },
    {
     "ename": "KeyboardInterrupt",
     "evalue": "",
     "output_type": "error",
     "traceback": [
      "\u001b[0;31m---------------------------------------------------------------------------\u001b[0m",
      "\u001b[0;31mKeyboardInterrupt\u001b[0m                         Traceback (most recent call last)",
      "\u001b[0;32m/Users/kyle/cltk/venv/lib/python3.5/site-packages/ipykernel/kernelbase.py\u001b[0m in \u001b[0;36m_input_request\u001b[0;34m(self, prompt, ident, parent, password)\u001b[0m\n\u001b[1;32m    701\u001b[0m             \u001b[0;32mtry\u001b[0m\u001b[0;34m:\u001b[0m\u001b[0;34m\u001b[0m\u001b[0m\n\u001b[0;32m--> 702\u001b[0;31m                 \u001b[0mident\u001b[0m\u001b[0;34m,\u001b[0m \u001b[0mreply\u001b[0m \u001b[0;34m=\u001b[0m \u001b[0mself\u001b[0m\u001b[0;34m.\u001b[0m\u001b[0msession\u001b[0m\u001b[0;34m.\u001b[0m\u001b[0mrecv\u001b[0m\u001b[0;34m(\u001b[0m\u001b[0mself\u001b[0m\u001b[0;34m.\u001b[0m\u001b[0mstdin_socket\u001b[0m\u001b[0;34m,\u001b[0m \u001b[0;36m0\u001b[0m\u001b[0;34m)\u001b[0m\u001b[0;34m\u001b[0m\u001b[0m\n\u001b[0m\u001b[1;32m    703\u001b[0m             \u001b[0;32mexcept\u001b[0m \u001b[0mException\u001b[0m\u001b[0;34m:\u001b[0m\u001b[0;34m\u001b[0m\u001b[0m\n",
      "\u001b[0;32m/Users/kyle/cltk/venv/lib/python3.5/site-packages/jupyter_client/session.py\u001b[0m in \u001b[0;36mrecv\u001b[0;34m(self, socket, mode, content, copy)\u001b[0m\n\u001b[1;32m    730\u001b[0m         \u001b[0;32mtry\u001b[0m\u001b[0;34m:\u001b[0m\u001b[0;34m\u001b[0m\u001b[0m\n\u001b[0;32m--> 731\u001b[0;31m             \u001b[0mmsg_list\u001b[0m \u001b[0;34m=\u001b[0m \u001b[0msocket\u001b[0m\u001b[0;34m.\u001b[0m\u001b[0mrecv_multipart\u001b[0m\u001b[0;34m(\u001b[0m\u001b[0mmode\u001b[0m\u001b[0;34m,\u001b[0m \u001b[0mcopy\u001b[0m\u001b[0;34m=\u001b[0m\u001b[0mcopy\u001b[0m\u001b[0;34m)\u001b[0m\u001b[0;34m\u001b[0m\u001b[0m\n\u001b[0m\u001b[1;32m    732\u001b[0m         \u001b[0;32mexcept\u001b[0m \u001b[0mzmq\u001b[0m\u001b[0;34m.\u001b[0m\u001b[0mZMQError\u001b[0m \u001b[0;32mas\u001b[0m \u001b[0me\u001b[0m\u001b[0;34m:\u001b[0m\u001b[0;34m\u001b[0m\u001b[0m\n",
      "\u001b[0;32m/Users/kyle/cltk/venv/lib/python3.5/site-packages/zmq/sugar/socket.py\u001b[0m in \u001b[0;36mrecv_multipart\u001b[0;34m(self, flags, copy, track)\u001b[0m\n\u001b[1;32m    357\u001b[0m         \"\"\"\n\u001b[0;32m--> 358\u001b[0;31m         \u001b[0mparts\u001b[0m \u001b[0;34m=\u001b[0m \u001b[0;34m[\u001b[0m\u001b[0mself\u001b[0m\u001b[0;34m.\u001b[0m\u001b[0mrecv\u001b[0m\u001b[0;34m(\u001b[0m\u001b[0mflags\u001b[0m\u001b[0;34m,\u001b[0m \u001b[0mcopy\u001b[0m\u001b[0;34m=\u001b[0m\u001b[0mcopy\u001b[0m\u001b[0;34m,\u001b[0m \u001b[0mtrack\u001b[0m\u001b[0;34m=\u001b[0m\u001b[0mtrack\u001b[0m\u001b[0;34m)\u001b[0m\u001b[0;34m]\u001b[0m\u001b[0;34m\u001b[0m\u001b[0m\n\u001b[0m\u001b[1;32m    359\u001b[0m         \u001b[0;31m# have first part already, only loop while more to receive\u001b[0m\u001b[0;34m\u001b[0m\u001b[0;34m\u001b[0m\u001b[0m\n",
      "\u001b[0;32mzmq/backend/cython/socket.pyx\u001b[0m in \u001b[0;36mzmq.backend.cython.socket.Socket.recv (zmq/backend/cython/socket.c:6507)\u001b[0;34m()\u001b[0m\n",
      "\u001b[0;32mzmq/backend/cython/socket.pyx\u001b[0m in \u001b[0;36mzmq.backend.cython.socket.Socket.recv (zmq/backend/cython/socket.c:6307)\u001b[0;34m()\u001b[0m\n",
      "\u001b[0;32mzmq/backend/cython/socket.pyx\u001b[0m in \u001b[0;36mzmq.backend.cython.socket._recv_copy (zmq/backend/cython/socket.c:1877)\u001b[0;34m()\u001b[0m\n",
      "\u001b[0;32m/Users/kyle/cltk/venv/lib/python3.5/site-packages/zmq/backend/cython/checkrc.pxd\u001b[0m in \u001b[0;36mzmq.backend.cython.checkrc._check_rc (zmq/backend/cython/socket.c:6758)\u001b[0;34m()\u001b[0m\n",
      "\u001b[0;31mKeyboardInterrupt\u001b[0m: ",
      "\nDuring handling of the above exception, another exception occurred:\n",
      "\u001b[0;31mKeyboardInterrupt\u001b[0m                         Traceback (most recent call last)",
      "\u001b[0;32m<ipython-input-12-474294662b9f>\u001b[0m in \u001b[0;36m<module>\u001b[0;34m()\u001b[0m\n\u001b[1;32m      2\u001b[0m     \u001b[0mwords\u001b[0m \u001b[0;34m=\u001b[0m \u001b[0mnltk_tokenize_words\u001b[0m\u001b[0;34m(\u001b[0m\u001b[0msent\u001b[0m\u001b[0;34m)\u001b[0m\u001b[0;34m\u001b[0m\u001b[0m\n\u001b[1;32m      3\u001b[0m     \u001b[0mprint\u001b[0m\u001b[0;34m(\u001b[0m\u001b[0mwords\u001b[0m\u001b[0;34m)\u001b[0m\u001b[0;34m\u001b[0m\u001b[0m\n\u001b[0;32m----> 4\u001b[0;31m     \u001b[0minput\u001b[0m\u001b[0;34m(\u001b[0m\u001b[0;34m)\u001b[0m\u001b[0;34m\u001b[0m\u001b[0m\n\u001b[0m",
      "\u001b[0;32m/Users/kyle/cltk/venv/lib/python3.5/site-packages/ipykernel/kernelbase.py\u001b[0m in \u001b[0;36mraw_input\u001b[0;34m(self, prompt)\u001b[0m\n\u001b[1;32m    675\u001b[0m             \u001b[0mself\u001b[0m\u001b[0;34m.\u001b[0m\u001b[0m_parent_ident\u001b[0m\u001b[0;34m,\u001b[0m\u001b[0;34m\u001b[0m\u001b[0m\n\u001b[1;32m    676\u001b[0m             \u001b[0mself\u001b[0m\u001b[0;34m.\u001b[0m\u001b[0m_parent_header\u001b[0m\u001b[0;34m,\u001b[0m\u001b[0;34m\u001b[0m\u001b[0m\n\u001b[0;32m--> 677\u001b[0;31m             \u001b[0mpassword\u001b[0m\u001b[0;34m=\u001b[0m\u001b[0;32mFalse\u001b[0m\u001b[0;34m,\u001b[0m\u001b[0;34m\u001b[0m\u001b[0m\n\u001b[0m\u001b[1;32m    678\u001b[0m         )\n\u001b[1;32m    679\u001b[0m \u001b[0;34m\u001b[0m\u001b[0m\n",
      "\u001b[0;32m/Users/kyle/cltk/venv/lib/python3.5/site-packages/ipykernel/kernelbase.py\u001b[0m in \u001b[0;36m_input_request\u001b[0;34m(self, prompt, ident, parent, password)\u001b[0m\n\u001b[1;32m    705\u001b[0m             \u001b[0;32mexcept\u001b[0m \u001b[0mKeyboardInterrupt\u001b[0m\u001b[0;34m:\u001b[0m\u001b[0;34m\u001b[0m\u001b[0m\n\u001b[1;32m    706\u001b[0m                 \u001b[0;31m# re-raise KeyboardInterrupt, to truncate traceback\u001b[0m\u001b[0;34m\u001b[0m\u001b[0;34m\u001b[0m\u001b[0m\n\u001b[0;32m--> 707\u001b[0;31m                 \u001b[0;32mraise\u001b[0m \u001b[0mKeyboardInterrupt\u001b[0m\u001b[0;34m\u001b[0m\u001b[0m\n\u001b[0m\u001b[1;32m    708\u001b[0m             \u001b[0;32melse\u001b[0m\u001b[0;34m:\u001b[0m\u001b[0;34m\u001b[0m\u001b[0m\n\u001b[1;32m    709\u001b[0m                 \u001b[0;32mbreak\u001b[0m\u001b[0;34m\u001b[0m\u001b[0m\n",
      "\u001b[0;31mKeyboardInterrupt\u001b[0m: "
     ]
    }
   ],
   "source": [
    "for sent in herod_sents:\n",
    "    words = nltk_tokenize_words(sent)\n",
    "    print(words)\n",
    "    input()"
   ]
  },
  {
   "cell_type": "markdown",
   "metadata": {},
   "source": [
    "### Tokenize Latin enclitics"
   ]
  },
  {
   "cell_type": "code",
   "execution_count": 13,
   "metadata": {
    "collapsed": false
   },
   "outputs": [],
   "source": [
    "from cltk.corpus.utils.formatter import phi5_plaintext_cleanup\n",
    "from cltk.tokenize.word import WordTokenizer\n",
    "\n",
    "# 'LAT0474': 'Marcus Tullius Cicero, Cicero, Tully',\n",
    "cicero_fp = '/Users/kyle/cltk_data/latin/text/phi5/plaintext/LAT0474.TXT'\n",
    "\n",
    "with open(cicero_fp) as fo:\n",
    "    cicero_raw = fo.read()\n",
    "cicero_clean = phi5_plaintext_cleanup(cicero_raw, rm_punctuation=True, rm_periods=False)   # ~5 sec"
   ]
  },
  {
   "cell_type": "code",
   "execution_count": 14,
   "metadata": {
    "collapsed": false
   },
   "outputs": [
    {
     "name": "stdout",
     "output_type": "stream",
     "text": [
      "mediocria verum ita se res habet ut ego qui neque usu satis et ingenio parum possum cum patrono disertissimo comparer P. Quinctius cui tenues opes nullae facultates exiguae amicorum copiae sunt cum ad\n"
     ]
    }
   ],
   "source": [
    "print(cicero_clean[400:600])"
   ]
  },
  {
   "cell_type": "code",
   "execution_count": 16,
   "metadata": {
    "collapsed": false
   },
   "outputs": [
    {
     "name": "stdout",
     "output_type": "stream",
     "text": [
      "[' Quae res in civitate duae plurimum possunt eae contra nos ambae faciunt in hoc tempore summa gratia et eloquentia quarum alteram C. Aquili vereor alteram metuo.', 'Eloquentia Q. Hortensi ne me in dicendo impediat non nihil commoveor gratia Sex.', 'Naevi ne P. Quinctio noceat id vero non mediocriter pertimesco.']\n"
     ]
    }
   ],
   "source": [
    "sent_tokenizer = TokenizeSentence('latin')\n",
    "cicero_sents = tokenizer.tokenize_sentences(cicero_clean)\n",
    "\n",
    "print(cicero_sents[:3])"
   ]
  },
  {
   "cell_type": "code",
   "execution_count": 21,
   "metadata": {
    "collapsed": true
   },
   "outputs": [
    {
     "name": "stdout",
     "output_type": "stream",
     "text": [
      "['Quae', 'res', 'in', 'civitate', 'duae', 'plurimum', 'possunt', 'eae', 'contra', 'nos', 'ambae', 'faciunt', 'in', 'hoc', 'tempore', 'summa', 'gratia', 'et', 'eloquentia', 'quarum', 'alteram', 'C.', 'Aquili', 'vereor', 'alteram', 'metuo.']\n",
      "\n",
      "['Eloquentia', 'Q.', 'Hortensi', 'ne', 'me', 'in', 'dicendo', 'impediat', 'non', 'nihil', 'commoveor', 'gratia', 'Sex.']\n",
      "\n",
      "['Naevi', 'ne', 'P.', 'Quinctio', 'noceat', 'id', 'vero', 'non', 'mediocriter', 'pertimesco.']\n",
      "\n",
      "['Ne', '-que', 'hoc', 'tanto', 'opere', 'querendum', 'videretur', 'haec', 'summa', 'in', 'illis', 'esse', 'si', 'in', 'nobis', 'essent', 'saltem', 'mediocria', 'verum', 'ita', 'se', 'res', 'habet', 'ut', 'ego', 'qui', 'neque', 'usu', 'satis', 'et', 'ingenio', 'parum', 'possum', 'cum', 'patrono', 'disertissimo', 'comparer', 'P.', 'Quinctius', 'cui', 'tenues', 'opes', 'nullae', 'facultates', 'exiguae', 'amicorum', 'copiae', 'sunt', 'cum', 'adversario', 'gratiosissimo', 'contendat.']\n",
      "\n",
      "['Illud', 'quoque', 'nobis', 'accedit', 'incommodum', 'quod', 'M.', 'Iunius', 'qui', 'hanc', 'causam', 'aliquotiens', 'apud', 'te', 'egit', 'homo', 'et', 'in', 'aliis', 'causis', 'exercitatus', 'et', 'in', 'hac', 'multum', 'ac', 'saepe', 'versatus', 'hoc', 'tempore', 'abest', 'nova', 'legatio', '-ne', 'impeditus', 'et', 'ad', 'me', 'ventum', 'est', 'qui', 'ut', 'summa', 'haberem', 'cetera', 'temporis', 'quidem', 'certe', 'vix', 'satis', 'habui', 'ut', 'rem', 'tantam', 'tot', 'controversiis', 'implicatam', 'possem', 'cognoscere.']\n"
     ]
    },
    {
     "ename": "KeyboardInterrupt",
     "evalue": "",
     "output_type": "error",
     "traceback": [
      "\u001b[0;31m---------------------------------------------------------------------------\u001b[0m",
      "\u001b[0;31mKeyboardInterrupt\u001b[0m                         Traceback (most recent call last)",
      "\u001b[0;32m/Users/kyle/cltk/venv/lib/python3.5/site-packages/ipykernel/kernelbase.py\u001b[0m in \u001b[0;36m_input_request\u001b[0;34m(self, prompt, ident, parent, password)\u001b[0m\n\u001b[1;32m    701\u001b[0m             \u001b[0;32mtry\u001b[0m\u001b[0;34m:\u001b[0m\u001b[0;34m\u001b[0m\u001b[0m\n\u001b[0;32m--> 702\u001b[0;31m                 \u001b[0mident\u001b[0m\u001b[0;34m,\u001b[0m \u001b[0mreply\u001b[0m \u001b[0;34m=\u001b[0m \u001b[0mself\u001b[0m\u001b[0;34m.\u001b[0m\u001b[0msession\u001b[0m\u001b[0;34m.\u001b[0m\u001b[0mrecv\u001b[0m\u001b[0;34m(\u001b[0m\u001b[0mself\u001b[0m\u001b[0;34m.\u001b[0m\u001b[0mstdin_socket\u001b[0m\u001b[0;34m,\u001b[0m \u001b[0;36m0\u001b[0m\u001b[0;34m)\u001b[0m\u001b[0;34m\u001b[0m\u001b[0m\n\u001b[0m\u001b[1;32m    703\u001b[0m             \u001b[0;32mexcept\u001b[0m \u001b[0mException\u001b[0m\u001b[0;34m:\u001b[0m\u001b[0;34m\u001b[0m\u001b[0m\n",
      "\u001b[0;32m/Users/kyle/cltk/venv/lib/python3.5/site-packages/jupyter_client/session.py\u001b[0m in \u001b[0;36mrecv\u001b[0;34m(self, socket, mode, content, copy)\u001b[0m\n\u001b[1;32m    730\u001b[0m         \u001b[0;32mtry\u001b[0m\u001b[0;34m:\u001b[0m\u001b[0;34m\u001b[0m\u001b[0m\n\u001b[0;32m--> 731\u001b[0;31m             \u001b[0mmsg_list\u001b[0m \u001b[0;34m=\u001b[0m \u001b[0msocket\u001b[0m\u001b[0;34m.\u001b[0m\u001b[0mrecv_multipart\u001b[0m\u001b[0;34m(\u001b[0m\u001b[0mmode\u001b[0m\u001b[0;34m,\u001b[0m \u001b[0mcopy\u001b[0m\u001b[0;34m=\u001b[0m\u001b[0mcopy\u001b[0m\u001b[0;34m)\u001b[0m\u001b[0;34m\u001b[0m\u001b[0m\n\u001b[0m\u001b[1;32m    732\u001b[0m         \u001b[0;32mexcept\u001b[0m \u001b[0mzmq\u001b[0m\u001b[0;34m.\u001b[0m\u001b[0mZMQError\u001b[0m \u001b[0;32mas\u001b[0m \u001b[0me\u001b[0m\u001b[0;34m:\u001b[0m\u001b[0;34m\u001b[0m\u001b[0m\n",
      "\u001b[0;32m/Users/kyle/cltk/venv/lib/python3.5/site-packages/zmq/sugar/socket.py\u001b[0m in \u001b[0;36mrecv_multipart\u001b[0;34m(self, flags, copy, track)\u001b[0m\n\u001b[1;32m    357\u001b[0m         \"\"\"\n\u001b[0;32m--> 358\u001b[0;31m         \u001b[0mparts\u001b[0m \u001b[0;34m=\u001b[0m \u001b[0;34m[\u001b[0m\u001b[0mself\u001b[0m\u001b[0;34m.\u001b[0m\u001b[0mrecv\u001b[0m\u001b[0;34m(\u001b[0m\u001b[0mflags\u001b[0m\u001b[0;34m,\u001b[0m \u001b[0mcopy\u001b[0m\u001b[0;34m=\u001b[0m\u001b[0mcopy\u001b[0m\u001b[0;34m,\u001b[0m \u001b[0mtrack\u001b[0m\u001b[0;34m=\u001b[0m\u001b[0mtrack\u001b[0m\u001b[0;34m)\u001b[0m\u001b[0;34m]\u001b[0m\u001b[0;34m\u001b[0m\u001b[0m\n\u001b[0m\u001b[1;32m    359\u001b[0m         \u001b[0;31m# have first part already, only loop while more to receive\u001b[0m\u001b[0;34m\u001b[0m\u001b[0;34m\u001b[0m\u001b[0m\n",
      "\u001b[0;32mzmq/backend/cython/socket.pyx\u001b[0m in \u001b[0;36mzmq.backend.cython.socket.Socket.recv (zmq/backend/cython/socket.c:6507)\u001b[0;34m()\u001b[0m\n",
      "\u001b[0;32mzmq/backend/cython/socket.pyx\u001b[0m in \u001b[0;36mzmq.backend.cython.socket.Socket.recv (zmq/backend/cython/socket.c:6307)\u001b[0;34m()\u001b[0m\n",
      "\u001b[0;32mzmq/backend/cython/socket.pyx\u001b[0m in \u001b[0;36mzmq.backend.cython.socket._recv_copy (zmq/backend/cython/socket.c:1877)\u001b[0;34m()\u001b[0m\n",
      "\u001b[0;32m/Users/kyle/cltk/venv/lib/python3.5/site-packages/zmq/backend/cython/checkrc.pxd\u001b[0m in \u001b[0;36mzmq.backend.cython.checkrc._check_rc (zmq/backend/cython/socket.c:6758)\u001b[0;34m()\u001b[0m\n",
      "\u001b[0;31mKeyboardInterrupt\u001b[0m: ",
      "\nDuring handling of the above exception, another exception occurred:\n",
      "\u001b[0;31mKeyboardInterrupt\u001b[0m                         Traceback (most recent call last)",
      "\u001b[0;32m<ipython-input-21-0fcae3643cfc>\u001b[0m in \u001b[0;36m<module>\u001b[0;34m()\u001b[0m\n\u001b[1;32m      6\u001b[0m     \u001b[0mprint\u001b[0m\u001b[0;34m(\u001b[0m\u001b[0msub_words\u001b[0m\u001b[0;34m)\u001b[0m\u001b[0;34m\u001b[0m\u001b[0m\n\u001b[1;32m      7\u001b[0m \u001b[0;34m\u001b[0m\u001b[0m\n\u001b[0;32m----> 8\u001b[0;31m     \u001b[0minput\u001b[0m\u001b[0;34m(\u001b[0m\u001b[0;34m)\u001b[0m\u001b[0;34m\u001b[0m\u001b[0m\n\u001b[0m",
      "\u001b[0;32m/Users/kyle/cltk/venv/lib/python3.5/site-packages/ipykernel/kernelbase.py\u001b[0m in \u001b[0;36mraw_input\u001b[0;34m(self, prompt)\u001b[0m\n\u001b[1;32m    675\u001b[0m             \u001b[0mself\u001b[0m\u001b[0;34m.\u001b[0m\u001b[0m_parent_ident\u001b[0m\u001b[0;34m,\u001b[0m\u001b[0;34m\u001b[0m\u001b[0m\n\u001b[1;32m    676\u001b[0m             \u001b[0mself\u001b[0m\u001b[0;34m.\u001b[0m\u001b[0m_parent_header\u001b[0m\u001b[0;34m,\u001b[0m\u001b[0;34m\u001b[0m\u001b[0m\n\u001b[0;32m--> 677\u001b[0;31m             \u001b[0mpassword\u001b[0m\u001b[0;34m=\u001b[0m\u001b[0;32mFalse\u001b[0m\u001b[0;34m,\u001b[0m\u001b[0;34m\u001b[0m\u001b[0m\n\u001b[0m\u001b[1;32m    678\u001b[0m         )\n\u001b[1;32m    679\u001b[0m \u001b[0;34m\u001b[0m\u001b[0m\n",
      "\u001b[0;32m/Users/kyle/cltk/venv/lib/python3.5/site-packages/ipykernel/kernelbase.py\u001b[0m in \u001b[0;36m_input_request\u001b[0;34m(self, prompt, ident, parent, password)\u001b[0m\n\u001b[1;32m    705\u001b[0m             \u001b[0;32mexcept\u001b[0m \u001b[0mKeyboardInterrupt\u001b[0m\u001b[0;34m:\u001b[0m\u001b[0;34m\u001b[0m\u001b[0m\n\u001b[1;32m    706\u001b[0m                 \u001b[0;31m# re-raise KeyboardInterrupt, to truncate traceback\u001b[0m\u001b[0;34m\u001b[0m\u001b[0;34m\u001b[0m\u001b[0m\n\u001b[0;32m--> 707\u001b[0;31m                 \u001b[0;32mraise\u001b[0m \u001b[0mKeyboardInterrupt\u001b[0m\u001b[0;34m\u001b[0m\u001b[0m\n\u001b[0m\u001b[1;32m    708\u001b[0m             \u001b[0;32melse\u001b[0m\u001b[0;34m:\u001b[0m\u001b[0;34m\u001b[0m\u001b[0m\n\u001b[1;32m    709\u001b[0m                 \u001b[0;32mbreak\u001b[0m\u001b[0;34m\u001b[0m\u001b[0m\n",
      "\u001b[0;31mKeyboardInterrupt\u001b[0m: "
     ]
    }
   ],
   "source": [
    "word_tokenizer = WordTokenizer('latin')  # Patrick's tokenizer\n",
    "\n",
    "for sent in cicero_sents:\n",
    "    #words = nltk_tokenize_words(sent)\n",
    "    sub_words = word_tokenizer.tokenize(sent)\n",
    "    print(sub_words)\n",
    "    \n",
    "    input()"
   ]
  },
  {
   "cell_type": "markdown",
   "metadata": {},
   "source": [
    "# POS Tagging"
   ]
  },
  {
   "cell_type": "code",
   "execution_count": 25,
   "metadata": {
    "collapsed": false,
    "scrolled": true
   },
   "outputs": [
    {
     "name": "stdout",
     "output_type": "stream",
     "text": [
      "[('Ἡροδότου', None), ('Θουρίου', None), ('ἱστορίης', None), ('ἀπόδεξις', None), ('ἥδε', 'P-S---FN-'), ('ὡς', 'D--------'), ('μήτε', None), ('τὰ', 'L-P---NA-'), ('γενόμενα', None), ('ἐξ', 'R--------'), ('ἀνθρώπων', None), ('τῷ', 'P-S---MD-'), ('χρόνῳ', None), ('ἐξίτηλα', None), ('γένηται', None), ('μήτε', None), ('ἔργα', 'N-P---NA-'), ('μεγάλα', None), ('τε', 'G--------'), ('καὶ', 'C--------'), ('θωμαστά', None), ('τὰ', 'L-P---NA-'), ('μὲν', 'G--------'), ('Ἕλλησι', None), ('τὰ', 'L-P---NA-'), ('δὲ', 'G--------'), ('βαρβάροισι', None), ('ἀποδεχθέντα', None), ('ἀκλέα', None), ('γένηται', None), ('τά', None), ('τε', 'G--------'), ('ἄλλα', 'A-P---NA-'), ('καὶ', 'C--------'), ('δι', None), ('ἣν', 'P-S---FA-'), ('αἰτίην', None), ('ἐπολέμησαν', None), ('ἀλλήλοισι', None), ('.', 'U--------')]\n",
      "\n",
      "[('Περσέων', None), ('μέν', None), ('νυν', 'D--------'), ('οἱ', 'P-S---MD-'), ('λόγιοι', None), ('Φοίνικας', None), ('αἰτίους', None), ('φασὶ', 'V3PPIA---'), ('γενέσθαι', None), ('τῆς', 'L-S---FG-'), ('διαφορῆς', None), ('τούτους', None), ('γάρ', None), ('ἀπὸ', 'R--------'), ('τῆς', 'L-S---FG-'), ('Ἐρυθρῆς', None), ('καλεομένης', None), ('θαλάσσης', None), ('ἀπικομένους', None), ('ἐπὶ', 'R--------'), ('τήνδε', None), ('τὴν', 'P-S---FA-'), ('θάλασσαν', None), ('καὶ', 'C--------'), ('οἰκήσαντας', None), ('τοῦτον', 'A-S---MA-'), ('τὸν', 'P-S---MA-'), ('χῶρον', 'N-S---MA-'), ('τὸν', 'P-S---MA-'), ('καὶ', 'C--------'), ('νῦν', 'D--------'), ('οἰκέουσι', None), ('αὐτίκα', None), ('ναυτιλίῃσι', None), ('μακρῇσι', 'A-P---FD-'), ('ἐπιθέσθαι', None), ('ἀπαγινέοντας', None), ('δὲ', 'G--------'), ('φορτία', None), ('Αἰγύπτιά', None), ('τε', 'G--------'), ('καὶ', 'C--------'), ('Ἀσσύρια', None), ('τῇ', 'P-S---FD-'), ('τε', 'G--------'), ('ἄλλῃ', 'D--------'), ('χώρῃ', None), ('ἐσαπικνέεσθαι', None), ('καὶ', 'C--------'), ('δὴ', 'G--------'), ('καὶ', 'C--------'), ('ἐς', 'R--------'), ('Ἄργος', None), ('τὸ', 'L-S---NA-'), ('δὲ', 'G--------'), ('Ἄργος', None), ('τοῦτον', 'A-S---MA-'), ('τὸν', 'P-S---MA-'), ('χρόνον', None), ('προεῖχε', None), ('ἅπασι', 'A-P---MD-'), ('τῶν', 'L-P---MG-'), ('ἐν', 'R--------'), ('τῇ', 'P-S---FD-'), ('νῦν', 'D--------'), ('Ἑλλάδι', None), ('καλεομένῃ', None), ('χώρῃ', None), ('.', 'U--------')]\n",
      "\n",
      "[('Ἀπικομένους', None), ('δὲ', 'G--------'), ('τοὺς', 'P-P---MA-'), ('Φοίνικας', None), ('ἐς', 'R--------'), ('δὴ', 'G--------'), ('τὸ', 'L-S---NA-'), ('Ἄργος', None), ('τοῦτο', 'A-S---NA-'), ('διατίθεσθαι', None), ('τὸν', 'P-S---MA-'), ('φόρτον', None), ('.', 'U--------')]\n"
     ]
    },
    {
     "ename": "KeyboardInterrupt",
     "evalue": "",
     "output_type": "error",
     "traceback": [
      "\u001b[0;31m---------------------------------------------------------------------------\u001b[0m",
      "\u001b[0;31mKeyboardInterrupt\u001b[0m                         Traceback (most recent call last)",
      "\u001b[0;32m/Users/kyle/cltk/venv/lib/python3.5/site-packages/ipykernel/kernelbase.py\u001b[0m in \u001b[0;36m_input_request\u001b[0;34m(self, prompt, ident, parent, password)\u001b[0m\n\u001b[1;32m    701\u001b[0m             \u001b[0;32mtry\u001b[0m\u001b[0;34m:\u001b[0m\u001b[0;34m\u001b[0m\u001b[0m\n\u001b[0;32m--> 702\u001b[0;31m                 \u001b[0mident\u001b[0m\u001b[0;34m,\u001b[0m \u001b[0mreply\u001b[0m \u001b[0;34m=\u001b[0m \u001b[0mself\u001b[0m\u001b[0;34m.\u001b[0m\u001b[0msession\u001b[0m\u001b[0;34m.\u001b[0m\u001b[0mrecv\u001b[0m\u001b[0;34m(\u001b[0m\u001b[0mself\u001b[0m\u001b[0;34m.\u001b[0m\u001b[0mstdin_socket\u001b[0m\u001b[0;34m,\u001b[0m \u001b[0;36m0\u001b[0m\u001b[0;34m)\u001b[0m\u001b[0;34m\u001b[0m\u001b[0m\n\u001b[0m\u001b[1;32m    703\u001b[0m             \u001b[0;32mexcept\u001b[0m \u001b[0mException\u001b[0m\u001b[0;34m:\u001b[0m\u001b[0;34m\u001b[0m\u001b[0m\n",
      "\u001b[0;32m/Users/kyle/cltk/venv/lib/python3.5/site-packages/jupyter_client/session.py\u001b[0m in \u001b[0;36mrecv\u001b[0;34m(self, socket, mode, content, copy)\u001b[0m\n\u001b[1;32m    730\u001b[0m         \u001b[0;32mtry\u001b[0m\u001b[0;34m:\u001b[0m\u001b[0;34m\u001b[0m\u001b[0m\n\u001b[0;32m--> 731\u001b[0;31m             \u001b[0mmsg_list\u001b[0m \u001b[0;34m=\u001b[0m \u001b[0msocket\u001b[0m\u001b[0;34m.\u001b[0m\u001b[0mrecv_multipart\u001b[0m\u001b[0;34m(\u001b[0m\u001b[0mmode\u001b[0m\u001b[0;34m,\u001b[0m \u001b[0mcopy\u001b[0m\u001b[0;34m=\u001b[0m\u001b[0mcopy\u001b[0m\u001b[0;34m)\u001b[0m\u001b[0;34m\u001b[0m\u001b[0m\n\u001b[0m\u001b[1;32m    732\u001b[0m         \u001b[0;32mexcept\u001b[0m \u001b[0mzmq\u001b[0m\u001b[0;34m.\u001b[0m\u001b[0mZMQError\u001b[0m \u001b[0;32mas\u001b[0m \u001b[0me\u001b[0m\u001b[0;34m:\u001b[0m\u001b[0;34m\u001b[0m\u001b[0m\n",
      "\u001b[0;32m/Users/kyle/cltk/venv/lib/python3.5/site-packages/zmq/sugar/socket.py\u001b[0m in \u001b[0;36mrecv_multipart\u001b[0;34m(self, flags, copy, track)\u001b[0m\n\u001b[1;32m    357\u001b[0m         \"\"\"\n\u001b[0;32m--> 358\u001b[0;31m         \u001b[0mparts\u001b[0m \u001b[0;34m=\u001b[0m \u001b[0;34m[\u001b[0m\u001b[0mself\u001b[0m\u001b[0;34m.\u001b[0m\u001b[0mrecv\u001b[0m\u001b[0;34m(\u001b[0m\u001b[0mflags\u001b[0m\u001b[0;34m,\u001b[0m \u001b[0mcopy\u001b[0m\u001b[0;34m=\u001b[0m\u001b[0mcopy\u001b[0m\u001b[0;34m,\u001b[0m \u001b[0mtrack\u001b[0m\u001b[0;34m=\u001b[0m\u001b[0mtrack\u001b[0m\u001b[0;34m)\u001b[0m\u001b[0;34m]\u001b[0m\u001b[0;34m\u001b[0m\u001b[0m\n\u001b[0m\u001b[1;32m    359\u001b[0m         \u001b[0;31m# have first part already, only loop while more to receive\u001b[0m\u001b[0;34m\u001b[0m\u001b[0;34m\u001b[0m\u001b[0m\n",
      "\u001b[0;32mzmq/backend/cython/socket.pyx\u001b[0m in \u001b[0;36mzmq.backend.cython.socket.Socket.recv (zmq/backend/cython/socket.c:6507)\u001b[0;34m()\u001b[0m\n",
      "\u001b[0;32mzmq/backend/cython/socket.pyx\u001b[0m in \u001b[0;36mzmq.backend.cython.socket.Socket.recv (zmq/backend/cython/socket.c:6307)\u001b[0;34m()\u001b[0m\n",
      "\u001b[0;32mzmq/backend/cython/socket.pyx\u001b[0m in \u001b[0;36mzmq.backend.cython.socket._recv_copy (zmq/backend/cython/socket.c:1877)\u001b[0;34m()\u001b[0m\n",
      "\u001b[0;32m/Users/kyle/cltk/venv/lib/python3.5/site-packages/zmq/backend/cython/checkrc.pxd\u001b[0m in \u001b[0;36mzmq.backend.cython.checkrc._check_rc (zmq/backend/cython/socket.c:6758)\u001b[0;34m()\u001b[0m\n",
      "\u001b[0;31mKeyboardInterrupt\u001b[0m: ",
      "\nDuring handling of the above exception, another exception occurred:\n",
      "\u001b[0;31mKeyboardInterrupt\u001b[0m                         Traceback (most recent call last)",
      "\u001b[0;32m<ipython-input-25-3de90ac17e26>\u001b[0m in \u001b[0;36m<module>\u001b[0;34m()\u001b[0m\n\u001b[1;32m      6\u001b[0m     \u001b[0mtagged_text\u001b[0m \u001b[0;34m=\u001b[0m \u001b[0mtagger\u001b[0m\u001b[0;34m.\u001b[0m\u001b[0mtag_unigram\u001b[0m\u001b[0;34m(\u001b[0m\u001b[0msent\u001b[0m\u001b[0;34m)\u001b[0m\u001b[0;34m\u001b[0m\u001b[0m\n\u001b[1;32m      7\u001b[0m     \u001b[0mprint\u001b[0m\u001b[0;34m(\u001b[0m\u001b[0mtagged_text\u001b[0m\u001b[0;34m)\u001b[0m\u001b[0;34m\u001b[0m\u001b[0m\n\u001b[0;32m----> 8\u001b[0;31m     \u001b[0minput\u001b[0m\u001b[0;34m(\u001b[0m\u001b[0;34m)\u001b[0m\u001b[0;34m\u001b[0m\u001b[0m\n\u001b[0m",
      "\u001b[0;32m/Users/kyle/cltk/venv/lib/python3.5/site-packages/ipykernel/kernelbase.py\u001b[0m in \u001b[0;36mraw_input\u001b[0;34m(self, prompt)\u001b[0m\n\u001b[1;32m    675\u001b[0m             \u001b[0mself\u001b[0m\u001b[0;34m.\u001b[0m\u001b[0m_parent_ident\u001b[0m\u001b[0;34m,\u001b[0m\u001b[0;34m\u001b[0m\u001b[0m\n\u001b[1;32m    676\u001b[0m             \u001b[0mself\u001b[0m\u001b[0;34m.\u001b[0m\u001b[0m_parent_header\u001b[0m\u001b[0;34m,\u001b[0m\u001b[0;34m\u001b[0m\u001b[0m\n\u001b[0;32m--> 677\u001b[0;31m             \u001b[0mpassword\u001b[0m\u001b[0;34m=\u001b[0m\u001b[0;32mFalse\u001b[0m\u001b[0;34m,\u001b[0m\u001b[0;34m\u001b[0m\u001b[0m\n\u001b[0m\u001b[1;32m    678\u001b[0m         )\n\u001b[1;32m    679\u001b[0m \u001b[0;34m\u001b[0m\u001b[0m\n",
      "\u001b[0;32m/Users/kyle/cltk/venv/lib/python3.5/site-packages/ipykernel/kernelbase.py\u001b[0m in \u001b[0;36m_input_request\u001b[0;34m(self, prompt, ident, parent, password)\u001b[0m\n\u001b[1;32m    705\u001b[0m             \u001b[0;32mexcept\u001b[0m \u001b[0mKeyboardInterrupt\u001b[0m\u001b[0;34m:\u001b[0m\u001b[0;34m\u001b[0m\u001b[0m\n\u001b[1;32m    706\u001b[0m                 \u001b[0;31m# re-raise KeyboardInterrupt, to truncate traceback\u001b[0m\u001b[0;34m\u001b[0m\u001b[0;34m\u001b[0m\u001b[0m\n\u001b[0;32m--> 707\u001b[0;31m                 \u001b[0;32mraise\u001b[0m \u001b[0mKeyboardInterrupt\u001b[0m\u001b[0;34m\u001b[0m\u001b[0m\n\u001b[0m\u001b[1;32m    708\u001b[0m             \u001b[0;32melse\u001b[0m\u001b[0;34m:\u001b[0m\u001b[0;34m\u001b[0m\u001b[0m\n\u001b[1;32m    709\u001b[0m                 \u001b[0;32mbreak\u001b[0m\u001b[0;34m\u001b[0m\u001b[0m\n",
      "\u001b[0;31mKeyboardInterrupt\u001b[0m: "
     ]
    }
   ],
   "source": [
    "from cltk.tag.pos import POSTag\n",
    "tagger = POSTag('greek')\n",
    "\n",
    "# Heordotus again\n",
    "for sent in herod_sents:\n",
    "    tagged_text = tagger.tag_unigram(sent)\n",
    "    print(tagged_text)\n",
    "    input()"
   ]
  },
  {
   "cell_type": "markdown",
   "metadata": {},
   "source": [
    "# NER"
   ]
  },
  {
   "cell_type": "code",
   "execution_count": 29,
   "metadata": {
    "collapsed": true
   },
   "outputs": [
    {
     "name": "stdout",
     "output_type": "stream",
     "text": [
      "[('Quae',), ('res',), ('in',), ('civitate',), ('duae',), ('plurimum',), ('possunt',), ('eae',), ('contra',), ('nos',), ('ambae',), ('faciunt',), ('in',), ('hoc',), ('tempore',), ('summa',), ('gratia',), ('et',), ('eloquentia',), ('quarum',), ('alteram',), ('C',), ('.',), ('Aquili', 'Entity'), ('vereor',), ('alteram',), ('metuo',), ('.',)]\n",
      "\n",
      "[('Eloquentia',), ('Q',), ('.',), ('Hortensi', 'Entity'), ('ne',), ('me',), ('in',), ('dicendo',), ('impediat',), ('non',), ('nihil',), ('commoveor',), ('gratia',), ('Sex', 'Entity'), ('.',)]\n",
      "\n",
      "[('Naevi',), ('ne',), ('P',), ('.',), ('Quinctio', 'Entity'), ('noceat',), ('id',), ('vero',), ('non',), ('mediocriter',), ('pertimesco',), ('.',)]\n",
      "\n",
      "[('Neque',), ('hoc',), ('tanto',), ('opere',), ('querendum',), ('videretur',), ('haec',), ('summa',), ('in',), ('illis',), ('esse',), ('si',), ('in',), ('nobis',), ('essent',), ('saltem',), ('mediocria',), ('verum',), ('ita',), ('se',), ('res',), ('habet',), ('ut',), ('ego',), ('qui',), ('neque',), ('usu',), ('satis',), ('et',), ('ingenio',), ('parum',), ('possum',), ('cum',), ('patrono',), ('disertissimo',), ('comparer',), ('P',), ('.',), ('Quinctius', 'Entity'), ('cui',), ('tenues',), ('opes',), ('nullae',), ('facultates',), ('exiguae',), ('amicorum',), ('copiae',), ('sunt',), ('cum',), ('adversario',), ('gratiosissimo',), ('contendat',), ('.',)]\n"
     ]
    },
    {
     "ename": "KeyboardInterrupt",
     "evalue": "",
     "output_type": "error",
     "traceback": [
      "\u001b[0;31m---------------------------------------------------------------------------\u001b[0m",
      "\u001b[0;31mKeyboardInterrupt\u001b[0m                         Traceback (most recent call last)",
      "\u001b[0;32m/Users/kyle/cltk/venv/lib/python3.5/site-packages/ipykernel/kernelbase.py\u001b[0m in \u001b[0;36m_input_request\u001b[0;34m(self, prompt, ident, parent, password)\u001b[0m\n\u001b[1;32m    701\u001b[0m             \u001b[0;32mtry\u001b[0m\u001b[0;34m:\u001b[0m\u001b[0;34m\u001b[0m\u001b[0m\n\u001b[0;32m--> 702\u001b[0;31m                 \u001b[0mident\u001b[0m\u001b[0;34m,\u001b[0m \u001b[0mreply\u001b[0m \u001b[0;34m=\u001b[0m \u001b[0mself\u001b[0m\u001b[0;34m.\u001b[0m\u001b[0msession\u001b[0m\u001b[0;34m.\u001b[0m\u001b[0mrecv\u001b[0m\u001b[0;34m(\u001b[0m\u001b[0mself\u001b[0m\u001b[0;34m.\u001b[0m\u001b[0mstdin_socket\u001b[0m\u001b[0;34m,\u001b[0m \u001b[0;36m0\u001b[0m\u001b[0;34m)\u001b[0m\u001b[0;34m\u001b[0m\u001b[0m\n\u001b[0m\u001b[1;32m    703\u001b[0m             \u001b[0;32mexcept\u001b[0m \u001b[0mException\u001b[0m\u001b[0;34m:\u001b[0m\u001b[0;34m\u001b[0m\u001b[0m\n",
      "\u001b[0;32m/Users/kyle/cltk/venv/lib/python3.5/site-packages/jupyter_client/session.py\u001b[0m in \u001b[0;36mrecv\u001b[0;34m(self, socket, mode, content, copy)\u001b[0m\n\u001b[1;32m    730\u001b[0m         \u001b[0;32mtry\u001b[0m\u001b[0;34m:\u001b[0m\u001b[0;34m\u001b[0m\u001b[0m\n\u001b[0;32m--> 731\u001b[0;31m             \u001b[0mmsg_list\u001b[0m \u001b[0;34m=\u001b[0m \u001b[0msocket\u001b[0m\u001b[0;34m.\u001b[0m\u001b[0mrecv_multipart\u001b[0m\u001b[0;34m(\u001b[0m\u001b[0mmode\u001b[0m\u001b[0;34m,\u001b[0m \u001b[0mcopy\u001b[0m\u001b[0;34m=\u001b[0m\u001b[0mcopy\u001b[0m\u001b[0;34m)\u001b[0m\u001b[0;34m\u001b[0m\u001b[0m\n\u001b[0m\u001b[1;32m    732\u001b[0m         \u001b[0;32mexcept\u001b[0m \u001b[0mzmq\u001b[0m\u001b[0;34m.\u001b[0m\u001b[0mZMQError\u001b[0m \u001b[0;32mas\u001b[0m \u001b[0me\u001b[0m\u001b[0;34m:\u001b[0m\u001b[0;34m\u001b[0m\u001b[0m\n",
      "\u001b[0;32m/Users/kyle/cltk/venv/lib/python3.5/site-packages/zmq/sugar/socket.py\u001b[0m in \u001b[0;36mrecv_multipart\u001b[0;34m(self, flags, copy, track)\u001b[0m\n\u001b[1;32m    357\u001b[0m         \"\"\"\n\u001b[0;32m--> 358\u001b[0;31m         \u001b[0mparts\u001b[0m \u001b[0;34m=\u001b[0m \u001b[0;34m[\u001b[0m\u001b[0mself\u001b[0m\u001b[0;34m.\u001b[0m\u001b[0mrecv\u001b[0m\u001b[0;34m(\u001b[0m\u001b[0mflags\u001b[0m\u001b[0;34m,\u001b[0m \u001b[0mcopy\u001b[0m\u001b[0;34m=\u001b[0m\u001b[0mcopy\u001b[0m\u001b[0;34m,\u001b[0m \u001b[0mtrack\u001b[0m\u001b[0;34m=\u001b[0m\u001b[0mtrack\u001b[0m\u001b[0;34m)\u001b[0m\u001b[0;34m]\u001b[0m\u001b[0;34m\u001b[0m\u001b[0m\n\u001b[0m\u001b[1;32m    359\u001b[0m         \u001b[0;31m# have first part already, only loop while more to receive\u001b[0m\u001b[0;34m\u001b[0m\u001b[0;34m\u001b[0m\u001b[0m\n",
      "\u001b[0;32mzmq/backend/cython/socket.pyx\u001b[0m in \u001b[0;36mzmq.backend.cython.socket.Socket.recv (zmq/backend/cython/socket.c:6507)\u001b[0;34m()\u001b[0m\n",
      "\u001b[0;32mzmq/backend/cython/socket.pyx\u001b[0m in \u001b[0;36mzmq.backend.cython.socket.Socket.recv (zmq/backend/cython/socket.c:6307)\u001b[0;34m()\u001b[0m\n",
      "\u001b[0;32mzmq/backend/cython/socket.pyx\u001b[0m in \u001b[0;36mzmq.backend.cython.socket._recv_copy (zmq/backend/cython/socket.c:1877)\u001b[0;34m()\u001b[0m\n",
      "\u001b[0;32m/Users/kyle/cltk/venv/lib/python3.5/site-packages/zmq/backend/cython/checkrc.pxd\u001b[0m in \u001b[0;36mzmq.backend.cython.checkrc._check_rc (zmq/backend/cython/socket.c:6758)\u001b[0;34m()\u001b[0m\n",
      "\u001b[0;31mKeyboardInterrupt\u001b[0m: ",
      "\nDuring handling of the above exception, another exception occurred:\n",
      "\u001b[0;31mKeyboardInterrupt\u001b[0m                         Traceback (most recent call last)",
      "\u001b[0;32m<ipython-input-29-34acbd162649>\u001b[0m in \u001b[0;36m<module>\u001b[0;34m()\u001b[0m\n\u001b[1;32m      6\u001b[0m     \u001b[0mner_tags\u001b[0m \u001b[0;34m=\u001b[0m \u001b[0mner\u001b[0m\u001b[0;34m.\u001b[0m\u001b[0mtag_ner\u001b[0m\u001b[0;34m(\u001b[0m\u001b[0;34m'latin'\u001b[0m\u001b[0;34m,\u001b[0m \u001b[0minput_text\u001b[0m\u001b[0;34m=\u001b[0m\u001b[0msent\u001b[0m\u001b[0;34m,\u001b[0m \u001b[0moutput_type\u001b[0m\u001b[0;34m=\u001b[0m\u001b[0mlist\u001b[0m\u001b[0;34m)\u001b[0m\u001b[0;34m\u001b[0m\u001b[0m\n\u001b[1;32m      7\u001b[0m     \u001b[0mprint\u001b[0m\u001b[0;34m(\u001b[0m\u001b[0mner_tags\u001b[0m\u001b[0;34m)\u001b[0m\u001b[0;34m\u001b[0m\u001b[0m\n\u001b[0;32m----> 8\u001b[0;31m     \u001b[0minput\u001b[0m\u001b[0;34m(\u001b[0m\u001b[0;34m)\u001b[0m\u001b[0;34m\u001b[0m\u001b[0m\n\u001b[0m",
      "\u001b[0;32m/Users/kyle/cltk/venv/lib/python3.5/site-packages/ipykernel/kernelbase.py\u001b[0m in \u001b[0;36mraw_input\u001b[0;34m(self, prompt)\u001b[0m\n\u001b[1;32m    675\u001b[0m             \u001b[0mself\u001b[0m\u001b[0;34m.\u001b[0m\u001b[0m_parent_ident\u001b[0m\u001b[0;34m,\u001b[0m\u001b[0;34m\u001b[0m\u001b[0m\n\u001b[1;32m    676\u001b[0m             \u001b[0mself\u001b[0m\u001b[0;34m.\u001b[0m\u001b[0m_parent_header\u001b[0m\u001b[0;34m,\u001b[0m\u001b[0;34m\u001b[0m\u001b[0m\n\u001b[0;32m--> 677\u001b[0;31m             \u001b[0mpassword\u001b[0m\u001b[0;34m=\u001b[0m\u001b[0;32mFalse\u001b[0m\u001b[0;34m,\u001b[0m\u001b[0;34m\u001b[0m\u001b[0m\n\u001b[0m\u001b[1;32m    678\u001b[0m         )\n\u001b[1;32m    679\u001b[0m \u001b[0;34m\u001b[0m\u001b[0m\n",
      "\u001b[0;32m/Users/kyle/cltk/venv/lib/python3.5/site-packages/ipykernel/kernelbase.py\u001b[0m in \u001b[0;36m_input_request\u001b[0;34m(self, prompt, ident, parent, password)\u001b[0m\n\u001b[1;32m    705\u001b[0m             \u001b[0;32mexcept\u001b[0m \u001b[0mKeyboardInterrupt\u001b[0m\u001b[0;34m:\u001b[0m\u001b[0;34m\u001b[0m\u001b[0m\n\u001b[1;32m    706\u001b[0m                 \u001b[0;31m# re-raise KeyboardInterrupt, to truncate traceback\u001b[0m\u001b[0;34m\u001b[0m\u001b[0;34m\u001b[0m\u001b[0m\n\u001b[0;32m--> 707\u001b[0;31m                 \u001b[0;32mraise\u001b[0m \u001b[0mKeyboardInterrupt\u001b[0m\u001b[0;34m\u001b[0m\u001b[0m\n\u001b[0m\u001b[1;32m    708\u001b[0m             \u001b[0;32melse\u001b[0m\u001b[0;34m:\u001b[0m\u001b[0;34m\u001b[0m\u001b[0m\n\u001b[1;32m    709\u001b[0m                 \u001b[0;32mbreak\u001b[0m\u001b[0;34m\u001b[0m\u001b[0m\n",
      "\u001b[0;31mKeyboardInterrupt\u001b[0m: "
     ]
    }
   ],
   "source": [
    "## Latin -- decent, but see M, P, etc\n",
    "from cltk.tag import ner\n",
    "\n",
    "# Heordotus again\n",
    "for sent in cicero_sents:\n",
    "    ner_tags = ner.tag_ner('latin', input_text=sent, output_type=list)\n",
    "    print(ner_tags)\n",
    "    input()"
   ]
  },
  {
   "cell_type": "code",
   "execution_count": 27,
   "metadata": {
    "collapsed": true
   },
   "outputs": [
    {
     "name": "stdout",
     "output_type": "stream",
     "text": [
      "[('Ἡροδότου',), ('Θουρίου',), ('ἱστορίης',), ('ἀπόδεξις',), ('ἥδε',), ('ὡς',), ('μήτε',), ('τὰ',), ('γενόμενα',), ('ἐξ',), ('ἀνθρώπων',), ('τῷ',), ('χρόνῳ',), ('ἐξίτηλα',), ('γένηται',), ('μήτε',), ('ἔργα',), ('μεγάλα',), ('τε',), ('καὶ',), ('θωμαστά',), ('τὰ',), ('μὲν',), ('Ἕλλησι', 'Entity'), ('τὰ',), ('δὲ',), ('βαρβάροισι',), ('ἀποδεχθέντα',), ('ἀκλέα',), ('γένηται',), ('τά',), ('τε',), ('ἄλλα',), ('καὶ',), ('δι',), ('ἣν',), ('αἰτίην',), ('ἐπολέμησαν',), ('ἀλλήλοισι',), ('.',)]\n",
      "\n",
      "[('Περσέων',), ('μέν',), ('νυν',), ('οἱ',), ('λόγιοι',), ('Φοίνικας',), ('αἰτίους',), ('φασὶ',), ('γενέσθαι',), ('τῆς',), ('διαφορῆς',), ('τούτους',), ('γάρ',), ('ἀπὸ',), ('τῆς',), ('Ἐρυθρῆς', 'Entity'), ('καλεομένης',), ('θαλάσσης',), ('ἀπικομένους',), ('ἐπὶ',), ('τήνδε',), ('τὴν',), ('θάλασσαν',), ('καὶ',), ('οἰκήσαντας',), ('τοῦτον',), ('τὸν',), ('χῶρον',), ('τὸν',), ('καὶ',), ('νῦν',), ('οἰκέουσι',), ('αὐτίκα',), ('ναυτιλίῃσι',), ('μακρῇσι',), ('ἐπιθέσθαι',), ('ἀπαγινέοντας',), ('δὲ',), ('φορτία',), ('Αἰγύπτιά',), ('τε',), ('καὶ',), ('Ἀσσύρια',), ('τῇ',), ('τε',), ('ἄλλῃ',), ('χώρῃ',), ('ἐσαπικνέεσθαι',), ('καὶ',), ('δὴ',), ('καὶ',), ('ἐς',), ('Ἄργος', 'Entity'), ('τὸ',), ('δὲ',), ('Ἄργος', 'Entity'), ('τοῦτον',), ('τὸν',), ('χρόνον',), ('προεῖχε',), ('ἅπασι',), ('τῶν',), ('ἐν',), ('τῇ',), ('νῦν',), ('Ἑλλάδι',), ('καλεομένῃ',), ('χώρῃ',), ('.',)]\n",
      "\n",
      "[('Ἀπικομένους',), ('δὲ',), ('τοὺς',), ('Φοίνικας',), ('ἐς',), ('δὴ',), ('τὸ',), ('Ἄργος', 'Entity'), ('τοῦτο',), ('διατίθεσθαι',), ('τὸν',), ('φόρτον',), ('.',)]\n",
      "\n",
      "[('Πέμπτῃ',), ('δὲ',), ('ἢ',), ('ἕκτῃ',), ('ἡμέρῃ',), ('ἀπ',), ('ἧς',), ('ἀπίκοντο',), ('ἐξεμπολημένων',), ('σφι',), ('σχεδὸν',), ('πάντων',), ('ἐλθεῖν',), ('ἐπὶ',), ('τὴν',), ('θάλασσαν',), ('γυναῖκας',), ('ἄλλας',), ('τε',), ('πολλὰς',), ('καὶ',), ('δὴ',), ('καὶ',), ('τοῦ',), ('βασιλέος',), ('θυγατέρα',), ('τὸ',), ('δέ',), ('οἱ',), ('οὔνομα',), ('εἶναι',), ('κατὰ',), ('τὠυτὸ',), ('τὸ',), ('καὶ',), ('Ἕλληνες', 'Entity'), ('λέγουσι',), ('Ἰοῦν', 'Entity'), ('τὴν',), ('Ἰνάχου',), ('.',)]\n",
      "\n",
      "[('Ταύτας',), ('στάσας',), ('κατὰ',), ('πρύμνην',), ('τῆς',), ('νεὸς',), ('ὠνέεσθαι',), ('τῶν',), ('φορτίων',), ('τῶν',), ('σφι',), ('ἦν',), ('θυμὸς',), ('μάλιστα',), ('καὶ',), ('τοὺς',), ('Φοίνικας',), ('διακελευσαμένους',), ('ὁρμῆσαι',), ('ἐπ',), ('αὐτάς',), ('.',)]\n",
      "\n",
      "[('Τὰς', 'Entity'), ('μὲν',), ('δὴ',), ('πλέονας',), ('τῶν',), ('γυναικῶν',), ('ἀποφυγεῖν',), ('τὴν',), ('δὲ',), ('Ἰοῦν', 'Entity'), ('σὺν',), ('ἄλλῃσι',), ('ἁρπασθῆναι',), ('ἐσβαλομένους',), ('δὲ',), ('ἐς',), ('τὴν',), ('νέα',), ('οἴχεσθαι',), ('ἀποπλέοντας',), ('ἐπ',), ('Αἰγύπτου',), ('.',)]\n"
     ]
    },
    {
     "ename": "KeyboardInterrupt",
     "evalue": "",
     "output_type": "error",
     "traceback": [
      "\u001b[0;31m---------------------------------------------------------------------------\u001b[0m",
      "\u001b[0;31mKeyboardInterrupt\u001b[0m                         Traceback (most recent call last)",
      "\u001b[0;32m/Users/kyle/cltk/venv/lib/python3.5/site-packages/ipykernel/kernelbase.py\u001b[0m in \u001b[0;36m_input_request\u001b[0;34m(self, prompt, ident, parent, password)\u001b[0m\n\u001b[1;32m    701\u001b[0m             \u001b[0;32mtry\u001b[0m\u001b[0;34m:\u001b[0m\u001b[0;34m\u001b[0m\u001b[0m\n\u001b[0;32m--> 702\u001b[0;31m                 \u001b[0mident\u001b[0m\u001b[0;34m,\u001b[0m \u001b[0mreply\u001b[0m \u001b[0;34m=\u001b[0m \u001b[0mself\u001b[0m\u001b[0;34m.\u001b[0m\u001b[0msession\u001b[0m\u001b[0;34m.\u001b[0m\u001b[0mrecv\u001b[0m\u001b[0;34m(\u001b[0m\u001b[0mself\u001b[0m\u001b[0;34m.\u001b[0m\u001b[0mstdin_socket\u001b[0m\u001b[0;34m,\u001b[0m \u001b[0;36m0\u001b[0m\u001b[0;34m)\u001b[0m\u001b[0;34m\u001b[0m\u001b[0m\n\u001b[0m\u001b[1;32m    703\u001b[0m             \u001b[0;32mexcept\u001b[0m \u001b[0mException\u001b[0m\u001b[0;34m:\u001b[0m\u001b[0;34m\u001b[0m\u001b[0m\n",
      "\u001b[0;32m/Users/kyle/cltk/venv/lib/python3.5/site-packages/jupyter_client/session.py\u001b[0m in \u001b[0;36mrecv\u001b[0;34m(self, socket, mode, content, copy)\u001b[0m\n\u001b[1;32m    730\u001b[0m         \u001b[0;32mtry\u001b[0m\u001b[0;34m:\u001b[0m\u001b[0;34m\u001b[0m\u001b[0m\n\u001b[0;32m--> 731\u001b[0;31m             \u001b[0mmsg_list\u001b[0m \u001b[0;34m=\u001b[0m \u001b[0msocket\u001b[0m\u001b[0;34m.\u001b[0m\u001b[0mrecv_multipart\u001b[0m\u001b[0;34m(\u001b[0m\u001b[0mmode\u001b[0m\u001b[0;34m,\u001b[0m \u001b[0mcopy\u001b[0m\u001b[0;34m=\u001b[0m\u001b[0mcopy\u001b[0m\u001b[0;34m)\u001b[0m\u001b[0;34m\u001b[0m\u001b[0m\n\u001b[0m\u001b[1;32m    732\u001b[0m         \u001b[0;32mexcept\u001b[0m \u001b[0mzmq\u001b[0m\u001b[0;34m.\u001b[0m\u001b[0mZMQError\u001b[0m \u001b[0;32mas\u001b[0m \u001b[0me\u001b[0m\u001b[0;34m:\u001b[0m\u001b[0;34m\u001b[0m\u001b[0m\n",
      "\u001b[0;32m/Users/kyle/cltk/venv/lib/python3.5/site-packages/zmq/sugar/socket.py\u001b[0m in \u001b[0;36mrecv_multipart\u001b[0;34m(self, flags, copy, track)\u001b[0m\n\u001b[1;32m    357\u001b[0m         \"\"\"\n\u001b[0;32m--> 358\u001b[0;31m         \u001b[0mparts\u001b[0m \u001b[0;34m=\u001b[0m \u001b[0;34m[\u001b[0m\u001b[0mself\u001b[0m\u001b[0;34m.\u001b[0m\u001b[0mrecv\u001b[0m\u001b[0;34m(\u001b[0m\u001b[0mflags\u001b[0m\u001b[0;34m,\u001b[0m \u001b[0mcopy\u001b[0m\u001b[0;34m=\u001b[0m\u001b[0mcopy\u001b[0m\u001b[0;34m,\u001b[0m \u001b[0mtrack\u001b[0m\u001b[0;34m=\u001b[0m\u001b[0mtrack\u001b[0m\u001b[0;34m)\u001b[0m\u001b[0;34m]\u001b[0m\u001b[0;34m\u001b[0m\u001b[0m\n\u001b[0m\u001b[1;32m    359\u001b[0m         \u001b[0;31m# have first part already, only loop while more to receive\u001b[0m\u001b[0;34m\u001b[0m\u001b[0;34m\u001b[0m\u001b[0m\n",
      "\u001b[0;32mzmq/backend/cython/socket.pyx\u001b[0m in \u001b[0;36mzmq.backend.cython.socket.Socket.recv (zmq/backend/cython/socket.c:6507)\u001b[0;34m()\u001b[0m\n",
      "\u001b[0;32mzmq/backend/cython/socket.pyx\u001b[0m in \u001b[0;36mzmq.backend.cython.socket.Socket.recv (zmq/backend/cython/socket.c:6307)\u001b[0;34m()\u001b[0m\n",
      "\u001b[0;32mzmq/backend/cython/socket.pyx\u001b[0m in \u001b[0;36mzmq.backend.cython.socket._recv_copy (zmq/backend/cython/socket.c:1877)\u001b[0;34m()\u001b[0m\n",
      "\u001b[0;32m/Users/kyle/cltk/venv/lib/python3.5/site-packages/zmq/backend/cython/checkrc.pxd\u001b[0m in \u001b[0;36mzmq.backend.cython.checkrc._check_rc (zmq/backend/cython/socket.c:6758)\u001b[0;34m()\u001b[0m\n",
      "\u001b[0;31mKeyboardInterrupt\u001b[0m: ",
      "\nDuring handling of the above exception, another exception occurred:\n",
      "\u001b[0;31mKeyboardInterrupt\u001b[0m                         Traceback (most recent call last)",
      "\u001b[0;32m<ipython-input-27-ad3ff4dad6a4>\u001b[0m in \u001b[0;36m<module>\u001b[0;34m()\u001b[0m\n\u001b[1;32m      5\u001b[0m     \u001b[0mner_tags\u001b[0m \u001b[0;34m=\u001b[0m \u001b[0mner\u001b[0m\u001b[0;34m.\u001b[0m\u001b[0mtag_ner\u001b[0m\u001b[0;34m(\u001b[0m\u001b[0;34m'greek'\u001b[0m\u001b[0;34m,\u001b[0m \u001b[0minput_text\u001b[0m\u001b[0;34m=\u001b[0m\u001b[0msent\u001b[0m\u001b[0;34m,\u001b[0m \u001b[0moutput_type\u001b[0m\u001b[0;34m=\u001b[0m\u001b[0mlist\u001b[0m\u001b[0;34m)\u001b[0m\u001b[0;34m\u001b[0m\u001b[0m\n\u001b[1;32m      6\u001b[0m     \u001b[0mprint\u001b[0m\u001b[0;34m(\u001b[0m\u001b[0mner_tags\u001b[0m\u001b[0;34m)\u001b[0m\u001b[0;34m\u001b[0m\u001b[0m\n\u001b[0;32m----> 7\u001b[0;31m     \u001b[0minput\u001b[0m\u001b[0;34m(\u001b[0m\u001b[0;34m)\u001b[0m\u001b[0;34m\u001b[0m\u001b[0m\n\u001b[0m",
      "\u001b[0;32m/Users/kyle/cltk/venv/lib/python3.5/site-packages/ipykernel/kernelbase.py\u001b[0m in \u001b[0;36mraw_input\u001b[0;34m(self, prompt)\u001b[0m\n\u001b[1;32m    675\u001b[0m             \u001b[0mself\u001b[0m\u001b[0;34m.\u001b[0m\u001b[0m_parent_ident\u001b[0m\u001b[0;34m,\u001b[0m\u001b[0;34m\u001b[0m\u001b[0m\n\u001b[1;32m    676\u001b[0m             \u001b[0mself\u001b[0m\u001b[0;34m.\u001b[0m\u001b[0m_parent_header\u001b[0m\u001b[0;34m,\u001b[0m\u001b[0;34m\u001b[0m\u001b[0m\n\u001b[0;32m--> 677\u001b[0;31m             \u001b[0mpassword\u001b[0m\u001b[0;34m=\u001b[0m\u001b[0;32mFalse\u001b[0m\u001b[0;34m,\u001b[0m\u001b[0;34m\u001b[0m\u001b[0m\n\u001b[0m\u001b[1;32m    678\u001b[0m         )\n\u001b[1;32m    679\u001b[0m \u001b[0;34m\u001b[0m\u001b[0m\n",
      "\u001b[0;32m/Users/kyle/cltk/venv/lib/python3.5/site-packages/ipykernel/kernelbase.py\u001b[0m in \u001b[0;36m_input_request\u001b[0;34m(self, prompt, ident, parent, password)\u001b[0m\n\u001b[1;32m    705\u001b[0m             \u001b[0;32mexcept\u001b[0m \u001b[0mKeyboardInterrupt\u001b[0m\u001b[0;34m:\u001b[0m\u001b[0;34m\u001b[0m\u001b[0m\n\u001b[1;32m    706\u001b[0m                 \u001b[0;31m# re-raise KeyboardInterrupt, to truncate traceback\u001b[0m\u001b[0;34m\u001b[0m\u001b[0;34m\u001b[0m\u001b[0m\n\u001b[0;32m--> 707\u001b[0;31m                 \u001b[0;32mraise\u001b[0m \u001b[0mKeyboardInterrupt\u001b[0m\u001b[0;34m\u001b[0m\u001b[0m\n\u001b[0m\u001b[1;32m    708\u001b[0m             \u001b[0;32melse\u001b[0m\u001b[0;34m:\u001b[0m\u001b[0;34m\u001b[0m\u001b[0m\n\u001b[1;32m    709\u001b[0m                 \u001b[0;32mbreak\u001b[0m\u001b[0;34m\u001b[0m\u001b[0m\n",
      "\u001b[0;31mKeyboardInterrupt\u001b[0m: "
     ]
    }
   ],
   "source": [
    "# Greek -- not as good!\n",
    "from cltk.tag import ner\n",
    "\n",
    "# Heordotus again\n",
    "for sent in herod_sents:\n",
    "    ner_tags = ner.tag_ner('greek', input_text=sent, output_type=list)\n",
    "    print(ner_tags)\n",
    "    input()"
   ]
  },
  {
   "cell_type": "markdown",
   "metadata": {},
   "source": [
    "# Stopword filtering"
   ]
  },
  {
   "cell_type": "code",
   "execution_count": 33,
   "metadata": {
    "collapsed": true
   },
   "outputs": [
    {
     "name": "stdout",
     "output_type": "stream",
     "text": [
      "W/ STOPS ['Ἡροδότου', 'Θουρίου', 'ἱστορίης', 'ἀπόδεξις', 'ἥδε', 'ὡς', 'μήτε', 'τὰ', 'γενόμενα', 'ἐξ', 'ἀνθρώπων', 'τῷ', 'χρόνῳ', 'ἐξίτηλα', 'γένηται', 'μήτε', 'ἔργα', 'μεγάλα', 'τε', 'καὶ', 'θωμαστά', 'τὰ', 'μὲν', 'Ἕλλησι', 'τὰ', 'δὲ', 'βαρβάροισι', 'ἀποδεχθέντα', 'ἀκλέα', 'γένηται', 'τά', 'τε', 'ἄλλα', 'καὶ', 'δι', 'ἣν', 'αἰτίην', 'ἐπολέμησαν', 'ἀλλήλοισι', '.']\n",
      "W/O STOPS ['Ἡροδότου', 'Θουρίου', 'ἱστορίης', 'ἀπόδεξις', 'ἥδε', 'μήτε', 'γενόμενα', 'ἀνθρώπων', 'χρόνῳ', 'ἐξίτηλα', 'γένηται', 'μήτε', 'ἔργα', 'μεγάλα', 'θωμαστά', 'Ἕλλησι', 'βαρβάροισι', 'ἀποδεχθέντα', 'ἀκλέα', 'γένηται', 'ἄλλα', 'δι', 'ἣν', 'αἰτίην', 'ἐπολέμησαν', 'ἀλλήλοισι', '.']\n",
      "\n",
      "W/ STOPS ['Περσέων', 'μέν', 'νυν', 'οἱ', 'λόγιοι', 'Φοίνικας', 'αἰτίους', 'φασὶ', 'γενέσθαι', 'τῆς', 'διαφορῆς', 'τούτους', 'γάρ', 'ἀπὸ', 'τῆς', 'Ἐρυθρῆς', 'καλεομένης', 'θαλάσσης', 'ἀπικομένους', 'ἐπὶ', 'τήνδε', 'τὴν', 'θάλασσαν', 'καὶ', 'οἰκήσαντας', 'τοῦτον', 'τὸν', 'χῶρον', 'τὸν', 'καὶ', 'νῦν', 'οἰκέουσι', 'αὐτίκα', 'ναυτιλίῃσι', 'μακρῇσι', 'ἐπιθέσθαι', 'ἀπαγινέοντας', 'δὲ', 'φορτία', 'Αἰγύπτιά', 'τε', 'καὶ', 'Ἀσσύρια', 'τῇ', 'τε', 'ἄλλῃ', 'χώρῃ', 'ἐσαπικνέεσθαι', 'καὶ', 'δὴ', 'καὶ', 'ἐς', 'Ἄργος', 'τὸ', 'δὲ', 'Ἄργος', 'τοῦτον', 'τὸν', 'χρόνον', 'προεῖχε', 'ἅπασι', 'τῶν', 'ἐν', 'τῇ', 'νῦν', 'Ἑλλάδι', 'καλεομένῃ', 'χώρῃ', '.']\n",
      "W/O STOPS ['Περσέων', 'νυν', 'λόγιοι', 'Φοίνικας', 'αἰτίους', 'φασὶ', 'γενέσθαι', 'διαφορῆς', 'τούτους', 'Ἐρυθρῆς', 'καλεομένης', 'θαλάσσης', 'ἀπικομένους', 'τήνδε', 'θάλασσαν', 'οἰκήσαντας', 'τοῦτον', 'χῶρον', 'νῦν', 'οἰκέουσι', 'αὐτίκα', 'ναυτιλίῃσι', 'μακρῇσι', 'ἐπιθέσθαι', 'ἀπαγινέοντας', 'φορτία', 'Αἰγύπτιά', 'Ἀσσύρια', 'ἄλλῃ', 'χώρῃ', 'ἐσαπικνέεσθαι', 'ἐς', 'Ἄργος', 'Ἄργος', 'τοῦτον', 'χρόνον', 'προεῖχε', 'ἅπασι', 'νῦν', 'Ἑλλάδι', 'καλεομένῃ', 'χώρῃ', '.']\n"
     ]
    },
    {
     "ename": "KeyboardInterrupt",
     "evalue": "",
     "output_type": "error",
     "traceback": [
      "\u001b[0;31m---------------------------------------------------------------------------\u001b[0m",
      "\u001b[0;31mKeyboardInterrupt\u001b[0m                         Traceback (most recent call last)",
      "\u001b[0;32m/Users/kyle/cltk/venv/lib/python3.5/site-packages/ipykernel/kernelbase.py\u001b[0m in \u001b[0;36m_input_request\u001b[0;34m(self, prompt, ident, parent, password)\u001b[0m\n\u001b[1;32m    701\u001b[0m             \u001b[0;32mtry\u001b[0m\u001b[0;34m:\u001b[0m\u001b[0;34m\u001b[0m\u001b[0m\n\u001b[0;32m--> 702\u001b[0;31m                 \u001b[0mident\u001b[0m\u001b[0;34m,\u001b[0m \u001b[0mreply\u001b[0m \u001b[0;34m=\u001b[0m \u001b[0mself\u001b[0m\u001b[0;34m.\u001b[0m\u001b[0msession\u001b[0m\u001b[0;34m.\u001b[0m\u001b[0mrecv\u001b[0m\u001b[0;34m(\u001b[0m\u001b[0mself\u001b[0m\u001b[0;34m.\u001b[0m\u001b[0mstdin_socket\u001b[0m\u001b[0;34m,\u001b[0m \u001b[0;36m0\u001b[0m\u001b[0;34m)\u001b[0m\u001b[0;34m\u001b[0m\u001b[0m\n\u001b[0m\u001b[1;32m    703\u001b[0m             \u001b[0;32mexcept\u001b[0m \u001b[0mException\u001b[0m\u001b[0;34m:\u001b[0m\u001b[0;34m\u001b[0m\u001b[0m\n",
      "\u001b[0;32m/Users/kyle/cltk/venv/lib/python3.5/site-packages/jupyter_client/session.py\u001b[0m in \u001b[0;36mrecv\u001b[0;34m(self, socket, mode, content, copy)\u001b[0m\n\u001b[1;32m    730\u001b[0m         \u001b[0;32mtry\u001b[0m\u001b[0;34m:\u001b[0m\u001b[0;34m\u001b[0m\u001b[0m\n\u001b[0;32m--> 731\u001b[0;31m             \u001b[0mmsg_list\u001b[0m \u001b[0;34m=\u001b[0m \u001b[0msocket\u001b[0m\u001b[0;34m.\u001b[0m\u001b[0mrecv_multipart\u001b[0m\u001b[0;34m(\u001b[0m\u001b[0mmode\u001b[0m\u001b[0;34m,\u001b[0m \u001b[0mcopy\u001b[0m\u001b[0;34m=\u001b[0m\u001b[0mcopy\u001b[0m\u001b[0;34m)\u001b[0m\u001b[0;34m\u001b[0m\u001b[0m\n\u001b[0m\u001b[1;32m    732\u001b[0m         \u001b[0;32mexcept\u001b[0m \u001b[0mzmq\u001b[0m\u001b[0;34m.\u001b[0m\u001b[0mZMQError\u001b[0m \u001b[0;32mas\u001b[0m \u001b[0me\u001b[0m\u001b[0;34m:\u001b[0m\u001b[0;34m\u001b[0m\u001b[0m\n",
      "\u001b[0;32m/Users/kyle/cltk/venv/lib/python3.5/site-packages/zmq/sugar/socket.py\u001b[0m in \u001b[0;36mrecv_multipart\u001b[0;34m(self, flags, copy, track)\u001b[0m\n\u001b[1;32m    357\u001b[0m         \"\"\"\n\u001b[0;32m--> 358\u001b[0;31m         \u001b[0mparts\u001b[0m \u001b[0;34m=\u001b[0m \u001b[0;34m[\u001b[0m\u001b[0mself\u001b[0m\u001b[0;34m.\u001b[0m\u001b[0mrecv\u001b[0m\u001b[0;34m(\u001b[0m\u001b[0mflags\u001b[0m\u001b[0;34m,\u001b[0m \u001b[0mcopy\u001b[0m\u001b[0;34m=\u001b[0m\u001b[0mcopy\u001b[0m\u001b[0;34m,\u001b[0m \u001b[0mtrack\u001b[0m\u001b[0;34m=\u001b[0m\u001b[0mtrack\u001b[0m\u001b[0;34m)\u001b[0m\u001b[0;34m]\u001b[0m\u001b[0;34m\u001b[0m\u001b[0m\n\u001b[0m\u001b[1;32m    359\u001b[0m         \u001b[0;31m# have first part already, only loop while more to receive\u001b[0m\u001b[0;34m\u001b[0m\u001b[0;34m\u001b[0m\u001b[0m\n",
      "\u001b[0;32mzmq/backend/cython/socket.pyx\u001b[0m in \u001b[0;36mzmq.backend.cython.socket.Socket.recv (zmq/backend/cython/socket.c:6507)\u001b[0;34m()\u001b[0m\n",
      "\u001b[0;32mzmq/backend/cython/socket.pyx\u001b[0m in \u001b[0;36mzmq.backend.cython.socket.Socket.recv (zmq/backend/cython/socket.c:6307)\u001b[0;34m()\u001b[0m\n",
      "\u001b[0;32mzmq/backend/cython/socket.pyx\u001b[0m in \u001b[0;36mzmq.backend.cython.socket._recv_copy (zmq/backend/cython/socket.c:1877)\u001b[0;34m()\u001b[0m\n",
      "\u001b[0;32m/Users/kyle/cltk/venv/lib/python3.5/site-packages/zmq/backend/cython/checkrc.pxd\u001b[0m in \u001b[0;36mzmq.backend.cython.checkrc._check_rc (zmq/backend/cython/socket.c:6758)\u001b[0;34m()\u001b[0m\n",
      "\u001b[0;31mKeyboardInterrupt\u001b[0m: ",
      "\nDuring handling of the above exception, another exception occurred:\n",
      "\u001b[0;31mKeyboardInterrupt\u001b[0m                         Traceback (most recent call last)",
      "\u001b[0;32m<ipython-input-33-6a50c79b623c>\u001b[0m in \u001b[0;36m<module>\u001b[0;34m()\u001b[0m\n\u001b[1;32m      7\u001b[0m     \u001b[0mwords\u001b[0m \u001b[0;34m=\u001b[0m \u001b[0;34m[\u001b[0m\u001b[0mw\u001b[0m \u001b[0;32mfor\u001b[0m \u001b[0mw\u001b[0m \u001b[0;32min\u001b[0m \u001b[0mwords\u001b[0m \u001b[0;32mif\u001b[0m \u001b[0;32mnot\u001b[0m \u001b[0mw\u001b[0m \u001b[0;32min\u001b[0m \u001b[0mSTOPS_LIST\u001b[0m\u001b[0;34m]\u001b[0m\u001b[0;34m\u001b[0m\u001b[0m\n\u001b[1;32m      8\u001b[0m     \u001b[0mprint\u001b[0m\u001b[0;34m(\u001b[0m\u001b[0;34m'W/O STOPS'\u001b[0m\u001b[0;34m,\u001b[0m \u001b[0mwords\u001b[0m\u001b[0;34m)\u001b[0m\u001b[0;34m\u001b[0m\u001b[0m\n\u001b[0;32m----> 9\u001b[0;31m     \u001b[0minput\u001b[0m\u001b[0;34m(\u001b[0m\u001b[0;34m)\u001b[0m\u001b[0;34m\u001b[0m\u001b[0m\n\u001b[0m",
      "\u001b[0;32m/Users/kyle/cltk/venv/lib/python3.5/site-packages/ipykernel/kernelbase.py\u001b[0m in \u001b[0;36mraw_input\u001b[0;34m(self, prompt)\u001b[0m\n\u001b[1;32m    675\u001b[0m             \u001b[0mself\u001b[0m\u001b[0;34m.\u001b[0m\u001b[0m_parent_ident\u001b[0m\u001b[0;34m,\u001b[0m\u001b[0;34m\u001b[0m\u001b[0m\n\u001b[1;32m    676\u001b[0m             \u001b[0mself\u001b[0m\u001b[0;34m.\u001b[0m\u001b[0m_parent_header\u001b[0m\u001b[0;34m,\u001b[0m\u001b[0;34m\u001b[0m\u001b[0m\n\u001b[0;32m--> 677\u001b[0;31m             \u001b[0mpassword\u001b[0m\u001b[0;34m=\u001b[0m\u001b[0;32mFalse\u001b[0m\u001b[0;34m,\u001b[0m\u001b[0;34m\u001b[0m\u001b[0m\n\u001b[0m\u001b[1;32m    678\u001b[0m         )\n\u001b[1;32m    679\u001b[0m \u001b[0;34m\u001b[0m\u001b[0m\n",
      "\u001b[0;32m/Users/kyle/cltk/venv/lib/python3.5/site-packages/ipykernel/kernelbase.py\u001b[0m in \u001b[0;36m_input_request\u001b[0;34m(self, prompt, ident, parent, password)\u001b[0m\n\u001b[1;32m    705\u001b[0m             \u001b[0;32mexcept\u001b[0m \u001b[0mKeyboardInterrupt\u001b[0m\u001b[0;34m:\u001b[0m\u001b[0;34m\u001b[0m\u001b[0m\n\u001b[1;32m    706\u001b[0m                 \u001b[0;31m# re-raise KeyboardInterrupt, to truncate traceback\u001b[0m\u001b[0;34m\u001b[0m\u001b[0;34m\u001b[0m\u001b[0m\n\u001b[0;32m--> 707\u001b[0;31m                 \u001b[0;32mraise\u001b[0m \u001b[0mKeyboardInterrupt\u001b[0m\u001b[0;34m\u001b[0m\u001b[0m\n\u001b[0m\u001b[1;32m    708\u001b[0m             \u001b[0;32melse\u001b[0m\u001b[0;34m:\u001b[0m\u001b[0;34m\u001b[0m\u001b[0m\n\u001b[1;32m    709\u001b[0m                 \u001b[0;32mbreak\u001b[0m\u001b[0;34m\u001b[0m\u001b[0m\n",
      "\u001b[0;31mKeyboardInterrupt\u001b[0m: "
     ]
    }
   ],
   "source": [
    "from cltk.stop.greek.stops import STOPS_LIST\n",
    "#p = PunktLanguageVars()\n",
    "\n",
    "for sent in herod_sents:\n",
    "    words = nltk_tokenize_words(sent)\n",
    "    print('W/ STOPS', words)\n",
    "    words = [w for w in words if not w in STOPS_LIST]\n",
    "    print('W/O STOPS', words)\n",
    "    input()"
   ]
  },
  {
   "cell_type": "markdown",
   "metadata": {},
   "source": [
    "# Concordance"
   ]
  },
  {
   "cell_type": "code",
   "execution_count": 34,
   "metadata": {
    "collapsed": true
   },
   "outputs": [],
   "source": [
    "from cltk.utils.philology import Philology\n",
    "p = Philology()"
   ]
  },
  {
   "cell_type": "code",
   "execution_count": 36,
   "metadata": {
    "collapsed": false
   },
   "outputs": [
    {
     "name": "stderr",
     "output_type": "stream",
     "text": [
      "INFO:CLTK:Wrote concordance to '/Users/kyle/cltk_data/user_data/concordance_kyle_herod.txt'.\n"
     ]
    }
   ],
   "source": [
    "herod_fp = '/Users/kyle/cltk_data/greek/text/tlg/plaintext/TLG0016.txt'\n",
    "\n",
    "p.write_concordance_from_file(herod_fp, 'kyle_herod')"
   ]
  },
  {
   "cell_type": "markdown",
   "metadata": {},
   "source": [
    "# Word count"
   ]
  },
  {
   "cell_type": "code",
   "execution_count": 37,
   "metadata": {
    "collapsed": true
   },
   "outputs": [],
   "source": [
    "from nltk.text import Text"
   ]
  },
  {
   "cell_type": "code",
   "execution_count": 40,
   "metadata": {
    "collapsed": false
   },
   "outputs": [
    {
     "name": "stdout",
     "output_type": "stream",
     "text": [
      "['Ἡροδότου', 'Θουρίου', 'ἱστορίης', 'ἀπόδεξις', 'ἥδε', 'ὡς', 'μήτε', 'τὰ', 'γενόμενα', 'ἐξ', 'ἀνθρώπων', 'τῷ', 'χρόνῳ', 'ἐξίτηλα', 'γένηται']\n"
     ]
    }
   ],
   "source": [
    "words = nltk_tokenize_words(herod_clean)\n",
    "print(words[:15])"
   ]
  },
  {
   "cell_type": "code",
   "execution_count": 41,
   "metadata": {
    "collapsed": true
   },
   "outputs": [],
   "source": [
    "t = Text(words)"
   ]
  },
  {
   "cell_type": "code",
   "execution_count": 42,
   "metadata": {
    "collapsed": true
   },
   "outputs": [],
   "source": [
    "vocabulary_count = t.vocab()"
   ]
  },
  {
   "cell_type": "code",
   "execution_count": 43,
   "metadata": {
    "collapsed": false
   },
   "outputs": [
    {
     "data": {
      "text/plain": [
       "2"
      ]
     },
     "execution_count": 43,
     "metadata": {},
     "output_type": "execute_result"
    }
   ],
   "source": [
    "vocabulary_count['ἱστορίης']"
   ]
  },
  {
   "cell_type": "code",
   "execution_count": 44,
   "metadata": {
    "collapsed": false
   },
   "outputs": [
    {
     "data": {
      "text/plain": [
       "63"
      ]
     },
     "execution_count": 44,
     "metadata": {},
     "output_type": "execute_result"
    }
   ],
   "source": [
    "vocabulary_count['μήτε']"
   ]
  },
  {
   "cell_type": "code",
   "execution_count": 45,
   "metadata": {
    "collapsed": false
   },
   "outputs": [
    {
     "data": {
      "text/plain": [
       "137"
      ]
     },
     "execution_count": 45,
     "metadata": {},
     "output_type": "execute_result"
    }
   ],
   "source": [
    "vocabulary_count['ἀνθρώπων']"
   ]
  },
  {
   "cell_type": "markdown",
   "metadata": {},
   "source": [
    "# Word frequency"
   ]
  },
  {
   "cell_type": "code",
   "execution_count": 46,
   "metadata": {
    "collapsed": true
   },
   "outputs": [],
   "source": [
    "from cltk.utils.frequency import Frequency"
   ]
  },
  {
   "cell_type": "code",
   "execution_count": 47,
   "metadata": {
    "collapsed": true
   },
   "outputs": [],
   "source": [
    "freq = Frequency()"
   ]
  },
  {
   "cell_type": "code",
   "execution_count": 51,
   "metadata": {
    "collapsed": true
   },
   "outputs": [],
   "source": [
    "herod_frequencies = freq.counter_from_str(herod_clean)"
   ]
  },
  {
   "cell_type": "code",
   "execution_count": 53,
   "metadata": {
    "collapsed": false
   },
   "outputs": [
    {
     "data": {
      "text/plain": [
       "[('καὶ', 7152),\n",
       " ('δὲ', 7118),\n",
       " ('τε', 2702),\n",
       " ('ἐς', 2674),\n",
       " ('τῶν', 2512),\n",
       " ('τὴν', 2441),\n",
       " ('οἱ', 2146),\n",
       " ('μὲν', 2130),\n",
       " ('τὸν', 2033),\n",
       " ('τὸ', 1896),\n",
       " ('τοῦ', 1865),\n",
       " ('ἐν', 1685),\n",
       " ('ὁ', 1621),\n",
       " ('τὰ', 1566),\n",
       " ('τῆς', 1519),\n",
       " ('τοὺς', 1322),\n",
       " ('γὰρ', 1293),\n",
       " ('δὴ', 1268),\n",
       " ('ὡς', 1148),\n",
       " ('τῷ', 1118),\n",
       " ('ἐπὶ', 972),\n",
       " ('τῇ', 946),\n",
       " ('ἐκ', 876),\n",
       " ('τοῖσι', 833),\n",
       " ('ταῦτα', 822),\n",
       " ('πρὸς', 770),\n",
       " ('οὐκ', 709),\n",
       " ('τὰς', 696),\n",
       " ('οὐ', 612),\n",
       " ('σφι', 610),\n",
       " ('εἶναι', 602),\n",
       " ('ἡ', 597),\n",
       " ('δέ', 565),\n",
       " ('κατὰ', 513),\n",
       " ('τοῦτο', 492),\n",
       " ('ἀπὸ', 472),\n",
       " ('περὶ', 458),\n",
       " ('ὦν', 448),\n",
       " ('μὴ', 438),\n",
       " ('ἦν', 438),\n",
       " ('ὑπὸ', 437),\n",
       " ('ἂν', 428),\n",
       " ('ἐστι', 424),\n",
       " ('μέν', 420),\n",
       " ('αὐτῶν', 417),\n",
       " ('οὔτε', 398),\n",
       " ('οὕτω', 397),\n",
       " ('ἢ', 390),\n",
       " ('τούτων', 384),\n",
       " ('τι', 366),\n",
       " ('δ', 352),\n",
       " ('παρὰ', 329),\n",
       " ('μιν', 327),\n",
       " ('τάδε', 326),\n",
       " ('νυν', 324),\n",
       " ('αὐτοῦ', 315),\n",
       " ('Οἱ', 307),\n",
       " ('ἐπ', 303),\n",
       " ('Ὁ', 298),\n",
       " ('πάντα', 292),\n",
       " ('εἰ', 288),\n",
       " ('Καὶ', 275),\n",
       " ('τούτου', 271),\n",
       " ('Ταῦτα', 265),\n",
       " ('αὐτὸν', 259),\n",
       " ('τοῦτον', 255),\n",
       " ('οὗτοι', 253),\n",
       " ('ὅτι', 245),\n",
       " ('περ', 243),\n",
       " ('διὰ', 235),\n",
       " ('Ὡς', 233),\n",
       " ('ἑωυτοῦ', 228),\n",
       " ('μετὰ', 228),\n",
       " ('πρότερον', 223),\n",
       " ('αἱ', 223),\n",
       " ('γε', 222),\n",
       " ('Ἑλλήνων', 221),\n",
       " ('μοι', 217),\n",
       " ('ἐξ', 217),\n",
       " ('ἀλλὰ', 216),\n",
       " ('οὐδὲν', 216),\n",
       " ('ἔτι', 216),\n",
       " ('Περσέων', 214),\n",
       " ('γενέσθαι', 212),\n",
       " ('αὐτὸς', 208),\n",
       " ('ἀλλ', 203),\n",
       " ('λέγουσι', 202),\n",
       " ('οὔνομα', 197),\n",
       " ('νῦν', 192),\n",
       " ('ἦσαν', 187),\n",
       " ('ἐγένετο', 187),\n",
       " ('μάλιστα', 186),\n",
       " ('τῇσι', 183),\n",
       " ('τοι', 181),\n",
       " ('πάντων', 177),\n",
       " ('ταύτῃ', 176),\n",
       " ('ἐγὼ', 175),\n",
       " ('οὗτος', 172),\n",
       " ('σφεας', 172),\n",
       " ('πόλιν', 171),\n",
       " ('ταύτην', 171),\n",
       " ('τότε', 167),\n",
       " ('Πέρσαι', 167),\n",
       " ('ἅμα', 163),\n",
       " ('ὃς', 160),\n",
       " ('χρόνον', 160),\n",
       " ('Ἕλληνες', 158),\n",
       " ('ἐπείτε', 157),\n",
       " ('τούτους', 157),\n",
       " ('γάρ', 156),\n",
       " ('νέας', 155),\n",
       " ('ἄλλα', 155),\n",
       " ('αὐτοὺς', 154),\n",
       " ('εἴη', 153),\n",
       " ('τις', 152),\n",
       " ('αὐτοὶ', 152),\n",
       " ('καί', 151),\n",
       " (')', 150),\n",
       " ('(', 150),\n",
       " ('Ἀθηναῖοι', 149),\n",
       " ('ἢν', 148),\n",
       " ('ἐὼν', 148),\n",
       " ('ὥστε', 148),\n",
       " ('ἀνδρῶν', 147),\n",
       " ('ἐστὶ', 146),\n",
       " ('Ἀθηναίων', 144),\n",
       " ('τούτοισι', 144),\n",
       " ('οὐδὲ', 144),\n",
       " ('αὐτῷ', 142),\n",
       " ('δύο', 140),\n",
       " ('τούτῳ', 140),\n",
       " ('οἳ', 140),\n",
       " ('ὅκως', 139),\n",
       " ('ἐόντα', 138),\n",
       " ('ἀνθρώπων', 137),\n",
       " ('λόγον', 137),\n",
       " ('βασιλέος', 133),\n",
       " ('χώρην', 131),\n",
       " ('Μετὰ', 131),\n",
       " ('εἰσι', 131),\n",
       " ('σφέας', 130),\n",
       " ('βασιλέα', 129),\n",
       " ('Ἑλλάδα', 129),\n",
       " ('ἐόντες', 128),\n",
       " ('θάλασσαν', 128),\n",
       " ('γῆν', 127),\n",
       " ('ἵνα', 126),\n",
       " ('ἄλλων', 126),\n",
       " ('ὀπίσω', 126),\n",
       " ('αὐτοῖσι', 126),\n",
       " ('ταύτης', 124),\n",
       " ('ποιέειν', 123),\n",
       " ('πᾶσαν', 123),\n",
       " ('εὖ', 123),\n",
       " ('Πέρσας', 122),\n",
       " ('Ξέρξης', 122),\n",
       " ('κατ', 121),\n",
       " ('ἄνδρα', 121),\n",
       " ('εἶχον', 121),\n",
       " ('ἤδη', 120),\n",
       " ('δή', 120),\n",
       " ('ὧδε', 119),\n",
       " ('ἐνθαῦτα', 118),\n",
       " ('ἔστι', 116),\n",
       " ('Ὦ', 116),\n",
       " ('ὑμῖν', 115),\n",
       " ('αὐτὴν', 115),\n",
       " ('μέντοι', 114),\n",
       " ('ἀπ', 114),\n",
       " ('Δαρεῖος', 114),\n",
       " ('ἀνὴρ', 113),\n",
       " ('ἄνδρας', 113),\n",
       " ('ὅ', 113),\n",
       " ('αὐτίκα', 111),\n",
       " ('ἄλλοι', 110),\n",
       " ('χώρης', 109),\n",
       " ('παρ', 109),\n",
       " ('πᾶν', 109),\n",
       " ('Πέρσῃσι', 108),\n",
       " ('πάντες', 105),\n",
       " ('ἡμῖν', 103),\n",
       " ('ἔλεγε', 103),\n",
       " ('ἐπεὰν', 102),\n",
       " ('Αἰγύπτιοι', 102),\n",
       " ('ποταμὸν', 100),\n",
       " ('ὑπ', 100),\n",
       " ('πολλὰ', 99),\n",
       " ('Αἴγυπτον', 99),\n",
       " ('εἶπε', 98),\n",
       " ('μᾶλλον', 98),\n",
       " ('ἐγίνετο', 97),\n",
       " ('Ἡ', 97),\n",
       " ('αὐτῆς', 96),\n",
       " ('πόλιος', 96),\n",
       " ('εἵνεκα', 96),\n",
       " ('Αἰγύπτου', 95),\n",
       " ('ἔχειν', 94),\n",
       " ('ἔχων', 94),\n",
       " ('Οὕτω', 94),\n",
       " ('πολλὸν', 93),\n",
       " ('ἔχει', 92),\n",
       " ('Δαρείου', 92),\n",
       " ('Ἐν', 92),\n",
       " ('πλὴν', 92),\n",
       " ('εἰπεῖν', 92),\n",
       " ('Τὸ', 90),\n",
       " ('ἔτεα', 90),\n",
       " ('εἶχε', 90),\n",
       " ('λέγεται', 90),\n",
       " ('ἔφη', 90),\n",
       " ('αὕτη', 90),\n",
       " ('πολλῷ', 90),\n",
       " ('αἰεὶ', 89),\n",
       " ('βασιλέϊ', 89),\n",
       " ('ἄλλο', 88),\n",
       " ('παῖς', 88),\n",
       " ('λέγειν', 87),\n",
       " ('δι', 87),\n",
       " ('Λακεδαιμόνιοι', 87),\n",
       " ('γίνεται', 86),\n",
       " ('τρόπῳ', 86),\n",
       " ('μέχρι', 86),\n",
       " ('χρήματα', 86),\n",
       " ('ἀπίκετο', 86),\n",
       " ('σφίσι', 86),\n",
       " ('Εἰ', 86),\n",
       " ('ἔχοντες', 86),\n",
       " ('τά', 86),\n",
       " ('ἐμοὶ', 86),\n",
       " ('βασιλεὺς', 85),\n",
       " ('Σκύθαι', 85),\n",
       " ('Αἰγυπτίων', 85),\n",
       " ('κατά', 84),\n",
       " ('πόλις', 84),\n",
       " ('ἄλλους', 83),\n",
       " ('ἐνθεῦτεν', 83),\n",
       " ('κάρτα', 83),\n",
       " ('λέγων', 82),\n",
       " ('ἡμεῖς', 82),\n",
       " ('λόγῳ', 81),\n",
       " ('ἔλεγον', 81),\n",
       " ('εἴ', 81),\n",
       " ('ἱρὸν', 80),\n",
       " ('πάντας', 80),\n",
       " ('τὠυτὸ', 80),\n",
       " ('Κύρου', 80),\n",
       " ('ἑωυτῶν', 79),\n",
       " ('οὐδέν', 78),\n",
       " ('ἄνδρες', 78),\n",
       " ('Ἕλληνας', 77),\n",
       " ('Ἕλλησι', 77),\n",
       " ('σὺ', 77),\n",
       " ('ἔπειτα', 77),\n",
       " ('νεῶν', 77),\n",
       " ('ὅσον', 77),\n",
       " ('πρήγματα', 76),\n",
       " ('ἡμέας', 76),\n",
       " ('τεῖχος', 76),\n",
       " ('Τὰ', 75),\n",
       " ('Οὗτοι', 75),\n",
       " ('εἰσὶ', 75),\n",
       " ('σε', 74),\n",
       " ('παῖδα', 74),\n",
       " ('λόγους', 73),\n",
       " ('Κῦρος', 73),\n",
       " ('τέ', 72),\n",
       " ('ἀνδρὸς', 72),\n",
       " ('Τῶν', 72),\n",
       " ('ἄλλοισι', 72),\n",
       " ('Κροῖσος', 72),\n",
       " ('Ἐπείτε', 72),\n",
       " ('γῆς', 71),\n",
       " ('Ἀθηναίοισι', 71),\n",
       " ('στρατὸν', 71),\n",
       " ('οἵ', 71),\n",
       " ('μέγα', 71),\n",
       " ('πρὶν', 70),\n",
       " ('ποταμοῦ', 70),\n",
       " ('ὕδωρ', 70),\n",
       " ('γυναῖκα', 70),\n",
       " ('Σάρδις', 70),\n",
       " ('ἀπίκοντο', 69),\n",
       " ('πέρι', 69),\n",
       " ('στρατιὴν', 69),\n",
       " ('πρῶτα', 69),\n",
       " ('Ἰώνων', 69),\n",
       " ('Ἀθήνας', 68),\n",
       " ('Σκυθέων', 68),\n",
       " ('βασιλεῦ', 68),\n",
       " ('πρὸ', 68),\n",
       " ('ὕστερον', 68),\n",
       " ('Τὸν', 67),\n",
       " ('σὺν', 66),\n",
       " ('Ἔστι', 66),\n",
       " ('ἄρα', 66),\n",
       " ('ἐγένοντο', 66),\n",
       " ('γνώμην', 66),\n",
       " ('ἑωυτῷ', 65),\n",
       " ('πέντε', 65),\n",
       " ('ὥς', 64),\n",
       " ('θαλάσσης', 64),\n",
       " ('ἐόντας', 64),\n",
       " ('γυναῖκας', 64),\n",
       " ('πρῆγμα', 64),\n",
       " ('οὐδένα', 63),\n",
       " ('ἐὸν', 63),\n",
       " ('μήτε', 63),\n",
       " ('παῖδας', 63),\n",
       " ('λόγος', 63),\n",
       " ('ἔχω', 63),\n",
       " ('εἴτε', 63),\n",
       " ('τόδε', 63),\n",
       " ('μή', 63),\n",
       " ('θεῶν', 63),\n",
       " ('Μήδων', 62),\n",
       " ('Ἀθηναίους', 62),\n",
       " ('Ἴωνες', 62),\n",
       " ('μεγάλα', 62),\n",
       " ('αὖτις', 62),\n",
       " ('χρόνῳ', 62),\n",
       " ('ἄν', 61),\n",
       " ('ὑπὲρ', 61),\n",
       " ('δέκα', 61),\n",
       " ('θυγατέρα', 61),\n",
       " ('ἐοῦσα', 61),\n",
       " ('Λακεδαιμονίων', 61),\n",
       " ('αὐτῇ', 61),\n",
       " ('ἑπτὰ', 60),\n",
       " ('ἐκέλευε', 60),\n",
       " ('τοιάδε', 60),\n",
       " ('ἀνὰ', 60),\n",
       " ('ὃ', 60),\n",
       " ('στρατιῆς', 59),\n",
       " ('Ἐνθαῦτα', 59),\n",
       " ('ἔργον', 58),\n",
       " ('με', 58),\n",
       " ('Τοῦτο', 58),\n",
       " ('τοιόνδε', 58),\n",
       " ('ἐμὲ', 58),\n",
       " ('ὦ', 58),\n",
       " ('Τούτων', 58),\n",
       " ('ἐδόκεε', 58),\n",
       " ('πόλεμον', 57),\n",
       " ('Καμβύσης', 57),\n",
       " ('ἕκαστος', 57),\n",
       " ('εἴκοσι', 57),\n",
       " ('ἐπεὶ', 57),\n",
       " ('σφέων', 57),\n",
       " ('στρατεύεσθαι', 57),\n",
       " ('ἐόντων', 57),\n",
       " ('πρῶτον', 56),\n",
       " ('Τοῖσι', 56),\n",
       " ('βάρβαροι', 56),\n",
       " ('ἐστί', 56),\n",
       " ('βαρβάρων', 56),\n",
       " ('ὁμοίως', 56),\n",
       " ('Νῦν', 56),\n",
       " ('Οὗτος', 56),\n",
       " ('εἵνεκεν', 56),\n",
       " ('ὑμέας', 55),\n",
       " ('ἄλλος', 55),\n",
       " ('γίνεσθαι', 55),\n",
       " ('ὅσα', 55),\n",
       " ('ἄλλην', 55),\n",
       " ('ἡμερέων', 55),\n",
       " ('οὐδεὶς', 55),\n",
       " ('ἐμέο', 55),\n",
       " ('ἅτε', 54),\n",
       " ('ἔθνος', 53),\n",
       " ('Ξέρξεω', 53),\n",
       " ('οὐδ', 53),\n",
       " ('ἡμέρης', 53),\n",
       " ('Ἀπὸ', 53),\n",
       " ('μεγάλως', 53),\n",
       " ('χρημάτων', 53),\n",
       " ('οὔ', 52),\n",
       " ('τρεῖς', 52),\n",
       " ('μέσον', 52),\n",
       " ('τάχιστα', 52),\n",
       " ('Σκύθας', 52),\n",
       " ('ἑωυτὸν', 52),\n",
       " ('χρέωνται', 52),\n",
       " ('Ἐπεὶ', 52),\n",
       " ('ἀντὶ', 51),\n",
       " ('δεῖ', 51),\n",
       " ('ἐοῦσαν', 50),\n",
       " ('Ἀσίην', 50),\n",
       " ('τινα', 50),\n",
       " ('ἀπικέσθαι', 50),\n",
       " ('ὄψιν', 50),\n",
       " ('οἷα', 50),\n",
       " ('ποιεῦσι', 49),\n",
       " ('λέγοντες', 49),\n",
       " ('ἑκατὸν', 49),\n",
       " ('Δαρείῳ', 49),\n",
       " ('τριήκοντα', 49),\n",
       " ('ὅσοι', 48),\n",
       " ('ἔσχε', 48),\n",
       " ('Ἀλλ', 48),\n",
       " ('χῶρον', 48),\n",
       " ('ἐκείνου', 48),\n",
       " ('μοῦνον', 48),\n",
       " ('ἐποίεε', 47),\n",
       " ('πλῆθος', 47),\n",
       " ('ὅτε', 47),\n",
       " ('μέγιστον', 47),\n",
       " ('χρηστήριον', 47),\n",
       " ('ἄνω', 47),\n",
       " ('ἵππον', 46),\n",
       " ('Τοὺς', 46),\n",
       " ('Λιβύης', 46),\n",
       " ('κατύπερθε', 46),\n",
       " ('πόλι', 46),\n",
       " ('ποταμὸς', 46),\n",
       " ('ἔφασαν', 46),\n",
       " ('Ἀσίης', 46),\n",
       " ('ὁδὸν', 46),\n",
       " ('τάλαντα', 46),\n",
       " ('τοῖσδε', 45),\n",
       " ('ἄλλον', 45),\n",
       " ('Δαρεῖον', 45),\n",
       " ('ἕνα', 45),\n",
       " ('Ἐπεὰν', 45),\n",
       " ('μηδὲ', 45),\n",
       " ('ἀρχὴν', 45),\n",
       " ('λόγου', 45),\n",
       " ('καλέουσι', 45),\n",
       " ('Ἐς', 44),\n",
       " ('ὁδοῦ', 44),\n",
       " ('Πυθίη', 44),\n",
       " ('κως', 44),\n",
       " ('ἔχουσι', 44),\n",
       " ('ἀνθρώπους', 44),\n",
       " ('στρατοῦ', 44),\n",
       " ('γυναῖκες', 44),\n",
       " ('Ἐκ', 44),\n",
       " ('σφεων', 44),\n",
       " ('δοκέω', 44),\n",
       " ('Δελφοὺς', 44),\n",
       " ('Τὴν', 44),\n",
       " ('ἱρὰ', 43),\n",
       " ('χώρη', 43),\n",
       " ('οὐκέτι', 43),\n",
       " ('γενόμενον', 43),\n",
       " ('χρόνου', 43),\n",
       " ('γυναικῶν', 43),\n",
       " ('αὐτόν', 43),\n",
       " ('ἐποίησε', 43),\n",
       " ('αὐτός', 43),\n",
       " ('λέγει', 43),\n",
       " ('ἔξω', 43),\n",
       " ('κοτε', 42),\n",
       " ('βουλόμενος', 42),\n",
       " ('Ἐπὶ', 42),\n",
       " ('στρατὸς', 42),\n",
       " ('παίδων', 42),\n",
       " ('οὗ', 42),\n",
       " ('Μαρδόνιος', 42),\n",
       " ('γένος', 42),\n",
       " ('πολλοὶ', 42),\n",
       " ('Ξέρξην', 42),\n",
       " ('ἡμέρας', 42),\n",
       " ('ἔσεσθαι', 42),\n",
       " ('Σπαρτιητέων', 42),\n",
       " ('εἴπας', 42),\n",
       " ('Αἰγύπτῳ', 41),\n",
       " ('ἐποίευν', 41),\n",
       " ('ἐόντος', 41),\n",
       " ('ἐγίνοντο', 41),\n",
       " ('δεύτερα', 41),\n",
       " ('Πρὸς', 41),\n",
       " ('ἔχοντα', 41),\n",
       " ('αὐτέων', 41),\n",
       " ('πολλοὺς', 41),\n",
       " ('Ἑλλήσποντον', 41),\n",
       " ('νηυσὶ', 41),\n",
       " ('ποιῆσαι', 40),\n",
       " ('ἀρχήν', 40),\n",
       " ('ὑμέων', 40),\n",
       " ('ῥέει', 40),\n",
       " ('αὐτούς', 40),\n",
       " ('ἔθνεα', 40),\n",
       " ('Τότε', 40),\n",
       " ('μοῦνοι', 40),\n",
       " ('ἡμέρῃ', 40),\n",
       " ('Καί', 40),\n",
       " ('Ἴωνας', 39),\n",
       " ('τί', 39),\n",
       " ('ἀστῶν', 39),\n",
       " ('Οὐ', 39),\n",
       " ('παῖδες', 39),\n",
       " ('Ἐγὼ', 39),\n",
       " ('θεὸν', 39),\n",
       " ('ἔδοξε', 39),\n",
       " ('ὄρος', 39),\n",
       " ('ἦρχε', 39),\n",
       " ('ἕκαστον', 38),\n",
       " ('ἰέναι', 38),\n",
       " ('ἀπικόμενος', 38),\n",
       " ('ἤιε', 38),\n",
       " ('γένηται', 38),\n",
       " ('ἔσται', 38),\n",
       " ('οἰκέουσι', 38),\n",
       " ('Κατὰ', 38),\n",
       " ('Ξέρξῃ', 38),\n",
       " ('ἀτρεκέως', 38),\n",
       " ('δῶρα', 38),\n",
       " ('δοκέει', 38),\n",
       " ('χρᾶσθαι', 38),\n",
       " ('ἔργα', 38),\n",
       " ('πᾶσα', 38),\n",
       " ('βουλόμενοι', 38),\n",
       " ('Ἑλλάδος', 38),\n",
       " ('πλέον', 38),\n",
       " ('Κροίσου', 38),\n",
       " ('ἡμέων', 37),\n",
       " ('ἤν', 37),\n",
       " ('ἐποιέετο', 37),\n",
       " ('πρηγμάτων', 37),\n",
       " ('ἱρόν', 37),\n",
       " ('κω', 37),\n",
       " ('Κροῖσον', 37),\n",
       " ('ἴδμεν', 37),\n",
       " ('κήρυκα', 37),\n",
       " ('ἠῶ', 37),\n",
       " ('ποιήσας', 37),\n",
       " ('λίμνης', 37),\n",
       " ('ἐλθεῖν', 37),\n",
       " ('σέο', 37),\n",
       " ('τέκνα', 37),\n",
       " ('ἡμέρην', 37),\n",
       " ('ἀκούσας', 36),\n",
       " ('τόν', 36),\n",
       " ('τουτέων', 36),\n",
       " ('ἐποιεῦντο', 36),\n",
       " ('φασι', 36),\n",
       " ('ταύτας', 36),\n",
       " ('Λυδῶν', 36),\n",
       " ('τινὰ', 36),\n",
       " ('βασιληίην', 36),\n",
       " ('ἀπικόμενοι', 36),\n",
       " ('συμμάχων', 36),\n",
       " ('δοκέειν', 36),\n",
       " ('εἴρηται', 36),\n",
       " ('μεγάλην', 36),\n",
       " ('στρατόπεδον', 36),\n",
       " ('τείχεος', 35),\n",
       " ('τρόπον', 35),\n",
       " ('ἱροῦ', 35),\n",
       " ('τινες', 35),\n",
       " ('παρείχοντο', 35),\n",
       " ('Λακεδαιμονίοισι', 35),\n",
       " ('Ἄμασις', 35),\n",
       " ('πεντήκοντα', 35),\n",
       " ('δύναμιν', 35),\n",
       " ('ἤ', 35),\n",
       " ('μεταξὺ', 35),\n",
       " ('Κλεομένης', 35),\n",
       " ('Φοίνικες', 35),\n",
       " ('παιδὸς', 35),\n",
       " ('μάχην', 35),\n",
       " ('ἀγγέλους', 34),\n",
       " ('νέες', 34),\n",
       " ('στρατιῇ', 34),\n",
       " ('ποιεύμενος', 34),\n",
       " ('ἵππου', 34),\n",
       " ('κεῖται', 34),\n",
       " ('γῆ', 34),\n",
       " ('κεφαλὴν', 34),\n",
       " ('οὐδαμῶς', 34),\n",
       " ('πολλοῦ', 34),\n",
       " ('Δελφοῖσι', 34),\n",
       " ('Σάμον', 34),\n",
       " ('αὐτὰ', 34),\n",
       " ('πάντως', 34),\n",
       " ('Ἦν', 34),\n",
       " ('ἄνεμον', 34),\n",
       " ('χώρῃ', 34),\n",
       " ('αὐτόθι', 34),\n",
       " ('δυώδεκα', 34),\n",
       " ('ὥσπερ', 34),\n",
       " ('ἐπύθοντο', 34),\n",
       " ('τεσσεράκοντα', 34),\n",
       " ('πλέονες', 34),\n",
       " ('κου', 33),\n",
       " ('λίμνην', 33),\n",
       " ('πάσης', 33),\n",
       " ('τήν', 33),\n",
       " ('μέγαθος', 33),\n",
       " ('πατρὸς', 33),\n",
       " ('αὗται', 33),\n",
       " ('Καμβύσεω', 33),\n",
       " ('ὀκτὼ', 33),\n",
       " ('Τοῦ', 33),\n",
       " ('πεδίον', 33),\n",
       " ('τοῦδε', 33),\n",
       " ('αὐτὸ', 33),\n",
       " ('μετ', 33),\n",
       " ('τόνδε', 33),\n",
       " ('ἔνθα', 33),\n",
       " ('πλέω', 33),\n",
       " ('ᾧ', 33),\n",
       " ('Σὺ', 33),\n",
       " ('καλέεται', 33),\n",
       " ('ἐποιήσαντο', 33),\n",
       " ('θεῷ', 33),\n",
       " ('ἐκείνων', 33),\n",
       " ('φὰς', 32),\n",
       " ('μάχῃ', 32),\n",
       " ('ἕτερον', 32),\n",
       " ('Ἀστυάγης', 32),\n",
       " ('γυνὴ', 32),\n",
       " ('Πέρσην', 32),\n",
       " ('γενόμενος', 32),\n",
       " ('χωρὶς', 32),\n",
       " ('ἐούσης', 32),\n",
       " ('νῆσον', 32),\n",
       " ('Κροίσῳ', 32),\n",
       " ('πείθεσθαι', 32),\n",
       " ('τοιαῦτα', 32),\n",
       " ('οὔτ', 32),\n",
       " ('ἄλλῃ', 32),\n",
       " ('πολλόν', 32),\n",
       " ('ἓξ', 32),\n",
       " ('τοσοῦτο', 32),\n",
       " ('ὅπλα', 32),\n",
       " ('ἔσω', 31),\n",
       " ('Ἰωνίην', 31),\n",
       " ('Ἀρισταγόρης', 31),\n",
       " ('γλῶσσαν', 31),\n",
       " ('ἐποίησαν', 31),\n",
       " ('Διὸς', 31),\n",
       " ('θεοῦ', 31),\n",
       " ('πολλῶν', 31),\n",
       " ('πολίων', 31),\n",
       " ('ῥέων', 31),\n",
       " ('ἥλιον', 31),\n",
       " ('πρῶτοι', 31),\n",
       " ('Σπάρτης', 31),\n",
       " ('δεύτερον', 31),\n",
       " ('πυθόμενος', 31),\n",
       " ('Σπάρτῃ', 31),\n",
       " ('Ἄνδρες', 31),\n",
       " ('ταχίστην', 31),\n",
       " ('Τῆς', 31),\n",
       " ('εἴρετο', 31),\n",
       " ('λαβὼν', 30),\n",
       " ('ποιέεσθαι', 30),\n",
       " ('καλεομένην', 30),\n",
       " ('οὐδενὸς', 30),\n",
       " ('θεὸς', 30),\n",
       " ('ταῦτά', 30),\n",
       " ('τοιῷδε', 30),\n",
       " ('σὲ', 30),\n",
       " ('Σπάρτην', 30),\n",
       " ('ἐπειδὴ', 30),\n",
       " ('ἄλλως', 30),\n",
       " ('ἄνθρωποι', 30),\n",
       " ('Αἰγυπτίοισι', 30),\n",
       " ('ἔπεμπε', 30),\n",
       " ('Ἅρπαγος', 30),\n",
       " ('Λιβύην', 30),\n",
       " ('μάχης', 30),\n",
       " ('πάσας', 30),\n",
       " ('οὐδενὶ', 30),\n",
       " ('γυναικὸς', 30),\n",
       " ('ποταμῶν', 30),\n",
       " ('εἶδον', 30),\n",
       " ('τέλος', 30),\n",
       " ('νέμονται', 30),\n",
       " ('μίαν', 30),\n",
       " ('ὑμεῖς', 30),\n",
       " ('ἀμείβετο', 29),\n",
       " ('τοσαῦτα', 29),\n",
       " ('οἰκία', 29),\n",
       " ('αὐτὴ', 29),\n",
       " ('ἐθνέων', 29),\n",
       " ('ἤπειρον', 29),\n",
       " ('ἀνθρώποισι', 29),\n",
       " ('ἄλλῳ', 29),\n",
       " ('τῶνδε', 29),\n",
       " ('Αἰγινητέων', 29),\n",
       " ('Μαρδονίου', 29),\n",
       " ('οἷά', 29),\n",
       " ('Αἰγινῆται', 29),\n",
       " ('οὐνόματα', 29),\n",
       " ('τοιοῦτο', 29),\n",
       " ('πρῶτος', 29),\n",
       " ('ἑξήκοντα', 29),\n",
       " ('ἔπος', 29),\n",
       " ('νόῳ', 29),\n",
       " ('Νείλου', 29),\n",
       " ('ἥ', 29),\n",
       " ('νυκτὸς', 29),\n",
       " ('ἀνδρὶ', 29),\n",
       " ('ἄλλας', 29),\n",
       " ('Ἴωσι', 29),\n",
       " ('Αἰγυπτίους', 29),\n",
       " ('στρατιήν', 29),\n",
       " ('ἵππων', 29),\n",
       " ('ἔπλεον', 28),\n",
       " ('μηδὲν', 28),\n",
       " ('τό', 28),\n",
       " ('ὅστις', 28),\n",
       " ('Σαρδίων', 28),\n",
       " ('ἣ', 28),\n",
       " ('ἐκδιδοῖ', 28),\n",
       " ('γίνονται', 28),\n",
       " ('τίς', 28),\n",
       " ('ὁρέων', 28),\n",
       " ('ἵππος', 28),\n",
       " ('κάτω', 28),\n",
       " ('ὄπισθε', 28),\n",
       " ('τοιούτῳ', 28),\n",
       " ('ἱρέες', 28),\n",
       " ('μάλιστά', 28),\n",
       " ('γνώμῃ', 28),\n",
       " ('ἀμφὶ', 28),\n",
       " ('πέμψας', 28),\n",
       " ('ἕκαστοι', 28),\n",
       " ('γῇ', 28),\n",
       " ('νέα', 28),\n",
       " ('νόμον', 28),\n",
       " ('κῃ', 27),\n",
       " ('σῶμα', 27),\n",
       " ('ποιήσασθαι', 27),\n",
       " ('ἄνευ', 27),\n",
       " ('βασιλέων', 27),\n",
       " ('χρεώμενοι', 27),\n",
       " ('ἔτεϊ', 27),\n",
       " ('ἓν', 27),\n",
       " ('Μίλητον', 27),\n",
       " ('ἐκεῖνον', 27),\n",
       " ('κακῶν', 27),\n",
       " ('ἀμφοτέρων', 27),\n",
       " ('οὐδέ', 27),\n",
       " ('Σάμιοι', 27),\n",
       " ('Θεμιστοκλέης', 27),\n",
       " ('λέγω', 27),\n",
       " ('στρατηγὸς', 27),\n",
       " ('Ἐνθεῦτεν', 27),\n",
       " ('οἷοί', 27),\n",
       " ('Μιλτιάδης', 27),\n",
       " ('Σαλαμῖνα', 27),\n",
       " ('Σοῦσα', 27),\n",
       " ('σοὶ', 27),\n",
       " ('μέγας', 27),\n",
       " ('Ἀθηνέων', 27),\n",
       " ('οὐδεμίαν', 27),\n",
       " ('πεζὸν', 27),\n",
       " ('πρόσω', 27),\n",
       " ('ἁπάντων', 26),\n",
       " ('ἦλθε', 26),\n",
       " ('ἄμεινον', 26),\n",
       " ('ἐοῦσι', 26),\n",
       " ('τούς', 26),\n",
       " ('μῆκος', 26),\n",
       " ('κακὸν', 26),\n",
       " ('ἑσπέρης', 26),\n",
       " ('εὐπετέως', 26),\n",
       " ('πολέμου', 26),\n",
       " ('Θηβαίων', 26),\n",
       " ('Λακεδαιμονίους', 26),\n",
       " ('Ἑλλάδι', 26),\n",
       " ('Ἱστιαῖος', 26),\n",
       " ('μυριάδες', 26),\n",
       " ('ὀρθῶς', 26),\n",
       " ('Ἀλέξανδρος', 26),\n",
       " ('μοῦνος', 26),\n",
       " ('ποιεῦντες', 26),\n",
       " ('ἀνέθηκε', 26),\n",
       " ('βορέην', 26),\n",
       " ('ἀριθμὸν', 26),\n",
       " ('αἰτίην', 26),\n",
       " ('ᾖ', 26),\n",
       " ('κακῶς', 26),\n",
       " ('στρατόν', 26),\n",
       " ('ἄστυ', 26),\n",
       " ('εἷλε', 26),\n",
       " ('ἑωυτῆς', 26),\n",
       " ('Οὐκ', 26),\n",
       " ('ποιήσαντες', 26),\n",
       " ('οἵδε', 26),\n",
       " ('ὄρεος', 26),\n",
       " ('ἔσχον', 25),\n",
       " ('ὁρῶντες', 25),\n",
       " ('Περίανδρος', 25),\n",
       " ('γνώμη', 25),\n",
       " ('τοῦτό', 25),\n",
       " ('Σαμίων', 25),\n",
       " ('ἐστρατεύοντο', 25),\n",
       " ('διδοῖ', 25),\n",
       " ('ἔπεμπον', 25),\n",
       " ('εἰσί', 25),\n",
       " ('Μῆδοι', 25),\n",
       " ('μαντήιον', 25),\n",
       " ('οἰκέοντες', 25),\n",
       " ('ἐόντι', 25),\n",
       " ('Μιλήτου', 25),\n",
       " ('χεῖρας', 25),\n",
       " ('Κῦρον', 25),\n",
       " ('χῶρος', 25),\n",
       " ('χωρίον', 25),\n",
       " ('ἵππους', 25),\n",
       " ('ὅς', 25),\n",
       " ('ἔμελλε', 25),\n",
       " ('δίκας', 25),\n",
       " ('κελεύων', 25),\n",
       " ('Πέρσης', 25),\n",
       " ('πᾶσι', 25),\n",
       " ('ἔπεα', 25),\n",
       " ('πρώτους', 24),\n",
       " ('ἔπλεε', 24),\n",
       " ('ποιεῦνται', 24),\n",
       " ('Ἀργείων', 24),\n",
       " ('πατέρα', 24),\n",
       " ('πάρεξ', 24),\n",
       " ('χίλιοι', 24),\n",
       " ('ναυτικὸς', 24),\n",
       " ('πολλοῖσι', 24),\n",
       " ('θέλων', 24),\n",
       " ('ποιήσειν', 24),\n",
       " ('εἰδέναι', 24),\n",
       " ('ἔς', 24),\n",
       " ('δεινὸν', 24),\n",
       " ('Πελοπόννησον', 24),\n",
       " ('ἄγειν', 24),\n",
       " ('πολλά', 24),\n",
       " ('ἀρχῆς', 24),\n",
       " ('παιδίον', 24),\n",
       " ('οὐδεμία', 24),\n",
       " ('οἷόν', 24),\n",
       " ('νομίζουσι', 24),\n",
       " ('Ταύτην', 24),\n",
       " ('ὅδε', 24),\n",
       " ('Πελοποννήσου', 24),\n",
       " ('Εἰσὶ', 24),\n",
       " ('θύουσι', 24),\n",
       " ('εἶδε', 24),\n",
       " ('ταὐτὰ', 24),\n",
       " ('χρυσὸν', 24),\n",
       " ('ἀνδράσι', 24),\n",
       " ('δοῦναι', 24),\n",
       " ('μεγάλη', 23),\n",
       " ('ἑνὸς', 23),\n",
       " ('νήσου', 23),\n",
       " ('μηδένα', 23),\n",
       " ('ἑσπέρην', 23),\n",
       " ('Σπαρτιῆται', 23),\n",
       " ('πλέονας', 23),\n",
       " ('ἔωσι', 23),\n",
       " ('Λίβυες', 23),\n",
       " ('ἀπαλλάσσοντο', 23),\n",
       " ('ἐπωνυμίην', 23),\n",
       " ('Τούτους', 23),\n",
       " ('Νεῖλος', 23),\n",
       " ('ἑτέρου', 23),\n",
       " ('πλήθεϊ', 23),\n",
       " ('ἀλλήλων', 23),\n",
       " ('νόμος', 23),\n",
       " ('ἄγγελον', 23),\n",
       " ('ἑκάστου', 23),\n",
       " ('Μήδους', 23),\n",
       " ('θαλάσσῃ', 23),\n",
       " ('πόλιες', 23),\n",
       " ('φασὶ', 23),\n",
       " ('Ἀργεῖοι', 23),\n",
       " ('βάρβαρον', 23),\n",
       " ('πλέειν', 23),\n",
       " ('Ἀσίῃ', 23),\n",
       " ('ἱρῷ', 23),\n",
       " ('οὐδαμὰ', 23),\n",
       " ('μέγαν', 23),\n",
       " ('γράμματα', 22),\n",
       " ('ἧσσον', 22),\n",
       " ('Μαρδόνιον', 22),\n",
       " ('λόγων', 22),\n",
       " ('ἀπέπεμψε', 22),\n",
       " ('ἐλθὼν', 22),\n",
       " ('Τοῦτον', 22),\n",
       " ('ἀλλά', 22),\n",
       " ('πυνθάνομαι', 22),\n",
       " ('Λιβύων', 22),\n",
       " ('ἠπείρου', 22),\n",
       " ('ἀπέθανε', 22),\n",
       " ('ἑωυτόν', 22),\n",
       " ('πάλαι', 22),\n",
       " ('ἦλθον', 22),\n",
       " ('στάδιοι', 22),\n",
       " ('ἄγων', 22),\n",
       " ('βασιλέες', 22),\n",
       " ('ποταμῷ', 22),\n",
       " ('Ἡρακλέος', 22),\n",
       " ('τοίνυν', 22),\n",
       " ('Ἀλλὰ', 22),\n",
       " ('ὕδατος', 22),\n",
       " ('Θεσσαλίην', 22),\n",
       " ('ἀγάλματα', 22),\n",
       " ('ὀρέων', 22),\n",
       " ('πλοῖα', 22),\n",
       " ('ἡμέρη', 22),\n",
       " ('ἀδελφεὸν', 22),\n",
       " ('θάνατον', 22),\n",
       " ('ποταμόν', 22),\n",
       " ('μυριάδας', 22),\n",
       " ('ἤισαν', 22),\n",
       " ('κέρας', 22),\n",
       " ('γενόμενοι', 22),\n",
       " ('Τούτου', 22),\n",
       " ('εἷς', 22),\n",
       " ('τόξα', 22),\n",
       " ('ἄριστα', 22),\n",
       " ('ὀλίγῳ', 22),\n",
       " ('μαθόντες', 22),\n",
       " ('Ἄμασιν', 22),\n",
       " ('τοιήνδε', 22),\n",
       " ('αὐτοί', 22),\n",
       " ('Ἀθηναίης', 21),\n",
       " ('τύραννος', 21),\n",
       " ('ἐμοί', 21),\n",
       " ('ὅτεο', 21),\n",
       " ('νομὸς', 21),\n",
       " ('δοκέων', 21),\n",
       " ('ἱρῶν', 21),\n",
       " ('ἤκουσαν', 21),\n",
       " ('Καμβύσην', 21),\n",
       " ('σταδίων', 21),\n",
       " ('κακὰ', 21),\n",
       " ('σφεα', 21),\n",
       " ('ἡλίου', 21),\n",
       " ('οἶδα', 21),\n",
       " ('βασιληίης', 21),\n",
       " ('ἥκιστα', 21),\n",
       " ('Μέχρι', 21),\n",
       " ('αἰεί', 21),\n",
       " ('σιτία', 21),\n",
       " ('στρατηγοὶ', 21),\n",
       " ('εὖρος', 21),\n",
       " ('κεφαλῇσι', 21),\n",
       " ('ἀρχὰς', 21),\n",
       " ('βασιλεύς', 21),\n",
       " ('πυθέσθαι', 21),\n",
       " ('ἐποιήσατο', 21),\n",
       " ('Ἢν', 21),\n",
       " ('νύκτα', 21),\n",
       " ('παντὸς', 21),\n",
       " ('σεωυτοῦ', 21),\n",
       " ('πέμπει', 21),\n",
       " ('ἑβδομήκοντα', 21),\n",
       " ('Φοινίκων', 21),\n",
       " ('ἐγεγόνεε', 21),\n",
       " ('κάλλιστα', 21),\n",
       " ('γενόμενα', 21),\n",
       " ('πολλὴν', 21),\n",
       " ('ὀλίγον', 21),\n",
       " ('δήμου', 21),\n",
       " ('Πέρσῃ', 21),\n",
       " ('γενομένου', 21),\n",
       " ('ἄλλου', 21),\n",
       " ('τυγχάνει', 21),\n",
       " ('ἀπαλλάσσεσθαι', 21),\n",
       " ('οὕτως', 21),\n",
       " ('ναυμαχίῃ', 21),\n",
       " ('θεοῖσι', 21),\n",
       " ('πῦρ', 21),\n",
       " ('σύ', 21),\n",
       " ('Εὐρώπην', 21),\n",
       " ('ἄγγελοι', 20),\n",
       " ('κόλπον', 20),\n",
       " ('χώρῳ', 20),\n",
       " ('Ἀττικὴν', 20),\n",
       " ('Ταῦτά', 20),\n",
       " ('Πολυκράτεος', 20),\n",
       " ('ἐγώ', 20),\n",
       " ('ἐπιστάμενοι', 20),\n",
       " ('ὅμως', 20),\n",
       " ('καλέονται', 20),\n",
       " ('μέγιστα', 20),\n",
       " ('ἔδωκε', 20),\n",
       " ('βασιλέας', 20),\n",
       " ('ἔδοσαν', 20),\n",
       " ('πυθόμενοι', 20),\n",
       " ('ποιησάμενοι', 20),\n",
       " ('ἵπποι', 20),\n",
       " ('μαθὼν', 20),\n",
       " ('ὧν', 20),\n",
       " ('βουλόμενον', 20),\n",
       " ('ἄλλη', 20),\n",
       " ('ἀγχοῦ', 20),\n",
       " ('στρατῷ', 20),\n",
       " ('κατέλαβε', 20),\n",
       " ('ἐών', 20),\n",
       " ('ἐντὸς', 20),\n",
       " ('ἣν', 20),\n",
       " ('ἥμισυ', 20),\n",
       " ('καλεόμενον', 20),\n",
       " ('Καμβύσῃ', 20),\n",
       " ('ἧς', 20),\n",
       " ('λοιποὶ', 20),\n",
       " ('Εὐρώπης', 20),\n",
       " ...]"
      ]
     },
     "execution_count": 53,
     "metadata": {},
     "output_type": "execute_result"
    }
   ],
   "source": [
    "herod_frequencies.most_common()"
   ]
  },
  {
   "cell_type": "markdown",
   "metadata": {},
   "source": [
    "# Lemmatizing"
   ]
  },
  {
   "cell_type": "code",
   "execution_count": null,
   "metadata": {
    "collapsed": true
   },
   "outputs": [],
   "source": []
  }
 ],
 "metadata": {
  "kernelspec": {
   "display_name": "Python 3",
   "language": "python",
   "name": "python3"
  },
  "language_info": {
   "codemirror_mode": {
    "name": "ipython",
    "version": 3
   },
   "file_extension": ".py",
   "mimetype": "text/x-python",
   "name": "python",
   "nbconvert_exporter": "python",
   "pygments_lexer": "ipython3",
   "version": "3.5.0"
  }
 },
 "nbformat": 4,
 "nbformat_minor": 0
}
