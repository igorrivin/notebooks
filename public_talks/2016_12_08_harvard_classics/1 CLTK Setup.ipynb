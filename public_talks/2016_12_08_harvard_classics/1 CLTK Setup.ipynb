{
 "cells": [
  {
   "cell_type": "markdown",
   "metadata": {},
   "source": [
    "# Install Python\n",
    "\n",
    "Mac: https://www.python.org/downloads/ (currently is 3.5.2)\n",
    "\n",
    "Linux: Open Terminal and check current version with `python --version` or `python3 --version`. If 3.4 or 3.5, you're fine. If Python version is out of date, run these:\n",
    "\n",
    "\n",
    "``` bash\n",
    "$ curl -O https://raw.githubusercontent.com/kylepjohnson/python3_bootstrap/master/install.sh\n",
    "\n",
    "$ chmod +x install.sh\n",
    "\n",
    "$ ./install.sh\n",
    "```"
   ]
  },
  {
   "cell_type": "markdown",
   "metadata": {},
   "source": [
    "# Make virtual environment\n",
    "\n",
    "This makes a special environment (a \"sandbox\") just for the cltk. If something goes wrong, you can just delete it and start again.\n",
    "\n",
    "``` bash\n",
    "$ cd ~/\n",
    "$ mkdir cltk\n",
    "$ cd cltk\n",
    "$ pyvenv venv\n",
    "$ source venv/bin/activate\n",
    "```\n",
    "\n",
    "Now you can see that you're not using your system Python but this particular one:\n",
    "\n",
    "``` bash\n",
    "$ which Python\n",
    "```\n",
    "\n",
    "Note that every time you open a new Terminal window, you'll need to \"activate\" this environment with `source ~/cltk/venv/bin/activate`."
   ]
  },
  {
   "cell_type": "markdown",
   "metadata": {},
   "source": [
    "# Install CLTK\n",
    "\n",
    "``` bash\n",
    "$ pip install cltk\n",
    "```\n",
    "\n",
    "This will take a few minutes, as it will install several \"dependencies\", being other Python libraries which the CLTK uses.\n",
    "\n",
    "Also install Jupyter, which is a really handy way of writing code.\n",
    "\n",
    "``` bash\n",
    "$ pip install jupyter\n",
    "```"
   ]
  },
  {
   "cell_type": "markdown",
   "metadata": {},
   "source": [
    "# Try "
   ]
  }
 ],
 "metadata": {
  "kernelspec": {
   "display_name": "Python 3",
   "language": "python",
   "name": "python3"
  },
  "language_info": {
   "codemirror_mode": {
    "name": "ipython",
    "version": 3
   },
   "file_extension": ".py",
   "mimetype": "text/x-python",
   "name": "python",
   "nbconvert_exporter": "python",
   "pygments_lexer": "ipython3",
   "version": "3.5.2"
  }
 },
 "nbformat": 4,
 "nbformat_minor": 1
}
