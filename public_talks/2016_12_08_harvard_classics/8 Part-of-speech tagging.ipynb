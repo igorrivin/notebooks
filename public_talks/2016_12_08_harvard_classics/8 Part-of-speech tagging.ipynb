{
 "cells": [
  {
   "cell_type": "code",
   "execution_count": 3,
   "metadata": {
    "collapsed": false
   },
   "outputs": [
    {
     "data": {
      "text/plain": [
       "'arma virumque cano, Troiae qui primus ab oris Italiam, fato profugus, Laviniaque venit litora, multum ille et terris iactatus et alto vi superum saevae memorem Iunonis ob iram; multa quoque et bello passus, dum conderet urbem,               5 inferretque deos Latio, genus unde Latinum, Albanique patres, atque altae moenia Romae.'"
      ]
     },
     "execution_count": 3,
     "metadata": {},
     "output_type": "execute_result"
    }
   ],
   "source": [
    "aen = \"\"\"arma virumque cano, Troiae qui primus ab oris\n",
    "Italiam, fato profugus, Laviniaque venit\n",
    "litora, multum ille et terris iactatus et alto\n",
    "vi superum saevae memorem Iunonis ob iram;\n",
    "multa quoque et bello passus, dum conderet urbem,               5\n",
    "inferretque deos Latio, genus unde Latinum,\n",
    "Albanique patres, atque altae moenia Romae.\"\"\"\n",
    "\n",
    "# rm line breaks\n",
    "aen = aen.replace('\\n', ' ')"
   ]
  },
  {
   "cell_type": "code",
   "execution_count": 4,
   "metadata": {
    "collapsed": true
   },
   "outputs": [],
   "source": [
    "from cltk.tag.pos import POSTag"
   ]
  },
  {
   "cell_type": "code",
   "execution_count": 5,
   "metadata": {
    "collapsed": true
   },
   "outputs": [],
   "source": [
    "tagger = POSTag('latin')\n",
    "\n",
    "aen_tagged = tagger.tag_ngram_123_backoff(aen)"
   ]
  },
  {
   "cell_type": "code",
   "execution_count": 6,
   "metadata": {
    "collapsed": false
   },
   "outputs": [
    {
     "name": "stdout",
     "output_type": "stream",
     "text": [
      "[('arma', 'N-P---NA-'), ('virumque', None), ('cano', None), (',', 'U--------'), ('Troiae', None), ('qui', 'P-S---MN-'), ('primus', 'A-S---MN-'), ('ab', 'R--------'), ('oris', 'N-P---NB-'), ('Italiam', None), (',', 'U--------'), ('fato', None), ('profugus', None), (',', 'U--------'), ('Laviniaque', None), ('venit', 'V3SPIA---'), ('litora', 'N-P---NA-'), (',', 'U--------'), ('multum', 'A-S---MA-'), ('ille', 'P-S---MN-'), ('et', 'C--------'), ('terris', 'N-P---FB-'), ('iactatus', None), ('et', 'C--------'), ('alto', 'A-S---MB-'), ('vi', 'N-S---FB-'), ('superum', 'N-P---MG-'), ('saevae', None), ('memorem', 'V1SPSA---'), ('Iunonis', None), ('ob', 'R--------'), ('iram', 'N-S---FA-'), (';', None), ('multa', 'A-P---NA-'), ('quoque', 'D--------'), ('et', 'C--------'), ('bello', 'N-S---NB-'), ('passus', 'N-P---MA-'), (',', 'U--------'), ('dum', 'C--------'), ('conderet', None), ('urbem', 'N-S---FA-'), (',', 'U--------'), ('5', None), ('inferretque', None), ('deos', 'N-P---MA-'), ('Latio', None), (',', 'U--------'), ('genus', 'N-S---NN-'), ('unde', 'D--------'), ('Latinum', None), (',', 'U--------'), ('Albanique', None), ('patres', 'N-P---MV-'), (',', 'U--------'), ('atque', 'C--------'), ('altae', None), ('moenia', 'N-P---NA-'), ('Romae', None), ('.', 'U--------')]\n"
     ]
    }
   ],
   "source": [
    "print(aen_tagged)"
   ]
  },
  {
   "cell_type": "code",
   "execution_count": 8,
   "metadata": {
    "collapsed": false
   },
   "outputs": [
    {
     "ename": "NameError",
     "evalue": "name 'pycrfsuite' is not defined",
     "output_type": "error",
     "traceback": [
      "\u001b[0;31m---------------------------------------------------------------------------\u001b[0m",
      "\u001b[0;31mNameError\u001b[0m                                 Traceback (most recent call last)",
      "\u001b[0;32m<ipython-input-8-fc3d70dcf19b>\u001b[0m in \u001b[0;36m<module>\u001b[0;34m()\u001b[0m\n\u001b[1;32m      1\u001b[0m \u001b[0;31m# a few options\u001b[0m\u001b[0;34m\u001b[0m\u001b[0;34m\u001b[0m\u001b[0m\n\u001b[0;32m----> 2\u001b[0;31m \u001b[0maen_tagged\u001b[0m \u001b[0;34m=\u001b[0m \u001b[0mtagger\u001b[0m\u001b[0;34m.\u001b[0m\u001b[0mtag_crf\u001b[0m\u001b[0;34m(\u001b[0m\u001b[0;34m'Gallia est omnis divisa in partes tres'\u001b[0m\u001b[0;34m)\u001b[0m\u001b[0;34m\u001b[0m\u001b[0m\n\u001b[0m",
      "\u001b[0;32m/Users/kyle/notebooks/public_talks/2016_12_08_harvard_classics/venv/lib/python3.5/site-packages/cltk/tag/pos.py\u001b[0m in \u001b[0;36mtag_crf\u001b[0;34m(self, untagged_string)\u001b[0m\n\u001b[1;32m    127\u001b[0m         \u001b[0muntagged_tokens\u001b[0m \u001b[0;34m=\u001b[0m \u001b[0mwordpunct_tokenize\u001b[0m\u001b[0;34m(\u001b[0m\u001b[0muntagged_string\u001b[0m\u001b[0;34m)\u001b[0m\u001b[0;34m\u001b[0m\u001b[0m\n\u001b[1;32m    128\u001b[0m         \u001b[0mpickle_path\u001b[0m \u001b[0;34m=\u001b[0m \u001b[0mself\u001b[0m\u001b[0;34m.\u001b[0m\u001b[0mavailable_taggers\u001b[0m\u001b[0;34m[\u001b[0m\u001b[0;34m'crf'\u001b[0m\u001b[0;34m]\u001b[0m\u001b[0;34m\u001b[0m\u001b[0m\n\u001b[0;32m--> 129\u001b[0;31m         \u001b[0mtagger\u001b[0m \u001b[0;34m=\u001b[0m \u001b[0mCRFTagger\u001b[0m\u001b[0;34m(\u001b[0m\u001b[0;34m)\u001b[0m\u001b[0;34m\u001b[0m\u001b[0m\n\u001b[0m\u001b[1;32m    130\u001b[0m         \u001b[0mtagger\u001b[0m\u001b[0;34m.\u001b[0m\u001b[0mset_model_file\u001b[0m\u001b[0;34m(\u001b[0m\u001b[0mpickle_path\u001b[0m\u001b[0;34m)\u001b[0m\u001b[0;34m\u001b[0m\u001b[0m\n\u001b[1;32m    131\u001b[0m         \u001b[0mtagged_text\u001b[0m \u001b[0;34m=\u001b[0m \u001b[0mtagger\u001b[0m\u001b[0;34m.\u001b[0m\u001b[0mtag\u001b[0m\u001b[0;34m(\u001b[0m\u001b[0muntagged_tokens\u001b[0m\u001b[0;34m)\u001b[0m\u001b[0;34m\u001b[0m\u001b[0m\n",
      "\u001b[0;32m/Users/kyle/notebooks/public_talks/2016_12_08_harvard_classics/venv/lib/python3.5/site-packages/nltk/tag/crf.py\u001b[0m in \u001b[0;36m__init__\u001b[0;34m(self, feature_func, verbose, training_opt)\u001b[0m\n\u001b[1;32m     81\u001b[0m \u001b[0;34m\u001b[0m\u001b[0m\n\u001b[1;32m     82\u001b[0m         \u001b[0mself\u001b[0m\u001b[0;34m.\u001b[0m\u001b[0m_model_file\u001b[0m \u001b[0;34m=\u001b[0m \u001b[0;34m''\u001b[0m\u001b[0;34m\u001b[0m\u001b[0m\n\u001b[0;32m---> 83\u001b[0;31m         \u001b[0mself\u001b[0m\u001b[0;34m.\u001b[0m\u001b[0m_tagger\u001b[0m \u001b[0;34m=\u001b[0m \u001b[0mpycrfsuite\u001b[0m\u001b[0;34m.\u001b[0m\u001b[0mTagger\u001b[0m\u001b[0;34m(\u001b[0m\u001b[0;34m)\u001b[0m\u001b[0;34m\u001b[0m\u001b[0m\n\u001b[0m\u001b[1;32m     84\u001b[0m \u001b[0;34m\u001b[0m\u001b[0m\n\u001b[1;32m     85\u001b[0m         \u001b[0;32mif\u001b[0m \u001b[0mfeature_func\u001b[0m \u001b[0;32mis\u001b[0m \u001b[0;32mNone\u001b[0m\u001b[0;34m:\u001b[0m\u001b[0;34m\u001b[0m\u001b[0m\n",
      "\u001b[0;31mNameError\u001b[0m: name 'pycrfsuite' is not defined"
     ]
    }
   ],
   "source": [
    "# a few options\n",
    "aen_tagged = tagger.tag_crf('Gallia est omnis divisa in partes tres')"
   ]
  },
  {
   "cell_type": "code",
   "execution_count": null,
   "metadata": {
    "collapsed": true
   },
   "outputs": [],
   "source": [
    " "
   ]
  }
 ],
 "metadata": {
  "kernelspec": {
   "display_name": "Python 3",
   "language": "python",
   "name": "python3"
  },
  "language_info": {
   "codemirror_mode": {
    "name": "ipython",
    "version": 3
   },
   "file_extension": ".py",
   "mimetype": "text/x-python",
   "name": "python",
   "nbconvert_exporter": "python",
   "pygments_lexer": "ipython3",
   "version": "3.5.2"
  }
 },
 "nbformat": 4,
 "nbformat_minor": 2
}
