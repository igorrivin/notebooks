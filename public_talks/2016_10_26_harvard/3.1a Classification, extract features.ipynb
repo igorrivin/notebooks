{
 "cells": [
  {
   "cell_type": "code",
   "execution_count": 1,
   "metadata": {
    "collapsed": true
   },
   "outputs": [],
   "source": [
    "import datetime as dt\n",
    "import os\n",
    "import time\n",
    "\n",
    "from cltk.corpus.greek.tlg.parse_tlg_indices import get_epithet_of_author\n",
    "from cltk.corpus.greek.tlg.parse_tlg_indices import get_id_author\n",
    "import pandas\n",
    "from sklearn.externals import joblib\n",
    "from sklearn.feature_extraction.text import CountVectorizer"
   ]
  },
  {
   "cell_type": "markdown",
   "metadata": {},
   "source": [
    "# Make vectorizer"
   ]
  },
  {
   "cell_type": "code",
   "execution_count": 26,
   "metadata": {
    "collapsed": true
   },
   "outputs": [],
   "source": [
    "def stream_lemmatized_files(corpus_dir):\n",
    "    # return all docs in a dir\n",
    "    user_dir = os.path.expanduser('~/cltk_data/user_data/' + corpus_dir)\n",
    "    files = os.listdir(user_dir)\n",
    "\n",
    "    for file in files:\n",
    "        filepath = os.path.join(user_dir, file)\n",
    "        with open(filepath) as fo:\n",
    "            #TODO rm words less the 3 chars long\n",
    "            yield file[3:-4], fo.read()"
   ]
  },
  {
   "cell_type": "code",
   "execution_count": 3,
   "metadata": {
    "collapsed": false
   },
   "outputs": [
    {
     "name": "stdout",
     "output_type": "stream",
     "text": [
      "(1823, 5)\n",
      "... finished in 0:00:19.186495\n",
      "Number of texts: 1823\n"
     ]
    }
   ],
   "source": [
    "t0 = dt.datetime.utcnow()\n",
    "\n",
    "map_id_author = get_id_author()\n",
    "\n",
    "df = pandas.DataFrame(columns=['id', 'author' 'text', 'epithet'])\n",
    "\n",
    "for _id, text in stream_lemmatized_files('tlg_lemmatized_no_accents_no_stops'):\n",
    "    author = map_id_author[_id]\n",
    "    epithet = get_epithet_of_author(_id)\n",
    "    df = df.append({'id': _id, 'author': author, 'text': text, 'epithet': epithet}, ignore_index=True)\n",
    "\n",
    "print(df.shape)\n",
    "print('... finished in {}'.format(dt.datetime.utcnow() - t0))\n",
    "print('Number of texts:', len(df))"
   ]
  },
  {
   "cell_type": "code",
   "execution_count": 4,
   "metadata": {
    "collapsed": false
   },
   "outputs": [],
   "source": [
    "text_list = df['text'].tolist()\n",
    "\n",
    "# make a list of short texts to drop\n",
    "# For pres, get distributions of words per doc\n",
    "short_text_drop_index = [index if len(text) > 500 else None for index, text in enumerate(text_list) ]  # ~100 words"
   ]
  },
  {
   "cell_type": "code",
   "execution_count": 5,
   "metadata": {
    "collapsed": false
   },
   "outputs": [
    {
     "name": "stdout",
     "output_type": "stream",
     "text": [
      "... finished in 0:01:28.154103\n"
     ]
    }
   ],
   "source": [
    "t0 = dt.datetime.utcnow()\n",
    "\n",
    "# TODO: Consdier using generator to CV http://stackoverflow.com/a/21600406\n",
    "\n",
    "# time & size counts, w/ 50 texts:\n",
    "# 0:01:15 & 202M @ ngram_range=(1, 3), min_df=2, max_features=500\n",
    "# 0:00:26 & 80M @ ngram_range=(1, 2), analyzer='word', min_df=2, max_features=5000\n",
    "# 0:00:24 & 81M @ ngram_range=(1, 2), analyzer='word', min_df=2, max_features=50000\n",
    "\n",
    "# time & size counts, w/ 1823 texts:\n",
    "# 0:02:18 & 46MB @ ngram_range=(1, 1), analyzer='word', min_df=2, max_features=500000\n",
    "# 0:2:01 & 47 @ ngram_range=(1, 1), analyzer='word', min_df=2, max_features=1000000\n",
    "\n",
    "# max features in the lemmatized data set: 551428\n",
    "max_features = 100000\n",
    "ngrams = 1\n",
    "vectorizer = CountVectorizer(ngram_range=(1, ngrams), analyzer='word', \n",
    "                             min_df=2, max_features=max_features)\n",
    "term_document_matrix = vectorizer.fit_transform(text_list)  # input is a list of strings, 1 per document\n",
    "\n",
    "# save matrix\n",
    "vector_fp = os.path.expanduser('~/cltk_data/user_data/vectorizer_test_features{0}_ngrams{1}.pickle'.format(max_features, ngrams))\n",
    "joblib.dump(term_document_matrix, vector_fp)\n",
    "\n",
    "print('... finished in {}'.format(dt.datetime.utcnow() - t0))"
   ]
  },
  {
   "cell_type": "markdown",
   "metadata": {},
   "source": [
    "# Transform term matrix into feature table"
   ]
  },
  {
   "cell_type": "code",
   "execution_count": 6,
   "metadata": {
    "collapsed": false
   },
   "outputs": [],
   "source": [
    "# Put BoW vectors into a new df\n",
    "term_document_matrix = joblib.load(vector_fp)  # scipy.sparse.csr.csr_matrix"
   ]
  },
  {
   "cell_type": "code",
   "execution_count": 7,
   "metadata": {
    "collapsed": false
   },
   "outputs": [
    {
     "data": {
      "text/plain": [
       "(1823, 100000)"
      ]
     },
     "execution_count": 7,
     "metadata": {},
     "output_type": "execute_result"
    }
   ],
   "source": [
    "term_document_matrix.shape"
   ]
  },
  {
   "cell_type": "code",
   "execution_count": 8,
   "metadata": {
    "collapsed": false
   },
   "outputs": [],
   "source": [
    "term_document_matrix_array = term_document_matrix.toarray() "
   ]
  },
  {
   "cell_type": "code",
   "execution_count": 9,
   "metadata": {
    "collapsed": false
   },
   "outputs": [],
   "source": [
    "dataframe_bow = pandas.DataFrame(term_document_matrix_array, columns=vectorizer.get_feature_names())"
   ]
  },
  {
   "cell_type": "code",
   "execution_count": 10,
   "metadata": {
    "collapsed": false
   },
   "outputs": [],
   "source": [
    "ids_list = df['id'].tolist()"
   ]
  },
  {
   "cell_type": "code",
   "execution_count": 11,
   "metadata": {
    "collapsed": false
   },
   "outputs": [
    {
     "data": {
      "text/plain": [
       "1823"
      ]
     },
     "execution_count": 11,
     "metadata": {},
     "output_type": "execute_result"
    }
   ],
   "source": [
    "len(ids_list)"
   ]
  },
  {
   "cell_type": "code",
   "execution_count": 12,
   "metadata": {
    "collapsed": false
   },
   "outputs": [
    {
     "data": {
      "text/plain": [
       "(1823, 100000)"
      ]
     },
     "execution_count": 12,
     "metadata": {},
     "output_type": "execute_result"
    }
   ],
   "source": [
    "dataframe_bow.shape"
   ]
  },
  {
   "cell_type": "code",
   "execution_count": 13,
   "metadata": {
    "collapsed": false
   },
   "outputs": [],
   "source": [
    "dataframe_bow['id'] = ids_list"
   ]
  },
  {
   "cell_type": "code",
   "execution_count": 14,
   "metadata": {
    "collapsed": false
   },
   "outputs": [],
   "source": [
    "authors_list = df['author'].tolist()\n",
    "dataframe_bow['author'] = authors_list"
   ]
  },
  {
   "cell_type": "code",
   "execution_count": 15,
   "metadata": {
    "collapsed": false
   },
   "outputs": [],
   "source": [
    "epithets_list = df['epithet'].tolist()\n",
    "dataframe_bow['epithet'] = epithets_list"
   ]
  },
  {
   "cell_type": "code",
   "execution_count": 16,
   "metadata": {
    "collapsed": false
   },
   "outputs": [
    {
     "data": {
      "text/plain": [
       "0                  Historici/-ae\n",
       "1                        Tragici\n",
       "2                        Tragici\n",
       "3                         Comici\n",
       "4                           None\n",
       "5                           None\n",
       "6                  Historici/-ae\n",
       "7               Philosophici/-ae\n",
       "8                      Sophistae\n",
       "9                     Theologici\n",
       "10                 Historici/-ae\n",
       "11      Scriptores Ecclesiastici\n",
       "12                     Geographi\n",
       "13                    Periegetae\n",
       "14                          None\n",
       "15                    Lyrici/-ae\n",
       "16              Philosophici/-ae\n",
       "17                       Tragici\n",
       "18                          None\n",
       "19                     Geographi\n",
       "20                          None\n",
       "21                        Medici\n",
       "22                 Historici/-ae\n",
       "23                 Historici/-ae\n",
       "24                        Medici\n",
       "25                    Lyrici/-ae\n",
       "26                  Onirocritici\n",
       "27                Paradoxographi\n",
       "28      Scriptores Ecclesiastici\n",
       "29                       Tragici\n",
       "                  ...           \n",
       "1793               Historici/-ae\n",
       "1794               Historici/-ae\n",
       "1795               Historici/-ae\n",
       "1796                        None\n",
       "1797               Historici/-ae\n",
       "1798           Epigrammatici/-ae\n",
       "1799                        None\n",
       "1800            Philosophici/-ae\n",
       "1801            Philosophici/-ae\n",
       "1802                    Elegiaci\n",
       "1803                  Lyrici/-ae\n",
       "1804                     Iambici\n",
       "1805                 Alchemistae\n",
       "1806            Philosophici/-ae\n",
       "1807            Philosophici/-ae\n",
       "1808                      Comici\n",
       "1809                      Comici\n",
       "1810            Philosophici/-ae\n",
       "1811                  Lyrici/-ae\n",
       "1812                   Sophistae\n",
       "1813                   Epici/-ae\n",
       "1814            Philosophici/-ae\n",
       "1815            Philosophici/-ae\n",
       "1816               Historici/-ae\n",
       "1817                 Astronomici\n",
       "1818            Philosophici/-ae\n",
       "1819                  Lyrici/-ae\n",
       "1820               Historici/-ae\n",
       "1821                        None\n",
       "1822                      Comici\n",
       "Name: epithet, dtype: object"
      ]
     },
     "execution_count": 16,
     "metadata": {},
     "output_type": "execute_result"
    }
   ],
   "source": [
    "# For pres, give distribution of epithets, including None\n",
    "dataframe_bow['epithet']"
   ]
  },
  {
   "cell_type": "code",
   "execution_count": 21,
   "metadata": {
    "collapsed": false
   },
   "outputs": [
    {
     "name": "stdout",
     "output_type": "stream",
     "text": [
      "... finished in 0:00:02.298707\n"
     ]
    }
   ],
   "source": [
    "t0 = dt.datetime.utcnow()\n",
    "\n",
    "# removes 334\n",
    "#! remove rows whose epithet = None\n",
    "# note on selecting none in pandas: http://stackoverflow.com/a/24489602\n",
    "dataframe_bow = dataframe_bow[dataframe_bow.epithet.notnull()]\n",
    "dataframe_bow.shape\n",
    "\n",
    "print('... finished in {}'.format(dt.datetime.utcnow() - t0))"
   ]
  },
  {
   "cell_type": "code",
   "execution_count": 22,
   "metadata": {
    "collapsed": false
   },
   "outputs": [
    {
     "name": "stdout",
     "output_type": "stream",
     "text": [
      "... finished in 0:05:07.627325\n"
     ]
    }
   ],
   "source": [
    "t0 = dt.datetime.utcnow()\n",
    "\n",
    "dataframe_bow.to_csv(os.path.expanduser('~/cltk_data/user_data/tlg_bow.csv'))\n",
    "\n",
    "print('... finished in {}'.format(dt.datetime.utcnow() - t0))"
   ]
  },
  {
   "cell_type": "code",
   "execution_count": 23,
   "metadata": {
    "collapsed": false
   },
   "outputs": [
    {
     "data": {
      "text/plain": [
       "(1489, 100003)"
      ]
     },
     "execution_count": 23,
     "metadata": {},
     "output_type": "execute_result"
    }
   ],
   "source": [
    "dataframe_bow.shape"
   ]
  },
  {
   "cell_type": "code",
   "execution_count": 24,
   "metadata": {
    "collapsed": false,
    "scrolled": true
   },
   "outputs": [
    {
     "data": {
      "text/html": [
       "<div>\n",
       "<table border=\"1\" class=\"dataframe\">\n",
       "  <thead>\n",
       "    <tr style=\"text-align: right;\">\n",
       "      <th></th>\n",
       "      <th>ʹʹ</th>\n",
       "      <th>ʹγʹ</th>\n",
       "      <th>ʹδʹ</th>\n",
       "      <th>αʹ</th>\n",
       "      <th>ααα</th>\n",
       "      <th>ααπτος</th>\n",
       "      <th>ααπτους</th>\n",
       "      <th>ααρων</th>\n",
       "      <th>αασαμην</th>\n",
       "      <th>αασχετον</th>\n",
       "      <th>...</th>\n",
       "      <th>ϲωμα</th>\n",
       "      <th>ϲωματα</th>\n",
       "      <th>ϲωματι</th>\n",
       "      <th>ϲωματοϲ</th>\n",
       "      <th>ϲωματων</th>\n",
       "      <th>ϲωμαϲι</th>\n",
       "      <th>ϲωμαϲιν</th>\n",
       "      <th>id</th>\n",
       "      <th>author</th>\n",
       "      <th>epithet</th>\n",
       "    </tr>\n",
       "  </thead>\n",
       "  <tbody>\n",
       "    <tr>\n",
       "      <th>0</th>\n",
       "      <td>0</td>\n",
       "      <td>0</td>\n",
       "      <td>0</td>\n",
       "      <td>0</td>\n",
       "      <td>0</td>\n",
       "      <td>0</td>\n",
       "      <td>0</td>\n",
       "      <td>0</td>\n",
       "      <td>0</td>\n",
       "      <td>0</td>\n",
       "      <td>...</td>\n",
       "      <td>0</td>\n",
       "      <td>0</td>\n",
       "      <td>0</td>\n",
       "      <td>0</td>\n",
       "      <td>0</td>\n",
       "      <td>0</td>\n",
       "      <td>0</td>\n",
       "      <td>1459</td>\n",
       "      <td>Lepidus Hist.</td>\n",
       "      <td>Historici/-ae</td>\n",
       "    </tr>\n",
       "    <tr>\n",
       "      <th>1</th>\n",
       "      <td>0</td>\n",
       "      <td>0</td>\n",
       "      <td>0</td>\n",
       "      <td>0</td>\n",
       "      <td>0</td>\n",
       "      <td>0</td>\n",
       "      <td>0</td>\n",
       "      <td>0</td>\n",
       "      <td>0</td>\n",
       "      <td>0</td>\n",
       "      <td>...</td>\n",
       "      <td>0</td>\n",
       "      <td>0</td>\n",
       "      <td>0</td>\n",
       "      <td>0</td>\n",
       "      <td>0</td>\n",
       "      <td>0</td>\n",
       "      <td>0</td>\n",
       "      <td>0825</td>\n",
       "      <td>Melito Trag.</td>\n",
       "      <td>Tragici</td>\n",
       "    </tr>\n",
       "    <tr>\n",
       "      <th>2</th>\n",
       "      <td>0</td>\n",
       "      <td>0</td>\n",
       "      <td>0</td>\n",
       "      <td>0</td>\n",
       "      <td>0</td>\n",
       "      <td>0</td>\n",
       "      <td>0</td>\n",
       "      <td>0</td>\n",
       "      <td>0</td>\n",
       "      <td>0</td>\n",
       "      <td>...</td>\n",
       "      <td>0</td>\n",
       "      <td>0</td>\n",
       "      <td>0</td>\n",
       "      <td>0</td>\n",
       "      <td>0</td>\n",
       "      <td>0</td>\n",
       "      <td>0</td>\n",
       "      <td>0331</td>\n",
       "      <td>[Polyidus] Trag.</td>\n",
       "      <td>Tragici</td>\n",
       "    </tr>\n",
       "    <tr>\n",
       "      <th>3</th>\n",
       "      <td>0</td>\n",
       "      <td>0</td>\n",
       "      <td>0</td>\n",
       "      <td>0</td>\n",
       "      <td>0</td>\n",
       "      <td>0</td>\n",
       "      <td>0</td>\n",
       "      <td>0</td>\n",
       "      <td>0</td>\n",
       "      <td>0</td>\n",
       "      <td>...</td>\n",
       "      <td>0</td>\n",
       "      <td>0</td>\n",
       "      <td>0</td>\n",
       "      <td>0</td>\n",
       "      <td>0</td>\n",
       "      <td>0</td>\n",
       "      <td>0</td>\n",
       "      <td>0417</td>\n",
       "      <td>Archippus Comic.</td>\n",
       "      <td>Comici</td>\n",
       "    </tr>\n",
       "    <tr>\n",
       "      <th>6</th>\n",
       "      <td>0</td>\n",
       "      <td>0</td>\n",
       "      <td>0</td>\n",
       "      <td>0</td>\n",
       "      <td>0</td>\n",
       "      <td>0</td>\n",
       "      <td>0</td>\n",
       "      <td>0</td>\n",
       "      <td>0</td>\n",
       "      <td>0</td>\n",
       "      <td>...</td>\n",
       "      <td>0</td>\n",
       "      <td>0</td>\n",
       "      <td>0</td>\n",
       "      <td>0</td>\n",
       "      <td>0</td>\n",
       "      <td>0</td>\n",
       "      <td>0</td>\n",
       "      <td>2475</td>\n",
       "      <td>Menecrates Hist.</td>\n",
       "      <td>Historici/-ae</td>\n",
       "    </tr>\n",
       "    <tr>\n",
       "      <th>7</th>\n",
       "      <td>0</td>\n",
       "      <td>0</td>\n",
       "      <td>0</td>\n",
       "      <td>0</td>\n",
       "      <td>0</td>\n",
       "      <td>0</td>\n",
       "      <td>0</td>\n",
       "      <td>0</td>\n",
       "      <td>0</td>\n",
       "      <td>0</td>\n",
       "      <td>...</td>\n",
       "      <td>0</td>\n",
       "      <td>0</td>\n",
       "      <td>0</td>\n",
       "      <td>0</td>\n",
       "      <td>0</td>\n",
       "      <td>0</td>\n",
       "      <td>0</td>\n",
       "      <td>4075</td>\n",
       "      <td>Marinus Phil.</td>\n",
       "      <td>Philosophici/-ae</td>\n",
       "    </tr>\n",
       "    <tr>\n",
       "      <th>8</th>\n",
       "      <td>0</td>\n",
       "      <td>0</td>\n",
       "      <td>0</td>\n",
       "      <td>0</td>\n",
       "      <td>0</td>\n",
       "      <td>0</td>\n",
       "      <td>0</td>\n",
       "      <td>0</td>\n",
       "      <td>0</td>\n",
       "      <td>0</td>\n",
       "      <td>...</td>\n",
       "      <td>0</td>\n",
       "      <td>0</td>\n",
       "      <td>0</td>\n",
       "      <td>0</td>\n",
       "      <td>0</td>\n",
       "      <td>0</td>\n",
       "      <td>0</td>\n",
       "      <td>2127</td>\n",
       "      <td>Troilus Soph.</td>\n",
       "      <td>Sophistae</td>\n",
       "    </tr>\n",
       "    <tr>\n",
       "      <th>9</th>\n",
       "      <td>0</td>\n",
       "      <td>0</td>\n",
       "      <td>0</td>\n",
       "      <td>0</td>\n",
       "      <td>0</td>\n",
       "      <td>0</td>\n",
       "      <td>0</td>\n",
       "      <td>4</td>\n",
       "      <td>0</td>\n",
       "      <td>0</td>\n",
       "      <td>...</td>\n",
       "      <td>0</td>\n",
       "      <td>0</td>\n",
       "      <td>0</td>\n",
       "      <td>0</td>\n",
       "      <td>0</td>\n",
       "      <td>0</td>\n",
       "      <td>0</td>\n",
       "      <td>2074</td>\n",
       "      <td>Apollinaris Theol.</td>\n",
       "      <td>Theologici</td>\n",
       "    </tr>\n",
       "    <tr>\n",
       "      <th>10</th>\n",
       "      <td>0</td>\n",
       "      <td>0</td>\n",
       "      <td>0</td>\n",
       "      <td>0</td>\n",
       "      <td>0</td>\n",
       "      <td>0</td>\n",
       "      <td>0</td>\n",
       "      <td>0</td>\n",
       "      <td>0</td>\n",
       "      <td>0</td>\n",
       "      <td>...</td>\n",
       "      <td>0</td>\n",
       "      <td>0</td>\n",
       "      <td>0</td>\n",
       "      <td>0</td>\n",
       "      <td>0</td>\n",
       "      <td>0</td>\n",
       "      <td>0</td>\n",
       "      <td>2173</td>\n",
       "      <td>Antileon Hist.</td>\n",
       "      <td>Historici/-ae</td>\n",
       "    </tr>\n",
       "    <tr>\n",
       "      <th>11</th>\n",
       "      <td>0</td>\n",
       "      <td>0</td>\n",
       "      <td>0</td>\n",
       "      <td>0</td>\n",
       "      <td>0</td>\n",
       "      <td>0</td>\n",
       "      <td>0</td>\n",
       "      <td>0</td>\n",
       "      <td>0</td>\n",
       "      <td>0</td>\n",
       "      <td>...</td>\n",
       "      <td>0</td>\n",
       "      <td>0</td>\n",
       "      <td>0</td>\n",
       "      <td>0</td>\n",
       "      <td>0</td>\n",
       "      <td>0</td>\n",
       "      <td>0</td>\n",
       "      <td>1419</td>\n",
       "      <td>Hermas Scr. Eccl., Pastor Hermae</td>\n",
       "      <td>Scriptores Ecclesiastici</td>\n",
       "    </tr>\n",
       "  </tbody>\n",
       "</table>\n",
       "<p>10 rows × 100003 columns</p>\n",
       "</div>"
      ],
      "text/plain": [
       "    ʹʹ  ʹγʹ  ʹδʹ  αʹ  ααα  ααπτος  ααπτους  ααρων  αασαμην  αασχετον  \\\n",
       "0    0    0    0   0    0       0        0      0        0         0   \n",
       "1    0    0    0   0    0       0        0      0        0         0   \n",
       "2    0    0    0   0    0       0        0      0        0         0   \n",
       "3    0    0    0   0    0       0        0      0        0         0   \n",
       "6    0    0    0   0    0       0        0      0        0         0   \n",
       "7    0    0    0   0    0       0        0      0        0         0   \n",
       "8    0    0    0   0    0       0        0      0        0         0   \n",
       "9    0    0    0   0    0       0        0      4        0         0   \n",
       "10   0    0    0   0    0       0        0      0        0         0   \n",
       "11   0    0    0   0    0       0        0      0        0         0   \n",
       "\n",
       "              ...             ϲωμα  ϲωματα  ϲωματι  ϲωματοϲ  ϲωματων  ϲωμαϲι  \\\n",
       "0             ...                0       0       0        0        0       0   \n",
       "1             ...                0       0       0        0        0       0   \n",
       "2             ...                0       0       0        0        0       0   \n",
       "3             ...                0       0       0        0        0       0   \n",
       "6             ...                0       0       0        0        0       0   \n",
       "7             ...                0       0       0        0        0       0   \n",
       "8             ...                0       0       0        0        0       0   \n",
       "9             ...                0       0       0        0        0       0   \n",
       "10            ...                0       0       0        0        0       0   \n",
       "11            ...                0       0       0        0        0       0   \n",
       "\n",
       "    ϲωμαϲιν    id                            author                   epithet  \n",
       "0         0  1459                     Lepidus Hist.             Historici/-ae  \n",
       "1         0  0825                      Melito Trag.                   Tragici  \n",
       "2         0  0331                  [Polyidus] Trag.                   Tragici  \n",
       "3         0  0417                  Archippus Comic.                    Comici  \n",
       "6         0  2475                  Menecrates Hist.             Historici/-ae  \n",
       "7         0  4075                     Marinus Phil.          Philosophici/-ae  \n",
       "8         0  2127                     Troilus Soph.                 Sophistae  \n",
       "9         0  2074                Apollinaris Theol.                Theologici  \n",
       "10        0  2173                    Antileon Hist.             Historici/-ae  \n",
       "11        0  1419  Hermas Scr. Eccl., Pastor Hermae  Scriptores Ecclesiastici  \n",
       "\n",
       "[10 rows x 100003 columns]"
      ]
     },
     "execution_count": 24,
     "metadata": {},
     "output_type": "execute_result"
    }
   ],
   "source": [
    "dataframe_bow.head(10)"
   ]
  },
  {
   "cell_type": "code",
   "execution_count": 25,
   "metadata": {
    "collapsed": false
   },
   "outputs": [
    {
     "data": {
      "text/plain": [
       "['/root/cltk_data/user_data/tlg_bow_df.pickle']"
      ]
     },
     "execution_count": 25,
     "metadata": {},
     "output_type": "execute_result"
    }
   ],
   "source": [
    "# write dataframe_bow to disk, for fast reuse while classifying\n",
    "# 2.3G\n",
    "fp_df = os.path.expanduser('~/cltk_data/user_data/tlg_bow_df.pickle')\n",
    "joblib.dump(dataframe_bow, fp_df)"
   ]
  }
 ],
 "metadata": {
  "kernelspec": {
   "display_name": "Python 3",
   "language": "python",
   "name": "python3"
  },
  "language_info": {
   "codemirror_mode": {
    "name": "ipython",
    "version": 3
   },
   "file_extension": ".py",
   "mimetype": "text/x-python",
   "name": "python",
   "nbconvert_exporter": "python",
   "pygments_lexer": "ipython3",
   "version": "3.5.2"
  }
 },
 "nbformat": 4,
 "nbformat_minor": 1
}
