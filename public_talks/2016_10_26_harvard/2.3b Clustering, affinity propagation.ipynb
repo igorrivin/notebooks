{
 "cells": [
  {
   "cell_type": "markdown",
   "metadata": {},
   "source": [
    "* Scikit Affinity propagation: http://scikit-learn.org/stable/modules/generated/sklearn.cluster.AffinityPropagation.html"
   ]
  },
  {
   "cell_type": "code",
   "execution_count": 11,
   "metadata": {
    "collapsed": true
   },
   "outputs": [],
   "source": [
    "import datetime as dt\n",
    "import os\n",
    "import time\n",
    "\n",
    "from cltk.corpus.greek.tlg.parse_tlg_indices import get_epithet_index\n",
    "from cltk.corpus.greek.tlg.parse_tlg_indices import get_epithets\n",
    "from cltk.corpus.greek.tlg.parse_tlg_indices import select_authors_by_epithet\n",
    "from cltk.corpus.greek.tlg.parse_tlg_indices import get_epithet_of_author\n",
    "from cltk.corpus.greek.tlg.parse_tlg_indices import get_id_author\n",
    "from cltk.stop.greek.stops import STOPS_LIST as greek_stops\n",
    "from cltk.tokenize.word import nltk_tokenize_words\n",
    "\n",
    "from greek_accentuation.characters import base\n",
    "\n",
    "import pandas  # pip install pandas\n",
    "\n",
    "from sklearn import metrics\n",
    "from sklearn.cluster import AffinityPropagation\n",
    "from sklearn.externals import joblib\n",
    "from sklearn.feature_extraction.text import TfidfVectorizer"
   ]
  },
  {
   "cell_type": "code",
   "execution_count": 12,
   "metadata": {
    "collapsed": true
   },
   "outputs": [],
   "source": [
    "# Try this dropping the following less represented epithets (list taken from 3.1b)\n",
    "to_drop = {'Apologetici',\n",
    " 'Astrologici',\n",
    " 'Astronomici',\n",
    " 'Atticistae',\n",
    " 'Biographi',\n",
    " 'Bucolici',\n",
    " 'Choliambographi',\n",
    " 'Chronographi',\n",
    " 'Doxographi',\n",
    " 'Epigrammatici/-ae',\n",
    " 'Epistolographi',\n",
    " 'Geographi',\n",
    " 'Geometri',\n",
    " 'Gnomici',\n",
    " 'Gnostici',\n",
    " 'Hagiographi',\n",
    " 'Hymnographi',\n",
    " 'Iambici',\n",
    " 'Lexicographi',\n",
    " 'Mathematici',\n",
    " 'Mechanici',\n",
    " 'Mimographi',\n",
    " 'Musici',\n",
    " 'Mythographi',\n",
    " 'Nomographi',\n",
    " 'Onirocritici',\n",
    " 'Oratores',\n",
    " 'Paradoxographi',\n",
    " 'Parodii',\n",
    " 'Paroemiographi',\n",
    " 'Periegetae',\n",
    " 'Philologi',\n",
    " 'Poetae Didactici',\n",
    " 'Poetae Medici',\n",
    " 'Poetae Philosophi',\n",
    " 'Polyhistorici',\n",
    " 'Scriptores Erotici',\n",
    " 'Scriptores Fabularum',\n",
    " 'Scriptores Rerum Naturalium',\n",
    " 'Tactici'}"
   ]
  },
  {
   "cell_type": "code",
   "execution_count": 13,
   "metadata": {
    "collapsed": true
   },
   "outputs": [],
   "source": [
    "def stream_lemmatized_files(corpus_dir, reject_none_epithet=True, reject_chars_less_than=None, reject_epithets=None):\n",
    "    # return all docs in a dir; parameters for removing by None epithet and short texts\n",
    "    user_dir = os.path.expanduser('~/cltk_data/user_data/' + corpus_dir)\n",
    "    files = os.listdir(user_dir)\n",
    "    \n",
    "    map_id_author = get_id_author()\n",
    "\n",
    "    for file in files:\n",
    "        filepath = os.path.join(user_dir, file)\n",
    "        file_id = file[3:-4]\n",
    "        author = map_id_author[file_id]\n",
    "\n",
    "        if reject_none_epithet:\n",
    "            # get id numbers and then epithets of each author\n",
    "            author_epithet = get_epithet_of_author(file_id)\n",
    "            if not author_epithet:\n",
    "                continue\n",
    "        \n",
    "        if reject_epithets:\n",
    "            if author_epithet in reject_epithets:\n",
    "                continue\n",
    "\n",
    "        with open(filepath) as fo:\n",
    "            \n",
    "            text = fo.read()\n",
    "            \n",
    "            if reject_chars_less_than:\n",
    "                if len(text) < reject_chars_less_than:\n",
    "                    continue\n",
    "            \n",
    "            yield file_id, author, text"
   ]
  },
  {
   "cell_type": "code",
   "execution_count": 14,
   "metadata": {
    "collapsed": false
   },
   "outputs": [
    {
     "name": "stdout",
     "output_type": "stream",
     "text": [
      "... finished in 0:00:01.640737\n",
      "Number of texts: 943\n"
     ]
    }
   ],
   "source": [
    "t0 = dt.datetime.utcnow()\n",
    "\n",
    "id_author_text_list = []\n",
    "for tlg_id, author, text in stream_lemmatized_files('tlg_lemmatized_no_accents_no_stops',\n",
    "                                                    reject_none_epithet=True,\n",
    "                                                    reject_chars_less_than=500,\n",
    "                                                    reject_epithets=to_drop):\n",
    "    id_author_text_list.append((tlg_id, author, text))\n",
    "\n",
    "print('... finished in {}'.format(dt.datetime.utcnow() - t0))\n",
    "print('Number of texts:', len(id_author_text_list))"
   ]
  },
  {
   "cell_type": "code",
   "execution_count": 43,
   "metadata": {
    "collapsed": false
   },
   "outputs": [
    {
     "name": "stdout",
     "output_type": "stream",
     "text": [
      "... finished in 0:00:46.141642\n"
     ]
    }
   ],
   "source": [
    "t0 = dt.datetime.utcnow()\n",
    "\n",
    "# tf-idf features\n",
    "n_samples = 2000\n",
    "n_features = 2000  # TODO: increase\n",
    "n_topics = len(get_epithets())  # 55\n",
    "n_top_words = 20\n",
    "\n",
    "tfidf_vectorizer = TfidfVectorizer(max_df=1.0, \n",
    "                                   min_df=1,\n",
    "                                   max_features=n_features,\n",
    "                                   stop_words=None)\n",
    "texts_list = [t[2] for t in id_author_text_list]\n",
    "tfidf_matrix = tfidf_vectorizer.fit_transform(texts_list)\n",
    "\n",
    "# save features\n",
    "vector_fp = os.path.expanduser('~/cltk_data/user_data/tfidf_{0}features.pickle'.format(n_features))\n",
    "joblib.dump(tfidf_matrix, vector_fp)\n",
    "\n",
    "print('... finished in {}'.format(dt.datetime.utcnow() - t0))\n",
    "# time on good server:\n",
    "# 1000 features: 0:01:22"
   ]
  },
  {
   "cell_type": "markdown",
   "metadata": {},
   "source": [
    "# Do affinity propagation"
   ]
  },
  {
   "cell_type": "code",
   "execution_count": 44,
   "metadata": {
    "collapsed": false
   },
   "outputs": [],
   "source": [
    "af = AffinityPropagation(damping=0.5).fit(tfidf_matrix)  # defaults: damping=0.5, preference=None\n",
    "cluster_centers_indices = af.cluster_centers_indices_\n",
    "labels = af.labels_\n",
    "n_clusters_ = len(cluster_centers_indices)"
   ]
  },
  {
   "cell_type": "code",
   "execution_count": 45,
   "metadata": {
    "collapsed": false
   },
   "outputs": [
    {
     "name": "stdout",
     "output_type": "stream",
     "text": [
      "Estimated number of clusters: 87\n"
     ]
    }
   ],
   "source": [
    "print('Estimated number of clusters: %d' % n_clusters_)"
   ]
  },
  {
   "cell_type": "markdown",
   "metadata": {},
   "source": [
    "# Visualize"
   ]
  },
  {
   "cell_type": "code",
   "execution_count": 46,
   "metadata": {
    "collapsed": true
   },
   "outputs": [],
   "source": [
    "import matplotlib.pyplot as plt\n",
    "from itertools import cycle"
   ]
  },
  {
   "cell_type": "code",
   "execution_count": 47,
   "metadata": {
    "collapsed": true
   },
   "outputs": [],
   "source": [
    "tfidf_array = tfidf_matrix.toarray()"
   ]
  },
  {
   "cell_type": "code",
   "execution_count": 48,
   "metadata": {
    "collapsed": false
   },
   "outputs": [
    {
     "data": {
      "text/plain": [
       "numpy.ndarray"
      ]
     },
     "execution_count": 48,
     "metadata": {},
     "output_type": "execute_result"
    }
   ],
   "source": [
    "type(tfidf_array)"
   ]
  },
  {
   "cell_type": "code",
   "execution_count": 52,
   "metadata": {
    "collapsed": false
   },
   "outputs": [
    {
     "data": {
      "text/plain": [
       "(943, 2000)"
      ]
     },
     "execution_count": 52,
     "metadata": {},
     "output_type": "execute_result"
    }
   ],
   "source": [
    "tfidf_array.shape"
   ]
  },
  {
   "cell_type": "code",
   "execution_count": 51,
   "metadata": {
    "collapsed": false
   },
   "outputs": [
    {
     "data": {
      "text/html": [
       "<div>\n",
       "<table border=\"1\" class=\"dataframe\">\n",
       "  <thead>\n",
       "    <tr style=\"text-align: right;\">\n",
       "      <th></th>\n",
       "      <th>0</th>\n",
       "      <th>1</th>\n",
       "      <th>2</th>\n",
       "      <th>3</th>\n",
       "      <th>4</th>\n",
       "      <th>5</th>\n",
       "      <th>6</th>\n",
       "      <th>7</th>\n",
       "      <th>8</th>\n",
       "      <th>9</th>\n",
       "      <th>...</th>\n",
       "      <th>1990</th>\n",
       "      <th>1991</th>\n",
       "      <th>1992</th>\n",
       "      <th>1993</th>\n",
       "      <th>1994</th>\n",
       "      <th>1995</th>\n",
       "      <th>1996</th>\n",
       "      <th>1997</th>\n",
       "      <th>1998</th>\n",
       "      <th>1999</th>\n",
       "    </tr>\n",
       "  </thead>\n",
       "  <tbody>\n",
       "    <tr>\n",
       "      <th>0</th>\n",
       "      <td>0.000000</td>\n",
       "      <td>0.000000</td>\n",
       "      <td>0.000000</td>\n",
       "      <td>0.000000</td>\n",
       "      <td>0.000000</td>\n",
       "      <td>0.000000</td>\n",
       "      <td>0.000000</td>\n",
       "      <td>0.00000</td>\n",
       "      <td>0.000000</td>\n",
       "      <td>0.000000</td>\n",
       "      <td>...</td>\n",
       "      <td>0.000000</td>\n",
       "      <td>0.000000</td>\n",
       "      <td>0.146482</td>\n",
       "      <td>0.000000</td>\n",
       "      <td>0.000000</td>\n",
       "      <td>0.000000</td>\n",
       "      <td>0.000000</td>\n",
       "      <td>0.000000</td>\n",
       "      <td>0.000000</td>\n",
       "      <td>0.00000</td>\n",
       "    </tr>\n",
       "    <tr>\n",
       "      <th>1</th>\n",
       "      <td>0.000000</td>\n",
       "      <td>0.000000</td>\n",
       "      <td>0.000000</td>\n",
       "      <td>0.000000</td>\n",
       "      <td>0.000000</td>\n",
       "      <td>0.000000</td>\n",
       "      <td>0.000000</td>\n",
       "      <td>0.00000</td>\n",
       "      <td>0.000000</td>\n",
       "      <td>0.000000</td>\n",
       "      <td>...</td>\n",
       "      <td>0.000000</td>\n",
       "      <td>0.000000</td>\n",
       "      <td>0.000000</td>\n",
       "      <td>0.000000</td>\n",
       "      <td>0.000000</td>\n",
       "      <td>0.000000</td>\n",
       "      <td>0.000000</td>\n",
       "      <td>0.000000</td>\n",
       "      <td>0.000000</td>\n",
       "      <td>0.00000</td>\n",
       "    </tr>\n",
       "    <tr>\n",
       "      <th>2</th>\n",
       "      <td>0.000000</td>\n",
       "      <td>0.000000</td>\n",
       "      <td>0.000000</td>\n",
       "      <td>0.000000</td>\n",
       "      <td>0.000000</td>\n",
       "      <td>0.000000</td>\n",
       "      <td>0.000000</td>\n",
       "      <td>0.00000</td>\n",
       "      <td>0.000000</td>\n",
       "      <td>0.000000</td>\n",
       "      <td>...</td>\n",
       "      <td>0.000000</td>\n",
       "      <td>0.000000</td>\n",
       "      <td>0.000000</td>\n",
       "      <td>0.000000</td>\n",
       "      <td>0.000000</td>\n",
       "      <td>0.000000</td>\n",
       "      <td>0.000000</td>\n",
       "      <td>0.000000</td>\n",
       "      <td>0.000000</td>\n",
       "      <td>0.00000</td>\n",
       "    </tr>\n",
       "    <tr>\n",
       "      <th>3</th>\n",
       "      <td>0.000000</td>\n",
       "      <td>0.000000</td>\n",
       "      <td>0.000000</td>\n",
       "      <td>0.000000</td>\n",
       "      <td>0.000000</td>\n",
       "      <td>0.000000</td>\n",
       "      <td>0.000000</td>\n",
       "      <td>0.00000</td>\n",
       "      <td>0.000000</td>\n",
       "      <td>0.000000</td>\n",
       "      <td>...</td>\n",
       "      <td>0.000000</td>\n",
       "      <td>0.000000</td>\n",
       "      <td>0.000000</td>\n",
       "      <td>0.000000</td>\n",
       "      <td>0.000000</td>\n",
       "      <td>0.000000</td>\n",
       "      <td>0.000000</td>\n",
       "      <td>0.043492</td>\n",
       "      <td>0.000000</td>\n",
       "      <td>0.00000</td>\n",
       "    </tr>\n",
       "    <tr>\n",
       "      <th>4</th>\n",
       "      <td>0.000000</td>\n",
       "      <td>0.000000</td>\n",
       "      <td>0.023044</td>\n",
       "      <td>0.000000</td>\n",
       "      <td>0.000000</td>\n",
       "      <td>0.000000</td>\n",
       "      <td>0.000000</td>\n",
       "      <td>0.00000</td>\n",
       "      <td>0.000000</td>\n",
       "      <td>0.000000</td>\n",
       "      <td>...</td>\n",
       "      <td>0.000000</td>\n",
       "      <td>0.013438</td>\n",
       "      <td>0.000000</td>\n",
       "      <td>0.000000</td>\n",
       "      <td>0.000000</td>\n",
       "      <td>0.013065</td>\n",
       "      <td>0.000000</td>\n",
       "      <td>0.043955</td>\n",
       "      <td>0.000000</td>\n",
       "      <td>0.01411</td>\n",
       "    </tr>\n",
       "    <tr>\n",
       "      <th>5</th>\n",
       "      <td>0.028007</td>\n",
       "      <td>0.011669</td>\n",
       "      <td>0.031058</td>\n",
       "      <td>0.041164</td>\n",
       "      <td>0.013789</td>\n",
       "      <td>0.004450</td>\n",
       "      <td>0.030392</td>\n",
       "      <td>0.01973</td>\n",
       "      <td>0.002577</td>\n",
       "      <td>0.008314</td>\n",
       "      <td>...</td>\n",
       "      <td>0.000000</td>\n",
       "      <td>0.004895</td>\n",
       "      <td>0.001756</td>\n",
       "      <td>0.001942</td>\n",
       "      <td>0.001891</td>\n",
       "      <td>0.006663</td>\n",
       "      <td>0.011102</td>\n",
       "      <td>0.067246</td>\n",
       "      <td>0.000000</td>\n",
       "      <td>0.00514</td>\n",
       "    </tr>\n",
       "    <tr>\n",
       "      <th>6</th>\n",
       "      <td>0.000000</td>\n",
       "      <td>0.007586</td>\n",
       "      <td>0.015280</td>\n",
       "      <td>0.006938</td>\n",
       "      <td>0.004137</td>\n",
       "      <td>0.011573</td>\n",
       "      <td>0.000000</td>\n",
       "      <td>0.00000</td>\n",
       "      <td>0.004467</td>\n",
       "      <td>0.054050</td>\n",
       "      <td>...</td>\n",
       "      <td>0.000000</td>\n",
       "      <td>0.001273</td>\n",
       "      <td>0.013699</td>\n",
       "      <td>0.006311</td>\n",
       "      <td>0.000000</td>\n",
       "      <td>0.003713</td>\n",
       "      <td>0.028869</td>\n",
       "      <td>0.010825</td>\n",
       "      <td>0.000000</td>\n",
       "      <td>0.00000</td>\n",
       "    </tr>\n",
       "    <tr>\n",
       "      <th>7</th>\n",
       "      <td>0.000000</td>\n",
       "      <td>0.000000</td>\n",
       "      <td>0.000000</td>\n",
       "      <td>0.058323</td>\n",
       "      <td>0.000000</td>\n",
       "      <td>0.000000</td>\n",
       "      <td>0.000000</td>\n",
       "      <td>0.00000</td>\n",
       "      <td>0.000000</td>\n",
       "      <td>0.000000</td>\n",
       "      <td>...</td>\n",
       "      <td>0.000000</td>\n",
       "      <td>0.000000</td>\n",
       "      <td>0.000000</td>\n",
       "      <td>0.000000</td>\n",
       "      <td>0.072351</td>\n",
       "      <td>0.000000</td>\n",
       "      <td>0.000000</td>\n",
       "      <td>0.000000</td>\n",
       "      <td>0.000000</td>\n",
       "      <td>0.00000</td>\n",
       "    </tr>\n",
       "    <tr>\n",
       "      <th>8</th>\n",
       "      <td>0.000000</td>\n",
       "      <td>0.000000</td>\n",
       "      <td>0.000000</td>\n",
       "      <td>0.000000</td>\n",
       "      <td>0.000000</td>\n",
       "      <td>0.000000</td>\n",
       "      <td>0.000000</td>\n",
       "      <td>0.00000</td>\n",
       "      <td>0.000000</td>\n",
       "      <td>0.000000</td>\n",
       "      <td>...</td>\n",
       "      <td>0.000000</td>\n",
       "      <td>0.000000</td>\n",
       "      <td>0.000000</td>\n",
       "      <td>0.000000</td>\n",
       "      <td>0.000000</td>\n",
       "      <td>0.000000</td>\n",
       "      <td>0.000000</td>\n",
       "      <td>0.047162</td>\n",
       "      <td>0.000000</td>\n",
       "      <td>0.00000</td>\n",
       "    </tr>\n",
       "    <tr>\n",
       "      <th>9</th>\n",
       "      <td>0.000000</td>\n",
       "      <td>0.005697</td>\n",
       "      <td>0.002459</td>\n",
       "      <td>0.009825</td>\n",
       "      <td>0.000621</td>\n",
       "      <td>0.000000</td>\n",
       "      <td>0.000000</td>\n",
       "      <td>0.00000</td>\n",
       "      <td>0.003522</td>\n",
       "      <td>0.001218</td>\n",
       "      <td>...</td>\n",
       "      <td>0.023831</td>\n",
       "      <td>0.002294</td>\n",
       "      <td>0.122417</td>\n",
       "      <td>0.015925</td>\n",
       "      <td>0.019390</td>\n",
       "      <td>0.017843</td>\n",
       "      <td>0.001445</td>\n",
       "      <td>0.104677</td>\n",
       "      <td>0.021719</td>\n",
       "      <td>0.00000</td>\n",
       "    </tr>\n",
       "  </tbody>\n",
       "</table>\n",
       "<p>10 rows × 2000 columns</p>\n",
       "</div>"
      ],
      "text/plain": [
       "       0         1         2         3         4         5         6     \\\n",
       "0  0.000000  0.000000  0.000000  0.000000  0.000000  0.000000  0.000000   \n",
       "1  0.000000  0.000000  0.000000  0.000000  0.000000  0.000000  0.000000   \n",
       "2  0.000000  0.000000  0.000000  0.000000  0.000000  0.000000  0.000000   \n",
       "3  0.000000  0.000000  0.000000  0.000000  0.000000  0.000000  0.000000   \n",
       "4  0.000000  0.000000  0.023044  0.000000  0.000000  0.000000  0.000000   \n",
       "5  0.028007  0.011669  0.031058  0.041164  0.013789  0.004450  0.030392   \n",
       "6  0.000000  0.007586  0.015280  0.006938  0.004137  0.011573  0.000000   \n",
       "7  0.000000  0.000000  0.000000  0.058323  0.000000  0.000000  0.000000   \n",
       "8  0.000000  0.000000  0.000000  0.000000  0.000000  0.000000  0.000000   \n",
       "9  0.000000  0.005697  0.002459  0.009825  0.000621  0.000000  0.000000   \n",
       "\n",
       "      7         8         9      ...         1990      1991      1992  \\\n",
       "0  0.00000  0.000000  0.000000   ...     0.000000  0.000000  0.146482   \n",
       "1  0.00000  0.000000  0.000000   ...     0.000000  0.000000  0.000000   \n",
       "2  0.00000  0.000000  0.000000   ...     0.000000  0.000000  0.000000   \n",
       "3  0.00000  0.000000  0.000000   ...     0.000000  0.000000  0.000000   \n",
       "4  0.00000  0.000000  0.000000   ...     0.000000  0.013438  0.000000   \n",
       "5  0.01973  0.002577  0.008314   ...     0.000000  0.004895  0.001756   \n",
       "6  0.00000  0.004467  0.054050   ...     0.000000  0.001273  0.013699   \n",
       "7  0.00000  0.000000  0.000000   ...     0.000000  0.000000  0.000000   \n",
       "8  0.00000  0.000000  0.000000   ...     0.000000  0.000000  0.000000   \n",
       "9  0.00000  0.003522  0.001218   ...     0.023831  0.002294  0.122417   \n",
       "\n",
       "       1993      1994      1995      1996      1997      1998     1999  \n",
       "0  0.000000  0.000000  0.000000  0.000000  0.000000  0.000000  0.00000  \n",
       "1  0.000000  0.000000  0.000000  0.000000  0.000000  0.000000  0.00000  \n",
       "2  0.000000  0.000000  0.000000  0.000000  0.000000  0.000000  0.00000  \n",
       "3  0.000000  0.000000  0.000000  0.000000  0.043492  0.000000  0.00000  \n",
       "4  0.000000  0.000000  0.013065  0.000000  0.043955  0.000000  0.01411  \n",
       "5  0.001942  0.001891  0.006663  0.011102  0.067246  0.000000  0.00514  \n",
       "6  0.006311  0.000000  0.003713  0.028869  0.010825  0.000000  0.00000  \n",
       "7  0.000000  0.072351  0.000000  0.000000  0.000000  0.000000  0.00000  \n",
       "8  0.000000  0.000000  0.000000  0.000000  0.047162  0.000000  0.00000  \n",
       "9  0.015925  0.019390  0.017843  0.001445  0.104677  0.021719  0.00000  \n",
       "\n",
       "[10 rows x 2000 columns]"
      ]
     },
     "execution_count": 51,
     "metadata": {},
     "output_type": "execute_result"
    }
   ],
   "source": [
    "pandas.DataFrame(tfidf_array).head(10)"
   ]
  },
  {
   "cell_type": "code",
   "execution_count": 49,
   "metadata": {
    "collapsed": false,
    "scrolled": false
   },
   "outputs": [
    {
     "data": {
      "image/png": "[encoded data removed]",
      "text/plain": [
       "<matplotlib.figure.Figure at 0x7f82690ce908>"
      ]
     },
     "metadata": {},
     "output_type": "display_data"
    }
   ],
   "source": [
    "plt.close('all')\n",
    "plt.figure(1)\n",
    "plt.clf()\n",
    "\n",
    "colors = cycle('bgrcmykbgrcmykbgrcmykbgrcmyk')\n",
    "for k, col in zip(range(n_clusters_), colors):\n",
    "    class_members = labels == k\n",
    "    cluster_center = tfidf_array[cluster_centers_indices[k]]\n",
    "    plt.plot(tfidf_array[class_members, 0], tfidf_array[class_members, 1], col + '.')\n",
    "    plt.plot(cluster_center[0], cluster_center[1], 'o', markerfacecolor=col,\n",
    "             markeredgecolor='k', markersize=14)\n",
    "    for x in tfidf_array[class_members]:\n",
    "        plt.plot([cluster_center[0], x[0]], [cluster_center[1], x[1]], col)\n",
    "\n",
    "plt.title('Estimated number of clusters: %d' % n_clusters_)\n",
    "plt.show()"
   ]
  },
  {
   "cell_type": "code",
   "execution_count": null,
   "metadata": {
    "collapsed": true
   },
   "outputs": [],
   "source": []
  }
 ],
 "metadata": {
  "kernelspec": {
   "display_name": "Python 3",
   "language": "python",
   "name": "python3"
  },
  "language_info": {
   "codemirror_mode": {
    "name": "ipython",
    "version": 3
   },
   "file_extension": ".py",
   "mimetype": "text/x-python",
   "name": "python",
   "nbconvert_exporter": "python",
   "pygments_lexer": "ipython3",
   "version": "3.5.2"
  }
 },
 "nbformat": 4,
 "nbformat_minor": 1
}
