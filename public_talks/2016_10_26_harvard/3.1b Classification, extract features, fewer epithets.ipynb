{
 "cells": [
  {
   "cell_type": "markdown",
   "metadata": {},
   "source": [
    "# Problem of distribution of epithet docs"
   ]
  },
  {
   "cell_type": "markdown",
   "metadata": {},
   "source": [
    "Because most epithets do not have many representative documents, I will create another feature table, this time with most of the docs cut out.\n",
    "\n",
    "Looking at the following, there is a long tail epithets with few surviving representatives."
   ]
  },
  {
   "cell_type": "code",
   "execution_count": 1,
   "metadata": {
    "collapsed": false
   },
   "outputs": [
    {
     "data": {
      "text/html": [
       "<div>\n",
       "<table border=\"1\" class=\"dataframe\">\n",
       "  <thead>\n",
       "    <tr style=\"text-align: right;\">\n",
       "      <th></th>\n",
       "      <th>0</th>\n",
       "      <th>1</th>\n",
       "    </tr>\n",
       "  </thead>\n",
       "  <tbody>\n",
       "    <tr>\n",
       "      <th>9</th>\n",
       "      <td>Historici/-ae</td>\n",
       "      <td>340</td>\n",
       "    </tr>\n",
       "    <tr>\n",
       "      <th>43</th>\n",
       "      <td>Philosophici/-ae</td>\n",
       "      <td>245</td>\n",
       "    </tr>\n",
       "    <tr>\n",
       "      <th>39</th>\n",
       "      <td>Comici</td>\n",
       "      <td>150</td>\n",
       "    </tr>\n",
       "    <tr>\n",
       "      <th>16</th>\n",
       "      <td>Tragici</td>\n",
       "      <td>85</td>\n",
       "    </tr>\n",
       "    <tr>\n",
       "      <th>32</th>\n",
       "      <td>Grammatici</td>\n",
       "      <td>74</td>\n",
       "    </tr>\n",
       "    <tr>\n",
       "      <th>29</th>\n",
       "      <td>Rhetorici</td>\n",
       "      <td>67</td>\n",
       "    </tr>\n",
       "    <tr>\n",
       "      <th>52</th>\n",
       "      <td>Epici/-ae</td>\n",
       "      <td>67</td>\n",
       "    </tr>\n",
       "    <tr>\n",
       "      <th>1</th>\n",
       "      <td>Scriptores Ecclesiastici</td>\n",
       "      <td>63</td>\n",
       "    </tr>\n",
       "    <tr>\n",
       "      <th>5</th>\n",
       "      <td>Lyrici/-ae</td>\n",
       "      <td>57</td>\n",
       "    </tr>\n",
       "    <tr>\n",
       "      <th>46</th>\n",
       "      <td>Medici</td>\n",
       "      <td>46</td>\n",
       "    </tr>\n",
       "    <tr>\n",
       "      <th>47</th>\n",
       "      <td>Sophistae</td>\n",
       "      <td>43</td>\n",
       "    </tr>\n",
       "    <tr>\n",
       "      <th>28</th>\n",
       "      <td>Poetae</td>\n",
       "      <td>40</td>\n",
       "    </tr>\n",
       "    <tr>\n",
       "      <th>50</th>\n",
       "      <td>Theologici</td>\n",
       "      <td>36</td>\n",
       "    </tr>\n",
       "    <tr>\n",
       "      <th>17</th>\n",
       "      <td>Elegiaci</td>\n",
       "      <td>33</td>\n",
       "    </tr>\n",
       "    <tr>\n",
       "      <th>25</th>\n",
       "      <td>Alchemistae</td>\n",
       "      <td>26</td>\n",
       "    </tr>\n",
       "    <tr>\n",
       "      <th>37</th>\n",
       "      <td>Epigrammatici/-ae</td>\n",
       "      <td>23</td>\n",
       "    </tr>\n",
       "    <tr>\n",
       "      <th>19</th>\n",
       "      <td>Mathematici</td>\n",
       "      <td>15</td>\n",
       "    </tr>\n",
       "    <tr>\n",
       "      <th>23</th>\n",
       "      <td>Astronomici</td>\n",
       "      <td>14</td>\n",
       "    </tr>\n",
       "    <tr>\n",
       "      <th>3</th>\n",
       "      <td>Astrologici</td>\n",
       "      <td>14</td>\n",
       "    </tr>\n",
       "    <tr>\n",
       "      <th>30</th>\n",
       "      <td>Iambici</td>\n",
       "      <td>14</td>\n",
       "    </tr>\n",
       "    <tr>\n",
       "      <th>8</th>\n",
       "      <td>Geographi</td>\n",
       "      <td>13</td>\n",
       "    </tr>\n",
       "    <tr>\n",
       "      <th>26</th>\n",
       "      <td>Oratores</td>\n",
       "      <td>12</td>\n",
       "    </tr>\n",
       "    <tr>\n",
       "      <th>48</th>\n",
       "      <td>Epistolographi</td>\n",
       "      <td>10</td>\n",
       "    </tr>\n",
       "    <tr>\n",
       "      <th>45</th>\n",
       "      <td>Biographi</td>\n",
       "      <td>10</td>\n",
       "    </tr>\n",
       "    <tr>\n",
       "      <th>20</th>\n",
       "      <td>Apologetici</td>\n",
       "      <td>9</td>\n",
       "    </tr>\n",
       "    <tr>\n",
       "      <th>42</th>\n",
       "      <td>Paradoxographi</td>\n",
       "      <td>9</td>\n",
       "    </tr>\n",
       "    <tr>\n",
       "      <th>36</th>\n",
       "      <td>Periegetae</td>\n",
       "      <td>9</td>\n",
       "    </tr>\n",
       "    <tr>\n",
       "      <th>4</th>\n",
       "      <td>Philologi</td>\n",
       "      <td>9</td>\n",
       "    </tr>\n",
       "    <tr>\n",
       "      <th>14</th>\n",
       "      <td>Scriptores Erotici</td>\n",
       "      <td>8</td>\n",
       "    </tr>\n",
       "    <tr>\n",
       "      <th>12</th>\n",
       "      <td>Mechanici</td>\n",
       "      <td>8</td>\n",
       "    </tr>\n",
       "    <tr>\n",
       "      <th>7</th>\n",
       "      <td>Poetae Philosophi</td>\n",
       "      <td>8</td>\n",
       "    </tr>\n",
       "    <tr>\n",
       "      <th>24</th>\n",
       "      <td>Mythographi</td>\n",
       "      <td>7</td>\n",
       "    </tr>\n",
       "    <tr>\n",
       "      <th>38</th>\n",
       "      <td>Tactici</td>\n",
       "      <td>6</td>\n",
       "    </tr>\n",
       "    <tr>\n",
       "      <th>6</th>\n",
       "      <td>Chronographi</td>\n",
       "      <td>6</td>\n",
       "    </tr>\n",
       "    <tr>\n",
       "      <th>53</th>\n",
       "      <td>Parodii</td>\n",
       "      <td>5</td>\n",
       "    </tr>\n",
       "    <tr>\n",
       "      <th>35</th>\n",
       "      <td>Scriptores Rerum Naturalium</td>\n",
       "      <td>5</td>\n",
       "    </tr>\n",
       "    <tr>\n",
       "      <th>2</th>\n",
       "      <td>Paroemiographi</td>\n",
       "      <td>5</td>\n",
       "    </tr>\n",
       "    <tr>\n",
       "      <th>27</th>\n",
       "      <td>Musici</td>\n",
       "      <td>5</td>\n",
       "    </tr>\n",
       "    <tr>\n",
       "      <th>51</th>\n",
       "      <td>Gnomici</td>\n",
       "      <td>4</td>\n",
       "    </tr>\n",
       "    <tr>\n",
       "      <th>0</th>\n",
       "      <td>Poetae Medici</td>\n",
       "      <td>4</td>\n",
       "    </tr>\n",
       "    <tr>\n",
       "      <th>31</th>\n",
       "      <td>Atticistae</td>\n",
       "      <td>4</td>\n",
       "    </tr>\n",
       "    <tr>\n",
       "      <th>15</th>\n",
       "      <td>Geometri</td>\n",
       "      <td>4</td>\n",
       "    </tr>\n",
       "    <tr>\n",
       "      <th>11</th>\n",
       "      <td>Lexicographi</td>\n",
       "      <td>4</td>\n",
       "    </tr>\n",
       "    <tr>\n",
       "      <th>44</th>\n",
       "      <td>Polyhistorici</td>\n",
       "      <td>3</td>\n",
       "    </tr>\n",
       "    <tr>\n",
       "      <th>54</th>\n",
       "      <td>Bucolici</td>\n",
       "      <td>3</td>\n",
       "    </tr>\n",
       "    <tr>\n",
       "      <th>40</th>\n",
       "      <td>Scriptores Fabularum</td>\n",
       "      <td>2</td>\n",
       "    </tr>\n",
       "    <tr>\n",
       "      <th>33</th>\n",
       "      <td>Gnostici</td>\n",
       "      <td>2</td>\n",
       "    </tr>\n",
       "    <tr>\n",
       "      <th>22</th>\n",
       "      <td>Mimographi</td>\n",
       "      <td>2</td>\n",
       "    </tr>\n",
       "    <tr>\n",
       "      <th>21</th>\n",
       "      <td>Onirocritici</td>\n",
       "      <td>2</td>\n",
       "    </tr>\n",
       "    <tr>\n",
       "      <th>13</th>\n",
       "      <td>Hagiographi</td>\n",
       "      <td>2</td>\n",
       "    </tr>\n",
       "    <tr>\n",
       "      <th>10</th>\n",
       "      <td>Doxographi</td>\n",
       "      <td>2</td>\n",
       "    </tr>\n",
       "    <tr>\n",
       "      <th>41</th>\n",
       "      <td>Hymnographi</td>\n",
       "      <td>1</td>\n",
       "    </tr>\n",
       "    <tr>\n",
       "      <th>34</th>\n",
       "      <td>Nomographi</td>\n",
       "      <td>1</td>\n",
       "    </tr>\n",
       "    <tr>\n",
       "      <th>18</th>\n",
       "      <td>Poetae Didactici</td>\n",
       "      <td>1</td>\n",
       "    </tr>\n",
       "    <tr>\n",
       "      <th>49</th>\n",
       "      <td>Choliambographi</td>\n",
       "      <td>1</td>\n",
       "    </tr>\n",
       "  </tbody>\n",
       "</table>\n",
       "</div>"
      ],
      "text/plain": [
       "                              0    1\n",
       "9                 Historici/-ae  340\n",
       "43             Philosophici/-ae  245\n",
       "39                       Comici  150\n",
       "16                      Tragici   85\n",
       "32                   Grammatici   74\n",
       "29                    Rhetorici   67\n",
       "52                    Epici/-ae   67\n",
       "1      Scriptores Ecclesiastici   63\n",
       "5                    Lyrici/-ae   57\n",
       "46                       Medici   46\n",
       "47                    Sophistae   43\n",
       "28                       Poetae   40\n",
       "50                   Theologici   36\n",
       "17                     Elegiaci   33\n",
       "25                  Alchemistae   26\n",
       "37            Epigrammatici/-ae   23\n",
       "19                  Mathematici   15\n",
       "23                  Astronomici   14\n",
       "3                   Astrologici   14\n",
       "30                      Iambici   14\n",
       "8                     Geographi   13\n",
       "26                     Oratores   12\n",
       "48               Epistolographi   10\n",
       "45                    Biographi   10\n",
       "20                  Apologetici    9\n",
       "42               Paradoxographi    9\n",
       "36                   Periegetae    9\n",
       "4                     Philologi    9\n",
       "14           Scriptores Erotici    8\n",
       "12                    Mechanici    8\n",
       "7             Poetae Philosophi    8\n",
       "24                  Mythographi    7\n",
       "38                      Tactici    6\n",
       "6                  Chronographi    6\n",
       "53                      Parodii    5\n",
       "35  Scriptores Rerum Naturalium    5\n",
       "2                Paroemiographi    5\n",
       "27                       Musici    5\n",
       "51                      Gnomici    4\n",
       "0                 Poetae Medici    4\n",
       "31                   Atticistae    4\n",
       "15                     Geometri    4\n",
       "11                 Lexicographi    4\n",
       "44                Polyhistorici    3\n",
       "54                     Bucolici    3\n",
       "40         Scriptores Fabularum    2\n",
       "33                     Gnostici    2\n",
       "22                   Mimographi    2\n",
       "21                 Onirocritici    2\n",
       "13                  Hagiographi    2\n",
       "10                   Doxographi    2\n",
       "41                  Hymnographi    1\n",
       "34                   Nomographi    1\n",
       "18             Poetae Didactici    1\n",
       "49              Choliambographi    1"
      ]
     },
     "execution_count": 1,
     "metadata": {},
     "output_type": "execute_result"
    }
   ],
   "source": [
    "from cltk.corpus.greek.tlg.parse_tlg_indices import get_epithet_index\n",
    "import pandas\n",
    "\n",
    "epithet_frequencies = []\n",
    "for epithet, _ids in get_epithet_index().items():\n",
    "    epithet_frequencies.append((epithet, len(_ids)))\n",
    "df = pandas.DataFrame(epithet_frequencies)\n",
    "df.sort_values(1, ascending=False)"
   ]
  },
  {
   "cell_type": "markdown",
   "metadata": {},
   "source": [
    "[Wikipedia on the long tail](https://en.wikipedia.org/wiki/Long_tail):\n",
    "\n",
    ">The specific cutoff of what part of a distribution is the \"long tail\" is often arbitrary, but in some cases may be specified objectively; see segmentation of [rank-size distributions](https://en.wikipedia.org/wiki/Rank-size_distribution#Segmentation).\n",
    "\n",
    "So I'll do this semi-objectively. I'm going to cut out any documents with a negative standard score (that is, below the mean). Thus, epithets with fewer than `26` (`-0.064414235569960288`) representative documents I will drop.\n",
    "\n",
    "See following printout for z-score distribution"
   ]
  },
  {
   "cell_type": "code",
   "execution_count": 2,
   "metadata": {
    "collapsed": false,
    "scrolled": true
   },
   "outputs": [
    {
     "data": {
      "text/plain": [
       "[(340, 5.2838254196858783),\n",
       " (245, 3.6657274348154809),\n",
       " (150, 2.047629449945084),\n",
       " (85, 0.94050977608639141),\n",
       " (74, 0.75315106204876658),\n",
       " (67, 0.63392278947936886),\n",
       " (67, 0.63392278947936886),\n",
       " (63, 0.56579234801114164),\n",
       " (57, 0.46359668580880081),\n",
       " (46, 0.27623797177117587),\n",
       " (43, 0.22514014067000546),\n",
       " (40, 0.17404230956883504),\n",
       " (36, 0.10591186810060781),\n",
       " (33, 0.054814036999437377),\n",
       " (26, -0.064414235569960288),\n",
       " (23, -0.11551206667113072),\n",
       " (15, -0.25177294960758517),\n",
       " (14, -0.26880555997464201),\n",
       " (14, -0.26880555997464201),\n",
       " (14, -0.26880555997464201),\n",
       " (13, -0.28583817034169878),\n",
       " (12, -0.30287078070875562),\n",
       " (10, -0.33693600144286923),\n",
       " (10, -0.33693600144286923),\n",
       " (9, -0.35396861180992606),\n",
       " (9, -0.35396861180992606),\n",
       " (9, -0.35396861180992606),\n",
       " (9, -0.35396861180992606),\n",
       " (8, -0.37100122217698284),\n",
       " (8, -0.37100122217698284),\n",
       " (8, -0.37100122217698284),\n",
       " (7, -0.38803383254403967),\n",
       " (6, -0.40506644291109645),\n",
       " (6, -0.40506644291109645),\n",
       " (5, -0.42209905327815328),\n",
       " (5, -0.42209905327815328),\n",
       " (5, -0.42209905327815328),\n",
       " (5, -0.42209905327815328),\n",
       " (4, -0.43913166364521011),\n",
       " (4, -0.43913166364521011),\n",
       " (4, -0.43913166364521011),\n",
       " (4, -0.43913166364521011),\n",
       " (4, -0.43913166364521011),\n",
       " (3, -0.45616427401226689),\n",
       " (3, -0.45616427401226689),\n",
       " (2, -0.47319688437932372),\n",
       " (2, -0.47319688437932372),\n",
       " (2, -0.47319688437932372),\n",
       " (2, -0.47319688437932372),\n",
       " (2, -0.47319688437932372),\n",
       " (2, -0.47319688437932372),\n",
       " (1, -0.4902294947463805),\n",
       " (1, -0.4902294947463805),\n",
       " (1, -0.4902294947463805),\n",
       " (1, -0.4902294947463805)]"
      ]
     },
     "execution_count": 2,
     "metadata": {},
     "output_type": "execute_result"
    }
   ],
   "source": [
    "from scipy import stats\n",
    "\n",
    "distribution = sorted(list(df[1]), reverse=True)\n",
    "zscores = stats.zscore(distribution)\n",
    "list(zip(distribution, zscores))"
   ]
  },
  {
   "cell_type": "code",
   "execution_count": 22,
   "metadata": {
    "collapsed": false
   },
   "outputs": [
    {
     "data": {
      "text/plain": [
       "{'Apologetici',\n",
       " 'Astrologici',\n",
       " 'Astronomici',\n",
       " 'Atticistae',\n",
       " 'Biographi',\n",
       " 'Bucolici',\n",
       " 'Choliambographi',\n",
       " 'Chronographi',\n",
       " 'Doxographi',\n",
       " 'Epigrammatici/-ae',\n",
       " 'Epistolographi',\n",
       " 'Geographi',\n",
       " 'Geometri',\n",
       " 'Gnomici',\n",
       " 'Gnostici',\n",
       " 'Hagiographi',\n",
       " 'Hymnographi',\n",
       " 'Iambici',\n",
       " 'Lexicographi',\n",
       " 'Mathematici',\n",
       " 'Mechanici',\n",
       " 'Mimographi',\n",
       " 'Musici',\n",
       " 'Mythographi',\n",
       " 'Nomographi',\n",
       " 'Onirocritici',\n",
       " 'Oratores',\n",
       " 'Paradoxographi',\n",
       " 'Parodii',\n",
       " 'Paroemiographi',\n",
       " 'Periegetae',\n",
       " 'Philologi',\n",
       " 'Poetae Didactici',\n",
       " 'Poetae Medici',\n",
       " 'Poetae Philosophi',\n",
       " 'Polyhistorici',\n",
       " 'Scriptores Erotici',\n",
       " 'Scriptores Fabularum',\n",
       " 'Scriptores Rerum Naturalium',\n",
       " 'Tactici'}"
      ]
     },
     "execution_count": 22,
     "metadata": {},
     "output_type": "execute_result"
    }
   ],
   "source": [
    "# Make list of epithets to drop\n",
    "to_drop = df[0].where(df[1] < 26)\n",
    "to_drop = [epi for epi in to_drop if not type(epi) is float]\n",
    "to_drop = set(to_drop)\n",
    "to_drop"
   ]
  },
  {
   "cell_type": "markdown",
   "metadata": {},
   "source": [
    "# Make vectorizer\n",
    "\n",
    "Now when loading documents, drop those belonging to an epithet in the `to_drop` list"
   ]
  },
  {
   "cell_type": "code",
   "execution_count": 23,
   "metadata": {
    "collapsed": true
   },
   "outputs": [],
   "source": [
    "import datetime as dt\n",
    "import os\n",
    "import time\n",
    "\n",
    "from cltk.corpus.greek.tlg.parse_tlg_indices import get_epithet_of_author\n",
    "from cltk.corpus.greek.tlg.parse_tlg_indices import get_id_author\n",
    "import pandas\n",
    "from sklearn.externals import joblib\n",
    "from sklearn.feature_extraction.text import CountVectorizer"
   ]
  },
  {
   "cell_type": "code",
   "execution_count": 24,
   "metadata": {
    "collapsed": true
   },
   "outputs": [],
   "source": [
    "def stream_lemmatized_files(corpus_dir):\n",
    "    # return all docs in a dir\n",
    "    user_dir = os.path.expanduser('~/cltk_data/user_data/' + corpus_dir)\n",
    "    files = os.listdir(user_dir)\n",
    "\n",
    "    for file in files:\n",
    "        filepath = os.path.join(user_dir, file)\n",
    "        with open(filepath) as fo:\n",
    "            #TODO rm words less the 3 chars long\n",
    "            yield file[3:-4], fo.read()"
   ]
  },
  {
   "cell_type": "code",
   "execution_count": 25,
   "metadata": {
    "collapsed": false
   },
   "outputs": [
    {
     "name": "stdout",
     "output_type": "stream",
     "text": [
      "(1587, 5)\n",
      "... finished in 0:00:09.806514\n",
      "Number of texts: 1587\n"
     ]
    }
   ],
   "source": [
    "t0 = dt.datetime.utcnow()\n",
    "\n",
    "map_id_author = get_id_author()\n",
    "\n",
    "df = pandas.DataFrame(columns=['id', 'author' 'text', 'epithet'])\n",
    "\n",
    "for _id, text in stream_lemmatized_files('tlg_lemmatized_no_accents_no_stops'):\n",
    "    author = map_id_author[_id]\n",
    "    epithet = get_epithet_of_author(_id)\n",
    "    if epithet in to_drop:\n",
    "        continue\n",
    "    df = df.append({'id': _id, 'author': author, 'text': text, 'epithet': epithet}, ignore_index=True)\n",
    "\n",
    "print(df.shape)\n",
    "print('... finished in {}'.format(dt.datetime.utcnow() - t0))\n",
    "print('Number of texts:', len(df))"
   ]
  },
  {
   "cell_type": "code",
   "execution_count": 26,
   "metadata": {
    "collapsed": false
   },
   "outputs": [],
   "source": [
    "text_list = df['text'].tolist()\n",
    "\n",
    "# make a list of short texts to drop\n",
    "# For pres, get distributions of words per doc\n",
    "short_text_drop_index = [index if len(text) > 500 else None for index, text in enumerate(text_list) ]  # ~100 words"
   ]
  },
  {
   "cell_type": "code",
   "execution_count": 27,
   "metadata": {
    "collapsed": false
   },
   "outputs": [
    {
     "name": "stdout",
     "output_type": "stream",
     "text": [
      "... finished in 0:00:51.457374\n"
     ]
    }
   ],
   "source": [
    "t0 = dt.datetime.utcnow()\n",
    "\n",
    "# TODO: Consider using generator to CV http://stackoverflow.com/a/21600406\n",
    "\n",
    "# time & size counts, w/ 50 texts:\n",
    "# 0:01:15 & 202M @ ngram_range=(1, 3), min_df=2, max_features=500\n",
    "# 0:00:26 & 80M @ ngram_range=(1, 2), analyzer='word', min_df=2, max_features=5000\n",
    "# 0:00:24 & 81M @ ngram_range=(1, 2), analyzer='word', min_df=2, max_features=50000\n",
    "\n",
    "# time & size counts, w/ 1823 texts:\n",
    "# 0:02:18 & 46MB @ ngram_range=(1, 1), analyzer='word', min_df=2, max_features=500000\n",
    "# 0:2:01 & 47 @ ngram_range=(1, 1), analyzer='word', min_df=2, max_features=1000000\n",
    "\n",
    "# max features in the lemmatized data set: 551428\n",
    "max_features = 100000\n",
    "ngrams = 1\n",
    "vectorizer = CountVectorizer(ngram_range=(1, ngrams), analyzer='word', \n",
    "                             min_df=2, max_features=max_features)\n",
    "term_document_matrix = vectorizer.fit_transform(text_list)  # input is a list of strings, 1 per document\n",
    "\n",
    "# save matrix\n",
    "vector_fp = os.path.expanduser('~/cltk_data/user_data/vectorizer_test_features{0}_ngrams{1}.pickle'.format(max_features, ngrams))\n",
    "joblib.dump(term_document_matrix, vector_fp)\n",
    "\n",
    "print('... finished in {}'.format(dt.datetime.utcnow() - t0))"
   ]
  },
  {
   "cell_type": "markdown",
   "metadata": {},
   "source": [
    "# Transform term matrix into feature table"
   ]
  },
  {
   "cell_type": "code",
   "execution_count": 28,
   "metadata": {
    "collapsed": false
   },
   "outputs": [],
   "source": [
    "# Put BoW vectors into a new df\n",
    "term_document_matrix = joblib.load(vector_fp)  # scipy.sparse.csr.csr_matrix"
   ]
  },
  {
   "cell_type": "code",
   "execution_count": 29,
   "metadata": {
    "collapsed": false
   },
   "outputs": [
    {
     "data": {
      "text/plain": [
       "(1587, 100000)"
      ]
     },
     "execution_count": 29,
     "metadata": {},
     "output_type": "execute_result"
    }
   ],
   "source": [
    "term_document_matrix.shape"
   ]
  },
  {
   "cell_type": "code",
   "execution_count": 30,
   "metadata": {
    "collapsed": false
   },
   "outputs": [],
   "source": [
    "term_document_matrix_array = term_document_matrix.toarray() "
   ]
  },
  {
   "cell_type": "code",
   "execution_count": 31,
   "metadata": {
    "collapsed": false
   },
   "outputs": [],
   "source": [
    "dataframe_bow = pandas.DataFrame(term_document_matrix_array, columns=vectorizer.get_feature_names())"
   ]
  },
  {
   "cell_type": "code",
   "execution_count": 32,
   "metadata": {
    "collapsed": false
   },
   "outputs": [],
   "source": [
    "ids_list = df['id'].tolist()"
   ]
  },
  {
   "cell_type": "code",
   "execution_count": 33,
   "metadata": {
    "collapsed": false
   },
   "outputs": [
    {
     "data": {
      "text/plain": [
       "1587"
      ]
     },
     "execution_count": 33,
     "metadata": {},
     "output_type": "execute_result"
    }
   ],
   "source": [
    "len(ids_list)"
   ]
  },
  {
   "cell_type": "code",
   "execution_count": 34,
   "metadata": {
    "collapsed": false
   },
   "outputs": [
    {
     "data": {
      "text/plain": [
       "(1587, 100000)"
      ]
     },
     "execution_count": 34,
     "metadata": {},
     "output_type": "execute_result"
    }
   ],
   "source": [
    "dataframe_bow.shape"
   ]
  },
  {
   "cell_type": "code",
   "execution_count": 35,
   "metadata": {
    "collapsed": false
   },
   "outputs": [],
   "source": [
    "dataframe_bow['id'] = ids_list"
   ]
  },
  {
   "cell_type": "code",
   "execution_count": 36,
   "metadata": {
    "collapsed": false
   },
   "outputs": [],
   "source": [
    "authors_list = df['author'].tolist()\n",
    "dataframe_bow['author'] = authors_list"
   ]
  },
  {
   "cell_type": "code",
   "execution_count": 37,
   "metadata": {
    "collapsed": false
   },
   "outputs": [],
   "source": [
    "epithets_list = df['epithet'].tolist()\n",
    "dataframe_bow['epithet'] = epithets_list"
   ]
  },
  {
   "cell_type": "code",
   "execution_count": 38,
   "metadata": {
    "collapsed": false
   },
   "outputs": [
    {
     "data": {
      "text/plain": [
       "0                  Historici/-ae\n",
       "1                        Tragici\n",
       "2                        Tragici\n",
       "3                         Comici\n",
       "4                           None\n",
       "5                           None\n",
       "6                  Historici/-ae\n",
       "7               Philosophici/-ae\n",
       "8                      Sophistae\n",
       "9                     Theologici\n",
       "10                 Historici/-ae\n",
       "11      Scriptores Ecclesiastici\n",
       "12                          None\n",
       "13                    Lyrici/-ae\n",
       "14              Philosophici/-ae\n",
       "15                       Tragici\n",
       "16                          None\n",
       "17                          None\n",
       "18                        Medici\n",
       "19                 Historici/-ae\n",
       "20                 Historici/-ae\n",
       "21                        Medici\n",
       "22                    Lyrici/-ae\n",
       "23      Scriptores Ecclesiastici\n",
       "24                       Tragici\n",
       "25                          None\n",
       "26                    Grammatici\n",
       "27                 Historici/-ae\n",
       "28                        Comici\n",
       "29                        Comici\n",
       "                  ...           \n",
       "1557               Historici/-ae\n",
       "1558                  Grammatici\n",
       "1559                    Elegiaci\n",
       "1560               Historici/-ae\n",
       "1561               Historici/-ae\n",
       "1562               Historici/-ae\n",
       "1563                        None\n",
       "1564               Historici/-ae\n",
       "1565                        None\n",
       "1566            Philosophici/-ae\n",
       "1567            Philosophici/-ae\n",
       "1568                    Elegiaci\n",
       "1569                  Lyrici/-ae\n",
       "1570                 Alchemistae\n",
       "1571            Philosophici/-ae\n",
       "1572            Philosophici/-ae\n",
       "1573                      Comici\n",
       "1574                      Comici\n",
       "1575            Philosophici/-ae\n",
       "1576                  Lyrici/-ae\n",
       "1577                   Sophistae\n",
       "1578                   Epici/-ae\n",
       "1579            Philosophici/-ae\n",
       "1580            Philosophici/-ae\n",
       "1581               Historici/-ae\n",
       "1582            Philosophici/-ae\n",
       "1583                  Lyrici/-ae\n",
       "1584               Historici/-ae\n",
       "1585                        None\n",
       "1586                      Comici\n",
       "Name: epithet, dtype: object"
      ]
     },
     "execution_count": 38,
     "metadata": {},
     "output_type": "execute_result"
    }
   ],
   "source": [
    "# For pres, give distribution of epithets, including None\n",
    "dataframe_bow['epithet']"
   ]
  },
  {
   "cell_type": "code",
   "execution_count": 39,
   "metadata": {
    "collapsed": false
   },
   "outputs": [
    {
     "name": "stdout",
     "output_type": "stream",
     "text": [
      "... finished in 0:00:00.489680\n"
     ]
    }
   ],
   "source": [
    "t0 = dt.datetime.utcnow()\n",
    "\n",
    "# removes 334\n",
    "#! remove rows whose epithet = None\n",
    "# note on selecting none in pandas: http://stackoverflow.com/a/24489602\n",
    "dataframe_bow = dataframe_bow[dataframe_bow.epithet.notnull()]\n",
    "dataframe_bow.shape\n",
    "\n",
    "print('... finished in {}'.format(dt.datetime.utcnow() - t0))"
   ]
  },
  {
   "cell_type": "code",
   "execution_count": 40,
   "metadata": {
    "collapsed": false
   },
   "outputs": [
    {
     "name": "stdout",
     "output_type": "stream",
     "text": [
      "... finished in 0:03:55.564356\n"
     ]
    }
   ],
   "source": [
    "t0 = dt.datetime.utcnow()\n",
    "\n",
    "dataframe_bow.to_csv(os.path.expanduser('~/cltk_data/user_data/tlg_bow.csv'))\n",
    "\n",
    "print('... finished in {}'.format(dt.datetime.utcnow() - t0))"
   ]
  },
  {
   "cell_type": "code",
   "execution_count": 41,
   "metadata": {
    "collapsed": false
   },
   "outputs": [
    {
     "data": {
      "text/plain": [
       "(1253, 100003)"
      ]
     },
     "execution_count": 41,
     "metadata": {},
     "output_type": "execute_result"
    }
   ],
   "source": [
    "dataframe_bow.shape"
   ]
  },
  {
   "cell_type": "code",
   "execution_count": 42,
   "metadata": {
    "collapsed": false,
    "scrolled": true
   },
   "outputs": [
    {
     "data": {
      "text/html": [
       "<div>\n",
       "<table border=\"1\" class=\"dataframe\">\n",
       "  <thead>\n",
       "    <tr style=\"text-align: right;\">\n",
       "      <th></th>\n",
       "      <th>αʹ</th>\n",
       "      <th>ααα</th>\n",
       "      <th>ααπτος</th>\n",
       "      <th>ααπτους</th>\n",
       "      <th>ααρων</th>\n",
       "      <th>αασαμην</th>\n",
       "      <th>αατος</th>\n",
       "      <th>ααω</th>\n",
       "      <th>αβαθης</th>\n",
       "      <th>αβακιον</th>\n",
       "      <th>...</th>\n",
       "      <th>ϲωμα</th>\n",
       "      <th>ϲωματα</th>\n",
       "      <th>ϲωματι</th>\n",
       "      <th>ϲωματοϲ</th>\n",
       "      <th>ϲωματων</th>\n",
       "      <th>ϲωμαϲι</th>\n",
       "      <th>ϲωμαϲιν</th>\n",
       "      <th>id</th>\n",
       "      <th>author</th>\n",
       "      <th>epithet</th>\n",
       "    </tr>\n",
       "  </thead>\n",
       "  <tbody>\n",
       "    <tr>\n",
       "      <th>0</th>\n",
       "      <td>0</td>\n",
       "      <td>0</td>\n",
       "      <td>0</td>\n",
       "      <td>0</td>\n",
       "      <td>0</td>\n",
       "      <td>0</td>\n",
       "      <td>0</td>\n",
       "      <td>0</td>\n",
       "      <td>0</td>\n",
       "      <td>0</td>\n",
       "      <td>...</td>\n",
       "      <td>0</td>\n",
       "      <td>0</td>\n",
       "      <td>0</td>\n",
       "      <td>0</td>\n",
       "      <td>0</td>\n",
       "      <td>0</td>\n",
       "      <td>0</td>\n",
       "      <td>1459</td>\n",
       "      <td>Lepidus Hist.</td>\n",
       "      <td>Historici/-ae</td>\n",
       "    </tr>\n",
       "    <tr>\n",
       "      <th>1</th>\n",
       "      <td>0</td>\n",
       "      <td>0</td>\n",
       "      <td>0</td>\n",
       "      <td>0</td>\n",
       "      <td>0</td>\n",
       "      <td>0</td>\n",
       "      <td>0</td>\n",
       "      <td>0</td>\n",
       "      <td>0</td>\n",
       "      <td>0</td>\n",
       "      <td>...</td>\n",
       "      <td>0</td>\n",
       "      <td>0</td>\n",
       "      <td>0</td>\n",
       "      <td>0</td>\n",
       "      <td>0</td>\n",
       "      <td>0</td>\n",
       "      <td>0</td>\n",
       "      <td>0825</td>\n",
       "      <td>Melito Trag.</td>\n",
       "      <td>Tragici</td>\n",
       "    </tr>\n",
       "    <tr>\n",
       "      <th>2</th>\n",
       "      <td>0</td>\n",
       "      <td>0</td>\n",
       "      <td>0</td>\n",
       "      <td>0</td>\n",
       "      <td>0</td>\n",
       "      <td>0</td>\n",
       "      <td>0</td>\n",
       "      <td>0</td>\n",
       "      <td>0</td>\n",
       "      <td>0</td>\n",
       "      <td>...</td>\n",
       "      <td>0</td>\n",
       "      <td>0</td>\n",
       "      <td>0</td>\n",
       "      <td>0</td>\n",
       "      <td>0</td>\n",
       "      <td>0</td>\n",
       "      <td>0</td>\n",
       "      <td>0331</td>\n",
       "      <td>[Polyidus] Trag.</td>\n",
       "      <td>Tragici</td>\n",
       "    </tr>\n",
       "    <tr>\n",
       "      <th>3</th>\n",
       "      <td>0</td>\n",
       "      <td>0</td>\n",
       "      <td>0</td>\n",
       "      <td>0</td>\n",
       "      <td>0</td>\n",
       "      <td>0</td>\n",
       "      <td>0</td>\n",
       "      <td>0</td>\n",
       "      <td>0</td>\n",
       "      <td>0</td>\n",
       "      <td>...</td>\n",
       "      <td>0</td>\n",
       "      <td>0</td>\n",
       "      <td>0</td>\n",
       "      <td>0</td>\n",
       "      <td>0</td>\n",
       "      <td>0</td>\n",
       "      <td>0</td>\n",
       "      <td>0417</td>\n",
       "      <td>Archippus Comic.</td>\n",
       "      <td>Comici</td>\n",
       "    </tr>\n",
       "    <tr>\n",
       "      <th>6</th>\n",
       "      <td>0</td>\n",
       "      <td>0</td>\n",
       "      <td>0</td>\n",
       "      <td>0</td>\n",
       "      <td>0</td>\n",
       "      <td>0</td>\n",
       "      <td>0</td>\n",
       "      <td>0</td>\n",
       "      <td>0</td>\n",
       "      <td>0</td>\n",
       "      <td>...</td>\n",
       "      <td>0</td>\n",
       "      <td>0</td>\n",
       "      <td>0</td>\n",
       "      <td>0</td>\n",
       "      <td>0</td>\n",
       "      <td>0</td>\n",
       "      <td>0</td>\n",
       "      <td>2475</td>\n",
       "      <td>Menecrates Hist.</td>\n",
       "      <td>Historici/-ae</td>\n",
       "    </tr>\n",
       "    <tr>\n",
       "      <th>7</th>\n",
       "      <td>0</td>\n",
       "      <td>0</td>\n",
       "      <td>0</td>\n",
       "      <td>0</td>\n",
       "      <td>0</td>\n",
       "      <td>0</td>\n",
       "      <td>0</td>\n",
       "      <td>0</td>\n",
       "      <td>0</td>\n",
       "      <td>0</td>\n",
       "      <td>...</td>\n",
       "      <td>0</td>\n",
       "      <td>0</td>\n",
       "      <td>0</td>\n",
       "      <td>0</td>\n",
       "      <td>0</td>\n",
       "      <td>0</td>\n",
       "      <td>0</td>\n",
       "      <td>4075</td>\n",
       "      <td>Marinus Phil.</td>\n",
       "      <td>Philosophici/-ae</td>\n",
       "    </tr>\n",
       "    <tr>\n",
       "      <th>8</th>\n",
       "      <td>0</td>\n",
       "      <td>0</td>\n",
       "      <td>0</td>\n",
       "      <td>0</td>\n",
       "      <td>0</td>\n",
       "      <td>0</td>\n",
       "      <td>0</td>\n",
       "      <td>0</td>\n",
       "      <td>0</td>\n",
       "      <td>0</td>\n",
       "      <td>...</td>\n",
       "      <td>0</td>\n",
       "      <td>0</td>\n",
       "      <td>0</td>\n",
       "      <td>0</td>\n",
       "      <td>0</td>\n",
       "      <td>0</td>\n",
       "      <td>0</td>\n",
       "      <td>2127</td>\n",
       "      <td>Troilus Soph.</td>\n",
       "      <td>Sophistae</td>\n",
       "    </tr>\n",
       "    <tr>\n",
       "      <th>9</th>\n",
       "      <td>0</td>\n",
       "      <td>0</td>\n",
       "      <td>0</td>\n",
       "      <td>0</td>\n",
       "      <td>4</td>\n",
       "      <td>0</td>\n",
       "      <td>1</td>\n",
       "      <td>0</td>\n",
       "      <td>0</td>\n",
       "      <td>0</td>\n",
       "      <td>...</td>\n",
       "      <td>0</td>\n",
       "      <td>0</td>\n",
       "      <td>0</td>\n",
       "      <td>0</td>\n",
       "      <td>0</td>\n",
       "      <td>0</td>\n",
       "      <td>0</td>\n",
       "      <td>2074</td>\n",
       "      <td>Apollinaris Theol.</td>\n",
       "      <td>Theologici</td>\n",
       "    </tr>\n",
       "    <tr>\n",
       "      <th>10</th>\n",
       "      <td>0</td>\n",
       "      <td>0</td>\n",
       "      <td>0</td>\n",
       "      <td>0</td>\n",
       "      <td>0</td>\n",
       "      <td>0</td>\n",
       "      <td>0</td>\n",
       "      <td>0</td>\n",
       "      <td>0</td>\n",
       "      <td>0</td>\n",
       "      <td>...</td>\n",
       "      <td>0</td>\n",
       "      <td>0</td>\n",
       "      <td>0</td>\n",
       "      <td>0</td>\n",
       "      <td>0</td>\n",
       "      <td>0</td>\n",
       "      <td>0</td>\n",
       "      <td>2173</td>\n",
       "      <td>Antileon Hist.</td>\n",
       "      <td>Historici/-ae</td>\n",
       "    </tr>\n",
       "    <tr>\n",
       "      <th>11</th>\n",
       "      <td>0</td>\n",
       "      <td>0</td>\n",
       "      <td>0</td>\n",
       "      <td>0</td>\n",
       "      <td>0</td>\n",
       "      <td>0</td>\n",
       "      <td>0</td>\n",
       "      <td>0</td>\n",
       "      <td>0</td>\n",
       "      <td>0</td>\n",
       "      <td>...</td>\n",
       "      <td>0</td>\n",
       "      <td>0</td>\n",
       "      <td>0</td>\n",
       "      <td>0</td>\n",
       "      <td>0</td>\n",
       "      <td>0</td>\n",
       "      <td>0</td>\n",
       "      <td>1419</td>\n",
       "      <td>Hermas Scr. Eccl., Pastor Hermae</td>\n",
       "      <td>Scriptores Ecclesiastici</td>\n",
       "    </tr>\n",
       "  </tbody>\n",
       "</table>\n",
       "<p>10 rows × 100003 columns</p>\n",
       "</div>"
      ],
      "text/plain": [
       "    αʹ  ααα  ααπτος  ααπτους  ααρων  αασαμην  αατος  ααω  αβαθης  αβακιον  \\\n",
       "0    0    0       0        0      0        0      0    0       0        0   \n",
       "1    0    0       0        0      0        0      0    0       0        0   \n",
       "2    0    0       0        0      0        0      0    0       0        0   \n",
       "3    0    0       0        0      0        0      0    0       0        0   \n",
       "6    0    0       0        0      0        0      0    0       0        0   \n",
       "7    0    0       0        0      0        0      0    0       0        0   \n",
       "8    0    0       0        0      0        0      0    0       0        0   \n",
       "9    0    0       0        0      4        0      1    0       0        0   \n",
       "10   0    0       0        0      0        0      0    0       0        0   \n",
       "11   0    0       0        0      0        0      0    0       0        0   \n",
       "\n",
       "              ...             ϲωμα  ϲωματα  ϲωματι  ϲωματοϲ  ϲωματων  ϲωμαϲι  \\\n",
       "0             ...                0       0       0        0        0       0   \n",
       "1             ...                0       0       0        0        0       0   \n",
       "2             ...                0       0       0        0        0       0   \n",
       "3             ...                0       0       0        0        0       0   \n",
       "6             ...                0       0       0        0        0       0   \n",
       "7             ...                0       0       0        0        0       0   \n",
       "8             ...                0       0       0        0        0       0   \n",
       "9             ...                0       0       0        0        0       0   \n",
       "10            ...                0       0       0        0        0       0   \n",
       "11            ...                0       0       0        0        0       0   \n",
       "\n",
       "    ϲωμαϲιν    id                            author                   epithet  \n",
       "0         0  1459                     Lepidus Hist.             Historici/-ae  \n",
       "1         0  0825                      Melito Trag.                   Tragici  \n",
       "2         0  0331                  [Polyidus] Trag.                   Tragici  \n",
       "3         0  0417                  Archippus Comic.                    Comici  \n",
       "6         0  2475                  Menecrates Hist.             Historici/-ae  \n",
       "7         0  4075                     Marinus Phil.          Philosophici/-ae  \n",
       "8         0  2127                     Troilus Soph.                 Sophistae  \n",
       "9         0  2074                Apollinaris Theol.                Theologici  \n",
       "10        0  2173                    Antileon Hist.             Historici/-ae  \n",
       "11        0  1419  Hermas Scr. Eccl., Pastor Hermae  Scriptores Ecclesiastici  \n",
       "\n",
       "[10 rows x 100003 columns]"
      ]
     },
     "execution_count": 42,
     "metadata": {},
     "output_type": "execute_result"
    }
   ],
   "source": [
    "dataframe_bow.head(10)"
   ]
  },
  {
   "cell_type": "code",
   "execution_count": 43,
   "metadata": {
    "collapsed": false
   },
   "outputs": [
    {
     "data": {
      "text/plain": [
       "['/root/cltk_data/user_data/tlg_bow_df.pickle']"
      ]
     },
     "execution_count": 43,
     "metadata": {},
     "output_type": "execute_result"
    }
   ],
   "source": [
    "# write dataframe_bow to disk, for fast reuse while classifying\n",
    "# 2.3G\n",
    "fp_df = os.path.expanduser('~/cltk_data/user_data/tlg_bow_df.pickle')\n",
    "joblib.dump(dataframe_bow, fp_df)"
   ]
  },
  {
   "cell_type": "code",
   "execution_count": null,
   "metadata": {
    "collapsed": true
   },
   "outputs": [],
   "source": []
  }
 ],
 "metadata": {
  "kernelspec": {
   "display_name": "Python 3",
   "language": "python",
   "name": "python3"
  },
  "language_info": {
   "codemirror_mode": {
    "name": "ipython",
    "version": 3
   },
   "file_extension": ".py",
   "mimetype": "text/x-python",
   "name": "python",
   "nbconvert_exporter": "python",
   "pygments_lexer": "ipython3",
   "version": "3.5.2"
  }
 },
 "nbformat": 4,
 "nbformat_minor": 1
}
