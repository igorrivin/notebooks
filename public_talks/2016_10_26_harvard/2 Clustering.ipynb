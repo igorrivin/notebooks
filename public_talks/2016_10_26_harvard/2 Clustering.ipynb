{
 "cells": [
  {
   "cell_type": "markdown",
   "metadata": {},
   "source": [
    "Some sources:\n",
    "\n",
    "* Gensim LDA: https://radimrehurek.com/gensim/models/ldamodel.html\n",
    "* Misc clustering with Python: http://brandonrose.org/clustering\n",
    "* Scikit LDA: http://scikit-learn.org/0.16/modules/generated/sklearn.lda.LDA.html\n",
    "* Scikit NMF: http://scikit-learn.org/stable/modules/generated/sklearn.decomposition.NMF.html\n",
    "* WMD in Python: http://vene.ro/blog/word-movers-distance-in-python.html\n",
    "* Original WMD paper: http://jmlr.org/proceedings/papers/v37/kusnerb15.pdf\n",
    "* Scikit Affinity propagation: http://scikit-learn.org/stable/modules/generated/sklearn.cluster.AffinityPropagation.html"
   ]
  },
  {
   "cell_type": "markdown",
   "metadata": {},
   "source": [
    "# Greek (TLG)"
   ]
  },
  {
   "cell_type": "code",
   "execution_count": 1,
   "metadata": {
    "collapsed": true
   },
   "outputs": [],
   "source": [
    "import os\n",
    "import time"
   ]
  },
  {
   "cell_type": "code",
   "execution_count": 2,
   "metadata": {
    "collapsed": false
   },
   "outputs": [],
   "source": [
    "from cltk.corpus.greek.tlg.parse_tlg_indices import get_epithet_index\n",
    "from cltk.corpus.greek.tlg.parse_tlg_indices import get_epithets\n",
    "from cltk.corpus.greek.tlg.parse_tlg_indices import select_authors_by_epithet\n",
    "from cltk.corpus.greek.tlg.parse_tlg_indices import get_epithet_of_author\n",
    "from cltk.stop.greek.stops import STOPS_LIST as greek_stops\n",
    "from cltk.tokenize.word import nltk_tokenize_words\n",
    "\n",
    "from greek_accentuation.characters import base\n",
    "\n",
    "from sklearn.decomposition import NMF\n",
    "from sklearn.feature_extraction.text import TfidfVectorizer\n",
    "from sklearn.feature_extraction.text import CountVectorizer"
   ]
  },
  {
   "cell_type": "code",
   "execution_count": 3,
   "metadata": {
    "collapsed": false
   },
   "outputs": [],
   "source": [
    "def stream_lemmatized_files(corpus_dir):\n",
    "    # return all docs in a dir\n",
    "    user_dir = os.path.expanduser('~/cltk_data/user_data/' + corpus_dir)\n",
    "    files = os.listdir(user_dir)\n",
    "\n",
    "    for file in files:\n",
    "        filepath = os.path.join(user_dir, file)\n",
    "        with open(filepath) as fo:\n",
    "            yield fo.read()"
   ]
  },
  {
   "cell_type": "code",
   "execution_count": 5,
   "metadata": {
    "collapsed": false
   },
   "outputs": [
    {
     "name": "stdout",
     "output_type": "stream",
     "text": [
      "Time to collect texts: 3.0573339462280273\n",
      "Number of texts: 1139\n"
     ]
    }
   ],
   "source": [
    "t0 = time.time()\n",
    "\n",
    "data_samples = []\n",
    "for text in stream_lemmatized_files('tlg_lemmatized_no_accents_no_stops'):\n",
    "    data_samples.append(text)\n",
    "\n",
    "print('Time to collect texts: {}'.format(time.time() - t0))\n",
    "print('Number of texts:', len(data_samples))"
   ]
  },
  {
   "cell_type": "code",
   "execution_count": null,
   "metadata": {
    "collapsed": false
   },
   "outputs": [],
   "source": [
    "# tf-idf features\n",
    "n_samples = 2000\n",
    "n_features = 1000\n",
    "n_topics = len(get_epithets())\n",
    "n_top_words = 20\n",
    "\n",
    "tfidf_vectorizer = TfidfVectorizer(max_df=0.95, min_df=2,\n",
    "                                   max_features=n_features,\n",
    "                                   stop_words=None)\n",
    "t0 = time.time()\n",
    "tfidf = tfidf_vectorizer.fit_transform(data_samples)\n",
    "print('Time to extract tf-idf features: {} secs.'.format(time.time() - t0))"
   ]
  },
  {
   "cell_type": "code",
   "execution_count": null,
   "metadata": {
    "collapsed": false
   },
   "outputs": [],
   "source": [
    "print(\"Fitting the NMF model with tf-idf features, \"\n",
    "      \"n_samples=%d and n_features=%d...\"\n",
    "      % (n_samples, n_features))\n",
    "t0 = time.time()\n",
    "nmf = NMF(n_components=n_topics, random_state=1,\n",
    "          alpha=.1, l1_ratio=.5).fit(tfidf)\n",
    "print('Fit NMF model in {}'.format(time.time() - t0))"
   ]
  },
  {
   "cell_type": "code",
   "execution_count": null,
   "metadata": {
    "collapsed": true
   },
   "outputs": [],
   "source": [
    "def print_top_words(model, feature_names, n_top_words):\n",
    "    for topic_id, topic in enumerate(model.components_):\n",
    "        print('\\nTopic Nr.%d:' % int(topic_id + 1)) \n",
    "        print(''.join([feature_names[i] + ' ' + str(round(topic[i], 2))\n",
    "              +' | ' for i in topic.argsort()[:-n_top_words - 1:-1]]))"
   ]
  },
  {
   "cell_type": "code",
   "execution_count": null,
   "metadata": {
    "collapsed": false
   },
   "outputs": [],
   "source": [
    "print(\"Topics in NMF model:\")\n",
    "tfidf_feature_names = tfidf_vectorizer.get_feature_names()\n",
    "\n",
    "print_top_words(nmf, tfidf_feature_names, n_top_words)"
   ]
  },
  {
   "cell_type": "code",
   "execution_count": null,
   "metadata": {
    "collapsed": true
   },
   "outputs": [],
   "source": []
  },
  {
   "cell_type": "code",
   "execution_count": 16,
   "metadata": {
    "collapsed": false
   },
   "outputs": [
    {
     "data": {
      "text/plain": [
       "55"
      ]
     },
     "execution_count": 16,
     "metadata": {},
     "output_type": "execute_result"
    }
   ],
   "source": []
  },
  {
   "cell_type": "code",
   "execution_count": null,
   "metadata": {
    "collapsed": true
   },
   "outputs": [],
   "source": []
  }
 ],
 "metadata": {
  "kernelspec": {
   "display_name": "Python 3",
   "language": "python",
   "name": "python3"
  },
  "language_info": {
   "codemirror_mode": {
    "name": "ipython",
    "version": 3
   },
   "file_extension": ".py",
   "mimetype": "text/x-python",
   "name": "python",
   "nbconvert_exporter": "python",
   "pygments_lexer": "ipython3",
   "version": "3.5.2"
  }
 },
 "nbformat": 4,
 "nbformat_minor": 1
}
