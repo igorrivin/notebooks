{
 "cells": [
  {
   "cell_type": "markdown",
   "metadata": {},
   "source": [
    "Just run these once, following [importing tlg and phi5](http://docs.cltk.org/en/latest/importing_corpora.html#importing-a-corpus), then processing with [tlgu](http://docs.cltk.org/en/latest/greek.html#converting-tlg-texts-with-tlgu)."
   ]
  },
  {
   "cell_type": "markdown",
   "metadata": {},
   "source": [
    "# Lemmatize corpora"
   ]
  },
  {
   "cell_type": "markdown",
   "metadata": {},
   "source": [
    "## Greek (TLG)"
   ]
  },
  {
   "cell_type": "code",
   "execution_count": 2,
   "metadata": {
    "collapsed": false
   },
   "outputs": [],
   "source": [
    "import os\n",
    "import re\n",
    "import time\n",
    "\n",
    "from cltk.corpus.utils.formatter import assemble_tlg_author_filepaths\n",
    "from cltk.corpus.utils.formatter import tlg_plaintext_cleanup\n",
    "from cltk.stem.lemma import LemmaReplacer\n",
    "from cltk.stop.greek.stops import STOPS_LIST as greek_stops\n",
    "from greek_accentuation.characters import base  # pip install greek-accentuation"
   ]
  },
  {
   "cell_type": "code",
   "execution_count": 6,
   "metadata": {
    "collapsed": true
   },
   "outputs": [],
   "source": [
    "# Import the Greek models dir, which contains (among other things) the lemmatizer mappings\n",
    "from cltk.corpus.utils.importer import CorpusImporter\n",
    "corpus_importer = CorpusImporter('greek')\n",
    "corpus_importer.import_corpus('greek_models_cltk')"
   ]
  },
  {
   "cell_type": "code",
   "execution_count": 7,
   "metadata": {
    "collapsed": false
   },
   "outputs": [],
   "source": [
    "# This takes ~25 mins on a good server\n",
    "\n",
    "# make working dir\n",
    "user_dir = os.path.expanduser('~/cltk_data/user_data/tlg_lemmatized_no_accents_no_stops')\n",
    "if not os.path.isdir(user_dir):\n",
    "    os.makedirs(user_dir, exist_ok=True)\n",
    "\n",
    "# rm numbers (eg, αʹβʹ)\n",
    "comp_numbers = re.compile(r'.ʹ+?')\n",
    "\n",
    "# load lemmatizer map into memory\n",
    "# http://docs.cltk.org/en/latest/greek.html#lemmatization\n",
    "lemmatizer = LemmaReplacer('greek')\n",
    "\n",
    "# get filepaths\n",
    "# http://docs.cltk.org/en/latest/greek.html#tlg-indices\n",
    "filepaths = assemble_tlg_author_filepaths()\n",
    "\n",
    "# open each original file, clean, lemmatize, and write into new file\n",
    "for filepath in filepaths:\n",
    "    t0 = time.time()\n",
    "    # open original\n",
    "    with open(filepath) as fo:\n",
    "        text = fo.read()\n",
    "    \n",
    "    # cleanup tlg texts\n",
    "    # http://docs.cltk.org/en/latest/greek.html#text-cleanup\n",
    "    text_cleaned = tlg_plaintext_cleanup(text, rm_punctuation=True, rm_periods=True)\n",
    "    \n",
    "    # rm numbers\n",
    "    text_cleaned = comp_numbers.sub('', text_cleaned)\n",
    "    \n",
    "    # do lemmatization\n",
    "    text_cleaned = text_cleaned.lower()\n",
    "    tokens = lemmatizer.lemmatize(text_cleaned, return_string=False)\n",
    "    \n",
    "    # rm stops\n",
    "    # http://docs.cltk.org/en/latest/greek.html#stopword-filtering\n",
    "    tokens = [w for w in tokens if not w in greek_stops]\n",
    "    \n",
    "    # rm words less than 3 chars\n",
    "    tokens = [w for w in tokens if len(w) > 2]\n",
    "    \n",
    "    #TODO: rm accents\n",
    "    tokens_no_accents = []\n",
    "    for word in tokens:\n",
    "        word_no_accents = []\n",
    "        word = ''.join([base(char) for char in word])\n",
    "        tokens_no_accents.append(word)\n",
    "\n",
    "    #TODO: ''.join()\n",
    "    text_no_accents = ' '.join(tokens_no_accents)\n",
    "\n",
    "    # write file\n",
    "    file_name = os.path.split(filepath)[1]\n",
    "    lemmatized_fp = os.path.join(user_dir, file_name)\n",
    "    with open(lemmatized_fp, 'w') as fo:\n",
    "        fo.write(text_no_accents)\n",
    "#     print('Processing time for {0}: {1} secs.'.format(filepath, time.time() - t0))"
   ]
  },
  {
   "cell_type": "code",
   "execution_count": 8,
   "metadata": {
    "collapsed": false
   },
   "outputs": [
    {
     "name": "stdout",
     "output_type": "stream",
     "text": [
      "ωσπερ γεωγραφιαις ειμι σοσσιε σενεκιων ιστορικοι διαφευγοντα γιγνωσκω αὐτος εσχατοις μερεσι πινακων πιεζω αιτιας παραγραφουσιν επεκεινα θις ανυδρος θηριωδεις πηλος αιδνης σκυθικον κρυος πελαγος πεπηγος εμοι βιων παραλληλων γραφην εφικτον εικοτι λογω βασιμον ιστορια πραγματων εχομενη χρονον διελθοντι ανωτερω καλος εχω ειπον επεκεινα τερατωδη τραγικα ποιηται μυθογραφοι νεμονται ουκετ εχω πιστιν σαφηνειαν επει λυκουργου νομοθετου νομαζω βασιλεως λογον εκδοντες δοκεω οὐ αλογως ρωμυλω προσαναβαινω πλησιον χρονων αὐτος ιστορια γεγονοτες σκοπαω εγω τοιοσδε φωτι ξυμβησεται τιν αντιταξω φερεγγυος εφαινετο καλεω αοιδιμων οικιστην αθηνη ανθιστημι παραβαλλω πατρι ανικητου μεγαλοδοξου ρωμης ειμι οὖν εγω εκκαθαιρομενον λογω μυθωδης υπακουω λαμβανω ιστοριας οψις οπου αὐθαδης πιθανος περιφρονεω δεχηται εικος μεῖξις ευγνωμονων ακροατης δεησομεθα πρᾶος αρχαιολογιαν προσδεχομενων εδοκει οὖν θησευς ρωμυλω πολλας εναρμοττειν ομοιοτητας αμφω ανεγγυω σκοτιω γενομενοι δοξαν εχω θεαω γεγονεναι αμφω αιχμητα οιδα απας δυνατος ξυνετον εχω πολεων επιφανεστατων κτιζω ρωμην συνοικιζω τας αθηνας αρπαγη γυνη εκατερω προσεστιν ουδετερος δυστυχιαν οικεῖος νεμεσιν εγγενης διεφυγεν τελευταω αμφοτεροι λεγονται εαυτοῦ προσκρουω πολιταις ηκιστος τραγικος ερῶ δοκουντων οφελος ειμι αληθειαν θησεως πατρῶιος γενος ερεχθεα πρωτους αυτοχθονας ανηκει μητρωιος πελοπιδης ειμι πελοψ οὐ χρηματων πληθει μαλλον παιδων μεγιστον ισχυω πελοποννησω βασιλεων πολλας εκδομενος θυγατερας αριστοις πολλους πολεσιν υιους εγ\n"
     ]
    }
   ],
   "source": [
    "# now see the texts lemmatized and with all markup, and stopwords, removed\n",
    "\n",
    "with open('/root/cltk_data/user_data/tlg_lemmatized_no_accents_no_stops/TLG0007.TXT') as file_open:\n",
    "    text_snippet = file_open.read()[:1500]\n",
    "print(text_snippet)"
   ]
  },
  {
   "cell_type": "markdown",
   "metadata": {},
   "source": [
    "## Latin (phi5)"
   ]
  },
  {
   "cell_type": "code",
   "execution_count": null,
   "metadata": {
    "collapsed": true
   },
   "outputs": [],
   "source": [
    "from cltk.corpus.utils.formatter import assemble_phi5_author_filepaths\n",
    "from cltk.corpus.utils.formatter import phi5_plaintext_cleanup"
   ]
  },
  {
   "cell_type": "code",
   "execution_count": null,
   "metadata": {
    "collapsed": true
   },
   "outputs": [],
   "source": [
    "# make working dir\n",
    "user_dir = os.path.expanduser('~/cltk_data/user_data/phi5_lemmatized')\n",
    "if not os.path.isdir(user_dir):\n",
    "    os.makedirs(user_dir, exist_ok=True)\n",
    "\n",
    "# load lemmatizer map into memory\n",
    "# http://docs.cltk.org/en/latest/latin.html#lemmatization\n",
    "lemmatizer = LemmaReplacer('latin')\n",
    "\n",
    "# get filepaths\n",
    "# http://docs.cltk.org/en/latest/latin.html#phi-indices\n",
    "filepaths = assemble_phi5_author_filepaths()\n",
    "\n",
    "# open each original file, clean, lemmatize, and write into new file\n",
    "for filepath in filepaths:\n",
    "    # open original\n",
    "    with open(filepath) as fo:\n",
    "        text = fo.read()\n",
    "    \n",
    "    # cleanup phi5 texts\n",
    "    # http://docs.cltk.org/en/latest/latin.html#text-cleanup\n",
    "    text_cleaned = phi5_plaintext_cleanup(text, rm_punctuation=True, rm_periods=False)\n",
    "    \n",
    "    # do lemmatization\n",
    "    text_lemmatized = lemmatizer.lemmatize(text_cleaned, return_string=True)\n",
    "    \n",
    "    # write file\n",
    "    file_name = os.path.split(filepath)[1]\n",
    "    lemmatized_fp = os.path.join(user_dir, file_name)\n",
    "    with open(lemmatized_fp, 'w') as fo:\n",
    "        fo.write(text_lemmatized)"
   ]
  },
  {
   "cell_type": "code",
   "execution_count": null,
   "metadata": {
    "collapsed": true
   },
   "outputs": [],
   "source": []
  }
 ],
 "metadata": {
  "kernelspec": {
   "display_name": "Python 3",
   "language": "python",
   "name": "python3"
  },
  "language_info": {
   "codemirror_mode": {
    "name": "ipython",
    "version": 3
   },
   "file_extension": ".py",
   "mimetype": "text/x-python",
   "name": "python",
   "nbconvert_exporter": "python",
   "pygments_lexer": "ipython3",
   "version": "3.5.2"
  }
 },
 "nbformat": 4,
 "nbformat_minor": 1
}
