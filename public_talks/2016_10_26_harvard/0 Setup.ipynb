{
 "cells": [
  {
   "cell_type": "markdown",
   "metadata": {},
   "source": [
    "# Import TLG\n",
    "\n",
    "http://docs.cltk.org/en/latest/importing_corpora.html"
   ]
  },
  {
   "cell_type": "code",
   "execution_count": 1,
   "metadata": {
    "collapsed": true
   },
   "outputs": [],
   "source": [
    "from cltk.corpus.utils.importer import CorpusImporter"
   ]
  },
  {
   "cell_type": "code",
   "execution_count": 2,
   "metadata": {
    "collapsed": true
   },
   "outputs": [],
   "source": [
    "corpus_importer = CorpusImporter('greek')"
   ]
  },
  {
   "cell_type": "code",
   "execution_count": 3,
   "metadata": {
    "collapsed": false
   },
   "outputs": [
    {
     "data": {
      "text/plain": [
       "['greek_software_tlgu',\n",
       " 'greek_text_perseus',\n",
       " 'phi7',\n",
       " 'tlg',\n",
       " 'greek_proper_names_cltk',\n",
       " 'greek_models_cltk',\n",
       " 'greek_treebank_perseus',\n",
       " 'greek_lexica_perseus',\n",
       " 'greek_training_set_sentence_cltk',\n",
       " 'greek_word2vec_cltk',\n",
       " 'greek_text_lacus_curtius']"
      ]
     },
     "execution_count": 3,
     "metadata": {},
     "output_type": "execute_result"
    }
   ],
   "source": [
    "corpus_importer.list_corpora"
   ]
  },
  {
   "cell_type": "code",
   "execution_count": 5,
   "metadata": {
    "collapsed": false
   },
   "outputs": [],
   "source": [
    "corpus_importer.import_corpus('tlg', '/root/classics_corpora/TLG_E')"
   ]
  },
  {
   "cell_type": "markdown",
   "metadata": {},
   "source": [
    "# Convert TLG to Unicode\n",
    "\n",
    "http://docs.cltk.org/en/latest/greek.html#converting-tlg-texts-with-tlgu"
   ]
  },
  {
   "cell_type": "code",
   "execution_count": 6,
   "metadata": {
    "collapsed": true
   },
   "outputs": [],
   "source": [
    "from cltk.corpus.greek.tlgu import TLGU"
   ]
  },
  {
   "cell_type": "code",
   "execution_count": 8,
   "metadata": {
    "collapsed": true
   },
   "outputs": [],
   "source": [
    "corpus_importer.import_corpus('greek_software_tlgu')"
   ]
  },
  {
   "cell_type": "code",
   "execution_count": 9,
   "metadata": {
    "collapsed": false
   },
   "outputs": [
    {
     "name": "stdout",
     "output_type": "stream",
     "text": [
      "Do you want to install TLGU? To continue, press Return. To exit, Control-C.\n",
      "\n",
      "Do you want to install TLGU? To continue, press Return. To exit, Control-C.\n",
      "\n"
     ]
    }
   ],
   "source": [
    "t = TLGU()"
   ]
  },
  {
   "cell_type": "code",
   "execution_count": 10,
   "metadata": {
    "collapsed": true
   },
   "outputs": [],
   "source": [
    "t.convert_corpus(corpus='tlg')"
   ]
  },
  {
   "cell_type": "markdown",
   "metadata": {},
   "source": [
    "Now the TLG corpus is in now ready to use in Unicode. Some preprocesing is likely still required, as the text still has formatting and linebreaks present in the original printed text."
   ]
  },
  {
   "cell_type": "code",
   "execution_count": 13,
   "metadata": {
    "collapsed": false
   },
   "outputs": [
    {
     "name": "stdout",
     "output_type": "stream",
     "text": [
      "\n",
      "      {ΘΗΣΕΥΣ ΚΑΙ ΡΩΜΥΛΟΣ} \n",
      "  Ὥσπερ ἐν ταῖς γεωγραφίαις, ὦ Σόσσιε Σενεκίων, \n",
      "οἱ ἱστορικοὶ τὰ διαφεύγοντα τὴν γνῶσιν αὐτῶν τοῖς \n",
      "ἐσχάτοις μέρεσι τῶν πινάκων πιεζοῦντες, αἰτίας παρα-\n",
      "γράφουσιν ὅτι ‘τὰ δ' ἐπέκεινα θῖνες ἄνυδροι καὶ θη-\n",
      "ριώδεις’, ἢ ‘πηλὸς ἀιδνής’, ἢ ‘Σκυθικὸν κρύος’, ἢ \n",
      "‘πέλαγος πεπηγός’, οὕτως ἐμοὶ περὶ τὴν τῶν βίων τῶν \n",
      "παραλλήλων γραφὴν τὸν ἐφικτὸν εἰκότι λόγῳ καὶ βάσι-\n",
      "μον ἱστορίᾳ πραγμάτων ἐχομένῃ χρόνον διελθόντι, περὶ \n",
      "τῶν ἀνωτέρω καλῶς εἶχεν εἰπεῖν ‘τὰ δ' ἐπέκεινα τερα-\n",
      "τώδη καὶ τραγικά, ποιηταὶ καὶ μυθογράφοι νέμονται, \n",
      "καὶ οὐκέτ' ἔχει πίστιν οὐδὲ σαφήνειαν.’ ἐπεὶ δὲ τὸν \n",
      "περὶ Λυκούργου τοῦ νομοθέτου καὶ Νομᾶ τοῦ βασιλέως \n",
      "λόγον ἐκδόντες, ἐδοκοῦμεν οὐκ ἂν ἀλόγως τῷ Ῥωμύλῳ \n",
      "προσαναβῆναι, πλησίον τῶν χρόνων αὐτοῦ τῇ ἱστορίᾳ \n",
      "γεγονότες, σκοποῦντι δέ μοι \n",
      " \n",
      "  τοιῷδε φωτὶ (κατ' Αἰσχύλον) τίς ξυμβήσεται; \n",
      "                                        (Sept. 435) \n",
      "  τίν' ἀντιτάξω τῷδε; τίς φερέγγυος; (Sept. 395, 396) \n",
      " \n",
      "ἐφαίνετο τὸν τῶν καλῶν καὶ ἀοιδίμων οἰκιστὴν Ἀθηνῶν \n",
      "ἀντιστῆσαι καὶ παραβαλεῖν τῷ πατρὶ τῆς ἀνικήτου καὶ  \n",
      "μεγαλοδόξου Ῥώμης. εἴη μὲν οὖν ἡμῖν ἐκκαθαιρόμενον \n",
      "λόγῳ τὸ μυθῶδες ὑπακοῦσαι καὶ λαβεῖν ἱστορίας ὄψιν: \n",
      "ὅπου δ' ἂν αὐθαδῶς τοῦ πιθανοῦ περιφρονῇ καὶ μὴ δέ-\n",
      "χηται τὴν πρὸς τὸ εἰκὸς μεῖξιν, εὐγνωμόνων ἀκροατῶν \n",
      "δεησόμεθα καὶ πρᾴως τὴν ἀρχαιολογίαν προσδεχομένων. \n",
      "  Ἐδόκει δ' οὖν ὁ Θησεὺς τῷ Ῥωμύλῳ κατὰ πολλὰς \n",
      "ἐναρμόττειν ὁμοιότητας; ἄμφω μὲν γὰρ ἀνεγγύω καὶ \n",
      "σκοτίω γενόμενοι δόξαν ἔσχον ἐκ θεῶν γεγονέναι, \n",
      " \n",
      "  ἄμφω δ' αἰχμητά, τό γε δὴ καὶ ἴδμεν\n"
     ]
    }
   ],
   "source": [
    "with open('/root/cltk_data/greek/text/tlg/plaintext/TLG0007.TXT') as file_open:\n",
    "    text_snippet = file_open.read()[:1500]\n",
    "print(text_snippet)"
   ]
  }
 ],
 "metadata": {
  "kernelspec": {
   "display_name": "Python 3",
   "language": "python",
   "name": "python3"
  },
  "language_info": {
   "codemirror_mode": {
    "name": "ipython",
    "version": 3
   },
   "file_extension": ".py",
   "mimetype": "text/x-python",
   "name": "python",
   "nbconvert_exporter": "python",
   "pygments_lexer": "ipython3",
   "version": "3.5.2"
  }
 },
 "nbformat": 4,
 "nbformat_minor": 1
}
