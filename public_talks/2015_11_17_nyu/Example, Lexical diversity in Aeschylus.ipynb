{
 "cells": [
  {
   "cell_type": "code",
   "execution_count": 1,
   "metadata": {
    "collapsed": true
   },
   "outputs": [],
   "source": [
    "from cltk.corpus.greek.tlg.parse_tlg_indices import select_id_by_name"
   ]
  },
  {
   "cell_type": "code",
   "execution_count": 2,
   "metadata": {
    "collapsed": false
   },
   "outputs": [
    {
     "data": {
      "text/plain": [
       "[('0085', 'Aeschylus Trag.'), ('0321', 'Aeschylus Trag.')]"
      ]
     },
     "execution_count": 2,
     "metadata": {},
     "output_type": "execute_result"
    }
   ],
   "source": [
    "select_id_by_name('Aeschylus')"
   ]
  },
  {
   "cell_type": "code",
   "execution_count": 3,
   "metadata": {
    "collapsed": true
   },
   "outputs": [],
   "source": [
    "import os\n",
    "\n",
    "author_fp = os.path.expanduser('~/cltk_data/greek/text/tlg/plaintext/' + 'TLG0085.TXT')"
   ]
  },
  {
   "cell_type": "code",
   "execution_count": 4,
   "metadata": {
    "collapsed": false
   },
   "outputs": [
    {
     "data": {
      "text/plain": [
       "'/Users/kyle/cltk_data/greek/text/tlg/plaintext/TLG0085.TXT'"
      ]
     },
     "execution_count": 4,
     "metadata": {},
     "output_type": "execute_result"
    }
   ],
   "source": [
    "author_fp"
   ]
  },
  {
   "cell_type": "code",
   "execution_count": 5,
   "metadata": {
    "collapsed": true
   },
   "outputs": [],
   "source": [
    "with open(author_fp) as file_open:\n",
    "    aes_raw = file_open.read()"
   ]
  },
  {
   "cell_type": "code",
   "execution_count": 6,
   "metadata": {
    "collapsed": false
   },
   "outputs": [
    {
     "name": "stdout",
     "output_type": "stream",
     "text": [
      "\n",
      "                 {ΙΚΕΤΙΔΕΣ} \n",
      "  {ΧΟΡΟΣ ΔΑΝΑΙΔΩΝ} \n",
      "       Ζεὺς μὲν ἀφίκτωρ ἐπίδοι προφρόνως \n",
      "       στόλον ἡμέτερον νάιον ἀρθέντ' \n",
      "       ἀπὸ προστομίων λεπτοψαμάθων \n",
      "         Νείλου. Δίαν δὲ λιποῦσαι \n",
      "       χθόνα σύγχορτον Συρίᾳ φεύγομεν, \n",
      "       οὔτιν' ἐφ' αἵματι δημηλασίαν \n",
      "         ψήφῳ πόλεως γνωσθεῖσαι, \n",
      "       ἀλλ' αὐτογενεῖ φυξανορίᾳ, \n",
      "       γάμον Αἰγύπτου παίδων ἀσεβῆ τ' \n",
      "         ὀνοταζόμεναι <διάνοιαν>. \n",
      "       Δαναὸς δὲ πατὴρ καὶ βούλαρχος \n",
      "       καὶ στασίαρχος τάδε πεσσονομῶν \n",
      "         κύδιστ' ἀχέων ἐπέκρινεν \n",
      "       φεύγειν ἀνέδην διὰ κῦμ' ἅλιον, \n",
      "       κέλσαι δ' Ἄργους γαῖαν, ὅθεν δὴ \n",
      "       γένος ἡμέτερον τῆς οἰστροδόνου \n",
      "       βοὸς ἐξ ἐπαφῆς κἀξ ἐπιπνοίας \n",
      "         Διὸς εὐχόμενον τετέλεσται. \n",
      "       τίν' ἂν οὖν χώραν εὔφρονα μᾶλλον \n",
      "       τῆσδ' ἀφικοίμεθα \n",
      "       σὺν τοῖσδ' ἱκετῶν ἐγχειριδίοις, \n",
      "         ἐριοστέπτοισι κλάδοισιν;  \n",
      "       ὦ πόλις, ὦ γῆ, καὶ λευκὸν ὕδωρ, \n",
      "       ὕπατοί τε θεοί, καὶ βαρύτιμοι \n",
      "         χθόνιοι θήκας κατέχοντες, \n",
      "       καὶ Ζεὺς σωτὴρ\n"
     ]
    }
   ],
   "source": [
    "print(aes_raw[:1000])"
   ]
  },
  {
   "cell_type": "code",
   "execution_count": 7,
   "metadata": {
    "collapsed": true
   },
   "outputs": [],
   "source": [
    "from cltk.corpus.utils.formatter import tlg_plaintext_cleanup"
   ]
  },
  {
   "cell_type": "code",
   "execution_count": 8,
   "metadata": {
    "collapsed": true
   },
   "outputs": [],
   "source": [
    "aes_clean = tlg_plaintext_cleanup(aes_raw, rm_punctuation=True, rm_periods=True)"
   ]
  },
  {
   "cell_type": "code",
   "execution_count": 9,
   "metadata": {
    "collapsed": false
   },
   "outputs": [
    {
     "name": "stdout",
     "output_type": "stream",
     "text": [
      " Ζεὺς μὲν ἀφίκτωρ ἐπίδοι προφρόνως στόλον ἡμέτερον νάιον ἀρθέντ ἀπὸ προστομίων λεπτοψαμάθων Νείλου Δίαν δὲ λιποῦσαι χθόνα σύγχορτον Συρίᾳ φεύγομεν οὔτιν ἐφ αἵματι δημηλασίαν ψήφῳ πόλεως γνωσθεῖσαι ἀλλ αὐτογενεῖ φυξανορίᾳ γάμον Αἰγύπτου παίδων ἀσεβῆ τ ὀνοταζόμεναι διάνοιαν Δαναὸς δὲ πατὴρ καὶ βούλαρχος καὶ στασίαρχος τάδε πεσσονομῶν κύδιστ ἀχέων ἐπέκρινεν φεύγειν ἀνέδην διὰ κῦμ ἅλιον κέλσαι δ Ἄργους γαῖαν ὅθεν δὴ γένος ἡμέτερον τῆς οἰστροδόνου βοὸς ἐξ ἐπαφῆς κἀξ ἐπιπνοίας Διὸς εὐχόμενον τετέλεσται τίν ἂν οὖν χώραν εὔφρονα μᾶλλον τῆσδ ἀφικοίμεθα σὺν τοῖσδ ἱκετῶν ἐγχειριδίοις ἐριοστέπτοισι κλάδοισιν ὦ πόλις ὦ γῆ καὶ λευκὸν ὕδωρ ὕπατοί τε θεοί καὶ βαρύτιμοι χθόνιοι θήκας κατέχοντες καὶ Ζεὺς σωτὴρ τρίτος οἰκοφύλαξ ὁσίων ἀνδρῶν δέξασθ ἱκέτην τὸν θηλυγενῆ στόλον αἰδοίῳ πνεύματι χώρας ἀρσενοπληθῆ δ ἑσμὸν ὑβριστὴν Αἰγυπτογενῆ πρὶν πόδα χέρσῳ τῇδ ἐν ἀσώδει θεῖναι ξὺν ὄχῳ ταχυήρει πέμψατε πόντονδ ἔνθα δὲ λαίλαπι χειμωνοτύπῳ βροντῇ στεροπῇ τ ὀμβροφόροισίν τ ἀνέμοις ἀγρίας ἁλὸς ἀντήσαντες ὄλοιντο π\n"
     ]
    }
   ],
   "source": [
    "print(aes_clean[:1000])"
   ]
  },
  {
   "cell_type": "code",
   "execution_count": 10,
   "metadata": {
    "collapsed": false
   },
   "outputs": [
    {
     "name": "stdout",
     "output_type": "stream",
     "text": [
      "['Ζεὺς', 'μὲν', 'ἀφίκτωρ', 'ἐπίδοι', 'προφρόνως', 'στόλον', 'ἡμέτερον', 'νάιον', 'ἀρθέντ', 'ἀπὸ', 'προστομίων', 'λεπτοψαμάθων', 'Νείλου', 'Δίαν', 'δὲ', 'λιποῦσαι', 'χθόνα', 'σύγχορτον', 'Συρίᾳ', 'φεύγομεν', 'οὔτιν', 'ἐφ', 'αἵματι', 'δημηλασίαν', 'ψήφῳ', 'πόλεως', 'γνωσθεῖσαι', 'ἀλλ', 'αὐτογενεῖ', 'φυξανορίᾳ']\n"
     ]
    }
   ],
   "source": [
    "aes_unigrams = aes_clean.split()\n",
    "print(aes_unigrams[:30])"
   ]
  },
  {
   "cell_type": "code",
   "execution_count": 11,
   "metadata": {
    "collapsed": false
   },
   "outputs": [
    {
     "name": "stdout",
     "output_type": "stream",
     "text": [
      "Total words: 74329\n"
     ]
    }
   ],
   "source": [
    "total_words = len(aes_unigrams)\n",
    "print('Total words:', total_words)"
   ]
  },
  {
   "cell_type": "code",
   "execution_count": 12,
   "metadata": {
    "collapsed": false
   },
   "outputs": [
    {
     "name": "stdout",
     "output_type": "stream",
     "text": [
      "Total unique words: 24097\n"
     ]
    }
   ],
   "source": [
    "unique_words = set(aes_unigrams)\n",
    "unique_count = len(unique_words)\n",
    "print('Total unique words:', unique_count)"
   ]
  },
  {
   "cell_type": "code",
   "execution_count": 13,
   "metadata": {
    "collapsed": false
   },
   "outputs": [],
   "source": [
    "aes_ratio = unique_count / total_words"
   ]
  },
  {
   "cell_type": "code",
   "execution_count": 14,
   "metadata": {
    "collapsed": false
   },
   "outputs": [
    {
     "name": "stdout",
     "output_type": "stream",
     "text": [
      "Lexical diversity of Aechylus 0.3241937870817581\n"
     ]
    }
   ],
   "source": [
    "print('Lexical diversity of Aechylus', aes_ratio)"
   ]
  }
 ],
 "metadata": {
  "kernelspec": {
   "display_name": "Python 3",
   "language": "python",
   "name": "python3"
  },
  "language_info": {
   "codemirror_mode": {
    "name": "ipython",
    "version": 3
   },
   "file_extension": ".py",
   "mimetype": "text/x-python",
   "name": "python",
   "nbconvert_exporter": "python",
   "pygments_lexer": "ipython3",
   "version": "3.5.0"
  }
 },
 "nbformat": 4,
 "nbformat_minor": 0
}
