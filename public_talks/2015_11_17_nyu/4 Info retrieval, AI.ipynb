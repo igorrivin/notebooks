{
 "cells": [
  {
   "cell_type": "markdown",
   "metadata": {},
   "source": [
    "# IR"
   ]
  },
  {
   "cell_type": "code",
   "execution_count": 1,
   "metadata": {
    "collapsed": true
   },
   "outputs": [],
   "source": [
    "from cltk.ir.query import search_corpus\n",
    "\n",
    "from cltk.ir.query import match_regex\n",
    "\n",
    "from cltk.ir.query import search_corpus"
   ]
  },
  {
   "cell_type": "markdown",
   "metadata": {},
   "source": [
    "## Of corpus"
   ]
  },
  {
   "cell_type": "code",
   "execution_count": 3,
   "metadata": {
    "collapsed": true
   },
   "outputs": [
    {
     "name": "stdout",
     "output_type": "stream",
     "text": [
      "('Symeon Logothetes Hist.', 'κτείνας δὲ τὸν Ἄβελ ὁ Κάϊν \\nἔκρυψε τὸν νεκρόν, λαθεῖν ἐντεῦθεν οἰόμενος: βοῶντος δὲ \\nπρὸς τὸν θεὸν τοῦ αἵματος ἐπακούει ὁ θεός: δικαίων γὰρ \\nἐπακούει, κἂν τελευτήσαντες *ὦ*σιν, ἀδίκων δὲ καὶ αὐτὰς ἀπο-\\nστρέφεται τὰς εὐχάς.')\n",
      "\n",
      "('Symeon Logothetes Hist.', '\\nκατὰ τούτους τοὺς χρόνους Μίδας τῆς Φρυγίας βασιλεὺς \\nἀπέθανεν, ὅντινα τοῖς τότε καιροῖς ὄνου *ὦ*τα ἔχειν ἔλεγον.')\n",
      "\n",
      "('Symeon Logothetes Hist.', 'Ἀρταξέρξης ὁ ἐπικληθεὶς *Ὦ*χος ἐβασί-\\nλευσεν ἔτη κβʹ.')\n",
      "\n",
      "('Symeon Logothetes Hist.', ' τελευταῖον δὲ εἰπὼν “*ὦ* \\nΖεῦ, οἷος τεχνίτης κιθαρῳδὸς ἀπόλλυται” ἑαυτὸν ἀνεῖλεν.')\n",
      "\n",
      "('Symeon Logothetes Hist.', 'ἀπέθανε δὲ βίᾳ τῆς νόσου, \\nκράζων “*ὦ* Ζεῦ, πόσον κακόν ἐστιν ἐπιθυμοῦντά τινα ἀπο-\\nθανεῖν καὶ μὴ τυγχάνειν.')\n"
     ]
    },
    {
     "ename": "KeyboardInterrupt",
     "evalue": "",
     "output_type": "error",
     "traceback": [
      "\u001b[0;31m---------------------------------------------------------------------------\u001b[0m",
      "\u001b[0;31mKeyboardInterrupt\u001b[0m                         Traceback (most recent call last)",
      "\u001b[0;32m/Users/kyle/cltk/venv/lib/python3.5/site-packages/ipykernel/kernelbase.py\u001b[0m in \u001b[0;36m_input_request\u001b[0;34m(self, prompt, ident, parent, password)\u001b[0m\n\u001b[1;32m    701\u001b[0m             \u001b[0;32mtry\u001b[0m\u001b[0;34m:\u001b[0m\u001b[0;34m\u001b[0m\u001b[0m\n\u001b[0;32m--> 702\u001b[0;31m                 \u001b[0mident\u001b[0m\u001b[0;34m,\u001b[0m \u001b[0mreply\u001b[0m \u001b[0;34m=\u001b[0m \u001b[0mself\u001b[0m\u001b[0;34m.\u001b[0m\u001b[0msession\u001b[0m\u001b[0;34m.\u001b[0m\u001b[0mrecv\u001b[0m\u001b[0;34m(\u001b[0m\u001b[0mself\u001b[0m\u001b[0;34m.\u001b[0m\u001b[0mstdin_socket\u001b[0m\u001b[0;34m,\u001b[0m \u001b[0;36m0\u001b[0m\u001b[0;34m)\u001b[0m\u001b[0;34m\u001b[0m\u001b[0m\n\u001b[0m\u001b[1;32m    703\u001b[0m             \u001b[0;32mexcept\u001b[0m \u001b[0mException\u001b[0m\u001b[0;34m:\u001b[0m\u001b[0;34m\u001b[0m\u001b[0m\n",
      "\u001b[0;32m/Users/kyle/cltk/venv/lib/python3.5/site-packages/jupyter_client/session.py\u001b[0m in \u001b[0;36mrecv\u001b[0;34m(self, socket, mode, content, copy)\u001b[0m\n\u001b[1;32m    730\u001b[0m         \u001b[0;32mtry\u001b[0m\u001b[0;34m:\u001b[0m\u001b[0;34m\u001b[0m\u001b[0m\n\u001b[0;32m--> 731\u001b[0;31m             \u001b[0mmsg_list\u001b[0m \u001b[0;34m=\u001b[0m \u001b[0msocket\u001b[0m\u001b[0;34m.\u001b[0m\u001b[0mrecv_multipart\u001b[0m\u001b[0;34m(\u001b[0m\u001b[0mmode\u001b[0m\u001b[0;34m,\u001b[0m \u001b[0mcopy\u001b[0m\u001b[0;34m=\u001b[0m\u001b[0mcopy\u001b[0m\u001b[0;34m)\u001b[0m\u001b[0;34m\u001b[0m\u001b[0m\n\u001b[0m\u001b[1;32m    732\u001b[0m         \u001b[0;32mexcept\u001b[0m \u001b[0mzmq\u001b[0m\u001b[0;34m.\u001b[0m\u001b[0mZMQError\u001b[0m \u001b[0;32mas\u001b[0m \u001b[0me\u001b[0m\u001b[0;34m:\u001b[0m\u001b[0;34m\u001b[0m\u001b[0m\n",
      "\u001b[0;32m/Users/kyle/cltk/venv/lib/python3.5/site-packages/zmq/sugar/socket.py\u001b[0m in \u001b[0;36mrecv_multipart\u001b[0;34m(self, flags, copy, track)\u001b[0m\n\u001b[1;32m    357\u001b[0m         \"\"\"\n\u001b[0;32m--> 358\u001b[0;31m         \u001b[0mparts\u001b[0m \u001b[0;34m=\u001b[0m \u001b[0;34m[\u001b[0m\u001b[0mself\u001b[0m\u001b[0;34m.\u001b[0m\u001b[0mrecv\u001b[0m\u001b[0;34m(\u001b[0m\u001b[0mflags\u001b[0m\u001b[0;34m,\u001b[0m \u001b[0mcopy\u001b[0m\u001b[0;34m=\u001b[0m\u001b[0mcopy\u001b[0m\u001b[0;34m,\u001b[0m \u001b[0mtrack\u001b[0m\u001b[0;34m=\u001b[0m\u001b[0mtrack\u001b[0m\u001b[0;34m)\u001b[0m\u001b[0;34m]\u001b[0m\u001b[0;34m\u001b[0m\u001b[0m\n\u001b[0m\u001b[1;32m    359\u001b[0m         \u001b[0;31m# have first part already, only loop while more to receive\u001b[0m\u001b[0;34m\u001b[0m\u001b[0;34m\u001b[0m\u001b[0m\n",
      "\u001b[0;32mzmq/backend/cython/socket.pyx\u001b[0m in \u001b[0;36mzmq.backend.cython.socket.Socket.recv (zmq/backend/cython/socket.c:6507)\u001b[0;34m()\u001b[0m\n",
      "\u001b[0;32mzmq/backend/cython/socket.pyx\u001b[0m in \u001b[0;36mzmq.backend.cython.socket.Socket.recv (zmq/backend/cython/socket.c:6307)\u001b[0;34m()\u001b[0m\n",
      "\u001b[0;32mzmq/backend/cython/socket.pyx\u001b[0m in \u001b[0;36mzmq.backend.cython.socket._recv_copy (zmq/backend/cython/socket.c:1877)\u001b[0;34m()\u001b[0m\n",
      "\u001b[0;32m/Users/kyle/cltk/venv/lib/python3.5/site-packages/zmq/backend/cython/checkrc.pxd\u001b[0m in \u001b[0;36mzmq.backend.cython.checkrc._check_rc (zmq/backend/cython/socket.c:6758)\u001b[0;34m()\u001b[0m\n",
      "\u001b[0;31mKeyboardInterrupt\u001b[0m: ",
      "\nDuring handling of the above exception, another exception occurred:\n",
      "\u001b[0;31mKeyboardInterrupt\u001b[0m                         Traceback (most recent call last)",
      "\u001b[0;32m<ipython-input-3-7b1044c820de>\u001b[0m in \u001b[0;36m<module>\u001b[0;34m()\u001b[0m\n\u001b[1;32m      3\u001b[0m \u001b[0;32mfor\u001b[0m \u001b[0mandres\u001b[0m \u001b[0;32min\u001b[0m \u001b[0mmatches\u001b[0m\u001b[0;34m:\u001b[0m\u001b[0;34m\u001b[0m\u001b[0m\n\u001b[1;32m      4\u001b[0m     \u001b[0mprint\u001b[0m\u001b[0;34m(\u001b[0m\u001b[0mandres\u001b[0m\u001b[0;34m)\u001b[0m\u001b[0;34m\u001b[0m\u001b[0m\n\u001b[0;32m----> 5\u001b[0;31m     \u001b[0minput\u001b[0m\u001b[0;34m(\u001b[0m\u001b[0;34m)\u001b[0m\u001b[0;34m\u001b[0m\u001b[0m\n\u001b[0m",
      "\u001b[0;32m/Users/kyle/cltk/venv/lib/python3.5/site-packages/ipykernel/kernelbase.py\u001b[0m in \u001b[0;36mraw_input\u001b[0;34m(self, prompt)\u001b[0m\n\u001b[1;32m    675\u001b[0m             \u001b[0mself\u001b[0m\u001b[0;34m.\u001b[0m\u001b[0m_parent_ident\u001b[0m\u001b[0;34m,\u001b[0m\u001b[0;34m\u001b[0m\u001b[0m\n\u001b[1;32m    676\u001b[0m             \u001b[0mself\u001b[0m\u001b[0;34m.\u001b[0m\u001b[0m_parent_header\u001b[0m\u001b[0;34m,\u001b[0m\u001b[0;34m\u001b[0m\u001b[0m\n\u001b[0;32m--> 677\u001b[0;31m             \u001b[0mpassword\u001b[0m\u001b[0;34m=\u001b[0m\u001b[0;32mFalse\u001b[0m\u001b[0;34m,\u001b[0m\u001b[0;34m\u001b[0m\u001b[0m\n\u001b[0m\u001b[1;32m    678\u001b[0m         )\n\u001b[1;32m    679\u001b[0m \u001b[0;34m\u001b[0m\u001b[0m\n",
      "\u001b[0;32m/Users/kyle/cltk/venv/lib/python3.5/site-packages/ipykernel/kernelbase.py\u001b[0m in \u001b[0;36m_input_request\u001b[0;34m(self, prompt, ident, parent, password)\u001b[0m\n\u001b[1;32m    705\u001b[0m             \u001b[0;32mexcept\u001b[0m \u001b[0mKeyboardInterrupt\u001b[0m\u001b[0;34m:\u001b[0m\u001b[0;34m\u001b[0m\u001b[0m\n\u001b[1;32m    706\u001b[0m                 \u001b[0;31m# re-raise KeyboardInterrupt, to truncate traceback\u001b[0m\u001b[0;34m\u001b[0m\u001b[0;34m\u001b[0m\u001b[0m\n\u001b[0;32m--> 707\u001b[0;31m                 \u001b[0;32mraise\u001b[0m \u001b[0mKeyboardInterrupt\u001b[0m\u001b[0;34m\u001b[0m\u001b[0m\n\u001b[0m\u001b[1;32m    708\u001b[0m             \u001b[0;32melse\u001b[0m\u001b[0;34m:\u001b[0m\u001b[0;34m\u001b[0m\u001b[0m\n\u001b[1;32m    709\u001b[0m                 \u001b[0;32mbreak\u001b[0m\u001b[0;34m\u001b[0m\u001b[0m\n",
      "\u001b[0;31mKeyboardInterrupt\u001b[0m: "
     ]
    }
   ],
   "source": [
    "matches = search_corpus('ὦ ἄνδρες Ἀθηναῖοι', 'tlg', context='sentence')\n",
    "\n",
    "for andres in matches:\n",
    "    print(andres)\n",
    "    input()"
   ]
  },
  {
   "cell_type": "markdown",
   "metadata": {},
   "source": [
    "## Regex"
   ]
  },
  {
   "cell_type": "code",
   "execution_count": 9,
   "metadata": {
    "collapsed": false
   },
   "outputs": [],
   "source": [
    "# open Cicero again\n",
    "\n",
    "from cltk.corpus.utils.formatter import phi5_plaintext_cleanup\n",
    "\n",
    "cicero_fp = '/Users/kyle/cltk_data/latin/text/phi5/plaintext/LAT0474.TXT'\n",
    "with open(cicero_fp) as fo:\n",
    "    cicero_raw = fo.read()\n",
    "cicero_clean = phi5_plaintext_cleanup(cicero_raw, rm_punctuation=True, rm_periods=False)   # ~5 sec"
   ]
  },
  {
   "cell_type": "code",
   "execution_count": 10,
   "metadata": {
    "collapsed": true
   },
   "outputs": [
    {
     "name": "stdout",
     "output_type": "stream",
     "text": [
      "Nam quod ingenio minus possum subsidium mihi diligentia comparavi quae quanta sit nisi *tempus* et spatium datum sit intellegi non potest.\n",
      "\n",
      "Ita fit ut ego qui tela depellere et volneribus mederi debeam tum id facere cogar cum etiam telum adversarius nullum iecerit illis autem id *tempus* impugnandi detur cum et vitandi illorum impetus potestas adempta nobis erit et si qua in re id quod parati sunt facere falsum crimen quasi venenatum aliquod telum iecerint medicinae faciendae locus non erit.\n",
      "\n",
      "Illud etiam restiterat quod hesterno die fecerunt ut te in ius educerent ut nobis *tempus* quam diu diceremus praestitueres quam rem facile a praetore impetrassent nisi tu quod esset tuum ius et officium potestasque docuisses.\n",
      "\n",
      "Verum quoniam tibi instat Hortensius ut eas in consilium a me postulat ne dicendo *tempus* absumam queritur priore patrono causam defendente numquam perorari potuisse non patiar istam manere suspicionem nos rem iudicari nolle neque illud mihi adrogabo me posse causam commodius demonstrare quam antea demonstrata sit neque tamen tam multa verba faciam propterea quod et ab illo qui tum dixit iam informata causa est et a me qui neque excogitare neque pronuntiare multa possum brevitas postulatur quae mihimet ipsi amicissima est faciam quod te saepe animadverti facere Hortensi totam causae meae dictionem certas in partis dividam.\n",
      "\n",
      "Naevium statim si quid deberetur petiturum fuisse an ne appellaturum quidem biennio Appellandi *tempus* non erat At tecum plus annum vixit.\n",
      "\n",
      "Qui inter tot annos ne appellarit quidem Quinctium cum potestas esset agendi cotidie qui quo tempore primum agere coepit in vadimoniis differendis *tempus* omne consumpserit qui postea vadimonium quoque missum fecerit hunc per insidias vi de agro communi deiecerit qui cum de re agendi nullo recusante potestas fuisset sponsionem de probro facere maluerit qui cum revocetur ad id iudicium unde haec nata sunt omnia condicionem aequissimam repudiet fateatur se non pecuniam sed vitam et sanguinem petere is non hoc palam dicit mihi si quid deberetur peterem atque adeo iam pridem abstulissem nihil hoc tanto negotio nihil tam invidioso iudicio nihil tam copiosa advocatione uterer si petendum esset extorquendum est invito atque ingratis quod non debet eripiendum atque exprimendum est de fortunis omnibus P.\n"
     ]
    },
    {
     "ename": "KeyboardInterrupt",
     "evalue": "",
     "output_type": "error",
     "traceback": [
      "\u001b[0;31m---------------------------------------------------------------------------\u001b[0m",
      "\u001b[0;31mKeyboardInterrupt\u001b[0m                         Traceback (most recent call last)",
      "\u001b[0;32m/Users/kyle/cltk/venv/lib/python3.5/site-packages/ipykernel/kernelbase.py\u001b[0m in \u001b[0;36m_input_request\u001b[0;34m(self, prompt, ident, parent, password)\u001b[0m\n\u001b[1;32m    701\u001b[0m             \u001b[0;32mtry\u001b[0m\u001b[0;34m:\u001b[0m\u001b[0;34m\u001b[0m\u001b[0m\n\u001b[0;32m--> 702\u001b[0;31m                 \u001b[0mident\u001b[0m\u001b[0;34m,\u001b[0m \u001b[0mreply\u001b[0m \u001b[0;34m=\u001b[0m \u001b[0mself\u001b[0m\u001b[0;34m.\u001b[0m\u001b[0msession\u001b[0m\u001b[0;34m.\u001b[0m\u001b[0mrecv\u001b[0m\u001b[0;34m(\u001b[0m\u001b[0mself\u001b[0m\u001b[0;34m.\u001b[0m\u001b[0mstdin_socket\u001b[0m\u001b[0;34m,\u001b[0m \u001b[0;36m0\u001b[0m\u001b[0;34m)\u001b[0m\u001b[0;34m\u001b[0m\u001b[0m\n\u001b[0m\u001b[1;32m    703\u001b[0m             \u001b[0;32mexcept\u001b[0m \u001b[0mException\u001b[0m\u001b[0;34m:\u001b[0m\u001b[0;34m\u001b[0m\u001b[0m\n",
      "\u001b[0;32m/Users/kyle/cltk/venv/lib/python3.5/site-packages/jupyter_client/session.py\u001b[0m in \u001b[0;36mrecv\u001b[0;34m(self, socket, mode, content, copy)\u001b[0m\n\u001b[1;32m    730\u001b[0m         \u001b[0;32mtry\u001b[0m\u001b[0;34m:\u001b[0m\u001b[0;34m\u001b[0m\u001b[0m\n\u001b[0;32m--> 731\u001b[0;31m             \u001b[0mmsg_list\u001b[0m \u001b[0;34m=\u001b[0m \u001b[0msocket\u001b[0m\u001b[0;34m.\u001b[0m\u001b[0mrecv_multipart\u001b[0m\u001b[0;34m(\u001b[0m\u001b[0mmode\u001b[0m\u001b[0;34m,\u001b[0m \u001b[0mcopy\u001b[0m\u001b[0;34m=\u001b[0m\u001b[0mcopy\u001b[0m\u001b[0;34m)\u001b[0m\u001b[0;34m\u001b[0m\u001b[0m\n\u001b[0m\u001b[1;32m    732\u001b[0m         \u001b[0;32mexcept\u001b[0m \u001b[0mzmq\u001b[0m\u001b[0;34m.\u001b[0m\u001b[0mZMQError\u001b[0m \u001b[0;32mas\u001b[0m \u001b[0me\u001b[0m\u001b[0;34m:\u001b[0m\u001b[0;34m\u001b[0m\u001b[0m\n",
      "\u001b[0;32m/Users/kyle/cltk/venv/lib/python3.5/site-packages/zmq/sugar/socket.py\u001b[0m in \u001b[0;36mrecv_multipart\u001b[0;34m(self, flags, copy, track)\u001b[0m\n\u001b[1;32m    357\u001b[0m         \"\"\"\n\u001b[0;32m--> 358\u001b[0;31m         \u001b[0mparts\u001b[0m \u001b[0;34m=\u001b[0m \u001b[0;34m[\u001b[0m\u001b[0mself\u001b[0m\u001b[0;34m.\u001b[0m\u001b[0mrecv\u001b[0m\u001b[0;34m(\u001b[0m\u001b[0mflags\u001b[0m\u001b[0;34m,\u001b[0m \u001b[0mcopy\u001b[0m\u001b[0;34m=\u001b[0m\u001b[0mcopy\u001b[0m\u001b[0;34m,\u001b[0m \u001b[0mtrack\u001b[0m\u001b[0;34m=\u001b[0m\u001b[0mtrack\u001b[0m\u001b[0;34m)\u001b[0m\u001b[0;34m]\u001b[0m\u001b[0;34m\u001b[0m\u001b[0m\n\u001b[0m\u001b[1;32m    359\u001b[0m         \u001b[0;31m# have first part already, only loop while more to receive\u001b[0m\u001b[0;34m\u001b[0m\u001b[0;34m\u001b[0m\u001b[0m\n",
      "\u001b[0;32mzmq/backend/cython/socket.pyx\u001b[0m in \u001b[0;36mzmq.backend.cython.socket.Socket.recv (zmq/backend/cython/socket.c:6507)\u001b[0;34m()\u001b[0m\n",
      "\u001b[0;32mzmq/backend/cython/socket.pyx\u001b[0m in \u001b[0;36mzmq.backend.cython.socket.Socket.recv (zmq/backend/cython/socket.c:6307)\u001b[0;34m()\u001b[0m\n",
      "\u001b[0;32mzmq/backend/cython/socket.pyx\u001b[0m in \u001b[0;36mzmq.backend.cython.socket._recv_copy (zmq/backend/cython/socket.c:1877)\u001b[0;34m()\u001b[0m\n",
      "\u001b[0;32m/Users/kyle/cltk/venv/lib/python3.5/site-packages/zmq/backend/cython/checkrc.pxd\u001b[0m in \u001b[0;36mzmq.backend.cython.checkrc._check_rc (zmq/backend/cython/socket.c:6758)\u001b[0;34m()\u001b[0m\n",
      "\u001b[0;31mKeyboardInterrupt\u001b[0m: ",
      "\nDuring handling of the above exception, another exception occurred:\n",
      "\u001b[0;31mKeyboardInterrupt\u001b[0m                         Traceback (most recent call last)",
      "\u001b[0;32m<ipython-input-10-286e14ad8b7e>\u001b[0m in \u001b[0;36m<module>\u001b[0;34m()\u001b[0m\n\u001b[1;32m      3\u001b[0m \u001b[0;32mfor\u001b[0m \u001b[0mmatch\u001b[0m \u001b[0;32min\u001b[0m \u001b[0mmatches\u001b[0m\u001b[0;34m:\u001b[0m\u001b[0;34m\u001b[0m\u001b[0m\n\u001b[1;32m      4\u001b[0m     \u001b[0mprint\u001b[0m\u001b[0;34m(\u001b[0m\u001b[0mmatch\u001b[0m\u001b[0;34m)\u001b[0m\u001b[0;34m\u001b[0m\u001b[0m\n\u001b[0;32m----> 5\u001b[0;31m     \u001b[0minput\u001b[0m\u001b[0;34m(\u001b[0m\u001b[0;34m)\u001b[0m\u001b[0;34m\u001b[0m\u001b[0m\n\u001b[0m",
      "\u001b[0;32m/Users/kyle/cltk/venv/lib/python3.5/site-packages/ipykernel/kernelbase.py\u001b[0m in \u001b[0;36mraw_input\u001b[0;34m(self, prompt)\u001b[0m\n\u001b[1;32m    675\u001b[0m             \u001b[0mself\u001b[0m\u001b[0;34m.\u001b[0m\u001b[0m_parent_ident\u001b[0m\u001b[0;34m,\u001b[0m\u001b[0;34m\u001b[0m\u001b[0m\n\u001b[1;32m    676\u001b[0m             \u001b[0mself\u001b[0m\u001b[0;34m.\u001b[0m\u001b[0m_parent_header\u001b[0m\u001b[0;34m,\u001b[0m\u001b[0;34m\u001b[0m\u001b[0m\n\u001b[0;32m--> 677\u001b[0;31m             \u001b[0mpassword\u001b[0m\u001b[0;34m=\u001b[0m\u001b[0;32mFalse\u001b[0m\u001b[0;34m,\u001b[0m\u001b[0;34m\u001b[0m\u001b[0m\n\u001b[0m\u001b[1;32m    678\u001b[0m         )\n\u001b[1;32m    679\u001b[0m \u001b[0;34m\u001b[0m\u001b[0m\n",
      "\u001b[0;32m/Users/kyle/cltk/venv/lib/python3.5/site-packages/ipykernel/kernelbase.py\u001b[0m in \u001b[0;36m_input_request\u001b[0;34m(self, prompt, ident, parent, password)\u001b[0m\n\u001b[1;32m    705\u001b[0m             \u001b[0;32mexcept\u001b[0m \u001b[0mKeyboardInterrupt\u001b[0m\u001b[0;34m:\u001b[0m\u001b[0;34m\u001b[0m\u001b[0m\n\u001b[1;32m    706\u001b[0m                 \u001b[0;31m# re-raise KeyboardInterrupt, to truncate traceback\u001b[0m\u001b[0;34m\u001b[0m\u001b[0;34m\u001b[0m\u001b[0m\n\u001b[0;32m--> 707\u001b[0;31m                 \u001b[0;32mraise\u001b[0m \u001b[0mKeyboardInterrupt\u001b[0m\u001b[0;34m\u001b[0m\u001b[0m\n\u001b[0m\u001b[1;32m    708\u001b[0m             \u001b[0;32melse\u001b[0m\u001b[0;34m:\u001b[0m\u001b[0;34m\u001b[0m\u001b[0m\n\u001b[1;32m    709\u001b[0m                 \u001b[0;32mbreak\u001b[0m\u001b[0;34m\u001b[0m\u001b[0m\n",
      "\u001b[0;31mKeyboardInterrupt\u001b[0m: "
     ]
    }
   ],
   "source": [
    "matches = match_regex(cicero_clean, r'tempus', language='latin', context='sentence', case_insensitive=True)\n",
    "\n",
    "for match in matches:\n",
    "    print(match)\n",
    "    input()"
   ]
  },
  {
   "cell_type": "markdown",
   "metadata": {
    "collapsed": true
   },
   "source": [
    "# Word2Vec"
   ]
  },
  {
   "cell_type": "code",
   "execution_count": 14,
   "metadata": {
    "collapsed": false
   },
   "outputs": [
    {
     "name": "stdout",
     "output_type": "stream",
     "text": [
      "\"word 'βασιλεύς' not in vocabulary\"\n",
      "The following terms in the Word2Vec model you may be looking for: '['βασίμους', 'βασανίτιδος', 'βασανίσῃ', 'βασανιζέσθω', 'βαστάζοντες', 'βασανιζόμεναι', 'βασιληίους', 'βασιλεύσοντος', 'βασκάνοις', 'βαστάξουν', 'βασιλικωτάτη', 'βασκαίνει', 'βασκαίνετε', 'βασιλεῦ”', 'βασκαίνομεν', 'βασίλευσον', 'βασιλεύεις', 'βαστακτικῶς', 'βασιλικήν', 'βασανίσωμεν', 'βασιλεοπάτορος', 'βασιλήιοι', 'βασιανὸν', 'βασιλικωτάτης', 'βασιλίδων', 'βασιλείας', 'βασιλείδου', 'βασιλεῦσαί', 'βαστάζουσαν', 'βασανισμοῦ', 'βασανιστοῦ', 'βασιλεύει', 'βασίλει', 'βασανίζεται', 'βασιλικῶς', 'βασιλεύοι', 'βασσιανὸν', 'βασανῖτις', 'βασᾶν', 'βασιλίσκους', 'βασανισθῆναι', 'βασσαρίδεσσι', 'βασιλέας', 'βασιληΐδος', 'βαστάξαι', 'βασανιζομένη', 'βασιλεύς”', 'βασιλείαις', 'βασανιζέτω', 'βαστάζων', 'βασανιστικὸν', 'βασιλείᾳ“', 'βασανιεῖν', 'βασιλίσι', 'βασταζομένου', 'βασιλείας“', 'βασιλευούσης', 'βασιλευούσηι', 'βασανισταί', 'βασιλάκῃ', 'βασιλει', 'βασανιῶ', 'βασανιοῦμεν', 'βασανίζων', 'βασιλακίου', 'βασιλικὴ', 'βασιλίσιν', 'βασανιστάς', 'βασανίσῃς', 'βασιλεύειν', 'βασιλικά', 'βασίλισσα', 'βασσιανῆς', 'βαστάζειν', 'βασανίζοντι', 'βασιλεύοντι', 'βασανισμὸς', 'βασιλεύ', 'βασίλειε', 'βαστερνῶν', 'βασιλεῦσι', 'βασανιστηρίων', 'βασις', 'βασκαίνοντος', 'βασκαίνω', 'βασανίζοντας', 'βασιλευομένους', 'βαστάσεις', 'βασιλειᾶν', 'βασιλικωτάτῃ', 'βασιληίδα', 'βαστάζουσιν', 'βασιλέων”', 'βασιλίτζην', 'βασιλάκιον', 'βασσαρικὰ', 'βασιλεύσῃς', 'βασιλευσάσης', 'βασίλισσες', 'βασκανίη', 'βασανῖτιν', 'βασιλειῶν', 'βασταχθεὶς', 'βασιλικῷ', 'βασὰν', 'βασανισθεὶς', 'βασιλάκη', 'βασιλεῦσί', 'βασιλεύς', 'βασκαίνοντας', 'βασιλίδου', 'βαστάζουσαι', 'βασανίζουσα', 'βασκήναντες', 'βαστάσει', 'βασιλικώτερον', 'βασανισθέντες', 'βασιλεῦον', 'βασκήνῃς', 'βασιληίην', 'βασίλειόν', 'βασυμ', 'βαστάζουσα', 'βασιλείῳ', 'βασίληος', 'βασιλεῖς', 'βασταζόμενοι', 'βασκαίνουσα', 'βασιλεύομεν', 'βαστάσασαν', 'βασανισθήσεται', 'βαστάζοντος', 'βασκάνῳ', 'βασανισμός', 'βασιλικαί', 'βασιλειῶντα', 'βασιλεοπάτορα', 'βασίλευσεν', 'βασιλεύσασαν', 'βασιλεύσωμεν', 'βασιλεύσαντας', 'βασιλῆς', 'βασανίσαι', 'βασκαινέτω', 'βαστάζοντά', 'βασιλεύς„', 'βασιλευομένῃ', 'βασιλικωτάτην', 'βασανιστηρίοις', 'βασιλεύῃ', 'βασιλίσκου', 'βασιλήια', 'βασιλίσσης', 'βασιλικὰς', 'βασιν', 'βασανίζοντα', 'βαστάσασά', 'βασανιζομένων', 'βασίλειός', 'βαστάσαντα', 'βασανιστὰς', 'βασταζομένους', 'βασιλικοὺς', 'βασιλεύοντός', 'βασίλευε”', 'βασιλεύσαντα', 'βασίλισσαν', 'βασιλέε', 'βασιλεύσουσιν', 'βασκανίης', 'βασιλεύτερον', 'βασσαρὶς', 'βαστέρνας', 'βασκαίνουσιν', 'βασιλισσῶν', 'βαστάζον', 'βασιλισκιανὸν', 'βασανίζονται', 'βασιλευομένην', 'βασιλη', 'βασιλεύσειν', 'βασιλεύσας', 'βασανισθέντα', 'βασιλικώτερος', 'βασανιζομένοις', 'βασσιανοῦ', 'βασκαινόντων', 'βασιλείην', 'βασανίζουσιν', 'βασίμοις', 'βασιλίδας', 'βαστάζονται', 'βασιλίνδα', 'βασσιανὸς', 'βαστάσαντος', 'βασανιζομένῳ', 'βαστάζωμεν', 'βασιλευθῆναι', 'βασανίζεσθαι', 'βασταρνῶν', 'βασκάνου', 'βασιλευσάντων', 'βασσάρα', 'βασανίζοντος', 'βασιλέϊ', 'βασάνου', 'βαστάζω', 'βασσαρέως', 'βασιλεύετε', 'βασά', 'βασιλεύτερός', 'βασάν', 'βασανίζειν', 'βασιλάκης', 'βαστάξας', 'βασιλευέμεν', 'βασιλείᾳ', 'βασανιστέον', 'βασιλέα”', 'βασιλέοιν', 'βασίλευε', 'βασιλικώτεροι', 'βασίλεως', 'βασιλεύουσαν', 'βασιλέος', 'βασάνῳ', 'βασιλικωτέρα', 'βασιλῆος', 'βασιλεῖ„', 'βασσαρικῶν', 'βασιλίσκῳ', 'βασιλικῶν', 'βασί', 'βασιλικωτάτου', 'βασίλειαν', 'βασιλικώτατος', 'βασιλεῦ“', 'βασιλίκια', 'βασιλίσκον', 'βασκανίαι', 'βαστάζοντα', 'βασεμμαθ', 'βασιλικὸν', 'βασιλεῦσίν', 'βασανι', 'βασιλικωτέρας', 'βασιλῆϊ', 'βαστάζοντας', 'βασιλεύοντας', 'βασίλεια', 'βασιλικὸς', 'βασιλε', 'βασιλέως”', 'βασανιζομένου', 'βασιλευόμενα', 'βασιλεύσοντα', 'βασιλήων', 'βασιλίσκων', 'βασιληίων', 'βασιλεύτωρ', 'βασιλεύοντα', 'βασιλήϊον', 'βασιλείας„', 'βασιλευόμεθα', 'βασκαίνων', 'βασκαίνειν', 'βασιλι', 'βασίλισσά', 'βασκάνως', 'βασταγὴν', 'βασι', 'βαστάζεται', 'βασανίζω', 'βασίλειος', 'βασιλάκην', 'βασκαίνοντα', 'βασιλείδην', 'βαστάσαντας', 'βασιλευομένης', 'βασιλείωι', 'βασιλήϊος', 'βασανιστήρια', 'βασιλεῖος', 'βασταζούσης', 'βασιλείοις', 'βασιλείων', 'βασανιζόμενοι', 'βασιλεία”', 'βασανίζεις', 'βασίλιννα', 'βασιλέαν', 'βασσαρίδας', 'βασκήνας', 'βασταζομένη', 'βασανιζομένους', 'βασιλικόν', 'βαστάζοντι', 'βαστάζοι', 'βασίλευσε', 'βασιλεύσει', 'βασιλευόμεναι', 'βασιλευομένοις', 'βασανίζουσι', 'βασιλεία', 'βασιλέες', 'βασάνους', 'βασάνισον', 'βαστάζεσθαι', 'βασανιζόμενον', 'βασκάνιον', 'βασιλείαν“', 'βασταζομένων', 'βασανιστής', 'βαστάζῃ', 'βασκανίαν', 'βασιλέα„', 'βασιλευομένων', 'βασιλεοπάτωρ', 'βασκαινόμενον', 'βασταχθῇ', 'βασιλευομένῳ', 'βασιλειῶντος', 'βασιλειας', 'βασιλιὰ', 'βασιλείας”', 'βασανιζόμενος', 'βασιλεύσασι', 'βασιλήιον', 'βασσαρίδων', 'βασιλεύσεις', 'βασιλικῇ', 'βασανιζομένην', 'βασιλεῖ“', 'βασανιστήριον', 'βασίλισσαι', 'βασκανίας', 'βασιλεύουσι', 'βασιλέων“', 'βασάνιζε', 'βασιλεύεται', 'βασιλικὴν', 'βασιλίσσας', 'βασιλικωτέραν', 'βασιλεύσειεν', 'βασιλινουπόλεως', 'βασα', 'βαστέρναι', 'βασιλικώτατα', 'βασιλικώτατον', 'βασιλεῦσιν', 'βασιλεύσασα', 'βασιλικώτερα', 'βασανίζοντες', 'βασιλικαὶ', 'βασανιστὴν', 'βασιλεύσωσιν', 'βασανισθεῖσα', 'βασιλεύσομεν', 'βασανιστὴς', 'βασιλ', 'βασιλικοί', 'βασιλευθέντες', 'βασιλεύουσα', 'βασιλέων„', 'βασκάνων', 'βασιλευόμενος', 'βασταζόντων', 'βασιλεῖ”', 'βασιλεύτορες', 'βασιλικοὶ', 'βασιλείδης', 'βασταζόμενον', 'βασιλεῖα', 'βασιλίδης', 'βασιλὶς', 'βασίλειά', 'βασιλική', 'βασιλείου', 'βασιλεύσαντες', 'βασιλεῖ', 'βασιλευομένου', 'βασιλάκιος', 'βασιλέα', 'βασιλευόντων', 'βασιλικῆι', 'βαστάσω', 'βαστάζομεν', 'βασιλίδην', 'βασιλίσκος', 'βασανιεῖ', 'βασαν', 'βασανίσας', 'βασιληίας', 'βασανισταῖς', 'βασκαίνουσι', 'βασιλείδῃ', 'βασταγμάτων', 'βασανίζηται', 'βασκανία', 'βασανίσαντες', 'βασιλῆες', 'βασανισθῇ', 'βασιλικούς', 'βασίλιε', 'βαστάγματα', 'βαστάζει', 'βασιλικός', 'βασιλεύης', 'βαστάσῃ', 'βασιλισκιανὸς', 'βασιληίης', 'βαστάσασα', 'βασιλεως', 'βασιλέως', 'βασιλικαῖς', 'βασσάραι', 'βασιλεύοντες', 'βασιλῆας', 'βασιλέ', 'βασανισταὶ', 'βαστάσαι', 'βασιλευούσῃ', 'βασιλεύσαντι', 'βαστάζουσι', 'βασταζόμενα', 'βασάνων', 'βασίλειον', 'βασιλεοπάτορι', 'βασιανοῦ', 'βασιλεύουσιν', 'βασιλήιος', 'βασιλειὰ', 'βαστάρναι', 'βασανίζομαι', 'βασιλεῦσαι', 'βασσαρικοῦ', 'βασιλείαι', 'βασίλισσας', 'βασιλείους', 'βασίλειον”', 'βασιλεύσῃ', 'βασιλεύων', 'βασανίζον', 'βαστάσουσιν', 'βασιλεύτατος', 'βασιλικοῦ', 'βασιλεα', 'βασιλεῖϲ', 'βασιλῆι', 'βασσάρας', 'βασκάνους', 'βασιλεύω', 'βασιλεῦ„', 'βασιλικοῖς', 'βασιλευόμενον', 'βαστάζετε', 'βασσάραις', 'βασιλευ', 'βασιλεύσουσι', 'βασιλεύσωσι', 'βασιλεύσητε', 'βασαβίλας', 'βασιλείαν', 'βασιλίσσα', 'βασιλιά', 'βασιλευς', 'βασιλευθήσονται', 'βαστάρνας', 'βασιλῆα', 'βασιλεῖς”', 'βασιλεύεσθαι', 'βασιλεύτατον', 'βασιληΐς', 'βασίλευεν', 'βασιλεύονται', 'βασιληίη', 'βασίλη', 'βασιλευόμενοι', 'βασκαίνοντες', 'βασιλεύσω', 'βασιλῆά', 'βαστάσαντες', 'βασιλεὺς', 'βαστάζεις', 'βασιλεύτερος', 'βασιλεύσων', 'βαστάξαντες', 'βαστάσας', 'βασιλίσσῃ', 'βασκαίνεις', 'βασιλέα“', 'βασιλεύσοι', 'βασιλικάς', 'βασιλῆ', 'βασ', 'βασιλέων', 'βασανιστῶν', 'βασιλίς', 'βασιλευομένη', 'βαστάξω', 'βασίλειοι', 'βασιλευέτω', 'βαστάγματος', 'βασιλίδος', 'βασανιζόντων', 'βασιλίδες', 'βασιλικῆς', 'βασταχθῆναι', 'βασάνοις', 'βασιλίσσαις', 'βασιλεύσαντος', 'βασανίζει', 'βασιλεύοντος', 'βασσαρίδες', 'βασιλεύη', 'βαστάσασι', 'βασιλεύς“', 'βασιλίδα', 'βασιληίδος', 'βασίλευς', 'βασιλείης', 'βασιλεύσειε', 'βασιανὸς', 'βασιλεῦς', 'βασιλεῦ', 'βασανισθέντων', 'βασταχθήσεται', 'βασμοί', 'βασανίτιδι', 'βασκανίᾳ', 'βασιλευσάτω', 'βασιλείαν”', 'βασιληΐδα', 'βαστά', 'βασιλίδι', 'βασιλεῖαι', 'βασταζόμενος', 'βασιλικὰ', 'βασιληίου', 'βασιλέως“']'.\n"
     ]
    }
   ],
   "source": [
    "from cltk.vector.word2vec import get_sims\n",
    "\n",
    "get_sims('βασιλεύς', 'greek', lemmatized=False, threshold=0.5)"
   ]
  },
  {
   "cell_type": "code",
   "execution_count": 17,
   "metadata": {
    "collapsed": false
   },
   "outputs": [
    {
     "data": {
      "text/plain": [
       "['beneuolentia',\n",
       " 'erga',\n",
       " 'dignitas',\n",
       " 'incolumitas',\n",
       " 'modestia',\n",
       " 'pudicitia',\n",
       " 'uenia',\n",
       " 'praemium',\n",
       " 'gloria',\n",
       " 'propinquus']"
      ]
     },
     "execution_count": 17,
     "metadata": {},
     "output_type": "execute_result"
    }
   ],
   "source": [
    "get_sims('amicitia', 'latin', lemmatized=True, threshold=0.25)"
   ]
  },
  {
   "cell_type": "markdown",
   "metadata": {},
   "source": [
    "# IR w/ Word2Vec keyword expansion"
   ]
  },
  {
   "cell_type": "code",
   "execution_count": null,
   "metadata": {
    "collapsed": true
   },
   "outputs": [],
   "source": []
  }
 ],
 "metadata": {
  "kernelspec": {
   "display_name": "Python 3",
   "language": "python",
   "name": "python3"
  },
  "language_info": {
   "codemirror_mode": {
    "name": "ipython",
    "version": 3
   },
   "file_extension": ".py",
   "mimetype": "text/x-python",
   "name": "python",
   "nbconvert_exporter": "python",
   "pygments_lexer": "ipython3",
   "version": "3.5.0"
  }
 },
 "nbformat": 4,
 "nbformat_minor": 0
}
