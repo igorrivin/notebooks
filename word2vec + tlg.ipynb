{
 "cells": [
  {
   "cell_type": "code",
   "execution_count": 1,
   "metadata": {
    "collapsed": true
   },
   "outputs": [],
   "source": [
    "from cltk.corpus.utils.formatter import assemble_tlg_works_filepaths\n",
    "from cltk.corpus.utils.formatter import tlg_plaintext_cleanup\n",
    "from cltk.stop.latin.stops import STOPS_LIST\n",
    "from nltk.tokenize.punkt import PunktLanguageVars\n",
    "from cltk.tokenize.sentence import TokenizeSentence\n",
    "\n",
    "from gensim.models import Word2Vec"
   ]
  },
  {
   "cell_type": "markdown",
   "metadata": {
    "collapsed": true
   },
   "source": [
    "# Prepare TLG sentences"
   ]
  },
  {
   "cell_type": "code",
   "execution_count": 2,
   "metadata": {
    "collapsed": false
   },
   "outputs": [],
   "source": [
    "filepaths = assemble_tlg_works_filepaths()\n",
    "sent_tokenizer = TokenizeSentence('greek')\n",
    "p = PunktLanguageVars()"
   ]
  },
  {
   "cell_type": "code",
   "execution_count": 22,
   "metadata": {
    "collapsed": false
   },
   "outputs": [
    {
     "name": "stdout",
     "output_type": "stream",
     "text": [
      "100 / 6625\n",
      "200 / 6625\n",
      "300 / 6625\n",
      "400 / 6625\n",
      "500 / 6625\n",
      "600 / 6625\n",
      "700 / 6625\n",
      "800 / 6625\n",
      "900 / 6625\n",
      "1000 / 6625\n",
      "1100 / 6625\n",
      "1200 / 6625\n",
      "1300 / 6625\n",
      "1400 / 6625\n",
      "1500 / 6625\n",
      "1600 / 6625\n",
      "1700 / 6625\n",
      "1800 / 6625\n",
      "1900 / 6625\n",
      "2000 / 6625\n",
      "2100 / 6625\n",
      "2200 / 6625\n",
      "2300 / 6625\n",
      "2400 / 6625\n",
      "2500 / 6625\n",
      "2600 / 6625\n",
      "2700 / 6625\n",
      "2800 / 6625\n",
      "2900 / 6625\n",
      "3000 / 6625\n",
      "3100 / 6625\n",
      "3200 / 6625\n",
      "3300 / 6625\n",
      "3400 / 6625\n",
      "3500 / 6625\n",
      "3600 / 6625\n",
      "3700 / 6625\n",
      "3800 / 6625\n",
      "3900 / 6625\n",
      "4000 / 6625\n",
      "4100 / 6625\n",
      "4200 / 6625\n",
      "4300 / 6625\n",
      "4400 / 6625\n",
      "4500 / 6625\n",
      "4600 / 6625\n",
      "4700 / 6625\n",
      "4800 / 6625\n",
      "4900 / 6625\n",
      "5000 / 6625\n",
      "5100 / 6625\n",
      "5200 / 6625\n",
      "5300 / 6625\n",
      "5400 / 6625\n",
      "5500 / 6625\n",
      "5600 / 6625\n",
      "5700 / 6625\n",
      "5800 / 6625\n",
      "5900 / 6625\n",
      "6000 / 6625\n",
      "6100 / 6625\n",
      "6200 / 6625\n",
      "6300 / 6625\n",
      "6400 / 6625\n",
      "6500 / 6625\n",
      "6600 / 6625\n"
     ]
    }
   ],
   "source": [
    "tlg_sentences = []\n",
    "count_file = 0\n",
    "for filepath in filepaths:\n",
    "    with open(filepath) as f:\n",
    "        text_raw = f.read()\n",
    "    text_clean = tlg_plaintext_cleanup(text_raw)  # tlg_plaintext_cleanup()\n",
    "    sent_tokens_upper = sent_tokenizer.tokenize_sentences(text_clean)  # sentence tokenize\n",
    "    sent_tokens = [s.lower() for s in sent_tokens_upper]  # lowercase\n",
    "    for sent in sent_tokens:  # tokenize words in sentences\n",
    "        sent_word_tokens = []\n",
    "        sent_word_tokens = p.word_tokenize(sent)\n",
    "        sent_word_tokens_new = []\n",
    "        for word in sent_word_tokens:  # remove punctuation (final period, commas, etc)\n",
    "            if word[-1] in ['.', '“']:\n",
    "                word_new = word[:-1]\n",
    "                sent_word_tokens_new.append(word_new)\n",
    "            else:\n",
    "                sent_word_tokens_new.append(word)\n",
    "        sent_word_tokens_new = [w for w in sent_word_tokens_new if len(w) > 1]  # rm short words\n",
    "        sentence = [w for w in sent_word_tokens_new if w]  # remove any empty words (created thru above cleanup)\n",
    "        if sentence:  # remove any empty sentences (created thru above cleanup)\n",
    "            tlg_sentences.append(sentence)\n",
    "    count_file += 1\n",
    "    if count_file % 500 == 0:\n",
    "        print(count_file, '/', len(filepaths))"
   ]
  },
  {
   "cell_type": "code",
   "execution_count": 23,
   "metadata": {
    "collapsed": true
   },
   "outputs": [],
   "source": [
    "import os\n",
    "with open(os.path.expanduser('~/cltk_data/user_data/tlg_sentences.py'), 'w') as f:  # 1.0 GB\n",
    "    f.write(str(tlg_sentences))"
   ]
  },
  {
   "cell_type": "code",
   "execution_count": 24,
   "metadata": {
    "collapsed": false
   },
   "outputs": [
    {
     "name": "stdout",
     "output_type": "stream",
     "text": [
      "[['περὶ', 'δὴ', 'τῶν', 'ἑπτὰ', 'ἄξιον', 'γὰρ', 'ἐνταῦθα', 'καθολικῶς', 'κἀκείνων', 'ἐπιμνησθῆναι', 'λόγοι', 'φέρονται', 'τοιοῦτοι'], ['δάμων', 'κυρηναῖος', 'γεγραφὼς', 'περὶ', 'τῶν', 'φιλοσόφων', 'πᾶσιν', 'ἐγκαλεῖ', 'μάλιστα', 'δὲ', 'τοῖς', 'ἑπτά'], ['ἀναξιμένης', 'δέ', 'φησι', 'πάντας', 'ἐπιθέσθαι', 'ποιητικῆι', 'δὲ', 'δικαίαρχος'], ['οὔτε', 'σοφοὺς', 'οὔτε', 'φιλοσόφους', 'φησὶν', 'αὐτοὺς', 'γεγονέναι', 'συνετοὺς', 'δέ', 'τινας', 'καὶ', 'νομοθετικούς'], ['ἀρχέτιμος', 'δὲ', 'συρακούσιος', 'ὁμιλίαν', 'αὐτῶν', 'ἀναγέγραφε', 'παρὰ', 'κυψέλωι', 'ἧι', 'καὶ', 'αὐτός', 'φησι', 'παρατυχεῖν', 'ἔφορος']]\n",
      "Total sentences: 3320169\n"
     ]
    }
   ],
   "source": [
    "print(tlg_sentences[:5])\n",
    "print('Total sentences:', len(tlg_sentences))"
   ]
  },
  {
   "cell_type": "markdown",
   "metadata": {},
   "source": [
    "# Train model"
   ]
  },
  {
   "cell_type": "code",
   "execution_count": 25,
   "metadata": {
    "collapsed": false
   },
   "outputs": [],
   "source": [
    "model = Word2Vec(sentences=tlg_sentences, size=100, window=5, min_count=5, workers=4)  #! this took ~1.5 hrs\n",
    "# If you’re finished training a model (=no more updates, only querying), you can do\n",
    "# https://radimrehurek.com/gensim/models/word2vec.html\n",
    "# model.init_sims(replace=True)"
   ]
  },
  {
   "cell_type": "code",
   "execution_count": 26,
   "metadata": {
    "collapsed": false
   },
   "outputs": [],
   "source": [
    "model_path = os.path.expanduser('~/cltk_data/user_data/word2vec_tlg.model')"
   ]
  },
  {
   "cell_type": "code",
   "execution_count": 27,
   "metadata": {
    "collapsed": true
   },
   "outputs": [],
   "source": [
    "model.save(model_path)  # word2vec_tlg.model.syn0.npy: 155 MB; word2vec_tlg.model.syn1.npy: 155 MB; word2vec_tlg.model: 88MB"
   ]
  },
  {
   "cell_type": "code",
   "execution_count": 106,
   "metadata": {
    "collapsed": true
   },
   "outputs": [],
   "source": [
    "# to load:\n",
    "model = Word2Vec.load(model_path)"
   ]
  },
  {
   "cell_type": "markdown",
   "metadata": {},
   "source": [
    "# Fun with word2vec"
   ]
  },
  {
   "cell_type": "code",
   "execution_count": 29,
   "metadata": {
    "collapsed": false
   },
   "outputs": [
    {
     "data": {
      "text/plain": [
       "[('ἔπεμψαν', 0.8375612497329712),\n",
       " ('πέμψαντες', 0.821482241153717),\n",
       " ('πέμποντες', 0.7889137268066406),\n",
       " ('ἀπέστελλον', 0.7763285636901855),\n",
       " ('πρέσβεις', 0.7738817930221558),\n",
       " ('πέμπουσιν', 0.7730725407600403),\n",
       " ('ἐξέπεμπον', 0.7639554738998413),\n",
       " ('ἐξέπεμψαν', 0.7628260850906372),\n",
       " ('πέμπουσι', 0.7626725435256958),\n",
       " ('ἐξαπέστελλον', 0.7615334987640381)]"
      ]
     },
     "execution_count": 29,
     "metadata": {},
     "output_type": "execute_result"
    }
   ],
   "source": [
    "model.most_similar('ἔπεμπον')"
   ]
  },
  {
   "cell_type": "code",
   "execution_count": 32,
   "metadata": {
    "collapsed": false
   },
   "outputs": [
    {
     "data": {
      "text/plain": [
       "[('μανωε', 0.696036159992218),\n",
       " ('ἀρχάγγελος', 0.6499038338661194),\n",
       " ('ζεβουλ', 0.6473389863967896),\n",
       " ('παρεμβαλεῖ', 0.6429287791252136),\n",
       " ('ἐπιφανήσεται', 0.641310453414917),\n",
       " ('γαβριὴλ', 0.6345863342285156),\n",
       " ('σαμαιαν', 0.6238977909088135),\n",
       " ('βαλααμ', 0.6236370801925659),\n",
       " ('ησαιας', 0.6227160692214966),\n",
       " ('σαμουηλ', 0.6202077865600586)]"
      ]
     },
     "execution_count": 32,
     "metadata": {},
     "output_type": "execute_result"
    }
   ],
   "source": [
    "model.most_similar('ἄγγελος')"
   ]
  },
  {
   "cell_type": "code",
   "execution_count": 38,
   "metadata": {
    "collapsed": false
   },
   "outputs": [
    {
     "data": {
      "text/plain": [
       "[('μένος', 0.770604133605957),\n",
       " ('ἄμπεχε', 0.7698976993560791),\n",
       " ('αἰνὸν', 0.7675420045852661),\n",
       " ('ἐλθέμεναι', 0.7659810185432434),\n",
       " ('δῦν', 0.7652841806411743),\n",
       " ('κῆρ', 0.7560437321662903),\n",
       " ('ὦκα', 0.7523142099380493),\n",
       " ('ἄμοτον', 0.7515565156936646),\n",
       " ('γόου', 0.7511271238327026),\n",
       " ('ὄρωρεν', 0.7479422092437744)]"
      ]
     },
     "execution_count": 38,
     "metadata": {},
     "output_type": "execute_result"
    }
   ],
   "source": [
    "model.most_similar('ἄχος')"
   ]
  },
  {
   "cell_type": "code",
   "execution_count": 39,
   "metadata": {
    "collapsed": false
   },
   "outputs": [
    {
     "data": {
      "text/plain": [
       "[('ποδώκεος', 0.8257793188095093),\n",
       " ('ὁμοίιον', 0.8225136995315552),\n",
       " ('ἀχιλῆϊ', 0.8209117650985718),\n",
       " ('χάρμης', 0.8179543614387512),\n",
       " ('δηριαδῆος', 0.8171504139900208),\n",
       " ('ὦκα', 0.8166021108627319),\n",
       " ('αἰακίδαο', 0.8149865865707397),\n",
       " ('τετλάτω', 0.8137754201889038),\n",
       " ('θοῦρον', 0.8128254413604736),\n",
       " ('ἀχνύμενοι', 0.8121742010116577)]"
      ]
     },
     "execution_count": 39,
     "metadata": {},
     "output_type": "execute_result"
    }
   ],
   "source": [
    "model.most_similar('κῆρ') "
   ]
  },
  {
   "cell_type": "code",
   "execution_count": 40,
   "metadata": {
    "collapsed": false
   },
   "outputs": [
    {
     "data": {
      "text/plain": [
       "[('γέροντα', 0.7098464965820312),\n",
       " ('παῖδα', 0.7086045742034912),\n",
       " ('ἀδελφὸν', 0.6956572532653809),\n",
       " ('οἰκέτην', 0.6936179399490356),\n",
       " ('νεανίαν', 0.6913819313049316),\n",
       " ('πρεσβύτην', 0.6908776760101318),\n",
       " ('νεανίσκον', 0.6900901794433594),\n",
       " ('ἐραστὴν', 0.6859878301620483),\n",
       " ('ἱερέα', 0.6836997270584106),\n",
       " ('νυμφίον', 0.679427981376648)]"
      ]
     },
     "execution_count": 40,
     "metadata": {},
     "output_type": "execute_result"
    }
   ],
   "source": [
    "model.most_similar('ἄνδρα')"
   ]
  },
  {
   "cell_type": "code",
   "execution_count": 42,
   "metadata": {
    "collapsed": false
   },
   "outputs": [
    {
     "data": {
      "text/plain": [
       "[('φονέα', 0.7779688239097595),\n",
       " ('οἰνοχόον', 0.7524860501289368),\n",
       " ('ἱππόλυτον', 0.7507445216178894),\n",
       " ('ἀδελφὸν', 0.7471684217453003),\n",
       " ('υἱόν', 0.7427107691764832),\n",
       " ('ἐρώμενον', 0.7391958236694336),\n",
       " ('χείρωνα', 0.7375092506408691),\n",
       " ('πᾶνα', 0.7372569441795349),\n",
       " ('τάφον', 0.7323480844497681),\n",
       " ('ἄδωνιν', 0.7319536805152893)]"
      ]
     },
     "execution_count": 42,
     "metadata": {},
     "output_type": "execute_result"
    }
   ],
   "source": [
    "model.most_similar('παῖδα')"
   ]
  },
  {
   "cell_type": "code",
   "execution_count": 43,
   "metadata": {
    "collapsed": false
   },
   "outputs": [
    {
     "data": {
      "text/plain": [
       "[('προφήτην', 0.7774537205696106),\n",
       " ('οὐρίαν', 0.7593482136726379),\n",
       " ('μιχαίαν', 0.7458844184875488),\n",
       " ('ἐλισσαῖον', 0.7311204671859741),\n",
       " ('βαπτιστὴν', 0.7267971038818359),\n",
       " ('μανασσὴν', 0.7137241363525391),\n",
       " ('σολομῶντα', 0.7134689092636108),\n",
       " ('ἀρχιερέα', 0.7127511501312256),\n",
       " ('ναὸν', 0.7113758325576782),\n",
       " ('νομοθέτην', 0.710371196269989)]"
      ]
     },
     "execution_count": 43,
     "metadata": {},
     "output_type": "execute_result"
    }
   ],
   "source": [
    "model.most_similar('ἱερέα')"
   ]
  },
  {
   "cell_type": "code",
   "execution_count": 52,
   "metadata": {
    "collapsed": false
   },
   "outputs": [
    {
     "data": {
      "text/plain": [
       "[('γυναικός', 0.862053632736206),\n",
       " ('μητρὸς', 0.7998234033584595),\n",
       " ('δούλης', 0.7781879901885986),\n",
       " ('ἀδελφῆς', 0.701331377029419),\n",
       " ('μοιχευομένης', 0.6862832903862),\n",
       " ('θυγατρὸς', 0.6827195882797241),\n",
       " ('νύμφης', 0.662971019744873),\n",
       " ('πόρνης', 0.6611018180847168),\n",
       " ('σάρρας', 0.6597551107406616),\n",
       " ('γαμετῆς', 0.6574646234512329)]"
      ]
     },
     "execution_count": 52,
     "metadata": {},
     "output_type": "execute_result"
    }
   ],
   "source": [
    "model.most_similar('γυναικὸς')"
   ]
  },
  {
   "cell_type": "code",
   "execution_count": 111,
   "metadata": {
    "collapsed": false
   },
   "outputs": [
    {
     "data": {
      "text/plain": [
       "[('nepos', 0.6462836265563965),\n",
       " ('pronepos', 0.6400849223136902),\n",
       " ('patrui', 0.634131908416748)]"
      ]
     },
     "execution_count": 111,
     "metadata": {},
     "output_type": "execute_result"
    }
   ],
   "source": [
    "# \"puer\" is to \"pater\" as \"filia\" is to ...?\n",
    "model.most_similar(['filia', 'pater'], ['puer'], topn=3)  # 'should' be mater!"
   ]
  },
  {
   "cell_type": "code",
   "execution_count": 46,
   "metadata": {
    "collapsed": false
   },
   "outputs": [
    {
     "data": {
      "text/plain": [
       "'ναὸν'"
      ]
     },
     "execution_count": 46,
     "metadata": {},
     "output_type": "execute_result"
    }
   ],
   "source": [
    "# which word doesn't go with the others?\n",
    "model.doesnt_match(\"παῖδα ἄνδρα ναὸν\".split())"
   ]
  },
  {
   "cell_type": "code",
   "execution_count": 51,
   "metadata": {
    "collapsed": false
   },
   "outputs": [
    {
     "data": {
      "text/plain": [
       "[('γυναικός', 0.862053632736206),\n",
       " ('μητρὸς', 0.7998234033584595),\n",
       " ('δούλης', 0.7781879901885986),\n",
       " ('ἀδελφῆς', 0.701331377029419),\n",
       " ('μοιχευομένης', 0.6862832903862),\n",
       " ('θυγατρὸς', 0.6827195882797241),\n",
       " ('νύμφης', 0.662971019744873),\n",
       " ('πόρνης', 0.6611018180847168),\n",
       " ('σάρρας', 0.6597551107406616),\n",
       " ('γαμετῆς', 0.6574646234512329)]"
      ]
     },
     "execution_count": 51,
     "metadata": {},
     "output_type": "execute_result"
    }
   ],
   "source": [
    "\n",
    "#model.similarity('γινώσκω', 'ἔχω')"
   ]
  },
  {
   "cell_type": "code",
   "execution_count": 53,
   "metadata": {
    "collapsed": false
   },
   "outputs": [
    {
     "data": {
      "text/plain": [
       "0.26308083896554618"
      ]
     },
     "execution_count": 53,
     "metadata": {},
     "output_type": "execute_result"
    }
   ],
   "source": [
    "model.similarity('ἄνδρα', 'ἀνὴρ')  # strange?"
   ]
  },
  {
   "cell_type": "code",
   "execution_count": 54,
   "metadata": {
    "collapsed": false
   },
   "outputs": [
    {
     "data": {
      "text/plain": [
       "0.026751346469487833"
      ]
     },
     "execution_count": 54,
     "metadata": {},
     "output_type": "execute_result"
    }
   ],
   "source": [
    "model.similarity('ἄνδρα', 'ὄργανον')"
   ]
  },
  {
   "cell_type": "code",
   "execution_count": 55,
   "metadata": {
    "collapsed": false
   },
   "outputs": [
    {
     "data": {
      "text/plain": [
       "-0.086610455019305616"
      ]
     },
     "execution_count": 55,
     "metadata": {},
     "output_type": "execute_result"
    }
   ],
   "source": [
    "model.similarity('ἀνὴρ', 'ὄργανον')"
   ]
  },
  {
   "cell_type": "code",
   "execution_count": 56,
   "metadata": {
    "collapsed": false
   },
   "outputs": [
    {
     "data": {
      "text/plain": [
       "0.30930986578023612"
      ]
     },
     "execution_count": 56,
     "metadata": {},
     "output_type": "execute_result"
    }
   ],
   "source": [
    "model.similarity('ὄνομα', 'ὄργανον')"
   ]
  },
  {
   "cell_type": "code",
   "execution_count": null,
   "metadata": {
    "collapsed": true
   },
   "outputs": [],
   "source": []
  }
 ],
 "metadata": {
  "kernelspec": {
   "display_name": "Python 3",
   "language": "python",
   "name": "python3"
  },
  "language_info": {
   "codemirror_mode": {
    "name": "ipython",
    "version": 3
   },
   "file_extension": ".py",
   "mimetype": "text/x-python",
   "name": "python",
   "nbconvert_exporter": "python",
   "pygments_lexer": "ipython3",
   "version": "3.4.3"
  }
 },
 "nbformat": 4,
 "nbformat_minor": 0
}
