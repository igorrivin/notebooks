{
 "cells": [
  {
   "cell_type": "markdown",
   "metadata": {},
   "source": [
    "Types of ML systems\n",
    "\n",
    "* trained w/ or w/o human supervision (supervised, unsupervised, semi-supervised, reinforcement learning)\n",
    "* can or cannot learn learn incrementally on the fly (online v batch learning)\n",
    "* comparing new data points to known, or detect patterns in training data and build predictive model (instance-based v model-based learning)"
   ]
  },
  {
   "cell_type": "markdown",
   "metadata": {},
   "source": [
    "# Supervised/Unsupervised learning\n",
    "\n",
    "## Supervised\n",
    "\n",
    "* *labels*: solutions fed to algo along with training data\n",
    "* *classification*: algo is trained w/ many examples with their *class*\n",
    "* *regression*: predict a *target* numeric value given a set of *features* called *predictors*\n",
    "* *attribute*: a data type (eg, \"mileage\")\n",
    "* *feature*: an attribute plus its value (eg, \"mileage = 15,000\")\n",
    "* logistic regression can be used for classification, as it outputs a value that corresponds to the probability of belonging to a given class\n",
    "\n",
    "* most important supervised learning algos\n",
    "  - k-nearest neighbors\n",
    "  - linear regression\n",
    "  - logistic regression\n",
    "  - support vector machines (SVMs)\n",
    "  - decision trees and random forests\n",
    "  - neural networks"
   ]
  },
  {
   "cell_type": "markdown",
   "metadata": {},
   "source": [
    "## Unsupervised learning\n",
    "\n",
    "* clustering\n",
    "  - k-means\n",
    "  - hierarchical cluster analysis (HCA)\n",
    "  - expectation maximization\n",
    "* visualization and dimensionality reduction\n",
    "  - principal component analysis (PCA)\n",
    "  - kernel PCE\n",
    "  - locally-linear embedding (LLE)\n",
    "  - t-distributed stochastic neighbor embedding (t-SNE)\n",
    "* association rule learning\n",
    "  - apriori\n",
    "  - eclat\n",
    "* *dimensionalty reduction*: simplify data w/o loosing to much info\n",
    "  - example: a car's mileage highly correlated w/ its age, so merge them into one feature\n",
    "* *feature extraction*: building informative and non-redundant features from an initial set of measured data\n",
    "* *anomaly detection*: identifying outliers\n",
    "* *association rule learning*: discover interesting relations between attributes"
   ]
  },
  {
   "cell_type": "markdown",
   "metadata": {},
   "source": [
    "## Semi-supervised learning\n",
    "\n",
    "* algos taking paritally labeled data, usu. lots of unlabeled data and a little labeled\n",
    "  - ex: step 1 unsupervised clustering of faces from an unlabeled set of photos; step 2 human assigns a name label per face\n",
    "  - most are combinations of supervised and unsupervised algos\n",
    "* deep belief networks (DBNs) are based on unsupervised components called restricted Bolzmann machines (RBMs) stack on top of one another"
   ]
  },
  {
   "cell_type": "markdown",
   "metadata": {},
   "source": [
    "## Reinforcement learning\n",
    "\n",
    "* very different\n",
    "* learning system (called an *agent*) can observe an environment, select and perform actions; gets *rewards* or *penalties* for its choices\n",
    "* creates a *policy* to get the most reward over time; a policy defines what actions an agent takes in a given situation\n",
    "* ex: robots learning to walk and AlphaGo (just applying the policy it had learned)"
   ]
  },
  {
   "cell_type": "markdown",
   "metadata": {},
   "source": [
    "# Batch and online learning\n",
    "\n",
    "* whether or not it can learn incrementally\n",
    "\n",
    "## Batch learning\n",
    "\n",
    "* takes all data, trains algo, takes a lot of time\n",
    "* also called offline learning\n",
    "* then launched, no more learning\n",
    "\n",
    "## Online learning\n",
    "\n",
    "* system trained incrementally, either individually or *mini-batches*\n",
    "* good for data w/ continuous data flow and need to react rapidly (eg, stock prices); also for limited computing resources\n",
    "* can also be used for *out-of-core* learning\n",
    "* *learning rate*: how fast to adapt to changing data (and thus forget old data)\n",
    "  - high learning rate means adapt quickly but forget old data\n",
    "  - low means more inertia, less sensitive to noise in new data or non-representative data points\n",
    "* danger of bad data input degrading system; may want to monitor input and react to abnormal data"
   ]
  },
  {
   "cell_type": "markdown",
   "metadata": {},
   "source": [
    "# Instance based v Model based learning\n",
    "\n",
    "Distinction on how ML systems *generalize* (how it learns to perform on instances never seen)\n",
    "\n",
    "## Instance based learning\n",
    "\n",
    "* a system starts by looking for exact matches, then generalizes to similar examples\n",
    "* *measure of similarity*: ex: count of words in common between two docs (spam and unknown)\n",
    "\n",
    "## Model based learning\n",
    "\n",
    "* generalize from a set of examples, then make predictions\n",
    "* How to know which model performs best\n",
    "  - *utility function* (or *fitness function*) that measures how good your model is\n",
    "  - *cost function* measures how bad it is\n",
    "  - for linear regression, usu. use a cost function to measure distance between model's preductions and training examples"
   ]
  },
  {
   "cell_type": "code",
   "execution_count": null,
   "metadata": {
    "collapsed": true
   },
   "outputs": [],
   "source": [
    "# Example 1-1\n",
    "\n"
   ]
  }
 ],
 "metadata": {
  "kernelspec": {
   "display_name": "Python 3",
   "language": "python",
   "name": "python3"
  },
  "language_info": {
   "codemirror_mode": {
    "name": "ipython",
    "version": 3
   },
   "file_extension": ".py",
   "mimetype": "text/x-python",
   "name": "python",
   "nbconvert_exporter": "python",
   "pygments_lexer": "ipython3",
   "version": "3.5.2"
  }
 },
 "nbformat": 4,
 "nbformat_minor": 1
}
