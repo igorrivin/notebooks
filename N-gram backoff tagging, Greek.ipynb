{
 "metadata": {
  "name": "",
  "signature": "sha256:c5f0593f802c0781136281887acf8ca34262256aabbbd1e88213a6aa89aadfe7"
 },
 "nbformat": 3,
 "nbformat_minor": 0,
 "worksheets": [
  {
   "cells": [
    {
     "cell_type": "code",
     "collapsed": false,
     "input": [
      "from nltk.corpus.reader import TaggedCorpusReader\n",
      "from nltk.tag import BigramTagger\n",
      "from nltk.tag import TrigramTagger\n",
      "from nltk.tag import UnigramTagger\n",
      "from nltk.tokenize import wordpunct_tokenize"
     ],
     "language": "python",
     "metadata": {},
     "outputs": [],
     "prompt_number": 1
    },
    {
     "cell_type": "code",
     "collapsed": false,
     "input": [
      "#trainer\n",
      "reader = TaggedCorpusReader('.', 'greek_training_set.pos')\n",
      "train_sents = reader.tagged_sents()"
     ],
     "language": "python",
     "metadata": {},
     "outputs": [],
     "prompt_number": 2
    },
    {
     "cell_type": "code",
     "collapsed": false,
     "input": [
      "tagger1 = UnigramTagger(train_sents)"
     ],
     "language": "python",
     "metadata": {},
     "outputs": [],
     "prompt_number": 3
    },
    {
     "cell_type": "code",
     "collapsed": false,
     "input": [
      "tagger2 = BigramTagger(train_sents, backoff=tagger1)"
     ],
     "language": "python",
     "metadata": {},
     "outputs": [],
     "prompt_number": 4
    },
    {
     "cell_type": "code",
     "collapsed": false,
     "input": [
      "tagger3 = TrigramTagger(train_sents, backoff=tagger2)"
     ],
     "language": "python",
     "metadata": {},
     "outputs": [],
     "prompt_number": 5
    },
    {
     "cell_type": "code",
     "collapsed": false,
     "input": [
      "tagger3.evaluate(train_sents)"
     ],
     "language": "python",
     "metadata": {},
     "outputs": [
      {
       "metadata": {},
       "output_type": "pyout",
       "prompt_number": 6,
       "text": [
        "0.972572292486997"
       ]
      }
     ],
     "prompt_number": 6
    }
   ],
   "metadata": {}
  }
 ]
}