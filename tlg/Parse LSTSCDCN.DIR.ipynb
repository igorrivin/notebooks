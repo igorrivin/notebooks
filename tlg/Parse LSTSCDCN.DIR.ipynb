{
 "cells": [
  {
   "cell_type": "code",
   "execution_count": 17,
   "metadata": {
    "collapsed": true
   },
   "outputs": [],
   "source": [
    "from collections import defaultdict\n",
    "import os\n",
    "import re"
   ]
  },
  {
   "cell_type": "code",
   "execution_count": 2,
   "metadata": {
    "collapsed": true
   },
   "outputs": [],
   "source": [
    "def open_file():\n",
    "    p = os.path.expanduser('~/cltk_data/originals/tlg/LSTSCDCN.DIR')\n",
    "    with open(p, 'rb') as fo:\n",
    "        return fo.read()"
   ]
  },
  {
   "cell_type": "code",
   "execution_count": 3,
   "metadata": {
    "collapsed": true
   },
   "outputs": [],
   "source": [
    "file_bytes = open_file()"
   ]
  },
  {
   "cell_type": "code",
   "execution_count": 115,
   "metadata": {
    "collapsed": false
   },
   "outputs": [
    {
     "name": "stdout",
     "output_type": "stream",
     "text": [
      "Lists pertaining to all works in Canon (chronological)\n",
      "     12\n",
      "     ('LIST1CLA', 'Literary classifications of works')\n",
      "     ('LIST1CLX', 'Literary classifications of works (with x-refs)')\n",
      "     ('LIST1DAT', 'Chronological classifications of authors')\n",
      "     ('LIST1EPI', 'Classifications of authors by epithet or genre')\n",
      "     ('LIST1FEM', 'Female writers')\n",
      "     ('LIST1GEO', 'Geographical classifications of authors (provisional)')\n",
      "     ('LIST2CLA', 'Literary classifications of works')\n",
      "     ('LIST2CLX', 'Literary classifications of works (with x-refs)')\n",
      "     ('LIST2DAT', 'Chronological classifications of authors')\n",
      "     ('LIST2EPI', 'Classifications of authors by epithet or genre')\n",
      "     ('LIST2FEM', 'Female writers')\n",
      "     ('LIST2GEO', 'Geographical classifications of authors (provisional)')\n",
      "Miscellaneous indices (works on CD)\n",
      "     5\n",
      "     ('AWNAMSCD', 'Names of authors and works')\n",
      "     ('BIBINDCD', 'Index to author/work entries in bibliographical form of Canon')\n",
      "     ('DATINDCD', 'Index to author/work entries in database form of Canon')\n",
      "     ('AUTHWKCD', 'Comprehensive list of authors and works on CD')\n",
      "     ('INDXWKCD', 'Index of authors and works on CD')\n",
      "Miscellaneous indices (works in canon)\n",
      "     4\n",
      "     ('AWNAMSCN', 'Names of authors and works')\n",
      "     ('BIBINDCN', 'Index to author/work entries in bibliographical form of Canon')\n",
      "     ('DATINDCN', 'Index to author/work entries in database form of Canon')\n",
      "     ('AUTHWKCN', 'Comprehensive list of authors and works in Canon')\n",
      "Lists pertaining to all works in Canon (by TLG number)\n",
      "     12\n",
      "     ('LIST3CLA', 'Literary classifications of works')\n",
      "     ('LIST3CLX', 'Literary classifications of works (with x-refs)')\n",
      "     ('LIST3DAT', 'Chronological classifications of authors')\n",
      "     ('LIST3EPI', 'Classifications of authors by epithet or genre')\n",
      "     ('LIST3FEM', 'Female writers')\n",
      "     ('LIST3GEO', 'Geographical classifications of authors (provisional)')\n",
      "     ('LIST4CLA', 'Literary classifications of works')\n",
      "     ('LIST4CLX', 'Literary classifications of works (with x-refs)')\n",
      "     ('LIST4DAT', 'Chronological classifications of authors')\n",
      "     ('LIST4EPI', 'Classifications of authors by epithet or genre')\n",
      "     ('LIST4FEM', 'Female writers')\n",
      "     ('LIST4GEO', 'Geographical classifications of authors (provisional)')\n"
     ]
    }
   ],
   "source": [
    "def parse_lists():\n",
    "    file_bytes = open_file()\n",
    "\n",
    "    c1 = re.compile(b'\\xff')\n",
    "    parts = [x for x in c1.split(file_bytes) if x]\n",
    "    body = parts[:-2]\n",
    "\n",
    "    all_lists = defaultdict(list)\n",
    "    for count, part in enumerate(body):\n",
    "        file = part[:8]\n",
    "        about = part[8:].decode('utf_8')\n",
    "\n",
    "        file = file.decode('utf_8')            \n",
    "\n",
    "        if 0 < count < 7:\n",
    "            file_about = (file, about)\n",
    "            all_lists['Lists pertaining to all works in Canon (chronological)'].append(file_about)\n",
    "        if 7 < count < 14:\n",
    "            file_about = (file, about)\n",
    "            all_lists['Lists pertaining to all works in Canon (chronological)'].append(file_about)\n",
    "        if 14 < count < 21:\n",
    "            file_about = (file, about)\n",
    "            all_lists['Lists pertaining to all works in Canon (by TLG number)'].append(file_about)\n",
    "        if 21 < count < 28:\n",
    "            file_about = (file, about)\n",
    "            all_lists['Lists pertaining to all works in Canon (by TLG number)'].append(file_about)\n",
    "        if 28 < count < 34:\n",
    "            file_about = (file, about)\n",
    "            all_lists['Miscellaneous indices (works on CD)'].append(file_about)\n",
    "        if 34 < count:\n",
    "            file_about = (file, about)\n",
    "            all_lists['Miscellaneous indices (works in canon)'].append(file_about)\n",
    "\n",
    "    return all_lists\n",
    "\n",
    "for k, v in parse_lists().items():\n",
    "    print(k)\n",
    "    print('    ', len(v))\n",
    "    for x in v:\n",
    "        print('    ', x)\n"
   ]
  }
 ],
 "metadata": {
  "kernelspec": {
   "display_name": "Python 3",
   "language": "python",
   "name": "python3"
  },
  "language_info": {
   "codemirror_mode": {
    "name": "ipython",
    "version": 3
   },
   "file_extension": ".py",
   "mimetype": "text/x-python",
   "name": "python",
   "nbconvert_exporter": "python",
   "pygments_lexer": "ipython3",
   "version": "3.4.3"
  }
 },
 "nbformat": 4,
 "nbformat_minor": 0
}
