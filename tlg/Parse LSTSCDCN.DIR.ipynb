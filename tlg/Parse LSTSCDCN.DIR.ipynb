{
 "cells": [
  {
   "cell_type": "code",
   "execution_count": 1,
   "metadata": {
    "collapsed": true
   },
   "outputs": [],
   "source": [
    "from collections import defaultdict\n",
    "import json\n",
    "import os\n",
    "import re"
   ]
  },
  {
   "cell_type": "code",
   "execution_count": 2,
   "metadata": {
    "collapsed": true
   },
   "outputs": [],
   "source": [
    "def open_file():\n",
    "    p = os.path.expanduser('~/cltk_data/originals/tlg/LSTSCDCN.DIR')\n",
    "    with open(p, 'rb') as fo:\n",
    "        return fo.read()"
   ]
  },
  {
   "cell_type": "code",
   "execution_count": 3,
   "metadata": {
    "collapsed": true
   },
   "outputs": [],
   "source": [
    "file_bytes = open_file()"
   ]
  },
  {
   "cell_type": "code",
   "execution_count": 4,
   "metadata": {
    "collapsed": false
   },
   "outputs": [],
   "source": [
    "def parse_lists():\n",
    "    file_bytes = open_file()\n",
    "\n",
    "    c1 = re.compile(b'\\xff')\n",
    "    parts = [x for x in c1.split(file_bytes) if x]\n",
    "    body = parts[:-2]\n",
    "\n",
    "    all_lists = defaultdict(list)\n",
    "    for count, part in enumerate(body):\n",
    "        file = part[:8]\n",
    "        about = part[8:].decode('utf_8')\n",
    "\n",
    "        file = file.decode('utf_8')            \n",
    "\n",
    "        if 0 < count < 7:\n",
    "            file_about = (file + '.BIN', about)\n",
    "            all_lists['Lists pertaining to all works in Canon (chronological)'].append(file_about)\n",
    "        if 7 < count < 14:\n",
    "            file_about = (file + '.BIN', about)\n",
    "            all_lists['Lists pertaining to all works in Canon (chronological)'].append(file_about)\n",
    "        if 14 < count < 21:\n",
    "            file_about = (file + '.BIN', about)\n",
    "            all_lists['Lists pertaining to all works in Canon (by TLG number)'].append(file_about)\n",
    "        if 21 < count < 28:\n",
    "            file_about = (file + '.BIN', about)\n",
    "            all_lists['Lists pertaining to all works in Canon (by TLG number)'].append(file_about)\n",
    "        if 28 < count < 34:\n",
    "            file_about = (file + '.BIN', about)\n",
    "            all_lists['Miscellaneous indices (works on CD)'].append(file_about)\n",
    "        if 34 < count:\n",
    "            file_about = (file + '.BIN', about)\n",
    "            all_lists['Miscellaneous indices (works in canon)'].append(file_about)\n",
    "\n",
    "    return all_lists\n",
    "\n",
    "\n",
    "index_lists = parse_lists()\n",
    "\n",
    "final_dict = {}\n",
    "for about,files in index_lists.items():\n",
    "    list_dict = {}\n",
    "    for tup in files:\n",
    "        list_dict[tup[0]] = tup[1]\n",
    "    final_dict[about] = list_dict\n",
    "\n",
    "write_dir = os.path.expanduser('~/cltk/cltk/corpus/greek/tlg')\n",
    "write_path = os.path.join(write_dir, 'index_lists.json')\n",
    "with open(write_path, 'w') as file_open:\n",
    "    json.dump(final_dict, file_open, sort_keys=True, indent=4, separators=(',', ': '))"
   ]
  }
 ],
 "metadata": {
  "kernelspec": {
   "display_name": "Python 3",
   "language": "python",
   "name": "python3"
  },
  "language_info": {
   "codemirror_mode": {
    "name": "ipython",
    "version": 3
   },
   "file_extension": ".py",
   "mimetype": "text/x-python",
   "name": "python",
   "nbconvert_exporter": "python",
   "pygments_lexer": "ipython3",
   "version": "3.4.3"
  }
 },
 "nbformat": 4,
 "nbformat_minor": 0
}
