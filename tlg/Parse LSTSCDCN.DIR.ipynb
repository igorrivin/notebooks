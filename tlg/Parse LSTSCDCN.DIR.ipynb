{
 "cells": [
  {
   "cell_type": "code",
   "execution_count": 17,
   "metadata": {
    "collapsed": true
   },
   "outputs": [],
   "source": [
    "from collections import defaultdict\n",
    "import os\n",
    "import re"
   ]
  },
  {
   "cell_type": "code",
   "execution_count": 2,
   "metadata": {
    "collapsed": true
   },
   "outputs": [],
   "source": [
    "def open_file():\n",
    "    p = os.path.expanduser('~/cltk_data/originals/tlg/LSTSCDCN.DIR')\n",
    "    with open(p, 'rb') as fo:\n",
    "        return fo.read()"
   ]
  },
  {
   "cell_type": "code",
   "execution_count": 3,
   "metadata": {
    "collapsed": true
   },
   "outputs": [],
   "source": [
    "file_bytes = open_file()"
   ]
  },
  {
   "cell_type": "code",
   "execution_count": 105,
   "metadata": {
    "collapsed": false
   },
   "outputs": [
    {
     "name": "stdout",
     "output_type": "stream",
     "text": [
      "0 b'*LS1\\x00\\x00\\x01b' Lists pertaining to all works in Canon (chronological)\n",
      "1 LIST1CLA Literary classifications of works\n",
      "2 LIST1CLX Literary classifications of works (with x-refs)\n",
      "3 LIST1DAT Chronological classifications of authors\n",
      "4 LIST1EPI Classifications of authors by epithet or genre\n",
      "5 LIST1FEM Female writers\n",
      "6 LIST1GEO Geographical classifications of authors (provisional)\n",
      "7 b'*LS2\\x00\\x00\\x01b' Lists pertaining to all works in Canon (chronological)\n",
      "8 LIST2CLA Literary classifications of works\n",
      "9 LIST2CLX Literary classifications of works (with x-refs)\n",
      "10 LIST2DAT Chronological classifications of authors\n",
      "11 LIST2EPI Classifications of authors by epithet or genre\n",
      "12 LIST2FEM Female writers\n",
      "13 LIST2GEO Geographical classifications of authors (provisional)\n",
      "14 b'*LS3\\x00\\x00\\x01b' Lists pertaining to all works in Canon (by TLG number)\n",
      "15 LIST3CLA Literary classifications of works\n",
      "16 LIST3CLX Literary classifications of works (with x-refs)\n",
      "17 LIST3DAT Chronological classifications of authors\n",
      "18 LIST3EPI Classifications of authors by epithet or genre\n",
      "19 LIST3FEM Female writers\n",
      "20 LIST3GEO Geographical classifications of authors (provisional)\n",
      "21 b'*LS4\\x00\\x00\\x01b' Lists pertaining to all works in Canon (by TLG number)\n",
      "22 LIST4CLA Literary classifications of works\n",
      "23 LIST4CLX Literary classifications of works (with x-refs)\n",
      "24 LIST4DAT Chronological classifications of authors\n",
      "25 LIST4EPI Classifications of authors by epithet or genre\n",
      "26 LIST4FEM Female writers\n",
      "27 LIST4GEO Geographical classifications of authors (provisional)\n",
      "28 b'*IN1\\x00\\x00\\x016' Miscellaneous indices (works on CD)\n",
      "29 AWNAMSCD Names of authors and works\n",
      "30 BIBINDCD Index to author/work entries in bibliographical form of Canon\n",
      "31 DATINDCD Index to author/work entries in database form of Canon\n",
      "32 AUTHWKCD Comprehensive list of authors and works on CD\n",
      "33 INDXWKCD Index of authors and works on CD\n",
      "34 b'*IN2\\x00\\x00\\x01\\x14' Miscellaneous indices (works in canon)\n",
      "35 AWNAMSCN Names of authors and works\n",
      "36 BIBINDCN Index to author/work entries in bibliographical form of Canon\n",
      "37 DATINDCN Index to author/work entries in database form of Canon\n",
      "38 AUTHWKCN Comprehensive list of authors and works in Canon\n",
      "defaultdict(<class 'list'>, {'index_1': ['Miscellaneous indices (works on CD)', ('AWNAMSCD', 'Names of authors and works'), ('BIBINDCD', 'Index to author/work entries in bibliographical form of Canon'), ('DATINDCD', 'Index to author/work entries in database form of Canon'), ('AUTHWKCD', 'Comprehensive list of authors and works on CD'), ('INDXWKCD', 'Index of authors and works on CD')], 'index_2': ['Miscellaneous indices (works in canon)', ('AWNAMSCN', 'Names of authors and works'), ('BIBINDCN', 'Index to author/work entries in bibliographical form of Canon'), ('DATINDCN', 'Index to author/work entries in database form of Canon'), ('AUTHWKCN', 'Comprehensive list of authors and works in Canon')], 'list_1': ['Lists pertaining to all works in Canon (chronological)', ('LIST1CLA', 'Literary classifications of works'), ('LIST1CLX', 'Literary classifications of works (with x-refs)'), ('LIST1DAT', 'Chronological classifications of authors'), ('LIST1EPI', 'Classifications of authors by epithet or genre'), ('LIST1FEM', 'Female writers'), ('LIST1GEO', 'Geographical classifications of authors (provisional)')], 'list_4': ['Lists pertaining to all works in Canon (by TLG number)', ('LIST4CLA', 'Literary classifications of works'), ('LIST4CLX', 'Literary classifications of works (with x-refs)'), ('LIST4DAT', 'Chronological classifications of authors'), ('LIST4EPI', 'Classifications of authors by epithet or genre'), ('LIST4FEM', 'Female writers'), ('LIST4GEO', 'Geographical classifications of authors (provisional)')], 'list_3': ['Lists pertaining to all works in Canon (by TLG number)', ('LIST3CLA', 'Literary classifications of works'), ('LIST3CLX', 'Literary classifications of works (with x-refs)'), ('LIST3DAT', 'Chronological classifications of authors'), ('LIST3EPI', 'Classifications of authors by epithet or genre'), ('LIST3FEM', 'Female writers'), ('LIST3GEO', 'Geographical classifications of authors (provisional)')], 'list_2': ['Lists pertaining to all works in Canon (chronological)', ('LIST2CLA', 'Literary classifications of works'), ('LIST2CLX', 'Literary classifications of works (with x-refs)'), ('LIST2DAT', 'Chronological classifications of authors'), ('LIST2EPI', 'Classifications of authors by epithet or genre'), ('LIST2FEM', 'Female writers'), ('LIST2GEO', 'Geographical classifications of authors (provisional)')]})\n"
     ]
    }
   ],
   "source": [
    "def parse_lists():\n",
    "    file_bytes = open_file()\n",
    "\n",
    "    c1 = re.compile(b'\\xff')\n",
    "    parts = [x for x in c1.split(file_bytes) if x]\n",
    "    body = parts[:-2]\n",
    "\n",
    "    all_lists = defaultdict(list)\n",
    "    for count, part in enumerate(body):\n",
    "        file = part[:8]\n",
    "        about = part[8:].decode('utf_8')\n",
    "        if file == b'*LS1\\x00\\x00\\x01b':\n",
    "            all_lists['list_1'].append(about)\n",
    "        elif file == b'*LS2\\x00\\x00\\x01b':\n",
    "            all_lists['list_2'].append(about)\n",
    "        elif file == b'*LS3\\x00\\x00\\x01b':\n",
    "            all_lists['list_3'].append(about)\n",
    "        elif file == b'*LS4\\x00\\x00\\x01b':\n",
    "            all_lists['list_4'].append(about)\n",
    "        elif file == b'*IN1\\x00\\x00\\x016':\n",
    "            all_lists['index_1'].append(about)\n",
    "        elif file == b'*IN2\\x00\\x00\\x01\\x14':\n",
    "            all_lists['index_2'].append(about)\n",
    "        else:\n",
    "            file = file.decode('utf_8')\n",
    "            \n",
    "        print(count, file, about)\n",
    "            \n",
    "\n",
    "        if 0 < count < 7:\n",
    "            file_about = (file, about)\n",
    "            all_lists['list_1'].append(file_about)\n",
    "        if 7 < count < 14:\n",
    "            file_about = (file, about)\n",
    "            all_lists['list_2'].append(file_about)\n",
    "        if 14 < count < 21:\n",
    "            file_about = (file, about)\n",
    "            all_lists['list_3'].append(file_about)\n",
    "        if 21 < count < 28:\n",
    "            file_about = (file, about)\n",
    "            all_lists['list_4'].append(file_about)\n",
    "        if 28 < count < 34:\n",
    "            file_about = (file, about)\n",
    "            all_lists['index_1'].append(file_about)\n",
    "        if 34 < count:\n",
    "            file_about = (file, about)\n",
    "            all_lists['index_2'].append(file_about)\n",
    "\n",
    "\n",
    "    print(all_lists)\n",
    "\n",
    "parse_lists()"
   ]
  },
  {
   "cell_type": "code",
   "execution_count": 115,
   "metadata": {
    "collapsed": false
   },
   "outputs": [
    {
     "name": "stdout",
     "output_type": "stream",
     "text": [
      "Lists pertaining to all works in Canon (chronological)\n",
      "     12\n",
      "     ('LIST1CLA', 'Literary classifications of works')\n",
      "     ('LIST1CLX', 'Literary classifications of works (with x-refs)')\n",
      "     ('LIST1DAT', 'Chronological classifications of authors')\n",
      "     ('LIST1EPI', 'Classifications of authors by epithet or genre')\n",
      "     ('LIST1FEM', 'Female writers')\n",
      "     ('LIST1GEO', 'Geographical classifications of authors (provisional)')\n",
      "     ('LIST2CLA', 'Literary classifications of works')\n",
      "     ('LIST2CLX', 'Literary classifications of works (with x-refs)')\n",
      "     ('LIST2DAT', 'Chronological classifications of authors')\n",
      "     ('LIST2EPI', 'Classifications of authors by epithet or genre')\n",
      "     ('LIST2FEM', 'Female writers')\n",
      "     ('LIST2GEO', 'Geographical classifications of authors (provisional)')\n",
      "Miscellaneous indices (works on CD)\n",
      "     5\n",
      "     ('AWNAMSCD', 'Names of authors and works')\n",
      "     ('BIBINDCD', 'Index to author/work entries in bibliographical form of Canon')\n",
      "     ('DATINDCD', 'Index to author/work entries in database form of Canon')\n",
      "     ('AUTHWKCD', 'Comprehensive list of authors and works on CD')\n",
      "     ('INDXWKCD', 'Index of authors and works on CD')\n",
      "Miscellaneous indices (works in canon)\n",
      "     4\n",
      "     ('AWNAMSCN', 'Names of authors and works')\n",
      "     ('BIBINDCN', 'Index to author/work entries in bibliographical form of Canon')\n",
      "     ('DATINDCN', 'Index to author/work entries in database form of Canon')\n",
      "     ('AUTHWKCN', 'Comprehensive list of authors and works in Canon')\n",
      "Lists pertaining to all works in Canon (by TLG number)\n",
      "     12\n",
      "     ('LIST3CLA', 'Literary classifications of works')\n",
      "     ('LIST3CLX', 'Literary classifications of works (with x-refs)')\n",
      "     ('LIST3DAT', 'Chronological classifications of authors')\n",
      "     ('LIST3EPI', 'Classifications of authors by epithet or genre')\n",
      "     ('LIST3FEM', 'Female writers')\n",
      "     ('LIST3GEO', 'Geographical classifications of authors (provisional)')\n",
      "     ('LIST4CLA', 'Literary classifications of works')\n",
      "     ('LIST4CLX', 'Literary classifications of works (with x-refs)')\n",
      "     ('LIST4DAT', 'Chronological classifications of authors')\n",
      "     ('LIST4EPI', 'Classifications of authors by epithet or genre')\n",
      "     ('LIST4FEM', 'Female writers')\n",
      "     ('LIST4GEO', 'Geographical classifications of authors (provisional)')\n"
     ]
    }
   ],
   "source": [
    "def parse_lists():\n",
    "    file_bytes = open_file()\n",
    "\n",
    "    c1 = re.compile(b'\\xff')\n",
    "    parts = [x for x in c1.split(file_bytes) if x]\n",
    "    body = parts[:-2]\n",
    "\n",
    "    all_lists = defaultdict(list)\n",
    "    for count, part in enumerate(body):\n",
    "        file = part[:8]\n",
    "        about = part[8:].decode('utf_8')\n",
    "\n",
    "        file = file.decode('utf_8')\n",
    "            \n",
    "        #print(count, file, about)\n",
    "            \n",
    "\n",
    "        if 0 < count < 7:\n",
    "            file_about = (file, about)\n",
    "            all_lists['Lists pertaining to all works in Canon (chronological)'].append(file_about)\n",
    "        if 7 < count < 14:\n",
    "            file_about = (file, about)\n",
    "            all_lists['Lists pertaining to all works in Canon (chronological)'].append(file_about)\n",
    "        if 14 < count < 21:\n",
    "            file_about = (file, about)\n",
    "            all_lists['Lists pertaining to all works in Canon (by TLG number)'].append(file_about)\n",
    "        if 21 < count < 28:\n",
    "            file_about = (file, about)\n",
    "            all_lists['Lists pertaining to all works in Canon (by TLG number)'].append(file_about)\n",
    "        if 28 < count < 34:\n",
    "            file_about = (file, about)\n",
    "            all_lists['Miscellaneous indices (works on CD)'].append(file_about)\n",
    "        if 34 < count:\n",
    "            file_about = (file, about)\n",
    "            all_lists['Miscellaneous indices (works in canon)'].append(file_about)\n",
    "\n",
    "    return all_lists\n",
    "\n",
    "for k, v in parse_lists().items():\n",
    "    print(k)\n",
    "    print('    ', len(v))\n",
    "    for x in v:\n",
    "        print('    ', x)\n"
   ]
  },
  {
   "cell_type": "code",
   "execution_count": null,
   "metadata": {
    "collapsed": true
   },
   "outputs": [],
   "source": []
  }
 ],
 "metadata": {
  "kernelspec": {
   "display_name": "Python 3",
   "language": "python",
   "name": "python3"
  },
  "language_info": {
   "codemirror_mode": {
    "name": "ipython",
    "version": 3
   },
   "file_extension": ".py",
   "mimetype": "text/x-python",
   "name": "python",
   "nbconvert_exporter": "python",
   "pygments_lexer": "ipython3",
   "version": "3.4.3"
  }
 },
 "nbformat": 4,
 "nbformat_minor": 0
}
