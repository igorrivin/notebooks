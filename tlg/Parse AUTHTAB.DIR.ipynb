{
 "cells": [
  {
   "cell_type": "code",
   "execution_count": 1,
   "metadata": {
    "collapsed": true
   },
   "outputs": [],
   "source": [
    "import json\n",
    "import os\n",
    "import re"
   ]
  },
  {
   "cell_type": "code",
   "execution_count": 2,
   "metadata": {
    "collapsed": true
   },
   "outputs": [],
   "source": [
    "def open_file():\n",
    "    p = os.path.expanduser('~/cltk_data/originals/tlg/AUTHTAB.DIR')\n",
    "    with open(p, 'rb') as fo:\n",
    "        return fo.read()"
   ]
  },
  {
   "cell_type": "code",
   "execution_count": 3,
   "metadata": {
    "collapsed": false
   },
   "outputs": [],
   "source": [
    "file_bytes = open_file()\n",
    "\n",
    "# From Diogenes; useful?\n",
    "# my $regexp = qr!$prefix(\\w\\w\\w\\d)\\s+([\\x01-\\x7f]*[a-zA-Z][^\\x83\\xff]*)!;\n",
    "\n",
    "c1 = re.compile(b'\\x83g')\n",
    "body = c1.split(file_bytes)[1]\n",
    "c2 = re.compile(b'\\xff')\n",
    "id_authors = [x for x in c2.split(body) if x]"
   ]
  },
  {
   "cell_type": "code",
   "execution_count": 4,
   "metadata": {
    "collapsed": false
   },
   "outputs": [],
   "source": [
    "def make_id_author_pairs():\n",
    "    comp = re.compile(b'\\s')\n",
    "    for id_author_raw in id_authors:\n",
    "        id_author_split = comp.split(id_author_raw, maxsplit=1)\n",
    "        if len(id_author_split) is 2:\n",
    "            \n",
    "            _id, author = id_author_split[0], id_author_split[1]\n",
    "            \n",
    "            # cleanup author name\n",
    "            comp2 = re.compile(b'&1|&')\n",
    "            author = id_author_split[1]\n",
    "            author = comp2.sub(b'', author)\n",
    "            comp3 = re.compile(b'\\[2')\n",
    "            comp4 = re.compile(b'\\]2')\n",
    "            author = comp3.sub(b'[', author)\n",
    "            author = comp4.sub(b']', author)\n",
    "            \n",
    "            # normalize whitespaces\n",
    "            #comp5 = re.compile('\\s+')\n",
    "            #author = comp5.sub(' ', author)\n",
    "\n",
    "            # cleanup odd bytecodes\n",
    "            comp7 = re.compile(b'\\x80')\n",
    "            if comp7.findall(author):\n",
    "                author = comp7.sub(b', ', author)\n",
    "\n",
    "            # cleanup odd bytecodes\n",
    "            comp8 = re.compile(b'\\x83e')\n",
    "            if comp8.findall(author):\n",
    "                author = comp8.sub(b'', author)\n",
    "            \n",
    "            # transliterate beta code in author fields\n",
    "            # it's way easier to manually do these three\n",
    "            # Note that the converted bytes will now be str\n",
    "            comp6 = re.compile(b'\\$1')\n",
    "            if comp6.findall(author):\n",
    "                if author == b'Dialexeis  ($1*DISSOI\\\\ LO/GOI)':\n",
    "                    author = 'Dialexeis (Δισσοὶ λόγοι)'\n",
    "                elif author == b'Dionysius $1*METAQE/MENOS Phil.':\n",
    "                    author = 'Dionysius Μεταθέμενος Phil.'\n",
    "                elif author == b'Lexicon $1AI(MWDEI=N':\n",
    "                    author = 'Lexicon αἱμωδεῖν'\n",
    "\n",
    "            # convert to str for final stuff\n",
    "            _id = _id.decode('utf_8')\n",
    "            if type(author) is bytes:\n",
    "                author = author.decode('utf_8')                \n",
    "\n",
    "\n",
    "            if '+' in author:\n",
    "                author = author.replace('e+', 'ë')\n",
    "                author = author.replace('i+', 'ï')\n",
    "            \n",
    "            yield (_id, author)"
   ]
  },
  {
   "cell_type": "code",
   "execution_count": 5,
   "metadata": {
    "collapsed": false,
    "scrolled": false
   },
   "outputs": [],
   "source": [
    "id_author_dict = {}\n",
    "for k, v in make_id_author_pairs():\n",
    "    id_author_dict[k] = v\n",
    "\n",
    "write_dir = os.path.expanduser('~/cltk/cltk/corpus/greek/tlg')\n",
    "write_path = os.path.join(write_dir, 'id_author.json')\n",
    "with open(write_path, 'w') as file_open:\n",
    "    json.dump(id_author_dict, file_open, sort_keys=True, indent=4, separators=(',', ': '))"
   ]
  }
 ],
 "metadata": {
  "kernelspec": {
   "display_name": "Python 3",
   "language": "python",
   "name": "python3"
  },
  "language_info": {
   "codemirror_mode": {
    "name": "ipython",
    "version": 3
   },
   "file_extension": ".py",
   "mimetype": "text/x-python",
   "name": "python",
   "nbconvert_exporter": "python",
   "pygments_lexer": "ipython3",
   "version": "3.4.3"
  }
 },
 "nbformat": 4,
 "nbformat_minor": 0
}
