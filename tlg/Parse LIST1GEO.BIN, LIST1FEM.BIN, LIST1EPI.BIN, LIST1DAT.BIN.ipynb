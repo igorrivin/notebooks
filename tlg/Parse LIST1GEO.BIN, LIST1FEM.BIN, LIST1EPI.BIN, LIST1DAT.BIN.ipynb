{
 "cells": [
  {
   "cell_type": "code",
   "execution_count": 1,
   "metadata": {
    "collapsed": true
   },
   "outputs": [],
   "source": [
    "# JSON taken from https://github.com/smargh/Classical-Studies-Resources\n",
    "\n",
    "# Also parses LIST2GEO.BIN, LIST2FEM.BIN, etc., through LIST4GEO.BIN\n",
    "import json\n",
    "import os\n",
    "from pprint import pprint"
   ]
  },
  {
   "cell_type": "code",
   "execution_count": 2,
   "metadata": {
    "collapsed": true
   },
   "outputs": [],
   "source": [
    "tlg_json = {'author_date': 'tlg_authors_by_date.json',\n",
    "            'author_epithet': 'tlg_authors_by_epithet.json',\n",
    "            'author_geo': 'tlg_authors_by_geography.json',\n",
    "            'author_female': 'tlg_authors_by_sex.json'\n",
    "           }"
   ]
  },
  {
   "cell_type": "code",
   "execution_count": 3,
   "metadata": {
    "collapsed": false
   },
   "outputs": [],
   "source": [
    "for file, path in tlg_json.items():\n",
    "    _dir = os.path.expanduser('~/Classical-Studies-Resources/')\n",
    "    full_path = os.path.join(_dir, path)\n",
    "    with open(full_path) as file_open:\n",
    "        tlg_data = json.load(file_open)\n",
    "    \n",
    "    write_dir = os.path.expanduser('~/cltk/cltk/corpus/greek/tlg')\n",
    "    write_path = os.path.join(write_dir, file + '.json')\n",
    "    with open(write_path, 'w') as file_open:\n",
    "        json.dump(tlg_data, file_open, sort_keys=True, indent=4, separators=(',', ': '))"
   ]
  }
 ],
 "metadata": {
  "kernelspec": {
   "display_name": "Python 3",
   "language": "python",
   "name": "python3"
  },
  "language_info": {
   "codemirror_mode": {
    "name": "ipython",
    "version": 3
   },
   "file_extension": ".py",
   "mimetype": "text/x-python",
   "name": "python",
   "nbconvert_exporter": "python",
   "pygments_lexer": "ipython3",
   "version": "3.4.3"
  }
 },
 "nbformat": 4,
 "nbformat_minor": 0
}
