{
 "cells": [
  {
   "cell_type": "code",
   "execution_count": 1,
   "metadata": {
    "collapsed": true
   },
   "outputs": [],
   "source": [
    "from cltk.corpus.utils.formatter import assemble_phi5_author_filepaths\n",
    "from cltk.corpus.utils.formatter import assemble_tlg_author_filepaths\n",
    "from cltk.corpus.utils.formatter import phi5_plaintext_cleanup\n",
    "from cltk.corpus.utils.formatter import tlg_plaintext_cleanup\n",
    "from cltk.stem.latin.j_v import JVReplacer\n",
    "from cltk.stem.lemma import LemmaReplacer\n",
    "from collections import Counter\n",
    "from itertools import groupby\n",
    "from nltk.tokenize.punkt import PunktLanguageVars\n",
    "from operator import itemgetter\n",
    "import os"
   ]
  },
  {
   "cell_type": "code",
   "execution_count": 2,
   "metadata": {
    "collapsed": true
   },
   "outputs": [],
   "source": [
    "def get_lemmata(corpus):\n",
    "    assert corpus in ['phi5', 'tlg']\n",
    "    if corpus == 'phi5':\n",
    "        files_list = assemble_phi5_author_filepaths()\n",
    "        lemmatizer = LemmaReplacer('latin')\n",
    "    elif corpus == 'tlg':\n",
    "        files_list = assemble_tlg_author_filepaths()\n",
    "        lemmatizer = LemmaReplacer('greek')\n",
    "    j = JVReplacer()\n",
    "    p = PunktLanguageVars()\n",
    "    #all_tokens = []\n",
    "    #files_list = files_list[:5]  # for testing\n",
    "    for path in files_list:\n",
    "        #tokens = []\n",
    "        with open(path) as f:\n",
    "            raw_text = f.read()\n",
    "        if corpus == 'phi5':\n",
    "            text = phi5_plaintext_cleanup(raw_text)\n",
    "        elif corpus == 'tlg':\n",
    "            text = tlg_plaintext_cleanup(raw_text)\n",
    "        chars = [chars for chars in text if chars not in [',', '.', ';', ':', '\"', \"'\", '?', '-', '!', '*', '[', ']', '{', '}', '#', '%', '(', ')', '/', '&', '“', '”']]\n",
    "        text = ''.join(chars)\n",
    "        tokens = p.word_tokenize(text.lower())\n",
    "        tokens = [j.replace(word) for word in tokens]\n",
    "        lemmata = [lemmatizer.lemmatize(x)[0] for x in tokens]\n",
    "        yield lemmata"
   ]
  },
  {
   "cell_type": "markdown",
   "metadata": {},
   "source": [
    "# Latin"
   ]
  },
  {
   "cell_type": "code",
   "execution_count": 3,
   "metadata": {
    "collapsed": false
   },
   "outputs": [
    {
     "name": "stderr",
     "output_type": "stream",
     "text": [
      "INFO:CLTK:Loading lemmata. This may take a minute.\n"
     ]
    }
   ],
   "source": [
    "lemmata = get_lemmata('phi5')\n",
    "\n",
    "lemmata_list = []\n",
    "for x in lemmata:\n",
    "    lemmata_list += x\n",
    "\n",
    "count_lemmata = Counter(lemmata_list)\n",
    "lemma_mc = count_lemmata.most_common(10000)\n",
    "\n",
    "lemma_file_rel = '~/cltk_data/user_data/latin_lemma_most_common.txt'\n",
    "lemma_file = os.path.expanduser(lemma_file_rel)\n",
    "\n",
    "# empty file if exists\n",
    "if os.path.exists(lemma_file):\n",
    "    with open(lemma_file, 'w') as fo:\n",
    "        fo.write('')\n",
    "\n",
    "with open(lemma_file, 'a') as fo:\n",
    "    for pair in lemma_mc:\n",
    "        lemma = pair[0]\n",
    "        count = pair[1]\n",
    "        line = lemma + '\\t' + str(count) + '\\n'\n",
    "        fo.write(line)"
   ]
  },
  {
   "cell_type": "markdown",
   "metadata": {},
   "source": [
    "# Greek"
   ]
  },
  {
   "cell_type": "code",
   "execution_count": 4,
   "metadata": {
    "collapsed": false
   },
   "outputs": [
    {
     "name": "stderr",
     "output_type": "stream",
     "text": [
      "INFO:CLTK:Loading lemmata. This may take a minute.\n"
     ]
    }
   ],
   "source": [
    "lemmata = get_lemmata('tlg')\n",
    "\n",
    "lemmata_list = []\n",
    "for x in lemmata:\n",
    "    lemmata_list += x\n",
    "\n",
    "count_lemmata = Counter(lemmata_list)\n",
    "lemma_mc = count_lemmata.most_common(10000)\n",
    "\n",
    "lemma_file_rel = '~/cltk_data/user_data/greek_lemma_most_common.txt'\n",
    "lemma_file = os.path.expanduser(lemma_file_rel)\n",
    "\n",
    "# empty file if exists\n",
    "if os.path.exists(lemma_file):\n",
    "    with open(lemma_file, 'w') as fo:\n",
    "        fo.write('')\n",
    "\n",
    "with open(lemma_file, 'a') as fo:\n",
    "    for pair in lemma_mc:\n",
    "        lemma = pair[0]\n",
    "        count = pair[1]\n",
    "        line = lemma + '\\t' + str(count) + '\\n'\n",
    "        fo.write(line)"
   ]
  }
 ],
 "metadata": {
  "kernelspec": {
   "display_name": "Python 3",
   "language": "python",
   "name": "python3"
  },
  "language_info": {
   "codemirror_mode": {
    "name": "ipython",
    "version": 3
   },
   "file_extension": ".py",
   "mimetype": "text/x-python",
   "name": "python",
   "nbconvert_exporter": "python",
   "pygments_lexer": "ipython3",
   "version": "3.4.3"
  }
 },
 "nbformat": 4,
 "nbformat_minor": 0
}
