{
 "cells": [
  {
   "cell_type": "code",
   "execution_count": 2,
   "metadata": {
    "collapsed": true
   },
   "outputs": [],
   "source": [
    "from cltk.corpus.utils.formatter import assemble_phi5_author_filepaths\n",
    "from cltk.corpus.utils.formatter import assemble_tlg_author_filepaths\n",
    "from cltk.corpus.utils.formatter import phi5_plaintext_cleanup\n",
    "from cltk.corpus.utils.formatter import tlg_plaintext_cleanup\n",
    "from cltk.stem.latin.j_v import JVReplacer\n",
    "from cltk.stem.lemma import LemmaReplacer\n",
    "from cltk.stop.greek.stops import STOPS_LIST as greek_stops\n",
    "from cltk.stop.latin.stops import STOPS_LIST as latin_stops\n",
    "from nltk.tokenize.punkt import PunktLanguageVars\n",
    "from cltk.tokenize.sentence import TokenizeSentence\n",
    "from gensim.models import Doc2Vec\n",
    "import logging\n",
    "import os\n",
    "import time\n",
    "\n",
    "logging.basicConfig(format='%(asctime)s : %(levelname)s : %(message)s', level=logging.INFO)"
   ]
  },
  {
   "cell_type": "code",
   "execution_count": 3,
   "metadata": {
    "collapsed": false
   },
   "outputs": [],
   "source": [
    "def gen_docs_bow(corpus, lemmatize, rm_stops, testing):\n",
    "    \"\"\"This returns a list of tokenized words for an entire document; no sentence tokenization.\"\"\"\n",
    "    punkt = PunktLanguageVars()\n",
    "    if corpus == 'phi5':\n",
    "        language = 'latin'\n",
    "        filepaths = assemble_phi5_author_filepaths()\n",
    "        jv_replacer = JVReplacer()\n",
    "        text_cleaner = phi5_plaintext_cleanup\n",
    "        if rm_stops:\n",
    "            stops = latin_stops\n",
    "        else:\n",
    "            stops = None\n",
    "    elif corpus == 'tlg':\n",
    "        language = 'greek'\n",
    "        filepaths = assemble_tlg_author_filepaths()\n",
    "        text_cleaner = tlg_plaintext_cleanup\n",
    "        if rm_stops:\n",
    "            stops = latin_stops\n",
    "        else:\n",
    "            stops = None\n",
    "    if lemmatize:\n",
    "        lemmatizer = LemmaReplacer(language)        \n",
    "    if testing:\n",
    "        filepaths = filepaths[:20]\n",
    "\n",
    "    sent_tokenizer = TokenizeSentence(language)\n",
    "\n",
    "    for filepath in filepaths:\n",
    "        with open(filepath) as f:\n",
    "            text = f.read()\n",
    "\n",
    "        text = text_cleaner(text, rm_punctuation=True, rm_periods=True)\n",
    "        words = punkt.word_tokenize(text)\n",
    "        words = [w.lower() for w in words]\n",
    "        words = [w for w in words if w]\n",
    "\n",
    "        if stops:\n",
    "            words = [w for w in words if w not in stops]\n",
    "        words = [w for w in words if len(w) > 1]  # rm short words\n",
    "\n",
    "        if words:\n",
    "            words = words\n",
    "        if words and language == 'latin':\n",
    "            words = [jv_replacer.replace(word) for word in words]\n",
    "        if lemmatize:\n",
    "            words = lemmatizer.lemmatize(words)\n",
    "        \n",
    "        # dirty hack to ch incorrect 'edo1' lemmas\n",
    "        new_words = []\n",
    "        for word in words:\n",
    "            if word == 'edo1':\n",
    "                word = 'sum1'\n",
    "            new_words.append(word)\n",
    "\n",
    "        yield new_words"
   ]
  },
  {
   "cell_type": "code",
   "execution_count": 10,
   "metadata": {
    "collapsed": false
   },
   "outputs": [
    {
     "name": "stdout",
     "output_type": "stream",
     "text": [
      "['nam', 'ut', 'aliis', 'plerumque', 'obuenienti', 'magistratu', 'ob', 'metum', 'statuae', 'polliceantur', 'nunc', 'quod', 'ad', 'illum', 'attinet', 'quirites', 'quoniam', 'se', 'ampliorem', 'putat', 'esse', 'si', 'se', 'mihi', 'inimicum', 'dictitarit', 'quem', 'ego', 'mihi', 'neque', 'amicum', 'recipio', 'neque', 'inimicum', 'respicio', 'in', 'eum', 'ego', 'non', 'sum', 'plura', 'dicturus', 'nam', 'cum', 'indignissimum', 'arbitror', 'cui', 'uiris', 'bonis', 'benedicatur', 'tum', 'ne', 'idoneum', 'quidem', 'cui', 'probis', 'maledicatur', 'nam', 'si', 'in', 'eo', 'tempore', 'huiusmodi', 'homunculum', 'nomines', 'in', 'quo', 'punire', 'non', 'possis', 'maiore', 'honore', 'quam', 'contumelia', 'adficias', 'qua', 'in', 're', 'quanto', 'uniuersi', 'me', 'unum', 'antistatis', 'tanto', 'uobis', 'quam', 'mihi', 'maiorem', 'iniuriam', 'atque', 'contumeliam', 'facit', 'quirites', 'et', 'quanto', 'probi', 'iniuriam', 'facilius', 'accipiunt', 'quam', 'alteri', 'tradunt', 'tanto', 'ille', 'uobis', 'quam', 'mihi', 'peiorem', 'honorem', 'habuit', 'nam', 'me', 'iniuriam', 'ferre', 'uos', 'facere', 'uult', 'quirites', 'ut', 'hic', 'conquestio', 'istic', 'uituperatio', 'relinquatur', 'cum', 'sese', 'sciret', 'in', 'tantum', 'crimen', 'uenisse', 'atque', 'socios', 'ad', 'senatum', 'questum', 'flentes', 'uenisse', 'sese', 'pecunias', 'maximas', 'exactos', 'esse']\n",
      "\n"
     ]
    },
    {
     "ename": "AttributeError",
     "evalue": "'str' object has no attribute 'words'",
     "output_type": "error",
     "traceback": [
      "\u001b[0;31m---------------------------------------------------------------------------\u001b[0m",
      "\u001b[0;31mAttributeError\u001b[0m                            Traceback (most recent call last)",
      "\u001b[0;32m<ipython-input-10-c49de72768dc>\u001b[0m in \u001b[0;36m<module>\u001b[0;34m()\u001b[0m\n\u001b[1;32m     10\u001b[0m     \u001b[0minput\u001b[0m\u001b[0;34m(\u001b[0m\u001b[0;34m)\u001b[0m\u001b[0;34m\u001b[0m\u001b[0m\n\u001b[1;32m     11\u001b[0m     \u001b[0mvocab_counter\u001b[0m \u001b[0;34m+=\u001b[0m \u001b[0;36m1\u001b[0m\u001b[0;34m\u001b[0m\u001b[0m\n\u001b[0;32m---> 12\u001b[0;31m     \u001b[0mmodel\u001b[0m\u001b[0;34m.\u001b[0m\u001b[0mbuild_vocab\u001b[0m\u001b[0;34m(\u001b[0m\u001b[0mdoc\u001b[0m\u001b[0;34m)\u001b[0m\u001b[0;34m\u001b[0m\u001b[0m\n\u001b[0m\u001b[1;32m     13\u001b[0m     \u001b[0;32mif\u001b[0m \u001b[0mvocab_counter\u001b[0m \u001b[0;34m%\u001b[0m \u001b[0malert_per_processed\u001b[0m \u001b[0;34m==\u001b[0m \u001b[0;36m0\u001b[0m\u001b[0;34m:\u001b[0m\u001b[0;34m\u001b[0m\u001b[0m\n\u001b[1;32m     14\u001b[0m         \u001b[0mprint\u001b[0m\u001b[0;34m(\u001b[0m\u001b[0;34m'Building vocab:'\u001b[0m\u001b[0;34m,\u001b[0m \u001b[0mvocab_counter\u001b[0m\u001b[0;34m)\u001b[0m\u001b[0;34m\u001b[0m\u001b[0m\n",
      "\u001b[0;32m/Users/kyle/cltk/venv/lib/python3.4/site-packages/gensim/models/word2vec.py\u001b[0m in \u001b[0;36mbuild_vocab\u001b[0;34m(self, sentences)\u001b[0m\n\u001b[1;32m    397\u001b[0m         \"\"\"\n\u001b[1;32m    398\u001b[0m         \u001b[0mlogger\u001b[0m\u001b[0;34m.\u001b[0m\u001b[0minfo\u001b[0m\u001b[0;34m(\u001b[0m\u001b[0;34m\"collecting all words and their counts\"\u001b[0m\u001b[0;34m)\u001b[0m\u001b[0;34m\u001b[0m\u001b[0m\n\u001b[0;32m--> 399\u001b[0;31m         \u001b[0mvocab\u001b[0m \u001b[0;34m=\u001b[0m \u001b[0mself\u001b[0m\u001b[0;34m.\u001b[0m\u001b[0m_vocab_from\u001b[0m\u001b[0;34m(\u001b[0m\u001b[0msentences\u001b[0m\u001b[0;34m)\u001b[0m\u001b[0;34m\u001b[0m\u001b[0m\n\u001b[0m\u001b[1;32m    400\u001b[0m         \u001b[0;31m# assign a unique index to each word\u001b[0m\u001b[0;34m\u001b[0m\u001b[0;34m\u001b[0m\u001b[0m\n\u001b[1;32m    401\u001b[0m         \u001b[0mself\u001b[0m\u001b[0;34m.\u001b[0m\u001b[0mvocab\u001b[0m\u001b[0;34m,\u001b[0m \u001b[0mself\u001b[0m\u001b[0;34m.\u001b[0m\u001b[0mindex2word\u001b[0m \u001b[0;34m=\u001b[0m \u001b[0;34m{\u001b[0m\u001b[0;34m}\u001b[0m\u001b[0;34m,\u001b[0m \u001b[0;34m[\u001b[0m\u001b[0;34m]\u001b[0m\u001b[0;34m\u001b[0m\u001b[0m\n",
      "\u001b[0;32m/Users/kyle/cltk/venv/lib/python3.4/site-packages/gensim/models/doc2vec.py\u001b[0m in \u001b[0;36m_vocab_from\u001b[0;34m(sentences)\u001b[0m\n\u001b[1;32m    198\u001b[0m                 logger.info(\"PROGRESS: at item #%i, processed %i words and %i word types\" %\n\u001b[1;32m    199\u001b[0m                             (sentence_no, total_words, len(vocab)))\n\u001b[0;32m--> 200\u001b[0;31m             \u001b[0msentence_length\u001b[0m \u001b[0;34m=\u001b[0m \u001b[0mlen\u001b[0m\u001b[0;34m(\u001b[0m\u001b[0msentence\u001b[0m\u001b[0;34m.\u001b[0m\u001b[0mwords\u001b[0m\u001b[0;34m)\u001b[0m\u001b[0;34m\u001b[0m\u001b[0m\n\u001b[0m\u001b[1;32m    201\u001b[0m             \u001b[0;32mfor\u001b[0m \u001b[0mlabel\u001b[0m \u001b[0;32min\u001b[0m \u001b[0msentence\u001b[0m\u001b[0;34m.\u001b[0m\u001b[0mlabels\u001b[0m\u001b[0;34m:\u001b[0m\u001b[0;34m\u001b[0m\u001b[0m\n\u001b[1;32m    202\u001b[0m                 \u001b[0mtotal_words\u001b[0m \u001b[0;34m+=\u001b[0m \u001b[0;36m1\u001b[0m\u001b[0;34m\u001b[0m\u001b[0m\n",
      "\u001b[0;31mAttributeError\u001b[0m: 'str' object has no attribute 'words'"
     ]
    }
   ],
   "source": [
    "model = Doc2Vec(sentences=None, size=100, window=8, min_count=5, workers=4)\n",
    "#, size=size, window=window, min_count=min_count, workers=workers, sg=sg\n",
    "\n",
    "docs = gen_docs_bow('phi5', lemmatize=False, rm_stops=False, testing=True)\n",
    "\n",
    "vocab_counter = 0\n",
    "alert_per_processed = 100\n",
    "for doc in docs:\n",
    "    print(doc)\n",
    "    input()\n",
    "    vocab_counter += 1\n",
    "    model.build_vocab(doc)\n",
    "    if vocab_counter % alert_per_processed == 0:\n",
    "        print('Building vocab:', vocab_counter)\n",
    "\n",
    "docs = gen_docs(corpus, lemmatize=lemmatize, rm_stops=rm_stops, testing=testing)\n",
    "train_counter = 0\n",
    "for doc in docs:\n",
    "    train_counter += 1\n",
    "    try:\n",
    "        model.train(doc)\n",
    "    except Exception as e:\n",
    "        print(e)\n",
    "    if train_counter % alert_per_processed == 0:\n",
    "        print('Training model:', train_counter)\n",
    "\n",
    "model.init_sims(replace=True)\n",
    "if save_path:\n",
    "    save_path = os.path.expanduser(save_path)\n",
    "    model.save(save_path)"
   ]
  },
  {
   "cell_type": "code",
   "execution_count": null,
   "metadata": {
    "collapsed": true
   },
   "outputs": [],
   "source": []
  }
 ],
 "metadata": {
  "kernelspec": {
   "display_name": "Python 3",
   "language": "python",
   "name": "python3"
  },
  "language_info": {
   "codemirror_mode": {
    "name": "ipython",
    "version": 3
   },
   "file_extension": ".py",
   "mimetype": "text/x-python",
   "name": "python",
   "nbconvert_exporter": "python",
   "pygments_lexer": "ipython3",
   "version": "3.4.3"
  }
 },
 "nbformat": 4,
 "nbformat_minor": 0
}
