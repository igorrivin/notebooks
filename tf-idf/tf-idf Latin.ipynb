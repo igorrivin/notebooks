{
 "cells": [
  {
   "cell_type": "code",
   "execution_count": 6,
   "metadata": {
    "collapsed": false
   },
   "outputs": [],
   "source": [
    "import re\n",
    "import time\n",
    "\n",
    "from cltk.corpus.utils.formatter import assemble_phi5_works_filepaths\n",
    "from cltk.corpus.utils.formatter import phi5_plaintext_cleanup\n",
    "from sklearn.feature_extraction.text import TfidfVectorizer\n",
    "import pandas as pd"
   ]
  },
  {
   "cell_type": "code",
   "execution_count": 2,
   "metadata": {
    "collapsed": true
   },
   "outputs": [],
   "source": [
    "def works_texts_list():\n",
    "    fps = assemble_phi5_works_filepaths()\n",
    "    curly_comp = re.compile(r'{.+?}')\n",
    "    _list = []\n",
    "    for fp in fps:\n",
    "        with open(fp) as fo:\n",
    "            fr = fo.read()\n",
    "        text = phi5_plaintext_cleanup(fr, rm_punctuation=True, rm_periods=True)\n",
    "        text = curly_comp.sub('', text)\n",
    "        _list.append(text)\n",
    "    return _list"
   ]
  },
  {
   "cell_type": "code",
   "execution_count": 3,
   "metadata": {
    "collapsed": false
   },
   "outputs": [],
   "source": [
    "t0 = time.time()\n",
    "my_phrases = works_texts_list()\n",
    "print('Time to build list of texts: {}'.format(time.time() - t0))"
   ]
  },
  {
   "cell_type": "code",
   "execution_count": 5,
   "metadata": {
    "collapsed": true
   },
   "outputs": [],
   "source": [
    "t1 = time.time()\n",
    "vectorizer = TfidfVectorizer(min_df=1)\n",
    "my_features = vectorizer.fit_transform(my_phrases)\n",
    "feature_words = vectorizer.get_feature_names()\n",
    "print('Time to create vectorizer: {}'.format(time.time() - t1))"
   ]
  },
  {
   "cell_type": "code",
   "execution_count": 7,
   "metadata": {
    "collapsed": false
   },
   "outputs": [
    {
     "name": "stdout",
     "output_type": "stream",
     "text": [
      "Time to load scores into pandas: 201.71255683898926\n"
     ]
    }
   ],
   "source": [
    "t2 = time.time()\n",
    "D = {}\n",
    "for doc_index, weights in enumerate(my_features.A):\n",
    "    D[doc_index] = pd.Series(weights, index=feature_words)\n",
    "df = pd.DataFrame(D)\n",
    "\n",
    "df_t = df.transpose()\n",
    "print('Time to load scores into pandas: {}'.format(time.time() - t2))"
   ]
  },
  {
   "cell_type": "code",
   "execution_count": 8,
   "metadata": {
    "collapsed": false
   },
   "outputs": [
    {
     "data": {
      "text/plain": [
       "(836, 318869)"
      ]
     },
     "execution_count": 8,
     "metadata": {},
     "output_type": "execute_result"
    }
   ],
   "source": [
    "df_t.shape"
   ]
  },
  {
   "cell_type": "code",
   "execution_count": null,
   "metadata": {
    "collapsed": true
   },
   "outputs": [],
   "source": []
  }
 ],
 "metadata": {
  "kernelspec": {
   "display_name": "Python 3",
   "language": "python",
   "name": "python3"
  },
  "language_info": {
   "codemirror_mode": {
    "name": "ipython",
    "version": 3
   },
   "file_extension": ".py",
   "mimetype": "text/x-python",
   "name": "python",
   "nbconvert_exporter": "python",
   "pygments_lexer": "ipython3",
   "version": "3.5.0"
  }
 },
 "nbformat": 4,
 "nbformat_minor": 0
}
