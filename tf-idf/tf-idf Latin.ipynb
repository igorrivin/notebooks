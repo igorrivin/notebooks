{
 "cells": [
  {
   "cell_type": "code",
   "execution_count": 1,
   "metadata": {
    "collapsed": false
   },
   "outputs": [],
   "source": [
    "import os\n",
    "import re\n",
    "import time\n",
    "\n",
    "from cltk.corpus.utils.formatter import assemble_phi5_works_filepaths\n",
    "from cltk.corpus.utils.formatter import phi5_plaintext_cleanup\n",
    "from sklearn.feature_extraction.text import CountVectorizer\n",
    "from sklearn.feature_extraction.text import TfidfVectorizer\n",
    "import pandas as pd"
   ]
  },
  {
   "cell_type": "code",
   "execution_count": 2,
   "metadata": {
    "collapsed": true
   },
   "outputs": [],
   "source": [
    "def works_texts_list():\n",
    "    fps = assemble_phi5_works_filepaths()\n",
    "    curly_comp = re.compile(r'{.+?}')\n",
    "    _list = []\n",
    "    for fp in fps:\n",
    "        with open(fp) as fo:\n",
    "            fr = fo.read()\n",
    "        text = phi5_plaintext_cleanup(fr, rm_punctuation=True, rm_periods=True)\n",
    "        text = curly_comp.sub('', text)\n",
    "        _list.append(text)\n",
    "    return _list"
   ]
  },
  {
   "cell_type": "code",
   "execution_count": 3,
   "metadata": {
    "collapsed": false
   },
   "outputs": [
    {
     "name": "stdout",
     "output_type": "stream",
     "text": [
      "Time to build list of texts: 76.1740050315857\n"
     ]
    }
   ],
   "source": [
    "t0 = time.time()\n",
    "text_list = works_texts_list()\n",
    "print('Total texts', len(text_list))\n",
    "print('Time to build list of texts: {}'.format(time.time() - t0))"
   ]
  },
  {
   "cell_type": "code",
   "execution_count": 5,
   "metadata": {
    "collapsed": true
   },
   "outputs": [],
   "source": [
    "# bag of words\n",
    "def bow_csv():\n",
    "    t0 = time.time()\n",
    "    vectorizer = CountVectorizer(min_df=1)\n",
    "    term_document_matrix = vectorizer.fit_transform(text_list)\n",
    "    dataframe_bow = pd.DataFrame(term_document_matrix.toarray(), columns=vectorizer.get_feature_names())\n",
    "    print('DF BOW shape', dataframe_bow.shape)\n",
    "\n",
    "    fp = os.path.expanduser('~/cltk_data/user_data/bow_latin.csv')\n",
    "    dataframe_bow.to_csv(fp)\n",
    "    print('Time to create BOW vectorizer and write csv: {}'.format(time.time() - t0))"
   ]
  },
  {
   "cell_type": "code",
   "execution_count": 7,
   "metadata": {
    "collapsed": true
   },
   "outputs": [],
   "source": [
    "# tf-idf\n",
    "def tfidf_csv():\n",
    "    t0 = time.time()\n",
    "    vectorizer = TfidfVectorizer(min_df=1)\n",
    "    term_document_matrix = vectorizer.fit_transform(text_list)\n",
    "    dataframe_tfidf = pd.DataFrame(term_document_matrix.toarray(), columns=vectorizer.get_feature_names())\n",
    "    print('DF tf-idf shape', dataframe_tfidf.shape)\n",
    "    \n",
    "    fp = os.path.expanduser('~/cltk_data/user_data/tfidf_latin.csv')\n",
    "    dataframe_tfidf.to_csv(fp)\n",
    "    print('Time to create tf-idf vectorizer and write csv: {}'.format(time.time() - t0))"
   ]
  },
  {
   "cell_type": "code",
   "execution_count": 6,
   "metadata": {
    "collapsed": false
   },
   "outputs": [],
   "source": [
    "#bow_csv()"
   ]
  },
  {
   "cell_type": "code",
   "execution_count": 8,
   "metadata": {
    "collapsed": false
   },
   "outputs": [
    {
     "name": "stdout",
     "output_type": "stream",
     "text": [
      "DF tf-idf shape (836, 318869)\n",
      "Time to create tf-idf vectorizer and write csv: 827.4702050685883\n"
     ]
    }
   ],
   "source": [
    "tfidf_csv2()"
   ]
  },
  {
   "cell_type": "code",
   "execution_count": null,
   "metadata": {
    "collapsed": true
   },
   "outputs": [],
   "source": []
  }
 ],
 "metadata": {
  "kernelspec": {
   "display_name": "Python 3",
   "language": "python",
   "name": "python3"
  },
  "language_info": {
   "codemirror_mode": {
    "name": "ipython",
    "version": 3
   },
   "file_extension": ".py",
   "mimetype": "text/x-python",
   "name": "python",
   "nbconvert_exporter": "python",
   "pygments_lexer": "ipython3",
   "version": "3.5.0"
  }
 },
 "nbformat": 4,
 "nbformat_minor": 0
}
