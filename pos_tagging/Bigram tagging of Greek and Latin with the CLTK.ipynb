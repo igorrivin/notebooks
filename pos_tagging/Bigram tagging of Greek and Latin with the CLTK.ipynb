{
 "metadata": {
  "name": "",
  "signature": "sha256:24559e61959b81f872df71fe256d572cc960cc1273a5bce25d4fc9993e3357cf"
 },
 "nbformat": 3,
 "nbformat_minor": 0,
 "worksheets": [
  {
   "cells": [
    {
     "cell_type": "markdown",
     "metadata": {},
     "source": [
      "The following is an evaluation of `BigramTagger`, one the simpler taggers offered by the NLTK."
     ]
    },
    {
     "cell_type": "heading",
     "level": 1,
     "metadata": {},
     "source": [
      "Ancient Greek"
     ]
    },
    {
     "cell_type": "markdown",
     "metadata": {},
     "source": [
      "To replicate this, clone https://github.com/cltk/greek_treebank_perseus and copy the `.pos` into your current directory, naming it `greek_training_set.pos`."
     ]
    },
    {
     "cell_type": "code",
     "collapsed": false,
     "input": [
      "from nltk.corpus.reader import TaggedCorpusReader\n",
      "from nltk.tag import BigramTagger\n",
      "from nltk.tokenize import wordpunct_tokenize"
     ],
     "language": "python",
     "metadata": {},
     "outputs": [],
     "prompt_number": 1
    },
    {
     "cell_type": "code",
     "collapsed": false,
     "input": [
      "reader = TaggedCorpusReader('.', 'greek_training_set.pos')\n",
      "train_sents = reader.tagged_sents()"
     ],
     "language": "python",
     "metadata": {},
     "outputs": [],
     "prompt_number": 2
    },
    {
     "cell_type": "code",
     "collapsed": false,
     "input": [
      "tagger = BigramTagger(train_sents)\n",
      "tagger.evaluate(train_sents)"
     ],
     "language": "python",
     "metadata": {},
     "outputs": [
      {
       "metadata": {},
       "output_type": "pyout",
       "prompt_number": 3,
       "text": [
        "0.8125528866223641"
       ]
      }
     ],
     "prompt_number": 3
    },
    {
     "cell_type": "heading",
     "level": 1,
     "metadata": {},
     "source": [
      "Latin"
     ]
    },
    {
     "cell_type": "markdown",
     "metadata": {},
     "source": [
      "To replicate this, clone https://github.com/cltk/latin_treebank_perseus and copy the `.pos` into your current directory, naming it `latin_training_set.pos`."
     ]
    },
    {
     "cell_type": "code",
     "collapsed": false,
     "input": [
      "reader = TaggedCorpusReader('.', 'latin_training_set.pos')\n",
      "train_sents = reader.tagged_sents()"
     ],
     "language": "python",
     "metadata": {},
     "outputs": [],
     "prompt_number": 4
    },
    {
     "cell_type": "code",
     "collapsed": false,
     "input": [
      "tagger = BigramTagger(train_sents)\n",
      "tagger.evaluate(train_sents)"
     ],
     "language": "python",
     "metadata": {},
     "outputs": [
      {
       "metadata": {},
       "output_type": "pyout",
       "prompt_number": 5,
       "text": [
        "0.7211862333703404"
       ]
      }
     ],
     "prompt_number": 5
    }
   ],
   "metadata": {}
  }
 ]
}