{
 "metadata": {
  "name": "",
  "signature": "sha256:55c9331044831787fd4e4a01771edeea9083a9983dc784e87be22fcf88a0f209"
 },
 "nbformat": 3,
 "nbformat_minor": 0,
 "worksheets": [
  {
   "cells": [
    {
     "cell_type": "markdown",
     "metadata": {},
     "source": [
      "The following is an evaluation of `UnigramTagger`, one the simpler taggers offered by the NLTK."
     ]
    },
    {
     "cell_type": "heading",
     "level": 1,
     "metadata": {},
     "source": [
      "Ancient Greek"
     ]
    },
    {
     "cell_type": "markdown",
     "metadata": {},
     "source": [
      "To replicate this, clone https://github.com/cltk/greek_treebank_perseus and copy the `.pos` into your current directory, naming it `greek_training_set.pos`."
     ]
    },
    {
     "cell_type": "code",
     "collapsed": false,
     "input": [
      "from nltk.corpus.reader import TaggedCorpusReader\n",
      "from nltk.tag import UnigramTagger\n",
      "from nltk.tokenize import wordpunct_tokenize"
     ],
     "language": "python",
     "metadata": {},
     "outputs": [],
     "prompt_number": 1
    },
    {
     "cell_type": "code",
     "collapsed": false,
     "input": [
      "reader = TaggedCorpusReader('.', 'greek_training_set.pos')\n",
      "train_sents = reader.tagged_sents()"
     ],
     "language": "python",
     "metadata": {},
     "outputs": [],
     "prompt_number": 2
    },
    {
     "cell_type": "code",
     "collapsed": false,
     "input": [
      "tagger = UnigramTagger(train_sents)\n",
      "tagger.evaluate(train_sents)"
     ],
     "language": "python",
     "metadata": {},
     "outputs": [
      {
       "metadata": {},
       "output_type": "pyout",
       "prompt_number": 3,
       "text": [
        "0.9196123340065213"
       ]
      }
     ],
     "prompt_number": 3
    },
    {
     "cell_type": "heading",
     "level": 1,
     "metadata": {},
     "source": [
      "Latin"
     ]
    },
    {
     "cell_type": "markdown",
     "metadata": {},
     "source": [
      "To replicate this, clone https://github.com/cltk/latin_treebank_perseus and copy the `.pos` into your current directory, naming it `latin_training_set.pos`."
     ]
    },
    {
     "cell_type": "code",
     "collapsed": false,
     "input": [
      "reader = TaggedCorpusReader('.', 'latin_training_set.pos')\n",
      "train_sents = reader.tagged_sents()"
     ],
     "language": "python",
     "metadata": {},
     "outputs": [],
     "prompt_number": 6
    },
    {
     "cell_type": "code",
     "collapsed": false,
     "input": [
      "unigram_tagger = UnigramTagger(train_sents)\n",
      "unigram_tagger.evaluate(train_sents)"
     ],
     "language": "python",
     "metadata": {},
     "outputs": [
      {
       "metadata": {},
       "output_type": "pyout",
       "prompt_number": 8,
       "text": [
        "0.8873793350017877"
       ]
      }
     ],
     "prompt_number": 8
    }
   ],
   "metadata": {}
  }
 ]
}