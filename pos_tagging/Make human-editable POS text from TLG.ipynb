{
 "metadata": {
  "name": "",
  "signature": "sha256:62cac52a028817f7034ae7951104ce29e36dcbf5e7c3107270612b9014f64949"
 },
 "nbformat": 3,
 "nbformat_minor": 0,
 "worksheets": [
  {
   "cells": [
    {
     "cell_type": "code",
     "collapsed": false,
     "input": [
      "from cltk.tag.pos.pos_tagger import POSTag\n",
      "from cltk.tokenize.sentence.tokenize_sentences import TokenizeSentence\n",
      "import os\n",
      "import re"
     ],
     "language": "python",
     "metadata": {},
     "outputs": [],
     "prompt_number": 1
    },
    {
     "cell_type": "code",
     "collapsed": false,
     "input": [
      "def extract_tlg_work(file_path, regex_match):\n",
      "    abs_path = os.path.expanduser(file_path)\n",
      "    with open(abs_path) as f:\n",
      "        r = f.read()\n",
      "    d = re.compile(regex_match)\n",
      "    m = d.findall(r)\n",
      "    for x in m:\n",
      "        work_str = x[1]\n",
      "    return work_str"
     ],
     "language": "python",
     "metadata": {},
     "outputs": [],
     "prompt_number": 2
    },
    {
     "cell_type": "code",
     "collapsed": false,
     "input": [
      "anabasis_path = '~/cltk_data/compiled/tlg/TLG0032.txt'\n",
      "anabasis_regex = r'(@1 \\{1\u039a\u03a5\u03a1\u039f\u03a5 \u0391\u039d\u0391\u0392\u0391\u03a3\u0395\u03a9\u03a3 \u0391\\}1 @)(.*)( @1 \\{1\u039a\u03a5\u03a1\u039f\u03a5 \u03a0\u0391\u0399\u0394\u0395\u0399\u0391\u03a3 \u0391\\}1 @)'\n",
      "anabasis_raw = extract_tlg_work(anabasis_path, anabasis_regex)"
     ],
     "language": "python",
     "metadata": {},
     "outputs": [],
     "prompt_number": 3
    },
    {
     "cell_type": "code",
     "collapsed": false,
     "input": [
      "def cleanup_tlg_txt(tlg_str):\n",
      "    # fix beta code transliteration problems\n",
      "    tlg_str = re.sub(r'\u03b9\\+', '\u03ca', tlg_str)\n",
      "    tlg_str = re.sub(r'\u03af\\+', '\u0390', tlg_str)\n",
      "    tlg_str = re.sub(r'\\\\.', '.', tlg_str)\n",
      "    # fix tlg markup\n",
      "    tlg_str = re.sub(r'@1 \\{1.+?\\}1 @', '', tlg_str) #  rm book titles\n",
      "    tlg_str = re.sub(r'\\[.+?\\]', '', tlg_str) #  rm words in square brackets\n",
      "    tlg_str = re.sub(r'[0-9]', '', tlg_str)\n",
      "    tlg_str = re.sub(r'@|%|\\x00', '', tlg_str)\n",
      "    tlg_str = re.sub('\u2014', ' \u2014 ', tlg_str)\n",
      "    return tlg_str"
     ],
     "language": "python",
     "metadata": {},
     "outputs": [],
     "prompt_number": 4
    },
    {
     "cell_type": "code",
     "collapsed": false,
     "input": [
      "anabasis_clean = cleanup_tlg_txt(anabasis_raw)"
     ],
     "language": "python",
     "metadata": {},
     "outputs": [],
     "prompt_number": 5
    },
    {
     "cell_type": "code",
     "collapsed": false,
     "input": [
      "def tokenize_sentences(in_str):\n",
      "    \"\"\"tokenize into list of sentences\"\"\"\n",
      "    t = TokenizeSentence()\n",
      "    out_list = t.sentence_tokenizer(in_str, 'greek')\n",
      "    return out_list"
     ],
     "language": "python",
     "metadata": {},
     "outputs": [],
     "prompt_number": 6
    },
    {
     "cell_type": "code",
     "collapsed": false,
     "input": [
      "anabasis_sentences = tokenize_sentences(anabasis_clean)"
     ],
     "language": "python",
     "metadata": {},
     "outputs": [],
     "prompt_number": 7
    },
    {
     "cell_type": "code",
     "collapsed": false,
     "input": [
      "def append_to_file(file_name, pos_str):\n",
      "    user_data = os.path.expanduser('~/cltk_data/user_data/')\n",
      "    if not os.path.isdir(user_data):\n",
      "        os.makedirs(user_data)\n",
      "    file_name = str('pos_editable_') + str(file_name) + str('.md')\n",
      "    file_path = os.path.join(user_data, file_name)\n",
      "    with open(file_path, 'a') as f:\n",
      "        f.write(pos_str)"
     ],
     "language": "python",
     "metadata": {},
     "outputs": [],
     "prompt_number": 8
    },
    {
     "cell_type": "code",
     "collapsed": false,
     "input": [
      "def editable_pos_text(untagged_sentences):\n",
      "    \"\"\"POS tag each sentence and print text.\"\"\"\n",
      "    p = POSTag()\n",
      "    counter = 0\n",
      "    for sentence in untagged_sentences:\n",
      "        counter += 1\n",
      "        tagged_words = p.tnt_tagger(sentence, 'greek') #  ~ 6 sec. per sent\n",
      "        tags_newlines = ''\n",
      "        unknowns = [] #  mk list of untagged words\n",
      "        for tagged_word in tagged_words:\n",
      "            line = str(tagged_word) + '\\n'\n",
      "            tags_newlines = tags_newlines + line\n",
      "            if tagged_word[1] == 'Unk':\n",
      "                unknowns.append(tagged_word[0])\n",
      "        # print str of human-readable sentence\n",
      "        sent_str_out = \"\"\"## Sentence %s\n",
      "### Plaintext\n",
      "%s\n",
      "```\n",
      "### Tagged\n",
      "%s```\n",
      "### Unknown words\n",
      "%s\n",
      "### Corrected by\n",
      "['']\n",
      "\n",
      "\"\"\" % (counter, sentence, tags_newlines, unknowns)\n",
      "        append_to_file('xenophon_anabasis', sent_str_out)"
     ],
     "language": "python",
     "metadata": {},
     "outputs": [],
     "prompt_number": 9
    },
    {
     "cell_type": "code",
     "collapsed": false,
     "input": [
      "editable_pos_text(anabasis_sentences)"
     ],
     "language": "python",
     "metadata": {},
     "outputs": [],
     "prompt_number": 10
    }
   ],
   "metadata": {}
  }
 ]
}