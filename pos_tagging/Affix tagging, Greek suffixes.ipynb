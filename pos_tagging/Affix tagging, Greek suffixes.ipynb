{
 "metadata": {
  "name": "",
  "signature": "sha256:b9e4c0fded978e900476105fa3ba57e602f2c8ae9d7ff8b160ddb24a478183f0"
 },
 "nbformat": 3,
 "nbformat_minor": 0,
 "worksheets": [
  {
   "cells": [
    {
     "cell_type": "code",
     "collapsed": false,
     "input": [
      "from nltk.corpus.reader import TaggedCorpusReader\n",
      "from nltk.tag import AffixTagger\n",
      "import pickle"
     ],
     "language": "python",
     "metadata": {},
     "outputs": [],
     "prompt_number": 1
    },
    {
     "cell_type": "code",
     "collapsed": false,
     "input": [
      "#trainer\n",
      "reader = TaggedCorpusReader('.', 'greek_training_set.pos')\n",
      "train_sents = reader.tagged_sents()"
     ],
     "language": "python",
     "metadata": {},
     "outputs": [],
     "prompt_number": 2
    },
    {
     "cell_type": "heading",
     "level": 1,
     "metadata": {},
     "source": [
      "2-char suffix tagger"
     ]
    },
    {
     "cell_type": "code",
     "collapsed": false,
     "input": [
      "suffix_tagger = AffixTagger(train_sents, affix_length=-2)"
     ],
     "language": "python",
     "metadata": {},
     "outputs": [],
     "prompt_number": 3
    },
    {
     "cell_type": "code",
     "collapsed": false,
     "input": [
      "suffix_tagger.evaluate(train_sents)"
     ],
     "language": "python",
     "metadata": {},
     "outputs": [
      {
       "metadata": {},
       "output_type": "pyout",
       "prompt_number": 4,
       "text": [
        "0.20355849401464465"
       ]
      }
     ],
     "prompt_number": 4
    },
    {
     "cell_type": "heading",
     "level": 1,
     "metadata": {},
     "source": [
      "3-char suffix tagger"
     ]
    },
    {
     "cell_type": "code",
     "collapsed": false,
     "input": [
      "three_suffix_tagger = AffixTagger(train_sents, affix_length=-3)"
     ],
     "language": "python",
     "metadata": {},
     "outputs": [],
     "prompt_number": 5
    },
    {
     "cell_type": "code",
     "collapsed": false,
     "input": [
      "three_suffix_tagger.evaluate(train_sents)"
     ],
     "language": "python",
     "metadata": {},
     "outputs": [
      {
       "metadata": {},
       "output_type": "pyout",
       "prompt_number": 6,
       "text": [
        "0.2462203693883768"
       ]
      }
     ],
     "prompt_number": 6
    },
    {
     "cell_type": "heading",
     "level": 1,
     "metadata": {},
     "source": [
      "4-char suffix tagger"
     ]
    },
    {
     "cell_type": "code",
     "collapsed": false,
     "input": [
      "four_suffix_tagger = AffixTagger(train_sents, affix_length=-4)"
     ],
     "language": "python",
     "metadata": {},
     "outputs": [],
     "prompt_number": 7
    },
    {
     "cell_type": "code",
     "collapsed": false,
     "input": [
      "four_suffix_tagger.evaluate(train_sents)"
     ],
     "language": "python",
     "metadata": {},
     "outputs": [
      {
       "metadata": {},
       "output_type": "pyout",
       "prompt_number": 8,
       "text": [
        "0.23366014915437816"
       ]
      }
     ],
     "prompt_number": 8
    },
    {
     "cell_type": "heading",
     "level": 1,
     "metadata": {},
     "source": [
      "5-char suffix tagger"
     ]
    },
    {
     "cell_type": "code",
     "collapsed": false,
     "input": [
      "five_suffix_tagger = AffixTagger(train_sents, affix_length=-5)"
     ],
     "language": "python",
     "metadata": {},
     "outputs": [],
     "prompt_number": 9
    },
    {
     "cell_type": "code",
     "collapsed": false,
     "input": [
      "five_suffix_tagger.evaluate(train_sents)"
     ],
     "language": "python",
     "metadata": {},
     "outputs": [
      {
       "metadata": {},
       "output_type": "pyout",
       "prompt_number": 10,
       "text": [
        "0.18811560028431848"
       ]
      }
     ],
     "prompt_number": 10
    },
    {
     "cell_type": "heading",
     "level": 1,
     "metadata": {},
     "source": [
      "6-char suffix tagger"
     ]
    },
    {
     "cell_type": "code",
     "collapsed": false,
     "input": [
      "six_suffix_tagger = AffixTagger(train_sents, affix_length=-6)"
     ],
     "language": "python",
     "metadata": {},
     "outputs": [],
     "prompt_number": 11
    },
    {
     "cell_type": "code",
     "collapsed": false,
     "input": [
      "six_suffix_tagger.evaluate(train_sents)"
     ],
     "language": "python",
     "metadata": {},
     "outputs": [
      {
       "metadata": {},
       "output_type": "pyout",
       "prompt_number": 12,
       "text": [
        "0.1341543217537486"
       ]
      }
     ],
     "prompt_number": 12
    }
   ],
   "metadata": {}
  }
 ]
}