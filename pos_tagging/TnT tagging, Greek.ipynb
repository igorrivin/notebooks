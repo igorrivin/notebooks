{
 "metadata": {
  "name": "",
  "signature": "sha256:fb862c7a24f60e1b2d700ab8284ad2ccd61e4d3f3e1781d33289eecaa3c870ba"
 },
 "nbformat": 3,
 "nbformat_minor": 0,
 "worksheets": [
  {
   "cells": [
    {
     "cell_type": "code",
     "collapsed": false,
     "input": [
      "from nltk.corpus.reader import TaggedCorpusReader\n",
      "from nltk.tag import tnt\n",
      "import pickle"
     ],
     "language": "python",
     "metadata": {},
     "outputs": [],
     "prompt_number": 1
    },
    {
     "cell_type": "code",
     "collapsed": false,
     "input": [
      "# trainer\n",
      "reader = TaggedCorpusReader('.', 'greek_training_set.pos')\n",
      "train_sents = reader.tagged_sents()"
     ],
     "language": "python",
     "metadata": {},
     "outputs": [],
     "prompt_number": 2
    },
    {
     "cell_type": "code",
     "collapsed": false,
     "input": [
      "# tester\n",
      "test_reader = TaggedCorpusReader('.', 'greek_testing_set.pos')\n",
      "test_sents = reader.tagged_sents()"
     ],
     "language": "python",
     "metadata": {},
     "outputs": [],
     "prompt_number": 3
    },
    {
     "cell_type": "code",
     "collapsed": false,
     "input": [
      "tnt_tagger = tnt.TnT()\n",
      "tnt_tagger.train(train_sents)"
     ],
     "language": "python",
     "metadata": {},
     "outputs": [],
     "prompt_number": 4
    },
    {
     "cell_type": "code",
     "collapsed": false,
     "input": [
      "with open('greek_tnt_tagger.pickle', 'wb') as f:\n",
      "    pickle.dump(tnt_tagger, f)"
     ],
     "language": "python",
     "metadata": {},
     "outputs": [],
     "prompt_number": 5
    },
    {
     "cell_type": "code",
     "collapsed": false,
     "input": [
      "# evaluate() won't complete!\n",
      "# tnt_tagger.evaluate(test_sents)"
     ],
     "language": "python",
     "metadata": {},
     "outputs": [],
     "prompt_number": 6
    },
    {
     "cell_type": "code",
     "collapsed": false,
     "input": [
      "# See Greek TnT tagger in action\n",
      "from nltk.tokenize import wordpunct_tokenize"
     ],
     "language": "python",
     "metadata": {},
     "outputs": [],
     "prompt_number": 7
    },
    {
     "cell_type": "code",
     "collapsed": false,
     "input": [
      "untagged_string = '\u03c4\u1f74\u03bd \u03bc\u1f72\u03bd \u03b4\u1f74 \u03c4\u03c5\u03c1\u03b1\u03bd\u03bd\u03af\u03b4\u03b1 \u03bf\u1f55\u03c4\u03c9 \u1f14\u03c3\u03c7\u03bf\u03bd \u03bf\u1f31 \u039c\u03b5\u03c1\u03bc\u03bd\u03ac\u03b4\u03b1\u03b9 \u03c4\u03bf\u1f7a\u03c2 \u1f29\u03c1\u03b1\u03ba\u03bb\u03b5\u03af\u03b4\u03b1\u03c2 \u1f00\u03c0\u03b5\u03bb\u03cc\u03bc\u03b5\u03bd\u03bf\u03b9, \u0393\u03cd\u03b3\u03b7\u03c2 \u03b4\u1f72 \u03c4\u03c5\u03c1\u03b1\u03bd\u03bd\u03b5\u03cd\u03c3\u03b1\u03c2 \u1f00\u03c0\u03ad\u03c0\u03b5\u03bc\u03c8\u03b5 \u1f00\u03bd\u03b1\u03b8\u03ae\u03bc\u03b1\u03c4\u03b1 \u1f10\u03c2 \u0394\u03b5\u03bb\u03c6\u03bf\u1f7a\u03c2 \u03bf\u1f50\u03ba \u1f40\u03bb\u03af\u03b3\u03b1, \u1f00\u03bb\u03bb\u1fbd \u1f45\u03c3\u03b1 \u03bc\u1f72\u03bd \u1f00\u03c1\u03b3\u03cd\u03c1\u03bf\u03c5 \u1f00\u03bd\u03b1\u03b8\u03ae\u03bc\u03b1\u03c4\u03b1, \u1f14\u03c3\u03c4\u03b9 \u03bf\u1f31 \u03c0\u03bb\u03b5\u1fd6\u03c3\u03c4\u03b1 \u1f10\u03bd \u0394\u03b5\u03bb\u03c6\u03bf\u1fd6\u03c3\u03b9, \u03c0\u03ac\u03c1\u03b5\u03be \u03b4\u1f72 \u03c4\u03bf\u1fe6 \u1f00\u03c1\u03b3\u03cd\u03c1\u03bf\u03c5 \u03c7\u03c1\u03c5\u03c3\u1f78\u03bd \u1f04\u03c0\u03bb\u03b5\u03c4\u03bf\u03bd \u1f00\u03bd\u03ad\u03b8\u03b7\u03ba\u03b5 \u1f04\u03bb\u03bb\u03bf\u03bd \u03c4\u03b5 \u03ba\u03b1\u1f76 \u03c4\u03bf\u1fe6 \u03bc\u03ac\u03bb\u03b9\u03c3\u03c4\u03b1 \u03bc\u03bd\u03ae\u03bc\u03b7\u03bd \u1f04\u03be\u03b9\u03bf\u03bd \u1f14\u03c7\u03b5\u03b9\u03bd \u1f10\u03c3\u03c4\u03af, \u03ba\u03c1\u03b7\u03c4\u1fc6\u03c1\u03b5\u03c2 \u03bf\u1f31 \u1f00\u03c1\u03b9\u03b8\u03bc\u1f78\u03bd \u1f13\u03be \u03c7\u03c1\u03cd\u03c3\u03b5\u03bf\u03b9 \u1f00\u03bd\u03b1\u03ba\u03ad\u03b1\u03c4\u03b1\u03b9. \u1f11\u03c3\u03c4\u1fb6\u03c3\u03b9 \u03b4\u1f72 \u03bf\u1f57\u03c4\u03bf\u03b9 \u1f10\u03bd \u03c4\u1ff7 \u039a\u03bf\u03c1\u03b9\u03bd\u03b8\u03af\u03c9\u03bd \u03b8\u03b7\u03c3\u03b1\u03c5\u03c1\u1ff7, \u03c3\u03c4\u03b1\u03b8\u03bc\u1f78\u03bd \u1f14\u03c7\u03bf\u03bd\u03c4\u03b5\u03c2 \u03c4\u03c1\u03b9\u03ae\u03ba\u03bf\u03bd\u03c4\u03b1 \u03c4\u03ac\u03bb\u03b1\u03bd\u03c4\u03b1: \u1f00\u03bb\u03b7\u03b8\u03ad\u03b9 \u03b4\u1f72 \u03bb\u03cc\u03b3\u1ff3 \u03c7\u03c1\u03b5\u03c9\u03bc\u03ad\u03bd\u1ff3 \u03bf\u1f50 \u039a\u03bf\u03c1\u03b9\u03bd\u03b8\u03af\u03c9\u03bd \u03c4\u03bf\u1fe6 \u03b4\u03b7\u03bc\u03bf\u03c3\u03af\u03bf\u03c5 \u1f10\u03c3\u03c4\u1f76 \u1f41 \u03b8\u03b7\u03c3\u03b1\u03c5\u03c1\u03cc\u03c2, \u1f00\u03bb\u03bb\u1f70 \u039a\u03c5\u03c8\u03ad\u03bb\u03bf\u03c5 \u03c4\u03bf\u1fe6 \u1f28\u03b5\u03c4\u03af\u03c9\u03bd\u03bf\u03c2. \u03bf\u1f57\u03c4\u03bf\u03c2 \u03b4\u1f72 \u1f41 \u0393\u03cd\u03b3\u03b7\u03c2 \u03c0\u03c1\u1ff6\u03c4\u03bf\u03c2 \u03b2\u03b1\u03c1\u03b2\u03ac\u03c1\u03c9\u03bd \u03c4\u1ff6\u03bd \u1f21\u03bc\u03b5\u1fd6\u03c2 \u1f34\u03b4\u03bc\u03b5\u03bd \u1f10\u03c2 \u0394\u03b5\u03bb\u03c6\u03bf\u1f7a\u03c2 \u1f00\u03bd\u03ad\u03b8\u03b7\u03ba\u03b5 \u1f00\u03bd\u03b1\u03b8\u03ae\u03bc\u03b1\u03c4\u03b1 \u03bc\u03b5\u03c4\u1f70 \u039c\u03af\u03b4\u03b7\u03bd \u03c4\u1f78\u03bd \u0393\u03bf\u03c1\u03b4\u03af\u03b5\u03c9 \u03a6\u03c1\u03c5\u03b3\u03af\u03b7\u03c2 \u03b2\u03b1\u03c3\u03b9\u03bb\u03ad\u03b1. \u1f00\u03bd\u03ad\u03b8\u03b7\u03ba\u03b5 \u03b3\u1f70\u03c1 \u03b4\u1f74 \u03ba\u03b1\u1f76 \u039c\u03af\u03b4\u03b7\u03c2 \u03c4\u1f78\u03bd \u03b2\u03b1\u03c3\u03b9\u03bb\u03ae\u03b9\u03bf\u03bd \u03b8\u03c1\u03cc\u03bd\u03bf\u03bd \u1f10\u03c2 \u03c4\u1f78\u03bd \u03c0\u03c1\u03bf\u03ba\u03b1\u03c4\u03af\u03b6\u03c9\u03bd \u1f10\u03b4\u03af\u03ba\u03b1\u03b6\u03b5, \u1f10\u03cc\u03bd\u03c4\u03b1 \u1f00\u03be\u03b9\u03bf\u03b8\u03ad\u03b7\u03c4\u03bf\u03bd: \u03ba\u03b5\u1fd6\u03c4\u03b1\u03b9 \u03b4\u1f72 \u1f41 \u03b8\u03c1\u03cc\u03bd\u03bf\u03c2 \u03bf\u1f57\u03c4\u03bf\u03c2 \u1f14\u03bd\u03b8\u03b1 \u03c0\u03b5\u03c1 \u03bf\u1f31 \u03c4\u03bf\u1fe6 \u0393\u03cd\u03b3\u03b5\u03c9 \u03ba\u03c1\u03b7\u03c4\u1fc6\u03c1\u03b5\u03c2. \u1f41 \u03b4\u1f72 \u03c7\u03c1\u03c5\u03c3\u03cc\u03c2 \u03bf\u1f57\u03c4\u03bf\u03c2 \u03ba\u03b1\u1f76 \u1f41 \u1f04\u03c1\u03b3\u03c5\u03c1\u03bf\u03c2 \u03c4\u1f78\u03bd \u1f41 \u0393\u03cd\u03b3\u03b7\u03c2 \u1f00\u03bd\u03ad\u03b8\u03b7\u03ba\u03b5, \u1f51\u03c0\u1f78 \u0394\u03b5\u03bb\u03c6\u1ff6\u03bd \u03ba\u03b1\u03bb\u03ad\u03b5\u03c4\u03b1\u03b9 \u0393\u03c5\u03b3\u03ac\u03b4\u03b1\u03c2 \u1f10\u03c0\u1f76 \u03c4\u03bf\u1fe6 \u1f00\u03bd\u03b1\u03b8\u03ad\u03bd\u03c4\u03bf\u03c2 \u1f10\u03c0\u03c9\u03bd\u03c5\u03bc\u03af\u03b7\u03bd.'"
     ],
     "language": "python",
     "metadata": {},
     "outputs": [],
     "prompt_number": 8
    },
    {
     "cell_type": "code",
     "collapsed": false,
     "input": [
      "untagged_tokens = wordpunct_tokenize(untagged_string)\n",
      "tagged_text = tnt_tagger.tag(untagged_tokens)"
     ],
     "language": "python",
     "metadata": {},
     "outputs": [],
     "prompt_number": 10
    },
    {
     "cell_type": "code",
     "collapsed": false,
     "input": [
      "print(tagged_text)"
     ],
     "language": "python",
     "metadata": {},
     "outputs": [
      {
       "output_type": "stream",
       "stream": "stdout",
       "text": [
        "[('\u03c4\u1f74\u03bd', 'P-S---FA-'), ('\u03bc\u1f72\u03bd', 'G--------'), ('\u03b4\u1f74', 'G--------'), ('\u03c4\u03c5\u03c1\u03b1\u03bd\u03bd\u03af\u03b4\u03b1', 'N-S---FA-'), ('\u03bf\u1f55\u03c4\u03c9', 'D--------'), ('\u1f14\u03c3\u03c7\u03bf\u03bd', 'V1SAIA---'), ('\u03bf\u1f31', 'P-S---MD-'), ('\u039c\u03b5\u03c1\u03bc\u03bd\u03ac\u03b4\u03b1\u03b9', 'Unk'), ('\u03c4\u03bf\u1f7a\u03c2', 'P-P---MA-'), ('\u1f29\u03c1\u03b1\u03ba\u03bb\u03b5\u03af\u03b4\u03b1\u03c2', 'Unk'), ('\u1f00\u03c0\u03b5\u03bb\u03cc\u03bc\u03b5\u03bd\u03bf\u03b9', 'Unk'), (',', 'U--------'), ('\u0393\u03cd\u03b3\u03b7\u03c2', 'Unk'), ('\u03b4\u1f72', 'G--------'), ('\u03c4\u03c5\u03c1\u03b1\u03bd\u03bd\u03b5\u03cd\u03c3\u03b1\u03c2', 'Unk'), ('\u1f00\u03c0\u03ad\u03c0\u03b5\u03bc\u03c8\u03b5', 'V3SAIA---'), ('\u1f00\u03bd\u03b1\u03b8\u03ae\u03bc\u03b1\u03c4\u03b1', 'N-P---NN-'), ('\u1f10\u03c2', 'R--------'), ('\u0394\u03b5\u03bb\u03c6\u03bf\u1f7a\u03c2', 'Unk'), ('\u03bf\u1f50\u03ba', 'D--------'), ('\u1f40\u03bb\u03af\u03b3\u03b1', 'Unk'), (',', 'U--------'), ('\u1f00\u03bb\u03bb', 'Unk'), ('\u1fbd', 'Unk'), ('\u1f45\u03c3\u03b1', 'A-P---NA-'), ('\u03bc\u1f72\u03bd', 'G--------'), ('\u1f00\u03c1\u03b3\u03cd\u03c1\u03bf\u03c5', 'N-S---MG-'), ('\u1f00\u03bd\u03b1\u03b8\u03ae\u03bc\u03b1\u03c4\u03b1', 'N-P---NN-'), (',', 'U--------'), ('\u1f14\u03c3\u03c4\u03b9', 'V3SPIA---'), ('\u03bf\u1f31', 'P-S---MD-'), ('\u03c0\u03bb\u03b5\u1fd6\u03c3\u03c4\u03b1', 'A-P---NA-'), ('\u1f10\u03bd', 'R--------'), ('\u0394\u03b5\u03bb\u03c6\u03bf\u1fd6\u03c3\u03b9', 'Unk'), (',', 'U--------'), ('\u03c0\u03ac\u03c1\u03b5\u03be', 'Unk'), ('\u03b4\u1f72', 'G--------'), ('\u03c4\u03bf\u1fe6', 'L-S---MG-'), ('\u1f00\u03c1\u03b3\u03cd\u03c1\u03bf\u03c5', 'N-S---MG-'), ('\u03c7\u03c1\u03c5\u03c3\u1f78\u03bd', 'N-S---MA-'), ('\u1f04\u03c0\u03bb\u03b5\u03c4\u03bf\u03bd', 'A-S---NN-'), ('\u1f00\u03bd\u03ad\u03b8\u03b7\u03ba\u03b5', 'Unk'), ('\u1f04\u03bb\u03bb\u03bf\u03bd', 'A-S---MA-'), ('\u03c4\u03b5', 'G--------'), ('\u03ba\u03b1\u1f76', 'C--------'), ('\u03c4\u03bf\u1fe6', 'L-S---MG-'), ('\u03bc\u03ac\u03bb\u03b9\u03c3\u03c4\u03b1', 'D--------'), ('\u03bc\u03bd\u03ae\u03bc\u03b7\u03bd', 'N-S---FA-'), ('\u1f04\u03be\u03b9\u03bf\u03bd', 'A-S---MA-'), ('\u1f14\u03c7\u03b5\u03b9\u03bd', 'V--PNA---'), ('\u1f10\u03c3\u03c4\u03af', 'V3SPIA---'), (',', 'U--------'), ('\u03ba\u03c1\u03b7\u03c4\u1fc6\u03c1\u03b5\u03c2', 'Unk'), ('\u03bf\u1f31', 'P-S---MD-'), ('\u1f00\u03c1\u03b9\u03b8\u03bc\u1f78\u03bd', 'N-S---MA-'), ('\u1f13\u03be', 'M--------'), ('\u03c7\u03c1\u03cd\u03c3\u03b5\u03bf\u03b9', 'A-P---MN-'), ('\u1f00\u03bd\u03b1\u03ba\u03ad\u03b1\u03c4\u03b1\u03b9', 'Unk'), ('.', 'U--------'), ('\u1f11\u03c3\u03c4\u1fb6\u03c3\u03b9', 'V3PRIA---'), ('\u03b4\u1f72', 'G--------'), ('\u03bf\u1f57\u03c4\u03bf\u03b9', 'A-P---MN-'), ('\u1f10\u03bd', 'R--------'), ('\u03c4\u1ff7', 'L-S---MD-'), ('\u039a\u03bf\u03c1\u03b9\u03bd\u03b8\u03af\u03c9\u03bd', 'Unk'), ('\u03b8\u03b7\u03c3\u03b1\u03c5\u03c1\u1ff7', 'Unk'), (',', 'U--------'), ('\u03c3\u03c4\u03b1\u03b8\u03bc\u1f78\u03bd', 'N-S---MA-'), ('\u1f14\u03c7\u03bf\u03bd\u03c4\u03b5\u03c2', 'T-PPPAMN-'), ('\u03c4\u03c1\u03b9\u03ae\u03ba\u03bf\u03bd\u03c4\u03b1', 'M--------'), ('\u03c4\u03ac\u03bb\u03b1\u03bd\u03c4\u03b1', 'N-P---NA-'), (':', 'Unk'), ('\u1f00\u03bb\u03b7\u03b8\u03ad\u03b9', 'Unk'), ('\u03b4\u1f72', 'G--------'), ('\u03bb\u03cc\u03b3\u1ff3', 'N-S---MD-'), ('\u03c7\u03c1\u03b5\u03c9\u03bc\u03ad\u03bd\u1ff3', 'Unk'), ('\u03bf\u1f50', 'D--------'), ('\u039a\u03bf\u03c1\u03b9\u03bd\u03b8\u03af\u03c9\u03bd', 'Unk'), ('\u03c4\u03bf\u1fe6', 'P-S---MG-'), ('\u03b4\u03b7\u03bc\u03bf\u03c3\u03af\u03bf\u03c5', 'Unk'), ('\u1f10\u03c3\u03c4\u1f76', 'V3SPIA---'), ('\u1f41', 'L-S---MN-'), ('\u03b8\u03b7\u03c3\u03b1\u03c5\u03c1\u03cc\u03c2', 'Unk'), (',', 'U--------'), ('\u1f00\u03bb\u03bb\u1f70', 'C--------'), ('\u039a\u03c5\u03c8\u03ad\u03bb\u03bf\u03c5', 'Unk'), ('\u03c4\u03bf\u1fe6', 'L-S---MG-'), ('\u1f28\u03b5\u03c4\u03af\u03c9\u03bd\u03bf\u03c2', 'N-S---MG-'), ('.', 'U--------'), ('\u03bf\u1f57\u03c4\u03bf\u03c2', 'A-S---MN-'), ('\u03b4\u1f72', 'G--------'), ('\u1f41', 'L-S---MN-'), ('\u0393\u03cd\u03b3\u03b7\u03c2', 'Unk'), ('\u03c0\u03c1\u1ff6\u03c4\u03bf\u03c2', 'A-S---MNS'), ('\u03b2\u03b1\u03c1\u03b2\u03ac\u03c1\u03c9\u03bd', 'A-P---MG-'), ('\u03c4\u1ff6\u03bd', 'P-P---MG-'), ('\u1f21\u03bc\u03b5\u1fd6\u03c2', 'P-P---MN-'), ('\u1f34\u03b4\u03bc\u03b5\u03bd', 'V1PRIA---'), ('\u1f10\u03c2', 'R--------'), ('\u0394\u03b5\u03bb\u03c6\u03bf\u1f7a\u03c2', 'Unk'), ('\u1f00\u03bd\u03ad\u03b8\u03b7\u03ba\u03b5', 'Unk'), ('\u1f00\u03bd\u03b1\u03b8\u03ae\u03bc\u03b1\u03c4\u03b1', 'N-P---NN-'), ('\u03bc\u03b5\u03c4\u1f70', 'R--------'), ('\u039c\u03af\u03b4\u03b7\u03bd', 'Unk'), ('\u03c4\u1f78\u03bd', 'P-S---MA-'), ('\u0393\u03bf\u03c1\u03b4\u03af\u03b5\u03c9', 'Unk'), ('\u03a6\u03c1\u03c5\u03b3\u03af\u03b7\u03c2', 'A-S---FG-'), ('\u03b2\u03b1\u03c3\u03b9\u03bb\u03ad\u03b1', 'N-S---MA-'), ('.', 'U--------'), ('\u1f00\u03bd\u03ad\u03b8\u03b7\u03ba\u03b5', 'Unk'), ('\u03b3\u1f70\u03c1', 'G--------'), ('\u03b4\u1f74', 'G--------'), ('\u03ba\u03b1\u1f76', 'C--------'), ('\u039c\u03af\u03b4\u03b7\u03c2', 'Unk'), ('\u03c4\u1f78\u03bd', 'P-S---MA-'), ('\u03b2\u03b1\u03c3\u03b9\u03bb\u03ae\u03b9\u03bf\u03bd', 'A-S---NA-'), ('\u03b8\u03c1\u03cc\u03bd\u03bf\u03bd', 'N-S---MA-'), ('\u1f10\u03c2', 'R--------'), ('\u03c4\u1f78\u03bd', 'P-S---MA-'), ('\u03c0\u03c1\u03bf\u03ba\u03b1\u03c4\u03af\u03b6\u03c9\u03bd', 'Unk'), ('\u1f10\u03b4\u03af\u03ba\u03b1\u03b6\u03b5', 'Unk'), (',', 'U--------'), ('\u1f10\u03cc\u03bd\u03c4\u03b1', 'T-SPPAMA-'), ('\u1f00\u03be\u03b9\u03bf\u03b8\u03ad\u03b7\u03c4\u03bf\u03bd', 'Unk'), (':', 'Unk'), ('\u03ba\u03b5\u1fd6\u03c4\u03b1\u03b9', 'V3SPIE---'), ('\u03b4\u1f72', 'G--------'), ('\u1f41', 'L-S---MN-'), ('\u03b8\u03c1\u03cc\u03bd\u03bf\u03c2', 'N-S---MN-'), ('\u03bf\u1f57\u03c4\u03bf\u03c2', 'A-S---MN-'), ('\u1f14\u03bd\u03b8\u03b1', 'D--------'), ('\u03c0\u03b5\u03c1', 'G--------'), ('\u03bf\u1f31', 'P-S---MD-'), ('\u03c4\u03bf\u1fe6', 'P-S---MG-'), ('\u0393\u03cd\u03b3\u03b5\u03c9', 'Unk'), ('\u03ba\u03c1\u03b7\u03c4\u1fc6\u03c1\u03b5\u03c2', 'Unk'), ('.', 'U--------'), ('\u1f41', 'L-S---MN-'), ('\u03b4\u1f72', 'G--------'), ('\u03c7\u03c1\u03c5\u03c3\u03cc\u03c2', 'N-S---MN-'), ('\u03bf\u1f57\u03c4\u03bf\u03c2', 'A-S---MN-'), ('\u03ba\u03b1\u1f76', 'D--------'), ('\u1f41', 'L-S---MN-'), ('\u1f04\u03c1\u03b3\u03c5\u03c1\u03bf\u03c2', 'N-S---MN-'), ('\u03c4\u1f78\u03bd', 'P-S---MA-'), ('\u1f41', 'L-S---MN-'), ('\u0393\u03cd\u03b3\u03b7\u03c2', 'Unk'), ('\u1f00\u03bd\u03ad\u03b8\u03b7\u03ba\u03b5', 'Unk'), (',', 'U--------'), ('\u1f51\u03c0\u1f78', 'R--------'), ('\u0394\u03b5\u03bb\u03c6\u1ff6\u03bd', 'N-P---MG-'), ('\u03ba\u03b1\u03bb\u03ad\u03b5\u03c4\u03b1\u03b9', 'Unk'), ('\u0393\u03c5\u03b3\u03ac\u03b4\u03b1\u03c2', 'Unk'), ('\u1f10\u03c0\u1f76', 'R--------'), ('\u03c4\u03bf\u1fe6', 'P-S---MG-'), ('\u1f00\u03bd\u03b1\u03b8\u03ad\u03bd\u03c4\u03bf\u03c2', 'Unk'), ('\u1f10\u03c0\u03c9\u03bd\u03c5\u03bc\u03af\u03b7\u03bd', 'Unk'), ('.', 'U--------')]\n"
       ]
      }
     ],
     "prompt_number": 11
    }
   ],
   "metadata": {}
  }
 ]
}