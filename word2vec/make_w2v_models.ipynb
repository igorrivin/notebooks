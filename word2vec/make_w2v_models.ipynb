{
 "cells": [
  {
   "cell_type": "markdown",
   "metadata": {},
   "source": [
    "# Make Word2Vec models with many variations"
   ]
  },
  {
   "cell_type": "markdown",
   "metadata": {},
   "source": [
    "The following are tests of Word2Vec w/ Latin and Greek. For each language, I'm testing the results gained various paramters (stopword remove, lemmatization, size of vectors, etc.)."
   ]
  },
  {
   "cell_type": "markdown",
   "metadata": {
    "collapsed": true
   },
   "source": [
    "# Code"
   ]
  },
  {
   "cell_type": "code",
   "execution_count": 1,
   "metadata": {
    "collapsed": false
   },
   "outputs": [],
   "source": [
    "from cltk.corpus.utils.formatter import assemble_phi5_author_filepaths\n",
    "from cltk.corpus.utils.formatter import assemble_tlg_author_filepaths\n",
    "from cltk.corpus.utils.formatter import phi5_plaintext_cleanup\n",
    "from cltk.corpus.utils.formatter import tlg_plaintext_cleanup\n",
    "from cltk.stem.latin.j_v import JVReplacer\n",
    "from cltk.stem.lemma import LemmaReplacer\n",
    "from cltk.stop.greek.stops import STOPS_LIST as greek_stops\n",
    "from cltk.stop.latin.stops import STOPS_LIST as latin_stops\n",
    "from nltk.tokenize.punkt import PunktLanguageVars\n",
    "from cltk.tokenize.sentence import TokenizeSentence\n",
    "from gensim.models import Word2Vec\n",
    "import logging\n",
    "import os\n",
    "import time\n",
    "\n",
    "logging.basicConfig(format='%(asctime)s : %(levelname)s : %(message)s', level=logging.INFO)"
   ]
  },
  {
   "cell_type": "code",
   "execution_count": 2,
   "metadata": {
    "collapsed": false
   },
   "outputs": [],
   "source": [
    "def gen_docs(corpus, lemmatize, rm_stops, testing):\n",
    "    # TODO: Replace accented chars with un\n",
    "    punkt = PunktLanguageVars()\n",
    "    if corpus == 'phi5':\n",
    "        language = 'latin'\n",
    "        filepaths = assemble_phi5_author_filepaths()\n",
    "        jv_replacer = JVReplacer()\n",
    "        text_cleaner = phi5_plaintext_cleanup\n",
    "        if rm_stops:\n",
    "            stops = latin_stops\n",
    "        else:\n",
    "            stops = None\n",
    "    elif corpus == 'tlg':\n",
    "        language = 'greek'\n",
    "        filepaths = assemble_tlg_author_filepaths()\n",
    "        text_cleaner = tlg_plaintext_cleanup\n",
    "        if rm_stops:\n",
    "            stops = latin_stops\n",
    "        else:\n",
    "            stops = None\n",
    "    if lemmatize:\n",
    "        lemmatizer = LemmaReplacer(language)        \n",
    "    if testing:\n",
    "        filepaths = filepaths[:20]\n",
    "\n",
    "    sent_tokenizer = TokenizeSentence(language)\n",
    "\n",
    "    for filepath in filepaths:\n",
    "        with open(filepath) as f:\n",
    "            text = f.read()\n",
    "        # light first-pass cleanup, before sentence tokenization (which relies on punctuation)\n",
    "        text = text_cleaner(text, rm_punctuation=False, rm_periods=False)\n",
    "        sent_tokens = sent_tokenizer.tokenize_sentences(text)\n",
    "        doc_sentences = []\n",
    "        for sentence in sent_tokens:\n",
    "            # a second cleanup at sentence-level, to rm all punctuation\n",
    "            sentence = text_cleaner(sentence, rm_punctuation=True, rm_periods=True)\n",
    "            sentence = punkt.word_tokenize(sentence)\n",
    "            sentence = [s.lower() for s in sentence]\n",
    "\n",
    "            sentence = [w for w in sentence if w]\n",
    "            if stops:\n",
    "                sentence = [w for w in sentence if w not in stops]\n",
    "            #sentence = [w for w in sentence if len(w) > 1]  # rm short words\n",
    "\n",
    "            if sentence:\n",
    "                sentence = sentence\n",
    "            if lemmatize:\n",
    "                sentence = lemmatizer.lemmatize(sentence)\n",
    "            if sentence and language == 'latin':\n",
    "                sentence = [jv_replacer.replace(word) for word in sentence]\n",
    "            if sentence != []:\n",
    "                doc_sentences.append(sentence)\n",
    "        if doc_sentences != []:\n",
    "            yield doc_sentences"
   ]
  },
  {
   "cell_type": "code",
   "execution_count": 3,
   "metadata": {
    "collapsed": false
   },
   "outputs": [],
   "source": [
    "def make_model(corpus, lemmatize=False, rm_stops=False, size=100, window=10, min_count=5, workers=4, sg=1, testing=False, save_path=None):\n",
    "    # (1) load empty model, add vocab, save training\n",
    "    # https://groups.google.com/forum/#!topic/gensim/xXKz-v8brAI\n",
    "    model = Word2Vec(sentences=None, size=size, window=window, min_count=min_count, workers=workers, sg=sg)\n",
    "    docs = gen_docs(corpus, lemmatize=lemmatize, rm_stops=rm_stops, testing=testing)\n",
    "    vocab_counter = 0\n",
    "    alert_per_processed = 100\n",
    "    for sentences in docs:\n",
    "        vocab_counter += 1\n",
    "        model.build_vocab(sentences)\n",
    "        if vocab_counter % alert_per_processed == 0:\n",
    "            print('Building vocab:', vocab_counter)\n",
    "\n",
    "    docs = gen_docs(corpus, lemmatize=lemmatize, rm_stops=rm_stops, testing=testing)\n",
    "    train_counter = 0\n",
    "    for sentences in docs:\n",
    "        train_counter += 1\n",
    "        try:\n",
    "            model.train(sentences)\n",
    "        except Exception as e:\n",
    "            print(e)\n",
    "        if train_counter % alert_per_processed == 0:\n",
    "            print('Training model:', train_counter)\n",
    "\n",
    "    model.init_sims(replace=True)\n",
    "    if save_path:\n",
    "        save_path = os.path.expanduser(save_path)\n",
    "        model.save(save_path)\n",
    "    else:\n",
    "        return model"
   ]
  },
  {
   "cell_type": "code",
   "execution_count": 4,
   "metadata": {
    "collapsed": false
   },
   "outputs": [],
   "source": [
    "def make_options():\n",
    "    corpus = ['phi5', 'tlg']\n",
    "    lemmatize = [True, False]\n",
    "    rm_stops = [True, False]\n",
    "    window = [5, 10, 20]\n",
    "    size = [100, 200, 500, 1000]\n",
    "    skip_gram = [True, False]\n",
    "\n",
    "    for c in corpus:\n",
    "        for l in lemmatize:\n",
    "            for r in rm_stops:\n",
    "                for w in window:\n",
    "                    for s in size:\n",
    "                        for sg in skip_gram:\n",
    "                            option = (c, l, r, w, s, sg)\n",
    "                            yield option"
   ]
  },
  {
   "cell_type": "markdown",
   "metadata": {},
   "source": [
    "# Test model training"
   ]
  },
  {
   "cell_type": "markdown",
   "metadata": {},
   "source": [
    "This is just a single test build for confirming everything works right. Should run in under 30 seconds."
   ]
  },
  {
   "cell_type": "code",
   "execution_count": null,
   "metadata": {
    "collapsed": false
   },
   "outputs": [
    {
     "data": {
      "text/plain": [
       "\"\\ntest_model = None\\ntest_model = make_model(corpus='tlg', lemmatize=False, rm_stops=False, size=100, window=10, min_count=5, workers=4, sg=1, testing=True)\\nprint(len(test_model.vocab))\\n#print(test_model.vocab)\\n\""
      ]
     },
     "execution_count": 5,
     "metadata": {},
     "output_type": "execute_result"
    }
   ],
   "source": [
    "'''\n",
    "test_model = None\n",
    "test_model = make_model(corpus='tlg', lemmatize=False, rm_stops=False, size=100, window=10, min_count=5, workers=4, sg=1, testing=True)\n",
    "print(len(test_model.vocab))\n",
    "#print(test_model.vocab)\n",
    "'''"
   ]
  },
  {
   "cell_type": "markdown",
   "metadata": {},
   "source": [
    "# Run all TLG and PHI5"
   ]
  },
  {
   "cell_type": "code",
   "execution_count": null,
   "metadata": {
    "collapsed": false
   },
   "outputs": [],
   "source": [
    "options = make_options()\n",
    "\n",
    "log_path = os.path.expanduser('~/word2vec_tests_20150726/make_models.log')\n",
    "with open(log_path, 'w') as file_opened:\n",
    "    file_opened.write('')\n",
    "\n",
    "for option in options:\n",
    "    if option[0] == 'phi5':\n",
    "        option_lang = ('latin', option)\n",
    "    elif option[0] == 'tlg':\n",
    "        option_lang = ('greek', option)\n",
    "    lang = option_lang[0]\n",
    "    corpus = option_lang[1][0]\n",
    "    lemmatize = option_lang[1][1]\n",
    "    rm_stops = option_lang[1][2]\n",
    "    window = option_lang[1][3]\n",
    "    size = option_lang[1][4]\n",
    "    skip_gram = option_lang[1][5]\n",
    "    if skip_gram == True:\n",
    "        sg = 1\n",
    "    else:\n",
    "        sg = 0  # ie, use cbow\n",
    "    model_path = os.path.join('~/word2vec_tests_20150726/', \n",
    "                              lang, \n",
    "                              corpus + '_' + 'lemmatize' + str(lemmatize) + '_' + 'rmstops' + str(rm_stops) + '_' + 'window' + str(window) + '_' + 'size' + str(size) + '_' + 'sg' + str(skip_gram) + '.model')\n",
    "    model_path = os.path.expanduser(model_path)\n",
    "    start = time.time()\n",
    "    try:\n",
    "        make_model(corpus=corpus, lemmatize=lemmatize, rm_stops=rm_stops, size=size, window=window, min_count=5, workers=4, sg=sg, testing=True, save_path=model_path)\n",
    "        build_time = '\\nBuild time: {}'.format(time.time() - start)\n",
    "        log_text = model_path + '\\n' + str(build_time) + '\\n'\n",
    "        with open(log_path, 'a') as file_opened:\n",
    "            file_opened.write(log_text)\n",
    "    except Exception as e:\n",
    "        with open(log_path, 'a') as file_opened:\n",
    "            file_opened.write('Build failed for: {0}.\\n{1}'.format(model_path, e))\n",
    "\n",
    "    try:\n",
    "        #test_model = test_open(model_path)\n",
    "        Word2Vec.load(model_path)\n",
    "    except:\n",
    "        with open(log_path, 'a') as file_opened:\n",
    "            file_opened.write('Loading failed.\\n')"
   ]
  },
  {
   "cell_type": "code",
   "execution_count": null,
   "metadata": {
    "collapsed": true
   },
   "outputs": [],
   "source": []
  }
 ],
 "metadata": {
  "kernelspec": {
   "display_name": "Python 3",
   "language": "python",
   "name": "python3"
  },
  "language_info": {
   "codemirror_mode": {
    "name": "ipython",
    "version": 3
   },
   "file_extension": ".py",
   "mimetype": "text/x-python",
   "name": "python",
   "nbconvert_exporter": "python",
   "pygments_lexer": "ipython3",
   "version": "3.4.3"
  }
 },
 "nbformat": 4,
 "nbformat_minor": 0
}
