{
 "cells": [
  {
   "cell_type": "code",
   "execution_count": 1,
   "metadata": {
    "collapsed": true
   },
   "outputs": [],
   "source": [
    "from gensim.models import Word2Vec\n",
    "import os"
   ]
  },
  {
   "cell_type": "code",
   "execution_count": 2,
   "metadata": {
    "collapsed": true
   },
   "outputs": [],
   "source": [
    "model_path = os.path.expanduser('~/cltk_data/user_data/word2vec_tlg_lemma.model')\n",
    "model = Word2Vec.load(model_path)"
   ]
  },
  {
   "cell_type": "code",
   "execution_count": 3,
   "metadata": {
    "collapsed": false
   },
   "outputs": [],
   "source": [
    "#vocab = model.vocab\n",
    "vocab = model.vocab"
   ]
  },
  {
   "cell_type": "code",
   "execution_count": null,
   "metadata": {
    "collapsed": false
   },
   "outputs": [],
   "source": [
    "vocab_len = len(vocab)\n",
    "counter = 0\n",
    "final_list = []\n",
    "for x in vocab:\n",
    "    counter += 1\n",
    "    if counter % 1000 == 0:\n",
    "        print(counter, '/', vocab_len)\n",
    "    syn_list = []\n",
    "    pairs = model.most_similar(x)\n",
    "    for k,v in pairs:\n",
    "        if v > 0.50:\n",
    "            syn_list.append(k)\n",
    "\n",
    "    if syn_list:\n",
    "        line = x + '\\t' + str(syn_list)\n",
    "        final_list.append(line)\n",
    "        \n",
    "path = os.path.expanduser('~/cltk_data/user_data/greek_word2vec_most_sims.txt')\n",
    "# empty file if exists\n",
    "if os.path.exists(path):\n",
    "    with open(path, 'w') as fo:\n",
    "        fo.write('')\n",
    "\n",
    "final_str = '\\n'.join(final_list)\n",
    "\n",
    "with open(path, 'a') as fo:            \n",
    "    fo.write(final_str)"
   ]
  },
  {
   "cell_type": "code",
   "execution_count": null,
   "metadata": {
    "collapsed": true
   },
   "outputs": [],
   "source": []
  }
 ],
 "metadata": {
  "kernelspec": {
   "display_name": "Python 3",
   "language": "python",
   "name": "python3"
  },
  "language_info": {
   "codemirror_mode": {
    "name": "ipython",
    "version": 3
   },
   "file_extension": ".py",
   "mimetype": "text/x-python",
   "name": "python",
   "nbconvert_exporter": "python",
   "pygments_lexer": "ipython3",
   "version": "3.4.3"
  }
 },
 "nbformat": 4,
 "nbformat_minor": 0
}
