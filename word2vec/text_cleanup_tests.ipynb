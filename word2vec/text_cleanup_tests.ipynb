{
 "cells": [
  {
   "cell_type": "code",
   "execution_count": 1,
   "metadata": {
    "collapsed": true
   },
   "outputs": [],
   "source": [
    "from cltk.corpus.utils.formatter import assemble_phi5_author_filepaths\n",
    "from cltk.corpus.utils.formatter import assemble_tlg_author_filepaths\n",
    "from cltk.corpus.utils.formatter import phi5_plaintext_cleanup\n",
    "from cltk.corpus.utils.formatter import tlg_plaintext_cleanup\n",
    "from cltk.stem.latin.j_v import JVReplacer\n",
    "from cltk.stem.lemma import LemmaReplacer\n",
    "from cltk.stop.greek.stops import STOPS_LIST as greek_stops\n",
    "from cltk.stop.latin.stops import STOPS_LIST as latin_stops\n",
    "from nltk.tokenize.punkt import PunktLanguageVars\n",
    "from cltk.tokenize.sentence import TokenizeSentence\n",
    "import logging\n",
    "import os\n",
    "import re\n",
    "import time\n",
    "\n",
    "logging.basicConfig(format='%(asctime)s : %(levelname)s : %(message)s', level=logging.INFO)"
   ]
  },
  {
   "cell_type": "code",
   "execution_count": 2,
   "metadata": {
    "collapsed": true
   },
   "outputs": [],
   "source": [
    "def gen_docs(corpus, lemmatize, rm_stops, testing):\n",
    "    # TODO: Replace accented chars with un\n",
    "    punkt = PunktLanguageVars()\n",
    "    punctuation = [',', '.', ';', ':', '\"', \"'\", '?', '-', '!', '*', '[', ']', '{', '}']\n",
    "    if corpus == 'phi5':\n",
    "        language = 'latin'\n",
    "        filepaths = assemble_phi5_author_filepaths()\n",
    "        jv_replacer = JVReplacer()\n",
    "        text_cleaner = phi5_plaintext_cleanup\n",
    "        if rm_stops:\n",
    "            stops = latin_stops\n",
    "        else:\n",
    "            stops = None\n",
    "    elif corpus == 'tlg':\n",
    "        language = 'greek'\n",
    "        filepaths = assemble_tlg_author_filepaths()\n",
    "        text_cleaner = tlg_plaintext_cleanup\n",
    "        if rm_stops:\n",
    "            stops = latin_stops\n",
    "        else:\n",
    "            stops = None\n",
    "    if lemmatize:\n",
    "        lemmatizer = LemmaReplacer(language)        \n",
    "    if testing:\n",
    "        filepaths = filepaths[:20]\n",
    "\n",
    "    sent_tokenizer = TokenizeSentence(language)\n",
    "\n",
    "    for filepath in filepaths:   \n",
    "        with open(filepath) as f:\n",
    "            text_raw = f.read()\n",
    "        text_cleaned = text_cleaner(text_raw)\n",
    "        sent_tokens = sent_tokenizer.tokenize_sentences(text_cleaned)\n",
    "        doc_sentences = []\n",
    "        for sentence in sent_tokens:\n",
    "            sentence = punkt.word_tokenize(sentence)\n",
    "            sentence = [s.lower() for s in sentence]\n",
    "\n",
    "            # rm junk chars\n",
    "            _sentence = []\n",
    "            for word in sentence:\n",
    "                word = [c for c in word if c not in punctuation]\n",
    "                _sentence.append(''.join(word))\n",
    "            sentence = _sentence\n",
    "\n",
    "\n",
    "            sentence = [w for w in sentence if w]\n",
    "            if stops:\n",
    "                sentence = [w for w in sentence if w not in stops]\n",
    "            #sentence = [w for w in sentence if len(w) > 1]  # rm short words\n",
    "\n",
    "            if sentence:\n",
    "                sentence = sentence\n",
    "            if lemmatize:\n",
    "                sentence = lemmatizer.lemmatize(sentence)\n",
    "            if sentence and language == 'latin':\n",
    "                sentence = [jv_replacer.replace(word) for word in sentence]\n",
    "            if sentence != []:\n",
    "                doc_sentences.append(sentence)\n",
    "        if doc_sentences != []:\n",
    "            yield doc_sentences"
   ]
  },
  {
   "cell_type": "code",
   "execution_count": null,
   "metadata": {
    "collapsed": false
   },
   "outputs": [
    {
     "name": "stdout",
     "output_type": "stream",
     "text": [
      "['edepól', 'paternam', 'quí', 'comest', 'pecúniam', 'quíd', 'ita']\n",
      "['edepol', 'paternam', 'qui', 'comest', 'pecuniam', 'quid', 'ita']\n",
      "\n",
      "['quia', 'enim', 'répuerascis', 'fúgitas', 'personás', 'pater']\n",
      "['quia', 'enim', 'repuerascis', 'fugitas', 'personas', 'pater']\n",
      "\n",
      "['licétne', 'leno', 'dúo', 'uerbis', 'etiám']\n",
      "['licetne', 'leno', 'duo', 'uerbis', 'etiam']\n",
      "\n",
      "['primo', 'et', 'postrémo', 'quod', 'tú', 'mi', 'gnate', 'quaéso', 'ut', 'in', 'pectús', 'tuum', 'demíttas', 'tamquam', 'in', 'físcinam', 'uindémitor']\n",
      "['primo', 'et', 'postremo', 'quod', 'tu', 'mi', 'gnate', 'quaeso', 'ut', 'in', 'pectus', 'tuum', 'demittas', 'tamquam', 'in', 'fiscinam', 'uindemitor']\n",
      "\n",
      "['áge', 'nunc', 'quando', 'rhétoricasti', 'sátis', 'responde', 'quód', 'rogo']\n",
      "['age', 'nunc', 'quando', 'rhetoricasti', 'satis', 'responde', 'quod', 'rogo']\n",
      "\n",
      "['quód', 'editis', 'nihil', 'ést']\n",
      "['quod', 'editis', 'nihil', 'est']\n"
     ]
    }
   ],
   "source": [
    "rm_junk = re.compile(r'†|\\(|\\)|]')\n",
    "\n",
    "comp_accent = re.compile(b'\\xcc\\x81')\n",
    "\n",
    "import builtins\n",
    "\n",
    "new_doc = []\n",
    "for doc in gen_docs('phi5', lemmatize=False, rm_stops=False, testing=False):\n",
    "    for sentence in doc:\n",
    "        print(sentence)\n",
    "        new_sentence = []\n",
    "        for word in sentence:\n",
    "            new_word = ''\n",
    "            for char in word:\n",
    "                if builtins.bytes(char, 'utf-8') == b'\\xcc\\x81':\n",
    "                    pass\n",
    "                else:\n",
    "                    new_word += char\n",
    "            new_sentence.append(new_word)\n",
    "        print(new_sentence)\n",
    "        input()"
   ]
  },
  {
   "cell_type": "code",
   "execution_count": null,
   "metadata": {
    "collapsed": true
   },
   "outputs": [],
   "source": [
    "            for char in word:\n",
    "                #! the accent comes in bytes: b'\\xcc\\x81'\n",
    "                print(builtins.bytes(char, 'utf-8'))\n",
    "                if char in accutes_map:\n",
    "                    print(word)\n",
    "                    new_char = accutes_map[char]\n",
    "                    new_word += new_char\n",
    "                elif builtins.bytes(char, 'utf-8') == b'\\xcc\\x81':\n",
    "                    print('********')\n",
    "                    \n",
    "                    print('********')\n",
    "                else:\n",
    "                    new_word += char\n",
    "            new_sentence.append(new_word)\n",
    "        print(new_sentence)\n",
    "        input()\n",
    "    new_doc.append(new_sentence)"
   ]
  },
  {
   "cell_type": "code",
   "execution_count": null,
   "metadata": {
    "collapsed": true
   },
   "outputs": [],
   "source": []
  }
 ],
 "metadata": {
  "kernelspec": {
   "display_name": "Python 3",
   "language": "python",
   "name": "python3"
  },
  "language_info": {
   "codemirror_mode": {
    "name": "ipython",
    "version": 3
   },
   "file_extension": ".py",
   "mimetype": "text/x-python",
   "name": "python",
   "nbconvert_exporter": "python",
   "pygments_lexer": "ipython3",
   "version": "3.4.3"
  }
 },
 "nbformat": 4,
 "nbformat_minor": 0
}
