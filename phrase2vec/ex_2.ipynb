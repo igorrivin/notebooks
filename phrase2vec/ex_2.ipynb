{
 "cells": [
  {
   "cell_type": "code",
   "execution_count": 1,
   "metadata": {
    "collapsed": true
   },
   "outputs": [],
   "source": [
    "from cltk.corpus.utils.formatter import assemble_phi5_author_filepaths\n",
    "from cltk.corpus.utils.formatter import assemble_tlg_author_filepaths\n",
    "from cltk.corpus.utils.formatter import phi5_plaintext_cleanup\n",
    "from cltk.corpus.utils.formatter import tlg_plaintext_cleanup\n",
    "from cltk.stem.latin.j_v import JVReplacer\n",
    "from cltk.stem.lemma import LemmaReplacer\n",
    "from cltk.stop.greek.stops import STOPS_LIST as greek_stops\n",
    "from cltk.stop.latin.stops import STOPS_LIST as latin_stops\n",
    "from cltk.tokenize.sentence import TokenizeSentence\n",
    "from gensim.models import Phrases\n",
    "import logging\n",
    "from nltk.tokenize.punkt import PunktLanguageVars\n",
    "import os\n",
    "import time\n",
    "\n",
    "logging.basicConfig(format='%(asctime)s : %(levelname)s : %(message)s', level=logging.INFO)"
   ]
  },
  {
   "cell_type": "code",
   "execution_count": 2,
   "metadata": {
    "collapsed": true
   },
   "outputs": [],
   "source": [
    "def gen_sentences(corpus, lemmatize, rm_stops, testing):\n",
    "    # TODO: Replace accented chars with un\n",
    "    punkt = PunktLanguageVars()\n",
    "    if corpus == 'phi5':\n",
    "        language = 'latin'\n",
    "        filepaths = assemble_phi5_author_filepaths()\n",
    "        jv_replacer = JVReplacer()\n",
    "        text_cleaner = phi5_plaintext_cleanup\n",
    "        if rm_stops:\n",
    "            stops = latin_stops\n",
    "        else:\n",
    "            stops = None\n",
    "    elif corpus == 'tlg':\n",
    "        language = 'greek'\n",
    "        filepaths = assemble_tlg_author_filepaths()\n",
    "        text_cleaner = tlg_plaintext_cleanup\n",
    "        if rm_stops:\n",
    "            stops = latin_stops\n",
    "        else:\n",
    "            stops = None\n",
    "    if lemmatize:\n",
    "        lemmatizer = LemmaReplacer(language)        \n",
    "    if testing:\n",
    "        filepaths = filepaths[:100]\n",
    "\n",
    "    sent_tokenizer = TokenizeSentence(language)\n",
    "\n",
    "    for filepath in filepaths:\n",
    "        with open(filepath) as f:\n",
    "            text = f.read()\n",
    "        # light first-pass cleanup, before sentence tokenization (which relies on punctuation)\n",
    "        text = text_cleaner(text, rm_punctuation=False, rm_periods=False)\n",
    "        sent_tokens = sent_tokenizer.tokenize_sentences(text)\n",
    "\n",
    "        for sentence in sent_tokens:\n",
    "            # a second cleanup at sentence-level, to rm all punctuation\n",
    "            sentence = text_cleaner(sentence, rm_punctuation=True, rm_periods=True)\n",
    "            sentence = punkt.word_tokenize(sentence)\n",
    "            sentence = [s.lower() for s in sentence]\n",
    "\n",
    "            sentence = [w for w in sentence if w]\n",
    "            if stops:\n",
    "                sentence = [w for w in sentence if w not in stops]\n",
    "            sentence = [w for w in sentence if len(w) > 1]  # rm short words\n",
    "\n",
    "            if sentence:\n",
    "                sentence = sentence\n",
    "            if lemmatize:\n",
    "                sentence = lemmatizer.lemmatize(sentence)\n",
    "            if sentence and language == 'latin':\n",
    "                sentence = [jv_replacer.replace(word) for word in sentence]\n",
    "            if sentence != []:\n",
    "                yield sentence"
   ]
  },
  {
   "cell_type": "code",
   "execution_count": 3,
   "metadata": {
    "collapsed": false
   },
   "outputs": [
    {
     "name": "stdout",
     "output_type": "stream",
     "text": [
      "156.43331694602966\n"
     ]
    }
   ],
   "source": [
    "sents = gen_sentences(corpus='phi5', lemmatize=False, rm_stops=False, testing=False)\n",
    "bigram = None\n",
    "\n",
    "start = time.time()\n",
    "bigram = Phrases(sentences=list(sents), min_count=5)\n",
    "print(time.time() - start)  # 1m15s / 100 docs"
   ]
  },
  {
   "cell_type": "code",
   "execution_count": 4,
   "metadata": {
    "collapsed": false
   },
   "outputs": [
    {
     "data": {
      "text/plain": [
       "['credo_hercle', 'helluo', 'tuburcinatur']"
      ]
     },
     "execution_count": 4,
     "metadata": {},
     "output_type": "execute_result"
    }
   ],
   "source": [
    "bigram[['credo', 'hercle', 'helluo', 'tuburcinatur']]  # ['credo_hercle', 'helluo']"
   ]
  },
  {
   "cell_type": "code",
   "execution_count": null,
   "metadata": {
    "collapsed": false
   },
   "outputs": [
    {
     "name": "stdout",
     "output_type": "stream",
     "text": [
      "(b'aquilae_maximus', 1)\n",
      "\n",
      "(b'lietque', 1)\n",
      "\n",
      "(b'hinc_horatius', 1)\n",
      "\n",
      "(b'oleo_utantur', 1)\n",
      "\n",
      "(b'quidam_inulam', 1)\n",
      "\n",
      "(b'quattuor_causis', 2)\n",
      "\n",
      "(b'praefecto_remedium', 1)\n",
      "\n",
      "(b'homine_aut', 3)\n"
     ]
    }
   ],
   "source": [
    "for k,v in bigram.vocab.items():\n",
    "    if v > 5:\n",
    "    print(x)\n",
    "    input()"
   ]
  },
  {
   "cell_type": "code",
   "execution_count": null,
   "metadata": {
    "collapsed": true
   },
   "outputs": [],
   "source": []
  },
  {
   "cell_type": "code",
   "execution_count": null,
   "metadata": {
    "collapsed": true
   },
   "outputs": [],
   "source": []
  }
 ],
 "metadata": {
  "kernelspec": {
   "display_name": "Python 3",
   "language": "python",
   "name": "python3"
  },
  "language_info": {
   "codemirror_mode": {
    "name": "ipython",
    "version": 3
   },
   "file_extension": ".py",
   "mimetype": "text/x-python",
   "name": "python",
   "nbconvert_exporter": "python",
   "pygments_lexer": "ipython3",
   "version": "3.4.3"
  }
 },
 "nbformat": 4,
 "nbformat_minor": 0
}
