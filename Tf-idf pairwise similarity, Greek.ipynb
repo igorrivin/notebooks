{
 "metadata": {
  "name": "",
  "signature": "sha256:2f10b55198f999a0603ce91a773bc882993f5c10273f2153f1286bfec973e387"
 },
 "nbformat": 3,
 "nbformat_minor": 0,
 "worksheets": [
  {
   "cells": [
    {
     "cell_type": "code",
     "collapsed": false,
     "input": [
      "from cltk.corpus.greek.tlg_indices import TLG_INDEX\n",
      "from cltk.corpus.utils.formatter import assemble_tlg_author_filepaths\n",
      "from cltk.corpus.utils.formatter import tlg_plaintext_cleanup\n",
      "from cltk.stop.greek.stops import STOPS_LIST\n",
      "from collections import Counter\n",
      "from nltk.tokenize.punkt import PunktLanguageVars\n",
      "from nltk.tokenize import RegexpTokenizer\n",
      "import numpy\n",
      "import os\n",
      "from pprint import pprint\n",
      "import re\n",
      "#from sklearn.feature_extraction.text import TfidfVectorizer  #re-enable this once dl'd"
     ],
     "language": "python",
     "metadata": {},
     "outputs": [],
     "prompt_number": 13
    },
    {
     "cell_type": "code",
     "collapsed": false,
     "input": [
      "tlg_files = assemble_tlg_author_filepaths()\n",
      "\n",
      "'''\n",
      "for f in tlg_files:\n",
      "    with open(f) as fo:\n",
      "        fr = fo.read()\n",
      "    clean_text = tlg_plaintext_cleanup(fr)\n",
      "'''\n",
      "\n",
      "\n",
      "def clean_read(input_file):\n",
      "    \"\"\"As a function\"\"\"\n",
      "    with open(input_file) as f:\n",
      "        r = f.read()\n",
      "        return tlg_plaintext_cleanup(r)\n",
      "\n",
      "def clean_read_gen(input_file):\n",
      "    '''As a generator'''\n",
      "    with open(input_file) as f:\n",
      "        r = f.read()\n",
      "        yield tlg_plaintext_cleanup(r)\n",
      "\n",
      "#! Can scikit-learn handle a generator? the reg function could be memory-intensive\n",
      "documents = [clean_read(f) for f in tlg_files]"
     ],
     "language": "python",
     "metadata": {},
     "outputs": [],
     "prompt_number": 14
    },
    {
     "cell_type": "code",
     "collapsed": false,
     "input": [
      "len(documents)"
     ],
     "language": "python",
     "metadata": {},
     "outputs": [
      {
       "metadata": {},
       "output_type": "pyout",
       "prompt_number": 18,
       "text": [
        "1823"
       ]
      }
     ],
     "prompt_number": 18
    },
    {
     "cell_type": "code",
     "collapsed": false,
     "input": [
      "# http://scikit-learn.org/stable/modules/generated/sklearn.feature_extraction.text.CountVectorizer.html#sklearn.feature_extraction.text.CountVectorizer.fit_transform\n",
      "tfidf = TfidfVectorizer().fit_transform(documents)\n",
      "pairwise_similarity = (tfidf * tfidf.T).A"
     ],
     "language": "python",
     "metadata": {},
     "outputs": [],
     "prompt_number": 7
    },
    {
     "cell_type": "code",
     "collapsed": false,
     "input": [
      "# print arrays, 1823 lines x 1823 scores each\n",
      "ps_file_rel = '~/cltk_data/user_data/tlg_tfidf_pairwise_sims.txt'\n",
      "ps_rel = os.path.expanduser(ps_file_rel)\n",
      "numpy.savetxt(ps_rel,\n",
      "              pairwise_similarity,\n",
      "              fmt='%1.8f')"
     ],
     "language": "python",
     "metadata": {},
     "outputs": [],
     "prompt_number": 8
    },
    {
     "cell_type": "code",
     "collapsed": false,
     "input": [
      "# now match line numbers with their order in TLG_INDEX\n",
      "# make list of authors indexed by their order\n",
      "counter_author = {}\n",
      "for x, y in enumerate(TLG_INDEX):\n",
      "    counter_author[x] = TLG_INDEX[y]"
     ],
     "language": "python",
     "metadata": {},
     "outputs": [],
     "prompt_number": 9
    },
    {
     "cell_type": "code",
     "collapsed": false,
     "input": [
      "# make a dict of author name + list of scores\n",
      "author_scores = {}\n",
      "import csv\n",
      "with open(ps_rel, newline='') as csvfile:\n",
      "    array_reader = csv.reader(csvfile, delimiter=' ')\n",
      "    for line, numbers in enumerate(array_reader):\n",
      "        row_author_name = counter_author[line]\n",
      "        author_scores[row_author_name] = numbers"
     ],
     "language": "python",
     "metadata": {},
     "outputs": [],
     "prompt_number": 10
    },
    {
     "cell_type": "code",
     "collapsed": false,
     "input": [
      "final_pairwise_comps = {}\n",
      "for name, scores in author_scores.items():\n",
      "    for number, score in enumerate(scores):\n",
      "        if number in counter_author.keys():\n",
      "            author_name_score = counter_author[number]\n",
      "            author_comparison_pair = name + ' v. ' + author_name_score\n",
      "            final_pairwise_comps[author_comparison_pair] = score"
     ],
     "language": "python",
     "metadata": {},
     "outputs": [],
     "prompt_number": 11
    },
    {
     "cell_type": "code",
     "collapsed": false,
     "input": [
      "ps_file_final_rel = '~/cltk_data/user_data/tlg_tfidf_pairwise_sims_final.txt'\n",
      "ps_final = os.path.expanduser(ps_file_final_rel)\n",
      "with open(ps_final, 'w') as out:\n",
      "    pprint(final_pairwise_comps, stream=out)"
     ],
     "language": "python",
     "metadata": {},
     "outputs": [],
     "prompt_number": 12
    }
   ],
   "metadata": {}
  }
 ]
}