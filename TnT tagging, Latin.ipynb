{
 "metadata": {
  "name": "",
  "signature": "sha256:434d03bd036e9a506d793906f97e790e99c06b1922f51180fb006ee91024208e"
 },
 "nbformat": 3,
 "nbformat_minor": 0,
 "worksheets": [
  {
   "cells": [
    {
     "cell_type": "code",
     "collapsed": false,
     "input": [
      "from nltk.corpus.reader import TaggedCorpusReader\n",
      "from nltk.tag import tnt\n",
      "import pickle"
     ],
     "language": "python",
     "metadata": {},
     "outputs": [],
     "prompt_number": 1
    },
    {
     "cell_type": "code",
     "collapsed": false,
     "input": [
      "#trainer\n",
      "reader = TaggedCorpusReader('.', 'latin_training_set.pos')\n",
      "train_sents = reader.tagged_sents()"
     ],
     "language": "python",
     "metadata": {},
     "outputs": [],
     "prompt_number": 2
    },
    {
     "cell_type": "code",
     "collapsed": false,
     "input": [
      "#tester\n",
      "test_reader = TaggedCorpusReader('.', 'latin_testing_set.pos')\n",
      "test_sents = reader.tagged_sents()"
     ],
     "language": "python",
     "metadata": {},
     "outputs": [],
     "prompt_number": 3
    },
    {
     "cell_type": "code",
     "collapsed": false,
     "input": [
      "tnt_tagger = tnt.TnT()\n",
      "tnt_tagger.train(train_sents)"
     ],
     "language": "python",
     "metadata": {},
     "outputs": [],
     "prompt_number": 4
    },
    {
     "cell_type": "code",
     "collapsed": false,
     "input": [
      "with open('latin_tnt_tagger.pickle', 'wb') as f:\n",
      "    pickle.dump(tnt_tagger, f)"
     ],
     "language": "python",
     "metadata": {},
     "outputs": [],
     "prompt_number": 5
    },
    {
     "cell_type": "code",
     "collapsed": false,
     "input": [
      "tnt_tagger.evaluate(test_sents)"
     ],
     "language": "python",
     "metadata": {},
     "outputs": [
      {
       "metadata": {},
       "output_type": "pyout",
       "prompt_number": 6,
       "text": [
        "0.9871855183184991"
       ]
      }
     ],
     "prompt_number": 6
    }
   ],
   "metadata": {}
  }
 ]
}