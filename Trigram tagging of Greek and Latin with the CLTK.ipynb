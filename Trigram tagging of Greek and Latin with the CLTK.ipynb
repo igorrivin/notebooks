{
 "metadata": {
  "name": "",
  "signature": "sha256:9e561c9683618ce6eccdb6f9646b4c5f7a9e9e62a4103e9d9ba1f232ebc34317"
 },
 "nbformat": 3,
 "nbformat_minor": 0,
 "worksheets": [
  {
   "cells": [
    {
     "cell_type": "markdown",
     "metadata": {},
     "source": [
      "The following is an evaluation of `TrigramTagger`, one the simpler taggers offered by the NLTK."
     ]
    },
    {
     "cell_type": "heading",
     "level": 1,
     "metadata": {},
     "source": [
      "Ancient Greek"
     ]
    },
    {
     "cell_type": "markdown",
     "metadata": {},
     "source": [
      "To replicate this, clone https://github.com/cltk/greek_treebank_perseus and copy the `.pos` into your current directory, naming it `greek_training_set.pos`."
     ]
    },
    {
     "cell_type": "code",
     "collapsed": false,
     "input": [
      "from nltk.corpus.reader import TaggedCorpusReader\n",
      "from nltk.tag import TrigramTagger\n",
      "from nltk.tokenize import wordpunct_tokenize"
     ],
     "language": "python",
     "metadata": {},
     "outputs": [],
     "prompt_number": 1
    },
    {
     "cell_type": "code",
     "collapsed": false,
     "input": [
      "reader = TaggedCorpusReader('.', 'greek_training_set.pos')\n",
      "train_sents = reader.tagged_sents()"
     ],
     "language": "python",
     "metadata": {},
     "outputs": [],
     "prompt_number": 2
    },
    {
     "cell_type": "code",
     "collapsed": false,
     "input": [
      "tagger = TrigramTagger(train_sents)\n",
      "tagger.evaluate(train_sents)"
     ],
     "language": "python",
     "metadata": {},
     "outputs": [
      {
       "metadata": {},
       "output_type": "pyout",
       "prompt_number": 3,
       "text": [
        "0.8101779247007322"
       ]
      }
     ],
     "prompt_number": 3
    },
    {
     "cell_type": "heading",
     "level": 1,
     "metadata": {},
     "source": [
      "Latin"
     ]
    },
    {
     "cell_type": "markdown",
     "metadata": {},
     "source": [
      "To replicate this, clone https://github.com/cltk/latin_treebank_perseus and copy the `.pos` into your current directory, naming it `latin_training_set.pos`."
     ]
    },
    {
     "cell_type": "code",
     "collapsed": false,
     "input": [
      "reader = TaggedCorpusReader('.', 'latin_training_set.pos')\n",
      "train_sents = reader.tagged_sents()"
     ],
     "language": "python",
     "metadata": {},
     "outputs": [],
     "prompt_number": 4
    },
    {
     "cell_type": "code",
     "collapsed": false,
     "input": [
      "tagger = TrigramTagger(train_sents)\n",
      "tagger.evaluate(train_sents)"
     ],
     "language": "python",
     "metadata": {},
     "outputs": [
      {
       "metadata": {},
       "output_type": "pyout",
       "prompt_number": 5,
       "text": [
        "0.8162128596428504"
       ]
      }
     ],
     "prompt_number": 5
    }
   ],
   "metadata": {}
  }
 ]
}