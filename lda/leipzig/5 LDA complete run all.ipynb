{
 "cells": [
  {
   "cell_type": "markdown",
   "metadata": {},
   "source": [
    "Following tutorial [\"Topic Modeling for Fun and Profit\"](http://radimrehurek.com/topic_modeling_tutorial/2%20-%20Topic%20Modeling.html)"
   ]
  },
  {
   "cell_type": "code",
   "execution_count": 31,
   "metadata": {
    "collapsed": true
   },
   "outputs": [],
   "source": [
    "import itertools\n",
    "import logging\n",
    "import os\n",
    "import pickle\n",
    "import time\n",
    "\n",
    "from cltk.stop.greek.stops import STOPS_LIST\n",
    "import gensim\n",
    "from gensim.corpora.mmcorpus import MmCorpus\n",
    "from gensim.utils import simple_preprocess\n",
    "import numpy as np"
   ]
  },
  {
   "cell_type": "code",
   "execution_count": 2,
   "metadata": {
    "collapsed": true
   },
   "outputs": [],
   "source": [
    "logging.basicConfig(format='%(levelname)s : %(message)s', level=logging.INFO)\n",
    "logging.root.level = logging.INFO  # ipython sometimes messes up the logging setup; restore"
   ]
  },
  {
   "cell_type": "code",
   "execution_count": 3,
   "metadata": {
    "collapsed": true
   },
   "outputs": [],
   "source": [
    "user_dir = os.path.expanduser('~/cltk_data/user_data/lda_tlg/')\n",
    "try:\n",
    "    os.makedirs(user_dir)\n",
    "except FileExistsError:\n",
    "    pass"
   ]
  },
  {
   "cell_type": "code",
   "execution_count": 4,
   "metadata": {
    "collapsed": true
   },
   "outputs": [],
   "source": [
    "PREPROCESS_DEACCENT = False\n",
    "STOPS_LIST = [simple_preprocess(stop, deacc=PREPROCESS_DEACCENT)[0] for stop in STOPS_LIST if len(simple_preprocess(stop, deacc=PREPROCESS_DEACCENT)) > 0]\n",
    "STOPS_LIST = ['τῆϲ', 'τοῖϲ', 'εἰϲ', 'πρὸϲ', 'τοὺϲ']\n",
    "STOPS_LIST += [\"τηϲ\", \"τοιϲ\", \"εϲτι\", \"προϲ\", \"ειϲ\", \"ταϲ\", \"ωϲ\", \"τουϲ\", \"ξυν\", 'πρε']  # useful for after rm accents"
   ]
  },
  {
   "cell_type": "code",
   "execution_count": 5,
   "metadata": {
    "collapsed": true
   },
   "outputs": [],
   "source": [
    "TOK_MIN = 3  # rm words shorter than\n",
    "TOK_MAX = 20  # rm words longer than\n",
    "DOC_MIN = 50  # drop docs shorter than\n",
    "def tokenize(text):\n",
    "    \"\"\"Tokenize and rm stopwords. The Gensim `simple_preprocess` will work fine\n",
    "    here becuase the Greek text has already been aggressively cleaned up.\n",
    "    https://radimrehurek.com/gensim/utils.html#gensim.utils.simple_preprocess\n",
    "    \"\"\"\n",
    "    tokens = [token for token in simple_preprocess(text, deacc=PREPROCESS_DEACCENT, min_len=TOK_MIN, max_len=TOK_MAX)]\n",
    "    return [token for token in tokens if token not in STOPS_LIST]\n",
    "    \n",
    "\n",
    "def iter_tlg(tlg_dir):\n",
    "    \"\"\"Stream TLG doc-by-doc.\"\"\"\n",
    "    file_names = os.listdir(tlg_dir)\n",
    "    for file_name in file_names:\n",
    "        file_path = os.path.join(tlg_dir, file_name)\n",
    "        with open(file_path) as file_open:\n",
    "            file_read = file_open.read()\n",
    "        tokens = tokenize(file_read)\n",
    "        # ignore very short docs\n",
    "        # todo: get file length distribution to better know what is short in TLG\n",
    "        if len(tokens) < DOC_MIN:\n",
    "            continue\n",
    "        yield file_name, tokens"
   ]
  },
  {
   "cell_type": "code",
   "execution_count": 6,
   "metadata": {},
   "outputs": [
    {
     "name": "stdout",
     "output_type": "stream",
     "text": [
      "TLG2346.TXT ['πολυκρίτης', 'ἱστορία', 'αὕτη', 'ἐλήφθη', 'ἀνδρίσκου', 'ναξιακῶν', 'γράφει', 'αὐτῆς', 'θεόφραστος', 'καιρούς']\n",
      "TLG1389.TXT ['αβαρις', 'ὄνομα', 'κύριον', 'λοιμοῦ', 'φασι', 'πᾶσαν', 'οἰκου', 'μένην', 'γεγονότος', 'ἀνεῖλεν']\n",
      "TLG0404.TXT ['εἶτ', 'γυναικός', 'ἐστιν', 'εὐνοϊκώτερον', 'γαμετῆς', 'ἑταίρα', 'πολύ', 'μάλ', 'εἰκότως', 'νόμῳ']\n",
      "TLG0235.TXT ['ἕκητι', 'συλοσῶντος', 'εὐρυχωρίη', 'πολλὰ', 'μεταιχμίωι', 'νότος', 'κυλίνδει', 'κύματ', 'εὐρείης', 'ἁλός']\n",
      "TLG0535.TXT ['ἀναίτιον', 'αἴτιον', 'οἷον', 'ἅμα', 'τοῦτο', 'γεγονέναι', 'τοῦτο', 'λαμβάνουσιν', 'μάλιστα', 'ταῖς']\n",
      "TLG0507.TXT ['σφίγγ', 'ἄρρεν', 'μάγειρον', 'οἰκίαν', 'εἴληφ', 'ἁπλῶς', 'θεοὺς', 'λέγῃ', 'συνίημι', 'καινὰ']\n",
      "TLG1816.TXT ['φωσφόρε', 'φωσφορέουσα', 'φίλων', 'φῶς', 'φῶς', 'φέρε', 'λαμπάς', 'μοι', 'τεὸν', 'ἀεῖσαι']\n",
      "TLG0476.TXT ['πυθαγοριστὶ', 'θύομεν', 'λοξίᾳ', 'ἔμψυχον', 'οὐδὲν', 'ἐσθίοντες', 'παντελῶς', 'βοιώτιος', 'ὀλίγα', 'ἄλλων']\n"
     ]
    }
   ],
   "source": [
    "# Take a look at the docs post-processing\n",
    "# Open corpus iterator\n",
    "tlg_preprocessed = os.path.expanduser('~/cltk_data/greek/text/tlg/plaintext/')\n",
    "stream = iter_tlg(tlg_preprocessed)\n",
    "for title, tokens in itertools.islice(iter_tlg(tlg_preprocessed), 8):\n",
    "    print(title, tokens[:10])  # print the article title and its first ten tokens"
   ]
  },
  {
   "cell_type": "markdown",
   "metadata": {},
   "source": [
    "# Mk word dictionaries"
   ]
  },
  {
   "cell_type": "code",
   "execution_count": 7,
   "metadata": {
    "collapsed": true
   },
   "outputs": [],
   "source": [
    "# Open corpus iterator\n",
    "doc_stream = (tokens for _, tokens in iter_tlg(tlg_preprocessed))"
   ]
  },
  {
   "cell_type": "code",
   "execution_count": 12,
   "metadata": {
    "collapsed": true
   },
   "outputs": [],
   "source": [
    "no_below = 20\n",
    "no_above = 0.1"
   ]
  },
  {
   "cell_type": "code",
   "execution_count": 20,
   "metadata": {},
   "outputs": [
    {
     "name": "stderr",
     "output_type": "stream",
     "text": [
      "INFO : loading Dictionary object from /home/kyle/cltk_data/user_data/gensim_dict_id2word_tlg_nobelow20_noabove0.1_tokmin3_tokmax20_docmin50_deaccentFalse.dict\n",
      "INFO : loaded /home/kyle/cltk_data/user_data/gensim_dict_id2word_tlg_nobelow20_noabove0.1_tokmin3_tokmax20_docmin50_deaccentFalse.dict\n"
     ]
    },
    {
     "name": "stdout",
     "output_type": "stream",
     "text": [
      "Dictionary(88029 unique tokens: ['ἐλήφθη', 'θεόφραστος', 'καιρούς', 'συνέβησαν', 'ἔτεμνον']...)\n"
     ]
    }
   ],
   "source": [
    "# store the dictionary, for future reference\n",
    "dict_name = 'gensim_dict_id2word_tlg_nobelow{}_noabove{}_tokmin{}_tokmax{}_docmin{}_deaccent{}.dict'.format(no_below, \n",
    "                                                                                                            no_above, \n",
    "                                                                                                            TOK_MIN, \n",
    "                                                                                                            TOK_MAX, \n",
    "                                                                                                            DOC_MIN, \n",
    "                                                                                                            PREPROCESS_DEACCENT)\n",
    "dict_path = os.path.join(user_dir, dict_name)\n",
    "\n",
    "try:\n",
    "    id2word_tlg = gensim.corpora.dictionary.Dictionary.load(dict_path)\n",
    "except FileNotFoundError:\n",
    "    t0 = time.time()\n",
    "    # ~4 min on TLG corpus if rm accents; ~w min if not\n",
    "    id2word_tlg = gensim.corpora.Dictionary(doc_stream)\n",
    "    # this cutoff might lose too much info, we'll see\n",
    "    # ignore words that appear in less than 20 documents or more than 10% documents\n",
    "    id2word_tlg.filter_extremes(no_below=no_below, no_above=no_above)\n",
    "    id2word_tlg.save(dict_path)\n",
    "    print('Time to mk new corpus dictionary:', time.time() - t0)\n",
    "print(id2word_tlg)"
   ]
  },
  {
   "cell_type": "markdown",
   "metadata": {},
   "source": [
    "# Mk vectors\n",
    "\n",
    "Now start again with the corpus, turning the actual words into integers from our map."
   ]
  },
  {
   "cell_type": "code",
   "execution_count": null,
   "metadata": {
    "collapsed": true
   },
   "outputs": [],
   "source": [
    "# Illustrate what this BoW space looks like with example doc\n",
    "doc = \"περὶ ποιητικῆς αὐτῆς τε καὶ τῶν εἰδῶν αὐτῆς, ἥν τινα δύναμιν ἕκαστον ἔχει, καὶ πῶς δεῖ συνίστασθαι τοὺς μύθους [10] εἰ μέλλει καλῶς ἕξειν ἡ ποίησις, ἔτι δὲ ἐκ πόσων καὶ ποίων ἐστὶ μορίων, ὁμοίως δὲ καὶ περὶ τῶν ἄλλων ὅσα τῆς αὐτῆς ἐστι μεθόδου, λέγωμεν ἀρξάμενοι κατὰ φύσιν πρῶτον ἀπὸ τῶν πρώτων.\"\n",
    "doc = ' '.join(simple_preprocess(doc))\n",
    "bow = id2word_tlg.doc2bow(tokenize(doc))\n",
    "print(bow)  # words both in BoW dict and doc\n",
    "print(id2word_tlg[bow[0][0]])  # map int back to str"
   ]
  },
  {
   "cell_type": "code",
   "execution_count": null,
   "metadata": {
    "collapsed": true
   },
   "outputs": [],
   "source": [
    "class TLGCorpus(object):\n",
    "    def __init__(self, dump_file, dictionary, clip_docs=None):\n",
    "        \"\"\"Yield each document in turn, as a list of tokens (unicode strings).\n",
    "        \"\"\"\n",
    "        self.dump_file = dump_file\n",
    "        self.dictionary = dictionary\n",
    "        self.clip_docs = clip_docs\n",
    "    \n",
    "    def __iter__(self):\n",
    "        self.titles = []\n",
    "        for title, tokens in itertools.islice(iter_tlg(self.dump_file), self.clip_docs):\n",
    "            self.titles.append(title)\n",
    "            yield self.dictionary.doc2bow(tokens)\n",
    "    \n",
    "    def __len__(self):\n",
    "        return self.clip_docs"
   ]
  },
  {
   "cell_type": "code",
   "execution_count": null,
   "metadata": {
    "collapsed": true
   },
   "outputs": [],
   "source": [
    "# make the BoW corpus\n",
    "# creates a stream of bag-of-words vectors\n",
    "corpus_bow_tlg = TLGCorpus(tlg_preprocessed, id2word_tlg)\n",
    "\n",
    "# reduce corpus size for faster testing\n",
    "#corpus_bow_tlg = gensim.utils.ClippedCorpus(corpus_bow_tlg, 100)\n",
    "\n",
    "# vector = next(iter(corpus_bow_tlg))\n",
    "# print(vector)  # print the first vector in the stream\n",
    "# [(0, 1), (1, 1), (2, 1), ...]\n",
    "\n",
    "# # what is the most common word in that first article?\n",
    "# most_index, most_count = max(vector, key=lambda _tuple: _tuple[1])\n",
    "# print(id2word_tlg[most_index], most_count)  # μιλησιοις 2"
   ]
  },
  {
   "cell_type": "code",
   "execution_count": null,
   "metadata": {
    "collapsed": true
   },
   "outputs": [],
   "source": [
    "# Save BoW\n",
    "# ~4 min on TLG corpus\n",
    "bow_name = 'gensim_bow_tlg_nobelow{}_noabove{}_tokmin{}_tokmax{}_docmin{}_deaccent{}.mm'.format(no_below, \n",
    "                                                                                                no_above, \n",
    "                                                                                                TOK_MIN, \n",
    "                                                                                                TOK_MAX, \n",
    "                                                                                                DOC_MIN, \n",
    "                                                                                                PREPROCESS_DEACCENT)\n",
    "bow_path = os.path.join(user_dir, bow_name)\n",
    "t0 = time.time()\n",
    "gensim.corpora.MmCorpus.serialize(bow_path, corpus_bow_tlg)\n",
    "print('Time to save BoW space:', time.time() - t0)\n",
    "\n",
    "# Later load saved corpus with:\n",
    "# corpus_bow_tlg = gensim.corpora.MmCorpus(bow_path)"
   ]
  },
  {
   "cell_type": "markdown",
   "metadata": {},
   "source": [
    "# LDA transformation"
   ]
  },
  {
   "cell_type": "code",
   "execution_count": 10,
   "metadata": {
    "collapsed": true
   },
   "outputs": [],
   "source": [
    "# Quick testing using just a part of the corpus\n",
    "\n",
    "NUM_TOPICS_LIST = [5, 10, 20, 40, 60, 120]\n",
    "PASSES = 1"
   ]
  },
  {
   "cell_type": "code",
   "execution_count": null,
   "metadata": {
    "collapsed": true
   },
   "outputs": [],
   "source": [
    "for num_topics in NUM_TOPICS_LIST:\n",
    "    print('Beginning training ...')\n",
    "    print('... {} topics and {} passes ...'.format(num_topics, PASSES))\n",
    "    t0 = time.time()\n",
    "    lda_model = gensim.models.LdaMulticore(corpus_bow_tlg, num_topics=num_topics, id2word=id2word_tlg, passes=PASSES)\n",
    "    \n",
    "    # save LDA vector space\n",
    "    lda_space_name = 'gensim_lda_space_tlg_numtopics{}_numpasses{}_nobelow{}_noabove{}_tokmin{}_tokmax{}_docmin{}_deaccent{}.mm'.format(num_topics, \n",
    "                                                                                                                                        PASSES, \n",
    "                                                                                                                                        no_below, \n",
    "                                                                                                                                        no_above, \n",
    "                                                                                                                                        TOK_MIN, \n",
    "                                                                                                                                        TOK_MAX, \n",
    "                                                                                                                                        DOC_MIN, \n",
    "                                                                                                                                        PREPROCESS_DEACCENT)\n",
    "    path_lda = os.path.join(user_dir, lda_space_name)\n",
    "    gensim.corpora.MmCorpus.serialize(path_lda, lda_model[corpus_bow_tlg])\n",
    "    \n",
    "    # save model\n",
    "    lda_model_name = 'gensim_lda_model_tlg_numtopics{}_numpasses{}_nobelow{}_noabove{}_tokmin{}_tokmax{}_docmin{}_deaccent{}.model'.format(num_topics, \n",
    "                                                                                                                                           PASSES, \n",
    "                                                                                                                                           no_below, \n",
    "                                                                                                                                           no_above, \n",
    "                                                                                                                                           TOK_MIN, \n",
    "                                                                                                                                           TOK_MAX, \n",
    "                                                                                                                                           DOC_MIN, \n",
    "                                                                                                                                           PREPROCESS_DEACCENT)\n",
    "    path_lda = os.path.join(user_dir, lda_model_name)\n",
    "    lda_model.save(path_lda)\n",
    "    print('Time to train LDA model space:', time.time() - t0)"
   ]
  },
  {
   "cell_type": "code",
   "execution_count": null,
   "metadata": {
    "collapsed": true
   },
   "outputs": [],
   "source": [
    "# # Examples of how to use the model\n",
    "# lda_model.print_topics(-1)  # print a few most important words for each LDA topic\n",
    "# # transform text into the bag-of-words space\n",
    "# bow_vector = id2word_tlg.doc2bow(tokenize(doc))\n",
    "# print([(id2word_tlg[id], count) for id, count in bow_vector])\n",
    "\n",
    "# # transform into LDA space\n",
    "# lda_vector = lda_model[bow_vector]\n",
    "# print(lda_vector)\n",
    "\n",
    "# # print the document's single most prominent LDA topic\n",
    "# print(lda_model.print_topic(max(lda_vector, key=lambda item: item[1])[0]))"
   ]
  },
  {
   "cell_type": "markdown",
   "metadata": {},
   "source": [
    "# Evaluation"
   ]
  },
  {
   "cell_type": "markdown",
   "metadata": {},
   "source": [
    "## Word intrusion\n",
    "\n",
    "> For each trained topic, they take its first ten words, then substitute one of them with another, randomly chosen word (intruder!) and see whether a human can reliably tell which one it was. If so, the trained topic is topically coherent (good); if not, the topic has no discernible theme (bad)"
   ]
  },
  {
   "cell_type": "code",
   "execution_count": 13,
   "metadata": {},
   "outputs": [
    {
     "name": "stderr",
     "output_type": "stream",
     "text": [
      "INFO : loading LdaMulticore object from /home/kyle/cltk_data/user_data/gensim_lda_model_tlg_numtopics5_numpasses1_nobelow20_noabove0.1_tokmin3_tokmax20_docmin50_deaccentFalse.model\n",
      "INFO : loading expElogbeta from /home/kyle/cltk_data/user_data/gensim_lda_model_tlg_numtopics5_numpasses1_nobelow20_noabove0.1_tokmin3_tokmax20_docmin50_deaccentFalse.model.expElogbeta.npy with mmap=None\n",
      "INFO : setting ignored attribute state to None\n",
      "INFO : setting ignored attribute id2word to None\n",
      "INFO : setting ignored attribute dispatcher to None\n",
      "INFO : loaded /home/kyle/cltk_data/user_data/gensim_lda_model_tlg_numtopics5_numpasses1_nobelow20_noabove0.1_tokmin3_tokmax20_docmin50_deaccentFalse.model\n",
      "INFO : loading LdaMulticore object from /home/kyle/cltk_data/user_data/gensim_lda_model_tlg_numtopics5_numpasses1_nobelow20_noabove0.1_tokmin3_tokmax20_docmin50_deaccentFalse.model.state\n",
      "INFO : loaded /home/kyle/cltk_data/user_data/gensim_lda_model_tlg_numtopics5_numpasses1_nobelow20_noabove0.1_tokmin3_tokmax20_docmin50_deaccentFalse.model.state\n",
      "INFO : loading LdaMulticore object from /home/kyle/cltk_data/user_data/gensim_lda_model_tlg_numtopics10_numpasses1_nobelow20_noabove0.1_tokmin3_tokmax20_docmin50_deaccentFalse.model\n",
      "INFO : loading expElogbeta from /home/kyle/cltk_data/user_data/gensim_lda_model_tlg_numtopics10_numpasses1_nobelow20_noabove0.1_tokmin3_tokmax20_docmin50_deaccentFalse.model.expElogbeta.npy with mmap=None\n",
      "INFO : setting ignored attribute state to None\n",
      "INFO : setting ignored attribute id2word to None\n",
      "INFO : setting ignored attribute dispatcher to None\n",
      "INFO : loaded /home/kyle/cltk_data/user_data/gensim_lda_model_tlg_numtopics10_numpasses1_nobelow20_noabove0.1_tokmin3_tokmax20_docmin50_deaccentFalse.model\n",
      "INFO : loading LdaMulticore object from /home/kyle/cltk_data/user_data/gensim_lda_model_tlg_numtopics10_numpasses1_nobelow20_noabove0.1_tokmin3_tokmax20_docmin50_deaccentFalse.model.state\n",
      "INFO : loaded /home/kyle/cltk_data/user_data/gensim_lda_model_tlg_numtopics10_numpasses1_nobelow20_noabove0.1_tokmin3_tokmax20_docmin50_deaccentFalse.model.state\n",
      "INFO : loading LdaMulticore object from /home/kyle/cltk_data/user_data/gensim_lda_model_tlg_numtopics20_numpasses1_nobelow20_noabove0.1_tokmin3_tokmax20_docmin50_deaccentFalse.model\n",
      "INFO : loading expElogbeta from /home/kyle/cltk_data/user_data/gensim_lda_model_tlg_numtopics20_numpasses1_nobelow20_noabove0.1_tokmin3_tokmax20_docmin50_deaccentFalse.model.expElogbeta.npy with mmap=None\n",
      "INFO : setting ignored attribute state to None\n",
      "INFO : setting ignored attribute id2word to None\n",
      "INFO : setting ignored attribute dispatcher to None\n",
      "INFO : loaded /home/kyle/cltk_data/user_data/gensim_lda_model_tlg_numtopics20_numpasses1_nobelow20_noabove0.1_tokmin3_tokmax20_docmin50_deaccentFalse.model\n",
      "INFO : loading LdaMulticore object from /home/kyle/cltk_data/user_data/gensim_lda_model_tlg_numtopics20_numpasses1_nobelow20_noabove0.1_tokmin3_tokmax20_docmin50_deaccentFalse.model.state\n"
     ]
    },
    {
     "name": "stdout",
     "output_type": "stream",
     "text": [
      "Loading model: gensim_lda_model_tlg_numtopics5_numpasses1_nobelow20_noabove0.1_tokmin3_tokmax20_docmin50_deaccentFalse.model ...\n",
      "... for word intrusion testing ...\n",
      "Top 50 words of each LDA model:\n",
      "[['θεόπομπος', 'ἡρώδης', 'ἐβασίλευσε', 'ἀλώπηξ', 'ἱεροσολύμων', 'ἰσραὴλ', 'ἐπίσκοπος', 'ἡρώδου', 'ἰουδαίοις', 'ἰουδαῖοι', 'ἑρμηνεία', 'ἀδὰμ', 'ἱεροσόλυμα', 'καῖσαρ', 'μιχαὴλ', 'ἰουδαίους', 'ἡρώδην', 'ἰωσὴφ', 'ἱεροσολύμοις', 'νῶε', 'ἀντιοχείας', 'φιλιππικῶν', 'ἰούδα', 'ἀγάπης', 'ἀσσυρίων', 'κωνσταντῖνος', 'ἰουδαίαν', 'μωυσῆς', 'κωνσταντίνου', 'ἀντιόχου', 'ἐγέννησε', 'ἑβραίων', 'ξένε', 'ἐκπέμπει', 'τᾶς', 'κωνσταντῖνον', 'ἰακὼβ', 'ἱερουσαλὴμ', 'μωυσέως', 'δημοσθένους', 'ξὺν', 'χαλδαίων', 'ἰσραηλιτῶν', 'ἐντολῶν', 'ἀβραὰμ', 'ἀρχιερέως', 'ἀντιπάτρου', 'ἀλεξανδρείας', 'ἡρώδῃ', 'ὑπολαβὼν'], ['πρε', 'ἐβασίλευσε', 'θεόπομπος', 'ἡρώδου', 'λυσίας', 'ὑπερείδης', 'ὁσίου', 'σύρου', 'ἐφραίμ', 'ἱεροσόλυμα', 'ἡρώδης', 'ἰσαῖος', 'ἀδὰμ', 'κτησιφῶντος', 'μιχαὴλ', 'ἰούδα', 'ἑρμηνεία', 'ἰσραὴλ', 'τρι', 'ἀσσυρίων', 'ἰουδαίαν', 'μωυσῆς', 'παναγίας', 'αἰσχίνης', 'ἐπίσκοπος', 'ἰουδαῖοι', 'ἡρώδην', 'ἰουδαίους', 'καῖσαρ', 'ἱεροσολύμων', 'ἀλώπηξ', 'δείναρχος', 'ἰδεῶν', 'χαλδαίων', 'ἀγάπης', 'ἰουδαίοις', 'μωυσέως', 'κωνσταντίνου', 'ἱερουσαλὴμ', 'ἀντιφῶν', 'κωνσταντῖνος', 'νῶε', 'ἰσοκράτης', 'πατριάρχου', 'ἀβραὰμ', 'ἑβραίων', 'ἡρακλείδης', 'καίσαρα', 'γνήσιος', 'δυναστεία'], ['ἐβασίλευσε', 'ἡρώδης', 'ἱεροσολύμων', 'ἱεροσόλυμα', 'ἰουδαίους', 'ἡρώδου', 'δυναστεία', 'μιχαὴλ', 'ἐπίσκοπος', 'καῖσαρ', 'ἱεροσολύμοις', 'ἀδὰμ', 'ἰούδα', 'ἡρώδην', 'ἰουδαίοις', 'ἰουδαίαν', 'ἑβραίων', 'θηβαίων', 'μωυσῆς', 'ἰσραὴλ', 'ἀβραὰμ', 'ἐκπέμπει', 'ἰωάννην', 'ἀλεξανδρείας', 'ἀσσυρίων', 'κωνσταντίνου', 'ἰσραηλιτῶν', 'ἀγάπης', 'χαλδαίων', 'ὑρκανὸν', 'ἡρακλείδης', 'ἀλώπηξ', 'ἡρώδῃ', 'λυσίας', 'κϛʹ', 'ἰουδαίας', 'ἰουδαῖοι', 'ἀντιοχείας', 'ἀρχιερεὺς', 'ἐντολῶν', 'ἰνδῶν', 'ἀριστοβούλου', 'ἀρχιερέα', 'καίσαρα', 'ἱερουσαλὴμ', 'ἑρμηνεύεται', 'κωνσταντῖνος', 'ἀντίοχος', 'ἀράβων', 'ἀντιπάτρου'], ['πρε', 'παναγίας', 'τρι', 'ἡρώδης', 'ἐφραίμ', 'σύρου', 'ὁσίου', 'θεόπομπος', 'ἐβασίλευσε', 'ἑβραίων', 'ἱεροσόλυμα', 'ἰουδαίους', 'ἱεροσολύμων', 'λυσίας', 'ἡρώδην', 'ἡρώδου', 'ἐπίσκοπος', 'καῖσαρ', 'ἰουδαίοις', 'κωνσταντῖνος', 'ἀντιοχείας', 'κτησιφῶντος', 'ἰούδα', 'ἰνδῶν', 'μιχαὴλ', 'κωνσταντίνου', 'ξένε', 'ἀδὰμ', 'ἰδεῶν', 'ἰσραὴλ', 'ἰωάννην', 'μωυσῆς', 'ἰσαῖος', 'ἀσσυρίων', 'ὑπερείδης', 'ἀντιόχου', 'ἰουδαίαν', 'ἱεροσολύμοις', 'ἰσοκράτης', 'ἡρόδωρος', 'ἀλώπηξ', 'ἰουδαῖοι', 'αἰσχίνης', 'δημοσθένους', 'βουλγάρων', 'φιλιππικῶν', 'ἀντιφῶν', 'ἡρακλείδης', 'δείναρχος', 'κωνσταντῖνον'], ['θεόπομπος', 'ἰουδαίους', 'ἡρώδης', 'ἡρώδου', 'ἱεροσολύμων', 'ἰουδαίοις', 'ἐβασίλευσε', 'ἱεροσόλυμα', 'ἰουδαίαν', 'μωυσῆς', 'καῖσαρ', 'μιχαὴλ', 'ἰσραὴλ', 'ἡρώδην', 'ἰούδα', 'ἰουδαῖοι', 'ἀσσυρίων', 'ἑβραίων', 'ἐπίσκοπος', 'ἰωάννην', 'ἱεροσολύμοις', 'ἀρχιερέως', 'ἡρώδῃ', 'κωνσταντίνου', 'ἀντίπατρος', 'ἀδὰμ', 'ἰουδαίας', 'κωνσταντῖνος', 'ἀβραὰμ', 'πρε', 'ἐκπέμπει', 'προφήτου', 'τίτος', 'φιλιππικῶν', 'ἀντιπάτρου', 'πολιορκίαν', 'βασίλειος', 'ἱππεῖς', 'ἰσραηλιτῶν', 'καίσαρα', 'ἰώσηπος', 'ἰωσήπου', 'ἀντίοχος', 'ἀρχιερεὺς', 'ἀγρίππας', 'σίμων', 'ὑρκανὸν', 'ἀράβων', 'γαλιλαίας', 'ἱεροσολυμιτῶν']]\n",
      "\n",
      "Can you spot the misplaced word in each topic?\n",
      "0: θεόπομπος ἡρώδης ἐβασίλευσε ἀλώπηξ ἱεροσολύμων ἰσραὴλ ἐπίσκοπος ἡρώδου ἰουδαίοις ἀντιφῶν\n",
      "1: πρε ἐβασίλευσε θεόπομπος ἡρώδου λυσίας βουλγάρων ὁσίου σύρου ἐφραίμ ἱεροσόλυμα\n",
      "2: ἐβασίλευσε ἡρώδης ἱεροσολύμων ἱεροσόλυμα ἰουδαίους ἡρώδου δυναστεία μιχαὴλ ἐπίσκοπος γνήσιος\n",
      "3: πρε παναγίας τρι ἡρώδης ἰακὼβ σύρου ὁσίου θεόπομπος ἐβασίλευσε ἑβραίων\n",
      "4: θεόπομπος ἰουδαίους ὁσίου ἡρώδου ἱεροσολύμων ἰουδαίοις ἐβασίλευσε ἱεροσόλυμα ἰουδαίαν μωυσῆς\n",
      "Actual replacements were:\n",
      "[(0, ('ἰουδαῖοι', 'ἀντιφῶν')), (1, ('ὑπερείδης', 'βουλγάρων')), (2, ('καῖσαρ', 'γνήσιος')), (3, ('ἐφραίμ', 'ἰακὼβ')), (4, ('ἡρώδης', 'ὁσίου'))]\n",
      "\n",
      "Loading model: gensim_lda_model_tlg_numtopics10_numpasses1_nobelow20_noabove0.1_tokmin3_tokmax20_docmin50_deaccentFalse.model ...\n",
      "... for word intrusion testing ...\n",
      "Top 50 words of each LDA model:\n",
      "[['πρε', 'ὁσίου', 'παναγίας', 'σύρου', 'τρι', 'ἐφραίμ', 'ἐβασίλευσε', 'ἡρώδης', 'ἱεροσολύμων', 'θεόπομπος', 'ἐπίσκοπος', 'ἡρώδην', 'ἡρώδου', 'ἱεροσόλυμα', 'ἰούδα', 'ἰουδαίους', 'ἀδὰμ', 'ἰσραὴλ', 'ἰδεῶν', 'μωυσῆς', 'ἰουδαίοις', 'λυσίας', 'ἡρόδωρος', 'ἑβραίων', 'ἰουδαίαν', 'ἐγέννησε', 'ἀσσυρίων', 'κον', 'ἀβραὰμ', 'ἰωάννην', 'ἀντιοχείας', 'ἀλώπηξ', 'τερ', 'στάσεων', 'χαλδαίων', 'καῖσαρ', 'κωνσταντῖνος', 'κτησιφῶντος', 'ἀγάπης', 'δυναστεία', 'ἰακὼβ', 'ἱεροσολύμοις', 'κωνσταντίνου', 'μωυσέως', 'ἀντιόχου', 'κατακλυσμοῦ', 'ἑρμηνεία', 'αἰσχίνης', 'μιχαὴλ', 'ἰωσὴφ'], ['ἐβασίλευσε', 'θεόπομπος', 'λυσίας', 'ἡρώδης', 'ἀδὰμ', 'κτησιφῶντος', 'ἰούδα', 'ἡρώδου', 'ἐπίσκοπος', 'ἱεροσόλυμα', 'ἰσραὴλ', 'ἱεροσολύμων', 'ὑπερείδης', 'αἰσχίνης', 'ἰουδαίοις', 'μιχαὴλ', 'ἰσοκράτης', 'ἰουδαίους', 'ἀβραὰμ', 'δείναρχος', 'ἀντιφῶν', 'ἰουδαίαν', 'δυναστεία', 'ἡρώδην', 'ἰσαῖος', 'γνήσιος', 'ἱεροσολύμοις', 'καῖσαρ', 'μωυσέως', 'μωυσῆς', 'ἱερουσαλὴμ', 'ἀσσυρίων', 'ἐκπέμπει', 'ἰουδαῖοι', 'φιλιππικῶν', 'ἀρχιερέως', 'ξένε', 'λυκοῦργος', 'πρε', 'ἀγάπης', 'κωνσταντῖνος', 'ἡρώδῃ', 'χαλδαίων', 'νῶε', 'ἰακὼβ', 'ἑβραίων', 'ὑρκανὸν', 'ἀντιοχείας', 'κωνσταντίνου', 'καίσαρα'], ['ἡρώδης', 'ἐβασίλευσε', 'ἡρώδου', 'ἱεροσόλυμα', 'θεόπομπος', 'ἰουδαίους', 'ἱεροσολύμων', 'ἀδὰμ', 'ἑβραίων', 'ἰουδαίαν', 'ἰουδαίοις', 'καῖσαρ', 'μιχαὴλ', 'ἀσσυρίων', 'ἐπίσκοπος', 'ἱεροσολύμοις', 'ἰούδα', 'ἰουδαῖοι', 'μωυσῆς', 'ἀβραὰμ', 'ἡρώδην', 'ἰωάννην', 'ἀντιπάτρου', 'ἰσραὴλ', 'ἰνδῶν', 'ἐκπέμπει', 'ἡρώδῃ', 'μωυσέως', 'νῶε', 'ἀρχιερέως', 'κωνσταντίνου', 'ἱερουσαλὴμ', 'ἡρακλείδης', 'ἰώσηπος', 'ἀλεξανδρείας', 'ἀντίοχος', 'ἀντίπατρος', 'ξένε', 'σίμων', 'τίτος', 'ἀντιοχείας', 'πολιορκίαν', 'χαλδαίων', 'ἑρμηνεία', 'ὑρκανὸν', 'ἀγάπης', 'εὐσέβιος', 'κωνσταντῖνος', 'ἀρχιερέα', 'γαΐου'], ['πρε', 'ἐβασίλευσε', 'ἱεροσόλυμα', 'ἰουδαίους', 'δυναστεία', 'καῖσαρ', 'ἡρώδου', 'ἰουδαίοις', 'ἡρώδης', 'ἀσσυρίων', 'ὑπερείδης', 'ἀλώπηξ', 'μιχαὴλ', 'λυσίας', 'ἰσραὴλ', 'θεόπομπος', 'μωυσῆς', 'θηβαίων', 'ἱεροσολύμων', 'ἰουδαίαν', 'κτησιφῶντος', 'ἑβραίων', 'ἐφραίμ', 'ἰσαῖος', 'κωνσταντῖνος', 'τρι', 'ἀδὰμ', 'ἰούδα', 'ἐπίσκοπος', 'σύρου', 'ἀντιόχου', 'ἑρμηνεία', 'δημοσθένους', 'παναγίας', 'ἰουδαίας', 'ἰουδαῖοι', 'ἱερουσαλὴμ', 'ἀντιφῶν', 'αἰσχίνης', 'λυκοῦργος', 'καίσαρα', 'νῶε', 'γνήσιος', 'ἰωάννην', 'δείναρχος', 'ἡρώδην', 'ξένε', 'ἰσοκράτης', 'κωνσταντίνου', 'πολιορκίαν'], ['ἡρώδης', 'θεόπομπος', 'ἰουδαίους', 'ἡρώδην', 'ἡρώδου', 'ἱεροσόλυμα', 'ἰουδαίαν', 'ἰουδαῖοι', 'καῖσαρ', 'ἱεροσολύμοις', 'ἰουδαίοις', 'μωυσῆς', 'ἱεροσολύμων', 'μιχαὴλ', 'καίσαρα', 'ἀλώπηξ', 'ἑβραίων', 'ἰουδαίας', 'ἀρχιερέως', 'ἀσσυρίων', 'ἡρώδῃ', 'ἀρχιερέα', 'τᾶς', 'ἰωάννην', 'ἐπίσκοπος', 'ἰούδα', 'κωνσταντῖνος', 'ἀντίπατρος', 'ἰσραὴλ', 'ἀντιπάτρου', 'ἀντιοχείας', 'ἰσραηλιτῶν', 'ὑπερείδης', 'λυσίας', 'ἰωσήπου', 'κωνσταντίνου', 'γαλιλαίας', 'ἱππεῖς', 'ἀδὰμ', 'ἐκπέμπει', 'ἀρχιερεὺς', 'σίμων', 'ἀντίοχος', 'ἐβασίλευσε', 'χαλδαίων', 'καίσαρι', 'γαΐου', 'φιλιππικῶν', 'ἀράβων', 'προφήτου'], ['ἰουδαίους', 'ἡρώδης', 'ἡρώδου', 'ἱεροσολύμων', 'θεόπομπος', 'μιχαὴλ', 'ἰουδαίοις', 'ἐβασίλευσε', 'καῖσαρ', 'ἑβραίων', 'ἱεροσόλυμα', 'ἡρώδην', 'λυσίας', 'ἀδὰμ', 'ἰδεῶν', 'ἐπίσκοπος', 'ἀσσυρίων', 'κωνσταντίνου', 'ἰούδα', 'ἰσραὴλ', 'κωνσταντῖνος', 'βασιλείου', 'ἀντιοχείας', 'ἰουδαίαν', 'ἐκπέμπει', 'ἱεροσολύμοις', 'βουλγάρων', 'ἰουδαῖοι', 'κτησιφῶντος', 'δυναστεία', 'ὑρκανὸν', 'μωυσῆς', 'ἀγάπης', 'ἰωάννην', 'ἀντιόχου', 'δημοσθένους', 'ἰσραηλιτῶν', 'ἀράβων', 'ἰνδικτιῶνος', 'τᾶς', 'ἰσαῖος', 'ἰνδῶν', 'ἀρχιερέα', 'γνήσιος', 'καίσαρα', 'κωνσταντῖνον', 'ὑπερείδης', 'ἡρώδῃ', 'πατριάρχου', 'μέθοδος'], ['ἰουδαίους', 'ἡρώδης', 'ἡρακλείδης', 'ἡρώδου', 'ἐβασίλευσε', 'ἱεροσολύμων', 'ἀλώπηξ', 'ἰούδα', 'ἰουδαίοις', 'μωυσῆς', 'ἡρώδην', 'ἰσραὴλ', 'μιχαὴλ', 'ἱεροσόλυμα', 'κωνσταντίνου', 'ἑρμηνεία', 'καῖσαρ', 'ἱεροσολύμοις', 'ἡρόδωρος', 'κωνσταντῖνος', 'ἰουδαίαν', 'ἀκουσίλαος', 'ἀσσυρίων', 'ἐκπέμπει', 'χαλδαίων', 'ἐπίσκοπος', 'ἀδὰμ', 'ἰσραηλιτῶν', 'ἑβραίων', 'κωνσταντῖνον', 'ἐντολῶν', 'ἰουδαῖοι', 'καίσαρα', 'ἀρχιερεὺς', 'φήσαντος', 'ἀντιόχου', 'ἰωάννην', 'ἀλεξανδρείας', 'ξένε', 'ἀράβων', 'ἰνδῶν', 'ἀγάπης', 'ἰουδαίας', 'ἀγρίππας', 'πολιορκίαν', 'νῶε', 'ἡρώδῃ', 'ἀντίοχος', 'ὑπολαβὼν', 'ποντικὸς'], ['θεόπομπος', 'ἡρώδης', 'ἱεροσολύμων', 'ἐβασίλευσε', 'ἡρώδου', 'ἱεροσόλυμα', 'μιχαὴλ', 'ἰουδαίους', 'ἰουδαίαν', 'ἑβραίων', 'ἰουδαίοις', 'ἰουδαῖοι', 'καῖσαρ', 'ἀγάπης', 'ἱεροσολύμοις', 'ἀντιοχείας', 'μωυσῆς', 'κωνσταντῖνος', 'ἐπίσκοπος', 'ἀλώπηξ', 'ὑπερείδης', 'κωνσταντίνου', 'ἑρμηνεία', 'ἀσσυρίων', 'ἡρώδην', 'ἀδὰμ', 'κτησιφῶντος', 'κωνσταντῖνον', 'δείσας', 'φιλιππικῶν', 'ἰουδαίας', 'ἰσραὴλ', 'ἐντολῶν', 'ἀντιπάτρου', 'λυσίας', 'ἀράβων', 'ἀρχιερέως', 'βουλγάρων', 'καίσαρα', 'ἀγρίππας', 'ἀντιόχου', 'βασιλείου', 'ἰσραηλιτῶν', 'ἐπισκόπων', 'ἰνδικτιῶνος', 'ἰούδα', 'ἀντίπατρος', 'ἡρώδῃ', 'ἀρχιερεὺς', 'ἤρετο'], ['θεόπομπος', 'ἡρώδης', 'ἡρώδου', 'ἱεροσόλυμα', 'ἐβασίλευσε', 'καῖσαρ', 'ἰουδαίους', 'ἀλώπηξ', 'ἱεροσολύμων', 'ἡρώδην', 'ἰσραὴλ', 'μωυσῆς', 'ἑρμηνεία', 'μιχαὴλ', 'κωνσταντίνου', 'ἰδεῶν', 'ἰουδαῖοι', 'ἰούδα', 'ἑβραίων', 'ἰουδαίαν', 'ἰουδαίοις', 'ἐπίσκοπος', 'ἀδὰμ', 'ἀσσυρίων', 'ἰωάννην', 'ἰσραηλιτῶν', 'ξένε', 'καίσαρα', 'κωνσταντῖνον', 'αἰσχίνης', 'λυσίας', 'ἀγάπης', 'ἐντολῶν', 'ἀντιοχείας', 'κωνσταντῖνος', 'ἀλεξανδρείας', 'φιλιππικῶν', 'δείσας', 'ἀβραὰμ', 'ὑπερείδης', 'ῥητορικὴ', 'ἱεροσολύμοις', 'φανόδημος', 'ἡρακλείδης', 'ἀντιπάτρου', 'ἰουδαίας', 'ὑπολαβὼν', 'νοημάτων', 'νῶε', 'ἰνδῶν'], ['θεόπομπος', 'ἡρώδης', 'ἐβασίλευσε', 'ἐπίσκοπος', 'ἰσραὴλ', 'μιχαὴλ', 'φιλιππικῶν', 'ἡρώδου', 'πρε', 'ἰούδα', 'κωνσταντίνου', 'ἱεροσολύμων', 'ἡρώδην', 'ἀλώπηξ', 'καῖσαρ', 'ἐκπέμπει', 'κωνσταντῖνος', 'ἰουδαίους', 'ἰουδαῖοι', 'ἀντιοχείας', 'κωνσταντῖνον', 'ἰουδαίοις', 'νῶε', 'ἀδὰμ', 'ἀβραὰμ', 'ἀσσυρίων', 'ἑρμηνεία', 'ἰνδῶν', 'ἰωάννην', 'δυναστεία', 'μωυσῆς', 'ἱεροσολύμοις', 'ξένε', 'ἀγάπης', 'ἱεροσόλυμα', 'θηβαίων', 'ἑβραίων', 'ἱερουσαλὴμ', 'ἰουδαίαν', 'ἀράβων', 'βουλγάρων', 'μωυσέως', 'ἀντιπάτρου', 'βασιλείου', 'πατριάρχης', 'ἀλεξανδρείας', 'βασίλειος', 'εὐσέβιος', 'ἰακὼβ', 'ξὺν']]\n",
      "\n",
      "Can you spot the misplaced word in each topic?\n",
      "0: πρε ἀρχιερέως παναγίας σύρου τρι ἐφραίμ ἐβασίλευσε ἡρώδης ἱεροσολύμων θεόπομπος\n",
      "1: ἀράβων θεόπομπος λυσίας ἡρώδης ἀδὰμ κτησιφῶντος ἰούδα ἡρώδου ἐπίσκοπος ἱεροσόλυμα\n",
      "2: ἡρώδης ἐβασίλευσε ἡρώδου ἱεροσόλυμα θεόπομπος ἰουδαίους ἱεροσολύμων τᾶς ἑβραίων ἰουδαίαν\n",
      "3: ἰνδῶν ἐβασίλευσε ἱεροσόλυμα ἰουδαίους δυναστεία καῖσαρ ἡρώδου ἰουδαίοις ἡρώδης ἀσσυρίων\n",
      "4: ἡρώδης θεόπομπος ἰουδαίους ἡρώδην ἀλεξανδρείας ἱεροσόλυμα ἰουδαίαν ἰουδαῖοι καῖσαρ ἱεροσολύμοις\n",
      "5: ἰουδαίους ἤρετο ἡρώδου ἱεροσολύμων θεόπομπος μιχαὴλ ἰουδαίοις ἐβασίλευσε καῖσαρ ἑβραίων\n",
      "6: ἰουδαίους ἡρώδης ἡρακλείδης ἡρώδου ἐβασίλευσε ἱεροσολύμων ἀλώπηξ ἰούδα ἰουδαίοις ἱερουσαλὴμ\n",
      "7: θεόπομπος κατακλυσμοῦ ἱεροσολύμων ἐβασίλευσε ἡρώδου ἱεροσόλυμα μιχαὴλ ἰουδαίους ἰουδαίαν ἑβραίων\n",
      "8: θεόπομπος ἡρώδης ἡρώδου ἱεροσόλυμα ἐβασίλευσε καῖσαρ ἰουδαίους ἀλώπηξ ἱεροσολύμων πατριάρχης\n",
      "9: θεόπομπος ἱππεῖς ἐβασίλευσε ἐπίσκοπος ἰσραὴλ μιχαὴλ φιλιππικῶν ἡρώδου πρε ἰούδα\n",
      "Actual replacements were:\n",
      "[(0, ('ὁσίου', 'ἀρχιερέως')), (1, ('ἐβασίλευσε', 'ἀράβων')), (2, ('ἀδὰμ', 'τᾶς')), (3, ('πρε', 'ἰνδῶν')), (4, ('ἡρώδου', 'ἀλεξανδρείας')), (5, ('ἡρώδης', 'ἤρετο')), (6, ('μωυσῆς', 'ἱερουσαλὴμ')), (7, ('ἡρώδης', 'κατακλυσμοῦ')), (8, ('ἡρώδην', 'πατριάρχης')), (9, ('ἡρώδης', 'ἱππεῖς'))]\n",
      "\n",
      "Loading model: gensim_lda_model_tlg_numtopics20_numpasses1_nobelow20_noabove0.1_tokmin3_tokmax20_docmin50_deaccentFalse.model ...\n",
      "... for word intrusion testing ...\n"
     ]
    },
    {
     "name": "stderr",
     "output_type": "stream",
     "text": [
      "INFO : loaded /home/kyle/cltk_data/user_data/gensim_lda_model_tlg_numtopics20_numpasses1_nobelow20_noabove0.1_tokmin3_tokmax20_docmin50_deaccentFalse.model.state\n",
      "INFO : loading LdaMulticore object from /home/kyle/cltk_data/user_data/gensim_lda_model_tlg_numtopics40_numpasses1_nobelow20_noabove0.1_tokmin3_tokmax20_docmin50_deaccentFalse.model\n",
      "INFO : loading expElogbeta from /home/kyle/cltk_data/user_data/gensim_lda_model_tlg_numtopics40_numpasses1_nobelow20_noabove0.1_tokmin3_tokmax20_docmin50_deaccentFalse.model.expElogbeta.npy with mmap=None\n",
      "INFO : setting ignored attribute state to None\n",
      "INFO : setting ignored attribute id2word to None\n",
      "INFO : setting ignored attribute dispatcher to None\n",
      "INFO : loaded /home/kyle/cltk_data/user_data/gensim_lda_model_tlg_numtopics40_numpasses1_nobelow20_noabove0.1_tokmin3_tokmax20_docmin50_deaccentFalse.model\n",
      "INFO : loading LdaMulticore object from /home/kyle/cltk_data/user_data/gensim_lda_model_tlg_numtopics40_numpasses1_nobelow20_noabove0.1_tokmin3_tokmax20_docmin50_deaccentFalse.model.state\n",
      "INFO : loaded /home/kyle/cltk_data/user_data/gensim_lda_model_tlg_numtopics40_numpasses1_nobelow20_noabove0.1_tokmin3_tokmax20_docmin50_deaccentFalse.model.state\n"
     ]
    },
    {
     "name": "stdout",
     "output_type": "stream",
     "text": [
      "Top 50 words of each LDA model:\n",
      "[['πρε', 'σύρου', 'ὁσίου', 'παναγίας', 'τρι', 'ἐφραίμ', 'ἡρώδου', 'ἀλώπηξ', 'λυσίας', 'ἱεροσολύμων', 'ἰσαῖος', 'ἱεροσόλυμα', 'ἡρώδης', 'ἑρμηνεία', 'ἐβασίλευσε', 'θεόπομπος', 'καῖσαρ', 'κτησιφῶντος', 'ἰουδαίους', 'ἡρώδην', 'ἰουδαίαν', 'μωυσῆς', 'ἑβραίων', 'ἀσσυρίων', 'ἰσραὴλ', 'ὑπερείδης', 'κωνσταντῖνος', 'κωνσταντίνου', 'ἰουδαῖοι', 'ἰδεῶν', 'ἀδὰμ', 'ἱεροσολύμοις', 'δείναρχος', 'μιχαὴλ', 'ἀντιφῶν', 'ἰουδαίοις', 'ἰούδα', 'ἐπίσκοπος', 'ἰωάννην', 'τᾶς', 'ξένε', 'φιλιππικῶν', 'ἰσοκράτης', 'γνήσιος', 'ἰουδαίας', 'ἀγάπης', 'ἀντιοχείας', 'ἀρχιερεὺς', 'ἰνδῶν', 'ἀντιόχου'], ['πρε', 'θεόπομπος', 'ἐφραίμ', 'ὁσίου', 'τρι', 'σύρου', 'παναγίας', 'ἐβασίλευσε', 'ἡρώδης', 'ἱεροσολύμων', 'ἐπίσκοπος', 'ἰουδαίους', 'ἱεροσόλυμα', 'ἡρώδου', 'ἰουδαίοις', 'μιχαὴλ', 'ἰούδα', 'ἀντιοχείας', 'μωυσῆς', 'ἀσσυρίων', 'ἀδὰμ', 'ἰουδαῖοι', 'ἡρώδην', 'ἑβραίων', 'φιλιππικῶν', 'καῖσαρ', 'κωνσταντίνου', 'ἰουδαίαν', 'ἰδεῶν', 'κωνσταντῖνος', 'ἱεροσολύμοις', 'ἰσραὴλ', 'καίσαρα', 'ἀρχιερέως', 'ἀρχιερέα', 'ὑρκανὸν', 'ἰωάννην', 'μέθοδος', 'ἀρχιερεὺς', 'ἰνδῶν', 'ἐκπέμπει', 'συμεὼν', 'ἰώσηπος', 'προφήτου', 'ἀβραὰμ', 'τίτος', 'ἑρμηνεία', 'ἀντίπατρος', 'πατριάρχου', 'κωνσταντῖνον'], ['θεόπομπος', 'ἐβασίλευσε', 'ἡρώδης', 'ἡρόδωρος', 'ἰσραὴλ', 'ἀδὰμ', 'ἐπίσκοπος', 'ἡρώδου', 'φιλιππικῶν', 'ἰουδαίους', 'ἱεροσόλυμα', 'μιχαὴλ', 'ἀκουσίλαος', 'λυσίας', 'ἡρώδην', 'ἀβραὰμ', 'ἰουδαίοις', 'δημάδης', 'ἰούδα', 'μωυσῆς', 'ἰουδαίαν', 'ἑβραίων', 'ἱερουσαλὴμ', 'κωνσταντίνου', 'κτησιφῶντος', 'ἀγάπης', 'ἰσοκράτης', 'ἀλώπηξ', 'ἰουδαῖοι', 'ἰνδικτιῶνος', 'ὑπερείδης', 'ἱεροσολύμων', 'καῖσαρ', 'ἰωάννην', 'ἰνδῶν', 'νῶε', 'ἰσαῖος', 'βουλγάρων', 'βασίλειος', 'ἰακὼβ', 'ἀσσυρίων', 'κωνσταντῖνος', 'κωνσταντῖνον', 'ἱερουσαλήμ', 'πατρίκιος', 'ἀρχιερεὺς', 'δείναρχος', 'ἐκπέμπει', 'συμεὼν', 'δημοσθένους'], ['θεόπομπος', 'ἡρώδης', 'ἐβασίλευσε', 'ἡρώδου', 'ἐπίσκοπος', 'μωυσῆς', 'μιχαὴλ', 'ἰουδαίοις', 'ἰσραὴλ', 'ἱεροσολύμοις', 'ἡρώδην', 'ἱεροσόλυμα', 'ἰουδαίους', 'ἀδὰμ', 'ἑβραίων', 'ξένε', 'φιλιππικῶν', 'ἀσσυρίων', 'ἀγάπης', 'ἀντιοχείας', 'ἰουδαίαν', 'ἰούδα', 'χαλδαίων', 'ἱεροσολύμων', 'κωνσταντῖνος', 'ἀλώπηξ', 'κωνσταντίνου', 'ἐντολῶν', 'βουλγάρων', 'μωυσέως', 'ἰνδῶν', 'ξὺν', 'ἀντίοχος', 'συμεὼν', 'ἰωάννην', 'ἤρετο', 'ἀβραὰμ', 'καῖσαρ', 'ἀράβων', 'ἐκπέμπει', 'ἰδεῶν', 'ἑρμηνεία', 'ἀπολλώνιον', 'ἱερουσαλὴμ', 'αὐτοκράτωρ', 'ἑβραίοις', 'ἰουδαῖοι', 'ἀντιόχου', 'ἐγέννησε', 'ἀρχιερέα'], ['πρε', 'ἐβασίλευσε', 'ἡρώδης', 'θεόπομπος', 'ἡρώδου', 'ἱεροσόλυμα', 'ἰουδαίους', 'μιχαὴλ', 'ἰσραὴλ', 'ἀδὰμ', 'ἀσσυρίων', 'ἐπίσκοπος', 'ἰδεῶν', 'ἰούδα', 'τρι', 'ἱεροσολύμων', 'ἰουδαίοις', 'καῖσαρ', 'ὁσίου', 'δημάδης', 'ἀβραὰμ', 'ἐφραίμ', 'ἰουδαίαν', 'ἰουδαῖοι', 'ἀρχιερέως', 'κωνσταντίνου', 'ἡρώδην', 'μωυσῆς', 'χαλδαίων', 'δυναστεία', 'ἑβραίων', 'ἀντιόχου', 'νῶε', 'ἀγάπης', 'κωνσταντῖνος', 'ἀντιοχείας', 'ἰωάννην', 'ἱεροσολύμοις', 'κθʹ', 'ἀλεξανδρείας', 'ἀντίοχος', 'ἀντιπάτρου', 'ἡρόδωρος', 'ὑρκανὸν', 'ξένε', 'ἱερουσαλὴμ', 'παναγίας', 'ξὺν', 'ἀρχιερέα', 'ἐκπέμπει'], ['θεόπομπος', 'ἡρώδης', 'ἱεροσολύμων', 'λυσίας', 'ὑπερείδης', 'ἡρώδου', 'ἐβασίλευσε', 'ἰουδαίους', 'κτησιφῶντος', 'καῖσαρ', 'ἱεροσόλυμα', 'ἑρμηνεία', 'στησίμβροτος', 'ἡρώδην', 'μιχαὴλ', 'ἀντιφῶν', 'ἰσαῖος', 'μωυσῆς', 'ἰουδαῖοι', 'ἰσοκράτης', 'γνήσιος', 'ἡρακλείδης', 'ἱεροσολύμοις', 'ἀλώπηξ', 'δείναρχος', 'ἑβραίων', 'γαΐου', 'ἐκπέμπει', 'καίσαρα', 'ἀδὰμ', 'ἰούδα', 'ἀγάπης', 'δημοσθένους', 'ἰσραηλιτῶν', 'ἰσραὴλ', 'κωνσταντῖνος', 'ἰουδαίαν', 'ἰωάννην', 'συμεὼν', 'ἰώσηπος', 'φιλιππικῶν', 'ἰουδαίοις', 'ἀσσυρίων', 'κωνσταντίνου', 'ἀρχιερέως', 'λυκοῦργος', 'φιλιππικοῖς', 'ἀντίπατρος', 'προφήτου', 'ἰωσήπου'], ['θεόπομπος', 'ἐβασίλευσε', 'ἡρώδης', 'ἰουδαίους', 'ἱεροσολύμων', 'ἐπίσκοπος', 'ἡρώδου', 'ἰουδαίαν', 'ἑβραίων', 'καῖσαρ', 'ἰουδαίοις', 'ἡρώδην', 'μωυσῆς', 'ἰουδαῖοι', 'ἀδὰμ', 'ἀσσυρίων', 'μιχαὴλ', 'νῶε', 'ἱεροσόλυμα', 'κωνσταντῖνος', 'ἱεροσολύμοις', 'ἰούδα', 'ἰσραὴλ', 'ἀντιόχου', 'δυναστεία', 'ξένε', 'ἰνδῶν', 'ὑπερείδης', 'κωνσταντίνου', 'ἀράβων', 'ἤρετο', 'μωυσέως', 'ἀντίοχος', 'ἱερουσαλὴμ', 'ἀρχιερέως', 'κτησιφῶντος', 'φιλιππικῶν', 'εὐσέβιος', 'ἀβραὰμ', 'ἀλώπηξ', 'ξὺν', 'ἰσαῖος', 'ἑρμηνεία', 'ἀλεξανδρείας', 'ἀπολλώνιον', 'ἡρακλείδης', 'πολιορκίαν', 'ἰωάννην', 'τᾶς', 'κωνσταντῖνον'], ['θεόπομπος', 'ἡρώδης', 'ἐβασίλευσε', 'ἡρώδου', 'ἰουδαίους', 'ἱεροσόλυμα', 'ἡρώδην', 'ἱεροσολύμων', 'δυναστεία', 'ἰσραὴλ', 'ἐπίσκοπος', 'ἰούδα', 'ἀδὰμ', 'καῖσαρ', 'ἀλώπηξ', 'ἤρετο', 'ἰουδαίαν', 'μιχαὴλ', 'ἰουδαίοις', 'λυσίας', 'ἀβραὰμ', 'ἀσσυρίων', 'ἱεροσολύμοις', 'ἑβραίων', 'φιλιππικῶν', 'ἀλεξανδρείας', 'ἑρμηνεία', 'ξὺν', 'ξένε', 'θηβαίων', 'δημοσθένους', 'ἀντιοχείας', 'μωυσέως', 'ἑρμηνεύεται', 'ἰνδῶν', 'ἰουδαίας', 'ἰωάννην', 'ἰουδαῖοι', 'μωυσῆς', 'κωνσταντῖνος', 'κωνσταντίνου', 'ἀντιπάτρου', 'ἐκπέμπει', 'ἡρώδῃ', 'ἰακὼβ', 'ὑπερείδης', 'καίσαρα', 'χαλδαίων', 'νῶε', 'πολιορκίαν'], ['θεόπομπος', 'ἡρώδης', 'ἐβασίλευσε', 'ἡρώδου', 'ἰουδαίους', 'ἱεροσόλυμα', 'ἰουδαίοις', 'ἀδὰμ', 'ἱεροσολύμοις', 'ἡρώδην', 'ἑβραίων', 'ἰσραὴλ', 'ἀσσυρίων', 'μιχαὴλ', 'ἰουδαίαν', 'ἱεροσολύμων', 'ἀντιόχου', 'μωυσῆς', 'ἐπίσκοπος', 'ῥητορικὴ', 'κωνσταντῖνος', 'κωνσταντίνου', 'ἰωάννην', 'ἀλώπηξ', 'καῖσαρ', 'ἑρμηνεία', 'ἰουδαῖοι', 'ἰούδα', 'ἡρώδῃ', 'ξένε', 'καίσαρα', 'ἐκπέμπει', 'ἰσραηλιτῶν', 'ὑρκανὸν', 'βουλγάρων', 'ἀράβων', 'ἑρμηνεύεται', 'τᾶς', 'ἰδεῶν', 'ἀβραὰμ', 'ἀντιοχείας', 'ἀρχιερέως', 'κωνσταντῖνον', 'τίτος', 'ἰνδῶν', 'φιλιππικῶν', 'πατριάρχου', 'νῶε', 'ἰουδαίας', 'προφήτου'], ['ἡρώδης', 'ἰουδαίους', 'ἱεροσόλυμα', 'λυσίας', 'ἐβασίλευσε', 'ὑπερείδης', 'ἰουδαῖοι', 'ἡρώδου', 'ἱεροσολύμων', 'μιχαὴλ', 'ἰουδαίοις', 'ἀλώπηξ', 'κτησιφῶντος', 'κωνσταντίνου', 'μωυσῆς', 'ἡρώδην', 'καῖσαρ', 'ἰουδαίαν', 'αἰσχίνης', 'γνήσιος', 'ἑβραίων', 'κωνσταντῖνος', 'ἀντιπάτρου', 'ἰσοκράτης', 'ἀντιοχείας', 'ἰούδα', 'ἑρμηνεία', 'ἀντιφῶν', 'ἐπίσκοπος', 'ἰδεῶν', 'λυκοῦργος', 'δημοσθένους', 'θεόπομπος', 'ἰνδῶν', 'ἀρχιερέως', 'ξένε', 'ἀδὰμ', 'ἰσαῖος', 'ἰσραὴλ', 'ἡρώδῃ', 'δείναρχος', 'ἀσσυρίων', 'ἀντίοχος', 'τᾶς', 'ἱεροσολύμοις', 'ἀρχιερεὺς', 'θηβαίων', 'ἱππεῖς', 'ἀλεξανδρείας', 'ἀντίπατρον'], ['πρε', 'ἐβασίλευσε', 'ὁσίου', 'παναγίας', 'θεόπομπος', 'ἡρώδης', 'ἱεροσολύμων', 'τρι', 'σύρου', 'ἐφραίμ', 'ἐπίσκοπος', 'δυναστεία', 'ἰουδαίους', 'καῖσαρ', 'ἰσραὴλ', 'ἰούδα', 'ἱεροσόλυμα', 'ἡρώδου', 'θηβαίων', 'ἀσσυρίων', 'ἀδὰμ', 'ἰουδαίοις', 'ἀβραὰμ', 'μιχαὴλ', 'ἰουδαίαν', 'ἀγάπης', 'ἰδεῶν', 'ἰουδαῖοι', 'μωυσῆς', 'ἑβραίων', 'νῶε', 'ἱεροσολύμοις', 'κωνσταντίνου', 'ἡρακλείδης', 'εὐσέβιος', 'κατακλυσμοῦ', 'αἰσχίνης', 'κωνσταντῖνος', 'ἀλεξανδρείας', 'ξένε', 'ἡρώδην', 'ἐβασίλευσαν', 'ἰακὼβ', 'ἀντιοχείας', 'ἀρχιερέως', 'ἡρώδῃ', 'ἀλώπηξ', 'ἀγρίππας', 'χαλδαίων', 'αἰχμαλωσίας'], ['πρε', 'τρι', 'σύρου', 'παναγίας', 'ἐφραίμ', 'ἡρώδης', 'ὁσίου', 'ἡρώδου', 'ἰουδαίαν', 'ἀδὰμ', 'ἐβασίλευσε', 'ἱεροσολύμων', 'ἐπίσκοπος', 'θεόπομπος', 'ἰσραὴλ', 'ἀσσυρίων', 'ἱεροσόλυμα', 'ἰουδαίους', 'μιχαὴλ', 'νῶε', 'ἰουδαίοις', 'ἰούδα', 'καῖσαρ', 'ἀβραὰμ', 'ἑβραίων', 'κωνσταντίνου', 'ἡρόδωρος', 'ὑπερείδης', 'ἱεροσολύμοις', 'μωυσῆς', 'ἀλώπηξ', 'ἡρώδην', 'ἐγέννησε', 'ἐκπέμπει', 'ἰουδαῖοι', 'λυσίας', 'ἡρακλείδης', 'ἰωσὴφ', 'ἀντίοχος', 'ἰνδῶν', 'καίσαρα', 'αἰσχίνης', 'ἰωάννην', 'ἑρμηνεία', 'δυναστεία', 'ἰδεῶν', 'χαλδαίων', 'ξένε', 'ἀντιοχείας', 'πατριάρχου'], ['ἱεροσολύμων', 'ἡρώδης', 'θεόπομπος', 'ἰούδα', 'ἰουδαίοις', 'ἡρώδου', 'ἱεροσόλυμα', 'ἡρώδην', 'ἰουδαίους', 'ἐπίσκοπος', 'ἀσσυρίων', 'καῖσαρ', 'ἐβασίλευσε', 'ἀγάπης', 'ἰουδαῖοι', 'ἰσραὴλ', 'ἀντιοχείας', 'ἱεροσολύμοις', 'ἡρόδωρος', 'μιχαὴλ', 'λυσίας', 'πρε', 'ἑβραίων', 'ἡρακλείδης', 'κωνσταντίνου', 'ἰουδαίαν', 'ἀντιόχου', 'ἀδὰμ', 'ἀλώπηξ', 'ἰσραηλιτῶν', 'ἀβραὰμ', 'ἰώσηπος', 'ἱερουσαλὴμ', 'ἰουδαίας', 'καίσαρα', 'ὑπερείδης', 'ἀντιπάτρου', 'ξὺν', 'ξένε', 'μωυσῆς', 'ἀρχιερέως', 'ἰνδῶν', 'κωνσταντῖνος', 'ἀντίπατρος', 'τίτος', 'ἡρώδῃ', 'χαλδαίων', 'προφήτου', 'αὐτοκράτωρ', 'ἱππεῖς'], ['λυσίας', 'μιχαὴλ', 'ἐβασίλευσε', 'αἰσχίνης', 'ὑπερείδης', 'ἰουδαίους', 'ἱεροσολύμων', 'ἰσαῖος', 'ἡρώδης', 'δείναρχος', 'ἀδὰμ', 'ἐκπέμπει', 'κτησιφῶντος', 'ἱεροσόλυμα', 'μωυσῆς', 'κωνσταντῖνος', 'ἰσραὴλ', 'καῖσαρ', 'ἀντιφῶν', 'κωνσταντίνου', 'ἡρώδου', 'γνήσιος', 'ἰούδα', 'ἰουδαῖοι', 'ἰουδαίοις', 'ἐπίσκοπος', 'κωνσταντῖνον', 'ἱεροσολύμοις', 'τᾶς', 'πατριάρχης', 'ἀσσυρίων', 'θεόπομπος', 'ἡρώδην', 'ἀγάπης', 'δημοσθένους', 'ἰνδικτιῶνος', 'ἰωάννην', 'ἰδεῶν', 'ἰσοκράτης', 'ἑβραίων', 'ἰουδαίαν', 'καίσαρα', 'βουλγάρων', 'βασίλειος', 'ἀλώπηξ', 'ἐντολῶν', 'πατρίκιον', 'πατρίκιος', 'δυναστεία', 'πρε'], ['ἡρώδου', 'θεόπομπος', 'ἱεροσολύμων', 'ἡρώδης', 'καῖσαρ', 'ἡρώδην', 'ἰουδαίους', 'ἱεροσόλυμα', 'κωνσταντῖνος', 'μιχαὴλ', 'ἰουδαίοις', 'ἐκπέμπει', 'ἰουδαίαν', 'ἱεροσολύμοις', 'καίσαρα', 'ἰουδαῖοι', 'ἑβραίων', 'μωυσῆς', 'ἰωάννην', 'ἀρχιερέα', 'κωνσταντίνου', 'ἐβασίλευσε', 'ἡρώδῃ', 'ἰούδα', 'ξένε', 'ἀδὰμ', 'πολιορκίαν', 'ἰουδαίας', 'ἰώσηπον', 'ἀντιόχου', 'ἀντιπάτρου', 'γαΐου', 'λυσίας', 'βασίλειος', 'ἀρχιερέως', 'φιλιππικῶν', 'προφήτου', 'καίσαρι', 'ἀγρίππας', 'ἀντίπατρος', 'κωνσταντῖνον', 'ὑρκανὸν', 'κελεύσαντος', 'δείσας', 'ἀσσυρίων', 'ἰνδῶν', 'ἀντιοχείας', 'συμεὼν', 'σίμων', 'πατριάρχου'], ['πρε', 'θεόπομπος', 'τρι', 'σύρου', 'ὁσίου', 'ἡρώδης', 'ἐβασίλευσε', 'ἰουδαίους', 'παναγίας', 'ἐφραίμ', 'ἡρακλείδης', 'ἡρώδου', 'ἱεροσολύμων', 'ἀλώπηξ', 'ἰούδα', 'ἱεροσόλυμα', 'ἰσραὴλ', 'ἑβραίων', 'καῖσαρ', 'ἰουδαίοις', 'κωνσταντίνου', 'ἀδὰμ', 'φιλιππικῶν', 'ἀσσυρίων', 'ἱεροσολύμοις', 'μιχαὴλ', 'μωυσῆς', 'ἡρώδην', 'ἰουδαῖοι', 'ἀντιοχείας', 'ἐπίσκοπος', 'ἰουδαίαν', 'ἀβραὰμ', 'ἐκπέμπει', 'ἀγάπης', 'κωνσταντῖνος', 'ἰουδαίας', 'ἑρμηνεία', 'μωυσέως', 'χαλδαίων', 'ἐγέννησε', 'ἰσραηλιτῶν', 'ἀλεξανδρείας', 'ἀντιόχου', 'δυναστεία', 'λυσίας', 'ἰωάννην', 'νῶε', 'ἰακὼβ', 'ἰσραήλ'], ['ἐβασίλευσε', 'ἡρώδης', 'ἡρώδου', 'ἰουδαίους', 'ἱεροσόλυμα', 'ἰουδαίοις', 'ἱεροσολύμων', 'δυναστεία', 'ἑβραίων', 'ἡρώδην', 'ἰούδα', 'ἰουδαίαν', 'καῖσαρ', 'ἰσραὴλ', 'ἐπίσκοπος', 'ἀσσυρίων', 'ἰουδαῖοι', 'μιχαὴλ', 'ἀλώπηξ', 'ἀδὰμ', 'ἡρώδῃ', 'θηβαίων', 'κϛʹ', 'ἀράβων', 'μωυσῆς', 'ἰωάννην', 'καίσαρα', 'ἰσραηλιτῶν', 'ἐβασίλευσαν', 'ἐκπέμπει', 'κωνσταντῖνος', 'θεόπομπος', 'ἑρμηνεία', 'ἀρχιερέως', 'ἰνδῶν', 'βασιλείου', 'ἰουδαίας', 'ἀντιπάτρου', 'κατακλυσμοῦ', 'ἀβραὰμ', 'προφήτου', 'ἱεροσολύμοις', 'σίμων', 'ἰωσὴφ', 'ἀρχιερέα', 'μωυσέως', 'κωνσταντῖνον', 'ἀντιοχείας', 'βουλγάρων', 'δείσας'], ['πρε', 'ἐφραίμ', 'ἡρώδης', 'παναγίας', 'ἐβασίλευσε', 'ἱεροσόλυμα', 'σύρου', 'ἰουδαίους', 'ἰουδαίοις', 'ἱεροσολύμων', 'ἡρώδου', 'τρι', 'ὁσίου', 'ἰουδαίαν', 'ἡρώδην', 'καῖσαρ', 'ἰωάννην', 'μωυσῆς', 'ἰσραὴλ', 'ἐπίσκοπος', 'ἱεροσολύμοις', 'ἰούδα', 'ἰουδαῖοι', 'ἑβραίων', 'ἀλώπηξ', 'ἑρμηνεία', 'κωνσταντῖνος', 'ἰουδαίας', 'μιχαὴλ', 'ἀβραὰμ', 'ἀγάπης', 'ἐντολῶν', 'ἱερουσαλὴμ', 'κωνσταντίνου', 'ἀράβων', 'ἀδὰμ', 'νῶε', 'θεόπομπος', 'γαΐου', 'ἀντιοχείας', 'ἰσραηλιτῶν', 'ἀντίοχος', 'ἀριστοβούλου', 'ἀγρίππας', 'βουλγάρων', 'ἀντιόχου', 'ἀρχιερεὺς', 'ὑπερείδης', 'ἡρώδῃ', 'ἀσσυρίων'], ['ἡρώδης', 'ἐβασίλευσε', 'ἡρώδου', 'ἱεροσόλυμα', 'ἰουδαίους', 'ἰούδα', 'ἐπίσκοπος', 'ἰουδαίοις', 'ἰουδαίαν', 'καῖσαρ', 'ἀλώπηξ', 'ἰσραὴλ', 'ἱεροσολύμων', 'μωυσῆς', 'ἀδὰμ', 'ἱεροσολύμοις', 'ἡρώδην', 'ἑρμηνεία', 'ἀσσυρίων', 'θηβαίων', 'μιχαὴλ', 'ἀντιοχείας', 'ἰωάννην', 'δυναστεία', 'ἰουδαῖοι', 'ἰσραηλιτῶν', 'ἀντιπάτρου', 'ὑρκανὸν', 'χαλδαίων', 'ἐκπέμπει', 'ἱερουσαλὴμ', 'ἀρχιερέως', 'ἡρώδῃ', 'ἀβραὰμ', 'ἀρχιερεὺς', 'κατακλυσμοῦ', 'ἰουδαίας', 'καίσαρα', 'ἀγάπης', 'κγʹ', 'ἑβραίων', 'ἰησοῦν', 'εὐσέβιος', 'δείσας', 'γαλιλαίας', 'ἰακὼβ', 'ἰνδῶν', 'ἰωσὴφ', 'ἀγρίππας', 'σίμων'], ['ἐβασίλευσε', 'ἡρώδης', 'ἱεροσόλυμα', 'ἱεροσολύμων', 'μιχαὴλ', 'ἡρώδου', 'θεόπομπος', 'ἰουδαίους', 'λυσίας', 'ἰσραὴλ', 'ἡρακλείδης', 'μωυσῆς', 'ἑβραίων', 'ἰουδαίοις', 'ἐπίσκοπος', 'ἐκπέμπει', 'ἰουδαῖοι', 'ἀγάπης', 'ἀλώπηξ', 'ἀρχιερέως', 'ἀδὰμ', 'κτησιφῶντος', 'ἡρώδην', 'κωνσταντίνου', 'ἀσσυρίων', 'ἰουδαίαν', 'ἀβραὰμ', 'ὑπερείδης', 'ἡρώδῃ', 'ἰούδα', 'ἰωάννην', 'ἰσοκράτης', 'ἀντιφῶν', 'ἱερουσαλὴμ', 'καίσαρα', 'κωνσταντῖνον', 'πατριάρχου', 'ἰσαῖος', 'ἀντιοχείας', 'δείναρχος', 'ἐγέννησε', 'κατακλυσμοῦ', 'ἀρχιερέα', 'αἰσχίνης', 'ἰνδῶν', 'ξένε', 'καῖσαρ', 'θηβαίων', 'ἑρμηνεύεται', 'βουλγάρων']]\n",
      "\n",
      "Can you spot the misplaced word in each topic?\n",
      "0: πρε σύρου ἡρόδωρος παναγίας τρι ἐφραίμ ἡρώδου ἀλώπηξ λυσίας ἱεροσολύμων\n",
      "1: πρε θεόπομπος βασίλειος ὁσίου τρι σύρου παναγίας ἐβασίλευσε ἡρώδης ἱεροσολύμων\n",
      "2: θεόπομπος ἐβασίλευσε ἡρώδης ἡρόδωρος ἰσραὴλ ἀδὰμ ἐντολῶν ἡρώδου φιλιππικῶν ἰουδαίους\n",
      "3: θεόπομπος ἡρώδης ἐβασίλευσε ἡρώδου ἐπίσκοπος μωυσῆς μιχαὴλ ἰουδαίοις ἰσραὴλ γαΐου\n",
      "4: πρε ἐβασίλευσε ἡρώδης θεόπομπος ἡρώδου ἱεροσόλυμα δείναρχος μιχαὴλ ἰσραὴλ ἀδὰμ\n",
      "5: θεόπομπος ἡρώδης ἱεροσολύμων ἑρμηνεύεται ὑπερείδης ἡρώδου ἐβασίλευσε ἰουδαίους κτησιφῶντος καῖσαρ\n",
      "6: θεόπομπος ἐβασίλευσε ἰωσήπου ἰουδαίους ἱεροσολύμων ἐπίσκοπος ἡρώδου ἰουδαίαν ἑβραίων καῖσαρ\n",
      "7: θεόπομπος ἡρώδης ἐβασίλευσε ἡρώδου ἰουδαίους ἱεροσόλυμα ἰσοκράτης ἱεροσολύμων δυναστεία ἰσραὴλ\n",
      "8: θεόπομπος ἰώσηπος ἐβασίλευσε ἡρώδου ἰουδαίους ἱεροσόλυμα ἰουδαίοις ἀδὰμ ἱεροσολύμοις ἡρώδην\n",
      "9: ἡρώδης ἰουδαίους ἱεροσόλυμα λυσίας ἐβασίλευσε ὑπερείδης ἰουδαῖοι ἡρώδου ξὺν μιχαὴλ\n",
      "10: πρε ἐβασίλευσε ὁσίου παναγίας θεόπομπος ἡρώδης ἱεροσολύμων τρι φιλιππικῶν ἐφραίμ\n",
      "11: πρε τρι σύρου κθʹ ἐφραίμ ἡρώδης ὁσίου ἡρώδου ἰουδαίαν ἀδὰμ\n",
      "12: πολιορκίαν ἡρώδης θεόπομπος ἰούδα ἰουδαίοις ἡρώδου ἱεροσόλυμα ἡρώδην ἰουδαίους ἐπίσκοπος\n",
      "13: ἰωσήπου μιχαὴλ ἐβασίλευσε αἰσχίνης ὑπερείδης ἰουδαίους ἱεροσολύμων ἰσαῖος ἡρώδης δείναρχος\n",
      "14: ἡρώδου θεόπομπος ἱεροσολύμων ἡρώδης δυναστεία ἡρώδην ἰουδαίους ἱεροσόλυμα κωνσταντῖνος μιχαὴλ\n",
      "15: πρε θεόπομπος τρι σύρου ὁσίου ἰώσηπον ἐβασίλευσε ἰουδαίους παναγίας ἐφραίμ\n",
      "16: πατρίκιος ἡρώδης ἡρώδου ἰουδαίους ἱεροσόλυμα ἰουδαίοις ἱεροσολύμων δυναστεία ἑβραίων ἡρώδην\n",
      "17: πρε ἐφραίμ ἡρώδης παναγίας ἐβασίλευσε ἱεροσόλυμα σύρου ἤρετο ἰουδαίοις ἱεροσολύμων\n",
      "18: ἡρώδης ἐβασίλευσε ἡρώδου ἱεροσόλυμα ἰουδαίους ἰούδα ἀντίπατρος ἰουδαίοις ἰουδαίαν καῖσαρ\n",
      "19: ἐβασίλευσε ἡρώδης ἱεροσόλυμα προφήτου μιχαὴλ ἡρώδου θεόπομπος ἰουδαίους λυσίας ἰσραὴλ\n",
      "Actual replacements were:\n",
      "[(0, ('ὁσίου', 'ἡρόδωρος')), (1, ('ἐφραίμ', 'βασίλειος')), (2, ('ἐπίσκοπος', 'ἐντολῶν')), (3, ('ἱεροσολύμοις', 'γαΐου')), (4, ('ἰουδαίους', 'δείναρχος')), (5, ('λυσίας', 'ἑρμηνεύεται')), (6, ('ἡρώδης', 'ἰωσήπου')), (7, ('ἡρώδην', 'ἰσοκράτης')), (8, ('ἡρώδης', 'ἰώσηπος')), (9, ('ἱεροσολύμων', 'ξὺν')), (10, ('σύρου', 'φιλιππικῶν')), (11, ('παναγίας', 'κθʹ')), (12, ('ἱεροσολύμων', 'πολιορκίαν')), (13, ('λυσίας', 'ἰωσήπου')), (14, ('καῖσαρ', 'δυναστεία')), (15, ('ἡρώδης', 'ἰώσηπον')), (16, ('ἐβασίλευσε', 'πατρίκιος')), (17, ('ἰουδαίους', 'ἤρετο')), (18, ('ἐπίσκοπος', 'ἀντίπατρος')), (19, ('ἱεροσολύμων', 'προφήτου'))]\n",
      "\n",
      "Loading model: gensim_lda_model_tlg_numtopics40_numpasses1_nobelow20_noabove0.1_tokmin3_tokmax20_docmin50_deaccentFalse.model ...\n",
      "... for word intrusion testing ...\n",
      "Top 50 words of each LDA model:\n"
     ]
    },
    {
     "name": "stderr",
     "output_type": "stream",
     "text": [
      "INFO : loading LdaMulticore object from /home/kyle/cltk_data/user_data/gensim_lda_model_tlg_numtopics60_numpasses1_nobelow20_noabove0.1_tokmin3_tokmax20_docmin50_deaccentFalse.model\n",
      "INFO : loading expElogbeta from /home/kyle/cltk_data/user_data/gensim_lda_model_tlg_numtopics60_numpasses1_nobelow20_noabove0.1_tokmin3_tokmax20_docmin50_deaccentFalse.model.expElogbeta.npy with mmap=None\n",
      "INFO : setting ignored attribute state to None\n",
      "INFO : setting ignored attribute id2word to None\n",
      "INFO : setting ignored attribute dispatcher to None\n",
      "INFO : loaded /home/kyle/cltk_data/user_data/gensim_lda_model_tlg_numtopics60_numpasses1_nobelow20_noabove0.1_tokmin3_tokmax20_docmin50_deaccentFalse.model\n",
      "INFO : loading LdaMulticore object from /home/kyle/cltk_data/user_data/gensim_lda_model_tlg_numtopics60_numpasses1_nobelow20_noabove0.1_tokmin3_tokmax20_docmin50_deaccentFalse.model.state\n",
      "INFO : loaded /home/kyle/cltk_data/user_data/gensim_lda_model_tlg_numtopics60_numpasses1_nobelow20_noabove0.1_tokmin3_tokmax20_docmin50_deaccentFalse.model.state\n"
     ]
    },
    {
     "name": "stdout",
     "output_type": "stream",
     "text": [
      "[['ἐβασίλευσε', 'ἡρώδου', 'ἡρώδης', 'ἱεροσολύμων', 'ἱεροσόλυμα', 'ἰνδῶν', 'ἐπίσκοπος', 'ἀδὰμ', 'ἰούδα', 'ἰουδαίοις', 'μωυσῆς', 'ἡρώδην', 'ἰουδαίους', 'καῖσαρ', 'ἰουδαῖοι', 'ἰσραὴλ', 'ἀντιοχείας', 'ξένε', 'δυναστεία', 'χαλδαίων', 'ἰουδαίαν', 'ἀσσυρίων', 'μιχαὴλ', 'λυσίας', 'ἀβραὰμ', 'ἐκπέμπει', 'ἀλώπηξ', 'νῶε', 'ἑβραίων', 'ἀρχιερέως', 'αὐτοκράτωρ', 'δείσας', 'κτησιφῶντος', 'μωυσέως', 'ἱερουσαλὴμ', 'ἤρετο', 'ἰσοκράτης', 'ἡρώδῃ', 'ἡρόδωρος', 'ἀρχιερεὺς', 'ἡρακλείδης', 'ἑβραίοις', 'ἰδεῶν', 'ὑπερείδης', 'κγʹ', 'αἰχμαλωσίας', 'ἀντίπατρος', 'ἑρμηνεία', 'ξὺν', 'γαΐου'], ['θεόπομπος', 'ἡρώδης', 'ἐβασίλευσε', 'ἰουδαίους', 'ἱεροσόλυμα', 'λυσίας', 'ἡρώδου', 'ἐπίσκοπος', 'ὑπερείδης', 'κωνσταντίνου', 'ἰουδαῖοι', 'μιχαὴλ', 'καῖσαρ', 'ἀντιοχείας', 'ἑβραίων', 'ἱεροσολύμων', 'ἰούδα', 'κωνσταντῖνος', 'ἡρώδην', 'κωνσταντῖνον', 'ἰουδαίαν', 'ἀσσυρίων', 'ἱεροσολύμοις', 'ἐκπέμπει', 'ἡρακλείδης', 'ἀντιπάτρου', 'δημοσθένους', 'ἰδεῶν', 'ἀδὰμ', 'ἰωάννην', 'μωυσῆς', 'ἰουδαίοις', 'φιλιππικῶν', 'αἰσχίνης', 'ἀντιόχου', 'ἰνδῶν', 'ἰσραὴλ', 'ἰσαῖος', 'ἀγάπης', 'κτησιφῶντος', 'γνήσιος', 'καίσαρα', 'ἀρχιερέως', 'καλχηδόνι', 'βουλγάρων', 'ἐπισκόπων', 'ἰουδαίας', 'ἀβραὰμ', 'ξένε', 'ἀντιφῶν'], ['ἡρώδου', 'ἡρώδης', 'ἱεροσολύμων', 'ἰουδαίους', 'μιχαὴλ', 'ἱεροσόλυμα', 'ἑβραίων', 'ἰουδαίαν', 'λυσίας', 'ἡρώδην', 'ἰουδαίοις', 'καῖσαρ', 'μωυσῆς', 'ἐβασίλευσε', 'ἐκπέμπει', 'καίσαρα', 'ἡρώδῃ', 'ἰουδαῖοι', 'ἀσσυρίων', 'ἀδὰμ', 'ἰουδαίας', 'ἰούδα', 'ἀλώπηξ', 'κωνσταντίνου', 'ἰσραηλιτῶν', 'ἰνδικτιῶνος', 'ἰνδῶν', 'ἀντιοχείας', 'ἀρχιερέως', 'ἀγάπης', 'βουλγάρων', 'ἑρμηνεία', 'ἀντίπατρος', 'ἱεροσολύμοις', 'ἀντιόχου', 'θεόπομπος', 'αὐτοκράτωρ', 'ἰσραὴλ', 'ὑρκανὸν', 'ἰωάννην', 'καίσαρι', 'ἀντιπάτρου', 'σίμων', 'ἰωσήπου', 'ἀντίοχος', 'ξένε', 'ἐπίσκοπος', 'αἰσχίνης', 'κωνσταντῖνος', 'ἰσαῖος'], ['θεόπομπος', 'ἡρώδης', 'ἰουδαίους', 'ἱεροσόλυμα', 'ἡρώδου', 'ἱεροσολύμων', 'ἰουδαίοις', 'ἰουδαίαν', 'ἐβασίλευσε', 'μιχαὴλ', 'μωυσῆς', 'καῖσαρ', 'ἡρώδην', 'ἑβραίων', 'ἰούδα', 'ἰσραὴλ', 'ἀσσυρίων', 'ὑπερείδης', 'κτησιφῶντος', 'ἡρακλείδης', 'στησίμβροτος', 'καίσαρα', 'ἐπίσκοπος', 'ἱεροσολύμοις', 'κωνσταντίνου', 'ὑρκανὸν', 'φιλιππικῶν', 'ἰουδαῖοι', 'ἐκπέμπει', 'λυσίας', 'ἀντιόχου', 'ἀδὰμ', 'ἰσραηλιτῶν', 'ξένε', 'ἰσοκράτης', 'ἀβραὰμ', 'ἰωάννην', 'ἡρώδῃ', 'ἐντολῶν', 'αἰσχίνης', 'ἀγάπης', 'ἰδεῶν', 'κωνσταντῖνος', 'ξὺν', 'δείσας', 'γνήσιος', 'δημοσθένους', 'προφήτου', 'ἰουδαίας', 'κωνσταντῖνον'], ['θεόπομπος', 'ἐβασίλευσε', 'ἡρώδης', 'ἱεροσολύμων', 'ἀλώπηξ', 'λυσίας', 'ἡρώδου', 'ἰουδαίαν', 'ἰουδαίοις', 'ἀδὰμ', 'ἰουδαῖοι', 'ἐπίσκοπος', 'ἱεροσόλυμα', 'ἰουδαίους', 'μιχαὴλ', 'ἡρώδην', 'μωυσῆς', 'ἰσραὴλ', 'ἰούδα', 'φιλιππικῶν', 'καῖσαρ', 'νῶε', 'κωνσταντῖνος', 'ἰωάννην', 'ἑρμηνεία', 'ἀσσυρίων', 'ἑβραίων', 'βουλγάρων', 'καίσαρα', 'ὑπερείδης', 'ἀκουσίλαος', 'ἱεροσολύμοις', 'κωνσταντίνου', 'ἰώσηπος', 'χαλδαίων', 'ἀβραὰμ', 'ἀρχιερεὺς', 'ἀντίοχος', 'μωυσέως', 'ἀγρίππας', 'ἰσαῖος', 'πατριάρχου', 'σίμων', 'ἐκπέμπει', 'κτησιφῶντος', 'πατρίκιον', 'ἰωσὴφ', 'ἱερουσαλὴμ', 'ξένε', 'θηβαίων'], ['ἐβασίλευσε', 'ἱεροσολύμων', 'ἡρώδου', 'ἡρώδης', 'ἰούδα', 'ἰουδαίαν', 'ἰσραὴλ', 'ἱεροσόλυμα', 'ἀδὰμ', 'μωυσῆς', 'ἐπίσκοπος', 'ἀβραὰμ', 'ἰουδαίους', 'ἰουδαίοις', 'ἰουδαῖοι', 'καῖσαρ', 'ἀσσυρίων', 'χαλδαίων', 'μιχαὴλ', 'ἰουδαίας', 'νῶε', 'ἡρώδῃ', 'ἱεροσολύμοις', 'ἡρώδην', 'μωυσέως', 'λυσίας', 'καίσαρα', 'ἡρακλείδης', 'ἀλεξανδρείας', 'ἀντιοχείας', 'ἱερουσαλὴμ', 'ἐγέννησε', 'σίμων', 'ἰωσὴφ', 'σαρκώσεως', 'τίτος', 'ἰωάννην', 'δείσας', 'ἀριστοβούλου', 'ἰακὼβ', 'θηβαίων', 'ἀντίπατρος', 'κωνσταντῖνος', 'ἀράβων', 'ὑρκανὸν', 'καʹ', 'ἰσραηλιτῶν', 'ἑβραίων', 'ἀρχιερέα', 'ἰώσηπον'], ['θεόπομπος', 'πρε', 'ἐβασίλευσε', 'δυναστεία', 'θηβαίων', 'ἡρώδου', 'ἱεροσολύμων', 'ἡρώδης', 'ἰσραὴλ', 'ἐπίσκοπος', 'ὁσίου', 'ἀδὰμ', 'ἰουδαίους', 'ἰουδαίοις', 'παναγίας', 'ἰούδα', 'σύρου', 'ἀσσυρίων', 'κωνσταντίνου', 'ἐβασίλευσαν', 'φιλιππικῶν', 'ἐφραίμ', 'ἡρώδην', 'τρι', 'ἰουδαῖοι', 'ἑβραίων', 'μωυσῆς', 'ἱεροσόλυμα', 'ἱερουσαλὴμ', 'μιχαὴλ', 'ἰουδαίαν', 'καῖσαρ', 'ἀντιοχείας', 'χαλδαίων', 'ἀλεξανδρείας', 'ἰδεῶν', 'εὐσέβιος', 'νῶε', 'κϛʹ', 'ἀλώπηξ', 'ἰνδῶν', 'ἀβραὰμ', 'ἐκπέμπει', 'κατακλυσμοῦ', 'ἱεροσολύμοις', 'καʹ', 'γαΐου', 'κωνσταντῖνος', 'ἰησοῦν', 'ἡρώδῃ'], ['πρε', 'θεόπομπος', 'ἐφραίμ', 'ὁσίου', 'παναγίας', 'τρι', 'σύρου', 'ἡρώδης', 'ἡρώδου', 'φιλιππικῶν', 'ἱεροσόλυμα', 'λυσίας', 'ἐβασίλευσε', 'ἱεροσολύμων', 'καῖσαρ', 'ἰδεῶν', 'κτησιφῶντος', 'τᾶς', 'ἀδὰμ', 'ἰουδαίοις', 'ἰουδαίους', 'ἡρώδην', 'ἀλώπηξ', 'ἰουδαίαν', 'ὑπερείδης', 'μωυσῆς', 'ἀσσυρίων', 'ἰωάννην', 'ἰσραὴλ', 'ἰσαῖος', 'αἰσχίνης', 'ἐπίσκοπος', 'ἱεροσολύμοις', 'ἰσοκράτης', 'δείναρχος', 'δημοσθένους', 'μέθοδος', 'ἑβραίων', 'μιχαὴλ', 'ἀντιοχείας', 'ἀκουσίλαος', 'στάσεων', 'μέθοδον', 'κωνσταντῖνος', 'λυκοῦργος', 'δεινότητος', 'ἑρμηνεία', 'ἰούδα', 'θηβαίων', 'δυναστεία'], ['ἐβασίλευσε', 'ἡρώδης', 'πρε', 'θεόπομπος', 'ἰσραὴλ', 'ἡρώδου', 'ἱεροσολύμων', 'ἐπίσκοπος', 'ἀλώπηξ', 'ἀδὰμ', 'ἱεροσόλυμα', 'μωυσῆς', 'ἀγάπης', 'ἰούδα', 'κωνσταντῖνος', 'ἀβραὰμ', 'ἑρμηνεία', 'ἰουδαίους', 'ἰουδαίοις', 'καῖσαρ', 'ἀλεξανδρείας', 'ἰνδῶν', 'ἀσσυρίων', 'ἑβραίων', 'μιχαὴλ', 'δυναστεία', 'νῶε', 'ἡρακλείδης', 'ἱερουσαλὴμ', 'ἐκπέμπει', 'χαλδαίων', 'ἀντιόχου', 'ὁσίου', 'ἰουδαίας', 'ἰωσὴφ', 'κϛʹ', 'ἰδεῶν', 'θηβαίων', 'ἰουδαῖοι', 'βουλγάρων', 'αἰχμαλωσίας', 'ἑρμηνεύεται', 'ἀντιοχείας', 'τρι', 'ἀρχιερέως', 'κωνσταντίνου', 'ἡρώδην', 'ἀράβων', 'μωυσέως', 'ἀντιπάτρου'], ['πρε', 'ἐφραίμ', 'τρι', 'σύρου', 'ὁσίου', 'παναγίας', 'ἡρώδης', 'ἰουδαίους', 'ἐβασίλευσε', 'ἡρώδου', 'ἱεροσολύμων', 'ἰουδαίοις', 'ἱεροσόλυμα', 'μιχαὴλ', 'ἰσραὴλ', 'ἰουδαίαν', 'ἀδὰμ', 'ἀκουσίλαος', 'ἡρώδην', 'καῖσαρ', 'ἰωάννην', 'ἰδεῶν', 'θεόπομπος', 'ἰουδαῖοι', 'ἑβραίων', 'βλέπω', 'ἐπίσκοπος', 'ἰούδα', 'ἑρμηνεία', 'ῥητορικὴ', 'ἀσσυρίων', 'μωυσῆς', 'δημοσθένους', 'ἀβραὰμ', 'κωνσταντίνου', 'ἱεροσολύμοις', 'ἰνδῶν', 'ἐντολῶν', 'ἀγάπης', 'ἱερουσαλὴμ', 'ἀντιοχείας', 'προφήτου', 'ἀντιόχου', 'ἀλώπηξ', 'ἡρώδῃ', 'δυναστεία', 'ἀλεξανδρείας', 'νῶε', 'ὑπερείδης', 'χαλδαίων'], ['πρε', 'ἡρώδης', 'ἐβασίλευσε', 'τᾶς', 'ἡρώδου', 'ἱεροσολύμων', 'θεόπομπος', 'ἀγάπης', 'ἰουδαίους', 'μιχαὴλ', 'ἡρώδην', 'ἱεροσόλυμα', 'ὁσίου', 'ἰουδαίοις', 'παναγίας', 'ἀδὰμ', 'λυσίας', 'σύρου', 'ἐφραίμ', 'ἀσσυρίων', 'ἰούδα', 'ἱεροσολύμοις', 'ἰσραὴλ', 'ἰουδαίαν', 'ὑπερείδης', 'καῖσαρ', 'ἐκπέμπει', 'αἰσχίνης', 'μωυσῆς', 'τρι', 'ἰουδαῖοι', 'κωνσταντίνου', 'ξένε', 'ἰωάννην', 'καίσαρα', 'ἀντίοχος', 'ξὺν', 'ἰσραηλιτῶν', 'ἐπίσκοπος', 'ἡρώδῃ', 'ἑβραίων', 'ἀράβων', 'δείσας', 'κωνσταντῖνος', 'ἐντολῶν', 'ἀντιοχείας', 'ἀγρίππας', 'ἑρμηνεύεται', 'κτησιφῶντος', 'ἰνδῶν'], ['μιχαὴλ', 'ἀλώπηξ', 'ἡρώδης', 'ἱεροσόλυμα', 'ἰουδαίους', 'ἡρώδην', 'πρε', 'ἐβασίλευσε', 'ἰούδα', 'ἰουδαίοις', 'ἰσραὴλ', 'ἱεροσολύμων', 'ἀδὰμ', 'ἡρώδου', 'ἑρμηνεία', 'καῖσαρ', 'κωνσταντῖνος', 'ἀσσυρίων', 'ἀβραὰμ', 'κωνσταντῖνον', 'ἰουδαίαν', 'ἑβραίων', 'κωνσταντίνου', 'θεόπομπος', 'καίσαρα', 'ἐπίσκοπος', 'μωυσῆς', 'ἐκπέμπει', 'ἀντιοχείας', 'ἱεροσολύμοις', 'ἀλεξανδρείας', 'ἰουδαῖοι', 'συγκλήτου', 'ἱερουσαλὴμ', 'προφήτου', 'ἰωάννην', 'πατριάρχης', 'ἰσραηλιτῶν', 'ἀγάπης', 'ἀντιόχου', 'ἰακὼβ', 'ἀγρίππας', 'πατριάρχου', 'ὑπέστρεψεν', 'συμεὼν', 'ξένε', 'ὑπερείδης', 'πατρίκιον', 'ἐγέννησε', 'ἤρετο'], ['κτησιφῶντος', 'λυσίας', 'ὑπερείδης', 'πρε', 'ἐβασίλευσε', 'ἰσαῖος', 'ἀντιφῶν', 'θεόπομπος', 'ἡρώδης', 'ἰουδαίους', 'αἰσχίνης', 'ἡρώδου', 'κωνσταντῖνος', 'γνήσιος', 'ἐπίσκοπος', 'ἰσοκράτης', 'δείναρχος', 'μιχαὴλ', 'κωνσταντίνου', 'ἀβραὰμ', 'ἱεροσολύμων', 'ἀσσυρίων', 'ἀδὰμ', 'μωυσῆς', 'ἱεροσόλυμα', 'ἰούδα', 'ἑρμηνεία', 'ἰσραὴλ', 'καῖσαρ', 'ἰουδαίοις', 'φιλιππικῶν', 'φιλόχορος', 'νῶε', 'ἰουδαίαν', 'ἀλώπηξ', 'τρι', 'φιλιππικοῖς', 'χαλδαίων', 'ὁσίου', 'ἀριστοκράτους', 'ἐγέννησε', 'ἑβραίων', 'ἡρώδην', 'ξένε', 'ἰωάννην', 'ἀντίοχος', 'δυναστεία', 'ἀντιοχείας', 'νικῶσιν', 'βασίλειος'], ['ἡρόδωρος', 'ἡρώδης', 'ἡρώδου', 'ἐβασίλευσε', 'ἰουδαίους', 'ἡρώδην', 'ἱεροσολύμων', 'ἱεροσόλυμα', 'ἰουδαίαν', 'ἀλώπηξ', 'ἰωάννην', 'μιχαὴλ', 'ἰουδαίοις', 'καῖσαρ', 'μωυσῆς', 'ἰσραὴλ', 'λυσίας', 'κωνσταντίνου', 'ἐκπέμπει', 'κωνσταντῖνος', 'ἰνδικτιῶνος', 'ἡρακλείδης', 'ἰούδα', 'ἰουδαῖοι', 'ἀσσυρίων', 'ἱεροσολύμοις', 'ὑρκανὸν', 'ἐπίσκοπος', 'ἀντιοχείας', 'ἀρχιερέως', 'ἀντίπατρος', 'ἰουδαίας', 'κωνσταντῖνον', 'ἑρμηνεία', 'ἑβραίων', 'ὑρκανοῦ', 'ἀδὰμ', 'νῶε', 'ἰσοκράτης', 'ἀρχιερεὺς', 'ἀλεξανδρείας', 'τίτος', 'ἐγέννησε', 'ἀγάπης', 'ἀντιπάτρου', 'πατρίκιος', 'ὑπολαβὼν', 'γαΐου', 'ἀβραὰμ', 'ξένε'], ['ἡρώδης', 'ἰουδαίους', 'ἡρώδου', 'μιχαὴλ', 'καῖσαρ', 'ἱεροσολύμων', 'ἐβασίλευσε', 'κωνσταντῖνος', 'ἱεροσόλυμα', 'ἀδὰμ', 'κωνσταντίνου', 'ἐπίσκοπος', 'ἰωάννην', 'πατριάρχου', 'ἰουδαίοις', 'βουλγάρων', 'ἱεροσολύμοις', 'ἀντιοχείας', 'πατρίκιον', 'θεόπομπος', 'ἰούδα', 'ἡρώδην', 'ἰουδαῖοι', 'βασίλειος', 'ἀσσυρίων', 'ἐκπέμπει', 'ἰσραὴλ', 'ἰουδαίαν', 'ἑρμηνεία', 'ἰνδῶν', 'βασιλείου', 'κωνσταντῖνον', 'συμεὼν', 'ἀλώπηξ', 'συγκλήτου', 'πατρίκιος', 'ἀντιόχου', 'μωυσῆς', 'ἀρχιερέα', 'ξένε', 'ἰσραηλιτῶν', 'ἰνδικτιῶνος', 'ἑβραίων', 'νῶε', 'γαΐου', 'λυσίας', 'χαλδαίων', 'σαμουὴλ', 'ἐγέννησε', 'κτησιφῶντος'], ['πρε', 'σύρου', 'παναγίας', 'ὁσίου', 'τρι', 'ἐφραίμ', 'ἡρώδης', 'ἐβασίλευσε', 'ἑβραίων', 'ἰουδαίους', 'ἰούδα', 'ἡρώδου', 'ἡρώδην', 'ἱεροσολύμων', 'ἰσραὴλ', 'ἰουδαίαν', 'ἱεροσόλυμα', 'καῖσαρ', 'ἰουδαίοις', 'μωυσῆς', 'ἀσσυρίων', 'ἐπίσκοπος', 'ἰουδαῖοι', 'ἀρχιερέως', 'ἀδὰμ', 'ἀντίοχος', 'ἱεροσολύμοις', 'ἀβραὰμ', 'γαΐου', 'κωνσταντίνου', 'ἀντιπάτρου', 'μιχαὴλ', 'ἰσραηλιτῶν', 'θεόπομπος', 'ἐκπέμπει', 'ἰωάννην', 'κον', 'ἡρώδῃ', 'ἀριστοβούλου', 'ἰουδαίας', 'ἰώσηπος', 'καίσαρα', 'ἰδεῶν', 'ἀρχιερέα', 'μωυσέως', 'τερ', 'ἀγάπης', 'ἀρχιερεὺς', 'κωνσταντῖνος', 'χαλδαίων'], ['ἐβασίλευσε', 'ἡρώδης', 'θεόπομπος', 'ἰουδαίους', 'ἰούδα', 'ἱεροσολύμων', 'ἰσραὴλ', 'ἡρώδου', 'ἰουδαίοις', 'ἑρμηνεία', 'ἐπίσκοπος', 'ἑβραίων', 'καῖσαρ', 'ἱεροσόλυμα', 'ἀσσυρίων', 'ἀκουσίλαος', 'ἀλώπηξ', 'ἰουδαίαν', 'ἰουδαῖοι', 'ἡρώδην', 'ἀδὰμ', 'ἀντιοχείας', 'κωνσταντῖνος', 'ἀβραὰμ', 'ἐγέννησε', 'ἡρακλείδης', 'ἱεροσολύμοις', 'χαλδαίων', 'ἐκπέμπει', 'ὑρκανὸν', 'μωυσῆς', 'κωνσταντῖνον', 'νῶε', 'τᾶς', 'λυσίας', 'ἰουδαίας', 'μιχαὴλ', 'ἀλεξανδρείας', 'ἀντιόχου', 'καίσαρα', 'ἱερουσαλὴμ', 'ἰακὼβ', 'ἰνδῶν', 'κωνσταντίνου', 'κατακλυσμοῦ', 'ξὺν', 'ξένε', 'φιλιππικῶν', 'ἰωσὴφ', 'ἀντίοχος'], ['ἡρώδης', 'ἰουδαίους', 'ἱεροσόλυμα', 'ἡρώδου', 'ἐβασίλευσε', 'ἡρώδην', 'ἑβραίων', 'καῖσαρ', 'ἰουδαίοις', 'ἱεροσολύμων', 'ἰουδαῖοι', 'ἀδὰμ', 'ἀσσυρίων', 'ἱεροσολύμοις', 'ἰούδα', 'θεόπομπος', 'ἰουδαίαν', 'λυσίας', 'ἰσαῖος', 'μιχαὴλ', 'ἰσραὴλ', 'ξένε', 'ἀντιπάτρου', 'μωυσῆς', 'κωνσταντίνου', 'ἑρμηνεία', 'τίτος', 'σίμων', 'ἤρετο', 'κωνσταντῖνος', 'ἀπολλώνιον', 'ἐπίσκοπος', 'ἰωάννην', 'φήσαντος', 'ἰσραηλιτῶν', 'ξὺν', 'καίσαρα', 'ἀβραὰμ', 'ὑπέστρεψεν', 'ἑρμηνεύεται', 'ἀρχιερέως', 'ἀλώπηξ', 'ἰουδαίας', 'ἰνδῶν', 'ἀρχιερέα', 'ἀριστοβούλου', 'ἀντιοχείας', 'κτησιφῶντος', 'ἀράβων', 'αἰσχίνης'], ['θεόπομπος', 'ἡρώδης', 'ἡρώδου', 'ἐβασίλευσε', 'ἰουδαίους', 'ἰουδαίαν', 'καῖσαρ', 'ἡρώδην', 'δυναστεία', 'ἀλώπηξ', 'ἰουδαίοις', 'ἱεροσόλυμα', 'ἀντιπάτρου', 'ἰούδα', 'ἐπίσκοπος', 'μιχαὴλ', 'ἱεροσολύμων', 'ἀδὰμ', 'ἱεροσολύμοις', 'ξένε', 'καίσαρα', 'ἰουδαῖοι', 'ἰωάννην', 'κωνσταντῖνος', 'ἀρχιερέα', 'ἰσραὴλ', 'μωυσῆς', 'κωνσταντίνου', 'ἀλεξανδρείας', 'ἑρμηνεία', 'τᾶς', 'μαγνησίας', 'φιλιππικῶν', 'κωνσταντῖνον', 'ἑρμηνεύεται', 'ἀγάπης', 'ἀντιοχείας', 'ἐντολῶν', 'ἑβραίων', 'ἐκπέμπει', 'ἀβραὰμ', 'ἀντιόχου', 'θηβαίων', 'δημάδης', 'βασιλείου', 'ἀντίοχος', 'ἀγρίππας', 'ἰνδῶν', 'ξανθὸν', 'ἀσσυρίων'], ['θεόπομπος', 'ἡρώδης', 'φιλιππικῶν', 'ἱεροσολύμων', 'ἡρώδου', 'ἱεροσόλυμα', 'ἰουδαίους', 'ἰουδαίαν', 'λυσίας', 'ἑβραίων', 'καῖσαρ', 'ἐβασίλευσε', 'ἡρώδην', 'ἀλώπηξ', 'ἰουδαίοις', 'κωνσταντῖνος', 'μιχαὴλ', 'ἱεροσολύμοις', 'μωυσῆς', 'ἰουδαῖοι', 'κτησιφῶντος', 'ἰσαῖος', 'ἀρχιερέως', 'ἀντιπάτρου', 'κωνσταντίνου', 'ἐπίσκοπος', 'καίσαρα', 'ἰσραηλιτῶν', 'ἰνδῶν', 'ἀγρίππας', 'ἀντιφῶν', 'ἰουδαίας', 'θεοπόμπου', 'ἀντιόχου', 'ἀδὰμ', 'ἀράβων', 'ἰωάννην', 'ἰσοκράτης', 'αἰσχίνης', 'ἡρώδῃ', 'ὑπερείδης', 'ἀρχιερεὺς', 'ἱππεῖς', 'ὑρκανὸν', 'δημοσθένους', 'ἰούδα', 'ἐκπέμπει', 'ἀρχελάου', 'γαΐου', 'ἑρμηνεία'], ['ἡρώδου', 'ἐβασίλευσε', 'ἡρώδης', 'καῖσαρ', 'ἰσραὴλ', 'ἰουδαίους', 'ἱεροσόλυμα', 'ἀγάπης', 'ἀδὰμ', 'ἰούδα', 'ἡρώδην', 'μιχαὴλ', 'μωυσῆς', 'ἱεροσολύμων', 'θεόπομπος', 'ἰουδαίοις', 'ἰουδαῖοι', 'ἑβραίων', 'ἱεροσολύμοις', 'ἐπίσκοπος', 'ἰουδαίαν', 'ἀλώπηξ', 'ἑρμηνεία', 'ἀσσυρίων', 'ξένε', 'ἐντολῶν', 'ἰσραηλιτῶν', 'κωνσταντῖνος', 'ἰουδαίας', 'ἰακὼβ', 'ἡρώδῃ', 'ἀντίπατρος', 'ἐκπέμπει', 'ἰωάννην', 'ἱερουσαλήμ', 'κωνσταντίνου', 'ἀντιοχείας', 'ἀντίοχος', 'πολιορκίαν', 'ἀράβων', 'ἀρχιερέως', 'ἱερουσαλὴμ', 'καίσαρα', 'τίτος', 'σίμων', 'κωνσταντῖνον', 'ἰνδῶν', 'μέθοδος', 'δείσας', 'ἰώσηπος'], ['πρε', 'μιχαὴλ', 'ἡρώδης', 'ἐβασίλευσε', 'παναγίας', 'σύρου', 'ἱεροσολύμων', 'ἡρώδου', 'ἱεροσόλυμα', 'ὁσίου', 'ἐφραίμ', 'ἐπίσκοπος', 'κωνσταντίνου', 'ἰουδαίους', 'τρι', 'κωνσταντῖνος', 'ἐκπέμπει', 'κωνσταντῖνον', 'πατριάρχου', 'ἰωάννην', 'βουλγάρων', 'βασιλείου', 'μωυσῆς', 'καῖσαρ', 'ἀδὰμ', 'ἰουδαίοις', 'ἱεροσολύμοις', 'λυσίας', 'νῶε', 'ῥητορικὴ', 'ἰδεῶν', 'κτησιφῶντος', 'ἰσραὴλ', 'ἰνδικτιῶνος', 'βασίλειος', 'ἰνδῶν', 'χαλδαίων', 'πατριάρχης', 'ἀντιοχείας', 'ἑβραίων', 'συμεὼν', 'ἰουδαίαν', 'ἑρμηνεία', 'ἀντιόχου', 'ἀσσυρίων', 'ξένε', 'δυναστεία', 'δημοσθένους', 'ἀβραὰμ', 'πατρίκιον'], ['θεόπομπος', 'ἡρώδου', 'ἐβασίλευσε', 'ἡρώδης', 'ἱεροσόλυμα', 'ἰουδαίους', 'πρε', 'ἡρώδην', 'ἱεροσολύμων', 'ἰουδαίαν', 'ἀσσυρίων', 'ἰουδαίοις', 'ἀδὰμ', 'ἰουδαῖοι', 'καῖσαρ', 'ἰσραὴλ', 'ἰούδα', 'ἑβραίων', 'μωυσῆς', 'ἱεροσολύμοις', 'ἐπίσκοπος', 'ἡρακλείδης', 'ἀγάπης', 'φιλιππικῶν', 'ἀβραὰμ', 'χαλδαίων', 'μιχαὴλ', 'ἰουδαίας', 'νῶε', 'ἱερουσαλὴμ', 'ἀντιπάτρου', 'ἐγέννησε', 'ἀντιόχου', 'ἀράβων', 'ἀρχιερέα', 'ἐκπέμπει', 'κωνσταντίνου', 'ἐντολῶν', 'ἀρχιερέως', 'ἀντίπατρος', 'κατακλυσμοῦ', 'ἰακὼβ', 'ξένε', 'δυναστεία', 'ἰσραηλιτῶν', 'ἰωάννην', 'ἀντίοχος', 'ἡρώδῃ', 'ἀγρίππας', 'ὑρκανὸν'], ['πρε', 'ὁσίου', 'τρι', 'ἐφραίμ', 'θεόπομπος', 'παναγίας', 'σύρου', 'ἡρώδης', 'ἱεροσόλυμα', 'ἰουδαίους', 'ἐβασίλευσε', 'καῖσαρ', 'ἡρώδου', 'ἱεροσολύμων', 'ἐπίσκοπος', 'ἑβραίων', 'ἰουδαίοις', 'ἰούδα', 'μιχαὴλ', 'ἡρώδην', 'ἰουδαῖοι', 'ἀσσυρίων', 'ἱεροσολύμοις', 'μωυσῆς', 'ἰσραηλιτῶν', 'ἰουδαίαν', 'ἰωάννην', 'ἀρχιερέως', 'ἰδεῶν', 'κον', 'ἀδὰμ', 'ἀντιπάτρου', 'ἀβραὰμ', 'ἀντιόχου', 'ἰουδαίας', 'ἡρώδῃ', 'καίσαρα', 'ἀγάπης', 'ἀλεξανδρείας', 'φιλιππικῶν', 'ἀρχιερέα', 'ἐκπέμπει', 'ἀλώπηξ', 'κωνσταντῖνος', 'τερ', 'ὑρκανὸν', 'στάσεων', 'ἡρακλείδης', 'ἀντιοχείας', 'πατριάρχου'], ['ἡρώδου', 'ἰουδαίους', 'ἡρώδης', 'ἱεροσολύμων', 'ἱεροσόλυμα', 'ἐβασίλευσε', 'μωυσῆς', 'ἑβραίων', 'ἱεροσολύμοις', 'καῖσαρ', 'ἡρώδην', 'ἰουδαίοις', 'ἐπίσκοπος', 'ἰουδαῖοι', 'ἀλώπηξ', 'ἰσραὴλ', 'ἀρχιερέως', 'ἑρμηνεία', 'ἰουδαίαν', 'ἰούδα', 'καίσαρα', 'ἀδὰμ', 'θεόπομπος', 'ἀρχιερεὺς', 'ἀγάπης', 'μιχαὴλ', 'ἀντιπάτρου', 'ἰώσηπος', 'ἡρώδῃ', 'ἰωσήπου', 'ἰωάννην', 'δείσας', 'ἀντίπατρος', 'ἀντίοχος', 'ἀγρίππας', 'ἀρχιερέα', 'ἀσσυρίων', 'ἀντιόχου', 'ὑρκανὸν', 'ἐντολῶν', 'κωνσταντῖνος', 'κωνσταντίνου', 'μωυσέως', 'ἱππεῖς', 'ἀριστοβούλου', 'δυναστεία', 'φήσαντος', 'ἀπόστολος', 'λυσίας', 'ἀντιοχείας'], ['θεόπομπος', 'ἐβασίλευσε', 'δυναστεία', 'ἡρώδης', 'ἱεροσόλυμα', 'ἡρώδου', 'ἱεροσολύμων', 'καῖσαρ', 'ἰουδαίους', 'ἰουδαίοις', 'ξένε', 'ἀδὰμ', 'ἰουδαίαν', 'ἡρακλείδης', 'ἡρώδην', 'ἱεροσολύμοις', 'ἰούδα', 'ἰουδαῖοι', 'ἰσραὴλ', 'δημοσθένους', 'ἀσσυρίων', 'ἐπίσκοπος', 'μιχαὴλ', 'κωνσταντίνου', 'φιλιππικῶν', 'ἀντιοχείας', 'ἀντιπάτρου', 'θηβαίων', 'ἰδεῶν', 'κϛʹ', 'ὑπερείδης', 'αἰσχίνης', 'ἡρώδῃ', 'ἀράβων', 'μωυσῆς', 'ἑβραίων', 'κωνσταντῖνος', 'καίσαρα', 'ἱερουσαλὴμ', 'ἀρχιερέως', 'ἰωάννην', 'ἐβασίλευσαν', 'νῶε', 'κτησιφῶντος', 'ἀριστοβούλου', 'καʹ', 'ἀλώπηξ', 'τίτος', 'καίσαρι', 'χαλδαίων'], ['θεόπομπος', 'πρε', 'ἡρώδης', 'ἡρώδου', 'ἐβασίλευσε', 'ἐφραίμ', 'τρι', 'ἰουδαίους', 'ἱεροσόλυμα', 'ἰουδαίοις', 'ἱεροσολύμων', 'λυσίας', 'ὁσίου', 'φιλιππικῶν', 'μωυσῆς', 'καῖσαρ', 'σύρου', 'μιχαὴλ', 'ἰουδαῖοι', 'κτησιφῶντος', 'κωνσταντίνου', 'ἰσραὴλ', 'ἐπίσκοπος', 'παναγίας', 'ἰούδα', 'ἰουδαίαν', 'δημοσθένους', 'ἀσσυρίων', 'ἀδὰμ', 'ἡρώδην', 'κωνσταντῖνος', 'ὑπερείδης', 'ἱεροσολύμοις', 'ἀντιοχείας', 'ἀλώπηξ', 'βασιλείου', 'ἑβραίων', 'ἰσαῖος', 'ἀβραὰμ', 'κωνσταντῖνον', 'ἀρχιερέως', 'ἰωάννην', 'γνήσιος', 'πατρίκιος', 'ἰωσὴφ', 'ἀντώνιος', 'ἱππεῖς', 'ξὺν', 'αἰσχίνης', 'ὑρκανὸν'], ['ἡρώδης', 'ἱεροσόλυμα', 'ἰουδαίους', 'ἡρώδου', 'μιχαὴλ', 'ἐβασίλευσε', 'ἰουδαίοις', 'ἀδὰμ', 'ἱεροσολύμων', 'ἑβραίων', 'ἱεροσολύμοις', 'ἀγάπης', 'ἀλώπηξ', 'ἰουδαῖοι', 'μωυσῆς', 'ἰούδα', 'λυσίας', 'καῖσαρ', 'ἰουδαίαν', 'ἐντολῶν', 'ἐπίσκοπος', 'ἡρώδην', 'ξένε', 'θεόπομπος', 'ἰνδῶν', 'ἰσαῖος', 'δημάδης', 'ἀντιπάτρου', 'ἰσραὴλ', 'ἑρμηνεύεται', 'κτησιφῶντος', 'ὑπερείδης', 'γνήσιος', 'ἰσοκράτης', 'ἀντίοχος', 'ἡρακλείδης', 'ἀράβων', 'ἰδεῶν', 'ἰωάννην', 'ἰωσήπου', 'θηβαίων', 'δείναρχος', 'ἀβραὰμ', 'ἀρχιερέως', 'ἰώσηπον', 'ἑρμηνεία', 'αἰσχίνης', 'ἀσσυρίων', 'ἰακὼβ', 'δείσας'], ['θεόπομπος', 'ἐβασίλευσε', 'ἡρώδης', 'ἱεροσολύμων', 'ἡρακλείδης', 'ἀδὰμ', 'ἐπίσκοπος', 'ἱεροσόλυμα', 'ἡρώδου', 'ἰουδαίους', 'ἰουδαίοις', 'μιχαὴλ', 'ὑπερείδης', 'καῖσαρ', 'ἀσσυρίων', 'δυναστεία', 'ἰουδαίαν', 'ἰούδα', 'ἡρώδην', 'ἑρμηνεία', 'ἀβραὰμ', 'ἀλεξανδρείας', 'ἡρόδωρος', 'ἀντιοχείας', 'μωυσῆς', 'ἀλώπηξ', 'ἑβραίων', 'ἐγέννησε', 'κωνσταντῖνος', 'φιλιππικῶν', 'ἰσραὴλ', 'αἰσχίνης', 'ἰδεῶν', 'λυσίας', 'ἰωάννην', 'κωνσταντίνου', 'ἀγάπης', 'ἀρχιερεὺς', 'ἰσαῖος', 'ἰουδαῖοι', 'καίσαρα', 'νῶε', 'ἱεροσολύμοις', 'λβʹ', 'ὑρκανὸν', 'ἐκπέμπει', 'προφήτου', 'ἀντιπάτρου', 'ἀντιφῶν', 'δημοσθένους'], ['ἐβασίλευσε', 'δυναστεία', 'ἡρώδης', 'θεόπομπος', 'ἐπίσκοπος', 'ἰσραὴλ', 'κωνσταντίνου', 'ἱεροσολύμων', 'κωνσταντῖνος', 'μιχαὴλ', 'μωυσῆς', 'ἱεροσόλυμα', 'θεοφάνης', 'θηβαίων', 'ἰούδα', 'ἡρώδην', 'ἀδὰμ', 'καῖσαρ', 'λυσίας', 'ἰουδαίους', 'ἡρώδου', 'προσῆλθε', 'ἀσσυρίων', 'χαλδαίων', 'ἑβραίων', 'ἐβασίλευσαν', 'ἰουδαίαν', 'φλυαρία', 'αἰσχίνης', 'ἀντιόχου', 'ὑπερείδης', 'ἰουδαίοις', 'ἀγάπης', 'ἀρχιερέως', 'ἱεροσολύμοις', 'κτησιφῶντος', 'κατακλυσμοῦ', 'ἱερουσαλὴμ', 'κϛʹ', 'βασίλειος', 'ἀλεξανδρείας', 'ἀντιοχείας', 'ἰωσὴφ', 'ἰσαῖος', 'γνήσιος', 'πατριάρχου', 'ἀβραὰμ', 'ἰουδαῖοι', 'ἰνδῶν', 'βουλγάρων'], ['ἐβασίλευσε', 'ἡρώδης', 'ἰουδαίους', 'ἀλώπηξ', 'ἱεροσολύμων', 'ἡρώδου', 'θεόπομπος', 'ἱεροσόλυμα', 'ἰσραὴλ', 'ἰουδαίοις', 'δυναστεία', 'ἡρώδην', 'ἱεροσολύμοις', 'ἰουδαίαν', 'ἀδὰμ', 'ἰωάννην', 'ἀγάπης', 'καῖσαρ', 'ἐπίσκοπος', 'ἰούδα', 'ἀρχιερέως', 'κωνσταντῖνος', 'ἰουδαῖοι', 'μιχαὴλ', 'ἀβραὰμ', 'ἰσραηλιτῶν', 'ἡρακλείδης', 'κωνσταντίνου', 'θηβαίων', 'ἀσσυρίων', 'ἑρμηνεία', 'μωυσῆς', 'ἰδεῶν', 'ἰνδῶν', 'ἐκπέμπει', 'ἑβραίων', 'ἀντίοχος', 'ἀντιπάτρου', 'ῥητορικὴ', 'ἡρώδῃ', 'ἀλεξανδρείας', 'ἀντιόχου', 'πολιορκίαν', 'ἰουδαίας', 'ἐπίσκοπον', 'ἀντιοχείας', 'καίσαρα', 'ῥητορική', 'ἐντολῶν', 'ἀρχιερεὺς'], ['ἡρώδης', 'ἰουδαίους', 'ἡρώδου', 'ἱεροσολύμων', 'ἐβασίλευσε', 'ἰουδαίοις', 'ἱεροσόλυμα', 'ἑβραίων', 'ἰούδα', 'ἡρώδην', 'καῖσαρ', 'μιχαὴλ', 'ἰσραὴλ', 'ἐπίσκοπος', 'ἱεροσολύμοις', 'ἀντιοχείας', 'ἰουδαῖοι', 'ἰουδαίαν', 'πρε', 'ἡρώδῃ', 'ἀδὰμ', 'ῥητορικὴ', 'μωυσῆς', 'ἀντίπατρος', 'ἀγάπης', 'λυσίας', 'ἐκπέμπει', 'ἀλώπηξ', 'ἀσσυρίων', 'κωνσταντῖνος', 'ἐντολῶν', 'φανόδημος', 'ἰσραηλιτῶν', 'κωνσταντῖνον', 'ἑρμηνεία', 'κτησιφῶντος', 'ἀντιόχου', 'ὑρκανὸν', 'συγκλήτου', 'ῥητορική', 'καίσαρα', 'ξένε', 'κωνσταντίνου', 'ἀρχιερέα', 'ἀλεξανδρείας', 'ἀρχιερέως', 'ἰσαῖος', 'ἰδεῶν', 'ἰνδικτιῶνος', 'ἀγρίππας'], ['θεόπομπος', 'ἐβασίλευσε', 'ἡρώδης', 'ἐπίσκοπος', 'ἡρώδου', 'ἱεροσολύμων', 'δυναστεία', 'πρε', 'ἀσσυρίων', 'μωυσῆς', 'ἰούδα', 'ἱεροσόλυμα', 'ἰουδαίους', 'ἰσραὴλ', 'λυσίας', 'νῶε', 'φιλιππικῶν', 'ἀβραὰμ', 'ἡρώδην', 'ὑπερείδης', 'ἀδὰμ', 'ἰουδαίοις', 'ἰδεῶν', 'ἑβραίων', 'κατακλυσμοῦ', 'θηβαίων', 'ἀντιοχείας', 'ἰουδαῖοι', 'ῥητορικὴ', 'αἰσχίνης', 'ἀντιφῶν', 'καῖσαρ', 'κτησιφῶντος', 'ἰουδαίαν', 'μωυσέως', 'ἰωσὴφ', 'ἰουδαίας', 'ἀντιπάτρου', 'κωνσταντίνου', 'δημοσθένους', 'μιχαὴλ', 'ἰακὼβ', 'ἱερουσαλὴμ', 'κθʹ', 'προφήτου', 'σίμων', 'ἀλεξανδρείας', 'ἐκπέμπει', 'ἐγέννησε', 'ἱεροσολύμοις'], ['ἡρόδωρος', 'ἡρώδης', 'ἐβασίλευσε', 'ἱεροσολύμων', 'ἱεροσόλυμα', 'ἰουδαίους', 'κωνσταντίνου', 'μωυσῆς', 'καῖσαρ', 'μιχαὴλ', 'ἰούδα', 'ἐπίσκοπος', 'ἱεροσολύμοις', 'ἀδὰμ', 'ἡρώδου', 'δυναστεία', 'ἀντιοχείας', 'ἀσσυρίων', 'ἰουδαῖοι', 'ἑβραίων', 'κωνσταντῖνος', 'ἰουδαίαν', 'ἡρώδην', 'ἐκπέμπει', 'ἡρακλείδης', 'ἰουδαίοις', 'χαλδαίων', 'ἀλώπηξ', 'ἑρμηνεία', 'ἰωάννην', 'ἀλεξανδρείας', 'ἀντιόχου', 'ἀρχιερέα', 'παρέσται', 'ἀβραὰμ', 'ἐντολῶν', 'ἐπισκόπου', 'λυσίας', 'καίσαρα', 'ἐπισκόπων', 'μωυσέως', 'συμεὼν', 'ἰσραὴλ', 'ξένε', 'ἀντιπάτρου', 'ὄνομ', 'ἰσραηλιτῶν', 'ἀρχιερεὺς', 'πατρίκιος', 'ἀγάπης'], ['ἐβασίλευσε', 'φανόδημος', 'ἐπίσκοπος', 'λυσίας', 'ἡρώδης', 'μιχαὴλ', 'ὑπερείδης', 'ἰσραὴλ', 'ἀσσυρίων', 'αἰσχίνης', 'δημάδης', 'θεόπομπος', 'ἱεροσόλυμα', 'ἰουδαίοις', 'ἱεροσολύμων', 'κτησιφῶντος', 'ἀντιοχείας', 'ἱερουσαλὴμ', 'ἀδὰμ', 'ἰσαῖος', 'ἰουδαίους', 'ἰούδα', 'κατακλυσμοῦ', 'μωυσῆς', 'ἀλώπηξ', 'γνήσιος', 'κωνσταντῖνος', 'ἰσοκράτης', 'νῶε', 'ἡρώδου', 'χαλδαίων', 'δείναρχος', 'ἀβραὰμ', 'συμεὼν', 'καῖσαρ', 'ἰουδαίαν', 'κωνσταντίνου', 'ἱεροσολύμοις', 'ἰουδαῖοι', 'βασιλείου', 'θηβαίων', 'ἰακὼβ', 'ἰωσὴφ', 'ἐπισκόπου', 'μωυσέως', 'ἡρώδην', 'ἀντιφῶν', 'δημοσθένους', 'ἐγέννησε', 'καʹ'], ['ἡρώδης', 'ἡρώδου', 'ἰουδαίους', 'θεόπομπος', 'ἑρμηνεία', 'ἱεροσολύμων', 'ἐβασίλευσε', 'ἰουδαίοις', 'ἀλώπηξ', 'μωυσῆς', 'ἱεροσόλυμα', 'ἡρώδην', 'ἰσραὴλ', 'ἰουδαῖοι', 'ἰουδαίαν', 'ἱεροσολύμοις', 'ὑπολαβὼν', 'μιχαὴλ', 'ἰνδῶν', 'ἀσσυρίων', 'ἐπίσκοπος', 'ἰούδα', 'φανόδημος', 'καῖσαρ', 'ἀδὰμ', 'ξὺν', 'ἀβραὰμ', 'ἑβραίων', 'ἰωάννην', 'κωνσταντῖνος', 'ἐκπέμπει', 'σίμων', 'ὑρκανὸν', 'καίσαρα', 'ἀγάπης', 'ἰσραηλιτῶν', 'νῶε', 'ἡρώδῃ', 'μωυσέως', 'γαΐου', 'ἀντίπατρος', 'ἀντιοχείας', 'βαβυλῶνος', 'ξένε', 'δείσας', 'ἀπολλώνιον', 'ἀράβων', 'βασιλίδα', 'ἀντιόχου', 'καίσαρι'], ['πρε', 'σύρου', 'τρι', 'παναγίας', 'ἐφραίμ', 'ἡρακλείδης', 'ὁσίου', 'ἐβασίλευσε', 'ἡρώδης', 'ἡρώδου', 'ἱεροσολύμων', 'ἰουδαίους', 'ἰουδαῖοι', 'καῖσαρ', 'ἱεροσόλυμα', 'ἰουδαίοις', 'ἰσραὴλ', 'ἰούδα', 'δυναστεία', 'ἐπίσκοπος', 'μωυσέως', 'ποντικὸς', 'ἰουδαίαν', 'ἑβραίων', 'ἀσσυρίων', 'ἡρώδην', 'ἰωάννην', 'ἀδὰμ', 'μιχαὴλ', 'ἀλώπηξ', 'ἡρόδωρος', 'ἱερουσαλὴμ', 'ἱεροσολύμοις', 'κωνσταντῖνος', 'μωυσῆς', 'θηβαίων', 'κωνσταντίνου', 'ἰδεῶν', 'ἀρχιερέως', 'ἀντιοχείας', 'κον', 'αἰσχίνης', 'κατακλυσμοῦ', 'ἑρμηνεία', 'χαλδαίων', 'ἡρώδῃ', 'ἀβραὰμ', 'ἑβραίοις', 'ἰακὼβ', 'νῶε'], ['ἡρώδης', 'ὑπερείδης', 'μιχαὴλ', 'ἱεροσολύμων', 'αἰσχίνης', 'ἰουδαίους', 'ἰουδαίαν', 'λυσίας', 'κτησιφῶντος', 'ἰσαῖος', 'ἡρώδου', 'ἀντιφῶν', 'ἱεροσόλυμα', 'ἰουδαίοις', 'καῖσαρ', 'ἰούδα', 'ἐβασίλευσε', 'κωνσταντίνου', 'δείναρχος', 'ἰνδῶν', 'ἰσραὴλ', 'ἑβραίων', 'ἡρώδην', 'ἀδὰμ', 'ἰουδαῖοι', 'ἱεροσολύμοις', 'τᾶς', 'κωνσταντῖνος', 'λυκοῦργος', 'ἐπίσκοπος', 'δημοσθένους', 'γνήσιος', 'ἰσοκράτης', 'βασιλείου', 'ἄρατος', 'ἑρμηνεία', 'ἀγάπης', 'ἀρχιερέως', 'ξένε', 'ἡρώδῃ', 'ἰδεῶν', 'ἀντιοχείας', 'μωυσῆς', 'κωνσταντῖνον', 'πατρίκιος', 'ἰωάννην', 'αὐτοκράτωρ', 'βασίλειος', 'ὑπολαβὼν', 'ἐκπέμπει'], ['θεόπομπος', 'ἐβασίλευσε', 'ἡρώδης', 'ἰσραὴλ', 'πρε', 'καῖσαρ', 'ἱεροσόλυμα', 'ἰουδαίοις', 'ἡρώδου', 'ἀσσυρίων', 'ἐπίσκοπος', 'ἰούδα', 'μιχαὴλ', 'ἰουδαίαν', 'ἱεροσολύμων', 'ἀδὰμ', 'ἑβραίων', 'ἰουδαίους', 'μωυσῆς', 'ἀλώπηξ', 'ἀβραὰμ', 'ἀγάπης', 'κωνσταντίνου', 'ἡρώδην', 'ἀντιοχείας', 'ἰωσὴφ', 'ἐντολῶν', 'ἱερουσαλὴμ', 'ἰωάννην', 'ἀλεξανδρείας', 'ἐκπέμπει', 'ἡρώδῃ', 'μωυσέως', 'βασιλείου', 'δυναστεία', 'ἀρχιερέως', 'ἑρμηνεύεται', 'ἱεροσολύμοις', 'ἀρχιερεὺς', 'μέθοδος', 'ξένε', 'ἑρμηνεία', 'ἰακὼβ', 'καίσαρα', 'κωνσταντῖνον', 'φιλιππικῶν', 'νῶε', 'πολιορκίαν', 'σίμων', 'ἤρετο'], ['ἡρώδου', 'ἡρώδης', 'ἰουδαίους', 'ἀλώπηξ', 'ἐβασίλευσε', 'θεόπομπος', 'ἀδὰμ', 'ἡρώδην', 'ἰουδαίοις', 'ἱεροσόλυμα', 'ἱεροσολύμων', 'λυσίας', 'ἑρμηνεία', 'ἰσραὴλ', 'ξένε', 'καῖσαρ', 'ἐπίσκοπος', 'ὑπερείδης', 'ἰσαῖος', 'ἀπολλώνιον', 'ἰνδῶν', 'ἰούδα', 'ἑβραίων', 'ἱεροσολύμοις', 'ἰουδαῖοι', 'μιχαὴλ', 'ἀγάπης', 'αἰσχίνης', 'ἀντιοχείας', 'κωνσταντίνου', 'ξὺν', 'κωνσταντῖνος', 'ἤρετο', 'μωυσῆς', 'ἰουδαίαν', 'ἀσσυρίων', 'κωνσταντῖνον', 'ἐγέννησε', 'ἱερουσαλὴμ', 'κτησιφῶντος', 'ἰωάννην', 'ἀντιφῶν', 'θηβαίων', 'ὑπολαβὼν', 'ἀβραὰμ', 'πάτρια', 'φήσαντος', 'ἑρμηνεύεται', 'ἀντίοχος', 'γνήσιος']]\n",
      "\n",
      "Can you spot the misplaced word in each topic?\n",
      "0: ἐβασίλευσε ἡρώδου ἡρώδης ἱεροσολύμων ἱεροσόλυμα ἰνδῶν ἐπίσκοπος ῥητορικὴ ἰούδα ἰουδαίοις\n",
      "1: θεόπομπος ἡρώδης ἐβασίλευσε ἰουδαίους ἱεροσόλυμα λυσίας ἡρώδου ἐπίσκοπος ὑπερείδης φιλιππικοῖς\n",
      "2: ἡρώδου ἡρώδης ἱεροσολύμων ἰουδαίους μιχαὴλ ἱεροσόλυμα ἑβραίων ἰουδαίαν λυσίας κατακλυσμοῦ\n",
      "3: θεόπομπος ἡρώδης ἰουδαίους ἱεροσόλυμα ἡρώδου ἱεροσολύμων ἰουδαίοις ἰουδαίαν αἰχμαλωσίας μιχαὴλ\n",
      "4: θεόπομπος ἐβασίλευσε κον ἱεροσολύμων ἀλώπηξ λυσίας ἡρώδου ἰουδαίαν ἰουδαίοις ἀδὰμ\n",
      "5: ἐβασίλευσε ἱεροσολύμων ἡρώδου ἡρώδης ἰούδα ἰουδαίαν ἰσραὴλ ἱεροσόλυμα προσῆλθε μωυσῆς\n",
      "6: θεόπομπος πρε λυκοῦργος δυναστεία θηβαίων ἡρώδου ἱεροσολύμων ἡρώδης ἰσραὴλ ἐπίσκοπος\n",
      "7: πρε θεόπομπος ἐφραίμ ἱππεῖς παναγίας τρι σύρου ἡρώδης ἡρώδου φιλιππικῶν\n",
      "8: ἐβασίλευσε ἡρώδης αὐτοκράτωρ θεόπομπος ἰσραὴλ ἡρώδου ἱεροσολύμων ἐπίσκοπος ἀλώπηξ ἀδὰμ\n",
      "9: πρε ἐφραίμ τρι κϛʹ ὁσίου παναγίας ἡρώδης ἰουδαίους ἐβασίλευσε ἡρώδου\n",
      "10: πρε ἡρώδης ἐβασίλευσε τᾶς ἡρώδου ἱεροσολύμων θεόπομπος δείναρχος ἰουδαίους μιχαὴλ\n",
      "11: κατακλυσμοῦ ἀλώπηξ ἡρώδης ἱεροσόλυμα ἰουδαίους ἡρώδην πρε ἐβασίλευσε ἰούδα ἰουδαίοις\n",
      "12: κτησιφῶντος λυσίας ὑπερείδης πρε ἐβασίλευσε ἐπισκόπου ἀντιφῶν θεόπομπος ἡρώδης ἰουδαίους\n",
      "13: ἡρόδωρος ξὺν ἡρώδου ἐβασίλευσε ἰουδαίους ἡρώδην ἱεροσολύμων ἱεροσόλυμα ἰουδαίαν ἀλώπηξ\n",
      "14: ἡρώδης ἰουδαίους ἡρώδου μιχαὴλ καῖσαρ ἱεροσολύμων ἐβασίλευσε κϛʹ ἱεροσόλυμα ἀδὰμ\n",
      "15: πρε σύρου παναγίας ὁσίου τρι ἐφραίμ ἀντίπατρος ἐβασίλευσε ἑβραίων ἰουδαίους\n",
      "16: ἐβασίλευσε ἡρώδης θεόπομπος δεινότητος ἰούδα ἱεροσολύμων ἰσραὴλ ἡρώδου ἰουδαίοις ἑρμηνεία\n",
      "17: ποντικὸς ἰουδαίους ἱεροσόλυμα ἡρώδου ἐβασίλευσε ἡρώδην ἑβραίων καῖσαρ ἰουδαίοις ἱεροσολύμων\n",
      "18: θεόπομπος ἡρώδης ἡρώδου ἐβασίλευσε ἰώσηπος ἰουδαίαν καῖσαρ ἡρώδην δυναστεία ἀλώπηξ\n",
      "19: θεόπομπος ἡρώδης φιλιππικῶν ἱεροσολύμων ἡρώδου ἱεροσόλυμα ἰουδαίους ἰουδαίαν λυσίας ἰακὼβ\n",
      "20: ἡρώδου ἐβασίλευσε ἡρώδης καῖσαρ ἰσραὴλ ἰουδαίους κον ἀγάπης ἀδὰμ ἰούδα\n",
      "21: πρε μιχαὴλ ἡρώδης ἐβασίλευσε παναγίας σύρου ἱεροσολύμων ἡρώδου ἱεροσόλυμα ἰωσήπου\n",
      "22: θεόπομπος ἡρώδου πατρίκιος ἡρώδης ἱεροσόλυμα ἰουδαίους πρε ἡρώδην ἱεροσολύμων ἰουδαίαν\n",
      "23: πρε κωνσταντῖνον τρι ἐφραίμ θεόπομπος παναγίας σύρου ἡρώδης ἱεροσόλυμα ἰουδαίους\n",
      "24: ἡρώδου ἰουδαίους ἡρώδης ἱεροσολύμων ἱεροσόλυμα ἐβασίλευσε ἀκουσίλαος ἑβραίων ἱεροσολύμοις καῖσαρ\n",
      "25: θεόπομπος ἐβασίλευσε δυναστεία ἰσραηλιτῶν ἱεροσόλυμα ἡρώδου ἱεροσολύμων καῖσαρ ἰουδαίους ἰουδαίοις\n",
      "26: θεόπομπος πρε ἡρώδης ἡρώδου ἐβασίλευσε ἐφραίμ τρι ἰουδαίους θηβαίων ἰουδαίοις\n",
      "27: ἡρώδης ἱεροσόλυμα ἰουδαίους ἡρώδου μιχαὴλ ἐβασίλευσε παρέσται ἀδὰμ ἱεροσολύμων ἑβραίων\n",
      "28: θεόπομπος ἐβασίλευσε ἡρώδης ἱεροσολύμων ἡρακλείδης ἀδὰμ ἐπίσκοπος ἱεροσόλυμα ἡρώδου φανόδημος\n",
      "29: ἐβασίλευσε δυναστεία ἡρώδης θεόπομπος αἰχμαλωσίας ἰσραὴλ κωνσταντίνου ἱεροσολύμων κωνσταντῖνος μιχαὴλ\n",
      "30: ἐβασίλευσε ἡρώδης ἰουδαίους ἀλώπηξ ἱεροσολύμων ἡρώδου θεόπομπος χαλδαίων ἰσραὴλ ἰουδαίοις\n",
      "31: ἡρώδης ἰουδαίους ἡρώδου ἱεροσολύμων ἐβασίλευσε ἰουδαίοις ἱεροσόλυμα ἑβραίων σίμων ἡρώδην\n",
      "32: θεόπομπος ἀριστοβούλου ἡρώδης ἐπίσκοπος ἡρώδου ἱεροσολύμων δυναστεία πρε ἀσσυρίων μωυσῆς\n",
      "33: ἡρόδωρος ἡρώδης ἐβασίλευσε ἱεροσολύμων ἱεροσόλυμα ἰουδαίους ἀρχελάου μωυσῆς καῖσαρ μιχαὴλ\n",
      "34: ἐβασίλευσε ῥητορικὴ ἐπίσκοπος λυσίας ἡρώδης μιχαὴλ ὑπερείδης ἰσραὴλ ἀσσυρίων αἰσχίνης\n",
      "35: ἡρώδης ἡρώδου ἰουδαίους θεόπομπος ἑρμηνεία ἱεροσολύμων ἐβασίλευσε ἰουδαίοις ἀλώπηξ ἀριστοβούλου\n",
      "36: πρε σύρου τρι παναγίας ἐφραίμ ἡρακλείδης ὁσίου ἐβασίλευσε ἡρώδης παρέσται\n",
      "37: ἡρώδης ὑπερείδης μιχαὴλ ἱεροσολύμων ποντικὸς ἰουδαίους ἰουδαίαν λυσίας κτησιφῶντος ἰσαῖος\n",
      "38: θεόπομπος ἐβασίλευσε ἡρώδης ἰσραὴλ πρε καῖσαρ ἱεροσόλυμα ἰουδαίοις ἡρώδου ἰδεῶν\n",
      "39: ἡρώδου ἡρώδης ἰουδαίους ἀλώπηξ ἐβασίλευσε θεόπομπος λβʹ ἡρώδην ἰουδαίοις ἱεροσόλυμα\n",
      "Actual replacements were:\n",
      "[(0, ('ἀδὰμ', 'ῥητορικὴ')), (1, ('κωνσταντίνου', 'φιλιππικοῖς')), (2, ('ἡρώδην', 'κατακλυσμοῦ')), (3, ('ἐβασίλευσε', 'αἰχμαλωσίας')), (4, ('ἡρώδης', 'κον')), (5, ('ἀδὰμ', 'προσῆλθε')), (6, ('ἐβασίλευσε', 'λυκοῦργος')), (7, ('ὁσίου', 'ἱππεῖς')), (8, ('πρε', 'αὐτοκράτωρ')), (9, ('σύρου', 'κϛʹ')), (10, ('ἀγάπης', 'δείναρχος')), (11, ('μιχαὴλ', 'κατακλυσμοῦ')), (12, ('ἰσαῖος', 'ἐπισκόπου')), (13, ('ἡρώδης', 'ξὺν')), (14, ('κωνσταντῖνος', 'κϛʹ')), (15, ('ἡρώδης', 'ἀντίπατρος')), (16, ('ἰουδαίους', 'δεινότητος')), (17, ('ἡρώδης', 'ποντικὸς')), (18, ('ἰουδαίους', 'ἰώσηπος')), (19, ('ἑβραίων', 'ἰακὼβ')), (20, ('ἱεροσόλυμα', 'κον')), (21, ('ὁσίου', 'ἰωσήπου')), (22, ('ἐβασίλευσε', 'πατρίκιος')), (23, ('ὁσίου', 'κωνσταντῖνον')), (24, ('μωυσῆς', 'ἀκουσίλαος')), (25, ('ἡρώδης', 'ἰσραηλιτῶν')), (26, ('ἱεροσόλυμα', 'θηβαίων')), (27, ('ἰουδαίοις', 'παρέσται')), (28, ('ἰουδαίους', 'φανόδημος')), (29, ('ἐπίσκοπος', 'αἰχμαλωσίας')), (30, ('ἱεροσόλυμα', 'χαλδαίων')), (31, ('ἰούδα', 'σίμων')), (32, ('ἐβασίλευσε', 'ἀριστοβούλου')), (33, ('κωνσταντίνου', 'ἀρχελάου')), (34, ('φανόδημος', 'ῥητορικὴ')), (35, ('μωυσῆς', 'ἀριστοβούλου')), (36, ('ἡρώδου', 'παρέσται')), (37, ('αἰσχίνης', 'ποντικὸς')), (38, ('ἀσσυρίων', 'ἰδεῶν')), (39, ('ἀδὰμ', 'λβʹ'))]\n",
      "\n",
      "Loading model: gensim_lda_model_tlg_numtopics60_numpasses1_nobelow20_noabove0.1_tokmin3_tokmax20_docmin50_deaccentFalse.model ...\n",
      "... for word intrusion testing ...\n",
      "Top 50 words of each LDA model:\n"
     ]
    },
    {
     "name": "stderr",
     "output_type": "stream",
     "text": [
      "INFO : loading LdaMulticore object from /home/kyle/cltk_data/user_data/gensim_lda_model_tlg_numtopics120_numpasses1_nobelow20_noabove0.1_tokmin3_tokmax20_docmin50_deaccentFalse.model\n",
      "INFO : loading expElogbeta from /home/kyle/cltk_data/user_data/gensim_lda_model_tlg_numtopics120_numpasses1_nobelow20_noabove0.1_tokmin3_tokmax20_docmin50_deaccentFalse.model.expElogbeta.npy with mmap=None\n",
      "INFO : setting ignored attribute state to None\n",
      "INFO : setting ignored attribute id2word to None\n",
      "INFO : setting ignored attribute dispatcher to None\n",
      "INFO : loaded /home/kyle/cltk_data/user_data/gensim_lda_model_tlg_numtopics120_numpasses1_nobelow20_noabove0.1_tokmin3_tokmax20_docmin50_deaccentFalse.model\n",
      "INFO : loading LdaMulticore object from /home/kyle/cltk_data/user_data/gensim_lda_model_tlg_numtopics120_numpasses1_nobelow20_noabove0.1_tokmin3_tokmax20_docmin50_deaccentFalse.model.state\n",
      "INFO : loading sstats from /home/kyle/cltk_data/user_data/gensim_lda_model_tlg_numtopics120_numpasses1_nobelow20_noabove0.1_tokmin3_tokmax20_docmin50_deaccentFalse.model.state.sstats.npy with mmap=None\n",
      "INFO : loaded /home/kyle/cltk_data/user_data/gensim_lda_model_tlg_numtopics120_numpasses1_nobelow20_noabove0.1_tokmin3_tokmax20_docmin50_deaccentFalse.model.state\n"
     ]
    },
    {
     "name": "stdout",
     "output_type": "stream",
     "text": [
      "[['θεόπομπος', 'φιλιππικῶν', 'ἡρώδου', 'ἡρώδης', 'θεοφάνης', 'μιχαὴλ', 'ἰωάννην', 'ἡρώδην', 'ἱεροσολύμων', 'κωνσταντίνου', 'ἱεροσόλυμα', 'ῥητορικὴ', 'καῖσαρ', 'ῥητορικὴν', 'ἰουδαίους', 'ἰούδα', 'ἀδὰμ', 'ἰουδαίοις', 'ἰουδαίαν', 'μωυσῆς', 'λυσίας', 'ἐκπέμπει', 'κωνσταντῖνον', 'ἐντολῶν', 'κωνσταντῖνος', 'ἐβασίλευσε', 'ἑβραίων', 'βασιλείου', 'ἀλώπηξ', 'πατριάρχης', 'κτησιφῶντος', 'ἰνδῶν', 'ἰσοκράτης', 'βουλγάρων', 'καίσαρα', 'πατρίκιος', 'ἰσαῖος', 'ἱεροσολύμοις', 'ἰουδαῖοι', 'ἑρμηνεία', 'αἰσχίνης', 'ἡρώδῃ', 'ἀντιοχείας', 'ξὺν', 'ἰσραὴλ', 'πολιορκίαν', 'συγκλήτου', 'ἀντιφῶν', 'πατρίκιον', 'ἀντίοχος'], ['ἡρώδης', 'ἐβασίλευσε', 'ἡρώδου', 'μιχαὴλ', 'ἰουδαίους', 'ἀλώπηξ', 'ἰουδαίαν', 'ἱεροσολύμων', 'ἰουδαίοις', 'ἱεροσόλυμα', 'ἀσσυρίων', 'ἡρώδην', 'ἀκουσίλαος', 'ἰουδαῖοι', 'λυσίας', 'κωνσταντίνου', 'ἐπίσκοπος', 'ἰσραὴλ', 'καῖσαρ', 'ἑρμηνεία', 'ἀδὰμ', 'κωνσταντῖνος', 'θεόπομπος', 'ἑβραίων', 'ἰούδα', 'ὑπερείδης', 'κτησιφῶντος', 'ξὺν', 'ἰνδῶν', 'ἐντολῶν', 'αἰσχίνης', 'μωυσῆς', 'νῶε', 'ἀβραὰμ', 'ἰσαῖος', 'γνήσιος', 'καίσαρα', 'ἱερουσαλὴμ', 'ἀντιφῶν', 'ἰωσὴφ', 'κωνσταντῖνον', 'ἐγέννησε', 'θησέα', 'ἀντιοχείας', 'βασιλείου', 'ἰνδικτιῶνος', 'ὑπολαβὼν', 'ἡρώδῃ', 'σίμων', 'ἰουδαίας'], ['ἡρώδης', 'θεόπομπος', 'ἡρώδου', 'ἐβασίλευσε', 'ἰουδαίους', 'ἱεροσόλυμα', 'ἱεροσολύμων', 'καῖσαρ', 'ἰουδαίαν', 'ἰουδαίοις', 'ἡρώδην', 'ἐπίσκοπος', 'ἱεροσολύμοις', 'ἑβραίων', 'ἀσσυρίων', 'ἀδὰμ', 'ἰούδα', 'λυσίας', 'ἰσραὴλ', 'ἀλώπηξ', 'κωνσταντίνου', 'ἰουδαῖοι', 'μιχαὴλ', 'ἰσαῖος', 'ἀντιόχου', 'κτησιφῶντος', 'ὑπερείδης', 'ἀλεξανδρείας', 'ἰσοκράτης', 'καίσαρα', 'ἀντιοχείας', 'ἀρχιερέως', 'ξένε', 'ἰωάννην', 'ἀγάπης', 'ἐγέννησε', 'αἰσχίνης', 'δημάδης', 'γαΐου', 'ἑρμηνεία', 'μωυσῆς', 'ἰνδῶν', 'δείσας', 'δημοσθένους', 'ἐκπέμπει', 'ξὺν', 'μέθοδος', 'χαλδαίων', 'μωυσέως', 'ἰσραηλιτῶν'], ['θεόπομπος', 'φιλιππικῶν', 'ἡρώδης', 'ἐβασίλευσε', 'ἡρακλείδης', 'ἡρώδου', 'ἰουδαίοις', 'ἱεροσολύμων', 'ἰουδαίους', 'ἱεροσόλυμα', 'ἰούδα', 'ἐπίσκοπος', 'ἑρμηνεία', 'ἀλώπηξ', 'ἱεροσολύμοις', 'ἰσραὴλ', 'ἀσσυρίων', 'ἰουδαίαν', 'μιχαὴλ', 'ἡρώδην', 'καῖσαρ', 'ἰουδαῖοι', 'μωυσῆς', 'ἰσραηλιτῶν', 'ὑπερείδης', 'λυσίας', 'κωνσταντίνου', 'κωνσταντῖνος', 'ἑβραίων', 'ἰωάννην', 'ἀντιπάτρου', 'ἀντιοχείας', 'κτησιφῶντος', 'ἀδὰμ', 'βουλγάρων', 'ἰωσὴφ', 'ἡρώδῃ', 'ἱερουσαλὴμ', 'ἐκπέμπει', 'ἰνδῶν', 'ἐπιχώριοι', 'ῥητορικὴ', 'μωυσέως', 'ὑρκανὸν', 'ἀγάπης', 'κωνσταντῖνον', 'ἀντιόχου', 'κρήνη', 'ἀβραὰμ', 'ἰσοκράτης'], ['πρε', 'τρι', 'παναγίας', 'ἐφραίμ', 'ὁσίου', 'σύρου', 'ἡρώδης', 'ἡρώδου', 'ἱεροσολύμων', 'ἰουδαίους', 'ἱεροσόλυμα', 'λυσίας', 'ἰουδαίοις', 'καῖσαρ', 'ἰουδαίαν', 'ἑβραίων', 'ἐβασίλευσε', 'θεόπομπος', 'ὑπερείδης', 'ἀρχιερέως', 'κτησιφῶντος', 'ἐπίσκοπος', 'ἰσοκράτης', 'δείναρχος', 'μωυσῆς', 'ἀδὰμ', 'ἡρώδην', 'αἰσχίνης', 'καίσαρα', 'ἰουδαῖοι', 'ἰωάννην', 'ἰουδαίας', 'ἰδεῶν', 'ἀσσυρίων', 'ἰσραὴλ', 'γνήσιος', 'ἑρμηνεία', 'ἰούδα', 'ἑβραίοις', 'ἰσραηλιτῶν', 'ἰσαῖος', 'μιχαὴλ', 'ἀντιφῶν', 'ἱππεῖς', 'ἱεροσολύμοις', 'φανόδημος', 'ξένε', 'κον', 'τερ', 'πολύκαρπος'], ['ἐβασίλευσε', 'θεόπομπος', 'ἡρώδης', 'ἡρόδωρος', 'ἱεροσολύμων', 'ἱεροσόλυμα', 'ἡρώδου', 'ἰσραὴλ', 'ἰουδαίους', 'μωυσῆς', 'ἰούδα', 'ἐπίσκοπος', 'ἰουδαίοις', 'ἰουδαῖοι', 'ἡρακλείδης', 'ἀβραὰμ', 'ἡρώδην', 'νῶε', 'χαλδαίων', 'καῖσαρ', 'ἀσσυρίων', 'ἀδὰμ', 'ἀγάπης', 'ἱεροσολύμοις', 'μωυσέως', 'ἀλεξανδρείας', 'ἐγέννησε', 'ἀρχιερέως', 'ἀντιόχου', 'φιλιππικῶν', 'ἱερουσαλὴμ', 'ἀρχιερεὺς', 'ἰνδῶν', 'ἀντιπάτρου', 'ἑβραίων', 'προφήτου', 'ποντικὸς', 'ἰωάννην', 'κωνσταντῖνος', 'ἰουδαίαν', 'ἑρμηνεύεται', 'ἀντιοχείας', 'ξένε', 'μιχαὴλ', 'μέθοδος', 'ἰακὼβ', 'ἰωσὴφ', 'καʹ', 'ὑρκανὸν', 'ἐκπέμπει'], ['ἡρώδης', 'ἱεροσόλυμα', 'λυσίας', 'ἡρώδην', 'ἰουδαίους', 'μιχαὴλ', 'ἱεροσολύμων', 'ἐβασίλευσε', 'θεόπομπος', 'μωυσῆς', 'κτησιφῶντος', 'ἡρώδου', 'ἰουδαίαν', 'ἀλώπηξ', 'ὑπερείδης', 'φανόδημος', 'ἑρμηνεία', 'καῖσαρ', 'ἰούδα', 'ἰνδῶν', 'ἰουδαίοις', 'ἰσραὴλ', 'ἰσαῖος', 'ἱεροσολύμοις', 'κωνσταντίνου', 'ξένε', 'ἀδὰμ', 'γνήσιος', 'ἀγάπης', 'ἐκπέμπει', 'ὑρκανὸν', 'ἰουδαίας', 'ἰουδαῖοι', 'σίμων', 'ἰσραηλιτῶν', 'ἐπίσκοπος', 'ἀσσυρίων', 'δείναρχος', 'ἰσοκράτης', 'ἀντιφῶν', 'ἑβραίων', 'ξὺν', 'καίσαρα', 'βασιλείου', 'κωνσταντῖνος', 'κωνσταντῖνον', 'ἰώσηπος', 'φιλιππικῶν', 'πολιορκίαν', 'ἰωσήπου'], ['ἡρώδης', 'ἱεροσόλυμα', 'ἐβασίλευσε', 'ἰουδαίους', 'ἡρώδου', 'θεόπομπος', 'ἱεροσολύμων', 'ἰούδα', 'ἰουδαίοις', 'ἡρώδην', 'ἀδὰμ', 'ἑβραίων', 'ἰουδαίαν', 'μωυσῆς', 'ἀσσυρίων', 'κωνσταντῖνος', 'ἀρχιερέως', 'ἱεροσολύμοις', 'ἐπίσκοπος', 'ἀκουσίλαος', 'μιχαὴλ', 'καῖσαρ', 'ἰνδῶν', 'χαλδαίων', 'ἰουδαίας', 'δημάδης', 'ἰσραὴλ', 'ἐκπέμπει', 'ἰωάννην', 'ἰουδαῖοι', 'ἀντιοχείας', 'ἱερουσαλὴμ', 'θηβαίων', 'ἡρώδῃ', 'καίσαρα', 'κωνσταντίνου', 'μωυσέως', 'φιλιππικῶν', 'ἀντιπάτρου', 'ἀγρίππας', 'ἑρμηνεύεται', 'ἀντιόχου', 'κωνσταντῖνον', 'ἰωσὴφ', 'ἀγάπης', 'δυναστεία', 'ἑβραίοις', 'θῆκεν', 'ἀβραὰμ', 'ἰώσηπον'], ['πρε', 'ἐφραίμ', 'παναγίας', 'σύρου', 'τρι', 'ἡρώδης', 'μιχαὴλ', 'ὁσίου', 'ἡρώδου', 'ἱεροσολύμων', 'καῖσαρ', 'ἱεροσόλυμα', 'ἐβασίλευσε', 'ἰουδαίους', 'ἰουδαῖοι', 'ἡρώδην', 'ἀσσυρίων', 'ἰδεῶν', 'λυσίας', 'κωνσταντίνου', 'ἰουδαίοις', 'βουλγάρων', 'κωνσταντῖνος', 'ἑβραίων', 'ἐκπέμπει', 'βασίλειος', 'ἀδὰμ', 'ἰουδαίαν', 'πατριάρχου', 'ἀντιοχείας', 'ἀγάπης', 'ἐπίσκοπος', 'κωνσταντῖνον', 'μωυσῆς', 'ἱεροσολύμοις', 'καίσαρα', 'πατρίκιον', 'φήσαντος', 'ἀλώπηξ', 'ἑρμηνεία', 'ἀβραὰμ', 'ἀντιόχου', 'θεόπομπος', 'ἰωάννην', 'ἤρετο', 'ἀντίοχος', 'ἰουδαίας', 'βασιλείου', 'ὑρκανὸν', 'ἀράβων'], ['ἡρώδης', 'ἡρώδου', 'ὑπερείδης', 'ἐβασίλευσε', 'ἰουδαίους', 'ἡρώδην', 'ἑβραίων', 'μιχαὴλ', 'ἰούδα', 'καῖσαρ', 'ἱεροσόλυμα', 'μωυσῆς', 'ἰσραὴλ', 'ἰουδαίοις', 'ἱεροσολύμοις', 'θεόπομπος', 'ἰουδαίαν', 'λυσίας', 'κτησιφῶντος', 'ἱεροσολύμων', 'ἀρχιερέως', 'ἰουδαῖοι', 'ἑρμηνεία', 'ἀλώπηξ', 'ἐκπέμπει', 'αἰσχίνης', 'ὑρκανὸν', 'ἰωάννην', 'ξένε', 'ἀβραὰμ', 'κωνσταντῖνος', 'ἰωσήπου', 'ἀρχιερεὺς', 'ἀντίπατρος', 'ἀντιπάτρου', 'καίσαρα', 'ἰνδῶν', 'ἰουδαίας', 'ἀδὰμ', 'βασιλείου', 'σίμων', 'ἀσσυρίων', 'ἀντιοχείας', 'ἐντολῶν', 'γνήσιος', 'κωνσταντίνου', 'ἀντιόχου', 'δείναρχος', 'ἀντίπατρον', 'δημοσθένους'], ['θεόπομπος', 'πρε', 'ἡρώδης', 'φιλιππικῶν', 'ἰουδαίους', 'ἐβασίλευσε', 'ἡρώδου', 'ἱεροσολύμων', 'κωνσταντῖνος', 'λυσίας', 'μιχαὴλ', 'ἐπίσκοπος', 'ἡρώδην', 'ἐκπέμπει', 'ἱεροσόλυμα', 'καῖσαρ', 'ὑπερείδης', 'μωυσῆς', 'ἑβραίων', 'ἰούδα', 'ἰουδαίαν', 'παναγίας', 'ἰουδαῖοι', 'ἑρμηνεία', 'ἀδὰμ', 'ἰσαῖος', 'ἰσραὴλ', 'πατρίκιον', 'κωνσταντίνου', 'γνήσιος', 'ἰουδαίοις', 'δείναρχος', 'ἀντιοχείας', 'ἐφραίμ', 'ἱεροσολύμοις', 'ἀντιπάτρου', 'σύρου', 'ἰνδικτιῶνος', 'ἰνδῶν', 'ἀλεξανδρείας', 'ἀσσυρίων', 'ἰωάννην', 'πατρίκιος', 'βουλγάρων', 'ἀρχιερέα', 'ὁσίου', 'ἰουδαίας', 'ἤρετο', 'ἀλώπηξ', 'τρι'], ['πρε', 'ἐβασίλευσε', 'ἡρώδου', 'ἰουδαίους', 'ἡρώδης', 'ἱεροσόλυμα', 'ξένε', 'ἡρώδην', 'μιχαὴλ', 'τρι', 'ἱεροσολύμων', 'ἰουδαίαν', 'μωυσῆς', 'ἀλώπηξ', 'ἀδὰμ', 'ἐπίσκοπος', 'ἰσραὴλ', 'ὁσίου', 'ἱεροσολύμοις', 'ἑβραίων', 'ἰουδαίοις', 'καῖσαρ', 'κωνσταντῖνος', 'ἑρμηνεία', 'ἰνδικτιῶνος', 'ἐφραίμ', 'ἐκπέμπει', 'ἀβραὰμ', 'σύρου', 'ἰωάννην', 'θεόπομπος', 'ἰουδαῖοι', 'ἰούδα', 'ἀρχιερεὺς', 'βουλγάρων', 'ξὺν', 'μωυσέως', 'ἀσσυρίων', 'λυσίας', 'κεῖμαι', 'ἀντιπάτρου', 'κωνσταντῖνον', 'κτησιφῶντος', 'ἀρχιερέως', 'καίσαρα', 'ἀράβων', 'πολιορκίαν', 'ἰνδῶν', 'τύμβον', 'συγκλήτου'], ['πρε', 'ἐβασίλευσε', 'ἀλώπηξ', 'ἡρώδης', 'ἰσραὴλ', 'ἡρώδου', 'μιχαὴλ', 'παρέσται', 'λυσίας', 'ἐπίσκοπος', 'ἑρμηνεία', 'ἰδεῶν', 'ἱεροσολύμων', 'κωνσταντῖνος', 'ἰούδα', 'μωυσῆς', 'ἡρακλείδης', 'ἡρόδωρος', 'ἰουδαίαν', 'ἰουδαίοις', 'ἱεροσόλυμα', 'ὄνομ', 'ἀδὰμ', 'ὑπερείδης', 'ἐκπέμπει', 'κωνσταντίνου', 'παναγίας', 'ἰουδαίους', 'μέθοδος', 'ἐφραίμ', 'ξὺν', 'μέθοδον', 'καῖσαρ', 'ἀσσυρίων', 'ἀβραὰμ', 'δημοσθένους', 'αἰσχίνης', 'διαλέγου', 'ἑβραίων', 'πειθὼ', 'θεόπομπος', 'ἱκέτευον', 'ἰουδαῖοι', 'κωνσταντῖνον', 'ἱεροσολύμοις', 'τρι', 'βασίλειος', 'ἀντιοχείας', 'ἰσαῖος', 'μάγειρον'], ['θεόπομπος', 'ἡρώδης', 'ἡρώδου', 'ἰουδαίοις', 'ἐβασίλευσε', 'ἰουδαίους', 'ἱεροσολύμων', 'ἱεροσόλυμα', 'ἀσσυρίων', 'ἡρώδην', 'ἱεροσολύμοις', 'ἰούδα', 'ἑβραίων', 'ἐπίσκοπος', 'ἰσραὴλ', 'ἀλώπηξ', 'ἰουδαῖοι', 'μωυσῆς', 'καῖσαρ', 'ἡρόδωρος', 'ἰουδαίαν', 'αἰσχίνης', 'μιχαὴλ', 'ἀντιόχου', 'λυσίας', 'ἀδὰμ', 'ὑπερείδης', 'κωνσταντῖνος', 'ἰδεῶν', 'γαΐου', 'καίσαρα', 'χαλδαίων', 'κτησιφῶντος', 'ἀντιπάτρου', 'βουλγάρων', 'ἐκπέμπει', 'ἀντιοχείας', 'ἰωάννην', 'ἡρώδῃ', 'ἰνδῶν', 'ὑρκανὸν', 'ἰουδαίας', 'ἀράβων', 'ἑρμηνεία', 'πολιορκίαν', 'ὑπολαβὼν', 'ἀρχιερέως', 'φιλιππικῶν', 'ξένε', 'ἀντιφῶν'], ['ἡρώδης', 'ἱεροσόλυμα', 'ἐβασίλευσε', 'ἰουδαίους', 'ἡρώδου', 'ἑβραίων', 'μιχαὴλ', 'ἰουδαίαν', 'πρε', 'ἰουδαίοις', 'ἰουδαῖοι', 'ἱεροσολύμων', 'ἡρώδην', 'καῖσαρ', 'ἐπίσκοπος', 'ἰωάννην', 'μωυσῆς', 'θεόπομπος', 'ἀδὰμ', 'ἰούδα', 'λυσίας', 'κωνσταντίνου', 'βουλγάρων', 'ἐκπέμπει', 'γαΐου', 'ἀσσυρίων', 'καίσαρα', 'ἰσραηλιτῶν', 'ἰσραὴλ', 'ὑπερείδης', 'ἀγάπης', 'ἱεροσολύμοις', 'γαλιλαίας', 'ἀγρίππας', 'τίτος', 'χαλδαίων', 'ἀλώπηξ', 'πολιορκίαν', 'προφήτου', 'ἀντιόχου', 'ἀβραὰμ', 'ὑρκανὸν', 'ἡρώδῃ', 'ἰωσήπου', 'συμεὼν', 'πατριάρχου', 'ἀρχιερέως', 'ἀριστοβούλου', 'ἀντίπατρος', 'ἰσαῖος'], ['ἡρώδης', 'ἡρώδου', 'ἱεροσολύμων', 'καῖσαρ', 'ἰουδαίους', 'μωυσῆς', 'ἰουδαίοις', 'ἐβασίλευσε', 'μιχαὴλ', 'ἡρώδην', 'ξένε', 'ἰούδα', 'θεόπομπος', 'ἰουδαῖοι', 'ἀσσυρίων', 'ἐπίσκοπος', 'ἰουδαίαν', 'ἱεροσόλυμα', 'δραχμὴν', 'ἐκπέμπει', 'ἱεροσολύμοις', 'βάλλε', 'ἱερουσαλὴμ', 'ἑβραίων', 'ἀβραὰμ', 'ἡρώδῃ', 'ἀντιοχείας', 'ἀδὰμ', 'κωνσταντίνου', 'κωνσταντῖνος', 'χαλδαίων', 'ξὺν', 'ἰνδῶν', 'ἰσραὴλ', 'ἰωάννην', 'ἰουδαίας', 'ἀρχιερέα', 'ἀράβων', 'ἤρετο', 'καίσαρα', 'ἡρακλείδης', 'κτησιφῶντος', 'ἐντολῶν', 'ἀπολλώνιον', 'τίτος', 'ἀντίπατρος', 'ἀρχιερέως', 'ἀλώπηξ', 'ἰωσὴφ', 'ἀγάπης'], ['ἡρώδης', 'ἡρώδου', 'ἐβασίλευσε', 'ἰουδαίους', 'ἱεροσολύμων', 'ἱεροσόλυμα', 'ἰούδα', 'μωυσῆς', 'ἑβραίων', 'καῖσαρ', 'ἡρώδην', 'ἐπίσκοπος', 'ἀλώπηξ', 'ἰουδαίοις', 'ἰουδαῖοι', 'ἰσραὴλ', 'ἀδὰμ', 'ἱεροσολύμοις', 'ἡρώδῃ', 'ἰουδαίαν', 'ἀγάπης', 'μωυσέως', 'ἀρχιερέως', 'ἀλεξανδρείας', 'ἀντιόχου', 'φανόδημος', 'θεόπομπος', 'ἱππεῖς', 'νῶε', 'ἀσσυρίων', 'ἰωάννην', 'καίσαρα', 'μιχαὴλ', 'ἐκπέμπει', 'ἡρόδωρος', 'κωνσταντῖνος', 'ἰνδῶν', 'ἰακὼβ', 'ἀντιοχείας', 'ἐντολῶν', 'ἀβραὰμ', 'κωνσταντίνου', 'λυσίας', 'ὑρκανὸν', 'ἰσραηλιτῶν', 'κωνσταντῖνον', 'γαΐου', 'ἀντίοχος', 'ἀρχιερέα', 'ἀράβων'], ['θεόπομπος', 'ἐβασίλευσε', 'ἡρώδης', 'ἡρώδου', 'ἱεροσολύμων', 'ἰουδαίοις', 'ἰούδα', 'ἱεροσόλυμα', 'δυναστεία', 'ἰσραὴλ', 'ἰουδαίους', 'ἱεροσολύμοις', 'ἐπίσκοπος', 'ἡρώδην', 'ἀδὰμ', 'ἀλώπηξ', 'φιλιππικῶν', 'καῖσαρ', 'ὑπερείδης', 'ἀσσυρίων', 'ἰουδαίαν', 'ἀβραὰμ', 'ἰουδαίας', 'μωυσῆς', 'ἀκουσίλαος', 'νῶε', 'ἑβραίων', 'ἰουδαῖοι', 'ἀντιπάτρου', 'ἑρμηνεία', 'ἰνδῶν', 'ξένε', 'λυσίας', 'ἱερουσαλὴμ', 'ξὺν', 'χαλδαίων', 'θηβαίων', 'ἰωάννην', 'ἀντιόχου', 'τίτος', 'κθʹ', 'ἀριστοβούλου', 'ἀρχιερέα', 'ἀλεξανδρείας', 'σίμων', 'ἰσοκράτης', 'μιχαὴλ', 'κωνσταντίνου', 'ἐβασίλευσαν', 'ἐγέννησε'], ['θεόπομπος', 'ἐβασίλευσε', 'ἀλώπηξ', 'ἑρμηνεία', 'ἀδὰμ', 'δυναστεία', 'ζητήσεις', 'ἰούδα', 'ἀσσυρίων', 'ἡρώδης', 'ἐπίσκοπος', 'θηβαίων', 'δημάδης', 'ἀδίκημα', 'μιχαὴλ', 'ἱεροσολύμων', 'ὑπερείδης', 'ἰσραὴλ', 'ἰσαῖος', 'ἰουδαίους', 'ἐκπέμπει', 'λυσίας', 'ἰνδῶν', 'φανόδημος', 'φιλιππικῶν', 'ἱερουσαλὴμ', 'ἀντιλήψεις', 'δημοσθένους', 'νῶε', 'ἱεροσόλυμα', 'ξένε', 'ἰουδαίοις', 'ἡρόδωρος', 'κτησιφῶντος', 'ἀβραὰμ', 'αἰσχίνης', 'εὐσέβιος', 'ῥητοῦ', 'κωνσταντῖνον', 'μωυσέως', 'ἀγάπης', 'γνήσιος', 'πραγματικῆς', 'μέθοδος', 'μωυσῆς', 'ἀντιοχείας', 'κατακλυσμοῦ', 'ἡρώδου', 'ἰωσὴφ', 'ἰωάννην'], ['θεόπομπος', 'φιλιππικῶν', 'ἐβασίλευσε', 'μιχαὴλ', 'ἡρώδης', 'ἰσραὴλ', 'κωνσταντίνου', 'ἰουδαίους', 'ἱεροσολύμων', 'ἀδὰμ', 'ἱεροσόλυμα', 'ἐπίσκοπος', 'ἡρώδου', 'ἑρμόδωρος', 'ἰουδαίοις', 'ἡρώδην', 'ξένε', 'ἀλώπηξ', 'ἑβραίων', 'ἐκπέμπει', 'κωνσταντῖνος', 'ἰουδαίαν', 'ἀσσυρίων', 'ἀντιοχείας', 'ἰούδα', 'θεοπόμπου', 'ἰουδαῖοι', 'καῖσαρ', 'ἰνδῶν', 'ἰνδικτιῶνος', 'κωνσταντῖνον', 'ἑρμηνεία', 'συμεὼν', 'ἀντιόχου', 'μωυσέως', 'δημοσθένους', 'ἀγάπης', 'χαλδαίων', 'πατριάρχης', 'μέθοδος', 'ἀβραὰμ', 'ἱεροσολύμοις', 'αὐτοκράτωρ', 'πολιορκίαν', 'ἐντολῶν', 'θηβαίων', 'βασιλείου', 'ἱερουσαλὴμ', 'ἰωσὴφ', 'ἀντίοχος'], ['ἐβασίλευσε', 'ἡρώδης', 'θεόπομπος', 'μιχαὴλ', 'κωνσταντῖνος', 'ἱεροσόλυμα', 'ἱεροσολύμων', 'καῖσαρ', 'κωνσταντίνου', 'ἰουδαίους', 'βλέπω', 'λυσίας', 'ἡρώδου', 'ἀσσυρίων', 'κτησιφῶντος', 'ἀλώπηξ', 'ἰούδα', 'ἰουδαίαν', 'ἰουδαίοις', 'ἰουδαῖοι', 'ἱεροσολύμοις', 'δημοσθένους', 'αἰσχίνης', 'ἑβραίων', 'ἡρώδην', 'ἡρακλείδης', 'ἀδὰμ', 'ἑρμηνεία', 'βουλγάρων', 'ἰνδῶν', 'ἐκπέμπει', 'ἀβραὰμ', 'ἰσαῖος', 'μέθοδος', 'ἐπίσκοπος', 'ἰσραὴλ', 'ὑπερείδης', 'πατριάρχου', 'στελέχους', 'ἀράβων', 'ἰουδαίας', 'ἀντιπάτρου', 'κωνσταντῖνον', 'συμεὼν', 'πατρίκιον', 'μωυσῆς', 'ἡρώδῃ', 'βασίλειος', 'χαλδαίων', 'ὑρκανὸν'], ['ἐβασίλευσε', 'ἡρώδης', 'ἰσραὴλ', 'ἱεροσόλυμα', 'ἰουδαίους', 'μιχαὴλ', 'ἡρακλείδης', 'ἱεροσολύμων', 'ἡρώδου', 'μωυσῆς', 'ἰουδαίοις', 'ἡρώδην', 'ἐπίσκοπος', 'ἀδὰμ', 'ἀσσυρίων', 'ἑβραίων', 'κωνσταντίνου', 'παρμενίδου', 'ἀντιοχείας', 'νῶε', 'ἰουδαίαν', 'καίσαρα', 'καῖσαρ', 'ἱεροσολύμοις', 'δημάδης', 'ἀβραὰμ', 'δυναστεία', 'κωνσταντῖνον', 'ἀντιόχου', 'ἰούδα', 'ἰακὼβ', 'ἀράβων', 'βουλγάρων', 'ἰωάννην', 'ἀγάπης', 'ἀντιπάτρου', 'κωνσταντῖνος', 'ἐκπέμπει', 'δείσας', 'πατριάρχου', 'θηβαίων', 'ἀρχιερέα', 'ἱερουσαλὴμ', 'ἰσραηλιτῶν', 'ὑπερείδης', 'ἑρμηνεία', 'ἀρχιερεὺς', 'ἐντολῶν', 'κατακλυσμοῦ', 'συμεὼν'], ['πρε', 'σύρου', 'ὁσίου', 'ἐφραίμ', 'παναγίας', 'τρι', 'κον', 'ἰδεῶν', 'ἐβασίλευσε', 'στάσεων', 'τερ', 'μονα', 'ἐπίσκοπος', 'ἡρώδης', 'ποίησις', 'ἡρώδου', 'ἑβραίων', 'ἰουδαίους', 'ἰωάννην', 'ἀδὰμ', 'ἰσραὴλ', 'καῖσαρ', 'ἰουδαίοις', 'ἱεροὶ', 'ἱεροσολύμων', 'ἰούδα', 'διο', 'ιον', 'τρο', 'μωυσῆς', 'χαλδαίων', 'ἡρώδην', 'ἱεροσόλυμα', 'ἰουδαίαν', 'ἱερουσαλὴμ', 'ἡρακλείδης', 'διήγησις', 'προσῳδιῶν', 'κλίσεως', 'αὐτοκράτορα', 'ἀσσυρίων', 'ῥητορικὴ', 'ἱεροσολύμοις', 'ἀπολογία', 'ἐπιστολαί', 'ἀντιοχείας', 'ὑπομνήματα', 'ἀντίοχος', 'ἐγέννησε', 'νῶε'], ['ἡρακλείδης', 'μιχαὴλ', 'θεόπομπος', 'ἡρώδης', 'ἡρώδου', 'κωνσταντίνου', 'κωνσταντῖνος', 'ἐβασίλευσε', 'ἀλώπηξ', 'ἱεροσολύμων', 'ἐπίσκοπος', 'ἱεροσόλυμα', 'ἰουδαίοις', 'ἰουδαίους', 'ἑρμηνεία', 'ἐντολῶν', 'ἀγάπης', 'ἡρώδην', 'ἰούδα', 'καῖσαρ', 'ἀδὰμ', 'ἐκπέμπει', 'δυναστεία', 'ἰσραὴλ', 'ἀντιοχείας', 'ἱεροσολύμοις', 'αἰσχίνης', 'ἐπισκόπων', 'μωυσῆς', 'ἰουδαῖοι', 'ἰουδαίαν', 'ἀσσυρίων', 'θηβαίων', 'ἰωάννην', 'βασιλείου', 'ἰνδῶν', 'κωνσταντῖνον', 'πολιορκίαν', 'ἀβραὰμ', 'λυσίας', 'καλχηδόνι', 'ἱερουσαλὴμ', 'ποντικὸς', 'ῥητορικὴ', 'πατριάρχου', 'ἰνδικτιῶνος', 'ἑβραίων', 'δημοσθένους', 'ξένε', 'ἀλεξανδρείας'], ['ἱεροσολύμων', 'ἐβασίλευσε', 'ἐπίσκοπος', 'ἰσραὴλ', 'ἡρώδης', 'ἡρώδου', 'ἰούδα', 'ἱεροσόλυμα', 'ἀλεξανδρείας', 'ἰουδαίοις', 'ἀσσυρίων', 'ἀδὰμ', 'ἡρώδην', 'ἰουδαίους', 'ἰουδαίαν', 'ἀντιοχείας', 'ἀβραὰμ', 'νῶε', 'ἀγάπης', 'ὑπερείδης', 'μιχαὴλ', 'χαλδαίων', 'λυσίας', 'ἰουδαῖοι', 'καῖσαρ', 'ἑβραίων', 'ἀλώπηξ', 'μωυσῆς', 'κωνσταντῖνος', 'μωυσέως', 'ἑρμηνεία', 'ἱεροσολύμοις', 'ἱερουσαλὴμ', 'καίσαρα', 'δυναστεία', 'ἰωάννην', 'βουλγάρων', 'κατακλυσμοῦ', 'κβʹ', 'ἀρχιερεὺς', 'ἰουδαίας', 'θεόπομπος', 'ἀντίοχος', 'αἰσχίνης', 'κωνσταντίνου', 'ἀγρίππας', 'ἡρώδῃ', 'ξένε', 'ἰσαῖος', 'ἐκπέμπει'], ['πρε', 'σύρου', 'τρι', 'ὁσίου', 'παναγίας', 'ἐφραίμ', 'ἡρώδης', 'ἰουδαίους', 'ἡρώδου', 'ἰουδαίοις', 'ἱεροσόλυμα', 'ἱεροσολύμων', 'ἰουδαίαν', 'ἑβραίων', 'μωυσῆς', 'καῖσαρ', 'ἐβασίλευσε', 'ἡρώδην', 'ἐπίσκοπος', 'ἀδὰμ', 'ἰουδαῖοι', 'ἱεροσολύμοις', 'ἀντιοχείας', 'ἰωάννην', 'ἰδεῶν', 'κον', 'ἀρχιερέως', 'ἰουδαίας', 'ἡρώδῃ', 'ἀσσυρίων', 'ξένε', 'τερ', 'καίσαρα', 'ἰούδα', 'ἰσραὴλ', 'ἀγρίππας', 'κωνσταντῖνος', 'ἰνδῶν', 'θεόπομπος', 'μιχαὴλ', 'ἀβραὰμ', 'ἰώσηπος', 'ἀρχιερέα', 'δείσας', 'στάσεων', 'ἀράβων', 'γαΐου', 'ἀντίπατρος', 'μονα', 'γαλιλαίας'], ['ἡρώδης', 'ἐβασίλευσε', 'ἰσραὴλ', 'ἰουδαίους', 'ἀλώπηξ', 'ἱεροσόλυμα', 'ἡρώδου', 'ἱεροσολύμων', 'ἀδὰμ', 'μιχαὴλ', 'καῖσαρ', 'κωνσταντῖνος', 'ἰούδα', 'ἰουδαίοις', 'ἐπίσκοπος', 'ἑρμηνεία', 'ἡρώδην', 'ἑβραίων', 'ἱεροσολύμοις', 'ἡρακλείδης', 'μωυσῆς', 'ἀβραὰμ', 'κωνσταντίνου', 'νῶε', 'ἰουδαῖοι', 'ἰουδαίαν', 'ἀκουσίλαος', 'λυσίας', 'μωυσέως', 'χαλδαίων', 'ξένε', 'ἀσσυρίων', 'στησίμβροτος', 'ἀντιοχείας', 'ἰωάννην', 'ἀντίπατρος', 'ἀντίοχος', 'ἐγέννησε', 'βασίλειος', 'ἡρώδῃ', 'ἀγάπης', 'εὐσέβιος', 'ἐγνωρίζετο', 'βουλγάρων', 'καίσαρα', 'ἀρχιερέως', 'ἀράβων', 'ἰακὼβ', 'ἀρχιερεὺς', 'βασιλείου'], ['θεόπομπος', 'ἡρώδης', 'ἱεροσόλυμα', 'ἡρώδου', 'ἰουδαίους', 'φιλιππικῶν', 'ἰουδαῖοι', 'ἰουδαίοις', 'ἡρώδην', 'ἀνθύπατος', 'ἱεροσολύμων', 'ὑπερείδης', 'ἰουδαίαν', 'λυσίας', 'καῖσαρ', 'μωυσῆς', 'μιχαὴλ', 'ἰσραηλιτῶν', 'ἐπίσκοπος', 'ἱεροσολύμοις', 'κτησιφῶντος', 'ἰσοκράτης', 'πολύκαρπος', 'ἑβραίων', 'ἐβασίλευσε', 'ἰούδα', 'γνήσιος', 'ἰσραὴλ', 'ἰσαῖος', 'ἡρώδῃ', 'ἰνδῶν', 'ἀρχιερέως', 'δημοσθένους', 'ἰησοῦν', 'ἱππεῖς', 'δημάδης', 'καίσαρα', 'ἀδὰμ', 'ἀντιφῶν', 'ἀντίοχος', 'ἀντιπάτρου', 'αἰσχίνης', 'ἰωάννην', 'γαΐου', 'προφήτου', 'ἀντίπατρος', 'ἀγρίππας', 'χαλδαίων', 'ἀντιόχου', 'λυκοῦργος'], ['ἡρώδης', 'ἱεροσόλυμα', 'ἡρώδου', 'καῖσαρ', 'ἱεροσολύμων', 'ἐβασίλευσε', 'ἀδὰμ', 'ἰουδαίους', 'ἰουδαίαν', 'ἡρώδην', 'ἱεροσολύμοις', 'μιχαὴλ', 'ἑβραίων', 'λυσίας', 'ἰουδαῖοι', 'ἰουδαίοις', 'θεόπομπος', 'ἰούδα', 'δυναστεία', 'ἀσσυρίων', 'ὑρκανὸν', 'μωυσῆς', 'ἀντίοχος', 'ἀλώπηξ', 'ἐκπέμπει', 'κτησιφῶντος', 'ἡρώδῃ', 'ἐπίσκοπος', 'κωνσταντῖνος', 'ἰωάννην', 'τίτος', 'γαΐου', 'ἀγρίππας', 'ἰσραὴλ', 'ἰσοκράτης', 'κωνσταντίνου', 'ἀρχιερέα', 'ῥητορικὴ', 'ἀρχιερέως', 'φήσαντος', 'ἀντιοχείας', 'ὑπερείδης', 'μωυσέως', 'ἰώσηπον', 'ἑρμηνεία', 'ἀντίπατρος', 'ἀντιπάτρου', 'ἰδεῶν', 'ἀλεξανδρείας', 'ἰνδῶν'], ['ἡρώδης', 'ἡρώδου', 'ἱεροσόλυμα', 'λυσίας', 'ἱεροσολύμων', 'ἔφεσον', 'κλειτοφῶν', 'ἐβασίλευσε', 'μωυσῆς', 'μιχαὴλ', 'ἡρώδην', 'ἀγάπης', 'ἰουδαίους', 'ἰσαῖος', 'πρε', 'ἰούδα', 'ἀντιπάτρου', 'ἀδὰμ', 'ἱεροσολύμοις', 'ἐπίσκοπος', 'κτησιφῶντος', 'ἀλώπηξ', 'θεόπομπος', 'καῖσαρ', 'ἰουδαῖοι', 'ἰουδαίαν', 'ἡρακλείδης', 'ὑπερείδης', 'ἀσσυρίων', 'ἑρμηνεία', 'ἑβραίων', 'κωνσταντίνου', 'ἰσραὴλ', 'ἀβραὰμ', 'γαλατῶν', 'ποιησάντων', 'αἰσχίνης', 'ἐκπέμπει', 'ζῶσα', 'ἰωάννην', 'ἑρμηνεύεται', 'ξένε', 'βαῖνε', 'ἀρχιερέως', 'κύματ', 'καρίαν', 'ἱερουσαλὴμ', 'φιλαργύρου', 'ψέλλια', 'ἀντιοχείας'], ['θεόπομπος', 'ἡρόδωρος', 'φιλιππικῶν', 'ἡρώδης', 'ἰουδαίους', 'κωνσταντίνου', 'ἡρώδου', 'ἱεροσόλυμα', 'καῖσαρ', 'ἐβασίλευσε', 'μιχαὴλ', 'ἀλώπηξ', 'ἑρμηνεία', 'ἰουδαίαν', 'ἱεροσολύμων', 'ἰούδα', 'ἐπίσκοπος', 'προσῆλθε', 'ἰσραὴλ', 'συμεὼν', 'ἀντιοχείας', 'ἀδὰμ', 'κωνσταντῖνος', 'ἰουδαίοις', 'πατριάρχου', 'ἰωάννην', 'ἰνδικτιῶνος', 'ἐκπέμπει', 'κωνσταντῖνον', 'μωυσῆς', 'ἡρώδην', 'ἱεροσολύμοις', 'ἀσσυρίων', 'φλυαρία', 'λυσίας', 'ἑβραίων', 'βασίλειος', 'βουλγάρων', 'ἰουδαῖοι', 'πατριάρχης', 'ἡρώδῃ', 'πατρίκιον', 'κτησιφῶντος', 'ἐντολῶν', 'ἀρχιερέως', 'ὑπερείδης', 'ἀγάπης', 'ἀρχιερεὺς', 'ἀντιπάτρου', 'ῥωμανὸς'], ['ἡρώδης', 'ἰουδαίους', 'ἡρώδου', 'ἐβασίλευσε', 'ἱεροσόλυμα', 'ἱεροσολύμων', 'ἰουδαίοις', 'καῖσαρ', 'μιχαὴλ', 'μωυσῆς', 'ἑβραίων', 'ἰσραὴλ', 'ἰουδαίαν', 'ἰουδαῖοι', 'ἐπίσκοπος', 'δημάδης', 'ἡρώδην', 'ἀσσυρίων', 'λυσίας', 'ἀλώπηξ', 'ὑπερείδης', 'ἱεροσολύμοις', 'ἐκπέμπει', 'καίσαρα', 'ἰδεῶν', 'ἰουδαίας', 'ὑρκανὸν', 'ἀγάπης', 'κωνσταντίνου', 'ἰνδῶν', 'ἰούδα', 'ἡρώδῃ', 'πολιορκίαν', 'θεόπομπος', 'κωνσταντῖνον', 'ἀντιοχείας', 'ἀντίοχος', 'ἀρχιερέως', 'ἀβραὰμ', 'σίμων', 'ἰσοκράτης', 'πάτρια', 'ἀντιπάτρου', 'κωνσταντῖνος', 'μέθοδον', 'ἱππεῖς', 'ἰωάννην', 'ἑρμηνεία', 'δημοσθένους', 'χαλδαίων'], ['θεόπομπος', 'ἐβασίλευσε', 'ἰουδαίους', 'μιχαὴλ', 'λυσίας', 'ἐπίσκοπος', 'ἡρώδης', 'ἀλώπηξ', 'κτησιφῶντος', 'ἀδὰμ', 'ἀσσυρίων', 'ἰσαῖος', 'καῖσαρ', 'ἱεροσολύμων', 'ἰσραὴλ', 'ἰουδαίοις', 'ἰούδα', 'ἀντιφῶν', 'ἱεροσόλυμα', 'αἰσχίνης', 'ἄρατος', 'ἡρώδου', 'ὑπερείδης', 'κωνσταντῖνος', 'ἑρμηνεία', 'δείναρχος', 'ἀβραὰμ', 'ἀγάπης', 'ἰουδαῖοι', 'κωνσταντίνου', 'ἰσοκράτης', 'ἀλεξανδρείας', 'ἐκπέμπει', 'μωυσῆς', 'ἡρώδην', 'ἰουδαίαν', 'ἰακὼβ', 'ἀντιοχείας', 'γνήσιος', 'ἀντιόχου', 'ἑβραίων', 'ἄνδρων', 'ἐντολῶν', 'νῶε', 'λυκοῦργος', 'πατριάρχου', 'ἱεροσολύμοις', 'συμεὼν', 'βουλγάρων', 'αἰχμαλωσίας'], ['πρε', 'ἡρώδης', 'ἱεροσόλυμα', 'ἰουδαίους', 'καῖσαρ', 'ἐφραίμ', 'μιχαὴλ', 'ἰουδαίαν', 'τρι', 'ξένε', 'κωνσταντίνου', 'ἰουδαίοις', 'ἰούδα', 'ἱεροσολύμων', 'ἱεροσολύμοις', 'ὁσίου', 'κωνσταντῖνος', 'σύρου', 'ἡρώδην', 'ἡρώδου', 'παναγίας', 'ἀλώπηξ', 'πατριάρχου', 'ἐβασίλευσε', 'ἀντιοχείας', 'ἀσσυρίων', 'μωυσῆς', 'ἰωάννην', 'ἀδὰμ', 'ἰνδῶν', 'ἐπίσκοπος', 'ἰσραηλιτῶν', 'ἰσραὴλ', 'κωνσταντῖνον', 'ἰουδαῖοι', 'βουλγάρων', 'ἀντιόχου', 'θεόπομπος', 'πατριάρχης', 'καίσαρα', 'προφήτου', 'ἑβραίων', 'ἐγέννησε', 'ξὺν', 'τίτος', 'βασίλειος', 'πατρίκιος', 'ἐκπέμπει', 'ἀπολλώνιον', 'ἀρχιερέως'], ['θεόπομπος', 'ἡρώδης', 'ἡρώδου', 'ἐβασίλευσε', 'ἰσραὴλ', 'ἰουδαίους', 'ἱεροσόλυμα', 'ἐπίσκοπος', 'μιχαὴλ', 'ἰουδαίοις', 'ἱεροσολύμων', 'ἀσσυρίων', 'ἰούδα', 'ἡρώδην', 'καῖσαρ', 'ἰουδαῖοι', 'ἱεροσολύμοις', 'ἀδὰμ', 'ἑβραίων', 'ἀβραὰμ', 'κωνσταντῖνος', 'ἀντιπάτρου', 'ἰουδαίαν', 'μωυσῆς', 'νῶε', 'ὑρκανὸν', 'κωνσταντίνου', 'ἀρχιερέως', 'φιλιππικῶν', 'ἀράβων', 'καίσαρα', 'ἀλώπηξ', 'ἀντιοχείας', 'βασιλείου', 'ἰωάννην', 'ἀρχιερέα', 'τίτος', 'ὑπέστρεψεν', 'χαλδαίων', 'βουλγάρων', 'ἀντίοχος', 'ἀλεξανδρείας', 'σίμων', 'δυναστεία', 'μωυσέως', 'ἰουδαίας', 'πατριάρχου', 'ἀντιόχου', 'ἐκπέμπει', 'πατρίκιος'], ['ἡρώδης', 'ἱεροσόλυμα', 'ἡρώδου', 'ἱεροσολύμων', 'ἐβασίλευσε', 'ἰουδαίους', 'ἰουδαῖοι', 'ἀγάπης', 'καῖσαρ', 'ἡρώδην', 'ἰουδαίαν', 'μέθοδος', 'μωυσῆς', 'ἰδεῶν', 'ἑβραίων', 'ἀδὰμ', 'ἰουδαίοις', 'θεολόγος', 'ἰσραὴλ', 'ἀρχιερέως', 'καίσαρα', 'ἰουδαίας', 'ἀσσυρίων', 'ἑρμηνεία', 'ἰούδα', 'ἀρχιερεὺς', 'ἀλώπηξ', 'δημοσθένους', 'καθαρότητος', 'ἱεροσολύμοις', 'ἀγάπην', 'λαμπρότητος', 'μωυσέως', 'ἐπίσκοπος', 'ὑρκανὸν', 'ἰσοκράτης', 'ἀντιοχείας', 'γαΐου', 'ἀβραὰμ', 'ἀφελείας', 'ἔννοιαι', 'ἰσραηλιτῶν', 'νῶε', 'ἀγρίππας', 'ἀπόκρισις', 'θεόπομπος', 'ἱππεῖς', 'κῶλον', 'προφήτου', 'ἑρμηνεύεται'], ['τᾶς', 'ἐβασίλευσε', 'ἡρώδης', 'ἰουδαίους', 'ἱεροσολύμων', 'ἡρακλείδης', 'λυσίας', 'μιχαὴλ', 'ἐπίσκοπος', 'ἡρώδου', 'κτησιφῶντος', 'καῖσαρ', 'ὑπερείδης', 'ἱεροσόλυμα', 'ἰουδαίοις', 'ἀδὰμ', 'κωνσταντίνου', 'ἀβραὰμ', 'ἰσραὴλ', 'ἡρώδην', 'μωυσῆς', 'ἰούδα', 'αἰσχίνης', 'ἰνδῶν', 'στησίμβροτος', 'ἐκπέμπει', 'ἰσαῖος', 'ἰωάννην', 'ἰσοκράτης', 'ἰουδαίαν', 'δείναρχος', 'χαλδαίων', 'ἐγέννησε', 'ἀρχὰν', 'ἀλώπηξ', 'ἀντιφῶν', 'ἀσσυρίων', 'γνήσιος', 'ξένε', 'ὑρκανὸν', 'νῶε', 'ἀπολλώνιον', 'ἀρχιερέως', 'ἱεροσολύμοις', 'κϛʹ', 'λυκοῦργος', 'βουλγάρων', 'ἀντιοχείας', 'τοὶ', 'κωνσταντῖνον'], ['λυσίας', 'θεόπομπος', 'ἡρώδου', 'ὑπερείδης', 'ἀλώπηξ', 'ἡρώδης', 'αἰσχίνης', 'ἰσαῖος', 'κτησιφῶντος', 'δείναρχος', 'ἐβασίλευσε', 'ἱεροσόλυμα', 'ἱεροσολύμων', 'γνήσιος', 'ἑρμηνεία', 'ἀντιφῶν', 'μιχαὴλ', 'φιλιππικῶν', 'ἰσοκράτης', 'ἐκπέμπει', 'φιλιππικοῖς', 'ἰουδαίους', 'ἰνδῶν', 'δημοσθένους', 'ἰουδαίοις', 'ἡρώδην', 'καῖσαρ', 'ἰουδαίαν', 'λυκοῦργος', 'ἀσσυρίων', 'ἰουδαῖοι', 'ἰωάννην', 'ἤρετο', 'ἀσκληπιὸς', 'ἑβραίων', 'ἀρχιερέως', 'ἐπίσκοπος', 'δείσας', 'μένανδρος', 'βάπτειν', 'ἰούδα', 'ἱεροσολύμοις', 'στάντες', 'ἐμπέσοι', 'ἐγγραφῆναι', 'ἀντίπατρος', 'ἀδὰμ', 'ἔγχει', 'θάσιον', 'πίω'], ['θεόπομπος', 'δυναστεία', 'ἐβασίλευσε', 'θηβαίων', 'ἐβασίλευσαν', 'φιλιππικῶν', 'εἰκοστὴ', 'ἡρόδωρος', 'κϛʹ', 'ἀδὰμ', 'ἡρώδης', 'δυναστειῶν', 'λυσίας', 'δυναστείας', 'ἀσσυρίων', 'ἑρμηνεία', 'ἀβραὰμ', 'ἰουδαίαν', 'ἡρώδου', 'μδʹ', 'κατακλυσμοῦ', 'ἱεροσόλυμα', 'ποιμένες', 'γενεῶν', 'κθʹ', 'μωυσῆς', 'ἰουδαίοις', 'ἱεροσολύμων', 'εὐσέβιος', 'καʹ', 'κβʹ', 'κατακλυσμὸν', 'ἡρακλείδης', 'ἰσοκράτης', 'ἰουδαίους', 'καῖσαρ', 'κζʹ', 'θεοπόμπου', 'λαʹ', 'ἀλώπηξ', 'δαρεῖος', 'ἡρώδην', 'λβʹ', 'κωνσταντῖνος', 'κγʹ', 'κτησιφῶντος', 'ἱεροσολύμοις', 'ἀγάπης', 'ἑρμηνεύεται', 'μιχαὴλ'], ['ἡρώδης', 'ἱεροσόλυμα', 'ἡρώδου', 'ἰουδαίους', 'ἐβασίλευσε', 'ἱεροσολύμων', 'ἰουδαῖοι', 'ἡρώδην', 'ἰουδαίαν', 'μιχαὴλ', 'ἱεροσολύμοις', 'μωυσῆς', 'ἀσσυρίων', 'ἰουδαίοις', 'ἀδὰμ', 'κωνσταντῖνος', 'ἑβραίων', 'ἐπίσκοπος', 'καίσαρα', 'ἰούδα', 'καῖσαρ', 'ἰώσηπον', 'ἰσραὴλ', 'ἐκπέμπει', 'ἀντιοχείας', 'ἰωσήπου', 'ἀντιόχου', 'κωνσταντίνου', 'ἰωάννην', 'ξένε', 'ἀράβων', 'τίτος', 'θηβαίων', 'δυναστεία', 'βουλγάρων', 'ἰσραηλιτῶν', 'ἀντιπάτρου', 'ἡρώδῃ', 'ἰώσηπος', 'ἀλώπηξ', 'ἀπολλώνιον', 'ἀρχιερέα', 'προφήτου', 'γάιος', 'συμεὼν', 'ἀντίοχος', 'ἀβραὰμ', 'κωνσταντῖνον', 'ἀριστοβούλου', 'ἤρετο'], ['ἡρώδης', 'ἰουδαίους', 'ἡρώδου', 'καῖσαρ', 'ἱεροσολύμων', 'ἱεροσόλυμα', 'ἡρόδωρος', 'ἑβραίων', 'ἰουδαίοις', 'ἡρώδην', 'ἐβασίλευσε', 'ἰουδαῖοι', 'μωυσῆς', 'θεόπομπος', 'ἰούδα', 'ἱεροσολύμοις', 'ἀσσυρίων', 'ἰουδαίαν', 'ἡρώδῃ', 'ἰσραηλιτῶν', 'γαΐου', 'ἐπίσκοπος', 'ἀρχιερέως', 'ἀντίοχος', 'ἰσραὴλ', 'μιχαὴλ', 'τίτος', 'καίσαρα', 'ἀντιοχείας', 'οὐεσπασιανὸς', 'ἀράβων', 'ἀντίπατρος', 'ἀδὰμ', 'ἀντιόχου', 'ἀντιπάτρου', 'ἰουδαίας', 'κωνσταντίνου', 'ἀριστοβούλου', 'καίσαρι', 'ἐκπέμπει', 'ἀγάπης', 'ἀρχιερεὺς', 'ξένε', 'φιλιππικῶν', 'νῶε', 'ἰνδῶν', 'ἰωάννην', 'πολιορκίαν', 'ἰούδας', 'σίμων'], ['ἐβασίλευσε', 'ἡρώδης', 'ἐπίσκοπος', 'ἰσραὴλ', 'ἀδὰμ', 'ἡρακλείδης', 'ἱεροσόλυμα', 'ἰουδαίους', 'ἰούδα', 'ἀσσυρίων', 'ἱεροσολύμων', 'ἰουδαίοις', 'ἡρώδου', 'μωυσῆς', 'ἀβραὰμ', 'ἰουδαῖοι', 'καῖσαρ', 'ἑβραίων', 'ἡρώδην', 'ἱερουσαλὴμ', 'κατακλυσμοῦ', 'ἰουδαίαν', 'ἀντιοχείας', 'νῶε', 'κωνσταντίνου', 'χαλδαίων', 'ἰωάννην', 'κωνσταντῖνος', 'ἰνδῶν', 'ἀγάπης', 'ἐγέννησε', 'μωυσέως', 'μιχαὴλ', 'αἰχμαλωσίας', 'ξένε', 'ἰακὼβ', 'συμεὼν', 'ἰουδαίας', 'ἀλεξανδρείας', 'ἀντιόχου', 'ἤρετο', 'ἐντολῶν', 'προφήτου', 'ἱερουσαλήμ', 'ἀντιπάτρου', 'ἀντίοχος', 'βασιλείου', 'ἰσραηλιτῶν', 'εὐσέβιος', 'ἰσραήλ'], ['τᾶς', 'ἐβασίλευσε', 'ἡρώδης', 'ἱεροσολύμων', 'θεόπομπος', 'ἱεροσόλυμα', 'ἰουδαίοις', 'ἰουδαίους', 'ἡρώδου', 'ἀκουσίλαος', 'τοὶ', 'ἡρώδην', 'καῖσαρ', 'ἰούδα', 'ἰουδαίαν', 'ἑβραίων', 'ἀδὰμ', 'μωυσῆς', 'μιχαὴλ', 'ἐπίσκοπος', 'ἰουδαῖοι', 'δυναστεία', 'κωνσταντῖνος', 'ἰσραὴλ', 'ἀγάπης', 'ἰωάννην', 'κωνσταντίνου', 'μωυσέως', 'ἱεροσολύμοις', 'ὑρκανὸν', 'ἀσσυρίων', 'μέθοδος', 'ἀρχὰν', 'θηβαίων', 'δείσας', 'λυσίας', 'ἀλώπηξ', 'ὑπερείδης', 'ἀβραὰμ', 'ἑβραίοις', 'χαλδαίων', 'ἐντολῶν', 'καίσαρα', 'ἀντιπάτρου', 'ἀντιοχείας', 'νῶε', 'ἀράβων', 'κωνσταντῖνον', 'ἰακὼβ', 'ἔννοιαι'], ['ἐβασίλευσε', 'ἡρώδου', 'λυσίας', 'ἰσραὴλ', 'ἡρώδης', 'ὑπερείδης', 'ἐπίσκοπος', 'ἱεροσόλυμα', 'ἰούδα', 'κτησιφῶντος', 'ἱεροσολύμων', 'μιχαὴλ', 'ἰσαῖος', 'ἀδὰμ', 'μωυσῆς', 'ἡρώδην', 'θεόπομπος', 'ἰουδαίοις', 'ξένε', 'ἀντιοχείας', 'ἀσσυρίων', 'κωνσταντῖνος', 'ἀβραὰμ', 'ἰουδαίαν', 'δείναρχος', 'ἀντιφῶν', 'ἀλώπηξ', 'ἰουδαῖοι', 'ἰσοκράτης', 'δημοσθένους', 'καῖσαρ', 'ἀντιόχου', 'ἀγάπης', 'ἀλεξανδρείας', 'ἱερουσαλὴμ', 'αἰσχίνης', 'κωνσταντίνου', 'μωυσέως', 'γνήσιος', 'νῶε', 'ἰνδῶν', 'ἀντιπάτρου', 'ἐγέννησε', 'ἑβραίων', 'ἰουδαίους', 'λυκοῦργος', 'ἀράβων', 'ἀρχιερέως', 'κωνσταντῖνον', 'ἐπισκόπων'], ['ἐβασίλευσε', 'ἡρώδης', 'ἱεροσολύμων', 'ἰουδαίους', 'ἀβραὰμ', 'δυναστεία', 'ἐπίσκοπος', 'ἡρώδου', 'ἡρώδην', 'ἰουδαίαν', 'ἰσραὴλ', 'ἀσσυρίων', 'ἀλώπηξ', 'θηβαίων', 'ἱεροσόλυμα', 'ἰουδαῖοι', 'καῖσαρ', 'ἑβραίων', 'ἰουδαίοις', 'ἀδὰμ', 'μωυσῆς', 'θεόπομπος', 'ἰούδα', 'λυσίας', 'ἱεροσολύμοις', 'ἰακὼβ', 'κατακλυσμοῦ', 'ὑπερείδης', 'μιχαὴλ', 'ἀντιοχείας', 'ξένε', 'ἐβασίλευσαν', 'ἀλεξανδρείας', 'ἑρμηνεία', 'ἀρχιερεὺς', 'κωνσταντῖνος', 'κϛʹ', 'αἰχμαλωσίας', 'ἀντίοχος', 'χαλδαίων', 'νῶε', 'ἱερουσαλὴμ', 'πατριάρχου', 'καʹ', 'οἶσθ', 'κωνσταντίνου', 'κτησιφῶντος', 'ὑπολαβὼν', 'ἀγάπης', 'ὄψον'], ['ἐβασίλευσε', 'ἱεροσολύμων', 'ἡρώδης', 'ἡρώδου', 'ἱεροσόλυμα', 'ἰούδα', 'ἐπίσκοπος', 'λυσίας', 'καῖσαρ', 'θεόπομπος', 'ἀδὰμ', 'ἰουδαίους', 'ἡρακλείδης', 'ἰουδαίοις', 'ἰσραὴλ', 'ἐντολῶν', 'μιχαὴλ', 'ἰουδαίαν', 'ῥητορικὴ', 'ἀσσυρίων', 'ὑπερείδης', 'ἀλώπηξ', 'ἱεροσολύμοις', 'ἑβραίων', 'κωνσταντίνου', 'μέθοδος', 'δημοσθένους', 'ἰδεῶν', 'ἡρώδην', 'ῥητορική', 'ἀβραὰμ', 'ἰσαῖος', 'ἰνδῶν', 'ἰουδαῖοι', 'βασίλειος', 'κτησιφῶντος', 'κωνσταντῖνος', 'γαΐου', 'ἡρώδῃ', 'ἀντιοχείας', 'ἀγάπης', 'μωυσῆς', 'ἰουδαίας', 'αἰσχίνης', 'ἀρχιερέως', 'ἱερουσαλὴμ', 'ἤρετο', 'νῶε', 'ἀλεξανδρείας', 'ἀντίοχος'], ['ἡρώδης', 'ἱεροσολύμων', 'ἰουδαίους', 'ἱεροσόλυμα', 'ἡρακλείδης', 'ἡρώδου', 'ἰουδαίοις', 'ἡρώδην', 'ἐβασίλευσε', 'ἱεροσολύμοις', 'μωυσῆς', 'ἰουδαίαν', 'ἰούδα', 'ξένε', 'ποντικὸς', 'μιχαὴλ', 'ἑβραίων', 'ἡρώδῃ', 'κωνσταντίνου', 'ἰσραὴλ', 'καῖσαρ', 'ἀδὰμ', 'ἰουδαῖοι', 'κωνσταντῖνος', 'ἀσσυρίων', 'ὑρκανὸν', 'ἀντιοχείας', 'ἰσραηλιτῶν', 'λυσίας', 'γαΐου', 'ἰσαῖος', 'ἐπίσκοπος', 'καίσαρα', 'ἀρχιερέως', 'αἰσχίνης', 'ἀντίπατρος', 'παρμενίδου', 'ἰώσηπος', 'ἀντίοχος', 'ἱεροσολυμιτῶν', 'σίμων', 'ἀλώπηξ', 'ἀράβων', 'ἀρχιερέα', 'ἀγάπης', 'πολιορκίας', 'ἰουδαίας', 'ἐκπέμπει', 'ἀριστοβούλου', 'αὐτοκράτωρ'], ['θεόπομπος', 'ἡρώδης', 'ἰσραὴλ', 'ἐβασίλευσε', 'ἡρώδου', 'ἰούδα', 'ἐπίσκοπος', 'ἱεροσολύμων', 'μωυσῆς', 'μιχαὴλ', 'ἀσσυρίων', 'ἀδὰμ', 'ἰουδαίοις', 'ἀντιοχείας', 'ἱεροσόλυμα', 'ἑβραίων', 'ἰουδαίους', 'κωνσταντίνου', 'ξένε', 'ἀβραὰμ', 'ἑρμηνεία', 'ἰουδαίαν', 'ἐγέννησε', 'ἀλώπηξ', 'νῶε', 'κωνσταντῖνος', 'ἱερουσαλὴμ', 'καῖσαρ', 'ἰνδῶν', 'ἡρώδην', 'μωυσέως', 'ἰακὼβ', 'ἀλεξανδρείας', 'ἐκπέμπει', 'λυσίας', 'ὑπερείδης', 'ἀντιπάτρου', 'ἀρχιερεὺς', 'ἰουδαῖοι', 'ἰουδαίας', 'ἀντίοχος', 'φιλιππικῶν', 'ἀγάπης', 'δημοσθένους', 'κωνσταντῖνον', 'ἐντολῶν', 'ἰδεῶν', 'ἱερουσαλήμ', 'αἰσχίνης', 'ἰσοκράτης'], ['ἱεροσολύμων', 'ἡρώδης', 'ἱεροσόλυμα', 'μιχαὴλ', 'κωνσταντίνου', 'καῖσαρ', 'ἰουδαίους', 'ἡρώδην', 'ἰουδαῖοι', 'ἡρώδου', 'ἰουδαίαν', 'ἰουδαίοις', 'ἐβασίλευσε', 'μωυσῆς', 'ἑρμηνεία', 'ἑβραίων', 'ἀλώπηξ', 'κωνσταντῖνος', 'ἰσραὴλ', 'πρε', 'ἱεροσολύμοις', 'ἀντιπάτρου', 'ἰσραηλιτῶν', 'ἀγάπης', 'ἐκπέμπει', 'ἀσσυρίων', 'πατρίκιος', 'ἰούδα', 'ἡρώδῃ', 'ὑρκανὸν', 'ἰουδαίας', 'ἀντιοχείας', 'βασίλειος', 'βουλγάρων', 'καίσαρα', 'πολιορκίαν', 'κωνσταντῖνον', 'ἀγρίππας', 'ἀρχιερέως', 'δείσας', 'ἰώσηπον', 'ἤρετο', 'ἰωάννην', 'ἀδὰμ', 'ἑβραίοις', 'ἀρχιερεὺς', 'ἐπίσκοπος', 'ἀράβων', 'χαλδαίων', 'βασιλείου'], ['θεόπομπος', 'ἡρόδωρος', 'φιλιππικῶν', 'ἡρώδης', 'ἡρώδου', 'ἐβασίλευσε', 'μιχαὴλ', 'στησίμβροτος', 'καῖσαρ', 'ἱεροσόλυμα', 'ἀγάπης', 'ἀδὰμ', 'ἑβραίων', 'ἱεροσολύμοις', 'ἰουδαίοις', 'κωνσταντίνου', 'ἰουδαίους', 'ἐκπέμπει', 'ἡρώδην', 'ἰσραὴλ', 'ἱεροσολύμων', 'ἐντολῶν', 'ἰουδαῖοι', 'ἀσσυρίων', 'ἰουδαίαν', 'ἰούδα', 'ὑπερείδης', 'κωνσταντῖνος', 'μωυσῆς', 'λυσίας', 'κτησιφῶντος', 'ἐπίσκοπος', 'ἀλώπηξ', 'ἰνδῶν', 'κωνσταντῖνον', 'ἰσραηλιτῶν', 'ἰωάννην', 'ξένε', 'ἀλεξανδρείας', 'σάμον', 'ἰνδικτιῶνος', 'νῶε', 'ἀρχιερέως', 'ἑρμηνεία', 'ἀντιόχου', 'ἀλεξάνδρειαν', 'αἰσχίνης', 'καίσαρα', 'ἰσαῖος', 'ἑρμηνεύεται'], ['ἡρώδης', 'ἡρώδου', 'ἐβασίλευσε', 'ἱεροσόλυμα', 'ἡρώδην', 'ἰουδαίους', 'κτησιφῶντος', 'καῖσαρ', 'ἱεροσολύμων', 'ἰσραὴλ', 'ἰουδαῖοι', 'ἐπίσκοπος', 'ἰουδαίοις', 'ἰσαῖος', 'ἀδὰμ', 'μωυσῆς', 'ὑπερείδης', 'μιχαὴλ', 'ἀσσυρίων', 'λυσίας', 'τᾶς', 'ἰουδαίαν', 'ἰούδα', 'γνήσιος', 'ἀντιόχου', 'νῶε', 'ἰσραηλιτῶν', 'ἀβραὰμ', 'κωνσταντίνου', 'αἰσχίνης', 'ἱεροσολύμοις', 'ἰωάννην', 'ἡρώδῃ', 'κωνσταντῖνος', 'ἀντιφῶν', 'χαλδαίων', 'ἰδεῶν', 'ἑβραίων', 'ἀντιοχείας', 'ἀρχιερέως', 'ἀλεξανδρείας', 'ἰώσηπος', 'προφήτου', 'συγκλήτου', 'ἐκπέμπει', 'λυκοῦργος', 'τίτος', 'ἱερουσαλὴμ', 'ὑρκανὸν', 'ἐντολῶν'], ['θεόπομπος', 'ἐβασίλευσε', 'ἡρώδης', 'ἰουδαίους', 'ἡρώδου', 'μιχαὴλ', 'ἰσραὴλ', 'ἱεροσόλυμα', 'καῖσαρ', 'ἐπίσκοπος', 'ἱεροσολύμων', 'ἡρώδην', 'ἰούδα', 'ἀλώπηξ', 'φιλιππικῶν', 'ἰουδαίαν', 'ἰουδαίοις', 'ἀδὰμ', 'κωνσταντῖνος', 'ἀσσυρίων', 'ἀντιπάτρου', 'ἀγάπης', 'ἰνδῶν', 'ἰουδαῖοι', 'μωυσῆς', 'ἰνδικτιῶνος', 'ἐκπέμπει', 'ἀντιοχείας', 'κωνσταντῖνον', 'ἱερουσαλὴμ', 'κωνσταντίνου', 'μιλησίοις', 'ἱεροσολύμοις', 'νάξιοι', 'ἐγέννησε', 'βασιλείου', 'ἀβραὰμ', 'ἑβραίων', 'πελοπόννησον', 'ἰωάννην', 'ἑρμηνεύεται', 'ξένε', 'νῶε', 'ἱερουσαλήμ', 'ἀρχιερέως', 'ἰσραηλιτῶν', 'ἐκέλευε', 'ἐντολῶν', 'ἑρμηνεία', 'συμεὼν'], ['ἐβασίλευσε', 'πρε', 'ἰουδαίους', 'ἡρακλείδης', 'ἡρώδης', 'ἱεροσολύμων', 'ἐπίσκοπος', 'ἰουδαίαν', 'ἰούδα', 'ἀδὰμ', 'ἰσραὴλ', 'θεόπομπος', 'ἰουδαίοις', 'καῖσαρ', 'ἡρώδου', 'ἱεροσόλυμα', 'ἡρώδην', 'ἰουδαῖοι', 'ἀβραὰμ', 'τρι', 'ἱερουσαλὴμ', 'ἀσσυρίων', 'νῶε', 'ἰωάννην', 'παναγίας', 'ἀντιόχου', 'ἐφραίμ', 'χαλδαίων', 'ποντικὸς', 'ὁσίου', 'ἐγέννησε', 'κατακλυσμοῦ', 'δυναστεία', 'ξένε', 'σαρκώσεως', 'σύρου', 'ἡρώδῃ', 'ἑβραίων', 'ἰδεῶν', 'ἀπολλώνιον', 'ἱεροσολύμοις', 'κωνσταντίνου', 'κϛʹ', 'ξὺν', 'αἰχμαλωσίας', 'ἰωσὴφ', 'συγκλήτου', 'ἰουδαίας', 'ἀρχιερεὺς', 'ἰνδῶν'], ['ἐβασίλευσε', 'ἡρώδης', 'ἱεροσολύμων', 'ἑβραίων', 'ἡρώδου', 'ἱεροσόλυμα', 'ἰουδαίους', 'ἰουδαίοις', 'καῖσαρ', 'ἡρώδην', 'μωυσῆς', 'ἰσραὴλ', 'ἀρχιερέως', 'ἀντιπάτρου', 'ἱεροσολύμοις', 'κόσμους', 'θεόπομπος', 'ἀντίπατρος', 'καίσαρα', 'μιχαὴλ', 'ἀβραὰμ', 'ἀντίοχος', 'ἐπίσκοπος', 'ἰούδα', 'ἰωάννην', 'ἐκπέμπει', 'ἀντιοχείας', 'ἀντιόχου', 'ἀράβων', 'ἀδὰμ', 'ἡρώδῃ', 'βασιλείου', 'ἰουδαίας', 'ἰσραηλιτῶν', 'κωνσταντίνου', 'ἀρχιερεὺς', 'ἰουδαῖοι', 'πολιορκίαν', 'κωνσταντῖνος', 'δείσας', 'ἀγάπης', 'ἀσσυρίων', 'ὑρκανὸν', 'ἰώσηπον', 'ἰουδαίαν', 'ἑρμηνεία', 'ἀντίπατρον', 'ἀλώπηξ', 'σίμων', 'ἡρακλείδης'], ['ἐβασίλευσε', 'θεόπομπος', 'ἡρώδης', 'ἰούδα', 'ἰουδαίους', 'ἱεροσολύμων', 'μιχαὴλ', 'ἡρώδου', 'ἡρακλείδης', 'ἰσραὴλ', 'ἱεροσόλυμα', 'ἐπίσκοπος', 'ἑβραίων', 'ἱερουσαλὴμ', 'ἀδὰμ', 'ἀσσυρίων', 'καῖσαρ', 'ἀγάπης', 'ἰουδαίοις', 'ἀντιοχείας', 'ἰουδαῖοι', 'μωυσῆς', 'κωνσταντῖνος', 'ἡρώδην', 'λυσίας', 'κωνσταντίνου', 'ἀβραὰμ', 'ἰουδαίαν', 'ἰνδικτιῶνος', 'ὑπερείδης', 'μωυσέως', 'ἐγέννησε', 'νῶε', 'ἀράβων', 'ἰωσὴφ', 'δυναστεία', 'κωνσταντῖνον', 'κτησιφῶντος', 'ἱεροσολύμοις', 'ἀλεξανδρείας', 'χαλδαίων', 'ἡρώδῃ', 'βουλγάρων', 'ἰακὼβ', 'ἑρμηνεύεται', 'θηβαίων', 'πατριάρχου', 'ἀντίοχος', 'κατακλυσμοῦ', 'εὐσέβιος'], ['ἡρώδης', 'ἰουδαίους', 'ἐβασίλευσε', 'ἱεροσολύμων', 'ἱεροσόλυμα', 'ἰουδαῖοι', 'ἰουδαίοις', 'ἡρώδου', 'μιχαὴλ', 'ἡρώδην', 'ἰούδα', 'μωυσῆς', 'ἐπίσκοπος', 'θεόπομπος', 'ἰουδαίαν', 'ἰσραὴλ', 'κωνσταντίνου', 'ἀδὰμ', 'ἱεροσολύμοις', 'ἀσσυρίων', 'ἰωάννην', 'καῖσαρ', 'κωνσταντῖνος', 'ἑβραίων', 'ἀντιοχείας', 'καίσαρα', 'μωυσέως', 'ἡρακλείδης', 'ἀγάπης', 'ἰουδαίας', 'ἀβραὰμ', 'νῶε', 'σίμων', 'ἀντιόχου', 'ἱερουσαλὴμ', 'ἀράβων', 'συγκλήτου', 'ἐγέννησε', 'αὐτοκράτωρ', 'αἰσχίνης', 'συμεὼν', 'λυσίας', 'ἰνδῶν', 'ἰσραηλιτῶν', 'ἀρχιερέως', 'ἀντιφῶν', 'κτησιφῶντος', 'ἐκπέμπει', 'κωνσταντῖνον', 'πατριάρχης'], ['ἡρώδης', 'ἰουδαίους', 'ἐβασίλευσε', 'ἱεροσόλυμα', 'ἰουδαῖοι', 'καῖσαρ', 'ἰουδαίοις', 'ἡρώδου', 'ἐπίσκοπος', 'ἱεροσολύμων', 'ἀδὰμ', 'μωυσῆς', 'ἱεροσολύμοις', 'ἰούδα', 'ἀσσυρίων', 'ἑβραίων', 'ἰουδαίαν', 'μιχαὴλ', 'ἰσραὴλ', 'ἀλώπηξ', 'ἰουδαίας', 'ἡρώδην', 'ἀλεξανδρείας', 'ἀρχιερέα', 'τίτος', 'ἀγρίππας', 'ἀντιοχείας', 'ἀγάπης', 'ἰώσηπον', 'κωνσταντίνου', 'ὑρκανὸν', 'πολιορκίαν', 'ἀριστοβούλου', 'ἰωάννην', 'καίσαρα', 'ἀβραὰμ', 'ἀντιπάτρου', 'ἀντιόχου', 'ἀντίπατρος', 'ἰσραηλιτῶν', 'ἐκπέμπει', 'ξένε', 'ἀντίοχος', 'προφήτου', 'ὑρκανοῦ', 'ἀρχιερέως', 'ἱππεῖς', 'κωνσταντῖνος', 'μέθοδος', 'ἡρώδῃ'], ['ἡρώδης', 'ἑρμηνεία', 'θεόπομπος', 'δυναστεία', 'μιχαὴλ', 'κωνσταντῖνος', 'ἐβασίλευσε', 'ἀλώπηξ', 'κωνσταντίνου', 'ἡρώδου', 'ἱεροσολύμων', 'ἰουδαίαν', 'στησίμβροτος', 'ἱεροσόλυμα', 'ἰουδαίοις', 'ἰουδαίους', 'ἀγάπης', 'καῖσαρ', 'ἰωάννην', 'ἀδὰμ', 'θηβαίων', 'ἐπίσκοπος', 'ἱεροσολύμοις', 'ἑβραίων', 'ἄρατος', 'ἡρώδην', 'ἐντολῶν', 'ἤρετο', 'ἀντιοχείας', 'βασιλείου', 'ξένε', 'ἀρχιερέα', 'ἀσσυρίων', 'ἰσραὴλ', 'μωυσῆς', 'λυσίας', 'ἐβασίλευσαν', 'ἐκπέμπει', 'νοημάτων', 'βουλγάρων', 'κωνσταντῖνον', 'αἰσχίνης', 'ἰνδῶν', 'ἐπίσκοπον', 'ὑπολαβὼν', 'ἀντίοχος', 'ἰδεῶν', 'ἀλεξανδρείας', 'φήσαντος', 'βασιλεύει'], ['ἐβασίλευσε', 'ἡρώδης', 'ἡρώδου', 'ἐπίσκοπος', 'ἀδὰμ', 'ἰουδαίους', 'ἱεροσόλυμα', 'δυναστεία', 'ἰουδαῖοι', 'μωυσῆς', 'ἰουδαίοις', 'ἰσραὴλ', 'ἰουδαίαν', 'ἱεροσολύμοις', 'ἀγάπης', 'καῖσαρ', 'ἡρώδην', 'ἰούδα', 'ἱερουσαλὴμ', 'ἱεροσολύμων', 'ἀσσυρίων', 'καίσαρα', 'ἀβραὰμ', 'ἀρχιερέα', 'ἰουδαίας', 'ἰσραηλιτῶν', 'ἀράβων', 'ἰησοῦν', 'μιχαὴλ', 'κωνσταντῖνος', 'ξένε', 'ἐγέννησε', 'κωνσταντίνου', 'χαλδαίων', 'προφήτου', 'ἰωάννην', 'ἑβραίων', 'ἀντιοχείας', 'ἀντιπάτρου', 'θηβαίων', 'εὐσέβιος', 'ἰσραήλ', 'ἰακὼβ', 'ἡρώδῃ', 'μωυσέως', 'ἑρμηνεύεται', 'ἀρχιερεὺς', 'αἰχμαλωσίας', 'ἀντίοχος', 'ἰωσὴφ'], ['πρε', 'ἡρώδης', 'φανόδημος', 'ἡρώδου', 'τρι', 'ἰουδαίους', 'ἐβασίλευσε', 'κτησιφῶντος', 'αἰσχίνης', 'σύρου', 'ἱεροσολύμων', 'παναγίας', 'λυσίας', 'ἰσαῖος', 'ἰούδα', 'ἱεροσόλυμα', 'ἰουδαίοις', 'μωυσῆς', 'ἱεροσολύμοις', 'μιχαὴλ', 'κωνσταντίνου', 'ἑρμηνεία', 'ἡρώδην', 'δείναρχος', 'ὁσίου', 'ἰσραὴλ', 'γνήσιος', 'ἑβραίων', 'ἀλώπηξ', 'ὑπερείδης', 'κωνσταντῖνος', 'λυκοῦργος', 'καῖσαρ', 'ἰνδῶν', 'ἰδεῶν', 'ἀσσυρίων', 'ἐφραίμ', 'θεόπομπος', 'ἀδὰμ', 'δημοσθένους', 'ἰουδαῖοι', 'ξένε', 'μέθοδος', 'ἐπίσκοπος', 'ἀντιοχείας', 'ἀντιόχου', 'ἀγάπης', 'ἀβραὰμ', 'ἰωάννην', 'ἀράβων']]\n",
      "\n",
      "Can you spot the misplaced word in each topic?\n",
      "0: θεόπομπος φιλιππικῶν γαΐου ἡρώδης θεοφάνης μιχαὴλ ἰωάννην ἡρώδην ἱεροσολύμων κωνσταντίνου\n",
      "1: ἡρώδης ἐβασίλευσε ἡρώδου μιχαὴλ ἰουδαίους ἀλώπηξ ἰουδαίαν ἱεροσολύμων ἔγχει ἱεροσόλυμα\n",
      "2: ἡρώδης θεόπομπος ἡρώδου πατρίκιος ἰουδαίους ἱεροσόλυμα ἱεροσολύμων καῖσαρ ἰουδαίαν ἰουδαίοις\n",
      "3: θεόπομπος αἰχμαλωσίας ἡρώδης ἐβασίλευσε ἡρακλείδης ἡρώδου ἰουδαίοις ἱεροσολύμων ἰουδαίους ἱεροσόλυμα\n",
      "4: πρε τρι παναγίας ἐφραίμ ὁσίου σύρου ἡρώδης ἡρώδου βάπτειν ἰουδαίους\n",
      "5: ἐβασίλευσε θεόπομπος τίτος ἡρόδωρος ἱεροσολύμων ἱεροσόλυμα ἡρώδου ἰσραὴλ ἰουδαίους μωυσῆς\n",
      "6: ἡρώδης ἱεροσόλυμα λυσίας ἡρώδην ἰουδαίους μιχαὴλ ἱεροσολύμων ἐβασίλευσε θεόπομπος διο\n",
      "7: ἡρώδης ἱεροσόλυμα ἐβασίλευσε ὄψον ἡρώδου θεόπομπος ἱεροσολύμων ἰούδα ἰουδαίοις ἡρώδην\n",
      "8: πρε ἐφραίμ παναγίας σύρου τρι ἡρώδης μιχαὴλ ἰσραὴλ ἡρώδου ἱεροσολύμων\n",
      "9: ἡρώδης ἡρώδου ὑπερείδης θεοφάνης ἰουδαίους ἡρώδην ἑβραίων μιχαὴλ ἰούδα καῖσαρ\n",
      "10: ἔννοιαι πρε ἡρώδης φιλιππικῶν ἰουδαίους ἐβασίλευσε ἡρώδου ἱεροσολύμων κωνσταντῖνος λυσίας\n",
      "11: πρε τίτος ἡρώδου ἰουδαίους ἡρώδης ἱεροσόλυμα ξένε ἡρώδην μιχαὴλ τρι\n",
      "12: πρε ἐβασίλευσε ἀλώπηξ ἡρώδης ἰσραὴλ ἡρώδου μιχαὴλ παρέσται λυσίας ὑπομνήματα\n",
      "13: θεόπομπος ἡρώδης ἡρώδου ἰουδαίοις ἐβασίλευσε ἰουδαίους πίω ἱεροσόλυμα ἀσσυρίων ἡρώδην\n",
      "14: ἑβραίοις ἱεροσόλυμα ἐβασίλευσε ἰουδαίους ἡρώδου ἑβραίων μιχαὴλ ἰουδαίαν πρε ἰουδαίοις\n",
      "15: ἡρώδης ἡρώδου ἱεροσολύμων καῖσαρ ἰουδαίους μωυσῆς ἰουδαίοις ἐβασίλευσε μιχαὴλ σάμον\n",
      "16: ἡρώδης ἡρώδου ἐβασίλευσε ἰουδαίους ἱεροσολύμων ἱεροσόλυμα ἰούδα μωυσῆς ἑβραίων κύματ\n",
      "17: θεόπομπος ἐβασίλευσε ἡρώδης ἡρώδου ἱεροσολύμων ποιησάντων ἰούδα ἱεροσόλυμα δυναστεία ἰσραὴλ\n",
      "18: θεόπομπος ἐβασίλευσε ἀλώπηξ ἑρμηνεία ἀδὰμ δυναστεία ζητήσεις ἰούδα δαρεῖος ἡρώδης\n",
      "19: θεόπομπος φιλιππικῶν ἐβασίλευσε ἑρμηνεύεται ἡρώδης ἰσραὴλ κωνσταντίνου ἰουδαίους ἱεροσολύμων ἀδὰμ\n",
      "20: ἐβασίλευσε ἡρώδης θεόπομπος μιχαὴλ κωνσταντῖνος ἱεροσόλυμα ἱεροσολύμων καῖσαρ κωνσταντίνου ἐπίσκοπον\n",
      "21: ἐβασίλευσε ἡρώδης ἰσραὴλ ἱεροσόλυμα ἰουδαίους μιχαὴλ ἡρακλείδης ἱεροσολύμων ἡρώδου νοημάτων\n",
      "22: πρε σύρου ὁσίου ἀντιπάτρου παναγίας τρι κον ἰδεῶν ἐβασίλευσε στάσεων\n",
      "23: ἡρακλείδης μιχαὴλ βάπτειν ἡρώδης ἡρώδου κωνσταντίνου κωνσταντῖνος ἐβασίλευσε ἀλώπηξ ἱεροσολύμων\n",
      "24: ἱεροσολύμων ἐβασίλευσε ἐπίσκοπος ἰσραὴλ ἡρώδης ὄψον ἰούδα ἱεροσόλυμα ἀλεξανδρείας ἰουδαίοις\n",
      "25: πρε σύρου τρι ὁσίου παναγίας ἐφραίμ μάγειρον ἰουδαίους ἡρώδου ἰουδαίοις\n",
      "26: ἡρώδης δραχμὴν ἰσραὴλ ἰουδαίους ἀλώπηξ ἱεροσόλυμα ἡρώδου ἱεροσολύμων ἀδὰμ μιχαὴλ\n",
      "27: δυναστεία ἡρώδης ἱεροσόλυμα ἡρώδου ἰουδαίους φιλιππικῶν ἰουδαῖοι ἰουδαίοις ἡρώδην ἀνθύπατος\n",
      "28: ἡρώδης ἱεροσόλυμα ἡρώδου καῖσαρ ἱεροσολύμων ἐβασίλευσε ἀράβων ἰουδαίους ἰουδαίαν ἡρώδην\n",
      "29: λβʹ ἡρώδου ἱεροσόλυμα λυσίας ἱεροσολύμων ἔφεσον κλειτοφῶν ἐβασίλευσε μωυσῆς μιχαὴλ\n",
      "30: θεόπομπος ἡρόδωρος φιλιππικῶν ἡρώδης ἰουδαίους κωνσταντίνου ἡρώδου δείναρχος καῖσαρ ἐβασίλευσε\n",
      "31: ἡρώδης ἰουδαίους ἡρώδου ἐβασίλευσε ἱεροσόλυμα ἱεροσολύμων ἰουδαίοις καῖσαρ προσῳδιῶν μωυσῆς\n",
      "32: θεόπομπος ἐβασίλευσε ἰουδαίους μιχαὴλ λυσίας ἐπίσκοπος ἡρώδης σύρου κτησιφῶντος ἀδὰμ\n",
      "33: πρε ἡρώδης ἱεροσόλυμα ἰουδαίους καῖσαρ ἐφραίμ μιχαὴλ ῥητορική τρι ξένε\n",
      "34: θεόπομπος ἡρώδης ἡρώδου ἀγρίππας ἰσραὴλ ἰουδαίους ἱεροσόλυμα ἐπίσκοπος μιχαὴλ ἰουδαίοις\n",
      "35: ἡρώδης ἱεροσόλυμα ἡρώδου ἱεροσολύμων ἐβασίλευσε ἰουδαίους ἰουδαῖοι ἀγάπης πολύκαρπος ἡρώδην\n",
      "36: τᾶς ἐβασίλευσε ἡρώδης ἰουδαίους ἱεροσολύμων ἡρακλείδης λυσίας μιχαὴλ ἐπίσκοπος ἰωσὴφ\n",
      "37: λυσίας θεόπομπος ἡρώδου ὑπερείδης ἀλώπηξ ἄνδρων αἰσχίνης ἰσαῖος κτησιφῶντος δείναρχος\n",
      "38: ἄρατος δυναστεία ἐβασίλευσε θηβαίων ἐβασίλευσαν φιλιππικῶν εἰκοστὴ ἡρόδωρος κϛʹ ἀδὰμ\n",
      "39: ἡρώδης ἱεροσόλυμα ἡρώδου οὐεσπασιανὸς ἐβασίλευσε ἱεροσολύμων ἰουδαῖοι ἡρώδην ἰουδαίαν μιχαὴλ\n",
      "40: ἡρώδης ἰουδαίους ἡρώδου καῖσαρ ἱεροσολύμων ἱεροσόλυμα ἡρόδωρος ἑβραίων πελοπόννησον ἡρώδην\n",
      "41: ἐβασίλευσε ἡρώδης ἐπίσκοπος ἰσραὴλ ἀδὰμ ἡρακλείδης ἱεροσόλυμα ἰουδαίους ἰούδα ὑπολαβὼν\n",
      "42: τᾶς ἐβασίλευσε ἡρώδης ἱεροσολύμων θεόπομπος ἀγάπην ἰουδαίοις ἰουδαίους ἡρώδου ἀκουσίλαος\n",
      "43: ἐβασίλευσε ἡρώδου λυσίας ἰσραὴλ ἡρώδης ῥητορικὴ ἐπίσκοπος ἱεροσόλυμα ἰούδα κτησιφῶντος\n",
      "44: ἐβασίλευσε ἡρώδης ἱεροσολύμων ἰουδαίους ἀντίπατρον δυναστεία ἐπίσκοπος ἡρώδου ἡρώδην ἰουδαίαν\n",
      "45: ἐβασίλευσε ἱεροσολύμων ἡρώδης ἡρώδου ἱεροσόλυμα ἰούδα ἐπίσκοπος ἄνδρων καῖσαρ θεόπομπος\n",
      "46: ἡρώδης ἱεροσολύμων ἐπίσκοπον ἱεροσόλυμα ἡρακλείδης ἡρώδου ἰουδαίοις ἡρώδην ἐβασίλευσε ἱεροσολύμοις\n",
      "47: θεόπομπος ἡρώδης ἰσραὴλ ὑπομνήματα ἡρώδου ἰούδα ἐπίσκοπος ἱεροσολύμων μωυσῆς μιχαὴλ\n",
      "48: ἱεροσολύμων ἡρώδης ἱεροσόλυμα μιχαὴλ κωνσταντίνου καῖσαρ τοὶ ἡρώδην ἰουδαῖοι ἡρώδου\n",
      "49: θεόπομπος ἡρόδωρος φιλιππικῶν ἡρώδης ἡρώδου ζῶσα μιχαὴλ στησίμβροτος καῖσαρ ἱεροσόλυμα\n",
      "50: ἡρώδης κωνσταντῖνον ἐβασίλευσε ἱεροσόλυμα ἡρώδην ἰουδαίους κτησιφῶντος καῖσαρ ἱεροσολύμων ἰσραὴλ\n",
      "51: θεόπομπος ἐβασίλευσε ἡρώδης ἰουδαίους θησέα μιχαὴλ ἰσραὴλ ἱεροσόλυμα καῖσαρ ἐπίσκοπος\n",
      "52: ἐβασίλευσε πρε ἰουδαίους στησίμβροτος ἡρώδης ἱεροσολύμων ἐπίσκοπος ἰουδαίαν ἰούδα ἀδὰμ\n",
      "53: ἐβασίλευσε ἡρώδης ἱεροσολύμων ἑβραίων ἡρώδου στελέχους ἰουδαίους ἰουδαίοις καῖσαρ ἡρώδην\n",
      "54: ἐβασίλευσε θεόπομπος ἡρώδης πρε ἰουδαίους ἱεροσολύμων μιχαὴλ ἡρώδου ἡρακλείδης ἰσραὴλ\n",
      "55: ἡρώδης ἰουδαίους ἐβασίλευσε ἱεροσολύμων ἱεροσόλυμα ἰουδαῖοι ἰσραήλ ἡρώδου μιχαὴλ ἡρώδην\n",
      "56: ἡρώδης ἰουδαίους ἐβασίλευσε ἱεροσόλυμα ἰουδαῖοι καῖσαρ ἰουδαίοις ἡρώδου ὄψον ἱεροσολύμων\n",
      "57: ἡρώδης ἑρμηνεία μέθοδον δυναστεία μιχαὴλ κωνσταντῖνος ἐβασίλευσε ἀλώπηξ κωνσταντίνου ἡρώδου\n",
      "58: ἐβασίλευσε ἡρώδης ἡρώδου παρέσται ἀδὰμ ἰουδαίους ἱεροσόλυμα δυναστεία ἰουδαῖοι μωυσῆς\n",
      "59: πρε ἡρώδης φανόδημος ἡρώδου τρι ἰουδαίους ἐβασίλευσε κτησιφῶντος εὐσέβιος σύρου\n",
      "Actual replacements were:\n",
      "[(0, ('ἡρώδου', 'γαΐου')), (1, ('ἰουδαίοις', 'ἔγχει')), (2, ('ἐβασίλευσε', 'πατρίκιος')), (3, ('φιλιππικῶν', 'αἰχμαλωσίας')), (4, ('ἱεροσολύμων', 'βάπτειν')), (5, ('ἡρώδης', 'τίτος')), (6, ('μωυσῆς', 'διο')), (7, ('ἰουδαίους', 'ὄψον')), (8, ('ὁσίου', 'ἰσραὴλ')), (9, ('ἐβασίλευσε', 'θεοφάνης')), (10, ('θεόπομπος', 'ἔννοιαι')), (11, ('ἐβασίλευσε', 'τίτος')), (12, ('ἐπίσκοπος', 'ὑπομνήματα')), (13, ('ἱεροσολύμων', 'πίω')), (14, ('ἡρώδης', 'ἑβραίοις')), (15, ('ἡρώδην', 'σάμον')), (16, ('καῖσαρ', 'κύματ')), (17, ('ἰουδαίοις', 'ποιησάντων')), (18, ('ἀσσυρίων', 'δαρεῖος')), (19, ('μιχαὴλ', 'ἑρμηνεύεται')), (20, ('ἰουδαίους', 'ἐπίσκοπον')), (21, ('μωυσῆς', 'νοημάτων')), (22, ('ἐφραίμ', 'ἀντιπάτρου')), (23, ('θεόπομπος', 'βάπτειν')), (24, ('ἡρώδου', 'ὄψον')), (25, ('ἡρώδης', 'μάγειρον')), (26, ('ἐβασίλευσε', 'δραχμὴν')), (27, ('θεόπομπος', 'δυναστεία')), (28, ('ἀδὰμ', 'ἀράβων')), (29, ('ἡρώδης', 'λβʹ')), (30, ('ἱεροσόλυμα', 'δείναρχος')), (31, ('μιχαὴλ', 'προσῳδιῶν')), (32, ('ἀλώπηξ', 'σύρου')), (33, ('ἰουδαίαν', 'ῥητορική')), (34, ('ἐβασίλευσε', 'ἀγρίππας')), (35, ('καῖσαρ', 'πολύκαρπος')), (36, ('ἡρώδου', 'ἰωσὴφ')), (37, ('ἡρώδης', 'ἄνδρων')), (38, ('θεόπομπος', 'ἄρατος')), (39, ('ἰουδαίους', 'οὐεσπασιανὸς')), (40, ('ἰουδαίοις', 'πελοπόννησον')), (41, ('ἀσσυρίων', 'ὑπολαβὼν')), (42, ('ἱεροσόλυμα', 'ἀγάπην')), (43, ('ὑπερείδης', 'ῥητορικὴ')), (44, ('ἀβραὰμ', 'ἀντίπατρον')), (45, ('λυσίας', 'ἄνδρων')), (46, ('ἰουδαίους', 'ἐπίσκοπον')), (47, ('ἐβασίλευσε', 'ὑπομνήματα')), (48, ('ἰουδαίους', 'τοὶ')), (49, ('ἐβασίλευσε', 'ζῶσα')), (50, ('ἡρώδου', 'κωνσταντῖνον')), (51, ('ἡρώδου', 'θησέα')), (52, ('ἡρακλείδης', 'στησίμβροτος')), (53, ('ἱεροσόλυμα', 'στελέχους')), (54, ('ἰούδα', 'πρε')), (55, ('ἰουδαίοις', 'ἰσραήλ')), (56, ('ἐπίσκοπος', 'ὄψον')), (57, ('θεόπομπος', 'μέθοδον')), (58, ('ἐπίσκοπος', 'παρέσται')), (59, ('αἰσχίνης', 'εὐσέβιος'))]\n",
      "\n",
      "Loading model: gensim_lda_model_tlg_numtopics120_numpasses1_nobelow20_noabove0.1_tokmin3_tokmax20_docmin50_deaccentFalse.model ...\n",
      "... for word intrusion testing ...\n",
      "Top 50 words of each LDA model:\n"
     ]
    },
    {
     "name": "stdout",
     "output_type": "stream",
     "text": [
      "[['μιχαὴλ', 'ἐβασίλευσε', 'ἡρώδης', 'ἀδὰμ', 'λυσίας', 'ἐκπέμπει', 'ἱεροσόλυμα', 'ἱεροσολύμων', 'ἰουδαίαν', 'κωνσταντίνου', 'ἰουδαίοις', 'ἡρώδην', 'ἡρώδου', 'κωνσταντῖνον', 'ἰούδα', 'ἰουδαίους', 'δυναστεία', 'καῖσαρ', 'ἰσραὴλ', 'ἀσσυρίων', 'κωνσταντῖνος', 'συμεὼν', 'ὑπερείδης', 'νῶε', 'πατρίκιον', 'πατριάρχου', 'βουλγάρων', 'αἰσχίνης', 'ἀβραὰμ', 'δείναρχος', 'ἰνδικτιῶνος', 'ἱεροσολύμοις', 'μωυσῆς', 'ἰσαῖος', 'ἰωάννην', 'κτησιφῶντος', 'πατρίκιος', 'γνήσιος', 'ἐπίσκοπος', 'θεόπομπος', 'βασιλείου', 'ἑβραίων', 'ἰνδῶν', 'πατριάρχης', 'ἀγάπης', 'μωυσέως', 'ἰουδαῖοι', 'ἰουδαίας', 'ἀντιφῶν', 'ῥωμανὸς'], ['ἡρώδης', 'ἡρώδου', 'ἰουδαίους', 'μιχαὴλ', 'ἐπίσκοπος', 'ἱεροσολύμων', 'ἐβασίλευσε', 'ἰσραὴλ', 'ἰουδαίοις', 'κωνσταντίνου', 'μωυσῆς', 'κωνσταντῖνος', 'ἱεροσόλυμα', 'καίσαρα', 'ἡρώδην', 'ἀδὰμ', 'ἀβραὰμ', 'ἰωάννην', 'ἀσσυρίων', 'ἑβραίων', 'νῶε', 'βουλγάρων', 'ἱεροσολύμοις', 'ἰουδαίαν', 'ἰουδαῖοι', 'καῖσαρ', 'ἐκπέμπει', 'ἰδεῶν', 'ἀρχιερέα', 'ἀρχιερέως', 'κωνσταντῖνον', 'συμεὼν', 'ἰσραηλιτῶν', 'ἀράβων', 'λυσίας', 'ἀντιοχείας', 'ἰούδα', 'πατρίκιον', 'ἀγρίππας', 'ἀντίπατρος', 'ὑρκανὸν', 'βασίλειος', 'δημάδης', 'ἀντίοχος', 'πολιορκίαν', 'ἰώσηπος', 'ταγμάτων', 'ἰουδαίας', 'ἀρχιερεὺς', 'ἡρώδῃ'], ['ἱεροσόλυμα', 'ἡρώδης', 'ἱεροσολύμων', 'ἰουδαίους', 'ἐβασίλευσε', 'ἰουδαίοις', 'λυσίας', 'ὅκως', 'θεόπομπος', 'ἡρώδου', 'ἰουδαίαν', 'καῖσαρ', 'μιχαὴλ', 'ἰσραὴλ', 'ἰούδα', 'ἀδὰμ', 'μωυσῆς', 'κωνσταντίνου', 'ὑπερείδης', 'ἰσαῖος', 'κτησιφῶντος', 'ἰουδαῖοι', 'ἐπίσκοπος', 'ἰωάννην', 'ἀλώπηξ', 'ἀρχιερέως', 'ἱεροσολύμοις', 'αἰσχίνης', 'ἑρμηνεία', 'ἀντιόχου', 'ἀντιοχείας', 'ἀσσυρίων', 'δείναρχος', 'ἀγάπης', 'ἡρώδην', 'κωνσταντῖνος', 'ἀράβων', 'ἑβραίων', 'ἰσοκράτης', 'ἀντιφῶν', 'βασιλείου', 'ὑρκανὸν', 'σίμων', 'γνήσιος', 'ἱερουσαλὴμ', 'τίτος', 'ἀβραὰμ', 'ἀρχιερεὺς', 'ἀδίκημα', 'ἰωσήπου'], ['ἡρώδης', 'ἡρώδου', 'ἀλώπηξ', 'ἰουδαίους', 'ἱεροσόλυμα', 'δημάδης', 'ἱεροσολύμοις', 'ἱεροσολύμων', 'ἰουδαίαν', 'ἰχθὺν', 'καῖσαρ', 'ἰουδαῖοι', 'ἰουδαίοις', 'ἐβασίλευσε', 'ἡρώδην', 'μωυσῆς', 'ἑβραίων', 'ἑφθὸν', 'ἕωλον', 'ἑρμηνεία', 'ἀδὰμ', 'ἰώσηπος', 'μιχαὴλ', 'ἰσραηλιτῶν', 'ἅλμῃ', 'ἡρώδῃ', 'κωνσταντίνου', 'ἰωσήπου', 'ἐκπέμπει', 'λυσίας', 'ἀρχιερεὺς', 'ἰουδαίας', 'τήμερον', 'ἰούδα', 'ἀντίπατρος', 'ὑρκανὸν', 'ἀράβων', 'ἐπίσκοπος', 'ξένε', 'δείσας', 'αἰσχίνης', 'ἰσραὴλ', 'ἀρχιερέως', 'ἱππεῖς', 'γαΐου', 'ἀντιπάτρου', 'ἀριστοβούλου', 'ὑρκανοῦ', 'ἰωάννην', 'ἀσσυρίων'], ['ἀκουσίλαος', 'ἡρώδης', 'ἡρώδου', 'θεόπομπος', 'ἱεροσολύμων', 'ἡρώδην', 'ἐβασίλευσε', 'μιχαὴλ', 'ἱεροσόλυμα', 'ἀδὰμ', 'ἰουδαίοις', 'ἰουδαίους', 'καῖσαρ', 'ἀντιπάτρου', 'ἰσραὴλ', 'θεοφάνης', 'ἑβραίων', 'ἰουδαῖοι', 'ἱεροσολύμοις', 'κωνσταντίνου', 'πέλεν', 'ἰούδα', 'ἐκπέμπει', 'ἐπίσκοπος', 'μωυσῆς', 'κωνσταντῖνος', 'ἀντιοχείας', 'ἰουδαίαν', 'γαΐου', 'καίσαρα', 'ἰσαῖος', 'ἰουδαίας', 'ἰδεῶν', 'ἰωάννην', 'λυσίας', 'ἀντιόχου', 'οὔνομα', 'ξένε', 'ἀντίοχος', 'σίμων', 'ὑπερείδης', 'ἀράβων', 'δείσας', 'ἰώσηπον', 'σέο', 'ὑρκανοῦ', 'κτησιφῶντος', 'βασίλειος', 'κωνσταντῖνον', 'φιλιππικῶν'], ['φανόδημος', 'ἡρώδης', 'ἑβραίων', 'θεόπομπος', 'ἱεροσολύμων', 'ἰουδαίοις', 'ἱεροσόλυμα', 'ἰουδαίους', 'ἰουδαίαν', 'ἡρώδου', 'ἱεροσολύμοις', 'ἡρώδην', 'ἀλώπηξ', 'ξένε', 'ἀσσυρίων', 'ἐβασίλευσε', 'καῖσαρ', 'ἰούδα', 'μωυσῆς', 'μιχαὴλ', 'ὑρκανὸν', 'ἐπίσκοπος', 'ἀντιοχείας', 'ἀδὰμ', 'καίσαρα', 'κωνσταντίνου', 'ἀτθίδος', 'ἰδεῶν', 'ἀρχιερέα', 'ἀντίοχος', 'ἰσραηλιτῶν', 'ἀντιόχου', 'γαλιλαίας', 'ἀντίπατρος', 'ἡρώδῃ', 'ἀρχιερεὺς', 'μέθοδος', 'ἀρχιερέως', 'σίμων', 'ἰουδαίας', 'ἰσραὴλ', 'βασιλείου', 'ἀράβων', 'ἰουδαῖοι', 'ἰνδῶν', 'δείσας', 'ἀγρίππας', 'ἰησοῦν', 'ἀπολλώνιον', 'ἀλεξάνδρειαν'], ['στησίμβροτος', 'ἡρώδης', 'μιχαὴλ', 'ἡρώδου', 'ξένε', 'ἡρώδην', 'θεόπομπος', 'ἱεροσολύμων', 'ἰουδαίους', 'ἱεροσόλυμα', 'κωνσταντῖνος', 'ἑβραίων', 'ἑρμηνεία', 'ἐκπέμπει', 'ἀλώπηξ', 'ἐβασίλευσε', 'ἀδὰμ', 'ἰσραὴλ', 'πατριάρχου', 'ἰούδα', 'ἐντολῶν', 'ἀγάπης', 'κτησιφῶντος', 'βουλγάρων', 'ἑρμηνεύεται', 'καῖσαρ', 'λυσίας', 'ἰουδαίοις', 'πατριάρχης', 'ἰσαῖος', 'ἰωάννην', 'αἰσχίνης', 'ἰουδαίαν', 'ἰουδαῖοι', 'γαΐου', 'ἰσοκράτης', 'κωνσταντῖνον', 'ἤρετο', 'ἰνδῶν', 'ξὺν', 'βασίλειος', 'ἀρχιερέως', 'ἰσραηλιτῶν', 'περικλέους', 'ὑπολαβὼν', 'δημοσθένους', 'κωνσταντίνου', 'βασιλείου', 'ἰσραήλ', 'ἱεροσολύμοις'], ['ἐβασίλευσε', 'ἡρώδης', 'ἰσραὴλ', 'ἰουδαίους', 'ἰούδα', 'ἱεροσόλυμα', 'ἡρώδου', 'θεόπομπος', 'ἑρμηνεία', 'καῖσαρ', 'ἱεροσολύμων', 'ἡρώδην', 'ῥητορικὴ', 'μιχαὴλ', 'ἀδὰμ', 'ἀγάπης', 'λυσίας', 'μωυσῆς', 'ἀσσυρίων', 'ἀλώπηξ', 'νυμφῶν', 'ἡρακλείδης', 'δρυσὶ', 'ἐπίσκοπος', 'ἀβραὰμ', 'κτησιφῶντος', 'κωνσταντίνου', 'ἰουδαίαν', 'ἰουδαίοις', 'ἀκουσίλαος', 'κωνσταντῖνος', 'ὑπερείδης', 'ἱεροσολύμοις', 'ἰουδαῖοι', 'ναόν', 'μωυσέως', 'ἑβραίων', 'ἰχθὺν', 'μαγειρικὴν', 'ἱερουσαλὴμ', 'πάτρια', 'ἰουδαίας', 'ἀντιόχου', 'ἐνθάδ', 'πατριάρχου', 'δυναστεία', 'πατριάρχης', 'νῶε', 'ἰσραηλιτῶν', 'πατρίκιος'], ['θεόπομπος', 'ἡρώδης', 'ἱεροσολύμων', 'ἱεροσόλυμα', 'ἡρώδου', 'ἰουδαίοις', 'ἰουδαίους', 'ἰουδαίαν', 'ἐβασίλευσε', 'ἀλώπηξ', 'ἑρμηνεία', 'καῖσαρ', 'ἰσραὴλ', 'ἑβραίων', 'ἱεροσολύμοις', 'μωυσῆς', 'ἰούδα', 'ἀντιοχείας', 'ἀσσυρίων', 'φιλιππικῶν', 'ἡρώδην', 'λυσίας', 'ἰουδαῖοι', 'ἐπίσκοπος', 'ἀγάπης', 'ἀδὰμ', 'ἀρχιερέως', 'μιχαὴλ', 'ἰωάννην', 'ὑπερείδης', 'ἱερουσαλὴμ', 'καίσαρα', 'ὑπολαβὼν', 'κωνσταντῖνος', 'ἀρχιερέα', 'ὑρκανὸν', 'καίσαρι', 'ἰουδαίας', 'ἰσραηλιτῶν', 'κωνσταντίνου', 'ἀρχιερεὺς', 'πολιορκίαν', 'ἰωσήπου', 'ἱππεῖς', 'τίτος', 'ὀρρωδεῖν', 'σίμων', 'γαΐου', 'ἀλεξανδρείας', 'ἀβραὰμ'], ['ἡρώδης', 'ἰουδαίους', 'λυσίας', 'ἱεροσολύμων', 'ὑπερείδης', 'ἑβραίων', 'ἡρώδου', 'αἰσχίνης', 'ἰσαῖος', 'ἰουδαίοις', 'ἱεροσόλυμα', 'δείναρχος', 'κτησιφῶντος', 'ἱεροσολύμοις', 'καῖσαρ', 'ἰουδαίαν', 'ἡρώδην', 'καίσαρα', 'μιχαὴλ', 'ἰουδαῖοι', 'ἐβασίλευσε', 'ἰσραηλιτῶν', 'μωυσῆς', 'θεόπομπος', 'κωνσταντίνου', 'ἀντιφῶν', 'γνήσιος', 'ἰούδα', 'ἰσοκράτης', 'ἰσραὴλ', 'ἀδὰμ', 'ἀλώπηξ', 'ἀράβων', 'ἀντίπατρος', 'ἡρώδῃ', 'ἐπίσκοπος', 'ἀσσυρίων', 'λυκοῦργος', 'ἀρχιερέα', 'ἀγάπης', 'ἀγρίππας', 'ἀντιοχείας', 'ἑρμηνεία', 'ἀρχιερέως', 'ἀντιπάτρου', 'ἀντίοχος', 'κωνσταντῖνον', 'φιλιππικοῖς', 'ἐκπέμπει', 'κωνσταντῖνος'], ['θεόπομπος', 'φιλιππικῶν', 'ἐβασίλευσε', 'ἱεροσολύμων', 'ῥάφανον', 'ἡρώδης', 'θεοπόμπου', 'ἡρώδου', 'θράικης', 'ἰσραὴλ', 'ἱεροσόλυμα', 'ἰούδα', 'ἰουδαίους', 'ἡρώδην', 'μιχαὴλ', 'ἐπίσκοπος', 'ἀδὰμ', 'ἐθνικὸν', 'καῖσαρ', 'ἀμπέλους', 'ἀντιοχείας', 'ἱεροσολύμοις', 'κτησιφῶντος', 'κωνσταντῖνος', 'ἰσοκράτους', 'ἰουδαίαν', 'κωνσταντίνου', 'ὀχυρὰν', 'φορμίων', 'ἐμαῖς', 'χῖος', 'τέκτων', 'ἀσσυρίων', 'προείλετο', 'ὀλίγαις', 'κῶμον', 'παρέντες', 'θύρα', 'νεκρούς', 'γαλῆ', 'ἐπιμελεῖσθε', 'βαλανεῖον', 'θεόπομπον', 'σεμνὸς', 'ἕκαστός', 'πολεμοῦντες', 'ἐπωμίδα', 'μεγαρέων', 'ἰωάννην', 'μοχλοῖς'], ['ἡρώδης', 'κἢν', 'λυσίας', 'τᾶς', 'μιχαὴλ', 'ἀδικημάτων', 'ἐόντων', 'λῃστὴς', 'ἡρώδου', 'φαρμακείας', 'ὑποπτεύειν', 'κτησιφῶντος', 'θεωρῆσαι', 'ἱεροσολύμων', 'ὑπερείδης', 'σέβειν', 'δείναρχος', 'ἀντιοχείας', 'κωνσταντίνου', 'ἰουδαίοις', 'ἡρώδην', 'ἰσαῖος', 'τουτέων', 'φύσιος', 'γνήσιος', 'ἐβασίλευσε', 'ἐκπέμπει', 'ξένε', 'γονέας', 'σκῆνος', 'πατριάρχου', 'ἰουδαίαν', 'ἰουδαίους', 'ἱεροσόλυμα', 'ἰσοκράτης', 'ἰνδῶν', 'ἑβραίων', 'λυκοῦργος', 'καῖσαρ', 'κωνσταντῖνος', 'ἀδὰμ', 'ξύμπαντα', 'ξὺν', 'ἐντολῶν', 'παρανομίας', 'ἐπίσκοπος', 'εὔχεται', 'ἁρμονίην', 'ἀδριανὸς', 'μωυσῆς'], ['φανόδημος', 'ἐβασίλευσε', 'ἰουδαίους', 'μιχαὴλ', 'ἡρώδου', 'ἱεροσόλυμα', 'ἡρώδης', 'ἰσραὴλ', 'καῖσαρ', 'ἀγάπης', 'ἀσσυρίων', 'ἰούδα', 'κωνσταντῖνος', 'ἐπίσκοπος', 'ἰουδαίαν', 'ἡρώδην', 'μωυσῆς', 'ἰουδαίοις', 'ἐκπέμπει', 'ἰουδαῖοι', 'ἀδὰμ', 'κωνσταντῖνον', 'βασίλειος', 'ἱεροσολύμοις', 'ἱεροσολύμων', 'ἀβραὰμ', 'βασιλείου', 'νῶε', 'ὑρκανὸν', 'καίσαρα', 'ἑβραίων', 'προφήτου', 'ἰνδικτιῶνος', 'ἀντιπάτρου', 'ἀλώπηξ', 'συμεὼν', 'ἑρμηνεία', 'κωνσταντίνου', 'πατριάρχου', 'ἰώσηπος', 'ἀτθίδος', 'δυναστεία', 'ἀράβων', 'μωυσέως', 'ἀντιόχου', 'αἰχμαλωσίας', 'τίτος', 'ἱερουσαλήμ', 'πατριάρχης', 'συγκλήτου'], ['ἡρώδης', 'ἑβραίων', 'θεόπομπος', 'ὑπερείδης', 'ἱεροσόλυμα', 'λυσίας', 'κτησιφῶντος', 'πρε', 'ἰσαῖος', 'ἀδὰμ', 'ἱεροσολύμων', 'ἀλώπηξ', 'ἰουδαίους', 'ἡρώδην', 'αἰσχίνης', 'ἰσοκράτης', 'ἐβασίλευσε', 'ἰούδα', 'ἰουδαίαν', 'ξένε', 'ἡρώδου', 'δείναρχος', 'ἰουδαίοις', 'μιχαὴλ', 'ἱεροσολύμοις', 'καῖσαρ', 'ἰσραὴλ', 'κωνσταντῖνος', 'ἀντιφῶν', 'μωυσῆς', 'ἰουδαῖοι', 'φιλιππικῶν', 'ἀντιοχείας', 'ἰωάννην', 'ἐντολῶν', 'ἀσσυρίων', 'κωνσταντῖνον', 'κωνσταντίνου', 'ἡρακλείδης', 'ἀβραὰμ', 'φιλιππικοῖς', 'ἀντίπατρος', 'ἀντίοχος', 'ξὺν', 'ἰακὼβ', 'δημοσθένους', 'ἑρμηνεία', 'λαῷ', 'γνήσιος', 'λυκοῦργος'], ['ἐβασίλευσε', 'θεόπομπος', 'ἡρώδης', 'ἱεροσολύμων', 'ἡρώδου', 'ἱεροσόλυμα', 'ἰουδαίαν', 'ἐπίσκοπος', 'ἰούδα', 'ἰουδαίοις', 'ἡρώδην', 'ἀδὰμ', 'ἰσραὴλ', 'ἰουδαῖοι', 'ἀλώπηξ', 'ἰουδαίους', 'ἀντιπάτρου', 'μωυσῆς', 'λυσίας', 'ἑβραίων', 'φιλιππικῶν', 'ἱεροσολύμοις', 'ἀσσυρίων', 'ἀβραὰμ', 'μιχαὴλ', 'καῖσαρ', 'ἡρώδῃ', 'πολιορκίαν', 'κτησιφῶντος', 'ἀγάπης', 'ἰσαῖος', 'ἀντίοχος', 'ἀντιοχείας', 'σίμων', 'ὑπερείδης', 'δείσας', 'ὑρκανὸν', 'ἰσραηλιτῶν', 'ἰωσήπου', 'χαλδαίων', 'ἀριστοβούλου', 'ἰνδῶν', 'ἰωάννην', 'κατακλυσμοῦ', 'ἑρμηνεία', 'ἤρετο', 'καίσαρα', 'αἰσχίνης', 'δυναστεία', 'ἱερουσαλὴμ'], ['ἡρόδωρος', 'ἡρώδης', 'ἄνδρων', 'ἱεροσόλυμα', 'ἰουδαίους', 'ἱεροσολύμων', 'ἡράκλειαν', 'ἰουδαίοις', 'μιχαὴλ', 'μωυσῆς', 'ἡρώδου', 'ἡρώδην', 'καῖσαρ', 'σύρων', 'θεόπομπος', 'θεοφάνης', 'ἀσσυρίων', 'ἀμαζόνων', 'ἰουδαίαν', 'λυσίας', 'ἀλώπηξ', 'ἱεροσολύμοις', 'ἐβασίλευσε', 'κωνσταντῖνος', 'καίσαρα', 'ἰουδαῖοι', 'ἑρμηνεία', 'ἰδεῶν', 'ἰούδα', 'ἀντιπάτρου', 'ἰώσηπος', 'ἀδὰμ', 'ἰσραηλιτῶν', 'ὑρκανὸν', 'σύροι', 'ἑβραίων', 'γαΐου', 'βασιλεῦσαι', 'ξένε', 'εὐφορίων', 'ἀντιόχου', 'ἀντιοχείας', 'αἰσχίνης', 'ἀγάπης', 'φοινίκῃ', 'ἐσχηκέναι', 'ἰωάννην', 'ὑπερείδης', 'ἀποθανόντων', 'χολήν'], ['ἡρώδης', 'πρε', 'ἐβασίλευσε', 'ἱεροσόλυμα', 'ἡρώδου', 'ἱεροσολύμοις', 'ἰουδαίους', 'ἡρώδην', 'ἱεροσολύμων', 'ἰουδαίοις', 'ἰουδαίαν', 'ἀντιόχου', 'ἰσραὴλ', 'καῖσαρ', 'ἀδὰμ', 'ἰούδα', 'μωυσῆς', 'ἰσραηλιτῶν', 'ἰουδαῖοι', 'θεόπομπος', 'ἀρχιερέα', 'ἀλώπηξ', 'ἑβραίων', 'καίσαρα', 'ἀσσυρίων', 'γαΐου', 'ἰωάννην', 'ἀντιπάτρου', 'ἐπίσκοπος', 'ἀριστοβούλου', 'σύρου', 'ἀβραὰμ', 'ὑρκανὸν', 'νῶε', 'ἀντιοχείας', 'ἡρώδῃ', 'ἀρχιερέως', 'παναγίας', 'χαλδαίων', 'καίσαρι', 'ξὺν', 'ἱερουσαλὴμ', 'ἑρμηνεία', 'σίμων', 'ἀντίοχος', 'ἰωσήπου', 'ἀγρίππας', 'ἱεροσολυμιτῶν', 'γαλιλαίας', 'ἀριστόβουλον'], ['πρε', 'ὁσίου', 'ἐφραίμ', 'παναγίας', 'σύρου', 'τρι', 'κον', 'ἰδεῶν', 'τερ', 'στάσεων', 'ποίησις', 'ἡρώδης', 'μονα', 'ἰωάννην', 'ἱεροὶ', 'διο', 'ἑρμηνεία', 'μιχαὴλ', 'ἱεροσόλυμα', 'ιον', 'αὐτοκράτορα', 'διήγησις', 'ἡρώδου', 'ἰουδαίους', 'ἑβραίων', 'ἐκπέμπει', 'ἐβασίλευσε', 'ἱεροσολύμων', 'ἀδὰμ', 'ἰνδῶν', 'ἐντολῶν', 'τρο', 'ἰούδα', 'προσῳδιῶν', 'κλίσεως', 'ἰσραὴλ', 'ὑπομνήματα', 'ἡρώδην', 'ἰουδαίαν', 'ἐπίσκοπος', 'μωυσῆς', 'βουλγάρων', 'κωνσταντῖνος', 'κωνσταντίνου', 'ἀλώπηξ', 'ἐπιστολαί', 'ξένε', 'πατριάρχου', 'μει', 'ἀσσυρίων'], ['δυναστεία', 'ἐβασίλευσε', 'θηβαίων', 'ἀσσυρίων', 'ἱεροσολύμων', 'ἐπίσκοπος', 'ἰούδα', 'ἐβασίλευσαν', 'ἰσραὴλ', 'ἱεροσόλυμα', 'ἡρώδου', 'ἡρώδης', 'ἀβραὰμ', 'ἰουδαίους', 'ἰουδαίαν', 'κϛʹ', 'καῖσαρ', 'ἰουδαίοις', 'μιχαὴλ', 'ἀδὰμ', 'δυναστειῶν', 'ἑβραίων', 'κατακλυσμοῦ', 'ἱερουσαλὴμ', 'κωνσταντίνου', 'χαλδαίων', 'ἐγέννησε', 'κθʹ', 'ἰουδαῖοι', 'καʹ', 'ἡρώδην', 'κβʹ', 'εὐσέβιος', 'ἀντιοχείας', 'κατακλυσμὸν', 'νῶε', 'ἰωσὴφ', 'εἰκοστὴ', 'μωυσέως', 'ἀρχιερέως', 'δημάδης', 'λβʹ', 'μωυσῆς', 'κωνσταντῖνος', 'δαρεῖος', 'γενεῶν', 'βασιλείου', 'λαʹ', 'κζʹ', 'ἐκπέμπει'], ['λυσίας', 'ἰσαῖος', 'ἡρώδης', 'ὑπερείδης', 'μιχαὴλ', 'ἡρώδου', 'ἱεροσόλυμα', 'ἐβασίλευσε', 'ἰουδαίους', 'ἰσοκράτης', 'κτησιφῶντος', 'ἱεροσολύμων', 'ἀντιφῶν', 'καῖσαρ', 'γνήσιος', 'ἰουδαῖοι', 'θεόπομπος', 'ἰουδαίοις', 'αἰσχίνης', 'δείναρχος', 'ἐπίσκοπος', 'ἡρώδην', 'δραχμὴν', 'δημοσθένους', 'κωνσταντῖνος', 'ἱεροσολύμοις', 'λυκοῦργος', 'ἰουδαίαν', 'ἰωάννην', 'κωνσταντῖνον', 'ἰσραὴλ', 'βάλλε', 'κωνσταντίνου', 'ἰσραηλιτῶν', 'ἰούδα', 'ἀσσυρίων', 'φιλόχορος', 'βουλγάρων', 'πατρίκιον', 'ἐκπέμπει', 'ἑβραίων', 'ἀβραὰμ', 'ἀρχιερεὺς', 'μωυσῆς', 'συμεὼν', 'ἀλώπηξ', 'ἀγρίππας', 'ἀντιοχείας', 'ἀδὰμ', 'αἰχμαλωσίας'], ['θεόπομπος', 'ἐβασίλευσε', 'ἡρώδης', 'φιλιππικῶν', 'ἰουδαίους', 'ἰσραὴλ', 'ἱεροσολύμων', 'ἡρώδου', 'ἀσσυρίων', 'ἐπίσκοπος', 'ἀδὰμ', 'μιχαὴλ', 'ἡρώδην', 'κωνσταντίνου', 'κωνσταντῖνος', 'ἑλλὰς', 'ἰούδα', 'καῖσαρ', 'ἐγέννησε', 'ἱεροσόλυμα', 'μωυσέως', 'ἰουδαίοις', 'ἑβραίων', 'ἀντιοχείας', 'στάδια', 'ἰακὼβ', 'ἰουδαῖοι', 'ἱεροσολύμοις', 'ἰωάννην', 'ἀβραὰμ', 'ἰωσὴφ', 'κωνσταντῖνον', 'ἱερουσαλὴμ', 'ἰουδαίας', 'μωυσῆς', 'ἀντιόχου', 'ἰνδῶν', 'ἡρώδῃ', 'χαλδαίων', 'βασιλείου', 'ἀντιπάτρου', 'ἀλώπηξ', 'κγʹ', 'εὐσέβιος', 'νῶε', 'ξένε', 'ἕλληνος', 'ἀρχιερέως', 'ἀλεξανδρείας', 'βουλγάρων'], ['θεόπομπος', 'φιλιππικῶν', 'θεοπόμπου', 'ἐβασίλευσε', 'θράικης', 'ἡρώδης', 'ὑπερείδης', 'ἡρώδου', 'βαῖνε', 'ἰουδαίους', 'κύματ', 'χῖος', 'ἑβραίων', 'κτησιφῶντος', 'λυσίας', 'ἐθνικὸν', 'ἰούδα', 'ἱεροσολύμων', 'ἱεροσόλυμα', 'ἀντιοχείας', 'ἰσοκράτης', 'θεόπομπον', 'φιλιππικοῖς', 'καῖσαρ', 'ἰουδαίοις', 'ἡρακλείδης', 'ἐπίσκοπος', 'ἡρώδην', 'θετταλίας', 'ἰουδαίαν', 'δυσμενέων', 'ἀντιόχου', 'ἰσαῖος', 'ξὺν', 'βροτοῖς', 'αἰσχίνης', 'ἰουδαῖοι', 'μιχαὴλ', 'ἰσοκράτους', 'φιλόχορος', 'κερκίδας', 'δημοσθένους', 'δείναρχος', 'δείσας', 'μωυσῆς', 'ἀδὰμ', 'μέγ', 'ταλάντων', 'ἐκπέμπει', 'ἀρκαδίας'], ['ἡρώδης', 'ἐβασίλευσε', 'ἱεροσολύμων', 'ἡρώδου', 'ἰουδαίους', 'ἱεροσόλυμα', 'ἰουδαῖοι', 'ἱεροσολύμοις', 'ἑβραίων', 'ἡρώδην', 'ἰουδαίοις', 'ἰουδαίαν', 'καῖσαρ', 'ἐπίσκοπος', 'σπάρτας', 'μωυσῆς', 'ἀλώπηξ', 'ἰούδα', 'ἡρακλείδης', 'ἀδὰμ', 'τᾶς', 'ἰουδαίας', 'ὑρκανὸν', 'ἀσσυρίων', 'ἀντιόχου', 'ἀντιοχείας', 'ἀκουσίλαος', 'ἐκπέμπει', 'ἱερουσαλὴμ', 'ξένε', 'ἡρώδῃ', 'ἰσραὴλ', 'σίμων', 'ἰνδῶν', 'ἱππεῖς', 'κωνσταντίνου', 'ἰσραηλιτῶν', 'ἀράβων', 'ἀντίπατρος', 'μωυσέως', 'χελιδὼν', 'ἀρχιερέα', 'φήσαντος', 'δείσας', 'καίσαρα', 'ἵει', 'χαλδαίων', 'τίτος', 'ἑρμηνεία', 'ἀντίοχος'], ['θεόπομπος', 'ἡρώδης', 'ἡρόδωρος', 'μιχαὴλ', 'ἡρώδου', 'ἱεροσόλυμα', 'ἰουδαίους', 'ἡρακλείδης', 'ἰούδα', 'ἡρώδην', 'ἱεροσολύμων', 'καῖσαρ', 'ἑβραίων', 'κωνσταντίνου', 'κωνσταντῖνος', 'ἰουδαίοις', 'ἐβασίλευσε', 'ἰουδαίαν', 'ἱεροσολύμοις', 'ἰουδαῖοι', 'ἐπίσκοπος', 'ἰωάννην', 'ἀλώπηξ', 'ἐκπέμπει', 'μωυσῆς', 'ἀράβων', 'ἱερουσαλὴμ', 'ἀντιοχείας', 'ἰνδικτιῶνος', 'ἀγάπης', 'ξὺν', 'ὑπολαβὼν', 'ἀβραὰμ', 'προφήτου', 'ἑρμηνεία', 'κωνσταντῖνον', 'ἰσαῖος', 'συμεὼν', 'ὑπερείδης', 'βουλγάρων', 'ξένε', 'ἀρχιερέως', 'ἀσσυρίων', 'πατρίκιος', 'δημοσθένους', 'ἑρμηνεύεται', 'ἤρετο', 'καίσαρα', 'κτησιφῶντος', 'ἰουδαίας'], ['ἡρώδης', 'ἡρώδου', 'καῖσαρ', 'θεόπομπος', 'ἱεροσόλυμα', 'ἰουδαίους', 'ἐβασίλευσε', 'λυσίας', 'ἱεροσολύμων', 'κτησιφῶντος', 'ἰσραὴλ', 'ἰουδαίοις', 'ξένε', 'κωνσταντίνου', 'ὑπερείδης', 'ἀσσυρίων', 'ἀλώπηξ', 'ἡρώδην', 'ἀδὰμ', 'ἰουδαῖοι', 'αἰσχίνης', 'ἡρώδῃ', 'ἑρμηνεία', 'γνήσιος', 'παρέσται', 'μιχαὴλ', 'ἰουδαίας', 'ἰσαῖος', 'ἑβραίων', 'κωνσταντῖνος', 'ἰνδῶν', 'ἰωάννην', 'ἐπίσκοπος', 'δείναρχος', 'ἰουδαίαν', 'αὐτοκράτωρ', 'μωυσῆς', 'καίσαρα', 'ἀντιφῶν', 'ξὺν', 'ἀράβων', 'ἱεροσολύμοις', 'βασιλείου', 'ἐκπέμπει', 'ἀλεξανδρείας', 'ἀβραὰμ', 'ἀντίπατρος', 'γαΐου', 'κωνσταντῖνον', 'ἰσοκράτης'], ['ἐβασίλευσε', 'ἡρώδης', 'ἰουδαίους', 'ἡρώδου', 'δυναστεία', 'ἱεροσόλυμα', 'ἰουδαίοις', 'ἰουδαίαν', 'ἱεροσολύμοις', 'ἰούδα', 'καῖσαρ', 'ἰουδαῖοι', 'ἱεροσολύμων', 'ἡρώδην', 'ἑρμηνεία', 'ἐπίσκοπος', 'μωυσῆς', 'ἀσσυρίων', 'θηβαίων', 'ἀδὰμ', 'ἰσραὴλ', 'ἀντιόχου', 'ἑβραίων', 'ἀγάπης', 'ἑρμηνεύεται', 'ἰσραηλιτῶν', 'ὑρκανὸν', 'ἀλώπηξ', 'ἡρώδῃ', 'ἰωάννην', 'ἀντιπάτρου', 'μιχαὴλ', 'ἀντίπατρος', 'μωυσέως', 'ἀβραὰμ', 'χαλδαίων', 'λυσίας', 'ἀντίοχος', 'ἰουδαίας', 'ἀντιοχείας', 'νῶε', 'σίμων', 'κϛʹ', 'ἀριστοβούλου', 'καίσαρα', 'ἰνδῶν', 'ἀγρίππας', 'λόγωι', 'ἰώσηπος', 'ἀλεξανδρείας'], ['ἐβασίλευσε', 'ἱεροσολύμων', 'ἡρώδης', 'ἐπίσκοπος', 'ἱεροσόλυμα', 'ἰουδαίοις', 'ἰσραὴλ', 'ἀλώπηξ', 'ἰουδαίους', 'ἰούδα', 'δυναστεία', 'ἰουδαίαν', 'ἀσσυρίων', 'ἡρώδου', 'ἀγάπης', 'ἰουδαῖοι', 'καῖσαρ', 'ἀδὰμ', 'ἡρώδην', 'θηβαίων', 'ἑρμηνεία', 'ἀντιοχείας', 'ἡρακλείδης', 'μωυσῆς', 'νῶε', 'μιχαὴλ', 'κωνσταντῖνος', 'εὐσέβιος', 'ἑρμηνεύεται', 'κωνσταντίνου', 'δημάδης', 'ἀντιόχου', 'πρε', 'ἐβασίλευσαν', 'κατακλυσμοῦ', 'κθʹ', 'ἱεροσολύμοις', 'ξένε', 'ἀρχιερέως', 'ἀβραὰμ', 'ἀλεξανδρείας', 'κτησιφῶντος', 'ἰωάννην', 'ἰωσὴφ', 'ἰσραηλιτῶν', 'αἰχμαλωσίας', 'ἐπισκόπου', 'ἐντολῶν', 'ἀντίοχος', 'λυσίας'], ['ἐβασίλευσε', 'ἡρώδης', 'ἱεροσολύμων', 'ἡρώδου', 'ἰσραὴλ', 'ἱεροσόλυμα', 'ἡρώδην', 'ἀδὰμ', 'μιχαὴλ', 'θεόπομπος', 'ἰούδα', 'ἰουδαίους', 'ἐπίσκοπος', 'ἀλώπηξ', 'ἰουδαίαν', 'ἰουδαίοις', 'μωυσῆς', 'ἑβραίων', 'ἀσσυρίων', 'ἰωάννην', 'κωνσταντίνου', 'κωνσταντῖνος', 'λυσίας', 'ἀβραὰμ', 'καῖσαρ', 'ἰσαῖος', 'ἱεροσολύμοις', 'ἰνδῶν', 'ἰσραηλιτῶν', 'χαλδαίων', 'ἐγέννησε', 'πατριάρχου', 'βουλγάρων', 'ἰουδαῖοι', 'ἀρχιερέως', 'ἰακὼβ', 'δημοσθένους', 'καίσαρα', 'νῶε', 'ὑρκανὸν', 'ἡρώδῃ', 'συμεὼν', 'ἑρμηνεία', 'ἡρόδωρος', 'ξὺν', 'κτησιφῶντος', 'γαΐου', 'ἱερουσαλὴμ', 'ἐκπέμπει', 'μωυσέως'], ['δημάδης', 'ἡρώδου', 'λυσίας', 'ἡρώδης', 'ἐβασίλευσε', 'ἀδὰμ', 'ἱεροσολύμων', 'θεόπομπος', 'κτησιφῶντος', 'ἰουδαίους', 'ὑπερείδης', 'ἰούδα', 'ἰσραὴλ', 'αἰσχίνης', 'ἰσαῖος', 'ἱεροσόλυμα', 'δείναρχος', 'ῥητορικὴ', 'ἀλώπηξ', 'πολύκαρπος', 'μιχαὴλ', 'ἐπίσκοπος', 'κωνσταντίνου', 'ἰουδαίαν', 'ὅκως', 'νοημάτων', 'δημοσθένους', 'ἰουδαῖοι', 'καῖσαρ', 'ἱεροσολύμοις', 'ἰουδαίοις', 'κωνσταντῖνος', 'ἡρώδην', 'ἑρμηνεία', 'ἐντολῶν', 'ἐκπέμπει', 'ἑβραίων', 'ἑλλὰς', 'ἀσσυρίων', 'λυκοῦργος', 'ἀντιφῶν', 'ἰδεῶν', 'μωυσῆς', 'ἑρμηνεύεται', 'ἀντιοχείας', 'ἀγάπης', 'ἡρακλείδης', 'νῶε', 'μέθοδον', 'αἰσχίνου'], ['ἀκουσίλαος', 'μιχαὴλ', 'ἐβασίλευσε', 'ἱεροσολύμων', 'ἰουδαίους', 'ἡρώδης', 'ἀδὰμ', 'λυσίας', 'καῖσαρ', 'κωνσταντίνου', 'ἰσραὴλ', 'θεόπομπος', 'ἐπίσκοπος', 'ἰνδῶν', 'ἑρμηνεία', 'ἡρώδην', 'ἀγάπης', 'ἰούδα', 'ἐντολῶν', 'ἡρώδου', 'ἑρμόδωρος', 'ἡρακλείδης', 'ἰουδαῖοι', 'ἰουδαίοις', 'ἀσσυρίων', 'ἐκπέμπει', 'ἑβραίων', 'ἱεροσόλυμα', 'ὑπερείδης', 'κωνσταντῖνος', 'ἰουδαίαν', 'ἰδεῶν', 'ἰωάννην', 'ἀντιοχείας', 'ἀλώπηξ', 'μωυσῆς', 'βασίλειος', 'ἱερουσαλὴμ', 'αἰσχίνης', 'ἀλεξανδρείας', 'πατριάρχης', 'ἑρμηνεύεται', 'ἄρατος', 'ἰνδικτιῶνος', 'κωνσταντῖνον', 'κτησιφῶντος', 'καίσαρα', 'ἱεροσολύμοις', 'δημοσθένους', 'ξένε'], ['ἐβασίλευσε', 'ἡρώδης', 'θεόπομπος', 'ἰουδαίαν', 'ἱεροσόλυμα', 'ἱεροσολύμων', 'ἰσραὴλ', 'ἀδὰμ', 'ἀσσυρίων', 'δυναστεία', 'ἐπίσκοπος', 'ἡρώδου', 'ἱεροσολύμοις', 'ἡρώδην', 'καῖσαρ', 'ἰουδαίους', 'ἀβραὰμ', 'νῶε', 'ἐγέννησε', 'κωνσταντίνου', 'μωυσῆς', 'μιχαὴλ', 'ἑβραίων', 'ξένε', 'κωνσταντῖνος', 'μωυσέως', 'ἰούδα', 'ἰνδῶν', 'ἰουδαίοις', 'ἰουδαίας', 'χαλδαίων', 'θηβαίων', 'ἀλώπηξ', 'κατακλυσμοῦ', 'ἀντιόχου', 'ἰωάννην', 'εὐσέβιος', 'ἰουδαῖοι', 'ἀλεξανδρείας', 'ἀντιοχείας', 'ἀντιπάτρου', 'ἱερουσαλὴμ', 'ἑρμηνεύεται', 'κϛʹ', 'βασιλείου', 'φιλιππικῶν', 'συγκλήτου', 'ἰσραηλιτῶν', 'ἀντίοχος', 'δείσας'], ['ἡρώδης', 'καῖσαρ', 'ἐβασίλευσε', 'ἡρώδου', 'ἐπίσκοπος', 'ῥητορικὴ', 'ἱεροσολύμων', 'ἰσραὴλ', 'ἰουδαίους', 'μιχαὴλ', 'ἡρώδην', 'ξένε', 'ἰουδαίαν', 'ἀσσυρίων', 'ἑβραίων', 'ἰούδα', 'ἰδεῶν', 'ἱεροσόλυμα', 'ἰουδαίοις', 'ῥητορική', 'ἱεροσολύμοις', 'στάδια', 'ἰουδαῖοι', 'κωνσταντίνου', 'μωυσῆς', 'ἀδὰμ', 'ἰνδῶν', 'ἑλλὰς', 'ῥητορικὴν', 'κωνσταντῖνος', 'ἑρμηνεύεται', 'ἡρώδῃ', 'ὁρισμὸν', 'ἤρετο', 'ἀντιπάτρου', 'στάσεων', 'βουλγάρων', 'ἀντιοχείας', 'ἡσυχῆ', 'ἐντολῶν', 'ὑρκανὸν', 'νῶε', 'ἐκπέμπει', 'καίσαρα', 'ἰσραηλιτῶν', 'ἀρχιερέα', 'χαλδαίων', 'προφήτου', 'ἀλεξανδρείας', 'κωνσταντῖνον'], ['πρε', 'ἡρώδης', 'ἀλώπηξ', 'ἑρμηνεία', 'ἡρώδου', 'καῖσαρ', 'ἱεροσολύμων', 'ἱεροσόλυμα', 'ἰουδαίους', 'ἰουδαίοις', 'ἰούδα', 'ἐβασίλευσε', 'ἑβραίων', 'μωυσῆς', 'ἡρώδην', 'ἐπίσκοπος', 'ἡρακλείδης', 'ἰσραὴλ', 'ἀδὰμ', 'νικῶσιν', 'μιχαὴλ', 'ὑπολαβὼν', 'ἰουδαίαν', 'κωνσταντῖνος', 'τρι', 'κωνσταντίνου', 'ἀντιοχείας', 'ξὺν', 'ἀντιπάτρου', 'ἡρώδῃ', 'ἐφραίμ', 'ἀρχιερέως', 'ἀλεξανδρείας', 'ἰωάννην', 'ὁσίου', 'θεόπομπος', 'ἰουδαῖοι', 'ἀσσυρίων', 'ἰνδῶν', 'σύρου', 'ἱεροσολύμοις', 'ξένε', 'ἐκπέμπει', 'φήσαντος', 'γαΐου', 'παναγίας', 'ἀρχιερεὺς', 'καίσαρα', 'βασίλειος', 'κωνσταντῖνον'], ['πρε', 'ἡρακλείδης', 'ἐβασίλευσε', 'ἡρώδης', 'ἡρώδου', 'παναγίας', 'ὁσίου', 'ἑρμείας', 'πρυτανεῖον', 'σύρου', 'ἰουδαίους', 'ἐφραίμ', 'ἰδεῶν', 'ἱεροσολύμων', 'λυσίας', 'μωυσῆς', 'ἱεροσόλυμα', 'ἰουδαίοις', 'καῖσαρ', 'ἐπίσκοπος', 'τρι', 'κτησιφῶντος', 'αἰσχίνης', 'πρυτανείῳ', 'ἱεροσολύμοις', 'ἀσσυρίων', 'ἰουδαίας', 'ἀκουσίλαος', 'ἰουδαῖοι', 'ἰουδαίαν', 'ἰούδα', 'ἰσαῖος', 'ἰωάννην', 'ἀρχιερέα', 'ἀδὰμ', 'ὑπερείδης', 'δυναστεία', 'κωνσταντίνου', 'ἑβραίων', 'ἰσραὴλ', 'ἀρχιερεὺς', 'ποντικὸς', 'ἡρώδην', 'ἰσοκράτης', 'ἡρώδῃ', 'σίμων', 'ἰώσηπον', 'ἀντίπατρος', 'δημοσθένους', 'μιχαὴλ'], ['ἡρώδου', 'ἐβασίλευσε', 'ἡρώδης', 'ἰουδαίους', 'ἰουδαίοις', 'ἱεροσόλυμα', 'ἀδὰμ', 'ἐπίσκοπος', 'ἑβραίων', 'ἡρώδην', 'νῶε', 'ζητήσεις', 'ἰουδαίαν', 'τᾶς', 'ἰσραὴλ', 'ἱεροσολύμων', 'ἱεροσολύμοις', 'ἰουδαῖοι', 'μωυσῆς', 'μιχαὴλ', 'ἀσσυρίων', 'ἰούδα', 'καίσαρα', 'καῖσαρ', 'ἀβραὰμ', 'ἰακὼβ', 'κωνσταντῖνος', 'κωνσταντίνου', 'ἐκπέμπει', 'ἀλεξανδρείας', 'ἀντιπάτρου', 'ἀντιλήψεις', 'μωυσέως', 'ἀλώπηξ', 'ἀντίοχος', 'ἀντιοχείας', 'πατριάρχου', 'ἀρχιερέως', 'σίμων', 'ἰωάννην', 'προφήτου', 'ῥητοῦ', 'κατακλυσμοῦ', 'ἰδεῶν', 'γαλιλαίας', 'ἑρμηνεία', 'ἀντιόχου', 'ἀγάπης', 'ἱερουσαλὴμ', 'αἰχμαλωσίας'], ['ἰουδαίους', 'ἡρώδης', 'ἱεροσόλυμα', 'ἐβασίλευσε', 'ἱεροσολύμων', 'ἡρώδου', 'πρε', 'ἑβραίων', 'ἰουδαίαν', 'καῖσαρ', 'ἰουδαίοις', 'ἰουδαῖοι', 'μιχαὴλ', 'ἡρώδην', 'ἰσραὴλ', 'θεόπομπος', 'ἐπίσκοπος', 'ἀδὰμ', 'ἰούδα', 'δημάδης', 'μωυσῆς', 'ἀρχιερέως', 'ἰωάννην', 'ἀντιπάτρου', 'ἰσραηλιτῶν', 'ὑπερείδης', 'ἐντολῶν', 'λυσίας', 'δυναστεία', 'κωνσταντῖνος', 'ἀσσυρίων', 'ἐκπέμπει', 'ἀγάπης', 'κτησιφῶντος', 'καίσαρα', 'ἱεροσολύμοις', 'χαλδαίων', 'ἀρχιερέα', 'δημοσθένους', 'θηβαίων', 'ἀγρίππας', 'ἡρώδῃ', 'ἱεροσολυμιτῶν', 'σίμων', 'ἰώσηπος', 'ἀρχιερεὺς', 'αἰσχίνης', 'ἀντιοχείας', 'ἀντιόχου', 'συμεὼν'], ['λυσίας', 'ἡρώδης', 'ἱεροσολύμων', 'ἰσαῖος', 'κτησιφῶντος', 'ἰουδαίους', 'ἰουδαίοις', 'ἡρώδου', 'ἱεροσόλυμα', 'ἡρώδην', 'ὑπερείδης', 'καῖσαρ', 'μωυσῆς', 'αἰσχίνης', 'ἐβασίλευσε', 'ἰουδαίαν', 'ἑβραίων', 'ἀντιφῶν', 'θεόπομπος', 'ἰσοκράτης', 'γνήσιος', 'δημάδης', 'ἰσραὴλ', 'ἐπίσκοπος', 'δείναρχος', 'ἰουδαῖοι', 'ἀντιπάτρου', 'ἰούδα', 'λυκοῦργος', 'ἀσσυρίων', 'ἀντίπατρος', 'ἀρχιερέως', 'μιχαὴλ', 'ἡρώδῃ', 'ῥητορικὴ', 'ἀντίοχος', 'ἰδεῶν', 'χαλδαίων', 'ἱεροσολύμοις', 'σίμων', 'ἰουδαίας', 'ὑρκανὸν', 'ἰώσηπος', 'ἀδὰμ', 'φιλιππικοῖς', 'ἰσραηλιτῶν', 'καίσαρα', 'ξένε', 'ἐκπέμπει', 'δημοσθένους'], ['ἡρώδης', 'ἡρόδωρος', 'ἐβασίλευσε', 'ἰουδαίους', 'ἰσραὴλ', 'ἡρακλείδης', 'ἱεροσόλυμα', 'ἡρώδου', 'ἰουδαίοις', 'ἰούδα', 'ἐπίσκοπος', 'ἱεροσολύμων', 'ἀδὰμ', 'ἡρώδην', 'ἰουδαῖοι', 'θεόπομπος', 'ἰουδαίαν', 'δυναστεία', 'ἀσσυρίων', 'καῖσαρ', 'ἑβραίων', 'κωνσταντίνου', 'μιχαὴλ', 'ἀλώπηξ', 'ἰνδῶν', 'ἱερουσαλὴμ', 'ἱεροσολύμοις', 'νῶε', 'ἀντιοχείας', 'ἀγάπης', 'αἰσχίνης', 'ἡρώδῃ', 'λυσίας', 'κτησιφῶντος', 'μωυσῆς', 'ἀβραὰμ', 'χαλδαίων', 'θηβαίων', 'ἑρμηνεία', 'πρε', 'ξὺν', 'ἰωσὴφ', 'ἰσαῖος', 'ἀρχιερέως', 'κωνσταντῖνος', 'αὐτοκράτωρ', 'ποντικὸς', 'ὑπερείδης', 'ἰσοκράτης', 'προφήτου'], ['θεόπομπος', 'προσῆλθε', 'φλυαρία', 'ἐβασίλευσε', 'ἡρώδης', 'λυσίας', 'ἡρώδου', 'ἑρμηνεία', 'ἰούδα', 'ἀλώπηξ', 'ἱεροσολύμων', 'φιλιππικῶν', 'ἰουδαίους', 'δημάδης', 'μωυσῆς', 'ἰσραὴλ', 'ἐθέλοντα', 'ἀδὰμ', 'ἐπίσκοπος', 'ἀγάπης', 'ἐντὶ', 'ἡρώδην', 'καῖσαρ', 'ὑπερείδης', 'ταλάντων', 'ἰουδαῖοι', 'ἰσαῖος', 'ἑβραίων', 'ἱεροσόλυμα', 'κωνσταντίνου', 'ἀσσυρίων', 'κτησιφῶντος', 'ἱεροσολύμοις', 'πιθήκους', 'αἰσχίνης', 'ἐντολῶν', 'κωνσταντῖνος', 'ἰουδαίοις', 'ἰσοκράτης', 'μιχαὴλ', 'ἀβραὰμ', 'ἱερεῦσιν', 'τουτονὶ', 'ἰσραηλιτῶν', 'ἰουδαίαν', 'ξένε', 'θεοφάνης', 'αἰὲν', 'μαγειρικὴν', 'γνήσιος'], ['ἡρώδου', 'ἡρώδης', 'ἰουδαίους', 'ἡρακλείδης', 'ἱεροσόλυμα', 'μιχαὴλ', 'ἱεροσολύμων', 'ἐβασίλευσε', 'ἰουδαίοις', 'ἀλώπηξ', 'ἡρώδην', 'ἐπίσκοπος', 'μωυσῆς', 'ἑρμηνεία', 'ἀσσυρίων', 'ἀβραὰμ', 'καῖσαρ', 'ἑβραίων', 'ἐκπέμπει', 'λυσίας', 'θεόπομπος', 'ἀδὰμ', 'βουλγάρων', 'κωνσταντίνου', 'ἰουδαῖοι', 'κωνσταντῖνος', 'ἀρχιερέως', 'ἰσραὴλ', 'ἰουδαίαν', 'τίτος', 'ἰούδα', 'ἱεροσολύμοις', 'νικῶσιν', 'ποντικὸς', 'ὑρκανὸν', 'ἰσαῖος', 'προφήτου', 'αἰσχίνης', 'κτησιφῶντος', 'ἀντιοχείας', 'ἰσραηλιτῶν', 'ὑπερείδης', 'ἀντιπάτρου', 'ἀγρίππας', 'δημοσθένους', 'ἰωάννην', 'κωνσταντῖνον', 'ἰακὼβ', 'ξένε', 'ἀλεξανδρείας'], ['ἀκουσίλαος', 'ἐβασίλευσε', 'ἡρακλείδης', 'ἡρώδης', 'ἡρώδου', 'καῖσαρ', 'ἱεροσολύμων', 'ξένε', 'ἰουδαίους', 'ἰουδαίοις', 'ἀλώπηξ', 'ἱεροσόλυμα', 'θεόπομπος', 'ἀσσυρίων', 'ἰσραὴλ', 'ἀδὰμ', 'ἑρμηνεία', 'ἐπίσκοπος', 'θηβαίων', 'δυναστεία', 'ἰουδαίαν', 'μωυσῆς', 'ἰδεῶν', 'ἰούδα', 'ἰνδῶν', 'ἡρώδην', 'μιχαὴλ', 'ἑβραίων', 'κωνσταντίνου', 'ἱεροσολύμοις', 'κωνσταντῖνος', 'ἀντιόχου', 'ἐγέννησε', 'ξὺν', 'ποντικὸς', 'ἀλεξανδρείας', 'ἀβραὰμ', 'δείσας', 'καίσαρα', 'ἱερουσαλὴμ', 'λυσίας', 'κωνσταντῖνον', 'πατριάρχου', 'ἀντιοχείας', 'ἑρμηνεύεται', 'καʹ', 'ἰουδαῖοι', 'ἰσραηλιτῶν', 'ἀρχιερέως', 'ἀντιπάτρου'], ['ἐβασίλευσε', 'ἡρώδης', 'ἱεροσόλυμα', 'ἡρώδου', 'ἐπίσκοπος', 'ἱεροσολύμων', 'ἰούδα', 'ἰσραὴλ', 'ἰουδαίοις', 'ἰουδαίαν', 'ἰουδαίους', 'ἀσσυρίων', 'ἀδὰμ', 'νῶε', 'ἡρώδην', 'ἀβραὰμ', 'ἑβραίων', 'ἰουδαῖοι', 'κατακλυσμοῦ', 'δυναστεία', 'κωνσταντῖνος', 'προφήτου', 'καʹ', 'θηβαίων', 'αἰχμαλωσίας', 'ἱεροσολύμοις', 'ἑρμηνεύεται', 'ἀντιοχείας', 'ἰουδαίας', 'ἀρχιερέως', 'χαλδαίων', 'σαρκώσεως', 'μιχαὴλ', 'ἱερουσαλὴμ', 'κβʹ', 'ἀντιπάτρου', 'μωυσέως', 'ἰακὼβ', 'ἑρμηνεία', 'ἀντίοχος', 'ἀλεξανδρείας', 'ἰωσὴφ', 'ἀρχιερεὺς', 'ἡρώδῃ', 'κωνσταντῖνον', 'ξένε', 'καῖσαρ', 'κθʹ', 'τίτος', 'ἀντιόχου'], ['ἡρακλείδης', 'ἡρώδης', 'ἰουδαίους', 'ἡρώδου', 'ἡρόδωρος', 'ἱεροσολύμων', 'ἰουδαίοις', 'ἐβασίλευσε', 'ἰούδα', 'μωυσῆς', 'ἱεροσόλυμα', 'ἡρώδην', 'ἐπίσκοπος', 'ἰσραὴλ', 'ἰουδαίαν', 'ἰνδῶν', 'ποντικὸς', 'ἀσσυρίων', 'καῖσαρ', 'ἱεροσολύμοις', 'μιχαὴλ', 'ἰουδαῖοι', 'ἀγάπης', 'ἀλώπηξ', 'κωνσταντῖνος', 'κωνσταντίνου', 'καίσαρα', 'ἐκπέμπει', 'ἰσραηλιτῶν', 'ξένε', 'ἑβραίων', 'ἀρχιερέα', 'ἀγρίππας', 'προφήτου', 'ἐντολῶν', 'αὐτοκράτωρ', 'ἀρχιερεὺς', 'θεόπομπος', 'χαλδαίων', 'ἀντιοχείας', 'ἀδὰμ', 'ἀρχιερέως', 'φήσαντος', 'νῶε', 'ἀντίοχος', 'ἑρμηνεία', 'ἀπολλώνιον', 'ἰησοῦν', 'τίτος', 'ὑπέστρεψεν'], ['στησίμβροτος', 'ἐβασίλευσε', 'ἰουδαίους', 'ἡρώδου', 'ἡρώδης', 'μιχαὴλ', 'ἱεροσόλυμα', 'κωνσταντίνου', 'καῖσαρ', 'κωνσταντῖνος', 'ἰωάννην', 'ἰουδαίοις', 'ἀντιοχείας', 'κωνσταντῖνον', 'μωυσῆς', 'ἰνδῶν', 'ἐπίσκοπος', 'ἰουδαίαν', 'ἀδὰμ', 'ἰνδικτιῶνος', 'ἱεροσολύμων', 'βασίλειος', 'συμεὼν', 'ἀλώπηξ', 'ἰουδαῖοι', 'ἰσραὴλ', 'ἐκπέμπει', 'πολιορκίαν', 'ἰούδα', 'ἀράβων', 'ἱεροσολύμοις', 'πατριάρχου', 'ἀγάπης', 'ἡρώδην', 'ἀβραὰμ', 'ἐντολῶν', 'πατριάρχης', 'ἑβραίων', 'ἑρμηνεύεται', 'ἀρχιερέως', 'συγκλήτου', 'ἡρώδῃ', 'ξένε', 'θεόπομπος', 'ἰακὼβ', 'παλατίου', 'ἀρχιερεὺς', 'ἑρμηνεία', 'ἀντιπάτρου', 'βασιλείου'], ['πρε', 'τρι', 'ὁσίου', 'παναγίας', 'σύρου', 'ἐφραίμ', 'θεόπομπος', 'ἐβασίλευσε', 'ἡρόδωρος', 'ἡρώδης', 'ἱεροσολύμων', 'ἰουδαίους', 'ἡρώδου', 'ἀδὰμ', 'ὑπερείδης', 'ἱεροσόλυμα', 'ἐπίσκοπος', 'ἀβραὰμ', 'ἰδεῶν', 'λυσίας', 'ἰούδα', 'ἰσαῖος', 'ἰσραὴλ', 'ἀσσυρίων', 'ἰουδαίοις', 'ἀλώπηξ', 'ἰουδαίαν', 'δημοσθένους', 'κτησιφῶντος', 'νῶε', 'στάσεων', 'τερ', 'δείναρχος', 'λυκοῦργος', 'ἰωάννην', 'ἰουδαῖοι', 'ἰνδῶν', 'μωυσῆς', 'ἑρμηνεία', 'ἑβραίων', 'ἀντιοχείας', 'ἀγάπης', 'ἀλεξανδρείας', 'ἀντιφῶν', 'καῖσαρ', 'μιχαὴλ', 'ἡρώδην', 'ἀρχιερέως', 'ἰακὼβ', 'ἱερουσαλὴμ'], ['θεόπομπος', 'πρε', 'ἡρώδης', 'μιχαὴλ', 'ἄθεος', 'ἐβασίλευσε', 'ἱεροσόλυμα', 'ἡρώδου', 'ἰουδαίους', 'ἰουδαίοις', 'φιλιππικῶν', 'ἀδὰμ', 'μωυσῆς', 'ἱεροσολύμων', 'ἰουδαῖοι', 'ἰούδα', 'ἡρώδην', 'ὑπερείδης', 'ἱεροσολύμοις', 'κωνσταντῖνος', 'ἑβραίων', 'ἰσραὴλ', 'σύρου', 'καῖσαρ', 'κωνσταντίνου', 'λυσίας', 'ἐπίσκοπος', 'τρι', 'ἑρμόδωρος', 'ἱππῶναξ', 'ἐφραίμ', 'ὁσίου', 'κτησιφῶντος', 'ἀγάπης', 'ἰουδαίαν', 'ἐκπέμπει', 'συμεὼν', 'ἰουδαίας', 'ἀρχιερέως', 'θεραπευόμενον', 'ἰωάννην', 'ἀλώπηξ', 'ἡρώδῃ', 'ῥηγῖνος', 'διονύσιον', 'καίσαρα', 'βασιλείου', 'ἀντιοχείας', 'γνήσιος', 'κρατῖνος'], ['πρε', 'ὁσίου', 'ἐφραίμ', 'σύρου', 'τρι', 'παναγίας', 'ἐβασίλευσε', 'ἰουδαίους', 'ἀδὰμ', 'ἰσραὴλ', 'ἡρώδης', 'ἡρώδου', 'ἐπίσκοπος', 'ἱεροσολύμων', 'ἀβραὰμ', 'ἱεροσόλυμα', 'ἰουδαίοις', 'ἑρμηνεία', 'ἀγάπης', 'μωυσῆς', 'ἰουδαίαν', 'μιχαὴλ', 'ἐντολῶν', 'ἑβραίων', 'καῖσαρ', 'ἰδεῶν', 'ἡρώδην', 'ἀσσυρίων', 'ἀπόστολος', 'ἰούδα', 'ἰουδαῖοι', 'ἱεροσολύμοις', 'νῶε', 'ἀντιόχου', 'ἀντιοχείας', 'ἰωσὴφ', 'πάσχα', 'ξένε', 'μωυσέως', 'κωνσταντίνου', 'ἐκπέμπει', 'κον', 'μέθοδος', 'ἰσραηλιτῶν', 'ἑρμηνεύεται', 'ἀλώπηξ', 'καίσαρα', 'ὑπερείδης', 'χαλδαίων', 'κατακλυσμοῦ'], ['πρε', 'τρι', 'σύρου', 'παναγίας', 'ὁσίου', 'ἐφραίμ', 'κον', 'τερ', 'μονα', 'στάσεων', 'ἡρώδης', 'ἰδεῶν', 'ἰωάννην', 'ἐβασίλευσε', 'ποίησις', 'μιχαὴλ', 'ἱεροσολύμων', 'ἐπίσκοπος', 'ἰσραὴλ', 'διο', 'ἡρώδου', 'ἰουδαίους', 'τρο', 'ἱεροὶ', 'ἰούδα', 'ἱεροσολύμοις', 'ἑρμηνεία', 'ἀδὰμ', 'ἱεροσόλυμα', 'ἑβραίων', 'χαλδαίων', 'ἡρώδην', 'προσῳδιῶν', 'κλίσεως', 'μωυσῆς', 'ἐπιστολαί', 'ἀσσυρίων', 'διήγησις', 'προτρεπτικὸς', 'ὑπομνήματα', 'ιον', 'ἀβραὰμ', 'ἰουδαῖοι', 'κωνσταντῖνος', 'κωνσταντίνου', 'ἄρατος', 'ἰουδαίοις', 'στίχων', 'πτολεμαῖον', 'μωυσέως'], ['ἱεροσόλυμα', 'ἱεροσολύμων', 'ἀλώπηξ', 'ἡρώδης', 'καῖσαρ', 'ἡρώδην', 'θεόπομπος', 'ἀδὰμ', 'λυσίας', 'ἰουδαίους', 'ἡρώδου', 'μωυσῆς', 'ἰουδαῖοι', 'ἐβασίλευσε', 'ὑπερείδης', 'ἰσραὴλ', 'ἱεροσολύμοις', 'ἑρμηνεία', 'ἰούδα', 'ἰουδαίοις', 'ἰουδαίαν', 'ἰσαῖος', 'ἀγάπης', 'ἐπίσκοπος', 'κωνσταντῖνος', 'ἀντιφῶν', 'μαγνησίας', 'ἀλεξανδρείας', 'ἐκπέμπει', 'ἀσσυρίων', 'ἑβραίων', 'ἀντιοχείας', 'πρε', 'κτησιφῶντος', 'ἰδεῶν', 'ἀντιόχου', 'ἀράβων', 'μιχαὴλ', 'ἀρχιερέως', 'ἐντολῶν', 'αἰσχίνης', 'ἀβραὰμ', 'ἰουδαίας', 'ὑρκανὸν', 'ξένε', 'γνήσιος', 'ξανθὸν', 'κωνσταντίνου', 'καίσαρα', 'καίσαρι'], ['ἡρόδωρος', 'ἡρώδης', 'ἡρώδου', 'ἐβασίλευσε', 'ἱεροσολύμων', 'ἀλώπηξ', 'μωυσῆς', 'ἱεροσολύμοις', 'ἰουδαίους', 'ἰουδαῖοι', 'αἰήτου', 'ἱεροσόλυμα', 'ἀδὰμ', 'θησέα', 'ἰουδαίοις', 'ἡρακλεώτης', 'ἰούδα', 'ἀργοναύταις', 'καῖσαρ', 'ἡρώδην', 'γυπὸς', 'ἀσσυρίων', 'ἑρμηνεία', 'κόλχων', 'ἰσραὴλ', 'ἑβραίων', 'λυσίας', 'ἐπίσκοπος', 'μίλητος', 'ἐθνικὸν', 'ἰουδαίαν', 'βωμοῦ', 'ἀτυχίας', 'ἀετὸν', 'θνητὸς', 'θησέως', 'ἀβραὰμ', 'θεόπομπος', 'κῶας', 'ὀμφάλῃ', 'φερεκύδης', 'ἀλεξανδρείας', 'ἀντιοχείας', 'ἡρώδῃ', 'βολῶν', 'φρύγας', 'δέσποτ', 'ἡρακλείας', 'ἐραστής', 'καίσαρα'], ['ἡρακλείδης', 'ἐβασίλευσε', 'ἡρώδης', 'μιχαὴλ', 'ἱεροσόλυμα', 'ἑρμηνεία', 'ἐπίσκοπος', 'ἀδὰμ', 'ἱεροσολύμων', 'ἡρώδου', 'ἰουδαίους', 'ἰουδαίοις', 'γοργίου', 'ποντικὸς', 'δυναστεία', 'ἰούδα', 'ἑβραίων', 'ἀλώπηξ', 'ἡρώδην', 'θεόπομπος', 'ἀντιοχείας', 'ἀσσυρίων', 'ἰσραὴλ', 'κωνσταντῖνος', 'μέθοδον', 'μωυσῆς', 'ἱερουσαλὴμ', 'ξένε', 'ἱεροσολύμοις', 'ἰδεῶν', 'καῖσαρ', 'κγʹ', 'ἰουδαῖοι', 'ἰουδαίαν', 'χαλδαίων', 'θηβαίων', 'λυσίας', 'ἀντιόχου', 'κωνσταντίνου', 'ἀβραὰμ', 'δημοσθένους', 'ἰσαῖος', 'ἀρχιερέως', 'ἰωσὴφ', 'ἰωάννην', 'βασιλείου', 'λαμπρότητος', 'ἐκπέμπει', 'εὐσέβιος', 'ἐβασίλευσαν'], ['μιχαὴλ', 'ἡρώδης', 'γοργίου', 'ἐβασίλευσε', 'ἰουδαίους', 'θεόπομπος', 'ἡρόδωρος', 'κωνσταντῖνον', 'ἡρώδου', 'λυσίας', 'ὑπερείδης', 'ἱεροσολύμων', 'λόγωι', 'κωνσταντῖνος', 'κωνσταντίνου', 'ἰωάννην', 'ἡρώδην', 'ἰούδα', 'ἰνδικτιῶνος', 'καῖσαρ', 'ἀλώπηξ', 'ἰσραὴλ', 'ἱεροσόλυμα', 'ἐκπέμπει', 'βουλγάρων', 'ἀδὰμ', 'συμεὼν', 'πατρίκιον', 'πατρίκιος', 'γοργίαν', 'ἐπίσκοπος', 'ῥητορικὴ', 'βασιλείου', 'ἱεροσολύμοις', 'αἰσχίνης', 'ξένε', 'ἑρμηνεία', 'λεοντῖνος', 'βασίλειος', 'κτησιφῶντος', 'ἀσσυρίων', 'ἰουδαίοις', 'ἰουδαῖοι', 'ἰσαῖος', 'ἀβραὰμ', 'ἀντιόχου', 'ἀγάπης', 'πατριάρχης', 'μωυσῆς', 'πατριάρχου'], ['ἡρώδης', 'ἱεροσόλυμα', 'μιχαὴλ', 'ἡρώδου', 'κωνσταντίνου', 'ἱεροσολύμων', 'καῖσαρ', 'ἐβασίλευσε', 'θεόπομπος', 'ἰουδαίους', 'ἐπίσκοπος', 'κωνσταντῖνος', 'ἐπισκόπων', 'ἰουδαίοις', 'ἰνδῶν', 'ἰούδα', 'ἡρώδην', 'ἰουδαῖοι', 'ἑβραίων', 'ἡρακλείδης', 'μωυσῆς', 'ἀντιόχου', 'πολύκαρπος', 'ἀντιοχείας', 'καλχηδόνι', 'κωνσταντῖνον', 'ἑρμηνεία', 'ἐπισκόπου', 'ἀσσυρίων', 'ἰσραὴλ', 'ἐκπέμπει', 'ἡρώδῃ', 'ἱεροσολύμοις', 'ἀδὰμ', 'βασιλείου', 'ἀρχιερεὺς', 'συμεὼν', 'ἀντιπάτρου', 'αὐτοκράτωρ', 'ἰουδαίαν', 'ἀλώπηξ', 'ἰωάννην', 'συγκλήτου', 'ἀγάπης', 'ἰουδαίας', 'ἀράβων', 'ἀρχιερέως', 'ξένε', 'μέθοδον', 'ἀλεξανδρείας'], ['μιχαὴλ', 'ἡρακλείδης', 'ἡρώδης', 'ἄρατος', 'ἡρώδου', 'ἀκουσίλαος', 'ἀγάπης', 'ἰουδαίους', 'ἐκπέμπει', 'θεόπομπος', 'βουλγάρων', 'ἀλώπηξ', 'ἡρόδωρος', 'κωνσταντίνου', 'συμεὼν', 'ποντικὸς', 'ἀδὰμ', 'ἰνδικτιῶνος', 'κωνσταντῖνος', 'ἱεροσόλυμα', 'περσέως', 'ἐβασίλευσε', 'ὑπολαβὼν', 'καῖσαρ', 'ξένε', 'ἱεροσολύμων', 'ἑρμηνεία', 'ἰουδαίοις', 'ἑβραίων', 'ἰσραὴλ', 'ἰωάννην', 'βασιλίδα', 'κωνσταντῖνον', 'ἰουδαίαν', 'βασιλείου', 'ἐντολῶν', 'ἐπίσκοπος', 'ἰνδῶν', 'μωυσῆς', 'ἰδεῶν', 'ἰούδα', 'σαρακηνῶν', 'ἤρετο', 'πατρίκιον', 'ἥβην', 'ἡρώδην', 'ἰουδαῖοι', 'ἱεροσολύμοις', 'πατρίκιος', 'φαινομένοις'], ['ἡρώδης', 'ἱεροσολύμων', 'ἡρώδου', 'ἰουδαίους', 'θεόπομπος', 'ἱεροσόλυμα', 'καῖσαρ', 'ἡρακλείδης', 'ἡρώδην', 'ἰουδαίοις', 'μιχαὴλ', 'ἐβασίλευσε', 'ἰουδαίαν', 'μωυσῆς', 'κωνσταντίνου', 'ἀντιοχείας', 'ἑβραίων', 'ἐπίσκοπος', 'ἰούδα', 'κωνσταντῖνος', 'ἀδὰμ', 'ἰουδαίας', 'ἰνδῶν', 'ἰωάννην', 'ἐκπέμπει', 'καίσαρα', 'κωνσταντῖνον', 'ἀλώπηξ', 'ἀσσυρίων', 'ἀντιόχου', 'ἑρμηνεία', 'ἀντίοχος', 'ἱεροσολύμοις', 'ἀρχιερέα', 'ἀρχιερέως', 'ἰουδαῖοι', 'ἀγρίππας', 'βουλγάρων', 'ἡρώδῃ', 'ὑρκανὸν', 'ἀρχιερεὺς', 'ἰσραὴλ', 'ἰσραηλιτῶν', 'σίμων', 'προφήτου', 'ξὺν', 'γαλιλαίας', 'ἤρετο', 'ποντικὸς', 'ἰώσηπον'], ['θεόπομπος', 'ῥητορικὴ', 'ἡρώδης', 'ἡρώδου', 'φιλιππικῶν', 'ἐβασίλευσε', 'ἱεροσόλυμα', 'ἰουδαίους', 'ὁρισμὸν', 'ἀγάπης', 'μιχαὴλ', 'ῥητορικὴν', 'ῥητορική', 'ἀλώπηξ', 'ἑβραίων', 'κωνσταντίνου', 'ἐπίσκοπος', 'ἰσραὴλ', 'ὁρισμοῦ', 'ἱεροσολύμων', 'αἰσχίνης', 'λυσίας', 'ἰουδαίαν', 'διαφορῶν', 'μωυσῆς', 'κτησιφῶντος', 'ἰουδαίοις', 'ἰσαῖος', 'καῖσαρ', 'ξένε', 'ἀσσυρίων', 'νοημάτων', 'ἀντιοχείας', 'ζητεῖται', 'καταγίνεται', 'ἀδὰμ', 'ἰουδαῖοι', 'ἱεροσολύμοις', 'ἰσοκράτης', 'ἰδεῶν', 'καίσαρα', 'ἰούδα', 'ὑπερείδης', 'κωνσταντῖνος', 'ἡρώδην', 'μέθοδον', 'ἑρμηνεία', 'νῶε', 'ἀλεξανδρείας', 'βασιλείου'], ['ἡρώδης', 'ἱεροσολύμων', 'ἰουδαίους', 'ἐβασίλευσε', 'ἡρώδου', 'ἀσσυρίων', 'κωνσταντῖνος', 'ἡρώδην', 'καῖσαρ', 'ἐπίσκοπος', 'ἀντιοχείας', 'ἀδὰμ', 'θεόπομπος', 'ἱεροσόλυμα', 'ἰσραὴλ', 'ἀβραὰμ', 'κωνσταντῖνον', 'μιχαὴλ', 'ἰουδαίαν', 'ἰουδαίοις', 'χαλδαίων', 'ἱεροσολύμοις', 'κωνσταντίνου', 'ἰουδαῖοι', 'δείσας', 'ἰωάννην', 'ἰούδα', 'ἐντολῶν', 'ἀγάπης', 'ἀλώπηξ', 'μωυσῆς', 'μωυσέως', 'ἑρμηνεία', 'ἐκπέμπει', 'ἱππεῖς', 'ἀρχιερέως', 'ἀρχιερεὺς', 'ἑβραίων', 'ἰνδῶν', 'ξένε', 'ἱερουσαλὴμ', 'καίσαρα', 'ἰσραήλ', 'ἀρχιερέα', 'ἀλεξανδρείας', 'βασιλείου', 'ἰωσὴφ', 'συμεὼν', 'ξὺν', 'ἐγέννησε'], ['ἐβασίλευσε', 'ἡρώδης', 'θεόπομπος', 'ἡρώδου', 'ἰουδαίοις', 'ἀδὰμ', 'ἀλώπηξ', 'ἔφεσον', 'ἱεροσόλυμα', 'ἰσραὴλ', 'ἐπίσκοπος', 'ἰούδα', 'ἑβραίων', 'ἰουδαίους', 'ἡρώδην', 'θηβαίων', 'λυσίας', 'δυναστεία', 'κλειτοφῶν', 'ἀβραὰμ', 'ἀγάπης', 'ἑρμηνεία', 'μωυσῆς', 'ἀσσυρίων', 'νῶε', 'γνήσιος', 'ἰουδαῖοι', 'μιχαὴλ', 'ἰακὼβ', 'ἑρμηνεύεται', 'ἱεροσολύμων', 'κωνσταντίνου', 'δημάδης', 'ὑπερείδης', 'ἀντίοχος', 'αἰσχίνης', 'ἰσραηλιτῶν', 'ἰσοκράτης', 'ἀντιόχου', 'ἰωάννην', 'καῖσαρ', 'κτησιφῶντος', 'ἱεροσολύμοις', 'ῥητορικὴ', 'δείναρχος', 'ἀρχιερέως', 'ἱερουσαλὴμ', 'ἀντιπάτρου', 'πολιορκίαν', 'ἰδεῶν'], ['τᾶς', 'ἡρώδης', 'ἰουδαίους', 'ἡρακλείδης', 'ἡρώδου', 'ἰουδαίαν', 'ἱεροσολύμων', 'ἱεροσόλυμα', 'μωυσῆς', 'ἡρώδην', 'ἐβασίλευσε', 'καῖσαρ', 'ἑβραίων', 'κωνσταντῖνος', 'ἰουδαῖοι', 'ἀσσυρίων', 'ἰούδα', 'ἱεροσολύμοις', 'ἰουδαίοις', 'μιχαὴλ', 'ἐπίσκοπος', 'ἰσραὴλ', 'καίσαρα', 'ποντικὸς', 'λυσίας', 'ἰσραηλιτῶν', 'ἀλώπηξ', 'ἀντιπάτρου', 'ἀγρίππας', 'ἀρχὰν', 'ἀδὰμ', 'ἀρχιερέως', 'ἀντιοχείας', 'ξένε', 'ἀντίοχος', 'καίσαρι', 'ἀρχιερέα', 'αἰσχίνης', 'προφήτου', 'καλχηδόνι', 'κωνσταντίνου', 'ἰωάννην', 'ἀντιόχου', 'ἀντίπατρος', 'ἀρχιερεὺς', 'κατακλυσμοῦ', 'ὑπερείδης', 'ἰωσήπου', 'ἀβραὰμ', 'ὑρκανὸν'], ['θεόπομπος', 'ἐβασίλευσε', 'ἡρώδου', 'ἡρώδης', 'ἰουδαίους', 'ἱεροσόλυμα', 'ἐπίσκοπος', 'ἰσραὴλ', 'ἰουδαίοις', 'καῖσαρ', 'ἱεροσολύμων', 'ἀσσυρίων', 'ἰουδαίαν', 'ἡρώδην', 'λυσίας', 'ἱεροσολύμοις', 'ἀβραὰμ', 'ἰούδα', 'μιχαὴλ', 'ἐγέννησε', 'ἰωάννην', 'ἀγάπης', 'μωυσῆς', 'ἱερουσαλὴμ', 'κωνσταντίνου', 'ὑπερείδης', 'ἀλεξανδρείας', 'ἰουδαῖοι', 'ἑβραίων', 'προφήτου', 'ἀδὰμ', 'φιλιππικῶν', 'δημάδης', 'ἰνδῶν', 'ἐκπέμπει', 'ἰωσὴφ', 'μωυσέως', 'ἰσραηλιτῶν', 'νῶε', 'χαλδαίων', 'ἀριστοβούλου', 'ὑρκανὸν', 'ἀρχιερέως', 'ἀλώπηξ', 'ἀντιπάτρου', 'κωνσταντῖνος', 'γαΐου', 'ἰουδαίας', 'ἀντιόχου', 'ἀντίοχος'], ['ἐβασίλευσε', 'ἡρώδης', 'ἡρώδου', 'μιχαὴλ', 'ἰουδαίους', 'ἰσραὴλ', 'ἡρακλείδης', 'ἰούδα', 'ἱεροσολύμων', 'καῖσαρ', 'ἀλώπηξ', 'ἱεροσόλυμα', 'ἀδὰμ', 'ἰουδαίαν', 'μωυσῆς', 'ἑβραίων', 'ἰουδαίοις', 'ἀντιοχείας', 'ἑρμηνεία', 'ἰνδῶν', 'ἐπίσκοπος', 'ἰουδαῖοι', 'ἀβραὰμ', 'ἐγέννησε', 'μωυσέως', 'ἀγάπης', 'ἀσσυρίων', 'ἐκπέμπει', 'νῶε', 'ἡρώδην', 'ἰακὼβ', 'θεόπομπος', 'κωνσταντῖνος', 'ἀντιόχου', 'ἰωάννην', 'βασιλείου', 'ἐντολῶν', 'ἀράβων', 'βουλγάρων', 'κωνσταντῖνον', 'ἱεροσολύμοις', 'προφήτου', 'ἰουδαίας', 'πατρίκιον', 'καίσαρα', 'ἰωσὴφ', 'ἡρώδῃ', 'κωνσταντίνου', 'βασίλειος', 'κατακλυσμοῦ'], ['ἐβασίλευσε', 'ἡρώδης', 'ἡρώδου', 'μιχαὴλ', 'ἐπίσκοπος', 'ἱεροσολύμων', 'ἱεροσόλυμα', 'ἑρμηνεία', 'ἀλώπηξ', 'ἡρώδην', 'καῖσαρ', 'δυναστεία', 'ἰουδαίους', 'ἰουδαῖοι', 'ἰσραὴλ', 'ἰούδα', 'κωνσταντῖνος', 'ἰουδαίοις', 'ἰουδαίαν', 'κωνσταντίνου', 'ἀδὰμ', 'μωυσῆς', 'μωυσέως', 'ἀβραὰμ', 'ἐκπέμπει', 'ἱερουσαλὴμ', 'θηβαίων', 'κωνσταντῖνον', 'ἐγέννησε', 'ἑβραίων', 'ἀσσυρίων', 'βασιλείου', 'ἰωάννην', 'ἰουδαίας', 'ἀράβων', 'νῶε', 'ἀλεξανδρείας', 'ἱεροσολύμοις', 'ἀρχιερέα', 'ἰσραηλιτῶν', 'ἀντιοχείας', 'ξένε', 'ἐβασίλευσαν', 'ἀρχιερέως', 'συμεὼν', 'βασίλειος', 'λυσίας', 'χαλδαίων', 'κβʹ', 'κατακλυσμοῦ'], ['ἡρώδης', 'ἱεροσόλυμα', 'ἰουδαίους', 'ἱεροσολύμων', 'ἡρώδην', 'ἡρώδου', 'ἀλώπηξ', 'καῖσαρ', 'ἰουδαίοις', 'κωνσταντῖνος', 'μωυσῆς', 'ἰουδαίαν', 'μιχαὴλ', 'ξένε', 'ἐκπέμπει', 'ἰωάννην', 'ἑρμηνεία', 'ἑβραίων', 'ἰουδαῖοι', 'ἰνδῶν', 'ἰνδικτιῶνος', 'ἱεροσολύμοις', 'ἐβασίλευσε', 'κωνσταντίνου', 'ἡρώδῃ', 'ἀντιόχου', 'λυσίας', 'κωνσταντῖνον', 'ὑπολαβὼν', 'πολιορκίαν', 'ξὺν', 'ἐόντων', 'κἢν', 'τᾶς', 'ὑρκανὸν', 'ἀρχιερέως', 'ἤρετο', 'βουλγάρων', 'καίσαρα', 'ἀντίοχος', 'τίτος', 'συγκλήτου', 'ἀράβων', 'συμεὼν', 'ἱππεῖς', 'ἀπολλώνιον', 'αὐτοκράτωρ', 'ἰούδα', 'ἀρχιερεὺς', 'βασίλειος'], ['θεόπομπος', 'ἡρώδης', 'καῖσαρ', 'ἰουδαίους', 'ἐβασίλευσε', 'ἡρώδου', 'ἱεροσολύμων', 'ἱεροσόλυμα', 'ἑβραίων', 'μιχαὴλ', 'ἡρακλείδης', 'ξένε', 'ἀδὰμ', 'μωυσῆς', 'ἀλώπηξ', 'καίσαρα', 'κωνσταντίνου', 'ἰουδαίοις', 'ἀγάπης', 'ἰσραὴλ', 'ἰουδαῖοι', 'ἱεροσολύμοις', 'ἡρώδην', 'ἐκπέμπει', 'ἐπίσκοπος', 'ἰουδαίαν', 'ἀσσυρίων', 'κωνσταντῖνος', 'ὑρκανὸν', 'φιλιππικῶν', 'ἰούδα', 'ἀρχιερεὺς', 'ἐντολῶν', 'ἡρώδῃ', 'ἀντιπάτρου', 'δείσας', 'ἑβραίοις', 'ἱππεῖς', 'ἀντίπατρος', 'ἑρμηνεία', 'ἀρχιερέως', 'ἐγέννησε', 'ξὺν', 'ἱερουσαλὴμ', 'ἰουδαίας', 'ἀράβων', 'ἰωάννην', 'ἀρχιερέα', 'βασίλειος', 'πολιορκίαν'], ['θεόπομπος', 'φιλιππικῶν', 'ἡρώδης', 'ἱεροσολύμων', 'ἐβασίλευσε', 'ἰουδαίους', 'ἡρώδου', 'ἰουδαίαν', 'μωυσῆς', 'καῖσαρ', 'ἡρώδην', 'ἰούδα', 'ἱεροσόλυμα', 'ἰουδαῖοι', 'ἐπίσκοπος', 'ἰουδαίοις', 'ἀδὰμ', 'ἀσσυρίων', 'ἀλώπηξ', 'ἱεροσολύμοις', 'ἀντιοχείας', 'ἰσραὴλ', 'θράικης', 'ἀντιπάτρου', 'ἀγάπης', 'ἡρώδῃ', 'ἀρχιερεὺς', 'ἐντολῶν', 'ἑβραίων', 'μιχαὴλ', 'κρήνη', 'πολιορκίαν', 'κωνσταντῖνος', 'στησίμβροτος', 'θεοπόμπου', 'ἀρχιερέως', 'λυσίας', 'ἐκπέμπει', 'ἰουδαίας', 'ὑρκανὸν', 'ἑρμηνεύεται', 'ἀρχιερέα', 'ἰωάννην', 'ἀντιόχου', 'ἀντίοχος', 'ἀράβων', 'κρήνην', 'ἰωσήπου', 'ἐπιχώριοι', 'καίσαρα'], ['δυναστεία', 'ἐβασίλευσε', 'θεόπομπος', 'ἐβασίλευσαν', 'θηβαίων', 'ἡρακλείδης', 'ἰσραὴλ', 'ἐπίσκοπος', 'ἡρώδου', 'ἰούδα', 'κϛʹ', 'ἰουδαίους', 'ἡρώδης', 'ἀβραὰμ', 'ἀσσυρίων', 'ἀδὰμ', 'εἰκοστὴ', 'δυναστειῶν', 'καʹ', 'μιχαὴλ', 'γενεῶν', 'κατακλυσμοῦ', 'μδʹ', 'ἰουδαίαν', 'κθʹ', 'ἰωσὴφ', 'κζʹ', 'κατακλυσμὸν', 'ἱεροσόλυμα', 'καῖσαρ', 'ἱεροσολύμων', 'ἰουδαῖοι', 'κωνσταντῖνος', 'κγʹ', 'μωυσῆς', 'ρλʹ', 'ἐκπέμπει', 'θεμιστοκλῆς', 'ποιμένες', 'δυναστείας', 'ἰακὼβ', 'χαλδαίων', 'ἰωάννην', 'ἀντιοχείας', 'ἱεροσολύμοις', 'μγʹ', 'ἱερουσαλὴμ', 'ἀλεξανδρείας', 'μωυσέως', 'δεδοικὼς'], ['πρε', 'ὁσίου', 'ἐφραίμ', 'παναγίας', 'τρι', 'σύρου', 'τᾶς', 'ἡρώδης', 'λάβ', 'λυσίας', 'ἐβασίλευσε', 'ἰσαῖος', 'ἱεροσόλυμα', 'ἡρακλείδης', 'ὑπερείδης', 'κτησιφῶντος', 'τήνδ', 'ἰουδαίους', 'ἱεροσολύμων', 'γνήσιος', 'ἀντιφῶν', 'ἡρώδην', 'ἑβραίων', 'πιὼν', 'ἀσσυρίων', 'τἀγαθοῦ', 'λευκῶν', 'λέσβιος', 'συγγενέσι', 'μιχαὴλ', 'ἀλγεῖν', 'τραγήματα', 'ἐπονομάσας', 'κάρυα', 'μεστὴν', 'αἰσχίνης', 'μάρων', 'ἔπινεν', 'προλαμβάνοντες', 'ἐπιτίθει', 'ἐπίσκοπος', 'μωυσῆς', 'ἰούδα', 'ἰουδαίοις', 'ἰουδαίαν', 'ἰουδαῖοι', 'ἰωάννην', 'ἰδεῶν', 'καῖσαρ', 'δείναρχος'], ['θεόπομπος', 'ἡρώδης', 'ἐβασίλευσε', 'πρε', 'ἰσραὴλ', 'ἀδὰμ', 'ἐπίσκοπος', 'μιχαὴλ', 'ἡρώδου', 'ἰουδαίους', 'ἀντιοχείας', 'ἀγάπης', 'ἱεροσολύμων', 'ἱεροσόλυμα', 'κωνσταντίνου', 'ἰουδαίοις', 'ἀλώπηξ', 'ἀσσυρίων', 'ἡρώδην', 'ἰνδῶν', 'ἰούδα', 'ἤρετο', 'ἀβραὰμ', 'ἰωάννην', 'τᾶς', 'καῖσαρ', 'ἱεροσολύμοις', 'ἀντιόχου', 'μωυσῆς', 'κωνσταντῖνον', 'κωνσταντῖνος', 'δυναστεία', 'βουλγάρων', 'ξένε', 'χαλδαίων', 'καίσαρα', 'ἀλεξανδρείας', 'ἰουδαῖοι', 'ἰνδικτιῶνος', 'ἐκπέμπει', 'ἐφέσῳ', 'ξὺν', 'θνητὸς', 'φιλιππικῶν', 'κγʹ', 'ἰσραήλ', 'βασίλειος', 'δέσποτ', 'ὑρκανὸν', 'πατρίκιος'], ['ἡρώδης', 'μιχαὴλ', 'ἰουδαίους', 'πολύκαρπος', 'ἱεροσολύμων', 'ἡρώδου', 'ἰουδαῖοι', 'καῖσαρ', 'ἡρώδην', 'ἱεροσόλυμα', 'ἰουδαίαν', 'ἀνθύπατος', 'ἰουδαίοις', 'ἐκπέμπει', 'ἱεροσολύμοις', 'ἀρχιερέως', 'βουλγάρων', 'ἰούδα', 'νικῶσιν', 'ἰωάννην', 'ἡρώδῃ', 'ἑβραίων', 'κωνσταντίνου', 'ἐβασίλευσε', 'ἀλώπηξ', 'ἰσραὴλ', 'βασιλείου', 'κωνσταντῖνος', 'πυθαγόρου', 'ἀράβων', 'ἀδὰμ', 'μωυσῆς', 'ἀρχιερεὺς', 'κωνσταντῖνον', 'ἀντιοχείας', 'ἀντίοχος', 'ἑρμηνεία', 'εὐαγγέλιον', 'ἰωσήπου', 'ὑπολαβὼν', 'ἱππεῖς', 'ἱερουσαλὴμ', 'ἀσσυρίων', 'ἰσοκράτης', 'ξένε', 'ἐπίσκοπος', 'καίσαρι', 'προφήτου', 'ἀγρίππας', 'καθολικῆς'], ['πρε', 'ἡρώδης', 'ἡρώδην', 'ἱεροσολύμων', 'ἐφραίμ', 'ἰουδαίους', 'ἱεροσόλυμα', 'ἡρακλείδης', 'ἡρώδου', 'καῖσαρ', 'σύρου', 'ἰουδαίοις', 'ἐβασίλευσε', 'ἱεροσολύμοις', 'παρμενίδου', 'ὁσίου', 'ἰχθὺν', 'ἀλώπηξ', 'ἅλμῃ', 'μιχαὴλ', 'ἰουδαίαν', 'ἑβραίων', 'ἡρώδῃ', 'μωυσῆς', 'τρι', 'ἑφθὸν', 'ἀσσυρίων', 'ἰουδαῖοι', 'παναγίας', 'ἀδὰμ', 'ἄρατος', 'ἰσραηλιτῶν', 'ἑρμηνεία', 'ἀντιοχείας', 'ἰωάννην', 'ἀγάπης', 'ἰσραὴλ', 'βασιλείου', 'δείσας', 'ἀντίοχος', 'ἀντίπατρος', 'τίτος', 'ὑρκανὸν', 'παρμενίδην', 'ἰνδῶν', 'ἀρχιερέως', 'πολιορκίαν', 'ἀντιόχου', 'πονηρῷ', 'καίσαρα'], ['ἄρατος', 'περσέως', 'ἡρώδης', 'ἐβασίλευσε', 'ἰδεῶν', 'μέθοδος', 'ἡρώδου', 'ἰουδαίους', 'μιχαὴλ', 'ἱεροσολύμων', 'καῖσαρ', 'κωνσταντῖνος', 'μέθοδον', 'φαινομένοις', 'ἀνατέλλειν', 'δημοσθένους', 'ἐπίσκοπος', 'λαμπρότητος', 'ἰωάννην', 'κωνσταντίνου', 'ἰουδαίοις', 'ἰουδαίαν', 'αἰσχίνης', 'ἑρμηνεία', 'βουλγάρων', 'ἰσραὴλ', 'πρε', 'λυσίας', 'ἀντιοχείας', 'κωνσταντῖνον', 'ἔννοιαι', 'ἡρώδην', 'κτησιφῶντος', 'πατριάρχου', 'ἱεροσόλυμα', 'ἑβραίων', 'κῶλα', 'βασιλείου', 'ὑπερείδης', 'ἰσαῖος', 'ἀβραὰμ', 'ἀλώπηξ', 'καίσαρα', 'θεολόγος', 'ἀδὰμ', 'δεινότητος', 'θεόπομπος', 'ἀντιόχου', 'γοργότητος', 'ἐκπέμπει'], ['πρε', 'ἐβασίλευσε', 'θεόπομπος', 'ἱεροσόλυμα', 'ἡρώδης', 'ἱεροσολύμων', 'ἡρώδου', 'ἐπίσκοπος', 'ἰουδαίους', 'ἰουδαῖοι', 'ἀδὰμ', 'ἰουδαίοις', 'δυναστεία', 'ἡρώδην', 'ἰούδα', 'τρι', 'ἰσραὴλ', 'ἀσσυρίων', 'καῖσαρ', 'σύρου', 'θηβαίων', 'ἀλώπηξ', 'ἱεροσολύμοις', 'ἐφραίμ', 'παναγίας', 'ἰνδῶν', 'μωυσῆς', 'τᾶς', 'ἰουδαίαν', 'ἀντιοχείας', 'ὁσίου', 'ἀντιόχου', 'κωνσταντίνου', 'ἀρχιερέως', 'ἑβραίων', 'νῶε', 'ἡρώδῃ', 'ἀντιπάτρου', 'χαλδαίων', 'κϛʹ', 'κωνσταντῖνος', 'ἱερουσαλὴμ', 'ἰωσὴφ', 'ἰακὼβ', 'ἐβασίλευσαν', 'κθʹ', 'ἀρχιερεὺς', 'ἱππεῖς', 'ξένε', 'ἐκπέμπει'], ['πρε', 'ἰουδαίους', 'ἡρώδου', 'ἡρώδης', 'ἱεροσόλυμα', 'ἰουδαίαν', 'καῖσαρ', 'ἐβασίλευσε', 'ἰουδαίοις', 'ἱεροσολύμων', 'ἡρώδην', 'ἰούδα', 'ἰουδαῖοι', 'ἡρόδωρος', 'ἰουδαίας', 'μιχαὴλ', 'ἰσραὴλ', 'ἐντολῶν', 'μωυσῆς', 'ξένε', 'ἑβραίων', 'ἱεροσολύμοις', 'ἀδὰμ', 'ἐφραίμ', 'ἀσσυρίων', 'ἀγάπης', 'ἰσραηλιτῶν', 'ἡρώδῃ', 'ἀράβων', 'σύρου', 'κωνσταντῖνος', 'καίσαρα', 'ἀριστοβούλου', 'ἀρχιερέα', 'γαλιλαίας', 'ἀντιπάτρου', 'λυσίας', 'ἰώσηπον', 'ἰνδῶν', 'ἐπίσκοπος', 'ἀριστόβουλος', 'ὑρκανὸν', 'ἰωάννην', 'ἰωσήπου', 'χαλδαίων', 'σίμων', 'ἱππεῖς', 'πολιορκίαν', 'ἑβραίοις', 'γαΐου'], ['λυσίας', 'κτησιφῶντος', 'ὑπερείδης', 'αἰσχίνης', 'ἡρώδου', 'ἐβασίλευσε', 'ἡρακλείδης', 'ἰσαῖος', 'ἡρώδης', 'ἰσραὴλ', 'ἰσοκράτης', 'γνήσιος', 'δείναρχος', 'ἀντιφῶν', 'ἰούδα', 'ἰουδαίους', 'ἱεροσολύμων', 'μιχαὴλ', 'ἐπίσκοπος', 'ἀλώπηξ', 'λυκοῦργος', 'φιλιππικοῖς', 'ἰδεῶν', 'ἀδὰμ', 'δημοσθένους', 'ἡρώδην', 'ἑρμηνεία', 'ἰουδαίοις', 'ἀσσυρίων', 'ἀβραὰμ', 'καῖσαρ', 'ἱεροσόλυμα', 'ἱεροσολύμοις', 'ῥητορικὴ', 'κωνσταντῖνον', 'ἱερουσαλὴμ', 'ἐντολῶν', 'κωνσταντίνου', 'ποντικὸς', 'φιλόχορος', 'μωυσῆς', 'ἀγάπης', 'χαλδαίων', 'ἡρώδῃ', 'ῥητορικὴν', 'ἰουδαίαν', 'ῥητορική', 'ἑβραίων', 'βουλγάρων', 'ἰωάννην'], ['ἐβασίλευσε', 'ἡρώδης', 'μωυσῆς', 'ἰουδαίους', 'ἡρώδου', 'ἱεροσολύμων', 'ἀλώπηξ', 'ἱεροσόλυμα', 'ἀσσυρίων', 'ἐπίσκοπος', 'ἰουδαίοις', 'ἰούδα', 'ἰσραὴλ', 'ἑρμηνεία', 'καῖσαρ', 'ἀβραὰμ', 'ἀδὰμ', 'νῶε', 'ἑβραίων', 'χαλδαίων', 'ἡρώδην', 'ἰουδαίαν', 'ἰακὼβ', 'μωυσέως', 'λυσίας', 'ἰουδαῖοι', 'ἱερουσαλὴμ', 'ἀντιπάτρου', 'ἀντιόχου', 'ἰουδαίας', 'μιχαὴλ', 'ἀριστοβούλου', 'ἰωσὴφ', 'ἱεροσολύμοις', 'ἀλεξανδρείας', 'εὐσέβιος', 'ἰωσήπου', 'ἀρχιερέως', 'δημάδης', 'ἀκουσίλαος', 'ἀράβων', 'ἀντιοχείας', 'ἰνδῶν', 'ἀρχιερεὺς', 'ἐγέννησε', 'γαΐου', 'ὑπερείδης', 'ἡρώδῃ', 'θηβαίων', 'ἐκπέμπει'], ['ἐβασίλευσε', 'ἡρώδης', 'ἰσραὴλ', 'ἐπίσκοπος', 'ἡρώδου', 'ἑβραίων', 'ἰουδαίους', 'ἰούδα', 'ἱεροσόλυμα', 'ἱεροσολύμων', 'ἀδὰμ', 'ἰουδαίοις', 'ἡρώδην', 'ἀγάπης', 'μωυσῆς', 'ἀντιοχείας', 'καῖσαρ', 'ἀσσυρίων', 'ἰουδαίαν', 'ἱεροσολύμοις', 'ἀβραὰμ', 'μιχαὴλ', 'ἰουδαῖοι', 'ἰωάννην', 'νῶε', 'κωνσταντίνου', 'ἡρώδῃ', 'κωνσταντῖνος', 'ἀρχιερεὺς', 'ῥητορικὴ', 'δείσας', 'καίσαρα', 'ἀλεξανδρείας', 'ἐγέννησε', 'ἰουδαίας', 'ἰδεῶν', 'ἐντολῶν', 'κωνσταντῖνον', 'ἱερουσαλὴμ', 'μέθοδος', 'ἑρμηνεία', 'ἱερουσαλήμ', 'ἀρχιερέως', 'μωυσέως', 'ἰσραηλιτῶν', 'ἰακὼβ', 'ἀντιόχου', 'ἀράβων', 'κϛʹ', 'νάξιοι'], ['πρε', 'ἡρώδης', 'ἡρακλείδης', 'ἡρώδου', 'ἱεροσόλυμα', 'ἐφραίμ', 'ἰουδαίους', 'ἱεροσολύμων', 'ἰουδαῖοι', 'ἰουδαίαν', 'ἑβραίων', 'ἀγάπης', 'καῖσαρ', 'μιχαὴλ', 'ἰουδαίοις', 'ὁσίου', 'παναγίας', 'μωυσῆς', 'ἀδὰμ', 'ἱεροσολύμοις', 'ἡρώδην', 'ἰούδα', 'σύρου', 'τρι', 'ἰωάννην', 'ἰσραὴλ', 'λυσίας', 'θεόπομπος', 'βασιλείου', 'ἡρώδῃ', 'πάσχα', 'ἀρχιερεὺς', 'γαΐου', 'ὑπερείδης', 'μωυσέως', 'κωνσταντῖνος', 'γαλιλαίας', 'ὑρκανὸν', 'ἐκπέμπει', 'ἀδικίᾳ', 'νομοθεσίαν', 'ἰσαῖος', 'ἀπόστολος', 'ἰσραηλιτῶν', 'βασίλειος', 'ἀντίπατρος', 'ἐντολῶν', 'ἐβασίλευσε', 'ἰώσηπον', 'προφήτου'], ['ἐβασίλευσε', 'ἡρώδης', 'ἀλώπηξ', 'ἰουδαίους', 'ἰούδα', 'ἡρώδου', 'ἰουδαίοις', 'μωυσῆς', 'ἡρώδην', 'ἰσραὴλ', 'ἀσσυρίων', 'ξὺν', 'καῖσαρ', 'ἰνδῶν', 'ἱεροσόλυμα', 'θεόπομπος', 'ἡρώδῃ', 'ἑβραίων', 'ἀδὰμ', 'ἰουδαῖοι', 'λυσίας', 'ἐπίσκοπος', 'ἑρμηνεία', 'μέθοδος', 'ἀσκληπιὸς', 'ἰωάννην', 'δημοσθένους', 'νῶε', 'ἱεροσολύμοις', 'ξένε', 'ἤρετο', 'ἀντιπάτρου', 'ἱεροσολύμων', 'στάντες', 'μιχαὴλ', 'ἀντιοχείας', 'ἰουδαίαν', 'ἀρχιερεὺς', 'καταφάγῃ', 'ἀγάπης', 'ἀντιόχου', 'πολύκαρπος', 'γλυκύν', 'ἐγγραφῆναι', 'ἀλεξανδρείας', 'ἀβραὰμ', 'ἐμπέσοι', 'ἀντίοχος', 'βάπτειν', 'ἔγχει'], ['πρε', 'ἡρώδης', 'ἡρώδου', 'ἰουδαίους', 'ἐφραίμ', 'καῖσαρ', 'παναγίας', 'ἱεροσόλυμα', 'ἱεροσολύμων', 'σύρου', 'ὁσίου', 'ἰουδαῖοι', 'ἰουδαίαν', 'τρι', 'μωυσῆς', 'ἡρώδην', 'μιχαὴλ', 'ἐβασίλευσε', 'ἀσσυρίων', 'ἑβραίων', 'ἰουδαίοις', 'ἰούδα', 'ἡρώδῃ', 'ἱεροσολύμοις', 'ξένε', 'νικῶσιν', 'ἑρμηνεία', 'ἰνδῶν', 'θεόπομπος', 'ἰσραὴλ', 'ἀδὰμ', 'ἀρχιερέως', 'ἀλώπηξ', 'ἐπίσκοπος', 'ἰσραηλιτῶν', 'ἐκπέμπει', 'ἀρχιερέα', 'κωνσταντίνου', 'ξὺν', 'ὑρκανὸν', 'καίσαρα', 'κωνσταντῖνον', 'μέθοδος', 'κωνσταντῖνος', 'πολιορκίαν', 'ἰνδικτιῶνος', 'ἀντιοχείας', 'ἀγρίππας', 'δείσας', 'σίμων'], ['ἐβασίλευσε', 'ἡρώδης', 'θεόπομπος', 'ἰουδαίους', 'ἡρώδου', 'ἱεροσόλυμα', 'κτησιφῶντος', 'μωυσῆς', 'λυσίας', 'ἀλώπηξ', 'ἀσσυρίων', 'ἰούδα', 'ὑπερείδης', 'ἰουδαίοις', 'ἡρώδην', 'ἐπίσκοπος', 'ἱεροσολύμων', 'ἱεροσολύμοις', 'μιχαὴλ', 'αἰσχίνης', 'ἀδὰμ', 'ἰουδαίαν', 'ἰουδαῖοι', 'ἑβραίων', 'ἰσραὴλ', 'γνήσιος', 'ἰσαῖος', 'ἰσραηλιτῶν', 'ἀντιοχείας', 'ἰσοκράτης', 'ἀβραὰμ', 'ἐκπέμπει', 'ὑρκανὸν', 'ἀντιφῶν', 'ἀρχιερέα', 'ἡρακλείδης', 'κωνσταντίνου', 'δημοσθένους', 'ξένε', 'ἰωάννην', 'νικῶσιν', 'ἀλεξανδρείας', 'καίσαρα', 'χαλδαίων', 'καῖσαρ', 'πολιορκίαν', 'ἡρώδῃ', 'ἀγρίππας', 'ἀγάπης', 'κωνσταντῖνος'], ['θεόπομπος', 'ἐβασίλευσε', 'φιλιππικῶν', 'ἡρώδης', 'ἡρώδου', 'ἱεροσόλυμα', 'ἰουδαίοις', 'ἰουδαίους', 'δυναστεία', 'μιχαὴλ', 'ἀλώπηξ', 'μωυσῆς', 'ἀσσυρίων', 'ἐπίσκοπος', 'ἱεροσολύμων', 'ἰουδαίαν', 'ἰσραὴλ', 'ἡρώδην', 'ἰούδα', 'ἑρμηνεία', 'καῖσαρ', 'ἀδὰμ', 'ἱερουσαλὴμ', 'κωνσταντῖνος', 'ἀβραὰμ', 'νῶε', 'ἑβραίων', 'βουλγάρων', 'ἰωάννην', 'χαλδαίων', 'θηβαίων', 'μωυσέως', 'ἰουδαίας', 'κωνσταντίνου', 'ἀρχιερέα', 'ἰουδαῖοι', 'ἀντιπάτρου', 'λυσίας', 'ἡρώδῃ', 'ἐντολῶν', 'προφήτου', 'ἰωσὴφ', 'ἀντιόχου', 'ἱερουσαλήμ', 'ἀρχιερέως', 'κθʹ', 'ἰδεῶν', 'πατριάρχου', 'ἐκπέμπει', 'θεοπόμπου'], ['ἐβασίλευσε', 'ἡρώδης', 'δυναστεία', 'ἀδὰμ', 'ἐπίσκοπος', 'ἰουδαίοις', 'ἱεροσολύμων', 'θεόπομπος', 'ἀλώπηξ', 'ἡρώδου', 'θηβαίων', 'μιχαὴλ', 'ἰσραὴλ', 'καῖσαρ', 'ἑρμηνεία', 'ἰουδαίαν', 'ἀσσυρίων', 'ἰουδαίους', 'ἰούδα', 'ἱεροσολύμοις', 'ἱεροσόλυμα', 'ἱερουσαλὴμ', 'ἡρώδην', 'μωυσέως', 'ἰουδαῖοι', 'ἀβραὰμ', 'μωυσῆς', 'νῶε', 'χαλδαίων', 'κωνσταντῖνος', 'ξένε', 'ἑβραίων', 'κωνσταντίνου', 'βουλγάρων', 'ἰουδαίας', 'καίσαρα', 'κατακλυσμοῦ', 'ὑπολαβὼν', 'ἤρετο', 'ἰνδῶν', 'λυσίας', 'κθʹ', 'κγʹ', 'ἐπισκόπου', 'ἀντιπάτρου', 'ἀντιοχείας', 'ἑρμηνεύεται', 'ἀλεξανδρείας', 'ἐγέννησε', 'ἐκπέμπει'], ['θεόπομπος', 'ἐβασίλευσε', 'ἡρώδης', 'ἰούδα', 'λυσίας', 'ἰσραὴλ', 'ἐπίσκοπος', 'ἡρώδου', 'ὑπερείδης', 'ἰουδαίους', 'ἀδὰμ', 'κτησιφῶντος', 'ἀβραὰμ', 'καῖσαρ', 'ἱεροσόλυμα', 'φιλιππικῶν', 'ἱεροσολύμων', 'ἀσσυρίων', 'ἰουδαίοις', 'ἑβραίων', 'ἰσοκράτης', 'ἰουδαῖοι', 'ἰακὼβ', 'χαλδαίων', 'ἰουδαίαν', 'ἱερουσαλὴμ', 'μωυσέως', 'γνήσιος', 'ἀντιφῶν', 'ἀλεξανδρείας', 'αἰσχίνης', 'ἑρμηνεία', 'ἰσαῖος', 'ἡρώδῃ', 'μιχαὴλ', 'δείναρχος', 'ἀντιοχείας', 'κωνσταντίνου', 'μωυσῆς', 'ἡρώδην', 'ἀγάπης', 'ἀντιόχου', 'ἰωάννην', 'ἰσραηλιτῶν', 'κωνσταντῖνος', 'δυναστεία', 'ἀντιπάτρου', 'ἐντολῶν', 'ἀντίοχος', 'ἱεροσολύμοις'], ['ἡρώδης', 'μιχαὴλ', 'ἐβασίλευσε', 'κωνσταντίνου', 'κωνσταντῖνον', 'ἡρώδου', 'ἰουδαίους', 'ἰωάννην', 'καῖσαρ', 'κωνσταντῖνος', 'ἱεροσολύμων', 'βασίλειος', 'ἱεροσόλυμα', 'βουλγάρων', 'ἡρώδην', 'πατρίκιον', 'ἀγάπης', 'ἀλώπηξ', 'ἀντιοχείας', 'ἰουδαίοις', 'μωυσῆς', 'ἰούδα', 'ἐκπέμπει', 'βασιλείου', 'ἀρχιερέως', 'ἰσραὴλ', 'ἐπίσκοπος', 'ἰουδαίαν', 'σαρακηνῶν', 'ἑβραίων', 'πατρίκιος', 'ἱεροσολύμοις', 'ἀδὰμ', 'ἰνδικτιῶνος', 'πατριάρχης', 'ἰουδαῖοι', 'πατριάρχου', 'καίσαρα', 'αὐτοκράτωρ', 'ἰνδῶν', 'ξένε', 'ἐντολῶν', 'ἡρακλείδης', 'λυσίας', 'ἀντιόχου', 'παλατίου', 'συμεὼν', 'συγκλήτου', 'γαΐου', 'χαλδαίων'], ['θατέρᾳ', 'ἐβασίλευσε', 'ἡρώδης', 'καῖσαρ', 'φόρων', 'ἰουδαίους', 'ἱεροσολύμων', 'ἐπίσκοπος', 'ἀφίκοντο', 'ὄνους', 'ἡρώδου', 'φροντίδων', 'ἰούδα', 'δρῶσιν', 'ἱεροσόλυμα', 'σκορπίους', 'ἰουδαίοις', 'κυάμους', 'ἰσραὴλ', 'κυκλοτερῆ', 'πρᾶγμά', 'φάρυγος', 'σηπίας', 'σῦκα', 'διεξόδους', 'διέφθορεν', 'ὄνομ', 'χοῖρον', 'ἐνθυμούμενος', 'ἐστ', 'κώθωνα', 'κατέχουσα', 'φυσᾷ', 'θύννους', 'παίζοντα', 'ὀλυμπία', 'ἀριστοκρατία', 'κἄπειτ', 'χάριεν', 'ἀσσυρίων', 'νομίζετε', 'ἔγχει', 'δημοκρατία', 'ἀβουλία', 'ἐλεύθεραι', 'ἔτνος', 'λέγ', 'παντοδαπαὶ', 'δυναστεία', 'ξένε'], ['θεόπομπος', 'ἐβασίλευσε', 'φιλιππικῶν', 'ἡρώδης', 'πρε', 'ἱεροσόλυμα', 'δυναστεία', 'ἡρώδου', 'ἱεροσολύμων', 'δημάδης', 'ἰουδαίους', 'μιχαὴλ', 'θηβαίων', 'ἑβραίων', 'ἐπίσκοπος', 'μωυσῆς', 'ἀσσυρίων', 'ἡρώδην', 'καῖσαρ', 'ἀντιοχείας', 'κωνσταντῖνος', 'ἰουδαῖοι', 'ἰσραὴλ', 'ἀδὰμ', 'κωνσταντίνου', 'ἰουδαίοις', 'ἰουδαίαν', 'ἰούδα', 'ξένε', 'ἐκπέμπει', 'ἰνδῶν', 'ἀγάπης', 'ἱεροσολύμοις', 'θεοπόμπου', 'μέθοδον', 'ἀντιπάτρου', 'κϛʹ', 'ἑβραίοις', 'ἀράβων', 'βασιλείου', 'προφήτου', 'ἀλώπηξ', 'ἀρχιερέα', 'ἰδεῶν', 'ἐγέννησε', 'δυναστείας', 'μέθοδος', 'ἀλεξανδρείας', 'ἰωάννην', 'ἀντιόχου'], ['ἐβασίλευσε', 'ἡρώδης', 'ἱεροσόλυμα', 'ἀδὰμ', 'ἱεροσολύμων', 'ἰουδαίοις', 'ἰουδαίους', 'ἡρώδου', 'ἡρώδην', 'ἰούδα', 'ἡρακλείδης', 'ἐπίσκοπος', 'ἰσραὴλ', 'καῖσαρ', 'μωυσῆς', 'ἀβραὰμ', 'ἀντιοχείας', 'μιχαὴλ', 'ἀγάπης', 'νῶε', 'ἀσσυρίων', 'ξὺν', 'ξένε', 'δυναστεία', 'λυσίας', 'ἰουδαῖοι', 'καίσαρα', 'ἑβραίων', 'μωυσέως', 'ἱεροσολύμοις', 'ἐντολῶν', 'κωνσταντίνου', 'ἰωάννην', 'ἀρχιερεὺς', 'κωνσταντῖνος', 'ἐκπέμπει', 'ἰωσὴφ', 'χαλδαίων', 'ἰουδαίας', 'ἱερουσαλὴμ', 'ἀντιόχου', 'ἤρετο', 'ἰνδῶν', 'κωνσταντῖνον', 'ἀρχιερέως', 'θεόπομπος', 'αἰσχίνης', 'ἀράβων', 'ἱερουσαλήμ', 'ἰουδαίαν'], ['ἐβασίλευσε', 'ἡρώδης', 'δυναστεία', 'θηβαίων', 'ἱεροσόλυμα', 'μωυσῆς', 'ἰουδαίους', 'ἱεροσολύμων', 'ἡρώδου', 'ἀδὰμ', 'ἰούδα', 'ἑβραίων', 'ἰουδαίοις', 'ἀσσυρίων', 'ἀδήλων', 'ἡρώδην', 'καῖσαρ', 'ἱεροσολύμοις', 'ἰσραὴλ', 'ἀβραὰμ', 'εὐσέβιος', 'ἐβασίλευσαν', 'μιχαὴλ', 'ἐγέννησε', 'θεόπομπος', 'ἰουδαίαν', 'κϛʹ', 'ἐπίσκοπος', 'ἀλώπηξ', 'κγʹ', 'κατακλυσμοῦ', 'ἰωάννην', 'ἀγάπης', 'ἀλεξανδρείας', 'ἀρχιερεὺς', 'ἱερουσαλὴμ', 'νῶε', 'μωυσέως', 'ἑρμηνεία', 'καίσαρα', 'ἀρχιερέως', 'κθʹ', 'ἀντιπάτρου', 'γαΐου', 'ἑρμηνεύεται', 'χαλδαίων', 'καʹ', 'δείσας', 'ἰνδῶν', 'λυσίας'], ['θεόπομπος', 'ἡρώδου', 'ἱεροσολύμων', 'στησίμβροτος', 'ἡρώδης', 'κωνσταντῖνος', 'ἰουδαίους', 'μιχαὴλ', 'ἡρώδην', 'ἱεροσόλυμα', 'πρε', 'ἀδὰμ', 'καῖσαρ', 'κωνσταντίνου', 'ἐβασίλευσε', 'λυσίας', 'ἐπίσκοπος', 'ἡρακλείδης', 'ἰουδαῖοι', 'ἰνδῶν', 'ἰουδαίοις', 'ἑβραίων', 'ἀλώπηξ', 'ἰούδα', 'ἱεροσολύμοις', 'μωυσῆς', 'φιλιππικῶν', 'ἐκπέμπει', 'ἀσσυρίων', 'ἰσραὴλ', 'ἀντιοχείας', 'αἰσχίνης', 'συμεὼν', 'βουλγάρων', 'ἰσραηλιτῶν', 'ξένε', 'ἀγάπης', 'πολιορκίαν', 'συγκλήτου', 'δείσας', 'ἀντιόχου', 'ἡρώδῃ', 'ἰουδαίαν', 'πατρίκιον', 'ἰωάννην', 'ἐντολῶν', 'ἐπισκόπων', 'καίσαρα', 'ἀπολλώνιον', 'ξὺν'], ['πρε', 'παναγίας', 'ἐφραίμ', 'τρι', 'σύρου', 'ὁσίου', 'ἡρώδης', 'πέλεν', 'ἱεροσολύμων', 'ἰουδαίοις', 'ἐβασίλευσε', 'θεόπομπος', 'ἑβραίων', 'ἡρώδου', 'ἱεροσόλυμα', 'ἰουδαίους', 'καῖσαρ', 'ἰουδαῖοι', 'μωυσῆς', 'ἰουδαίαν', 'λυσίας', 'ἰούδα', 'μιχαὴλ', 'ἰωάννην', 'ἐπίσκοπος', 'ἰσραὴλ', 'σέο', 'ἀσσυρίων', 'κον', 'ἡρώδην', 'ἰδεῶν', 'ἱεροσολύμοις', 'ἐκπέμπει', 'κωνσταντῖνος', 'ὅττι', 'ἀδὰμ', 'κτησιφῶντος', 'προφήτου', 'βλέπω', 'οὔνομα', 'αἰσχίνης', 'ἰσαῖος', 'κωνσταντίνου', 'ἀράβων', 'ὑπερείδης', 'ἀλεξανδρείας', 'ὄφρα', 'τερ', 'ὔμμι', 'ἀνθύπατος'], ['ἡρώδης', 'ἰουδαίους', 'θεόπομπος', 'ἐβασίλευσε', 'ἱεροσόλυμα', 'ἰουδαίοις', 'μιχαὴλ', 'καῖσαρ', 'ἰσραὴλ', 'ἰούδα', 'ἰουδαίαν', 'ἱεροσολύμων', 'ἀσσυρίων', 'ἐντολῶν', 'δημάδης', 'ἀδὰμ', 'ἡρώδου', 'ἡρώδην', 'μωυσῆς', 'ἰουδαῖοι', 'κωνσταντῖνος', 'κωνσταντίνου', 'ἱεροσολύμοις', 'χαλδαίων', 'ἀρχιερέως', 'ἀντιοχείας', 'ἐπίσκοπος', 'ἑβραίων', 'ἀντιόχου', 'ἀλώπηξ', 'ἰνδῶν', 'ἀβραὰμ', 'ἰησοῦν', 'μωυσέως', 'ἀντιπάτρου', 'ἀγάπης', 'ἰωάννην', 'κωνσταντῖνον', 'μαγνησίας', 'συμεὼν', 'ἑρμηνεύεται', 'προφήτου', 'ἡρακλείδης', 'ἐκπέμπει', 'ἡρώδῃ', 'ἀράβων', 'καίσαρα', 'πολιορκίαν', 'ἰσραήλ', 'ξένε'], ['θεόπομπος', 'ἐβασίλευσε', 'ἰσραὴλ', 'ἡρώδου', 'ἱεροσολύμων', 'ἡρώδης', 'ἰουδαίοις', 'ἰούδα', 'ἱεροσόλυμα', 'ἰουδαίους', 'μωυσῆς', 'ἐπίσκοπος', 'ἀδὰμ', 'ἡρώδην', 'ἰουδαῖοι', 'ἀγάπης', 'ἰουδαίαν', 'ἀσσυρίων', 'ἱερουσαλὴμ', 'ἐγέννησε', 'ἱεροσολύμοις', 'ἀβραὰμ', 'καῖσαρ', 'νῶε', 'ἑβραίων', 'κωνσταντίνου', 'μιχαὴλ', 'ἀντιοχείας', 'ξένε', 'ἀλώπηξ', 'ἀρχιερέως', 'ἐντολῶν', 'ἑρμηνεία', 'ἀρχιερεὺς', 'αἰχμαλωσίας', 'χαλδαίων', 'ἰωσὴφ', 'ἀντίπατρος', 'ἰνδῶν', 'καίσαρα', 'ἰουδαίας', 'κωνσταντῖνος', 'ἀντιπάτρου', 'ἀλεξανδρείας', 'εὐσέβιος', 'γαΐου', 'ἰωάννην', 'ἀπόστολος', 'ἀντίοχος', 'ἰδεῶν'], ['πρε', 'τρι', 'παναγίας', 'ἐφραίμ', 'σύρου', 'ὁσίου', 'στησίμβροτος', 'ἡρώδης', 'ἡρώδου', 'μιχαὴλ', 'ἰουδαίοις', 'ἀγάπης', 'ἰούδα', 'ἱεροσόλυμα', 'ἰσραὴλ', 'καῖσαρ', 'ἱεροσολύμων', 'ἐβασίλευσε', 'περικλέους', 'ἡρώδην', 'ἰουδαίαν', 'ἰωάννην', 'ἰουδαίους', 'ἑβραίων', 'ἐπίσκοπος', 'θεόπομπος', 'μωυσῆς', 'κωνσταντῖνος', 'ἰνδῶν', 'ἰουδαίας', 'ἐντολῶν', 'ἀσσυρίων', 'ἰουδαῖοι', 'ἱεροσολύμοις', 'ἀδὰμ', 'ἀβραὰμ', 'χαλδαίων', 'κον', 'ἐκπέμπει', 'κωνσταντίνου', 'κτησιφῶντος', 'ξένε', 'ἱερουσαλὴμ', 'παρμενίδου', 'ἰδεῶν', 'ἰωσὴφ', 'ὑπερείδης', 'ἀγρίππας', 'αἰσχίνης', 'ἰσραηλιτῶν'], ['πρε', 'ἐφραίμ', 'ὁσίου', 'τρι', 'σύρου', 'παναγίας', 'θεόπομπος', 'ἡρώδης', 'ἀκουσίλαος', 'ἱεροσολύμων', 'ἑβραίων', 'ἡρώδου', 'ἰδεῶν', 'κωνσταντῖνος', 'ἐβασίλευσε', 'αἰσχίνης', 'ἰουδαίους', 'καῖσαρ', 'ὑπερείδης', 'δημοσθένους', 'ἱεροσόλυμα', 'κωνσταντίνου', 'ἰωάννην', 'μιχαὴλ', 'ἀδὰμ', 'ἐκπέμπει', 'ἐπίσκοπος', 'ἰνδῶν', 'ἰουδαίοις', 'μέθοδος', 'ξένε', 'ἱεροσολύμοις', 'ἰσαῖος', 'κωνσταντῖνον', 'ἡρώδην', 'μωυσῆς', 'λυσίας', 'κτησιφῶντος', 'ἀσσυρίων', 'ἰσοκράτης', 'ἰουδαῖοι', 'ἀντιοχείας', 'ἰσραὴλ', 'ἀγάπης', 'ἀλώπηξ', 'ἰούδα', 'ἑρμηνεία', 'πατριάρχου', 'ἰνδικτιῶνος', 'δείσας'], ['ἡρώδης', 'ἐβασίλευσε', 'ἰουδαίους', 'ἡρώδου', 'μιχαὴλ', 'ἰουδαίοις', 'παρμενίδου', 'ἱεροσόλυμα', 'κωνσταντίνου', 'καῖσαρ', 'ἐκπέμπει', 'ἐπίσκοπος', 'ἰουδαῖοι', 'μωυσῆς', 'ἡρώδην', 'δυναστεία', 'ἰουδαίαν', 'ἰωάννην', 'ἱεροσολύμων', 'ἑρμηνεία', 'ἀβραὰμ', 'ἀντιοχείας', 'καίσαρα', 'κωνσταντῖνος', 'ἱεροσολύμοις', 'ἰσραὴλ', 'ἀδὰμ', 'ἀλεξανδρείας', 'ἀλώπηξ', 'ἰουδαίας', 'πατριάρχου', 'ἀντιόχου', 'ἀσσυρίων', 'ἰνδικτιῶνος', 'παρμενίδην', 'ἡρώδῃ', 'ἀρχιερέως', 'νῶε', 'συμεὼν', 'ἑβραίων', 'πρε', 'ἐμπεδοκλῆς', 'βουλγάρων', 'κωνσταντῖνον', 'ἱερουσαλὴμ', 'ἰούδα', 'πατριάρχης', 'ἀντίοχος', 'πατρίκιον', 'βασιλείου'], ['ἐβασίλευσε', 'θεόπομπος', 'ἡρώδης', 'ἐπίσκοπος', 'ἱεροσολύμων', 'ἀλώπηξ', 'λυσίας', 'ἰούδα', 'ἰουδαίους', 'ἱεροσολύμοις', 'ἰσραὴλ', 'ἡρώδου', 'μιχαὴλ', 'ἱεροσόλυμα', 'ἀσσυρίων', 'ἰουδαίοις', 'ἑβραίων', 'ἀδὰμ', 'καῖσαρ', 'μωυσῆς', 'ἐκπέμπει', 'ἑρμηνεία', 'κωνσταντῖνος', 'κωνσταντίνου', 'ἀντιοχείας', 'ἰουδαῖοι', 'ἰουδαίαν', 'ὑπερείδης', 'ἡρώδην', 'βουλγάρων', 'ξένε', 'κτησιφῶντος', 'χαλδαίων', 'ἰσαῖος', 'ἀβραὰμ', 'νῶε', 'ἰωάννην', 'κατακλυσμοῦ', 'νικῶσιν', 'ἰακὼβ', 'ἀλεξανδρείας', 'γαΐου', 'ἀρχιερεὺς', 'ἰδεῶν', 'ὑρκανὸν', 'πατρίκιον', 'δημοσθένους', 'ἱερουσαλὴμ', 'ἀντίοχος', 'μωυσέως'], ['θεόπομπος', 'ἡρώδης', 'ἐβασίλευσε', 'ἡρώδου', 'ἰουδαίους', 'ἰουδαίοις', 'κτησιφῶντος', 'ἱεροσολύμων', 'ἱεροσόλυμα', 'ὑπερείδης', 'καῖσαρ', 'λυσίας', 'ἀδὰμ', 'ἰούδα', 'δυναστεία', 'ἀσσυρίων', 'ἐπίσκοπος', 'ἀβραὰμ', 'ἡρώδην', 'αἰσχίνης', 'ἰσαῖος', 'φιλιππικῶν', 'ἰνδῶν', 'γνήσιος', 'ἰσραὴλ', 'ἑβραίων', 'ἱεροσολύμοις', 'ἰουδαῖοι', 'ἰουδαίαν', 'μωυσέως', 'μωυσῆς', 'κωνσταντίνου', 'ἰσοκράτης', 'λυκοῦργος', 'ἀντιοχείας', 'μιχαὴλ', 'ἡρώδῃ', 'ἀντίοχος', 'καίσαρα', 'ἀντιφῶν', 'ξὺν', 'δείναρχος', 'θηβαίων', 'κθʹ', 'ἰωάννην', 'ἀγρίππας', 'ἀλεξανδρείας', 'ἰουδαίας', 'ἀρχιερέα', 'φιλιππικοῖς'], ['ἡρώδης', 'ἰουδαίους', 'ἱεροσόλυμα', 'ἐβασίλευσε', 'ἀλώπηξ', 'ἡρώδου', 'ἰουδαίοις', 'καῖσαρ', 'ἑρμηνεία', 'θεόπομπος', 'ἡρώδην', 'μιχαὴλ', 'ἰουδαῖοι', 'ἐπίσκοπος', 'ἱεροσολύμων', 'ἐκπέμπει', 'κωνσταντῖνος', 'ἱεροσολύμοις', 'ἀντιοχείας', 'ἰουδαίαν', 'ἑβραίων', 'δυναστεία', 'μωυσῆς', 'καίσαρα', 'ἰούδα', 'ἀσσυρίων', 'ἰωσήπου', 'κωνσταντίνου', 'βουλγάρων', 'ἀρχιερέως', 'ἀβραὰμ', 'μυριάδων', 'ἰωάννην', 'γαΐου', 'ἰώσηπος', 'ἀδὰμ', 'πατρίκιον', 'ἡρώδῃ', 'σίμων', 'θηβαίων', 'ἀντίοχος', 'κωνσταντῖνον', 'συμεὼν', 'πολιορκίαν', 'ἤρετο', 'λυσίας', 'ὑπολαβὼν', 'νῶε', 'ἀντιόχου', 'ἀρχιερεὺς'], ['ἡρώδης', 'δυναστεία', 'ἐβασίλευσε', 'ἡρακλείδης', 'ἱεροσολύμων', 'ἡρώδου', 'ἱεροσόλυμα', 'ἰσραὴλ', 'ἰουδαίους', 'ἀδὰμ', 'ἐπίσκοπος', 'ἰούδα', 'ἰουδαίαν', 'ἀλεξανδρείας', 'μιχαὴλ', 'ἰουδαίοις', 'μωυσῆς', 'ἡρώδην', 'δυνηθέντα', 'ἑβραίων', 'καῖσαρ', 'σολομῶνα', 'ἰουδαῖοι', 'κωνσταντίνου', 'αἰνίγματα', 'κωνσταντῖνος', 'θηβαίων', 'ῥητορικὴ', 'ἀρχιερέως', 'ἀντιοχείας', 'νῶε', 'ἀγάπης', 'ἱερουσαλὴμ', 'κϛʹ', 'δῖος', 'ἑρμηνεία', 'ἀβραὰμ', 'ἀσσυρίων', 'ἀντιπάτρου', 'στάδια', 'ἀλώπηξ', 'θεόπομπος', 'ἀντίπατρος', 'ἑλλὰς', 'ἰωάννην', 'ποντικὸς', 'ἡσυχῆ', 'ἐντολῶν', 'ἰνδῶν', 'ἱεροσολύμοις'], ['ἀκουσίλαος', 'ἐβασίλευσε', 'δυναστεία', 'ἡρώδης', 'ἡρώδου', 'θεόπομπος', 'ἱεροσολύμων', 'ἰουδαίους', 'ἱεροσόλυμα', 'θηβαίων', 'ἰσραὴλ', 'λυσίας', 'καῖσαρ', 'ἡρακλείδης', 'ἱεροσολύμοις', 'ἡρώδην', 'ἰουδαίαν', 'μιχαὴλ', 'ἐβασίλευσαν', 'ἰούδα', 'μωυσῆς', 'κωνσταντίνου', 'ἰουδαίοις', 'ἐπίσκοπος', 'ἰωάννην', 'ἀδὰμ', 'ἀσσυρίων', 'ὑπερείδης', 'ἀρχιερέως', 'ἀβραὰμ', 'ἀντιπάτρου', 'ἀλεξανδρείας', 'ἀράβων', 'εὐσέβιος', 'αἰσχίνης', 'ἑρμηνεία', 'ζέφυρον', 'ἑρμηνεύεται', 'ἰσαῖος', 'ἰακὼβ', 'ἑβραίων', 'ἀλώπηξ', 'ἐκπέμπει', 'ὑρκανὸν', 'κτησιφῶντος', 'ἀντιοχείας', 'ἀντίπατρος', 'ἰνδῶν', 'μέθοδος', 'ἐγέννησε'], ['τᾶς', 'θεόπομπος', 'ἡρώδης', 'ὑπερείδης', 'ἡρώδου', 'ἐβασίλευσε', 'λυσίας', 'κτησιφῶντος', 'ἰουδαίους', 'ἰουδαίοις', 'ἐπίσκοπος', 'ἱεροσολύμων', 'ἰουδαῖοι', 'ἀλώπηξ', 'ἱεροσόλυμα', 'ἰουδαίαν', 'γνήσιος', 'ἑβραίων', 'δείναρχος', 'ἰσοκράτης', 'μωυσῆς', 'ἀντιφῶν', 'φιλιππικῶν', 'ἰσραὴλ', 'κωνσταντῖνος', 'τοὶ', 'καῖσαρ', 'ἰσαῖος', 'κωνσταντίνου', 'αἰσχίνης', 'ἱεροσολύμοις', 'ἀδὰμ', 'ἡρώδην', 'καίσαρα', 'ἰούδα', 'δημοσθένους', 'λυκοῦργος', 'ἀντιπάτρου', 'αἰσχίνου', 'μένανδρος', 'φιλιππικοῖς', 'ἰουδαίας', 'μιχαὴλ', 'ἀσσυρίων', 'ἑρμηνεία', 'ἀντιοχείας', 'ἱερουσαλὴμ', 'ἰωάννην', 'ἀντιόχου', 'ἀγάπης'], ['πρε', 'σύρου', 'ἐφραίμ', 'τρι', 'παναγίας', 'ὁσίου', 'δημάδης', 'ἡρώδης', 'ἱεροσολύμων', 'ἰδεῶν', 'ἐπίσκοπος', 'ἰουδαίους', 'ἱεροσόλυμα', 'ἰούδα', 'ἐβασίλευσε', 'ἡρώδου', 'στάσεων', 'ἑρμηνεία', 'μωυσῆς', 'ξένε', 'ἑβραίων', 'ἀλώπηξ', 'καῖσαρ', 'ἡρώδην', 'ἰσραὴλ', 'ταγμάτων', 'κωνσταντίνου', 'ἰνδῶν', 'δημάδου', 'ἀγάπης', 'ἀντιοχείας', 'νικῶσιν', 'ἀδὰμ', 'ξὺν', 'ἰωάννην', 'ἤρετο', 'κωνσταντῖνος', 'πυθαγόρου', 'νότια', 'ἐντολῶν', 'ἰουδαῖοι', 'ἑρμηνεύεται', 'ἀντιόχου', 'δημοσθένους', 'δείσας', 'μιχαὴλ', 'ἀντιπάτρου', 'ἐπίσκοπον', 'ἐκπέμπει', 'ἰουδαίοις'], ['θεόπομπος', 'ἐβασίλευσε', 'ἡρώδης', 'δυναστεία', 'ἱεροσόλυμα', 'φιλιππικῶν', 'ἡρώδου', 'θηβαίων', 'ἐβασίλευσαν', 'ἰουδαίους', 'ἱεροσολύμων', 'ἰουδαίοις', 'ἡρώδην', 'ἱεροσολύμοις', 'ἐπίσκοπος', 'καῖσαρ', 'ἰουδαίαν', 'ἑβραίων', 'ἀσσυρίων', 'δημάδης', 'ἰουδαῖοι', 'ἀδὰμ', 'κωνσταντίνου', 'ἰούδα', 'μωυσῆς', 'μιχαὴλ', 'ἀντιοχείας', 'ἰσραηλιτῶν', 'κβʹ', 'ἐκπέμπει', 'ἀρχιερέως', 'κϛʹ', 'δυναστειῶν', 'ὑρκανὸν', 'καʹ', 'δυναστείας', 'κωνσταντῖνος', 'κατακλυσμοῦ', 'ἀράβων', 'ἑρμηνεία', 'γαΐου', 'στάδια', 'κθʹ', 'ἀλώπηξ', 'κωνσταντῖνον', 'πολιορκίαν', 'ἰώσηπον', 'χαλδαίων', 'μδʹ', 'ὑπέστρεψεν'], ['ἐβασίλευσε', 'δυναστεία', 'ἡρώδης', 'λυσίας', 'ἀκουσίλαος', 'ἱεροσολύμων', 'ἀδὰμ', 'ἰουδαίους', 'ἡρώδου', 'ἱεροσόλυμα', 'ὑπερείδης', 'θηβαίων', 'ἰσραὴλ', 'κτησιφῶντος', 'θεόπομπος', 'ἰουδαῖοι', 'ἰούδα', 'ἰσαῖος', 'ἐπίσκοπος', 'γνήσιος', 'μιχαὴλ', 'ἡρώδην', 'ἀλώπηξ', 'ἀντιφῶν', 'ἐβασίλευσαν', 'μωυσέως', 'ἑβραίων', 'ἀβραὰμ', 'ἐκπέμπει', 'ἀγάπης', 'δείναρχος', 'λυκοῦργος', 'καῖσαρ', 'ξένε', 'ἰουδαίαν', 'ἰουδαίοις', 'ἀσσυρίων', 'μωυσῆς', 'ἰνδῶν', 'ἰσοκράτης', 'κθʹ', 'κϛʹ', 'δημοσθένους', 'ἐγέννησε', 'κατακλυσμοῦ', 'ἰωσὴφ', 'αἰσχίνης', 'ἱεροσολύμοις', 'κγʹ', 'εὐσέβιος'], ['θεόπομπος', 'ἀκουσίλαος', 'ἡρώδης', 'ἱεροσόλυμα', 'φιλιππικῶν', 'ἔφεσον', 'ἡρώδου', 'καῖσαρ', 'ἱεροσολύμων', 'κλειτοφῶν', 'ἐβασίλευσε', 'ἰουδαίαν', 'ἑβραίων', 'ἰουδαίοις', 'λυσίας', 'ἰουδαίους', 'μωυσῆς', 'ἡρώδην', 'μιχαὴλ', 'ζῶσα', 'ἰδεῶν', 'ἀδὰμ', 'ἰωάννην', 'ἰούδα', 'παρόμοιος', 'φιλαργύρου', 'ὑπερείδης', 'γαλατῶν', 'ψέλλια', 'μέθοδον', 'ἀντιοχείας', 'ἀρχιερέως', 'ποιησάντων', 'ἰουδαῖοι', 'ἀντιόχου', 'ἀσσυρίων', 'ἐγέννησε', 'πρεσβύτατος', 'ἐπίσκοπος', 'λεηλατῶν', 'ἰουδαίας', 'δαψιλείας', 'κωνσταντῖνος', 'ἀλεξανδρείας', 'κατεχώσθη', 'ἱεροσολύμοις', 'ἀρχέλαος', 'ἀβραὰμ', 'θάσιον', 'βάπτειν'], ['ἐβασίλευσε', 'ἡρώδης', 'ἰουδαίους', 'ἱεροσολύμων', 'ἡρώδου', 'καῖσαρ', 'ἡρώδην', 'ἐπίσκοπος', 'ἱεροσόλυμα', 'ἰουδαίαν', 'ἰουδαίοις', 'μιχαὴλ', 'κωνσταντίνου', 'μωυσῆς', 'ἀδὰμ', 'ἰουδαῖοι', 'ῥητορικὴ', 'ἑρμηνεία', 'ἀλώπηξ', 'ἀσσυρίων', 'μωυσέως', 'ἰουδαίας', 'ἰσραὴλ', 'ἑβραίων', 'λυσίας', 'ἰωάννην', 'ἀγάπης', 'κωνσταντῖνος', 'ἀντιόχου', 'ἀρχιερέα', 'ῥητορική', 'ἀβραὰμ', 'ἰούδα', 'ὁρισμὸν', 'ἐκπέμπει', 'ὑπερείδης', 'πάσχα', 'κτησιφῶντος', 'ἀδικίᾳ', 'βασίλειος', 'καίσαρα', 'ἀντιοχείας', 'ἀράβων', 'ἀρχιερέως', 'ἡρώδῃ', 'χαλδαίων', 'ἀντίπατρος', 'ἤρετο', 'κωνσταντῖνον', 'ἱεροσολύμοις'], ['ἡρώδου', 'ἐβασίλευσε', 'ἡρώδης', 'ἱεροσολύμων', 'σαμίων', 'ἰουδαίαν', 'ἰουδαίους', 'ἰσραὴλ', 'ἰουδαῖοι', 'μωυσῆς', 'ἐπίσκοπος', 'ἀσσυρίων', 'ἰουδαίοις', 'ἱεροσόλυμα', 'ἀδὰμ', 'ὥρων', 'μιχαὴλ', 'ἀβραὰμ', 'ἡρώδην', 'θεόπομπος', 'ἰούδα', 'κωνσταντίνου', 'ἱεροσολύμοις', 'ἀντιοχείας', 'καῖσαρ', 'λυσίας', 'ἀρχιερέα', 'ἰνδῶν', 'χαλδαίων', 'ὑρκανὸν', 'ἑβραίων', 'καίσαρα', 'κωνσταντῖνος', 'σίμων', 'ἀκουσίλαος', 'ἑρμηνεία', 'ἀριστοβούλου', 'χῖος', 'ἰουδαίας', 'ἰωάννην', 'νῶε', 'ὑπερείδης', 'ἀλεξανδρείας', 'ἰσραηλιτῶν', 'μωυσέως', 'ἀντίοχος', 'ἐκπέμπει', 'γαΐου', 'αἰσχίνης', 'ἀντιόχου'], ['ἡρώδης', 'ἡρώδου', 'ἱεροσολύμων', 'ἐβασίλευσε', 'ἱεροσόλυμα', 'ἰουδαίους', 'θεόπομπος', 'ἰνδῶν', 'ἰουδαίοις', 'ἀλώπηξ', 'ἰσραὴλ', 'ἐπίσκοπος', 'ξένε', 'ἀγάπης', 'ἰουδαῖοι', 'κωνσταντίνου', 'ἀδὰμ', 'ἡρόδωρος', 'ἡρώδῃ', 'ἀντιοχείας', 'καῖσαρ', 'μωυσῆς', 'ἱεροσολύμοις', 'κωνσταντῖνος', 'καίσαρα', 'ἑβραίων', 'ἀντιόχου', 'ἀβραὰμ', 'μωυσέως', 'ἰούδα', 'ἡρώδην', 'ἀπολλώνιον', 'ἀλεξανδρείας', 'ἑρμηνεία', 'μιχαὴλ', 'ξὺν', 'λυσίας', 'ἀσσυρίων', 'δημοσθένους', 'ἀράβων', 'ἡσυχῆ', 'ἰουδαίαν', 'ἀρχιερέως', 'ἤρετο', 'χαλδαίων', 'μέθοδος', 'νικῶσιν', 'ἐπισκόπων', 'ἀπολλωνίου', 'μέθοδον'], ['ἡρώδης', 'ἐβασίλευσε', 'ἱεροσόλυμα', 'ἡρώδου', 'ἐπίσκοπος', 'ἰουδαίους', 'καῖσαρ', 'θεόπομπος', 'ἱεροσολύμων', 'ἡρώδην', 'ἰουδαίαν', 'ἀδὰμ', 'καίσαρα', 'ἰουδαίοις', 'ἰούδα', 'ἰουδαῖοι', 'κωνσταντίνου', 'μιχαὴλ', 'ἑβραίων', 'ἀσσυρίων', 'μωυσῆς', 'ἰσραὴλ', 'ἡρώδῃ', 'ἀράβων', 'κτησιφῶντος', 'λυσίας', 'ἑρμηνεία', 'ἀβραὰμ', 'χαλδαίων', 'πυθαγόρου', 'ὑρκανὸν', 'ἀντιόχου', 'ἱερουσαλὴμ', 'ἰσραηλιτῶν', 'ἀντίοχος', 'ἰακὼβ', 'ἀρχιερέως', 'ὑπερείδης', 'ἀντιοχείας', 'ἀλώπηξ', 'ἀλεξανδρείας', 'μωυσέως', 'ἱππεῖς', 'νικῶσιν', 'ἐγέννησε', 'ἰσοκράτης', 'ἀρχιερεὺς', 'ἱεροσολύμοις', 'αἰσχίνης', 'νῶε'], ['ἡρώδης', 'ῥητορικὴ', 'ῥητορική', 'ἰουδαίους', 'ἰουδαίοις', 'ἡρώδου', 'θεόπομπος', 'ἱεροσολύμων', 'ἀδὰμ', 'ὁρισμὸν', 'ἡρώδην', 'καῖσαρ', 'ἡρακλείδης', 'μιχαὴλ', 'ἰουδαίαν', 'ἐβασίλευσε', 'ἰουδαῖοι', 'διαφορῶν', 'ἱεροσόλυμα', 'ἰούδα', 'μωυσῆς', 'ἰσραὴλ', 'ἐκπέμπει', 'ὁρισμοῦ', 'καταγίνεται', 'ῥητορικὴν', 'ἑβραίων', 'ἀσσυρίων', 'ἱεροσολύμοις', 'ἀλώπηξ', 'ἐπίσκοπος', 'κωνσταντῖνος', 'ἡρώδῃ', 'ἀρχιερέως', 'ζητεῖται', 'ὑρκανὸν', 'ἀντιόχου', 'αἰσχίνης', 'ἰδεῶν', 'καίσαρα', 'ἱερουσαλὴμ', 'ἰουδαίας', 'ἀγνοοῦσα', 'ἰσραηλιτῶν', 'ἀβραὰμ', 'ἑρμηνεία', 'ἰωσὴφ', 'ἑρμηνεύεται', 'ἀντιοχείας', 'γαΐου'], ['θεόπομπος', 'ἐβασίλευσε', 'ἱεροσόλυμα', 'ἰουδαίους', 'ἡρώδην', 'ἡρώδης', 'ἱεροσολύμων', 'φιλιππικῶν', 'κρήνη', 'ἡρώδου', 'ἐπιχώριοι', 'κρήνην', 'ἐπίσκοπος', 'ἰσραὴλ', 'ἰούδα', 'καῖσαρ', 'ἀπίστων', 'ἀγάπης', 'ἰουδαίοις', 'ἀδὰμ', 'ἀσσυρίων', 'ἑβραίων', 'ἰουδαίαν', 'ἰουδαῖοι', 'μωυσῆς', 'λυσίας', 'μιχαὴλ', 'ἐντολῶν', 'ἱερουσαλὴμ', 'ἐκπέμπει', 'κωνσταντῖνος', 'ἀλεξανδρείας', 'νῶε', 'ξένε', 'ξὺν', 'ἀντιοχείας', 'ἤρετο', 'ἰσραηλιτῶν', 'κωνσταντίνου', 'ἰακὼβ', 'ἀλώπηξ', 'μωυσέως', 'ἀβραὰμ', 'ἐγέννησε', 'δείσας', 'κωνσταντῖνον', 'ἱεροσολύμοις', 'ἀντιόχου', 'ἡρώδῃ', 'κατακλυσμοῦ'], ['θεόπομπος', 'ἡρώδης', 'μιχαὴλ', 'ἐβασίλευσε', 'ἡρώδου', 'ἱεροσόλυμα', 'ἰουδαίους', 'φανόδημος', 'παρέσται', 'ἱεροσολύμων', 'κωνσταντῖνος', 'καῖσαρ', 'μωυσῆς', 'ἱεροσολύμοις', 'κωνσταντίνου', 'ἡρώδην', 'ἐπίσκοπος', 'ἰσραὴλ', 'ἰούδα', 'ἰουδαῖοι', 'ἰουδαίοις', 'ἀσσυρίων', 'δυναστεία', 'ἑβραίων', 'θηβαίων', 'τεὸν', 'ἀγάπης', 'ἀρχιερέως', 'ἰουδαίαν', 'σέο', 'ἄθλιε', 'ὄνομ', 'πέλεν', 'ἡρακλείδης', 'βασιλείου', 'ἀράβων', 'νῶε', 'βούλοιτ', 'ἀντιπάτρου', 'ἀντίπατρος', 'ἀδὰμ', 'ἰσραηλιτῶν', 'ἰουδαίας', 'σεῖο', 'φιλιππικῶν', 'πολιορκίαν', 'βουλγάρων', 'ὑρκανὸν', 'καίσαρι', 'διαλέγου'], ['πρε', 'μιχαὴλ', 'ἡρώδης', 'ὁσίου', 'τρι', 'σύρου', 'ἐφραίμ', 'ἐβασίλευσε', 'ἰουδαίους', 'ἱεροσόλυμα', 'παναγίας', 'ἀδὰμ', 'ἱεροσολύμων', 'κωνσταντίνου', 'κωνσταντῖνος', 'ἐπίσκοπος', 'καῖσαρ', 'ἰουδαίοις', 'ἐκπέμπει', 'ἰουδαῖοι', 'ἰουδαίαν', 'ἡρώδην', 'ἰωάννην', 'ἰσραὴλ', 'ἱεροσολύμοις', 'ἀβραὰμ', 'ἱερουσαλὴμ', 'βουλγάρων', 'μωυσῆς', 'ἀσσυρίων', 'ἀράβων', 'ἑρμηνεία', 'ζητήσεις', 'πατριάρχου', 'χαλδαίων', 'ἡρώδου', 'ἀντιοχείας', 'κωνσταντῖνον', 'δημάδης', 'ἰούδα', 'πατριάρχης', 'ἀντιόχου', 'νῶε', 'ἰώσηπος', 'ἰνδικτιῶνος', 'συμεὼν', 'ἀντίοχος', 'βασιλείου', 'ἑβραίων', 'ἰσαῖος'], ['θεόπομπος', 'ἐβασίλευσε', 'ἐπίσκοπος', 'ἰσραὴλ', 'ἀδὰμ', 'ἰούδα', 'ἀσσυρίων', 'φιλιππικῶν', 'ἡρώδου', 'νῶε', 'ἰουδαίους', 'ἡρώδης', 'ἀβραὰμ', 'ἰουδαίοις', 'μωυσῆς', 'ἱεροσόλυμα', 'λυσίας', 'κωνσταντῖνος', 'ἐγέννησε', 'ἀγάπης', 'ἰωσὴφ', 'ἰουδαίαν', 'ὑπερείδης', 'ἰωάννην', 'κτησιφῶντος', 'ἱεροσολύμων', 'μωυσέως', 'ἑρμηνεύεται', 'ἰσαῖος', 'σαρκώσεως', 'χαλδαίων', 'σύνθεμα', 'κθʹ', 'ἱερουσαλὴμ', 'ἰουδαῖοι', 'ἀλώπηξ', 'ἀλεξανδρείας', 'ἄρατος', 'ἡρώδην', 'ἀντίοχος', 'αἰσχίνης', 'δημοσθένους', 'ἰακὼβ', 'ἀντιφῶν', 'ἑβραίων', 'καῖσαρ', 'γνήσιος', 'κατακλυσμοῦ', 'βουλγάρων', 'δείναρχος'], ['κόσμους', 'ἡρώδου', 'ἱεροσολύμων', 'ἀλώπηξ', 'ἡρώδης', 'ἑρμηνεία', 'ἑβραίων', 'ἰουδαίους', 'ἰουδαίοις', 'ἰνδῶν', 'ἱεροσόλυμα', 'ἐβασίλευσε', 'ἰσραὴλ', 'καῖσαρ', 'ξένε', 'ἐπίσκοπος', 'μιχαὴλ', 'ἰνδὸς', 'ἰούδα', 'ἀδὰμ', 'κωνσταντίνου', 'ἀσσυρίων', 'ἤρετο', 'ἡρώδην', 'ἐκπέμπει', 'ἰουδαίαν', 'ἱεροσολύμοις', 'ἀγάπης', 'γωνίαν', 'ἀπολλώνιον', 'ῥηγῖνος', 'ἱδρῦσθαι', 'ξὺν', 'κωνσταντῖνος', 'ἀτρέμα', 'ἰουδαῖοι', 'κόσμων', 'ἐρέσιος', 'ἁπτομένους', 'συντεταγμένους', 'φανίας', 'δωριεὺς', 'ἀνέγνων', 'προσάπτων', 'συμεὼν', 'βιβλίδιον', 'πιθανότητα', 'ἡρακλείδης', 'λυσίας', 'αὐτοκράτωρ'], ['πρε', 'σύρου', 'ἐφραίμ', 'τρι', 'παναγίας', 'ὁσίου', 'ἐβασίλευσε', 'ἡρώδης', 'ἡρώδου', 'ἰσραὴλ', 'ἱεροσολύμων', 'ἰουδαίαν', 'ἰουδαίους', 'ἰουδαίοις', 'θεόπομπος', 'ἱεροσολύμοις', 'ἐπίσκοπος', 'ἡρώδην', 'ἱεροσόλυμα', 'ἀδὰμ', 'λυσίας', 'ἰούδα', 'μωυσῆς', 'ἰδεῶν', 'κωνσταντῖνος', 'ἰουδαῖοι', 'μιχαὴλ', 'κτησιφῶντος', 'καῖσαρ', 'κωνσταντίνου', 'ἀγάπης', 'νῶε', 'δυναστεία', 'ἀβραὰμ', 'ὑπερείδης', 'κον', 'ἑβραίων', 'χαλδαίων', 'ἀσσυρίων', 'ἀντιόχου', 'μονα', 'αἰσχίνης', 'ἐκπέμπει', 'σίμων', 'ἰωάννην', 'γνήσιος', 'ἀντιφῶν', 'μωυσέως', 'ἱερουσαλὴμ', 'ἀλώπηξ'], ['δημάδης', 'ἐβασίλευσε', 'ἡρώδης', 'ἱεροσολύμων', 'ἰουδαίους', 'ἐπίσκοπος', 'μιχαὴλ', 'ἰουδαίαν', 'ἡρώδου', 'κωνσταντίνου', 'ἀδὰμ', 'ἰσραὴλ', 'κωνσταντῖνος', 'ἰούδα', 'μωυσῆς', 'ἀσσυρίων', 'ἐκπέμπει', 'νῶε', 'καῖσαρ', 'ἰουδαῖοι', 'ἰουδαίοις', 'βασιλείου', 'ἡρώδην', 'ἱεροσόλυμα', 'ἐγέννησε', 'ἀβραὰμ', 'καίσαρα', 'ἑβραίων', 'ἱερουσαλὴμ', 'πατριάρχης', 'μωυσέως', 'ἰωσὴφ', 'πατρίκιος', 'ἀντιοχείας', 'ἰωάννην', 'θηβαίων', 'ἰακὼβ', 'ἱεροσολύμοις', 'αἰχμαλωσίας', 'ἀρχιερεὺς', 'ἀντίοχος', 'ἀγάπης', 'μούσαις', 'ἀλεξανδρείας', 'κωνσταντῖνον', 'ἰνδικτιῶνος', 'βασίλειος', 'ὑρκανὸν', 'ἰουδαίας', 'κατακλυσμοῦ'], ['τᾶς', 'ἡρώδης', 'ἱεροσόλυμα', 'ἰουδαίους', 'ἱεροσολύμων', 'πρε', 'θεόπομπος', 'μωυσῆς', 'ἰουδαίοις', 'ἡρώδου', 'ἡρώδην', 'τοὶ', 'ἰουδαίαν', 'καῖσαρ', 'ἀρχιερέως', 'ἰουδαῖοι', 'ἐβασίλευσε', 'ἑβραίων', 'ἀρχὰν', 'ὑρκανὸν', 'ἰνδῶν', 'ἀντιοχείας', 'ἰωσήπου', 'ἰούδα', 'ἱεροσολύμοις', 'ἀντίοχος', 'ἰωάννην', 'κωνσταντίνου', 'ἰσραηλιτῶν', 'τίτος', 'ἀρχιερεὺς', 'ἐκπέμπει', 'νικῶσιν', 'ἰουδαίας', 'ἀσσυρίων', 'ἡρώδῃ', 'ἀγρίππας', 'ἀρχιερέα', 'σίμων', 'αὐτοκράτωρ', 'πολιορκίαν', 'ἀράβων', 'καίσαρα', 'ἀντιπάτρου', 'καλχηδόνι', 'ἐπίσκοπος', 'ἀδὰμ', 'ξένε', 'μιχαὴλ', 'ἀντίπατρος'], ['ἡρώδης', 'ἡρώδου', 'θησέα', 'ἱεροσόλυμα', 'ἐβασίλευσε', 'ἰουδαίους', 'καῖσαρ', 'ἱεροσολύμων', 'ἰουδαίαν', 'νεανίσκου', 'ἡρώδην', 'θεόπομπος', 'ἑβραίων', 'ἰουδαίοις', 'ἰουδαῖοι', 'ἀσσυρίων', 'ἡρώδῃ', 'μωυσῆς', 'ἰσραὴλ', 'γαΐου', 'ἀδὰμ', 'ἐπίσκοπος', 'ἀντιπάτρου', 'καίσαρα', 'μιχαὴλ', 'ἱεροσολύμοις', 'ἔκτισεν', 'ἰούδα', 'κτίσαι', 'ἐκπέμπει', 'ἑρμηνεία', 'ἰσραηλιτῶν', 'ἀντιοχείας', 'ἰουδαίας', 'κωνσταντίνου', 'ἀντίπατρος', 'νεανίσκους', 'ἥρωος', 'συνήθων', 'συλλαβὴν', 'πρᾴως', 'ὑπέστρεψεν', 'ἀντιόχου', 'ἀγρίππας', 'ἀνενεγκεῖν', 'ξένε', 'νικαίας', 'ἐρῶντα', 'ἐξειπεῖν', 'λυσίας'], ['ἡρώδου', 'ἡρώδης', 'ἰουδαίους', 'ἱεροσόλυμα', 'κτησιφῶντος', 'λυσίας', 'ἄρατος', 'ἡρακλείδης', 'ἱεροσολύμων', 'θεόπομπος', 'μωυσῆς', 'ἰουδαίαν', 'ἰουδαίοις', 'ἰούδα', 'ἀλώπηξ', 'ἄλεξις', 'αἰσχίνης', 'ἐβασίλευσε', 'ἑβραίων', 'ἡρώδην', 'ἐπίσκοπος', 'ἱεροσολύμοις', 'ἑρμηνεία', 'καῖσαρ', 'σάμον', 'ἀδὰμ', 'ὑπερείδης', 'ἰσαῖος', 'ἀσσυρίων', 'ἀβραὰμ', 'ἰσραὴλ', 'ποντικὸς', 'κωνσταντίνου', 'λυκοῦργος', 'ἰουδαίας', 'ὥρων', 'γνήσιος', 'χαλδαίων', 'γαΐου', 'ὑρκανὸν', 'ἡρώδῃ', 'ἰουδαῖοι', 'κωνσταντῖνος', 'ἀντιπάτρου', 'γοργίου', 'νῶε', 'ὑπολαβὼν', 'καίσαρα', 'σίμων', 'ἰνδῶν']]\n",
      "\n",
      "Can you spot the misplaced word in each topic?\n",
      "0: μιχαὴλ ἐβασίλευσε ἡρώδης ἀδὰμ θεραπευόμενον ἐκπέμπει ἱεροσόλυμα ἱεροσολύμων ἰουδαίαν κωνσταντίνου\n",
      "1: ἡρώδης ἡρώδου ἰουδαίους μιχαὴλ ἐπίσκοπος ἱεροσολύμων ἐβασίλευσε ἰσραὴλ κλειτοφῶν κωνσταντίνου\n",
      "2: ἱεροσόλυμα ἡρώδης ἱεροσολύμων ἰουδαίους ἐβασίλευσε ἰουδαίοις λυσίας ἀνενεγκεῖν θεόπομπος ἡρώδου\n",
      "3: ἡρώδης ἡρώδου ἀλώπηξ ἰουδαίους ἱεροσόλυμα δημάδης ἱεροσολύμοις ἱεροσολύμων ἰουδαίαν πρᾴως\n",
      "4: ἀκουσίλαος ὀμφάλῃ ἡρώδου θεόπομπος ἱεροσολύμων ἡρώδην ἐβασίλευσε μιχαὴλ ἱεροσόλυμα ἀδὰμ\n",
      "5: φανόδημος ἡρώδης ἑβραίων θεόπομπος ἱεροσολύμων ἰουδαίοις ἱεροσόλυμα ἰουδαίους ἰουδαίαν ἐπιχώριοι\n",
      "6: στησίμβροτος ἡρώδης μιχαὴλ ἡρώδου ξένε ἡρώδην θεόπομπος ἱεροσολύμων κλίσεως ἱεροσόλυμα\n",
      "7: ἐβασίλευσε ἡρώδης ἰσραὴλ ἰουδαίους ἰούδα ἱεροσόλυμα ἡρώδου ἰησοῦν ἑρμηνεία καῖσαρ\n",
      "8: θεόπομπος ἡρώδης ἱεροσολύμων ἱεροσόλυμα ἡρώδου ἰουδαίοις ἰουδαίους ἰουδαίαν ἐβασίλευσε πρεσβύτατος\n",
      "9: ἡρώδης ἰουδαίους λυσίας ἱεροσολύμων προσῆλθε ἑβραίων ἡρώδου αἰσχίνης ἰσαῖος ἰουδαίοις\n",
      "10: θεόπομπος κυάμους ἐβασίλευσε ἱεροσολύμων ῥάφανον ἡρώδης θεοπόμπου ἡρώδου θράικης ἰσραὴλ\n",
      "11: ἡρώδης κἢν λυσίας τᾶς μιχαὴλ ἀδικημάτων γυπὸς λῃστὴς ἡρώδου φαρμακείας\n",
      "12: φανόδημος ἐβασίλευσε βάπτειν μιχαὴλ ἡρώδου ἱεροσόλυμα ἡρώδης ἰσραὴλ καῖσαρ ἀγάπης\n",
      "13: ἡρώδης ἑβραίων θεόπομπος μεστὴν ἱεροσόλυμα λυσίας κτησιφῶντος πρε ἰσαῖος ἀδὰμ\n",
      "14: ἐβασίλευσε θεόπομπος ἡρώδης ἱεροσολύμων ἡρώδου ἱεροσόλυμα ἰουδαίαν ἐπίσκοπος ἰούδα συγγενέσι\n",
      "15: ἡρόδωρος ἡρώδης ἄνδρων ἱεροσόλυμα κλειτοφῶν ἱεροσολύμων ἡράκλειαν ἰουδαίοις μιχαὴλ μωυσῆς\n",
      "16: ἡρώδης πρε ἐβασίλευσε ἱεροσόλυμα ἡρώδου βούλοιτ ἰουδαίους ἡρώδην ἱεροσολύμων ἰουδαίοις\n",
      "17: πρε ὁσίου ἐφραίμ παναγίας σύρου τρι κον αἰνίγματα τερ στάσεων\n",
      "18: δυναστεία προείλετο θηβαίων ἀσσυρίων ἱεροσολύμων ἐπίσκοπος ἰούδα ἐβασίλευσαν ἰσραὴλ ἱεροσόλυμα\n",
      "19: λυσίας καθολικῆς ἡρώδης ὑπερείδης μιχαὴλ ἡρώδου ἱεροσόλυμα ἐβασίλευσε ἰουδαίους ἰσοκράτης\n",
      "20: θεόπομπος ἐβασίλευσε ἡρώδης φιλιππικῶν ἰουδαίους ἰσραὴλ ἱεροσολύμων ἡρώδου ἀσσυρίων ἄρατος\n",
      "21: θεόπομπος ἀντιπάτρου θεοπόμπου ἐβασίλευσε θράικης ἡρώδης ὑπερείδης ἡρώδου βαῖνε ἰουδαίους\n",
      "22: ἡρώδης μέθοδον ἱεροσολύμων ἡρώδου ἰουδαίους ἱεροσόλυμα ἰουδαῖοι ἱεροσολύμοις ἑβραίων ἡρώδην\n",
      "23: θεόπομπος ἡρώδης ἡρόδωρος μιχαὴλ ἡρώδου λυσίας ἰουδαίους ἡρακλείδης ἰούδα ἡρώδην\n",
      "24: ἡρώδης ἡρώδου καῖσαρ θεόπομπος ἱεροσόλυμα ἰουδαίους δημοκρατία λυσίας ἱεροσολύμων κτησιφῶντος\n",
      "25: ἐβασίλευσε ἡρώδης ἰουδαίους ἡρώδου δυναστεία ἱεροσόλυμα φροντίδων ἰουδαίαν ἱεροσολύμοις ἰούδα\n",
      "26: ἐβασίλευσε ἱεροσολύμων ἡρώδης ἐπίσκοπος ἱεροσόλυμα ἰσοκράτης ἰσραὴλ ἀλώπηξ ἰουδαίους ἰούδα\n",
      "27: ἐβασίλευσε ἡρώδης ἱεροσολύμων ἡρώδου τέκτων ἱεροσόλυμα ἡρώδην ἀδὰμ μιχαὴλ θεόπομπος\n",
      "28: δημάδης ἡρώδου λυσίας ἡρώδης ἐβασίλευσε ἀδὰμ ἱππῶναξ θεόπομπος κτησιφῶντος ἰουδαίους\n",
      "29: ἀκουσίλαος φυσᾷ ἐβασίλευσε ἱεροσολύμων ἰουδαίους ἡρώδης ἀδὰμ λυσίας καῖσαρ κωνσταντίνου\n",
      "30: ἐβασίλευσε ἡρώδης πατριάρχης ἰουδαίαν ἱεροσόλυμα ἱεροσολύμων ἰσραὴλ ἀδὰμ ἀσσυρίων δυναστεία\n",
      "31: ἡρώδης καῖσαρ ἐβασίλευσε ἡρώδου ἐπίσκοπος ῥητορικὴ ἱεροσολύμων ἰσραὴλ ἰακὼβ μιχαὴλ\n",
      "32: πρε ἡρώδης ἀλώπηξ ἑρμηνεία ἡρώδου καῖσαρ ἱεροσολύμων ἱεροσόλυμα ἀριστοβούλου ἰουδαίοις\n",
      "33: πρε ἡρακλείδης ἐβασίλευσε ἡρώδης ἡρώδου παναγίας ὁσίου φιλαργύρου πρυτανεῖον σύρου\n",
      "34: ἡρώδου ἐβασίλευσε ἡρώδης ἰουδαίους ἰουδαίοις μει ἀδὰμ ἐπίσκοπος ἑβραίων ἡρώδην\n",
      "35: ἀντίοχος ἡρώδης ἱεροσόλυμα ἐβασίλευσε ἱεροσολύμων ἡρώδου πρε ἑβραίων ἰουδαίαν καῖσαρ\n",
      "36: στάσεων ἡρώδης ἱεροσολύμων ἰσαῖος κτησιφῶντος ἰουδαίους ἰουδαίοις ἡρώδου ἱεροσόλυμα ἡρώδην\n",
      "37: ἡρώδης ἡρόδωρος ἐβασίλευσε ἰουδαίους ἰσραὴλ ἡρακλείδης ἱεροσόλυμα ἡρώδου ἐξειπεῖν ἰούδα\n",
      "38: θεόπομπος προσῆλθε νότια ἐβασίλευσε ἡρώδης λυσίας ἡρώδου ἑρμηνεία ἰούδα ἀλώπηξ\n",
      "39: ἡρώδου ἡρώδης ἰουδαίους ἡρακλείδης ἱεροσόλυμα μιχαὴλ ἱεροσολύμων χάριεν ἰουδαίοις ἀλώπηξ\n",
      "40: ἀκουσίλαος ἐβασίλευσε ἡρακλείδης ἡρώδης ἡρώδου καῖσαρ ἱεροσολύμων ξένε αὐτοκράτορα ἰουδαίοις\n",
      "41: αἰνίγματα ἡρώδης ἱεροσόλυμα ἡρώδου ἐπίσκοπος ἱεροσολύμων ἰούδα ἰσραὴλ ἰουδαίοις ἰουδαίαν\n",
      "42: ἡρακλείδης ἡρώδης ἰουδαίους ἡρώδου ἡρόδωρος ἱεροσολύμων ἰουδαίοις ταγμάτων ἰούδα μωυσῆς\n",
      "43: στησίμβροτος ἐβασίλευσε ἰουδαίους ἡρώδου ἡρώδης μιχαὴλ ἱεροσόλυμα δημοκρατία καῖσαρ κωνσταντῖνος\n",
      "44: πρε αἰσχίνου ὁσίου παναγίας σύρου ἐφραίμ θεόπομπος ἐβασίλευσε ἡρόδωρος ἡρώδης\n",
      "45: ἀγνοοῦσα πρε ἡρώδης μιχαὴλ ἄθεος ἐβασίλευσε ἱεροσόλυμα ἡρώδου ἰουδαίους ἰουδαίοις\n",
      "46: πρε ὁσίου ἐφραίμ σύρου συνήθων παναγίας ἐβασίλευσε ἰουδαίους ἀδὰμ ἰσραὴλ\n",
      "47: πρε τρι ἀντίπατρος παναγίας ὁσίου ἐφραίμ κον τερ μονα στάσεων\n",
      "48: ἱεροσόλυμα ἱεροσολύμων πρυτανείῳ ἡρώδης καῖσαρ ἡρώδην θεόπομπος ἀδὰμ λυσίας ἰουδαίους\n",
      "49: ἡρόδωρος ἡρώδης ἡρώδου ἐβασίλευσε ἱεροσολύμων ἀλώπηξ μωυσῆς ἱεροσολύμοις θεωρῆσαι ἰουδαῖοι\n",
      "50: ἡρακλείδης ἐβασίλευσε ἡρώδης μιχαὴλ ἱεροσόλυμα ἑρμηνεία ἐπίσκοπος ἀδὰμ ἐπισκόπου ἡρώδου\n",
      "51: μιχαὴλ ἡρώδης γοργίου ἐβασίλευσε ἰουδαίους θεόπομπος ἡρόδωρος κωνσταντῖνον κατακλυσμοῦ λυσίας\n",
      "52: ἡρώδης ἱεροσόλυμα μιχαὴλ ἡρώδου κωνσταντίνου ἱεροσολύμων καῖσαρ ἐβασίλευσε ἀδίκημα ἰουδαίους\n",
      "53: μιχαὴλ ἡρακλείδης ἡρώδης ἄρατος θατέρᾳ ἀκουσίλαος ἀγάπης ἰουδαίους ἐκπέμπει θεόπομπος\n",
      "54: ἡρώδης ἱεροσολύμων ἡρώδου ἰουδαίους ἡράκλειαν ἱεροσόλυμα καῖσαρ ἡρακλείδης ἡρώδην ἰουδαίοις\n",
      "55: θεόπομπος ῥητορικὴ ἡρώδης ἡρώδου γαΐου ἐβασίλευσε ἱεροσόλυμα ἰουδαίους ὁρισμὸν ἀγάπης\n",
      "56: ἡρώδης ἱεροσολύμων ἰουδαίους ἐβασίλευσε ἡρώδου ἀσσυρίων κωνσταντῖνος μαγειρικὴν καῖσαρ ἐπίσκοπος\n",
      "57: ἐβασίλευσε ἡρώδης θεόπομπος ἡρώδου ἰουδαίοις ἀδὰμ ἀλώπηξ ἔφεσον ἱεροσόλυμα λέγ\n",
      "58: τᾶς ὑπολαβὼν ἰουδαίους ἡρακλείδης ἡρώδου ἰουδαίαν ἱεροσολύμων ἱεροσόλυμα μωυσῆς ἡρώδην\n",
      "59: ἐπονομάσας ἐβασίλευσε ἡρώδου ἡρώδης ἰουδαίους ἱεροσόλυμα ἐπίσκοπος ἰσραὴλ ἰουδαίοις καῖσαρ\n",
      "60: ἐβασίλευσε ἡρώδης ἔγχει μιχαὴλ ἰουδαίους ἰσραὴλ ἡρακλείδης ἰούδα ἱεροσολύμων καῖσαρ\n",
      "61: σύνθεμα ἡρώδης ἡρώδου μιχαὴλ ἐπίσκοπος ἱεροσολύμων ἱεροσόλυμα ἑρμηνεία ἀλώπηξ ἡρώδην\n",
      "62: ἡρώδης ἱεροσόλυμα ἰουδαίους ἱεροσολύμων ἡρώδην ἡρώδου ἀλώπηξ ἰώσηπον ἰουδαίοις κωνσταντῖνος\n",
      "63: θεόπομπος ἡρώδης καῖσαρ ἰουδαίους ἐβασίλευσε ἡρώδου ἱεροσολύμων ἱεροσόλυμα ἑβραίων ὀμφάλῃ\n",
      "64: θεόπομπος παρέντες ἡρώδης ἱεροσολύμων ἐβασίλευσε ἰουδαίους ἡρώδου ἰουδαίαν μωυσῆς καῖσαρ\n",
      "65: δυναστεία ἐβασίλευσε θεόπομπος ἐβασίλευσαν ὄφρα ἡρακλείδης ἰσραὴλ ἐπίσκοπος ἡρώδου ἰούδα\n",
      "66: πρε ὁσίου ἐφραίμ παναγίας τρι σύρου τᾶς πρυτανεῖον λάβ λυσίας\n",
      "67: θεόπομπος ἡρώδης ἐβασίλευσε πρε ἰσραὴλ ἀδὰμ ἐπίσκοπος ἱερουσαλήμ ἡρώδου ἰουδαίους\n",
      "68: ἡρώδης μιχαὴλ ἰουδαίους πολύκαρπος ἱεροσολύμων ἡρώδου ἰουδαῖοι καῖσαρ τοὶ ἱεροσόλυμα\n",
      "69: σῦκα ἡρώδης ἡρώδην ἱεροσολύμων ἐφραίμ ἰουδαίους ἱεροσόλυμα ἡρακλείδης ἡρώδου καῖσαρ\n",
      "70: ἄρατος περσέως ἡρώδης ἐβασίλευσε ἰδεῶν μέθοδος γυπὸς ἰουδαίους μιχαὴλ ἱεροσολύμων\n",
      "71: πρε ἐβασίλευσε συνήθων ἱεροσόλυμα ἡρώδης ἱεροσολύμων ἡρώδου ἐπίσκοπος ἰουδαίους ἰουδαῖοι\n",
      "72: πρε ἰουδαίους πιὼν ἡρώδης ἱεροσόλυμα ἰουδαίαν καῖσαρ ἐβασίλευσε ἰουδαίοις ἱεροσολύμων\n",
      "73: λυσίας κτησιφῶντος ὑπερείδης αἰσχίνης ἡρώδου ἐβασίλευσε ἡρακλείδης ἰσαῖος μδʹ ἰσραὴλ\n",
      "74: ἐβασίλευσε ἡρώδης μωυσῆς ἰουδαίους ἡρώδου ἱεροσολύμων ἄρατος ἱεροσόλυμα ἀσσυρίων ἐπίσκοπος\n",
      "75: ἐβασίλευσε ἡρώδης ἰσραὴλ ἐπίσκοπος ἡρώδου ἑβραίων ἰουδαίους ὄνομ ἱεροσόλυμα ἱεροσολύμων\n",
      "76: πρε ἡρώδης ἡρακλείδης αἰήτου ἱεροσόλυμα ἐφραίμ ἰουδαίους ἱεροσολύμων ἰουδαῖοι ἰουδαίαν\n",
      "77: ἐβασίλευσε ἡρώδης ἀλώπηξ ἰουδαίους δαρεῖος ἡρώδου ἰουδαίοις μωυσῆς ἡρώδην ἰσραὴλ\n",
      "78: θατέρᾳ ἡρώδης ἡρώδου ἰουδαίους ἐφραίμ καῖσαρ παναγίας ἱεροσόλυμα ἱεροσολύμων σύρου\n",
      "79: ἐβασίλευσε ἀπίστων θεόπομπος ἰουδαίους ἡρώδου ἱεροσόλυμα κτησιφῶντος μωυσῆς λυσίας ἀλώπηξ\n",
      "80: θεόπομπος ἐβασίλευσε φιλιππικῶν ἡρώδης ἡρώδου ἱεροσόλυμα φρύγας ἰουδαίους δυναστεία μιχαὴλ\n",
      "81: ἐβασίλευσε ἡρώδης δυναστεία ἀδὰμ ἐπίσκοπος κῶμον ἱεροσολύμων θεόπομπος ἀλώπηξ ἡρώδου\n",
      "82: θεόπομπος ζητήσεις ἡρώδης ἰούδα λυσίας ἰσραὴλ ἐπίσκοπος ἡρώδου ὑπερείδης ἰουδαίους\n",
      "83: ἡρώδης μιχαὴλ ἐβασίλευσε κωνσταντίνου κωνσταντῖνον ἡρώδου ἰουδαίους ἰωάννην καῖσαρ ἑρμόδωρος\n",
      "84: θατέρᾳ ὁρισμὸν ἡρώδης καῖσαρ φόρων ἰουδαίους ἱεροσολύμων ἐπίσκοπος ἀφίκοντο ὄνους\n",
      "85: ἕλληνος ἐβασίλευσε φιλιππικῶν ἡρώδης πρε ἱεροσόλυμα δυναστεία ἡρώδου ἱεροσολύμων δημάδης\n",
      "86: ἐβασίλευσε ἡρώδης ἱεροσόλυμα ἀδὰμ ἱεροσολύμων ἰουδαίοις ἰουδαίους ἡρώδου ἐμπέσοι ἰούδα\n",
      "87: ἐβασίλευσε ἡρώδης δυναστεία θηβαίων ἱεροσόλυμα ἱεροὶ ἰουδαίους ἱεροσολύμων ἡρώδου ἀδὰμ\n",
      "88: θεόπομπος ἡρώδου ἱεροσολύμων προλαμβάνοντες ἡρώδης κωνσταντῖνος ἰουδαίους μιχαὴλ ἡρώδην ἱεροσόλυμα\n",
      "89: πρε παναγίας ἐφραίμ τρι σύρου ὁσίου ἡρώδης πέλεν ἱεροσολύμων νοημάτων\n",
      "90: ἡρώδης ἰουδαίους θεόπομπος ἐβασίλευσε πολεμοῦντες ἰουδαίοις μιχαὴλ καῖσαρ ἰσραὴλ ἰούδα\n",
      "91: θεόπομπος ἐβασίλευσε ἰσραὴλ ἡρώδου ἱεροσολύμων ἡρώδης ἰουδαίοις ἰούδα ἐπωμίδα ἰουδαίους\n",
      "92: πρε τρι παναγίας ἐφραίμ σύρου ὁσίου στησίμβροτος ἡρώδης ἡρώδου ἰσοκράτους\n",
      "93: πρε ἐφραίμ ὁσίου τρι σύρου παναγίας θεόπομπος αἰὲν ἀκουσίλαος ἱεροσολύμων\n",
      "94: ἡρώδης φιλόχορος ἰουδαίους ἡρώδου μιχαὴλ ἰουδαίοις παρμενίδου ἱεροσόλυμα κωνσταντίνου καῖσαρ\n",
      "95: ἐβασίλευσε θεόπομπος ἡρώδης ἐπίσκοπος ἱεροσολύμων ἀλώπηξ λυσίας ἰούδα ἀντιφῶν ἱεροσολύμοις\n",
      "96: θεόπομπος ἡρώδης ἐβασίλευσε ἡρώδου ἰουδαίους ἰουδαίοις εὐφορίων ἱεροσολύμων ἱεροσόλυμα ὑπερείδης\n",
      "97: ἡρώδης ἰουδαίους ἱεροσόλυμα ἐβασίλευσε συνήθων ἡρώδου ἰουδαίοις καῖσαρ ἑρμηνεία θεόπομπος\n",
      "98: ἡρώδης δυναστεία ἐβασίλευσε ἡρακλείδης ἱεροσολύμων ἡρώδου ἱεροσόλυμα ἰσραὴλ φήσαντος ἀδὰμ\n",
      "99: ἀκουσίλαος ἐβασίλευσε δυναστεία λαʹ ἡρώδου θεόπομπος ἱεροσολύμων ἰουδαίους ἱεροσόλυμα θηβαίων\n",
      "100: τᾶς θεόπομπος ἡρώδης ὑπερείδης ἡρώδου ἐβασίλευσε λυσίας κτησιφῶντος ἐπιστολαί ἰουδαίοις\n",
      "101: πρε σύρου ἐφραίμ τρι παναγίας ὁσίου δημάδης ἡρώδης φήσαντος ἰδεῶν\n",
      "102: θεόπομπος ἐβασίλευσε ἡρώδης δυναστεία ἱεροσόλυμα φιλιππικῶν ἡρώδου οὔνομα ἐβασίλευσαν ἰουδαίους\n",
      "103: ἐβασίλευσε δυναστεία ἡρώδης λυσίας ἀκουσίλαος ἱεροσολύμων ἀδὰμ ἰουδαίους ἡρώδου ἱππεῖς\n",
      "104: θεόπομπος ἀκουσίλαος ἡρώδης ἱεροσόλυμα φιλιππικῶν ἔφεσον ἡρώδου καῖσαρ ρλʹ κλειτοφῶν\n",
      "105: ἐβασίλευσε ἡρώδης ἰουδαίους ἱεροσολύμων ἡρώδου καῖσαρ μονα ἐπίσκοπος ἱεροσόλυμα ἰουδαίαν\n",
      "106: παρμενίδου ἐβασίλευσε ἡρώδης ἱεροσολύμων σαμίων ἰουδαίαν ἰουδαίους ἰσραὴλ ἰουδαῖοι μωυσῆς\n",
      "107: ἡρώδης ἡρώδου ἱεροσολύμων ἔπινεν ἱεροσόλυμα ἰουδαίους θεόπομπος ἰνδῶν ἰουδαίοις ἀλώπηξ\n",
      "108: ἡρώδης ἐβασίλευσε ἱεροσόλυμα ἡρώδου σέβειν ἰουδαίους καῖσαρ θεόπομπος ἱεροσολύμων ἡρώδην\n",
      "109: ἡρώδης ῥητορικὴ ῥητορική ὥρων ἰουδαίοις ἡρώδου θεόπομπος ἱεροσολύμων ἀδὰμ ὁρισμὸν\n",
      "110: κατακλυσμὸν ἐβασίλευσε ἱεροσόλυμα ἰουδαίους ἡρώδην ἡρώδης ἱεροσολύμων φιλιππικῶν κρήνη ἡρώδου\n",
      "111: θεόπομπος ἡρώδης μιχαὴλ ἐβασίλευσε ἡρώδου ἱεροσόλυμα ἰουδαίους φανόδημος παρέσται κύματ\n",
      "112: πρε μιχαὴλ ἡρώδης ὁσίου τρι κἢν ἐφραίμ ἐβασίλευσε ἰουδαίους ἱεροσόλυμα\n",
      "113: θεόπομπος ἐβασίλευσε ἐπίσκοπος ἰσραὴλ ἀδὰμ ἐόντων ἀσσυρίων φιλιππικῶν ἡρώδου νῶε\n",
      "114: κόσμους ἡρώδου ἱεροσολύμων μδʹ ἡρώδης ἑρμηνεία ἑβραίων ἰουδαίους ἰουδαίοις ἰνδῶν\n",
      "115: πρε σύρου ἐφραίμ τρι παναγίας ὁσίου ἐβασίλευσε τίτος ἡρώδου ἰσραὴλ\n",
      "116: δημάδης ἐβασίλευσε ἡρώδης ἱεροσολύμων ἰουδαίους παλατίου μιχαὴλ ἰουδαίαν ἡρώδου κωνσταντίνου\n",
      "117: τᾶς ἡρώδης ἱεροσόλυμα ἰουδαίους ἱεροσολύμων πρε θεόπομπος μωυσῆς βασίλειος ἡρώδου\n",
      "118: ἡρώδης δυναστείας θησέα ἱεροσόλυμα ἐβασίλευσε ἰουδαίους καῖσαρ ἱεροσολύμων ἰουδαίαν νεανίσκου\n",
      "119: ἡρώδου ἡρώδης ἕλληνος ἱεροσόλυμα κτησιφῶντος λυσίας ἄρατος ἡρακλείδης ἱεροσολύμων θεόπομπος\n",
      "Actual replacements were:\n",
      "[(0, ('λυσίας', 'θεραπευόμενον')), (1, ('ἰουδαίοις', 'κλειτοφῶν')), (2, ('ὅκως', 'ἀνενεγκεῖν')), (3, ('ἰχθὺν', 'πρᾴως')), (4, ('ἡρώδης', 'ὀμφάλῃ')), (5, ('ἡρώδου', 'ἐπιχώριοι')), (6, ('ἰουδαίους', 'κλίσεως')), (7, ('θεόπομπος', 'ἰησοῦν')), (8, ('ἀλώπηξ', 'πρεσβύτατος')), (9, ('ὑπερείδης', 'προσῆλθε')), (10, ('φιλιππικῶν', 'κυάμους')), (11, ('ἐόντων', 'γυπὸς')), (12, ('ἰουδαίους', 'βάπτειν')), (13, ('ὑπερείδης', 'μεστὴν')), (14, ('ἰουδαίοις', 'συγγενέσι')), (15, ('ἰουδαίους', 'κλειτοφῶν')), (16, ('ἱεροσολύμοις', 'βούλοιτ')), (17, ('ἰδεῶν', 'αἰνίγματα')), (18, ('ἐβασίλευσε', 'προείλετο')), (19, ('ἰσαῖος', 'καθολικῆς')), (20, ('ἐπίσκοπος', 'ἄρατος')), (21, ('φιλιππικῶν', 'ἀντιπάτρου')), (22, ('ἐβασίλευσε', 'μέθοδον')), (23, ('ἱεροσόλυμα', 'λυσίας')), (24, ('ἐβασίλευσε', 'δημοκρατία')), (25, ('ἰουδαίοις', 'φροντίδων')), (26, ('ἰουδαίοις', 'ἰσοκράτης')), (27, ('ἰσραὴλ', 'τέκτων')), (28, ('ἱεροσολύμων', 'ἱππῶναξ')), (29, ('μιχαὴλ', 'φυσᾷ')), (30, ('θεόπομπος', 'πατριάρχης')), (31, ('ἰουδαίους', 'ἰακὼβ')), (32, ('ἰουδαίους', 'ἀριστοβούλου')), (33, ('ἑρμείας', 'φιλαργύρου')), (34, ('ἱεροσόλυμα', 'μει')), (35, ('ἰουδαίους', 'ἀντίοχος')), (36, ('λυσίας', 'στάσεων')), (37, ('ἰουδαίοις', 'ἐξειπεῖν')), (38, ('φλυαρία', 'νότια')), (39, ('ἐβασίλευσε', 'χάριεν')), (40, ('ἰουδαίους', 'αὐτοκράτορα')), (41, ('ἐβασίλευσε', 'αἰνίγματα')), (42, ('ἐβασίλευσε', 'ταγμάτων')), (43, ('κωνσταντίνου', 'δημοκρατία')), (44, ('τρι', 'αἰσχίνου')), (45, ('θεόπομπος', 'ἀγνοοῦσα')), (46, ('τρι', 'συνήθων')), (47, ('σύρου', 'ἀντίπατρος')), (48, ('ἀλώπηξ', 'πρυτανείῳ')), (49, ('ἰουδαίους', 'θεωρῆσαι')), (50, ('ἱεροσολύμων', 'ἐπισκόπου')), (51, ('ἡρώδου', 'κατακλυσμοῦ')), (52, ('θεόπομπος', 'ἀδίκημα')), (53, ('ἡρώδου', 'θατέρᾳ')), (54, ('θεόπομπος', 'ἡράκλειαν')), (55, ('φιλιππικῶν', 'γαΐου')), (56, ('ἡρώδην', 'μαγειρικὴν')), (57, ('ἰσραὴλ', 'λέγ')), (58, ('ἡρώδης', 'ὑπολαβὼν')), (59, ('θεόπομπος', 'ἐπονομάσας')), (60, ('ἡρώδου', 'ἔγχει')), (61, ('ἐβασίλευσε', 'σύνθεμα')), (62, ('καῖσαρ', 'ἰώσηπον')), (63, ('μιχαὴλ', 'ὀμφάλῃ')), (64, ('φιλιππικῶν', 'παρέντες')), (65, ('θηβαίων', 'ὄφρα')), (66, ('ἡρώδης', 'πρυτανεῖον')), (67, ('μιχαὴλ', 'ἱερουσαλήμ')), (68, ('ἡρώδην', 'τοὶ')), (69, ('πρε', 'σῦκα')), (70, ('ἡρώδου', 'γυπὸς')), (71, ('θεόπομπος', 'συνήθων')), (72, ('ἡρώδου', 'πιὼν')), (73, ('ἡρώδης', 'μδʹ')), (74, ('ἀλώπηξ', 'ἄρατος')), (75, ('ἰούδα', 'ὄνομ')), (76, ('ἡρώδου', 'αἰήτου')), (77, ('ἰούδα', 'δαρεῖος')), (78, ('πρε', 'θατέρᾳ')), (79, ('ἡρώδης', 'ἀπίστων')), (80, ('ἰουδαίοις', 'φρύγας')), (81, ('ἰουδαίοις', 'κῶμον')), (82, ('ἐβασίλευσε', 'ζητήσεις')), (83, ('κωνσταντῖνος', 'ἑρμόδωρος')), (84, ('ἐβασίλευσε', 'ὁρισμὸν')), (85, ('θεόπομπος', 'ἕλληνος')), (86, ('ἡρώδην', 'ἐμπέσοι')), (87, ('μωυσῆς', 'ἱεροὶ')), (88, ('στησίμβροτος', 'προλαμβάνοντες')), (89, ('ἰουδαίοις', 'νοημάτων')), (90, ('ἱεροσόλυμα', 'πολεμοῦντες')), (91, ('ἱεροσόλυμα', 'ἐπωμίδα')), (92, ('μιχαὴλ', 'ἰσοκράτους')), (93, ('ἡρώδης', 'αἰὲν')), (94, ('ἐβασίλευσε', 'φιλόχορος')), (95, ('ἰουδαίους', 'ἀντιφῶν')), (96, ('κτησιφῶντος', 'εὐφορίων')), (97, ('ἀλώπηξ', 'συνήθων')), (98, ('ἰουδαίους', 'φήσαντος')), (99, ('ἡρώδης', 'λαʹ')), (100, ('ἰουδαίους', 'ἐπιστολαί')), (101, ('ἱεροσολύμων', 'φήσαντος')), (102, ('θηβαίων', 'οὔνομα')), (103, ('ἱεροσόλυμα', 'ἱππεῖς')), (104, ('ἱεροσολύμων', 'ρλʹ')), (105, ('ἡρώδην', 'μονα')), (106, ('ἡρώδου', 'παρμενίδου')), (107, ('ἐβασίλευσε', 'ἔπινεν')), (108, ('ἐπίσκοπος', 'σέβειν')), (109, ('ἰουδαίους', 'ὥρων')), (110, ('θεόπομπος', 'κατακλυσμὸν')), (111, ('ἱεροσολύμων', 'κύματ')), (112, ('σύρου', 'κἢν')), (113, ('ἰούδα', 'ἐόντων')), (114, ('ἀλώπηξ', 'μδʹ')), (115, ('ἡρώδης', 'τίτος')), (116, ('ἐπίσκοπος', 'παλατίου')), (117, ('ἰουδαίοις', 'βασίλειος')), (118, ('ἡρώδου', 'δυναστείας')), (119, ('ἰουδαίους', 'ἕλληνος'))]\n",
      "\n"
     ]
    }
   ],
   "source": [
    "for num_topics in NUM_TOPICS_LIST:\n",
    "    # load model\n",
    "    lda_model_name = 'gensim_lda_model_tlg_numtopics{}_numpasses{}_nobelow{}_noabove{}_tokmin{}_tokmax{}_docmin{}_deaccent{}.model'.format(num_topics, \n",
    "                                                                                                                                           PASSES, \n",
    "                                                                                                                                           no_below, \n",
    "                                                                                                                                           no_above, \n",
    "                                                                                                                                           TOK_MIN, \n",
    "                                                                                                                                           TOK_MAX, \n",
    "                                                                                                                                           DOC_MIN, \n",
    "                                                                                                                                           PREPROCESS_DEACCENT)\n",
    "    print('Loading model: {} ...'.format(lda_model_name))\n",
    "    print('... for word intrusion testing ...')\n",
    "    path_lda = os.path.join(user_dir, lda_model_name)\n",
    "    lda_model = gensim.models.LdaMulticore.load(path_lda)\n",
    "    \n",
    "    # select top 50 words for each of the LDA topics\n",
    "    print('Top 50 words of each LDA model:')\n",
    "    top_words = [[word for word, _ in lda_model.show_topic(topicno, topn=50)] for topicno in range(lda_model.num_topics)]\n",
    "    print(top_words)\n",
    "    print('')\n",
    "\n",
    "    # get all top 50 words in all 20 topics, as one large set\n",
    "    all_words = set(itertools.chain.from_iterable(top_words))\n",
    "    print(\"Can you spot the misplaced word in each topic?\")\n",
    "\n",
    "    # for each topic, replace a word at a different index, to make it more interesting\n",
    "    replace_index = np.random.randint(0, 10, lda_model.num_topics)\n",
    "\n",
    "    replacements = []\n",
    "    for topicno, words in enumerate(top_words):\n",
    "        other_words = all_words.difference(words)\n",
    "        replacement = np.random.choice(list(other_words))\n",
    "        replacements.append((words[replace_index[topicno]], replacement))\n",
    "        words[replace_index[topicno]] = replacement\n",
    "        print(\"%i: %s\" % (topicno, ' '.join(words[:10])))\n",
    "    \n",
    "    print(\"Actual replacements were:\")\n",
    "    print(list(enumerate(replacements)))\n",
    "    print('')"
   ]
  },
  {
   "cell_type": "markdown",
   "metadata": {},
   "source": [
    "## Split doc\n",
    "\n",
    "> We'll split each document into two parts, and check that 1) topics of the first half are similar to topics of the second 2) halves of different documents are mostly dissimilar"
   ]
  },
  {
   "cell_type": "code",
   "execution_count": 17,
   "metadata": {
    "collapsed": true
   },
   "outputs": [],
   "source": [
    "# evaluate on 1k documents **not** used in LDA training\n",
    "tlg_preprocessed = os.path.expanduser('~/cltk_data/greek/text/tlg/plaintext/')\n",
    "doc_stream = (tokens for _, tokens in iter_tlg(tlg_preprocessed))  # generator\n",
    "test_docs = list(itertools.islice(doc_stream, 100, 200))  # ['πανυ', 'καλως', ...], [...], ...]"
   ]
  },
  {
   "cell_type": "code",
   "execution_count": 18,
   "metadata": {
    "collapsed": true
   },
   "outputs": [],
   "source": [
    "def intra_inter(model, test_docs, num_pairs=10000):\n",
    "    # split each test document into two halves and compute topics for each half\n",
    "    part1 = [model[id2word_tlg.doc2bow(tokens[: len(tokens) // 2])] for tokens in test_docs]\n",
    "    part2 = [model[id2word_tlg.doc2bow(tokens[len(tokens) // 2 :])] for tokens in test_docs]\n",
    "    \n",
    "    # print computed similarities (uses cossim)\n",
    "    print(\"average cosine similarity between corresponding parts (higher is better):\")\n",
    "    print(np.mean([gensim.matutils.cossim(p1, p2) for p1, p2 in zip(part1, part2)]))\n",
    "\n",
    "    random_pairs = np.random.randint(0, len(test_docs), size=(num_pairs, 2))\n",
    "    print(\"average cosine similarity between {} random parts (lower is better):\".format(num_pairs))    \n",
    "    print(np.mean([gensim.matutils.cossim(part1[i[0]], part2[i[1]]) for i in random_pairs]))"
   ]
  },
  {
   "cell_type": "code",
   "execution_count": 21,
   "metadata": {
    "scrolled": false
   },
   "outputs": [
    {
     "name": "stderr",
     "output_type": "stream",
     "text": [
      "INFO : loading LdaMulticore object from /home/kyle/cltk_data/user_data/gensim_lda_model_tlg_numtopics5_numpasses1_nobelow20_noabove0.1_tokmin3_tokmax20_docmin50_deaccentFalse.model\n",
      "INFO : loading expElogbeta from /home/kyle/cltk_data/user_data/gensim_lda_model_tlg_numtopics5_numpasses1_nobelow20_noabove0.1_tokmin3_tokmax20_docmin50_deaccentFalse.model.expElogbeta.npy with mmap=None\n",
      "INFO : setting ignored attribute state to None\n",
      "INFO : setting ignored attribute id2word to None\n",
      "INFO : setting ignored attribute dispatcher to None\n",
      "INFO : loaded /home/kyle/cltk_data/user_data/gensim_lda_model_tlg_numtopics5_numpasses1_nobelow20_noabove0.1_tokmin3_tokmax20_docmin50_deaccentFalse.model\n",
      "INFO : loading LdaMulticore object from /home/kyle/cltk_data/user_data/gensim_lda_model_tlg_numtopics5_numpasses1_nobelow20_noabove0.1_tokmin3_tokmax20_docmin50_deaccentFalse.model.state\n",
      "INFO : loaded /home/kyle/cltk_data/user_data/gensim_lda_model_tlg_numtopics5_numpasses1_nobelow20_noabove0.1_tokmin3_tokmax20_docmin50_deaccentFalse.model.state\n"
     ]
    },
    {
     "name": "stdout",
     "output_type": "stream",
     "text": [
      "Loading model: gensim_lda_model_tlg_numtopics5_numpasses1_nobelow20_noabove0.1_tokmin3_tokmax20_docmin50_deaccentFalse.model ...\n",
      "... for testing split document topic matching.\n",
      "LDA results:\n"
     ]
    },
    {
     "name": "stderr",
     "output_type": "stream",
     "text": [
      "INFO : loading LdaMulticore object from /home/kyle/cltk_data/user_data/gensim_lda_model_tlg_numtopics10_numpasses1_nobelow20_noabove0.1_tokmin3_tokmax20_docmin50_deaccentFalse.model\n",
      "INFO : loading expElogbeta from /home/kyle/cltk_data/user_data/gensim_lda_model_tlg_numtopics10_numpasses1_nobelow20_noabove0.1_tokmin3_tokmax20_docmin50_deaccentFalse.model.expElogbeta.npy with mmap=None\n",
      "INFO : setting ignored attribute state to None\n",
      "INFO : setting ignored attribute id2word to None\n",
      "INFO : setting ignored attribute dispatcher to None\n",
      "INFO : loaded /home/kyle/cltk_data/user_data/gensim_lda_model_tlg_numtopics10_numpasses1_nobelow20_noabove0.1_tokmin3_tokmax20_docmin50_deaccentFalse.model\n",
      "INFO : loading LdaMulticore object from /home/kyle/cltk_data/user_data/gensim_lda_model_tlg_numtopics10_numpasses1_nobelow20_noabove0.1_tokmin3_tokmax20_docmin50_deaccentFalse.model.state\n",
      "INFO : loaded /home/kyle/cltk_data/user_data/gensim_lda_model_tlg_numtopics10_numpasses1_nobelow20_noabove0.1_tokmin3_tokmax20_docmin50_deaccentFalse.model.state\n"
     ]
    },
    {
     "name": "stdout",
     "output_type": "stream",
     "text": [
      "average cosine similarity between corresponding parts (higher is better):\n",
      "0.768532695347\n",
      "average cosine similarity between 10000 random parts (lower is better):\n",
      "0.499792191747\n",
      "\n",
      "Loading model: gensim_lda_model_tlg_numtopics10_numpasses1_nobelow20_noabove0.1_tokmin3_tokmax20_docmin50_deaccentFalse.model ...\n",
      "... for testing split document topic matching.\n",
      "LDA results:\n"
     ]
    },
    {
     "name": "stderr",
     "output_type": "stream",
     "text": [
      "INFO : loading LdaMulticore object from /home/kyle/cltk_data/user_data/gensim_lda_model_tlg_numtopics20_numpasses1_nobelow20_noabove0.1_tokmin3_tokmax20_docmin50_deaccentFalse.model\n",
      "INFO : loading expElogbeta from /home/kyle/cltk_data/user_data/gensim_lda_model_tlg_numtopics20_numpasses1_nobelow20_noabove0.1_tokmin3_tokmax20_docmin50_deaccentFalse.model.expElogbeta.npy with mmap=None\n",
      "INFO : setting ignored attribute state to None\n",
      "INFO : setting ignored attribute id2word to None\n",
      "INFO : setting ignored attribute dispatcher to None\n",
      "INFO : loaded /home/kyle/cltk_data/user_data/gensim_lda_model_tlg_numtopics20_numpasses1_nobelow20_noabove0.1_tokmin3_tokmax20_docmin50_deaccentFalse.model\n",
      "INFO : loading LdaMulticore object from /home/kyle/cltk_data/user_data/gensim_lda_model_tlg_numtopics20_numpasses1_nobelow20_noabove0.1_tokmin3_tokmax20_docmin50_deaccentFalse.model.state\n",
      "INFO : loaded /home/kyle/cltk_data/user_data/gensim_lda_model_tlg_numtopics20_numpasses1_nobelow20_noabove0.1_tokmin3_tokmax20_docmin50_deaccentFalse.model.state\n"
     ]
    },
    {
     "name": "stdout",
     "output_type": "stream",
     "text": [
      "average cosine similarity between corresponding parts (higher is better):\n",
      "0.719231281512\n",
      "average cosine similarity between 10000 random parts (lower is better):\n",
      "0.418533704039\n",
      "\n",
      "Loading model: gensim_lda_model_tlg_numtopics20_numpasses1_nobelow20_noabove0.1_tokmin3_tokmax20_docmin50_deaccentFalse.model ...\n",
      "... for testing split document topic matching.\n",
      "LDA results:\n"
     ]
    },
    {
     "name": "stderr",
     "output_type": "stream",
     "text": [
      "INFO : loading LdaMulticore object from /home/kyle/cltk_data/user_data/gensim_lda_model_tlg_numtopics40_numpasses1_nobelow20_noabove0.1_tokmin3_tokmax20_docmin50_deaccentFalse.model\n",
      "INFO : loading expElogbeta from /home/kyle/cltk_data/user_data/gensim_lda_model_tlg_numtopics40_numpasses1_nobelow20_noabove0.1_tokmin3_tokmax20_docmin50_deaccentFalse.model.expElogbeta.npy with mmap=None\n",
      "INFO : setting ignored attribute state to None\n",
      "INFO : setting ignored attribute id2word to None\n",
      "INFO : setting ignored attribute dispatcher to None\n",
      "INFO : loaded /home/kyle/cltk_data/user_data/gensim_lda_model_tlg_numtopics40_numpasses1_nobelow20_noabove0.1_tokmin3_tokmax20_docmin50_deaccentFalse.model\n",
      "INFO : loading LdaMulticore object from /home/kyle/cltk_data/user_data/gensim_lda_model_tlg_numtopics40_numpasses1_nobelow20_noabove0.1_tokmin3_tokmax20_docmin50_deaccentFalse.model.state\n"
     ]
    },
    {
     "name": "stdout",
     "output_type": "stream",
     "text": [
      "average cosine similarity between corresponding parts (higher is better):\n",
      "0.718113223884\n",
      "average cosine similarity between 10000 random parts (lower is better):\n",
      "0.378294945544\n",
      "\n",
      "Loading model: gensim_lda_model_tlg_numtopics40_numpasses1_nobelow20_noabove0.1_tokmin3_tokmax20_docmin50_deaccentFalse.model ...\n",
      "... for testing split document topic matching.\n"
     ]
    },
    {
     "name": "stderr",
     "output_type": "stream",
     "text": [
      "INFO : loaded /home/kyle/cltk_data/user_data/gensim_lda_model_tlg_numtopics40_numpasses1_nobelow20_noabove0.1_tokmin3_tokmax20_docmin50_deaccentFalse.model.state\n"
     ]
    },
    {
     "name": "stdout",
     "output_type": "stream",
     "text": [
      "LDA results:\n"
     ]
    },
    {
     "name": "stderr",
     "output_type": "stream",
     "text": [
      "INFO : loading LdaMulticore object from /home/kyle/cltk_data/user_data/gensim_lda_model_tlg_numtopics60_numpasses1_nobelow20_noabove0.1_tokmin3_tokmax20_docmin50_deaccentFalse.model\n",
      "INFO : loading expElogbeta from /home/kyle/cltk_data/user_data/gensim_lda_model_tlg_numtopics60_numpasses1_nobelow20_noabove0.1_tokmin3_tokmax20_docmin50_deaccentFalse.model.expElogbeta.npy with mmap=None\n",
      "INFO : setting ignored attribute state to None\n",
      "INFO : setting ignored attribute id2word to None\n",
      "INFO : setting ignored attribute dispatcher to None\n",
      "INFO : loaded /home/kyle/cltk_data/user_data/gensim_lda_model_tlg_numtopics60_numpasses1_nobelow20_noabove0.1_tokmin3_tokmax20_docmin50_deaccentFalse.model\n",
      "INFO : loading LdaMulticore object from /home/kyle/cltk_data/user_data/gensim_lda_model_tlg_numtopics60_numpasses1_nobelow20_noabove0.1_tokmin3_tokmax20_docmin50_deaccentFalse.model.state\n"
     ]
    },
    {
     "name": "stdout",
     "output_type": "stream",
     "text": [
      "average cosine similarity between corresponding parts (higher is better):\n",
      "0.739901701016\n",
      "average cosine similarity between 10000 random parts (lower is better):\n",
      "0.393668346386\n",
      "\n",
      "Loading model: gensim_lda_model_tlg_numtopics60_numpasses1_nobelow20_noabove0.1_tokmin3_tokmax20_docmin50_deaccentFalse.model ...\n",
      "... for testing split document topic matching.\n"
     ]
    },
    {
     "name": "stderr",
     "output_type": "stream",
     "text": [
      "INFO : loaded /home/kyle/cltk_data/user_data/gensim_lda_model_tlg_numtopics60_numpasses1_nobelow20_noabove0.1_tokmin3_tokmax20_docmin50_deaccentFalse.model.state\n"
     ]
    },
    {
     "name": "stdout",
     "output_type": "stream",
     "text": [
      "LDA results:\n"
     ]
    },
    {
     "name": "stderr",
     "output_type": "stream",
     "text": [
      "INFO : loading LdaMulticore object from /home/kyle/cltk_data/user_data/gensim_lda_model_tlg_numtopics120_numpasses1_nobelow20_noabove0.1_tokmin3_tokmax20_docmin50_deaccentFalse.model\n",
      "INFO : loading expElogbeta from /home/kyle/cltk_data/user_data/gensim_lda_model_tlg_numtopics120_numpasses1_nobelow20_noabove0.1_tokmin3_tokmax20_docmin50_deaccentFalse.model.expElogbeta.npy with mmap=None\n",
      "INFO : setting ignored attribute state to None\n",
      "INFO : setting ignored attribute id2word to None\n",
      "INFO : setting ignored attribute dispatcher to None\n",
      "INFO : loaded /home/kyle/cltk_data/user_data/gensim_lda_model_tlg_numtopics120_numpasses1_nobelow20_noabove0.1_tokmin3_tokmax20_docmin50_deaccentFalse.model\n",
      "INFO : loading LdaMulticore object from /home/kyle/cltk_data/user_data/gensim_lda_model_tlg_numtopics120_numpasses1_nobelow20_noabove0.1_tokmin3_tokmax20_docmin50_deaccentFalse.model.state\n",
      "INFO : loading sstats from /home/kyle/cltk_data/user_data/gensim_lda_model_tlg_numtopics120_numpasses1_nobelow20_noabove0.1_tokmin3_tokmax20_docmin50_deaccentFalse.model.state.sstats.npy with mmap=None\n",
      "INFO : loaded /home/kyle/cltk_data/user_data/gensim_lda_model_tlg_numtopics120_numpasses1_nobelow20_noabove0.1_tokmin3_tokmax20_docmin50_deaccentFalse.model.state\n"
     ]
    },
    {
     "name": "stdout",
     "output_type": "stream",
     "text": [
      "average cosine similarity between corresponding parts (higher is better):\n",
      "0.705687244779\n",
      "average cosine similarity between 10000 random parts (lower is better):\n",
      "0.386246867607\n",
      "\n",
      "Loading model: gensim_lda_model_tlg_numtopics120_numpasses1_nobelow20_noabove0.1_tokmin3_tokmax20_docmin50_deaccentFalse.model ...\n",
      "... for testing split document topic matching.\n",
      "LDA results:\n",
      "average cosine similarity between corresponding parts (higher is better):\n",
      "0.675516566298\n",
      "average cosine similarity between 10000 random parts (lower is better):\n",
      "0.320651396557\n",
      "\n"
     ]
    }
   ],
   "source": [
    "for num_topics in NUM_TOPICS_LIST:\n",
    "    # load model\n",
    "    lda_model_name = 'gensim_lda_model_tlg_numtopics{}_numpasses{}_nobelow{}_noabove{}_tokmin{}_tokmax{}_docmin{}_deaccent{}.model'.format(num_topics, \n",
    "                                                                                                                                           PASSES, \n",
    "                                                                                                                                           no_below, \n",
    "                                                                                                                                           no_above, \n",
    "                                                                                                                                           TOK_MIN, \n",
    "                                                                                                                                           TOK_MAX, \n",
    "                                                                                                                                           DOC_MIN, \n",
    "                                                                                                                                           PREPROCESS_DEACCENT)\n",
    "    print('Loading model: {} ...'.format(lda_model_name))\n",
    "    print('... for testing split document topic matching ...')\n",
    "    path_lda = os.path.join(user_dir, lda_model_name)\n",
    "    lda_model = gensim.models.LdaMulticore.load(path_lda)\n",
    "\n",
    "    print(\"LDA results:\")\n",
    "    intra_inter(lda_model, test_docs)\n",
    "    print('')"
   ]
  },
  {
   "cell_type": "markdown",
   "metadata": {},
   "source": [
    "# Transform all docs"
   ]
  },
  {
   "cell_type": "code",
   "execution_count": 30,
   "metadata": {
    "scrolled": false
   },
   "outputs": [
    {
     "name": "stderr",
     "output_type": "stream",
     "text": [
      "INFO : loading LdaMulticore object from /home/kyle/cltk_data/user_data/gensim_lda_model_tlg_numtopics5_numpasses1_nobelow20_noabove0.1_tokmin3_tokmax20_docmin50_deaccentFalse.model\n",
      "INFO : loading expElogbeta from /home/kyle/cltk_data/user_data/gensim_lda_model_tlg_numtopics5_numpasses1_nobelow20_noabove0.1_tokmin3_tokmax20_docmin50_deaccentFalse.model.expElogbeta.npy with mmap=None\n",
      "INFO : setting ignored attribute state to None\n",
      "INFO : setting ignored attribute id2word to None\n",
      "INFO : setting ignored attribute dispatcher to None\n",
      "INFO : loaded /home/kyle/cltk_data/user_data/gensim_lda_model_tlg_numtopics5_numpasses1_nobelow20_noabove0.1_tokmin3_tokmax20_docmin50_deaccentFalse.model\n",
      "INFO : loading LdaMulticore object from /home/kyle/cltk_data/user_data/gensim_lda_model_tlg_numtopics5_numpasses1_nobelow20_noabove0.1_tokmin3_tokmax20_docmin50_deaccentFalse.model.state\n",
      "INFO : loaded /home/kyle/cltk_data/user_data/gensim_lda_model_tlg_numtopics5_numpasses1_nobelow20_noabove0.1_tokmin3_tokmax20_docmin50_deaccentFalse.model.state\n"
     ]
    },
    {
     "name": "stdout",
     "output_type": "stream",
     "text": [
      "num topics 5\n",
      "Loading model: gensim_lda_model_tlg_numtopics5_numpasses1_nobelow20_noabove0.1_tokmin3_tokmax20_docmin50_deaccentFalse.model ...\n",
      "... scoring topics of all TLG documents ...\n"
     ]
    },
    {
     "name": "stderr",
     "output_type": "stream",
     "text": [
      "INFO : loading LdaMulticore object from /home/kyle/cltk_data/user_data/gensim_lda_model_tlg_numtopics10_numpasses1_nobelow20_noabove0.1_tokmin3_tokmax20_docmin50_deaccentFalse.model\n",
      "INFO : loading expElogbeta from /home/kyle/cltk_data/user_data/gensim_lda_model_tlg_numtopics10_numpasses1_nobelow20_noabove0.1_tokmin3_tokmax20_docmin50_deaccentFalse.model.expElogbeta.npy with mmap=None\n",
      "INFO : setting ignored attribute state to None\n",
      "INFO : setting ignored attribute id2word to None\n",
      "INFO : setting ignored attribute dispatcher to None\n",
      "INFO : loaded /home/kyle/cltk_data/user_data/gensim_lda_model_tlg_numtopics10_numpasses1_nobelow20_noabove0.1_tokmin3_tokmax20_docmin50_deaccentFalse.model\n",
      "INFO : loading LdaMulticore object from /home/kyle/cltk_data/user_data/gensim_lda_model_tlg_numtopics10_numpasses1_nobelow20_noabove0.1_tokmin3_tokmax20_docmin50_deaccentFalse.model.state\n",
      "INFO : loaded /home/kyle/cltk_data/user_data/gensim_lda_model_tlg_numtopics10_numpasses1_nobelow20_noabove0.1_tokmin3_tokmax20_docmin50_deaccentFalse.model.state\n"
     ]
    },
    {
     "name": "stdout",
     "output_type": "stream",
     "text": [
      "\n",
      "num topics 10\n",
      "Loading model: gensim_lda_model_tlg_numtopics10_numpasses1_nobelow20_noabove0.1_tokmin3_tokmax20_docmin50_deaccentFalse.model ...\n",
      "... scoring topics of all TLG documents ...\n"
     ]
    },
    {
     "name": "stderr",
     "output_type": "stream",
     "text": [
      "INFO : loading LdaMulticore object from /home/kyle/cltk_data/user_data/gensim_lda_model_tlg_numtopics20_numpasses1_nobelow20_noabove0.1_tokmin3_tokmax20_docmin50_deaccentFalse.model\n",
      "INFO : loading expElogbeta from /home/kyle/cltk_data/user_data/gensim_lda_model_tlg_numtopics20_numpasses1_nobelow20_noabove0.1_tokmin3_tokmax20_docmin50_deaccentFalse.model.expElogbeta.npy with mmap=None\n",
      "INFO : setting ignored attribute state to None\n",
      "INFO : setting ignored attribute id2word to None\n",
      "INFO : setting ignored attribute dispatcher to None\n",
      "INFO : loaded /home/kyle/cltk_data/user_data/gensim_lda_model_tlg_numtopics20_numpasses1_nobelow20_noabove0.1_tokmin3_tokmax20_docmin50_deaccentFalse.model\n",
      "INFO : loading LdaMulticore object from /home/kyle/cltk_data/user_data/gensim_lda_model_tlg_numtopics20_numpasses1_nobelow20_noabove0.1_tokmin3_tokmax20_docmin50_deaccentFalse.model.state\n",
      "INFO : loaded /home/kyle/cltk_data/user_data/gensim_lda_model_tlg_numtopics20_numpasses1_nobelow20_noabove0.1_tokmin3_tokmax20_docmin50_deaccentFalse.model.state\n"
     ]
    },
    {
     "name": "stdout",
     "output_type": "stream",
     "text": [
      "\n",
      "num topics 20\n",
      "Loading model: gensim_lda_model_tlg_numtopics20_numpasses1_nobelow20_noabove0.1_tokmin3_tokmax20_docmin50_deaccentFalse.model ...\n",
      "... scoring topics of all TLG documents ...\n"
     ]
    },
    {
     "name": "stderr",
     "output_type": "stream",
     "text": [
      "INFO : loading LdaMulticore object from /home/kyle/cltk_data/user_data/gensim_lda_model_tlg_numtopics40_numpasses1_nobelow20_noabove0.1_tokmin3_tokmax20_docmin50_deaccentFalse.model\n",
      "INFO : loading expElogbeta from /home/kyle/cltk_data/user_data/gensim_lda_model_tlg_numtopics40_numpasses1_nobelow20_noabove0.1_tokmin3_tokmax20_docmin50_deaccentFalse.model.expElogbeta.npy with mmap=None\n",
      "INFO : setting ignored attribute state to None\n",
      "INFO : setting ignored attribute id2word to None\n",
      "INFO : setting ignored attribute dispatcher to None\n",
      "INFO : loaded /home/kyle/cltk_data/user_data/gensim_lda_model_tlg_numtopics40_numpasses1_nobelow20_noabove0.1_tokmin3_tokmax20_docmin50_deaccentFalse.model\n",
      "INFO : loading LdaMulticore object from /home/kyle/cltk_data/user_data/gensim_lda_model_tlg_numtopics40_numpasses1_nobelow20_noabove0.1_tokmin3_tokmax20_docmin50_deaccentFalse.model.state\n",
      "INFO : loaded /home/kyle/cltk_data/user_data/gensim_lda_model_tlg_numtopics40_numpasses1_nobelow20_noabove0.1_tokmin3_tokmax20_docmin50_deaccentFalse.model.state\n"
     ]
    },
    {
     "name": "stdout",
     "output_type": "stream",
     "text": [
      "\n",
      "num topics 40\n",
      "Loading model: gensim_lda_model_tlg_numtopics40_numpasses1_nobelow20_noabove0.1_tokmin3_tokmax20_docmin50_deaccentFalse.model ...\n",
      "... scoring topics of all TLG documents ...\n"
     ]
    },
    {
     "name": "stderr",
     "output_type": "stream",
     "text": [
      "INFO : loading LdaMulticore object from /home/kyle/cltk_data/user_data/gensim_lda_model_tlg_numtopics60_numpasses1_nobelow20_noabove0.1_tokmin3_tokmax20_docmin50_deaccentFalse.model\n",
      "INFO : loading expElogbeta from /home/kyle/cltk_data/user_data/gensim_lda_model_tlg_numtopics60_numpasses1_nobelow20_noabove0.1_tokmin3_tokmax20_docmin50_deaccentFalse.model.expElogbeta.npy with mmap=None\n",
      "INFO : setting ignored attribute state to None\n",
      "INFO : setting ignored attribute id2word to None\n",
      "INFO : setting ignored attribute dispatcher to None\n",
      "INFO : loaded /home/kyle/cltk_data/user_data/gensim_lda_model_tlg_numtopics60_numpasses1_nobelow20_noabove0.1_tokmin3_tokmax20_docmin50_deaccentFalse.model\n",
      "INFO : loading LdaMulticore object from /home/kyle/cltk_data/user_data/gensim_lda_model_tlg_numtopics60_numpasses1_nobelow20_noabove0.1_tokmin3_tokmax20_docmin50_deaccentFalse.model.state\n",
      "INFO : loaded /home/kyle/cltk_data/user_data/gensim_lda_model_tlg_numtopics60_numpasses1_nobelow20_noabove0.1_tokmin3_tokmax20_docmin50_deaccentFalse.model.state\n"
     ]
    },
    {
     "name": "stdout",
     "output_type": "stream",
     "text": [
      "\n",
      "num topics 60\n",
      "Loading model: gensim_lda_model_tlg_numtopics60_numpasses1_nobelow20_noabove0.1_tokmin3_tokmax20_docmin50_deaccentFalse.model ...\n",
      "... scoring topics of all TLG documents ...\n"
     ]
    },
    {
     "name": "stderr",
     "output_type": "stream",
     "text": [
      "INFO : loading LdaMulticore object from /home/kyle/cltk_data/user_data/gensim_lda_model_tlg_numtopics120_numpasses1_nobelow20_noabove0.1_tokmin3_tokmax20_docmin50_deaccentFalse.model\n",
      "INFO : loading expElogbeta from /home/kyle/cltk_data/user_data/gensim_lda_model_tlg_numtopics120_numpasses1_nobelow20_noabove0.1_tokmin3_tokmax20_docmin50_deaccentFalse.model.expElogbeta.npy with mmap=None\n",
      "INFO : setting ignored attribute state to None\n",
      "INFO : setting ignored attribute id2word to None\n",
      "INFO : setting ignored attribute dispatcher to None\n",
      "INFO : loaded /home/kyle/cltk_data/user_data/gensim_lda_model_tlg_numtopics120_numpasses1_nobelow20_noabove0.1_tokmin3_tokmax20_docmin50_deaccentFalse.model\n",
      "INFO : loading LdaMulticore object from /home/kyle/cltk_data/user_data/gensim_lda_model_tlg_numtopics120_numpasses1_nobelow20_noabove0.1_tokmin3_tokmax20_docmin50_deaccentFalse.model.state\n",
      "INFO : loading sstats from /home/kyle/cltk_data/user_data/gensim_lda_model_tlg_numtopics120_numpasses1_nobelow20_noabove0.1_tokmin3_tokmax20_docmin50_deaccentFalse.model.state.sstats.npy with mmap=None\n",
      "INFO : loaded /home/kyle/cltk_data/user_data/gensim_lda_model_tlg_numtopics120_numpasses1_nobelow20_noabove0.1_tokmin3_tokmax20_docmin50_deaccentFalse.model.state\n"
     ]
    },
    {
     "name": "stdout",
     "output_type": "stream",
     "text": [
      "\n",
      "num topics 120\n",
      "Loading model: gensim_lda_model_tlg_numtopics120_numpasses1_nobelow20_noabove0.1_tokmin3_tokmax20_docmin50_deaccentFalse.model ...\n",
      "... scoring topics of all TLG documents ...\n",
      "\n"
     ]
    }
   ],
   "source": [
    "for num_topics in NUM_TOPICS_LIST:\n",
    "    print('num topics', num_topics)\n",
    "    # load model\n",
    "    lda_model_name = 'gensim_lda_model_tlg_numtopics{}_numpasses{}_nobelow{}_noabove{}_tokmin{}_tokmax{}_docmin{}_deaccent{}.model'.format(num_topics, \n",
    "                                                                                                                                           PASSES, \n",
    "                                                                                                                                           no_below, \n",
    "                                                                                                                                           no_above, \n",
    "                                                                                                                                           TOK_MIN, \n",
    "                                                                                                                                           TOK_MAX, \n",
    "                                                                                                                                           DOC_MIN, \n",
    "                                                                                                                                           PREPROCESS_DEACCENT)\n",
    "    print('Loading model: {} ...'.format(lda_model_name))\n",
    "    print('... scoring topics of all TLG documents ...')\n",
    "    path_lda = os.path.join(user_dir, lda_model_name)\n",
    "    lda_model = gensim.models.LdaMulticore.load(path_lda)\n",
    "\n",
    "    # mk save path name\n",
    "    scores_name = lda_model_name.rstrip('.model') + '.scores'\n",
    "    scores_path = os.path.join(user_dir, scores_name)\n",
    "    doc_topics = ''\n",
    "    for title, tokens in iter_tlg(tlg_preprocessed):\n",
    "        #print(title, tokens[:10])  # print the article title and its first ten tokens\n",
    "        # print(title)\n",
    "        topic_distribution = str(lda_model[id2word_tlg.doc2bow(tokens)])\n",
    "        # print(topic_distribution)\n",
    "        doc_topics += 'title: ' + title + '\\n'\n",
    "        doc_topics += topic_distribution + '\\n\\n'\n",
    "    with open(scores_path, 'w') as file_open:\n",
    "        file_open.write(doc_topics)\n",
    "    print('')"
   ]
  },
  {
   "cell_type": "markdown",
   "metadata": {},
   "source": [
    "# Visualization\n",
    "\n",
    "Following: http://nbviewer.jupyter.org/github/bmabey/pyLDAvis/blob/master/notebooks/pyLDAvis_overview.ipynb"
   ]
  },
  {
   "cell_type": "code",
   "execution_count": null,
   "metadata": {
    "collapsed": true
   },
   "outputs": [],
   "source": [
    "lda_model.show_topics()"
   ]
  },
  {
   "cell_type": "code",
   "execution_count": null,
   "metadata": {
    "collapsed": true
   },
   "outputs": [],
   "source": [
    "import pyLDAvis.gensim\n",
    "\n",
    "pyLDAvis.enable_notebook()"
   ]
  },
  {
   "cell_type": "code",
   "execution_count": null,
   "metadata": {
    "collapsed": true
   },
   "outputs": [],
   "source": [
    "pyLDAvis.gensim.prepare(lda_model, corpus_bow_tlg, id2word_tlg)"
   ]
  },
  {
   "cell_type": "code",
   "execution_count": null,
   "metadata": {
    "collapsed": true
   },
   "outputs": [],
   "source": []
  }
 ],
 "metadata": {
  "kernelspec": {
   "display_name": "Python 3",
   "language": "python",
   "name": "python3"
  },
  "language_info": {
   "codemirror_mode": {
    "name": "ipython",
    "version": 3
   },
   "file_extension": ".py",
   "mimetype": "text/x-python",
   "name": "python",
   "nbconvert_exporter": "python",
   "pygments_lexer": "ipython3",
   "version": "3.6.1"
  }
 },
 "nbformat": 4,
 "nbformat_minor": 2
}
