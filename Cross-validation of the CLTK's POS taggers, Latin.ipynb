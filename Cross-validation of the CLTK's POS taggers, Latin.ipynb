{
 "metadata": {
  "name": "",
  "signature": "sha256:48d4a8ad988080191be3ab3460a8074eedcb19ca139eac699631baeec48f8acf"
 },
 "nbformat": 3,
 "nbformat_minor": 0,
 "worksheets": [
  {
   "cells": [
    {
     "cell_type": "markdown",
     "metadata": {},
     "source": [
      "This notebook cross-validates the CLTK's part-of-speech taggers. The final results are found at the very bottom."
     ]
    },
    {
     "cell_type": "code",
     "collapsed": false,
     "input": [
      "from nltk.corpus.reader import TaggedCorpusReader\n",
      "from nltk.tag import AffixTagger\n",
      "from nltk.tag import BigramTagger\n",
      "from nltk.tag import tnt\n",
      "from nltk.tag import TrigramTagger\n",
      "from nltk.tag import UnigramTagger\n",
      "from nltk.tokenize import wordpunct_tokenize\n",
      "import math\n",
      "import os\n",
      "import pandas as pd\n",
      "import random\n",
      "from statistics import mean\n",
      "from statistics import stdev"
     ],
     "language": "python",
     "metadata": {},
     "outputs": [],
     "prompt_number": 7
    },
    {
     "cell_type": "code",
     "collapsed": false,
     "input": [
      "full_training_set_rel = '~/latin_treebank_perseus/latin_training_set.pos'\n",
      "full_training_set = os.path.expanduser(full_training_set_rel)"
     ],
     "language": "python",
     "metadata": {},
     "outputs": [],
     "prompt_number": 2
    },
    {
     "cell_type": "code",
     "collapsed": false,
     "input": [
      "unigram_accuracies = []\n",
      "bigram_accuracies = []\n",
      "trigram_accuracies = []\n",
      "backoff_accuracies = []\n",
      "two_prefix_accuracies = []\n",
      "three_prefix_accuracies = []\n",
      "four_prefix_accuracies = []\n",
      "two_suffix_accuracies = []\n",
      "three_suffix_accuracies = []\n",
      "four_suffix_accuracies = []\n",
      "five_suffix_accuracies = []\n",
      "six_suffix_accuracies = []\n",
      "tnt_accuracies = []\n",
      "\n",
      "with open(full_training_set) as f:\n",
      "    training_set_string = f.read()\n",
      "    pos_set = training_set_string.split('\\n\\n')  # mk into a list\n",
      "\n",
      "sentence_count = len(pos_set)\n",
      "tenth = math.ceil(int(sentence_count) / int(10))\n",
      "\n",
      "random.shuffle(pos_set)\n",
      "\n",
      "def chunks(l, n):\n",
      "    \"\"\"Yield successive n-sized chunks from l.\n",
      "    http://stackoverflow.com/a/312464\n",
      "    \"\"\"\n",
      "    for i in range(0, len(l), n):\n",
      "        yield l[i:i+n]\n",
      "\n",
      "# a list of 10 lists\n",
      "ten_parts = list(chunks(pos_set, tenth))  # a list of 10 lists with 695 sentences each\n",
      "\n",
      "#for counter in list(range(10)):\n",
      "for counter, part in list(enumerate(ten_parts)):\n",
      "    # map test list to part of given loop\n",
      "    test_set = ten_parts[counter]  # or: test_set = part\n",
      "    \n",
      "    # filter out this loop's test index\n",
      "    training_set_lists = [x for x in ten_parts if x is not ten_parts[counter]]\n",
      "    \n",
      "    # next concatenate the list together into 1 file ( http://stackoverflow.com/a/952952 )\n",
      "    training_set = [item for sublist in training_set_lists for item in sublist]\n",
      "        \n",
      "    # save shuffled tests to file\n",
      "    # there might be a way of getting \n",
      "    local_dir_rel = '~/cltk_data/user_data'\n",
      "    local_dir = os.path.expanduser(local_dir_rel)\n",
      "    if not os.path.isdir(local_dir):\n",
      "        os.makedirs(local_dir)\n",
      "\n",
      "    test_path = os.path.join(local_dir, 'test_latin.pos')\n",
      "    with open(test_path, 'w') as f:\n",
      "        f.write('\\n\\n'.join(test_set))\n",
      "\n",
      "    train_path = os.path.join(local_dir, 'train_latin.pos')\n",
      "    with open(train_path, 'w') as f:\n",
      "        f.write('\\n\\n'.join(training_set))\n",
      "\n",
      "    # read POS corpora\n",
      "    train_reader = TaggedCorpusReader(local_dir, 'train_latin.pos')\n",
      "    train_sents = train_reader.tagged_sents()\n",
      "\n",
      "    test_reader = TaggedCorpusReader(local_dir, 'test_latin.pos')\n",
      "    test_sents = test_reader.tagged_sents()\n",
      "    \n",
      "    print('Loop #' + str(counter))\n",
      "    # make unigram tagger\n",
      "    unigram_tagger = UnigramTagger(train_sents)\n",
      "    # evaluate unigram tagger\n",
      "    unigram_accuracy = None\n",
      "    unigram_accuracy = unigram_tagger.evaluate(test_sents)\n",
      "    unigram_accuracies.append(unigram_accuracy)\n",
      "    print('Unigram:', unigram_accuracy)\n",
      "    \n",
      "    # make bigram tagger\n",
      "    bigram_tagger = BigramTagger(train_sents)\n",
      "    # evaluate bigram tagger\n",
      "    bigram_accuracy = None\n",
      "    bigram_accuracy = bigram_tagger.evaluate(test_sents)\n",
      "    bigram_accuracies.append(bigram_accuracy)\n",
      "    print('Bigram:', bigram_accuracy)\n",
      "    \n",
      "    # make trigram tagger\n",
      "    trigram_tagger = TrigramTagger(train_sents)\n",
      "    # evaluate trigram tagger\n",
      "    trigram_accuracy = None\n",
      "    trigram_accuracy = trigram_tagger.evaluate(test_sents)\n",
      "    trigram_accuracies.append(trigram_accuracy)\n",
      "    print('Trigram:', trigram_accuracy)\n",
      "    \n",
      "    # make 1, 2, 3-gram backoff tagger\n",
      "    tagger1 = UnigramTagger(train_sents)\n",
      "    tagger2 = BigramTagger(train_sents, backoff=tagger1)\n",
      "    tagger3 = TrigramTagger(train_sents, backoff=tagger2)\n",
      "    # evaluate trigram tagger\n",
      "    backoff_accuracy = None\n",
      "    backoff_accuracy = tagger3.evaluate(test_sents)\n",
      "    backoff_accuracies.append(backoff_accuracy)\n",
      "    print('1, 2, 3-gram backoff:', backoff_accuracy)\n",
      "    \n",
      "    # make 2-char prefix tagger\n",
      "    two_prefix_tagger = AffixTagger(train_sents, affix_length=2)\n",
      "    # evaluate 2-char prefix tagger\n",
      "    two_prefix_accuracy = None\n",
      "    two_prefix_accuracy = two_prefix_tagger.evaluate(test_sents)\n",
      "    two_prefix_accuracies.append(two_prefix_accuracy)\n",
      "    print('2-char prefix:', two_prefix_accuracy)\n",
      "    \n",
      "    # make 3-char prefix tagger\n",
      "    three_prefix_tagger = AffixTagger(train_sents, affix_length=3)\n",
      "    # evaluate 3-char prefix tagger\n",
      "    three_prefix_accuracy = None\n",
      "    three_prefix_accuracy = three_prefix_tagger.evaluate(test_sents)\n",
      "    three_prefix_accuracies.append(three_prefix_accuracy)\n",
      "    print('3-char prefix:', three_prefix_accuracy)\n",
      "\n",
      "    # make 4-char prefix tagger\n",
      "    four_prefix_tagger = AffixTagger(train_sents, affix_length=4)\n",
      "    # evaluate 4-char prefix tagger\n",
      "    four_prefix_accuracy = None\n",
      "    four_prefix_accuracy = four_prefix_tagger.evaluate(test_sents)\n",
      "    four_prefix_accuracies.append(four_prefix_accuracy)\n",
      "    print('4-char prefix:', four_prefix_accuracy)\n",
      "\n",
      "    # make 2-char suffix tagger\n",
      "    two_suffix_tagger = AffixTagger(train_sents, affix_length=2)\n",
      "    # evaluate 2-char suffix tagger\n",
      "    two_suffix_accuracy = None\n",
      "    two_suffix_accuracy = two_suffix_tagger.evaluate(test_sents)\n",
      "    two_suffix_accuracies.append(two_suffix_accuracy)\n",
      "    print('2-char suffix:', two_suffix_accuracy)\n",
      "    \n",
      "    # make 3-char suffix tagger\n",
      "    three_suffix_tagger = AffixTagger(train_sents, affix_length=3)\n",
      "    # evaluate 3-char suffix tagger\n",
      "    three_suffix_accuracy = None\n",
      "    three_suffix_accuracy = three_suffix_tagger.evaluate(test_sents)\n",
      "    three_suffix_accuracies.append(three_suffix_accuracy)\n",
      "    print('3-char suffix:', three_suffix_accuracy)\n",
      "\n",
      "    # make 4-char suffix tagger\n",
      "    four_suffix_tagger = AffixTagger(train_sents, affix_length=4)\n",
      "    # evaluate 4-char suffix tagger\n",
      "    four_suffix_accuracy = None\n",
      "    four_suffix_accuracy = four_suffix_tagger.evaluate(test_sents)\n",
      "    four_suffix_accuracies.append(four_suffix_accuracy)\n",
      "    print('4-char suffix:', four_suffix_accuracy)\n",
      "\n",
      "    # make 5-char suffix tagger\n",
      "    five_suffix_tagger = AffixTagger(train_sents, affix_length=5)\n",
      "    # evaluate 5-char suffix tagger\n",
      "    five_suffix_accuracy = None\n",
      "    five_suffix_accuracy = five_suffix_tagger.evaluate(test_sents)\n",
      "    five_suffix_accuracies.append(five_suffix_accuracy)\n",
      "    print('5-char suffix:', five_suffix_accuracy)\n",
      "\n",
      "    # make 6-char suffix tagger\n",
      "    six_suffix_tagger = AffixTagger(train_sents, affix_length=6)\n",
      "    # evaluate 6-char suffix tagger\n",
      "    six_suffix_accuracy = None\n",
      "    six_suffix_accuracy = six_suffix_tagger.evaluate(test_sents)\n",
      "    six_suffix_accuracies.append(six_suffix_accuracy)\n",
      "    print('6-char suffix:', six_suffix_accuracy)\n",
      "    \n",
      "    # make tnt tagger\n",
      "    tnt_tagger = tnt.TnT()\n",
      "    tnt_tagger.train(train_sents)\n",
      "    # evaulate tnt tagger\n",
      "    tnt_accuracy = None\n",
      "    tnt_accuracy = tnt_tagger.evaluate(test_sents)\n",
      "    tnt_accuracies.append(tnt_accuracy)\n",
      "    print('TnT:', tnt_accuracy)"
     ],
     "language": "python",
     "metadata": {},
     "outputs": [
      {
       "output_type": "stream",
       "stream": "stdout",
       "text": [
        "Loop #0\n",
        "Unigram:"
       ]
      },
      {
       "output_type": "stream",
       "stream": "stdout",
       "text": [
        " 0.8560562844647271\n",
        "Bigram:"
       ]
      },
      {
       "output_type": "stream",
       "stream": "stdout",
       "text": [
        " 0.6440387906446092\n",
        "Trigram:"
       ]
      },
      {
       "output_type": "stream",
       "stream": "stdout",
       "text": [
        " 0.7253280091272105\n",
        "1, 2, 3-gram backoff:"
       ]
      },
      {
       "output_type": "stream",
       "stream": "stdout",
       "text": [
        " 0.9478037649743297\n",
        "2-char prefix:"
       ]
      },
      {
       "output_type": "stream",
       "stream": "stdout",
       "text": [
        " 0.10686442289408633\n",
        "3-char prefix:"
       ]
      },
      {
       "output_type": "stream",
       "stream": "stdout",
       "text": [
        " 0.1344362046016353\n",
        "4-char prefix:"
       ]
      },
      {
       "output_type": "stream",
       "stream": "stdout",
       "text": [
        " 0.13301007796158965\n",
        "2-char suffix:"
       ]
      },
      {
       "output_type": "stream",
       "stream": "stdout",
       "text": [
        " 0.10686442289408633\n",
        "3-char suffix:"
       ]
      },
      {
       "output_type": "stream",
       "stream": "stdout",
       "text": [
        " 0.1344362046016353\n",
        "4-char suffix:"
       ]
      },
      {
       "output_type": "stream",
       "stream": "stdout",
       "text": [
        " 0.13301007796158965\n",
        "5-char suffix:"
       ]
      },
      {
       "output_type": "stream",
       "stream": "stdout",
       "text": [
        " 0.12141091462255181\n",
        "6-char suffix:"
       ]
      },
      {
       "output_type": "stream",
       "stream": "stdout",
       "text": [
        " 0.09564555999239399\n",
        "TnT:"
       ]
      },
      {
       "output_type": "stream",
       "stream": "stdout",
       "text": [
        " 0.9556949990492489\n",
        "Loop #1\n",
        "Unigram:"
       ]
      },
      {
       "output_type": "stream",
       "stream": "stdout",
       "text": [
        " 0.8556756756756757\n",
        "Bigram:"
       ]
      },
      {
       "output_type": "stream",
       "stream": "stdout",
       "text": [
        " 0.599009009009009\n",
        "Trigram:"
       ]
      },
      {
       "output_type": "stream",
       "stream": "stdout",
       "text": [
        " 0.6564864864864864\n",
        "1, 2, 3-gram backoff:"
       ]
      },
      {
       "output_type": "stream",
       "stream": "stdout",
       "text": [
        " 0.9378378378378378\n",
        "2-char prefix:"
       ]
      },
      {
       "output_type": "stream",
       "stream": "stdout",
       "text": [
        " 0.11225225225225226\n",
        "3-char prefix:"
       ]
      },
      {
       "output_type": "stream",
       "stream": "stdout",
       "text": [
        " 0.13882882882882883\n",
        "4-char prefix:"
       ]
      },
      {
       "output_type": "stream",
       "stream": "stdout",
       "text": [
        " 0.13954954954954954\n",
        "2-char suffix:"
       ]
      },
      {
       "output_type": "stream",
       "stream": "stdout",
       "text": [
        " 0.11225225225225226\n",
        "3-char suffix:"
       ]
      },
      {
       "output_type": "stream",
       "stream": "stdout",
       "text": [
        " 0.13882882882882883\n",
        "4-char suffix:"
       ]
      },
      {
       "output_type": "stream",
       "stream": "stdout",
       "text": [
        " 0.13954954954954954\n",
        "5-char suffix:"
       ]
      },
      {
       "output_type": "stream",
       "stream": "stdout",
       "text": [
        " 0.11711711711711711\n",
        "6-char suffix:"
       ]
      },
      {
       "output_type": "stream",
       "stream": "stdout",
       "text": [
        " 0.09594594594594595\n",
        "TnT:"
       ]
      },
      {
       "output_type": "stream",
       "stream": "stdout",
       "text": [
        " 0.9502702702702702\n",
        "Loop #2\n",
        "Unigram:"
       ]
      },
      {
       "output_type": "stream",
       "stream": "stdout",
       "text": [
        " 0.8496920708237106\n",
        "Bigram:"
       ]
      },
      {
       "output_type": "stream",
       "stream": "stdout",
       "text": [
        " 0.6066204772902233\n",
        "Trigram:"
       ]
      },
      {
       "output_type": "stream",
       "stream": "stdout",
       "text": [
        " 0.670130869899923\n",
        "1, 2, 3-gram backoff:"
       ]
      },
      {
       "output_type": "stream",
       "stream": "stdout",
       "text": [
        " 0.9351424172440339\n",
        "2-char prefix:"
       ]
      },
      {
       "output_type": "stream",
       "stream": "stdout",
       "text": [
        " 0.11056581986143187\n",
        "3-char prefix:"
       ]
      },
      {
       "output_type": "stream",
       "stream": "stdout",
       "text": [
        " 0.14001154734411086\n",
        "4-char prefix:"
       ]
      },
      {
       "output_type": "stream",
       "stream": "stdout",
       "text": [
        " 0.13789453425712087\n",
        "2-char suffix:"
       ]
      },
      {
       "output_type": "stream",
       "stream": "stdout",
       "text": [
        " 0.11056581986143187\n",
        "3-char suffix:"
       ]
      },
      {
       "output_type": "stream",
       "stream": "stdout",
       "text": [
        " 0.14001154734411086\n",
        "4-char suffix:"
       ]
      },
      {
       "output_type": "stream",
       "stream": "stdout",
       "text": [
        " 0.13789453425712087\n",
        "5-char suffix:"
       ]
      },
      {
       "output_type": "stream",
       "stream": "stdout",
       "text": [
        " 0.12653964588144725\n",
        "6-char suffix:"
       ]
      },
      {
       "output_type": "stream",
       "stream": "stdout",
       "text": [
        " 0.09699769053117784\n",
        "TnT:"
       ]
      },
      {
       "output_type": "stream",
       "stream": "stdout",
       "text": [
        " 0.9464973056197075\n",
        "Loop #3\n",
        "Unigram:"
       ]
      },
      {
       "output_type": "stream",
       "stream": "stdout",
       "text": [
        " 0.8546726248299981\n",
        "Bigram:"
       ]
      },
      {
       "output_type": "stream",
       "stream": "stdout",
       "text": [
        " 0.6292986205556635\n",
        "Trigram:"
       ]
      },
      {
       "output_type": "stream",
       "stream": "stdout",
       "text": [
        " 0.7329512337283854\n",
        "1, 2, 3-gram backoff:"
       ]
      },
      {
       "output_type": "stream",
       "stream": "stdout",
       "text": [
        " 0.9521080240917039\n",
        "2-char prefix:"
       ]
      },
      {
       "output_type": "stream",
       "stream": "stdout",
       "text": [
        " 0.11103555469205362\n",
        "3-char prefix:"
       ]
      },
      {
       "output_type": "stream",
       "stream": "stdout",
       "text": [
        " 0.13988731299786283\n",
        "4-char prefix:"
       ]
      },
      {
       "output_type": "stream",
       "stream": "stdout",
       "text": [
        " 0.13464153876044296\n",
        "2-char suffix:"
       ]
      },
      {
       "output_type": "stream",
       "stream": "stdout",
       "text": [
        " 0.11103555469205362\n",
        "3-char suffix:"
       ]
      },
      {
       "output_type": "stream",
       "stream": "stdout",
       "text": [
        " 0.13988731299786283\n",
        "4-char suffix:"
       ]
      },
      {
       "output_type": "stream",
       "stream": "stdout",
       "text": [
        " 0.13464153876044296\n",
        "5-char suffix:"
       ]
      },
      {
       "output_type": "stream",
       "stream": "stdout",
       "text": [
        " 0.12269283077520886\n",
        "6-char suffix:"
       ]
      },
      {
       "output_type": "stream",
       "stream": "stdout",
       "text": [
        " 0.0976296871964251\n",
        "TnT:"
       ]
      },
      {
       "output_type": "stream",
       "stream": "stdout",
       "text": [
        " 0.9578395181659219\n",
        "Loop #4\n",
        "Unigram:"
       ]
      },
      {
       "output_type": "stream",
       "stream": "stdout",
       "text": [
        " 0.8500613728637523\n",
        "Bigram:"
       ]
      },
      {
       "output_type": "stream",
       "stream": "stdout",
       "text": [
        " 0.5887073930695874\n",
        "Trigram:"
       ]
      },
      {
       "output_type": "stream",
       "stream": "stdout",
       "text": [
        " 0.6658483618166368\n",
        "1, 2, 3-gram backoff:"
       ]
      },
      {
       "output_type": "stream",
       "stream": "stdout",
       "text": [
        " 0.9373052591823247\n",
        "2-char prefix:"
       ]
      },
      {
       "output_type": "stream",
       "stream": "stdout",
       "text": [
        " 0.10754414125200643\n",
        "3-char prefix:"
       ]
      },
      {
       "output_type": "stream",
       "stream": "stdout",
       "text": [
        " 0.13605891794920216\n",
        "4-char prefix:"
       ]
      },
      {
       "output_type": "stream",
       "stream": "stdout",
       "text": [
        " 0.1326598054952318\n",
        "2-char suffix:"
       ]
      },
      {
       "output_type": "stream",
       "stream": "stdout",
       "text": [
        " 0.10754414125200643\n",
        "3-char suffix:"
       ]
      },
      {
       "output_type": "stream",
       "stream": "stdout",
       "text": [
        " 0.13605891794920216\n",
        "4-char suffix:"
       ]
      },
      {
       "output_type": "stream",
       "stream": "stdout",
       "text": [
        " 0.1326598054952318\n",
        "5-char suffix:"
       ]
      },
      {
       "output_type": "stream",
       "stream": "stdout",
       "text": [
        " 0.1209517514871117\n",
        "6-char suffix:"
       ]
      },
      {
       "output_type": "stream",
       "stream": "stdout",
       "text": [
        " 0.09555282787272212\n",
        "TnT:"
       ]
      },
      {
       "output_type": "stream",
       "stream": "stdout",
       "text": [
        " 0.9458974601076385\n",
        "Loop #5\n",
        "Unigram:"
       ]
      },
      {
       "output_type": "stream",
       "stream": "stdout",
       "text": [
        " 0.8509334076344386\n",
        "Bigram:"
       ]
      },
      {
       "output_type": "stream",
       "stream": "stdout",
       "text": [
        " 0.6081545462988762\n",
        "Trigram:"
       ]
      },
      {
       "output_type": "stream",
       "stream": "stdout",
       "text": [
        " 0.7067892634902945\n",
        "1, 2, 3-gram backoff:"
       ]
      },
      {
       "output_type": "stream",
       "stream": "stdout",
       "text": [
        " 0.9434382836444692\n",
        "2-char prefix:"
       ]
      },
      {
       "output_type": "stream",
       "stream": "stdout",
       "text": [
        " 0.10987275935729544\n",
        "3-char prefix:"
       ]
      },
      {
       "output_type": "stream",
       "stream": "stdout",
       "text": [
        " 0.13364911303055632\n",
        "4-char prefix:"
       ]
      },
      {
       "output_type": "stream",
       "stream": "stdout",
       "text": [
        " 0.13216309092597753\n",
        "2-char suffix:"
       ]
      },
      {
       "output_type": "stream",
       "stream": "stdout",
       "text": [
        " 0.10987275935729544\n",
        "3-char suffix:"
       ]
      },
      {
       "output_type": "stream",
       "stream": "stdout",
       "text": [
        " 0.13364911303055632\n",
        "4-char suffix:"
       ]
      },
      {
       "output_type": "stream",
       "stream": "stdout",
       "text": [
        " 0.13216309092597753\n",
        "5-char suffix:"
       ]
      },
      {
       "output_type": "stream",
       "stream": "stdout",
       "text": [
        " 0.1172099934986533\n",
        "6-char suffix:"
       ]
      },
      {
       "output_type": "stream",
       "stream": "stdout",
       "text": [
        " 0.09148323581313272\n",
        "TnT:"
       ]
      },
      {
       "output_type": "stream",
       "stream": "stdout",
       "text": [
        " 0.9526330454165506\n",
        "Loop #6\n",
        "Unigram:"
       ]
      },
      {
       "output_type": "stream",
       "stream": "stdout",
       "text": [
        " 0.8453372380342271\n",
        "Bigram:"
       ]
      },
      {
       "output_type": "stream",
       "stream": "stdout",
       "text": [
        " 0.6076690765992495\n",
        "Trigram:"
       ]
      },
      {
       "output_type": "stream",
       "stream": "stdout",
       "text": [
        " 0.6998261187883225\n",
        "1, 2, 3-gram backoff:"
       ]
      },
      {
       "output_type": "stream",
       "stream": "stdout",
       "text": [
        " 0.9455477258167841\n",
        "2-char prefix:"
       ]
      },
      {
       "output_type": "stream",
       "stream": "stdout",
       "text": [
        " 0.10469479271529239\n",
        "3-char prefix:"
       ]
      },
      {
       "output_type": "stream",
       "stream": "stdout",
       "text": [
        " 0.13864738720600348\n",
        "4-char prefix:"
       ]
      },
      {
       "output_type": "stream",
       "stream": "stdout",
       "text": [
        " 0.13608492724444038\n",
        "2-char suffix:"
       ]
      },
      {
       "output_type": "stream",
       "stream": "stdout",
       "text": [
        " 0.10469479271529239\n",
        "3-char suffix:"
       ]
      },
      {
       "output_type": "stream",
       "stream": "stdout",
       "text": [
        " 0.13864738720600348\n",
        "4-char suffix:"
       ]
      },
      {
       "output_type": "stream",
       "stream": "stdout",
       "text": [
        " 0.13608492724444038\n",
        "5-char suffix:"
       ]
      },
      {
       "output_type": "stream",
       "stream": "stdout",
       "text": [
        " 0.11668344467831976\n",
        "6-char suffix:"
       ]
      },
      {
       "output_type": "stream",
       "stream": "stdout",
       "text": [
        " 0.09023519721790062\n",
        "TnT:"
       ]
      },
      {
       "output_type": "stream",
       "stream": "stdout",
       "text": [
        " 0.953052072847076\n",
        "Loop #7\n",
        "Unigram:"
       ]
      },
      {
       "output_type": "stream",
       "stream": "stdout",
       "text": [
        " 0.8614211309523809\n",
        "Bigram:"
       ]
      },
      {
       "output_type": "stream",
       "stream": "stdout",
       "text": [
        " 0.6065848214285714\n",
        "Trigram:"
       ]
      },
      {
       "output_type": "stream",
       "stream": "stdout",
       "text": [
        " 0.7169828869047619\n",
        "1, 2, 3-gram backoff:"
       ]
      },
      {
       "output_type": "stream",
       "stream": "stdout",
       "text": [
        " 0.9520089285714286\n",
        "2-char prefix:"
       ]
      },
      {
       "output_type": "stream",
       "stream": "stdout",
       "text": [
        " 0.1091889880952381\n",
        "3-char prefix:"
       ]
      },
      {
       "output_type": "stream",
       "stream": "stdout",
       "text": [
        " 0.140625\n",
        "4-char prefix:"
       ]
      },
      {
       "output_type": "stream",
       "stream": "stdout",
       "text": [
        " 0.13848586309523808\n",
        "2-char suffix:"
       ]
      },
      {
       "output_type": "stream",
       "stream": "stdout",
       "text": [
        " 0.1091889880952381\n",
        "3-char suffix:"
       ]
      },
      {
       "output_type": "stream",
       "stream": "stdout",
       "text": [
        " 0.140625\n",
        "4-char suffix:"
       ]
      },
      {
       "output_type": "stream",
       "stream": "stdout",
       "text": [
        " 0.13848586309523808\n",
        "5-char suffix:"
       ]
      },
      {
       "output_type": "stream",
       "stream": "stdout",
       "text": [
        " 0.12527901785714285\n",
        "6-char suffix:"
       ]
      },
      {
       "output_type": "stream",
       "stream": "stdout",
       "text": [
        " 0.09812127976190477\n",
        "TnT:"
       ]
      },
      {
       "output_type": "stream",
       "stream": "stdout",
       "text": [
        " 0.9594494047619048\n",
        "Loop #8\n",
        "Unigram:"
       ]
      },
      {
       "output_type": "stream",
       "stream": "stdout",
       "text": [
        " 0.8506954300312234\n",
        "Bigram:"
       ]
      },
      {
       "output_type": "stream",
       "stream": "stdout",
       "text": [
        " 0.5791465606963762\n",
        "Trigram:"
       ]
      },
      {
       "output_type": "stream",
       "stream": "stdout",
       "text": [
        " 0.6586242785504778\n",
        "1, 2, 3-gram backoff:"
       ]
      },
      {
       "output_type": "stream",
       "stream": "stdout",
       "text": [
        " 0.9395401646324155\n",
        "2-char prefix:"
       ]
      },
      {
       "output_type": "stream",
       "stream": "stdout",
       "text": [
        " 0.10966032737250449\n",
        "3-char prefix:"
       ]
      },
      {
       "output_type": "stream",
       "stream": "stdout",
       "text": [
        " 0.13728829595988268\n",
        "4-char prefix:"
       ]
      },
      {
       "output_type": "stream",
       "stream": "stdout",
       "text": [
        " 0.1343551897057432\n",
        "2-char suffix:"
       ]
      },
      {
       "output_type": "stream",
       "stream": "stdout",
       "text": [
        " 0.10966032737250449\n",
        "3-char suffix:"
       ]
      },
      {
       "output_type": "stream",
       "stream": "stdout",
       "text": [
        " 0.13728829595988268\n",
        "4-char suffix:"
       ]
      },
      {
       "output_type": "stream",
       "stream": "stdout",
       "text": [
        " 0.1343551897057432\n",
        "5-char suffix:"
       ]
      },
      {
       "output_type": "stream",
       "stream": "stdout",
       "text": [
        " 0.11883811145803766\n",
        "6-char suffix:"
       ]
      },
      {
       "output_type": "stream",
       "stream": "stdout",
       "text": [
        " 0.09499479610180717\n",
        "TnT:"
       ]
      },
      {
       "output_type": "stream",
       "stream": "stdout",
       "text": [
        " 0.9494748793641783\n",
        "Loop #9\n",
        "Unigram:"
       ]
      },
      {
       "output_type": "stream",
       "stream": "stdout",
       "text": [
        " 0.8450269853508096\n",
        "Bigram:"
       ]
      },
      {
       "output_type": "stream",
       "stream": "stdout",
       "text": [
        " 0.6010023130300693\n",
        "Trigram:"
       ]
      },
      {
       "output_type": "stream",
       "stream": "stdout",
       "text": [
        " 0.6753084040092521\n",
        "1, 2, 3-gram backoff:"
       ]
      },
      {
       "output_type": "stream",
       "stream": "stdout",
       "text": [
        " 0.9330185042405551\n",
        "2-char prefix:"
       ]
      },
      {
       "output_type": "stream",
       "stream": "stdout",
       "text": [
        " 0.11054356206630686\n",
        "3-char prefix:"
       ]
      },
      {
       "output_type": "stream",
       "stream": "stdout",
       "text": [
        " 0.13405936777178104\n",
        "4-char prefix:"
       ]
      },
      {
       "output_type": "stream",
       "stream": "stdout",
       "text": [
        " 0.13483037779491133\n",
        "2-char suffix:"
       ]
      },
      {
       "output_type": "stream",
       "stream": "stdout",
       "text": [
        " 0.11054356206630686\n",
        "3-char suffix:"
       ]
      },
      {
       "output_type": "stream",
       "stream": "stdout",
       "text": [
        " 0.13405936777178104\n",
        "4-char suffix:"
       ]
      },
      {
       "output_type": "stream",
       "stream": "stdout",
       "text": [
        " 0.13483037779491133\n",
        "5-char suffix:"
       ]
      },
      {
       "output_type": "stream",
       "stream": "stdout",
       "text": [
        " 0.11690439475713184\n",
        "6-char suffix:"
       ]
      },
      {
       "output_type": "stream",
       "stream": "stdout",
       "text": [
        " 0.08519660755589822\n",
        "TnT:"
       ]
      },
      {
       "output_type": "stream",
       "stream": "stdout",
       "text": [
        " 0.9449691595990748\n"
       ]
      }
     ],
     "prompt_number": 3
    },
    {
     "cell_type": "code",
     "collapsed": false,
     "input": [
      "final_accuracies_list = []\n",
      "mean_accuracy_unigram = mean(unigram_accuracies)\n",
      "standard_deviation_unigram = stdev(unigram_accuracies)\n",
      "uni = {'unigram': {'mean': mean_accuracy_unigram, 'sd': standard_deviation_unigram}}\n",
      "final_accuracies_list.append(uni)\n",
      "\n",
      "mean_accuracy_bigram = mean(bigram_accuracies)\n",
      "standard_deviation_bigram = stdev(bigram_accuracies)\n",
      "bi = {'bigram': {'mean': mean_accuracy_bigram, 'sd': standard_deviation_bigram}}\n",
      "final_accuracies_list.append(bi)\n",
      "\n",
      "mean_accuracy_trigram = mean(trigram_accuracies)\n",
      "standard_deviation_trigram = stdev(trigram_accuracies)\n",
      "tri = {'trigram': {'mean': mean_accuracy_trigram, 'sd': standard_deviation_trigram}}\n",
      "final_accuracies_list.append(tri)\n",
      "\n",
      "mean_accuracy_backoff = mean(backoff_accuracies)\n",
      "standard_deviation_backoff = stdev(backoff_accuracies)\n",
      "back = {'1, 2, 3-gram backoff': {'mean': mean_accuracy_backoff, 'sd': standard_deviation_backoff}}\n",
      "final_accuracies_list.append(back)\n",
      "\n",
      "mean_accuracy_two_prefix = mean(two_prefix_accuracies)\n",
      "standard_deviation_two_prefix = stdev(two_prefix_accuracies)\n",
      "two_pre = {'2 prefix': {'mean': mean_accuracy_two_prefix, 'sd': standard_deviation_two_prefix}}\n",
      "final_accuracies_list.append(two_pre)\n",
      "\n",
      "mean_accuracy_three_prefix = mean(three_prefix_accuracies)\n",
      "standard_deviation_three_prefix = stdev(three_prefix_accuracies)\n",
      "three_pre = {'3 prefix': {'mean': mean_accuracy_three_prefix, 'sd': standard_deviation_three_prefix}}\n",
      "final_accuracies_list.append(three_pre)\n",
      "\n",
      "mean_accuracy_four_prefix = mean(four_prefix_accuracies)\n",
      "standard_deviation_four_prefix = stdev(four_prefix_accuracies)\n",
      "four_pre = {'4 prefix': {'mean': mean_accuracy_four_prefix, 'sd': standard_deviation_four_prefix}}\n",
      "final_accuracies_list.append(four_pre)\n",
      "\n",
      "mean_accuracy_two_suffix = mean(two_suffix_accuracies)\n",
      "standard_deviation_two_suffix = stdev(two_suffix_accuracies)\n",
      "two_suff= {'2 suffix': {'mean': mean_accuracy_two_suffix, 'sd': standard_deviation_two_suffix}}\n",
      "final_accuracies_list.append(two_suff)\n",
      "\n",
      "mean_accuracy_three_suffix = mean(three_suffix_accuracies)\n",
      "standard_deviation_three_suffix = stdev(three_suffix_accuracies)\n",
      "three_suff = {'3 suffix': {'mean': mean_accuracy_three_suffix, 'sd': standard_deviation_three_suffix}}\n",
      "final_accuracies_list.append(three_suff)\n",
      "\n",
      "mean_accuracy_four_suffix = mean(four_suffix_accuracies)\n",
      "standard_deviation_four_suffix = stdev(four_suffix_accuracies)\n",
      "four_suff = {'4 suffix': {'mean': mean_accuracy_four_suffix, 'sd': standard_deviation_four_suffix}}\n",
      "final_accuracies_list.append(four_suff)\n",
      "\n",
      "mean_accuracy_five_suffix = mean(five_suffix_accuracies)\n",
      "standard_deviation_five_suffix = stdev(five_suffix_accuracies)\n",
      "five_suff = {'5 suffix': {'mean': mean_accuracy_five_suffix, 'sd': standard_deviation_five_suffix}}\n",
      "final_accuracies_list.append(five_suff)\n",
      "\n",
      "mean_accuracy_six_suffix = mean(six_suffix_accuracies)\n",
      "standard_deviation_six_suffix = stdev(six_suffix_accuracies)\n",
      "six_suff = {'6 suffix': {'mean': mean_accuracy_six_suffix, 'sd': standard_deviation_six_suffix}}\n",
      "final_accuracies_list.append(six_suff)\n",
      "\n",
      "mean_accuracy_tnt = mean(tnt_accuracies)\n",
      "standard_deviation_tnt = stdev(tnt_accuracies)\n",
      "tnt = {'tnt': {'mean': mean_accuracy_tnt, 'sd': standard_deviation_tnt}}\n",
      "final_accuracies_list.append(tnt)"
     ],
     "language": "python",
     "metadata": {},
     "outputs": [],
     "prompt_number": 26
    },
    {
     "cell_type": "code",
     "collapsed": false,
     "input": [
      "final_dict = {}\n",
      "for x in final_accuracies_list:\n",
      "    final_dict.update(x)\n",
      "\n",
      "df = pd.DataFrame(final_dict)\n",
      "df"
     ],
     "language": "python",
     "metadata": {},
     "outputs": [
      {
       "html": [
        "<div style=\"max-height:1000px;max-width:1500px;overflow:auto;\">\n",
        "<table border=\"1\" class=\"dataframe\">\n",
        "  <thead>\n",
        "    <tr style=\"text-align: right;\">\n",
        "      <th></th>\n",
        "      <th>1, 2, 3-gram backoff</th>\n",
        "      <th>2 prefix</th>\n",
        "      <th>2 suffix</th>\n",
        "      <th>3 prefix</th>\n",
        "      <th>3 suffix</th>\n",
        "      <th>4 prefix</th>\n",
        "      <th>4 suffix</th>\n",
        "      <th>5 suffix</th>\n",
        "      <th>6 suffix</th>\n",
        "      <th>bigram</th>\n",
        "      <th>tnt</th>\n",
        "      <th>trigram</th>\n",
        "      <th>unigram</th>\n",
        "    </tr>\n",
        "  </thead>\n",
        "  <tbody>\n",
        "    <tr>\n",
        "      <th>mean</th>\n",
        "      <td> 0.942375</td>\n",
        "      <td> 0.109222</td>\n",
        "      <td> 0.109222</td>\n",
        "      <td> 0.137349</td>\n",
        "      <td> 0.137349</td>\n",
        "      <td> 0.135367</td>\n",
        "      <td> 0.135367</td>\n",
        "      <td> 0.120363</td>\n",
        "      <td> 0.094180</td>\n",
        "      <td> 0.607023</td>\n",
        "      <td> 0.951578</td>\n",
        "      <td> 0.690828</td>\n",
        "      <td> 0.851957</td>\n",
        "    </tr>\n",
        "    <tr>\n",
        "      <th>sd</th>\n",
        "      <td> 0.006851</td>\n",
        "      <td> 0.002249</td>\n",
        "      <td> 0.002249</td>\n",
        "      <td> 0.002642</td>\n",
        "      <td> 0.002642</td>\n",
        "      <td> 0.002563</td>\n",
        "      <td> 0.002563</td>\n",
        "      <td> 0.003613</td>\n",
        "      <td> 0.004038</td>\n",
        "      <td> 0.018504</td>\n",
        "      <td> 0.005047</td>\n",
        "      <td> 0.028856</td>\n",
        "      <td> 0.005064</td>\n",
        "    </tr>\n",
        "  </tbody>\n",
        "</table>\n",
        "</div>"
       ],
       "metadata": {},
       "output_type": "pyout",
       "prompt_number": 27,
       "text": [
        "      1, 2, 3-gram backoff  2 prefix  2 suffix  3 prefix  3 suffix  4 prefix  \\\n",
        "mean              0.942375  0.109222  0.109222  0.137349  0.137349  0.135367   \n",
        "sd                0.006851  0.002249  0.002249  0.002642  0.002642  0.002563   \n",
        "\n",
        "      4 suffix  5 suffix  6 suffix    bigram       tnt   trigram   unigram  \n",
        "mean  0.135367  0.120363  0.094180  0.607023  0.951578  0.690828  0.851957  \n",
        "sd    0.002563  0.003613  0.004038  0.018504  0.005047  0.028856  0.005064  "
       ]
      }
     ],
     "prompt_number": 27
    }
   ],
   "metadata": {}
  }
 ]
}